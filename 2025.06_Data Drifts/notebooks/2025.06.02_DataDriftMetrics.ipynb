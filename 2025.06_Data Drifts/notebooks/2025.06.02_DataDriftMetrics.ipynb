{
 "cells": [
  {
   "cell_type": "markdown",
   "metadata": {},
   "source": [
    "<center> Data Drifts"
   ]
  },
  {
   "cell_type": "markdown",
   "metadata": {},
   "source": [
    "# PSI visualization"
   ]
  },
  {
   "cell_type": "markdown",
   "metadata": {},
   "source": [
    "### Принятые границы значений PSI:\n",
    "- `< 0.1`: Нет значимого дрейфа (данные стабильны)\n",
    "- `0.1 – 0.25`: Возможен дрейф\n",
    "- `> 0.25`: Сильный дрейф"
   ]
  },
  {
   "cell_type": "code",
   "execution_count": 1,
   "metadata": {},
   "outputs": [],
   "source": [
    "import numpy as np\n",
    "from scipy.stats import skewnorm\n",
    "import matplotlib.pyplot as plt\n",
    "from matplotlib.axes import Axes\n",
    "from ipywidgets import interact, FloatSlider, IntSlider, Layout, Dropdown\n",
    "from typing import Literal"
   ]
  },
  {
   "cell_type": "code",
   "execution_count": 2,
   "metadata": {},
   "outputs": [],
   "source": [
    "def feature_generator (mean_: float, std_: float, size: int, distribution: Literal[\"normal\", \"skewed\"] = \"normal\", **kwargs):\n",
    "    \"\"\" \n",
    "    Генератор ряда значений фичи\n",
    "    \"\"\"\n",
    "    np.random.seed(0)\n",
    "    if distribution == \"normal\":\n",
    "        return np.random.normal(loc=mean_, scale=std_, size=size)\n",
    "    \n",
    "    elif distribution == \"skewed\":\n",
    "        return np.array(skewnorm.rvs(a=kwargs.get(\"skew\"), loc=mean_, scale=std_, size=size))"
   ]
  },
  {
   "cell_type": "markdown",
   "metadata": {},
   "source": [
    "# Population Stability Index"
   ]
  },
  {
   "cell_type": "code",
   "execution_count": 3,
   "metadata": {},
   "outputs": [],
   "source": [
    "class PSI:\n",
    "    def __init__(\n",
    "        self,\n",
    "        distribution: Literal[\"normal\", \"skewed\"],\n",
    "        n_batches: int,\n",
    "        train_mean: float,\n",
    "        train_std: float,\n",
    "        train_size: int,\n",
    "        current_mean: float,\n",
    "        current_std: float,\n",
    "        current_size: int,\n",
    "        **kwargs\n",
    "    ):\n",
    "        self.distribution = distribution\n",
    "        self.n_batches = n_batches\n",
    "        self.train_mean = train_mean\n",
    "        self.train_std = train_std\n",
    "        self.train_size = train_size\n",
    "        self.current_mean = current_mean\n",
    "        self.current_std = current_std\n",
    "        self.current_size = current_size\n",
    "        self.train = feature_generator (self.train_mean, self.train_std, self.train_size)\n",
    "        self.current = feature_generator (self.current_mean, self.current_std, self.current_size, self.distribution, **kwargs)\n",
    "        self.bins = np.linspace (\n",
    "            start = min(self.train),\n",
    "            stop = max(self.train),\n",
    "            num = self.n_batches + 1\n",
    "        )\n",
    "\n",
    "        self.train_ratio = self.calculate_ratio (self.train, self.bins)\n",
    "        self.current_ratio = self.calculate_ratio (self.current, self.bins)\n",
    "        self.value = self.calculate_psi(self.train_ratio, self.current_ratio)\n",
    "\n",
    "    def __call__(self) -> float:\n",
    "        return self.value\n",
    "    \n",
    "    def calculate_ratio (self, data: np.ndarray, bins: np.ndarray) -> np.ndarray:\n",
    "        \"\"\" \n",
    "        Вычисляет долю наблюдений в каждом бине с защитой от нулевых значений.\n",
    "        Параметры:\n",
    "        ----------\n",
    "        - data: Одномерный массив данных, для которого нужно рассчитать доли вхождений по бинам.\n",
    "        - bins: массив бинов (интервалов) для разбиения диапазона значений.\n",
    "\n",
    "        Возвращает:\n",
    "        ----------\n",
    "        - массив нормированных долей по каждому бину, в котором нули заменены на 1e-6 (защита от логарифма нуля).\n",
    "        \"\"\"\n",
    "        counts, _ = np.histogram(data, bins= bins, density=False)\n",
    "        train_ratio = counts / len(data)\n",
    "        zero_protected = np.clip(train_ratio, 1e-6, None)\n",
    "        return zero_protected  \n",
    "\n",
    "    @staticmethod\n",
    "    def calculate_psi (train_ratio, current_ratio) -> float:\n",
    "        \"\"\" \n",
    "        Векторный расчет PSI\n",
    "\n",
    "        Параметры:\n",
    "        ---------\n",
    "        - train_ration: массив нормированных долей по каждому бину в ОБУЧАЮЩЕЙ ВЫБОРКЕ. Число элементов в массиве определено числом бинов\n",
    "        - current_ratio: массив нормированных долей по каждому бину в ТЕКУЩЕЙ ВЫБОРКЕ. Число элементов в массиве определено числом бинов\n",
    "        \"\"\"\n",
    "        psi_values = (train_ratio - current_ratio) * np.log(train_ratio / current_ratio)\n",
    "        return np.sum(psi_values)\n",
    "\n"
   ]
  },
  {
   "cell_type": "markdown",
   "metadata": {},
   "source": [
    "# Wasserstein distance"
   ]
  },
  {
   "cell_type": "code",
   "execution_count": 4,
   "metadata": {},
   "outputs": [],
   "source": [
    "class Wasserstein:\n",
    "    def __init__(\n",
    "            self,\n",
    "            distribution: Literal[\"normal\", \"skewed\"],\n",
    "            train_mean: float,\n",
    "            train_std: float,\n",
    "            train_size: int,\n",
    "            current_mean: float,\n",
    "            current_std: float,\n",
    "            current_size: int,\n",
    "            **kwargs\n",
    "        ):\n",
    "            self.distribution = distribution\n",
    "            self.train_mean = train_mean\n",
    "            self.train_std = train_std\n",
    "            self.train_size = train_size\n",
    "            self.current_mean = current_mean\n",
    "            self.current_std = current_std\n",
    "            self.current_size = current_size\n",
    "\n",
    "            self.train = feature_generator (self.train_mean, self.train_std, self.train_size)\n",
    "            self.current = feature_generator (self.current_mean, self.current_std, self.current_size, self.distribution, **kwargs)\n",
    "            self.common_x = self.make_common_space()\n",
    "\n",
    "            # Эмпирическая функция распределения -> ЕCDF\n",
    "            self.train_iecdf = self.make_iecdf(self.train, self.common_x)\n",
    "            self.current_iecdf = self.make_iecdf(self.current, self.common_x)\n",
    "            self.value = self.wasserstein()\n",
    "            self.value_norm = self.wasserstein_norm()\n",
    "            \n",
    "    def __call__(self) -> float:\n",
    "        return self.value_norm\n",
    "    \n",
    "    def make_common_space (self):\n",
    "        \"\"\" \n",
    "        Возвращает массив равномерно распределенных точек в диапазоне от 0 до 1.\n",
    "        Число элементов в массиве соответствует наибольшей выборке (из двух) \n",
    "        \"\"\"\n",
    "        return np.linspace(0, 1, max(self.current_size, self.train_size))\n",
    "\n",
    "    @staticmethod\n",
    "    def make_iecdf (data: np.ndarray, common_x: np.ndarray):\n",
    "        \"\"\" \n",
    "        Возвращает значения квантильной функции (inverse ECDF (empirical cumulative distribution function)).\n",
    "        - В условиях нашей задачи это нужно, чтобы \"достроить\" недостающие значения обеим выборкам так, чтобы они легли на одну OX и полностью ее заполнили.\n",
    "        - Это даст 2 IECDF, по которым можно будет посчитать интеграл разницы.\n",
    "\n",
    "        Логика:\n",
    "        - np.interp: функция интерполяции. Принимает:\n",
    "            - x: массив значений аргумента, ДЛЯ КОТОРЫХ нужно вернуть значения функции\n",
    "            - xp: массив значений аргумента, для которых ИЗВЕСТНЫ значения функции\n",
    "            - fp: массив ИЗВЕСТНЫХ значений функции\n",
    "        \"\"\"\n",
    "        return np.interp(\n",
    "            x = common_x, \n",
    "            xp = np.linspace(0, 1, len(data), endpoint=False),\n",
    "            fp = np.sort(data)\n",
    "            )\n",
    "        \n",
    "    def wasserstein (self):\n",
    "        \"\"\" \n",
    "        Благодаря тому, что на предыдущем шаге рассчитаны обратные CDF, теперь есть 2 массива квантилей от 0 до 1 с соответствующими значениями.\n",
    "        Т.к. площадь считается на всем интервале вероятностей (от 0 до 1), то интегрирование сводится к рассчету среднего значения по OY, \n",
    "            что в приближении равно просто среднему значению разницы квантильных функций двух распределений. \n",
    "        \"\"\"\n",
    "        return np.mean(np.abs(self.train_iecdf - self.current_iecdf))\n",
    "\n",
    "    def wasserstein_norm (self):\n",
    "        \"\"\" \n",
    "        Нормализует расстояние по диапазону значений фичи\n",
    "        \"\"\"\n",
    "        scale = max(self.train.max(), self.current.max()) - min(self.train.min(), self.current.min())\n",
    "        return self.value / scale if scale else 0.0"
   ]
  },
  {
   "cell_type": "markdown",
   "metadata": {},
   "source": [
    "# Функция визуализации"
   ]
  },
  {
   "cell_type": "code",
   "execution_count": 15,
   "metadata": {},
   "outputs": [],
   "source": [
    "\n",
    "class Visualizer:\n",
    "    def __init__(self, **kwargs):\n",
    "        self.psi = PSI(**kwargs)\n",
    "        self.wass = Wasserstein(**kwargs) \n",
    "\n",
    "    def plot_psi(self, ax: Axes):\n",
    "        psi_value = self.psi()\n",
    "        ax.bar([\"PSI\"], [psi_value], color='skyblue')\n",
    "        ax.set_ylim(-0.5, 50)\n",
    "        ax.axhline(0.25, color='red', linestyle='--', label='PSI = 0.25 - порог значительного дрифта')\n",
    "        ax.text(0, psi_value + 0.2, f'{psi_value:.4f}', ha='center', va='bottom', fontsize=12, fontweight='bold', color='black')\n",
    "        ax.set_title(\"PSI (Population Stability Index)\")\n",
    "        ax.set_ylim(0, 20)\n",
    "        ax.legend()\n",
    "\n",
    "    def plot_psi_bins (self, ax: Axes):\n",
    "        bin_centers = (self.psi.bins[:-1] + self.psi.bins[1:]) / 2\n",
    "        width = (self.psi.bins[1] - self.psi.bins[0]) * 0.4  # ширина столбиков\n",
    "        ax.bar(bin_centers - width / 2, self.psi.train_ratio, width=width, label='Train', alpha=0.7, color='skyblue')\n",
    "        ax.bar(bin_centers + width / 2, self.psi.current_ratio, width=width, label='Current', alpha=0.7, color='orange')\n",
    "        ax.set_title(\"Доли по бинам (для PSI)\")\n",
    "        ax.set_xlabel(\"Значения признака (по бинам)\")\n",
    "        ax.set_ylabel(\"Доля наблюдений\")\n",
    "        ax.grid(True, linestyle='--', alpha=0.3)\n",
    "        ax.legend()\n",
    "\n",
    "    def plot_wasserstein (self,  ax: Axes):\n",
    "        value = self.wass()\n",
    "        ax.bar([\"W1\"], [value], color='lightgreen')\n",
    "        ax.axhline(0, color='gray', linestyle='--')\n",
    "        ax.axhline(0.1, color='red', linestyle='--', label='EMD = 0.1 - порог значительного дрифта')\n",
    "        ax.text(0, value + 0.02, f'{value:.4f}', ha='center', va='bottom', fontsize=12, fontweight='bold', color='black')\n",
    "        ax.set_title(\"W1 (Wasserstein distance) / EMD (Earth Mover's Distance)\")\n",
    "        ax.set_ylim(0, 1)\n",
    "        ax.legend()\n",
    "    \n",
    "    def plot_wasserstein_geom (self, ax: Axes,**kwargs):       \n",
    "        ax.plot(self.wass.common_x, self.wass.train_iecdf, label='Train IECDF', color='blue')\n",
    "        ax.plot(self.wass.common_x, self.wass.current_iecdf, label='Current IECDF', color='orange')\n",
    "        ax.fill_between(self.wass.common_x, self.wass.train_iecdf, self.wass.current_iecdf, color='lightcoral', alpha=0.4, label='|Train - Current|')\n",
    "        ax.set_title(\"Разность IECDF двух выборок\")\n",
    "        ax.set_xlabel(\"Probability (quantiles)\")\n",
    "        ax.set_ylabel(\"Feature value\")\n",
    "        ax.grid(True)\n",
    "        ax.legend()\n",
    "\n",
    "\n",
    "    def visualize (self, **kwargs):\n",
    "        \"\"\" \n",
    "        Функция визуализации\n",
    "        \"\"\"\n",
    "        _, axs = plt.subplots(2, 2, figsize=(20, 8), gridspec_kw={\"width_ratios\": [1, 2]})\n",
    "\n",
    "        # Верхний ряд: PSI\n",
    "        ax1, ax2 = axs[0]\n",
    "        self.plot_psi(ax1)\n",
    "        # self.plot_psi_dependency(ax2, **kwargs)\n",
    "        self.plot_psi_bins(ax2)\n",
    "\n",
    "        # Нижний ряд: Wasserstein\n",
    "        ax3, ax4 = axs[1]\n",
    "        self.plot_wasserstein(ax3)\n",
    "        self.plot_wasserstein_geom(ax4)\n",
    "\n",
    "        plt.tight_layout()\n",
    "        plt.show()\n"
   ]
  },
  {
   "cell_type": "code",
   "execution_count": 16,
   "metadata": {},
   "outputs": [
    {
     "data": {
      "application/vnd.jupyter.widget-view+json": {
       "model_id": "23c8516c2e3f41499affa784aae4c5cb",
       "version_major": 2,
       "version_minor": 0
      },
      "text/plain": [
       "interactive(children=(Dropdown(description='Распределение:', options=('normal', 'skewed'), value='normal'), In…"
      ]
     },
     "metadata": {},
     "output_type": "display_data"
    },
    {
     "data": {
      "text/plain": [
       "<function __main__.run_visualizer(**kwargs)>"
      ]
     },
     "execution_count": 16,
     "metadata": {},
     "output_type": "execute_result"
    }
   ],
   "source": [
    "l = Layout(width='1000px')\n",
    "style = {'description_width': '200px'}\n",
    "\n",
    "def run_visualizer (**kwargs):\n",
    "    viz = Visualizer(**kwargs)\n",
    "    return viz.visualize(**kwargs)\n",
    "\n",
    "interact(\n",
    "    run_visualizer,\n",
    "    distribution = Dropdown(options=['normal', 'skewed'],value='normal', description='Распределение:'),\n",
    "    skew = IntSlider(value=10, min=-10, max=10, step=1, description='Смещение распределения', layout = l, style = style),\n",
    "\n",
    "    n_batches = IntSlider(value=10, min=5, max=100, step=1, description='ЧИСЛО БИНОВ', layout = l, style = style),\n",
    "    \n",
    "    train_size = IntSlider(value=1000, min=1000, max=100000, step=100, description='TRAIN: размер выборки', layout = l, style = style),\n",
    "    current_size = IntSlider(value=1000, min=1000, max=100000, step=100, description='CURRENT: размер выборки', layout = l, style = style),\n",
    "    \n",
    "    train_mean = FloatSlider(value=1.0, min=0, max=100.0, step=1.0, description='TRAIN: среднее', layout = l, style = style),\n",
    "    current_mean = FloatSlider(value=1.0, min=0, max=100.0, step=1.0, description='CURRENT: среднее', layout = l, style = style),\n",
    "    \n",
    "    train_std = FloatSlider(value=1.0, min=0.01, max=10.0, step=0.1, description='TRAIN: стандартное отклонение', layout = l, style = style),\n",
    "    current_std = FloatSlider(value=1.0, min=0.01, max=10.0, step=0.1, description='CURRENT: стандартное отклонение', layout = l, style = style),\n",
    ")\n"
   ]
  },
  {
   "cell_type": "markdown",
   "metadata": {},
   "source": [
    "# DEV"
   ]
  }
 ],
 "metadata": {
  "kernelspec": {
   "display_name": ".venv",
   "language": "python",
   "name": "python3"
  },
  "language_info": {
   "codemirror_mode": {
    "name": "ipython",
    "version": 3
   },
   "file_extension": ".py",
   "mimetype": "text/x-python",
   "name": "python",
   "nbconvert_exporter": "python",
   "pygments_lexer": "ipython3",
   "version": "3.11.0"
  }
 },
 "nbformat": 4,
 "nbformat_minor": 2
}
