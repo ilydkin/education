{
 "cells": [
  {
   "cell_type": "markdown",
   "metadata": {},
   "source": [
    "<center> Data Drifts"
   ]
  },
  {
   "cell_type": "markdown",
   "metadata": {},
   "source": [
    "# PSI visualization"
   ]
  },
  {
   "cell_type": "markdown",
   "metadata": {},
   "source": [
    "### Принятые границы значений PSI:\n",
    "- `< 0.1`: Нет значимого дрейфа (данные стабильны)\n",
    "- `0.1 – 0.25`: Возможен дрейф\n",
    "- `> 0.25`: Сильный дрейф"
   ]
  },
  {
   "cell_type": "code",
   "execution_count": 1,
   "metadata": {},
   "outputs": [],
   "source": [
    "import numpy as np\n",
    "import matplotlib.pyplot as plt\n",
    "from ipywidgets import interact, FloatSlider, IntSlider, Layout"
   ]
  },
  {
   "cell_type": "code",
   "execution_count": 6,
   "metadata": {},
   "outputs": [],
   "source": [
    "def plot_update(func):\n",
    "    \"\"\" \n",
    "    Декоратор визуализации\n",
    "    \"\"\"\n",
    "    def wrapper (*args, **kwargs): \n",
    "        _, ax = plt.subplots(figsize=(6, 4))\n",
    "        \n",
    "        value = func(*args, **kwargs)\n",
    "        ax.bar(['PSI'], [value], color='skyblue')\n",
    "        ax.set_ylim(-0.5, 50)\n",
    "        ax.axhline(0, color='gray', linestyle='--')\n",
    "        ax.text(0, value + 0.2, f'{value:.4f}', ha='center', va='bottom', fontsize=12, fontweight='bold', color='black')\n",
    "        plt.show()\n",
    "    return wrapper\n",
    "\n",
    "def feature_generator (mean_:  float, std_: float, size: int):\n",
    "    \"\"\" \n",
    "    Генератор нормально распределенного ряда значений фичи\n",
    "    \"\"\"\n",
    "    np.random.seed(0)\n",
    "    return np.random.normal(loc=mean_, scale=std_, size=size,)\n",
    "\n",
    "def calculate_ratio (data: np.ndarray, bins: np.ndarray) -> np.ndarray:\n",
    "    \"\"\" \n",
    "    Вычисляет долю наблюдений в каждом бине с защитой от нулевых значений.\n",
    "    Параметры:\n",
    "    ----------\n",
    "    - data: Одномерный массив данных, для которого нужно рассчитать доли вхождений по бинам.\n",
    "    - bins: массив бинов (интервалов) для разбиения диапазона значений.\n",
    "\n",
    "    Возвращает:\n",
    "    ----------\n",
    "    - массив нормированных долей по каждому бину, в котором нули заменены на 1e-6 (защита от логарифма нуля).\n",
    "    \"\"\"\n",
    "    counts, _ = np.histogram(data, bins= bins, density=False)\n",
    "    train_ratio = counts / len(data)\n",
    "    zero_protected = np.clip(train_ratio, 1e-6, None)\n",
    "    return zero_protected\n",
    "\n",
    "\n",
    "@plot_update\n",
    "def psi (\n",
    "    n_batches: int,\n",
    "    train_mean: float, \n",
    "    train_std: float, \n",
    "    train_size: int,\n",
    "    current_mean: float, \n",
    "    current_std: float, \n",
    "    current_size: int\n",
    "    ):\n",
    "    \"\"\" \n",
    "    Расчет PSI по формуле\n",
    "    \"\"\"\n",
    "    train = feature_generator (train_mean, train_std, train_size)\n",
    "    current = feature_generator (current_mean, current_std, current_size)\n",
    "    \n",
    "    bins = np.linspace (\n",
    "        start = min(min(train), min(current)),\n",
    "        stop = max(max(train), max(current)),\n",
    "        num = n_batches+1\n",
    "    )        \n",
    "    \n",
    "    train_ratio = calculate_ratio (train, bins)\n",
    "    current_ratio = calculate_ratio (current, bins)\n",
    "    psi_values = (train_ratio - current_ratio) * np.log(train_ratio / current_ratio)\n",
    "\n",
    "    return np.sum(psi_values)\n"
   ]
  },
  {
   "cell_type": "code",
   "execution_count": 8,
   "metadata": {},
   "outputs": [
    {
     "data": {
      "application/vnd.jupyter.widget-view+json": {
       "model_id": "8395f39ddff949dda2e2107e38562683",
       "version_major": 2,
       "version_minor": 0
      },
      "text/plain": [
       "interactive(children=(IntSlider(value=10, description='ЧИСЛО БИНОВ', layout=Layout(width='1500px'), min=5, sty…"
      ]
     },
     "metadata": {},
     "output_type": "display_data"
    },
    {
     "data": {
      "text/plain": [
       "<function __main__.plot_update.<locals>.wrapper(*args, **kwargs)>"
      ]
     },
     "execution_count": 8,
     "metadata": {},
     "output_type": "execute_result"
    }
   ],
   "source": [
    "l = Layout(width='1500px')\n",
    "style = {'description_width': '200px'}\n",
    "\n",
    "interact(\n",
    "    psi,\n",
    "    n_batches = IntSlider(value=10, min=5, max=100, step=1, description='ЧИСЛО БИНОВ', layout = l, style = style),\n",
    "    \n",
    "    train_size = IntSlider(value=1000, min=1000, max=100000, step=100, description='TRAIN: размер выборки', layout = l, style = style),\n",
    "    current_size = IntSlider(value=1000, min=1000, max=100000, step=100, description='CURRENT: размер выборки', layout = l, style = style),\n",
    "    \n",
    "    train_mean = FloatSlider(value=1.0, min=0, max=100.0, step=1.0, description='TRAIN: среднее', layout = l, style = style),\n",
    "    current_mean = FloatSlider(value=1.0, min=0, max=100.0, step=1.0, description='CURRENT: среднее', layout = l, style = style),\n",
    "    \n",
    "    train_std = FloatSlider(value=1.0, min=0.01, max=10.0, step=0.1, description='TRAIN: стандартное отклонение', layout = l, style = style),\n",
    "    current_std = FloatSlider(value=1.0, min=0.01, max=10.0, step=0.1, description='CURRENT: стандартное отклонение', layout = l, style = style),\n",
    ")\n"
   ]
  },
  {
   "cell_type": "code",
   "execution_count": null,
   "metadata": {},
   "outputs": [],
   "source": []
  }
 ],
 "metadata": {
  "kernelspec": {
   "display_name": ".venv",
   "language": "python",
   "name": "python3"
  },
  "language_info": {
   "codemirror_mode": {
    "name": "ipython",
    "version": 3
   },
   "file_extension": ".py",
   "mimetype": "text/x-python",
   "name": "python",
   "nbconvert_exporter": "python",
   "pygments_lexer": "ipython3",
   "version": "3.11.0"
  }
 },
 "nbformat": 4,
 "nbformat_minor": 2
}
