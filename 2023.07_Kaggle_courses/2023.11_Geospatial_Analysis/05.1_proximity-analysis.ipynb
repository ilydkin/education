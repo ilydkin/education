{
 "cells": [
  {
   "cell_type": "markdown",
   "id": "7a02d969",
   "metadata": {
    "papermill": {
     "duration": 0.006621,
     "end_time": "2023-04-20T20:47:40.707710",
     "exception": false,
     "start_time": "2023-04-20T20:47:40.701089",
     "status": "completed"
    },
    "tags": []
   },
   "source": [
    "# Introduction\n",
    "\n",
    "In this tutorial, you'll explore several techniques for **proximity analysis**.  In particular, you'll learn how to do such things as:\n",
    "- measure the distance between points on a map, and\n",
    "- select all points within some radius of a feature."
   ]
  },
  {
   "cell_type": "code",
   "execution_count": 1,
   "id": "af85c788",
   "metadata": {
    "_kg_hide-input": true,
    "execution": {
     "iopub.execute_input": "2023-04-20T20:47:40.721347Z",
     "iopub.status.busy": "2023-04-20T20:47:40.720873Z",
     "iopub.status.idle": "2023-04-20T20:47:41.976893Z",
     "shell.execute_reply": "2023-04-20T20:47:41.975387Z"
    },
    "papermill": {
     "duration": 1.266922,
     "end_time": "2023-04-20T20:47:41.980319",
     "exception": false,
     "start_time": "2023-04-20T20:47:40.713397",
     "status": "completed"
    },
    "tags": []
   },
   "outputs": [
    {
     "name": "stderr",
     "output_type": "stream",
     "text": [
      "/opt/conda/lib/python3.7/site-packages/geopandas/_compat.py:115: UserWarning: The Shapely GEOS version (3.9.1-CAPI-1.14.2) is incompatible with the GEOS version PyGEOS was compiled with (3.10.4-CAPI-1.16.2). Conversions between both will be slow.\n",
      "  shapely_geos_version, geos_capi_version_string\n"
     ]
    }
   ],
   "source": [
    "\n",
    "import folium\n",
    "from folium import Marker, GeoJson\n",
    "from folium.plugins import HeatMap\n",
    "\n",
    "import pandas as pd\n",
    "import geopandas as gpd"
   ]
  },
  {
   "cell_type": "markdown",
   "id": "20081906",
   "metadata": {
    "papermill": {
     "duration": 0.005341,
     "end_time": "2023-04-20T20:47:41.991938",
     "exception": false,
     "start_time": "2023-04-20T20:47:41.986597",
     "status": "completed"
    },
    "tags": []
   },
   "source": [
    "You'll work with a dataset from the US Environmental Protection Agency (EPA) that tracks releases of toxic chemicals in Philadelphia, Pennsylvania, USA."
   ]
  },
  {
   "cell_type": "code",
   "execution_count": 2,
   "id": "e41c9c7a",
   "metadata": {
    "execution": {
     "iopub.execute_input": "2023-04-20T20:47:42.005512Z",
     "iopub.status.busy": "2023-04-20T20:47:42.005050Z",
     "iopub.status.idle": "2023-04-20T20:47:42.672428Z",
     "shell.execute_reply": "2023-04-20T20:47:42.671115Z"
    },
    "papermill": {
     "duration": 0.677444,
     "end_time": "2023-04-20T20:47:42.675113",
     "exception": false,
     "start_time": "2023-04-20T20:47:41.997669",
     "status": "completed"
    },
    "tags": []
   },
   "outputs": [
    {
     "data": {
      "text/html": [
       "<div>\n",
       "<style scoped>\n",
       "    .dataframe tbody tr th:only-of-type {\n",
       "        vertical-align: middle;\n",
       "    }\n",
       "\n",
       "    .dataframe tbody tr th {\n",
       "        vertical-align: top;\n",
       "    }\n",
       "\n",
       "    .dataframe thead th {\n",
       "        text-align: right;\n",
       "    }\n",
       "</style>\n",
       "<table border=\"1\" class=\"dataframe\">\n",
       "  <thead>\n",
       "    <tr style=\"text-align: right;\">\n",
       "      <th></th>\n",
       "      <th>YEAR</th>\n",
       "      <th>CITY</th>\n",
       "      <th>COUNTY</th>\n",
       "      <th>ST</th>\n",
       "      <th>LATITUDE</th>\n",
       "      <th>LONGITUDE</th>\n",
       "      <th>CHEMICAL</th>\n",
       "      <th>UNIT_OF_ME</th>\n",
       "      <th>TOTAL_RELE</th>\n",
       "      <th>geometry</th>\n",
       "    </tr>\n",
       "  </thead>\n",
       "  <tbody>\n",
       "    <tr>\n",
       "      <th>0</th>\n",
       "      <td>2016</td>\n",
       "      <td>PHILADELPHIA</td>\n",
       "      <td>PHILADELPHIA</td>\n",
       "      <td>PA</td>\n",
       "      <td>40.005901</td>\n",
       "      <td>-75.072103</td>\n",
       "      <td>FORMIC ACID</td>\n",
       "      <td>Pounds</td>\n",
       "      <td>0.160</td>\n",
       "      <td>POINT (2718560.227 256380.179)</td>\n",
       "    </tr>\n",
       "    <tr>\n",
       "      <th>1</th>\n",
       "      <td>2016</td>\n",
       "      <td>PHILADELPHIA</td>\n",
       "      <td>PHILADELPHIA</td>\n",
       "      <td>PA</td>\n",
       "      <td>39.920120</td>\n",
       "      <td>-75.146410</td>\n",
       "      <td>ETHYLENE GLYCOL</td>\n",
       "      <td>Pounds</td>\n",
       "      <td>13353.480</td>\n",
       "      <td>POINT (2698674.606 224522.905)</td>\n",
       "    </tr>\n",
       "    <tr>\n",
       "      <th>2</th>\n",
       "      <td>2016</td>\n",
       "      <td>PHILADELPHIA</td>\n",
       "      <td>PHILADELPHIA</td>\n",
       "      <td>PA</td>\n",
       "      <td>40.023880</td>\n",
       "      <td>-75.220450</td>\n",
       "      <td>CERTAIN GLYCOL ETHERS</td>\n",
       "      <td>Pounds</td>\n",
       "      <td>104.135</td>\n",
       "      <td>POINT (2676833.394 261701.856)</td>\n",
       "    </tr>\n",
       "    <tr>\n",
       "      <th>3</th>\n",
       "      <td>2016</td>\n",
       "      <td>PHILADELPHIA</td>\n",
       "      <td>PHILADELPHIA</td>\n",
       "      <td>PA</td>\n",
       "      <td>39.913540</td>\n",
       "      <td>-75.198890</td>\n",
       "      <td>LEAD COMPOUNDS</td>\n",
       "      <td>Pounds</td>\n",
       "      <td>1730.280</td>\n",
       "      <td>POINT (2684030.004 221697.388)</td>\n",
       "    </tr>\n",
       "    <tr>\n",
       "      <th>4</th>\n",
       "      <td>2016</td>\n",
       "      <td>PHILADELPHIA</td>\n",
       "      <td>PHILADELPHIA</td>\n",
       "      <td>PA</td>\n",
       "      <td>39.913540</td>\n",
       "      <td>-75.198890</td>\n",
       "      <td>BENZENE</td>\n",
       "      <td>Pounds</td>\n",
       "      <td>39863.290</td>\n",
       "      <td>POINT (2684030.004 221697.388)</td>\n",
       "    </tr>\n",
       "  </tbody>\n",
       "</table>\n",
       "</div>"
      ],
      "text/plain": [
       "   YEAR          CITY        COUNTY  ST   LATITUDE  LONGITUDE  \\\n",
       "0  2016  PHILADELPHIA  PHILADELPHIA  PA  40.005901 -75.072103   \n",
       "1  2016  PHILADELPHIA  PHILADELPHIA  PA  39.920120 -75.146410   \n",
       "2  2016  PHILADELPHIA  PHILADELPHIA  PA  40.023880 -75.220450   \n",
       "3  2016  PHILADELPHIA  PHILADELPHIA  PA  39.913540 -75.198890   \n",
       "4  2016  PHILADELPHIA  PHILADELPHIA  PA  39.913540 -75.198890   \n",
       "\n",
       "                CHEMICAL UNIT_OF_ME  TOTAL_RELE  \\\n",
       "0            FORMIC ACID     Pounds       0.160   \n",
       "1        ETHYLENE GLYCOL     Pounds   13353.480   \n",
       "2  CERTAIN GLYCOL ETHERS     Pounds     104.135   \n",
       "3         LEAD COMPOUNDS     Pounds    1730.280   \n",
       "4                BENZENE     Pounds   39863.290   \n",
       "\n",
       "                         geometry  \n",
       "0  POINT (2718560.227 256380.179)  \n",
       "1  POINT (2698674.606 224522.905)  \n",
       "2  POINT (2676833.394 261701.856)  \n",
       "3  POINT (2684030.004 221697.388)  \n",
       "4  POINT (2684030.004 221697.388)  "
      ]
     },
     "execution_count": 2,
     "metadata": {},
     "output_type": "execute_result"
    }
   ],
   "source": [
    "releases = gpd.read_file(\"../input/geospatial-learn-course-data/toxic_release_pennsylvania/toxic_release_pennsylvania/toxic_release_pennsylvania.shp\") \n",
    "releases.head()"
   ]
  },
  {
   "cell_type": "markdown",
   "id": "409bdb7d",
   "metadata": {
    "papermill": {
     "duration": 0.005617,
     "end_time": "2023-04-20T20:47:42.686705",
     "exception": false,
     "start_time": "2023-04-20T20:47:42.681088",
     "status": "completed"
    },
    "tags": []
   },
   "source": [
    "You'll also work with a dataset that contains readings from air quality monitoring stations in the same city."
   ]
  },
  {
   "cell_type": "code",
   "execution_count": 3,
   "id": "e1f71ae2",
   "metadata": {
    "execution": {
     "iopub.execute_input": "2023-04-20T20:47:42.700606Z",
     "iopub.status.busy": "2023-04-20T20:47:42.700099Z",
     "iopub.status.idle": "2023-04-20T20:47:42.913084Z",
     "shell.execute_reply": "2023-04-20T20:47:42.911915Z"
    },
    "papermill": {
     "duration": 0.223621,
     "end_time": "2023-04-20T20:47:42.916257",
     "exception": false,
     "start_time": "2023-04-20T20:47:42.692636",
     "status": "completed"
    },
    "tags": []
   },
   "outputs": [
    {
     "data": {
      "text/html": [
       "<div>\n",
       "<style scoped>\n",
       "    .dataframe tbody tr th:only-of-type {\n",
       "        vertical-align: middle;\n",
       "    }\n",
       "\n",
       "    .dataframe tbody tr th {\n",
       "        vertical-align: top;\n",
       "    }\n",
       "\n",
       "    .dataframe thead th {\n",
       "        text-align: right;\n",
       "    }\n",
       "</style>\n",
       "<table border=\"1\" class=\"dataframe\">\n",
       "  <thead>\n",
       "    <tr style=\"text-align: right;\">\n",
       "      <th></th>\n",
       "      <th>SITE_NAME</th>\n",
       "      <th>ADDRESS</th>\n",
       "      <th>BLACK_CARB</th>\n",
       "      <th>ULTRAFINE_</th>\n",
       "      <th>CO</th>\n",
       "      <th>SO2</th>\n",
       "      <th>OZONE</th>\n",
       "      <th>NO2</th>\n",
       "      <th>NOY_NO</th>\n",
       "      <th>PM10</th>\n",
       "      <th>...</th>\n",
       "      <th>PAMS_VOC</th>\n",
       "      <th>TSP_11101</th>\n",
       "      <th>TSP_METALS</th>\n",
       "      <th>TSP_LEAD</th>\n",
       "      <th>TOXICS_TO1</th>\n",
       "      <th>MET</th>\n",
       "      <th>COMMUNITY_</th>\n",
       "      <th>LATITUDE</th>\n",
       "      <th>LONGITUDE</th>\n",
       "      <th>geometry</th>\n",
       "    </tr>\n",
       "  </thead>\n",
       "  <tbody>\n",
       "    <tr>\n",
       "      <th>0</th>\n",
       "      <td>LAB</td>\n",
       "      <td>1501 East Lycoming Avenue</td>\n",
       "      <td>N</td>\n",
       "      <td>N</td>\n",
       "      <td>Y</td>\n",
       "      <td>N</td>\n",
       "      <td>Y</td>\n",
       "      <td>Y</td>\n",
       "      <td>Y</td>\n",
       "      <td>N</td>\n",
       "      <td>...</td>\n",
       "      <td>Y</td>\n",
       "      <td>N</td>\n",
       "      <td>Y</td>\n",
       "      <td>N</td>\n",
       "      <td>y</td>\n",
       "      <td>N</td>\n",
       "      <td>N</td>\n",
       "      <td>40.008606</td>\n",
       "      <td>-75.097624</td>\n",
       "      <td>POINT (2711384.641 257149.310)</td>\n",
       "    </tr>\n",
       "    <tr>\n",
       "      <th>1</th>\n",
       "      <td>ROX</td>\n",
       "      <td>Eva and Dearnley Streets</td>\n",
       "      <td>N</td>\n",
       "      <td>N</td>\n",
       "      <td>N</td>\n",
       "      <td>N</td>\n",
       "      <td>N</td>\n",
       "      <td>N</td>\n",
       "      <td>N</td>\n",
       "      <td>N</td>\n",
       "      <td>...</td>\n",
       "      <td>N</td>\n",
       "      <td>N</td>\n",
       "      <td>Y</td>\n",
       "      <td>N</td>\n",
       "      <td>Y</td>\n",
       "      <td>N</td>\n",
       "      <td>N</td>\n",
       "      <td>40.050461</td>\n",
       "      <td>-75.236966</td>\n",
       "      <td>POINT (2671934.290 271248.900)</td>\n",
       "    </tr>\n",
       "    <tr>\n",
       "      <th>2</th>\n",
       "      <td>NEA</td>\n",
       "      <td>Grant Avenue and Ashton Street</td>\n",
       "      <td>N</td>\n",
       "      <td>N</td>\n",
       "      <td>N</td>\n",
       "      <td>N</td>\n",
       "      <td>Y</td>\n",
       "      <td>N</td>\n",
       "      <td>N</td>\n",
       "      <td>N</td>\n",
       "      <td>...</td>\n",
       "      <td>N</td>\n",
       "      <td>N</td>\n",
       "      <td>N</td>\n",
       "      <td>N</td>\n",
       "      <td>N</td>\n",
       "      <td>Y</td>\n",
       "      <td>N</td>\n",
       "      <td>40.072073</td>\n",
       "      <td>-75.013128</td>\n",
       "      <td>POINT (2734326.638 280980.247)</td>\n",
       "    </tr>\n",
       "    <tr>\n",
       "      <th>3</th>\n",
       "      <td>CHS</td>\n",
       "      <td>500 South Broad Street</td>\n",
       "      <td>N</td>\n",
       "      <td>N</td>\n",
       "      <td>N</td>\n",
       "      <td>N</td>\n",
       "      <td>N</td>\n",
       "      <td>N</td>\n",
       "      <td>N</td>\n",
       "      <td>N</td>\n",
       "      <td>...</td>\n",
       "      <td>N</td>\n",
       "      <td>N</td>\n",
       "      <td>Y</td>\n",
       "      <td>N</td>\n",
       "      <td>Y</td>\n",
       "      <td>N</td>\n",
       "      <td>N</td>\n",
       "      <td>39.944510</td>\n",
       "      <td>-75.165442</td>\n",
       "      <td>POINT (2693078.580 233247.101)</td>\n",
       "    </tr>\n",
       "    <tr>\n",
       "      <th>4</th>\n",
       "      <td>NEW</td>\n",
       "      <td>2861 Lewis Street</td>\n",
       "      <td>N</td>\n",
       "      <td>N</td>\n",
       "      <td>Y</td>\n",
       "      <td>Y</td>\n",
       "      <td>Y</td>\n",
       "      <td>N</td>\n",
       "      <td>Y</td>\n",
       "      <td>Y</td>\n",
       "      <td>...</td>\n",
       "      <td>N</td>\n",
       "      <td>Y</td>\n",
       "      <td>N</td>\n",
       "      <td>Y</td>\n",
       "      <td>N</td>\n",
       "      <td>Y</td>\n",
       "      <td>N</td>\n",
       "      <td>39.991688</td>\n",
       "      <td>-75.080378</td>\n",
       "      <td>POINT (2716399.773 251134.976)</td>\n",
       "    </tr>\n",
       "  </tbody>\n",
       "</table>\n",
       "<p>5 rows × 24 columns</p>\n",
       "</div>"
      ],
      "text/plain": [
       "  SITE_NAME                         ADDRESS BLACK_CARB ULTRAFINE_ CO SO2  \\\n",
       "0       LAB       1501 East Lycoming Avenue          N          N  Y   N   \n",
       "1       ROX        Eva and Dearnley Streets          N          N  N   N   \n",
       "2       NEA  Grant Avenue and Ashton Street          N          N  N   N   \n",
       "3       CHS          500 South Broad Street          N          N  N   N   \n",
       "4       NEW               2861 Lewis Street          N          N  Y   Y   \n",
       "\n",
       "  OZONE NO2 NOY_NO PM10  ... PAMS_VOC TSP_11101 TSP_METALS TSP_LEAD  \\\n",
       "0     Y   Y      Y    N  ...        Y         N          Y        N   \n",
       "1     N   N      N    N  ...        N         N          Y        N   \n",
       "2     Y   N      N    N  ...        N         N          N        N   \n",
       "3     N   N      N    N  ...        N         N          Y        N   \n",
       "4     Y   N      Y    Y  ...        N         Y          N        Y   \n",
       "\n",
       "  TOXICS_TO1 MET COMMUNITY_   LATITUDE  LONGITUDE  \\\n",
       "0          y   N          N  40.008606 -75.097624   \n",
       "1          Y   N          N  40.050461 -75.236966   \n",
       "2          N   Y          N  40.072073 -75.013128   \n",
       "3          Y   N          N  39.944510 -75.165442   \n",
       "4          N   Y          N  39.991688 -75.080378   \n",
       "\n",
       "                         geometry  \n",
       "0  POINT (2711384.641 257149.310)  \n",
       "1  POINT (2671934.290 271248.900)  \n",
       "2  POINT (2734326.638 280980.247)  \n",
       "3  POINT (2693078.580 233247.101)  \n",
       "4  POINT (2716399.773 251134.976)  \n",
       "\n",
       "[5 rows x 24 columns]"
      ]
     },
     "execution_count": 3,
     "metadata": {},
     "output_type": "execute_result"
    }
   ],
   "source": [
    "stations = gpd.read_file(\"../input/geospatial-learn-course-data/PhillyHealth_Air_Monitoring_Stations/PhillyHealth_Air_Monitoring_Stations/PhillyHealth_Air_Monitoring_Stations.shp\")\n",
    "stations.head()"
   ]
  },
  {
   "cell_type": "markdown",
   "id": "76c2d7d3",
   "metadata": {
    "papermill": {
     "duration": 0.006005,
     "end_time": "2023-04-20T20:47:42.928757",
     "exception": false,
     "start_time": "2023-04-20T20:47:42.922752",
     "status": "completed"
    },
    "tags": []
   },
   "source": [
    "# Measuring distance\n",
    "\n",
    "To measure distances between points from two different GeoDataFrames, we first have to make sure that they use the same coordinate reference system (CRS).  Thankfully, this is the case here, where both use EPSG 2272."
   ]
  },
  {
   "cell_type": "code",
   "execution_count": 4,
   "id": "eb73ecd3",
   "metadata": {
    "execution": {
     "iopub.execute_input": "2023-04-20T20:47:42.943618Z",
     "iopub.status.busy": "2023-04-20T20:47:42.943038Z",
     "iopub.status.idle": "2023-04-20T20:47:42.950130Z",
     "shell.execute_reply": "2023-04-20T20:47:42.948678Z"
    },
    "papermill": {
     "duration": 0.018147,
     "end_time": "2023-04-20T20:47:42.953226",
     "exception": false,
     "start_time": "2023-04-20T20:47:42.935079",
     "status": "completed"
    },
    "tags": []
   },
   "outputs": [
    {
     "name": "stdout",
     "output_type": "stream",
     "text": [
      "PROJCS[\"NAD83_Pennsylvania_South_ftUS\",GEOGCS[\"GCS_North_American_1983\",DATUM[\"D_North_American_1983\",SPHEROID[\"GRS_1980\",6378137,298.257222101]],PRIMEM[\"Greenwich\",0],UNIT[\"Degree\",0.0174532925199433]],PROJECTION[\"Lambert_Conformal_Conic_2SP\"],PARAMETER[\"latitude_of_origin\",39.3333333333333],PARAMETER[\"central_meridian\",-77.75],PARAMETER[\"standard_parallel_1\",40.9666666666667],PARAMETER[\"standard_parallel_2\",39.9333333333333],PARAMETER[\"false_easting\",1968500],PARAMETER[\"false_northing\",0],UNIT[\"Foot_US\",0.304800609601219],AXIS[\"Easting\",EAST],AXIS[\"Northing\",NORTH]]\n",
      "PROJCS[\"NAD83_Pennsylvania_South_ftUS\",GEOGCS[\"GCS_North_American_1983\",DATUM[\"D_North_American_1983\",SPHEROID[\"GRS_1980\",6378137,298.257222101]],PRIMEM[\"Greenwich\",0],UNIT[\"Degree\",0.0174532925199433]],PROJECTION[\"Lambert_Conformal_Conic_2SP\"],PARAMETER[\"latitude_of_origin\",39.3333333333333],PARAMETER[\"central_meridian\",-77.75],PARAMETER[\"standard_parallel_1\",40.9666666666667],PARAMETER[\"standard_parallel_2\",39.9333333333333],PARAMETER[\"false_easting\",1968500],PARAMETER[\"false_northing\",0],UNIT[\"Foot_US\",0.304800609601219],AXIS[\"Easting\",EAST],AXIS[\"Northing\",NORTH]]\n"
     ]
    }
   ],
   "source": [
    "print(stations.crs)\n",
    "print(releases.crs)"
   ]
  },
  {
   "cell_type": "markdown",
   "id": "b3c1bd00",
   "metadata": {
    "papermill": {
     "duration": 0.00607,
     "end_time": "2023-04-20T20:47:42.966010",
     "exception": false,
     "start_time": "2023-04-20T20:47:42.959940",
     "status": "completed"
    },
    "tags": []
   },
   "source": [
    "We also check the CRS to see which units it uses (meters, feet, or something else).  In this case, EPSG 2272 has units of feet.  (_If you like, you can check this [here](https://epsg.io/2272)._)\n",
    "\n",
    "It's relatively straightforward to compute distances in GeoPandas.  The code cell below calculates the distance (in feet) between a relatively recent release incident in `recent_release` and every station in the `stations` GeoDataFrame."
   ]
  },
  {
   "cell_type": "code",
   "execution_count": 5,
   "id": "07fad8df",
   "metadata": {
    "execution": {
     "iopub.execute_input": "2023-04-20T20:47:42.981004Z",
     "iopub.status.busy": "2023-04-20T20:47:42.980461Z",
     "iopub.status.idle": "2023-04-20T20:47:42.994438Z",
     "shell.execute_reply": "2023-04-20T20:47:42.993247Z"
    },
    "papermill": {
     "duration": 0.024761,
     "end_time": "2023-04-20T20:47:42.997138",
     "exception": false,
     "start_time": "2023-04-20T20:47:42.972377",
     "status": "completed"
    },
    "tags": []
   },
   "outputs": [
    {
     "data": {
      "text/plain": [
       "0     44778.509761\n",
       "1     51006.456589\n",
       "2     77744.509207\n",
       "3     14672.170878\n",
       "4     43753.554393\n",
       "5      4711.658655\n",
       "6     23197.430858\n",
       "7     12072.823097\n",
       "8     79081.825506\n",
       "9      3780.623591\n",
       "10    27577.474903\n",
       "11    19818.381002\n",
       "dtype: float64"
      ]
     },
     "execution_count": 5,
     "metadata": {},
     "output_type": "execute_result"
    }
   ],
   "source": [
    "# Select one release incident in particular\n",
    "recent_release = releases.iloc[360]\n",
    "\n",
    "# Measure distance from release to each station\n",
    "distances = stations.geometry.distance(recent_release.geometry)\n",
    "distances"
   ]
  },
  {
   "cell_type": "markdown",
   "id": "98ed87f5",
   "metadata": {
    "papermill": {
     "duration": 0.006259,
     "end_time": "2023-04-20T20:47:43.010004",
     "exception": false,
     "start_time": "2023-04-20T20:47:43.003745",
     "status": "completed"
    },
    "tags": []
   },
   "source": [
    "Using the calculated distances, we can obtain statistics like the mean distance to each station."
   ]
  },
  {
   "cell_type": "code",
   "execution_count": 6,
   "id": "fe19cf10",
   "metadata": {
    "execution": {
     "iopub.execute_input": "2023-04-20T20:47:43.026509Z",
     "iopub.status.busy": "2023-04-20T20:47:43.026022Z",
     "iopub.status.idle": "2023-04-20T20:47:43.033108Z",
     "shell.execute_reply": "2023-04-20T20:47:43.031840Z"
    },
    "papermill": {
     "duration": 0.017576,
     "end_time": "2023-04-20T20:47:43.035374",
     "exception": false,
     "start_time": "2023-04-20T20:47:43.017798",
     "status": "completed"
    },
    "tags": []
   },
   "outputs": [
    {
     "name": "stdout",
     "output_type": "stream",
     "text": [
      "Mean distance to monitoring stations: 33516.28487007786 feet\n"
     ]
    }
   ],
   "source": [
    "print('Mean distance to monitoring stations: {} feet'.format(distances.mean()))"
   ]
  },
  {
   "cell_type": "markdown",
   "id": "1339ebf8",
   "metadata": {
    "papermill": {
     "duration": 0.006307,
     "end_time": "2023-04-20T20:47:43.048450",
     "exception": false,
     "start_time": "2023-04-20T20:47:43.042143",
     "status": "completed"
    },
    "tags": []
   },
   "source": [
    "Or, we can get the closest monitoring station."
   ]
  },
  {
   "cell_type": "code",
   "execution_count": 7,
   "id": "d688cc2f",
   "metadata": {
    "execution": {
     "iopub.execute_input": "2023-04-20T20:47:43.064481Z",
     "iopub.status.busy": "2023-04-20T20:47:43.063968Z",
     "iopub.status.idle": "2023-04-20T20:47:43.077028Z",
     "shell.execute_reply": "2023-04-20T20:47:43.075877Z"
    },
    "papermill": {
     "duration": 0.024928,
     "end_time": "2023-04-20T20:47:43.080134",
     "exception": false,
     "start_time": "2023-04-20T20:47:43.055206",
     "status": "completed"
    },
    "tags": []
   },
   "outputs": [
    {
     "name": "stdout",
     "output_type": "stream",
     "text": [
      "Closest monitoring station (3780.623590556444 feet):\n",
      "ADDRESS      3100 Penrose Ferry Road\n",
      "LATITUDE                    39.91279\n",
      "LONGITUDE                 -75.185448\n",
      "Name: 9, dtype: object\n"
     ]
    }
   ],
   "source": [
    "print('Closest monitoring station ({} feet):'.format(distances.min()))\n",
    "print(stations.iloc[distances.idxmin()][[\"ADDRESS\", \"LATITUDE\", \"LONGITUDE\"]])"
   ]
  },
  {
   "cell_type": "markdown",
   "id": "27b3ea8f",
   "metadata": {
    "papermill": {
     "duration": 0.006468,
     "end_time": "2023-04-20T20:47:43.093555",
     "exception": false,
     "start_time": "2023-04-20T20:47:43.087087",
     "status": "completed"
    },
    "tags": []
   },
   "source": [
    "# Creating a buffer\n",
    "\n",
    "If we want to understand all points on a map that are some radius away from a point, the simplest way is to create a buffer.\n",
    "\n",
    "The code cell below creates a GeoSeries `two_mile_buffer` containing 12 different Polygon objects.  Each polygon is a buffer of 2 miles (or, 2\\*5280 feet) around a different air monitoring station."
   ]
  },
  {
   "cell_type": "code",
   "execution_count": 8,
   "id": "ec1e0ecc",
   "metadata": {
    "execution": {
     "iopub.execute_input": "2023-04-20T20:47:43.109779Z",
     "iopub.status.busy": "2023-04-20T20:47:43.109298Z",
     "iopub.status.idle": "2023-04-20T20:47:43.126783Z",
     "shell.execute_reply": "2023-04-20T20:47:43.125548Z"
    },
    "papermill": {
     "duration": 0.029314,
     "end_time": "2023-04-20T20:47:43.129615",
     "exception": false,
     "start_time": "2023-04-20T20:47:43.100301",
     "status": "completed"
    },
    "tags": []
   },
   "outputs": [
    {
     "data": {
      "text/plain": [
       "0    POLYGON ((2721944.641 257149.310, 2721893.792 ...\n",
       "1    POLYGON ((2682494.290 271248.900, 2682443.441 ...\n",
       "2    POLYGON ((2744886.638 280980.247, 2744835.789 ...\n",
       "3    POLYGON ((2703638.580 233247.101, 2703587.731 ...\n",
       "4    POLYGON ((2726959.773 251134.976, 2726908.924 ...\n",
       "dtype: geometry"
      ]
     },
     "execution_count": 8,
     "metadata": {},
     "output_type": "execute_result"
    }
   ],
   "source": [
    "two_mile_buffer = stations.geometry.buffer(2*5280)\n",
    "two_mile_buffer.head()"
   ]
  },
  {
   "cell_type": "markdown",
   "id": "1f576dd0",
   "metadata": {
    "papermill": {
     "duration": 0.006666,
     "end_time": "2023-04-20T20:47:43.143631",
     "exception": false,
     "start_time": "2023-04-20T20:47:43.136965",
     "status": "completed"
    },
    "tags": []
   },
   "source": [
    "We use `folium.GeoJson()` to plot each polygon on a map.  Note that since folium requires coordinates in latitude and longitude, we have to convert the CRS to EPSG 4326 before plotting."
   ]
  },
  {
   "cell_type": "code",
   "execution_count": 9,
   "id": "488ad8e7",
   "metadata": {
    "execution": {
     "iopub.execute_input": "2023-04-20T20:47:43.161032Z",
     "iopub.status.busy": "2023-04-20T20:47:43.160486Z",
     "iopub.status.idle": "2023-04-20T20:47:43.491459Z",
     "shell.execute_reply": "2023-04-20T20:47:43.490236Z"
    },
    "papermill": {
     "duration": 0.345021,
     "end_time": "2023-04-20T20:47:43.496401",
     "exception": false,
     "start_time": "2023-04-20T20:47:43.151380",
     "status": "completed"
    },
    "tags": []
   },
   "outputs": [
    {
     "data": {
      "text/html": [
       "<div style=\"width:100%;\"><div style=\"position:relative;width:100%;height:0;padding-bottom:60%;\"><span style=\"color:#565656\">Make this Notebook Trusted to load map: File -> Trust Notebook</span><iframe srcdoc=\"&lt;!DOCTYPE html&gt;\n",
       "&lt;html&gt;\n",
       "&lt;head&gt;\n",
       "    \n",
       "    &lt;meta http-equiv=&quot;content-type&quot; content=&quot;text/html; charset=UTF-8&quot; /&gt;\n",
       "    \n",
       "        &lt;script&gt;\n",
       "            L_NO_TOUCH = false;\n",
       "            L_DISABLE_3D = false;\n",
       "        &lt;/script&gt;\n",
       "    \n",
       "    &lt;style&gt;html, body {width: 100%;height: 100%;margin: 0;padding: 0;}&lt;/style&gt;\n",
       "    &lt;style&gt;#map {position:absolute;top:0;bottom:0;right:0;left:0;}&lt;/style&gt;\n",
       "    &lt;script src=&quot;https://cdn.jsdelivr.net/npm/leaflet@1.9.3/dist/leaflet.js&quot;&gt;&lt;/script&gt;\n",
       "    &lt;script src=&quot;https://code.jquery.com/jquery-1.12.4.min.js&quot;&gt;&lt;/script&gt;\n",
       "    &lt;script src=&quot;https://cdn.jsdelivr.net/npm/bootstrap@5.2.2/dist/js/bootstrap.bundle.min.js&quot;&gt;&lt;/script&gt;\n",
       "    &lt;script src=&quot;https://cdnjs.cloudflare.com/ajax/libs/Leaflet.awesome-markers/2.0.2/leaflet.awesome-markers.js&quot;&gt;&lt;/script&gt;\n",
       "    &lt;link rel=&quot;stylesheet&quot; href=&quot;https://cdn.jsdelivr.net/npm/leaflet@1.9.3/dist/leaflet.css&quot;/&gt;\n",
       "    &lt;link rel=&quot;stylesheet&quot; href=&quot;https://cdn.jsdelivr.net/npm/bootstrap@5.2.2/dist/css/bootstrap.min.css&quot;/&gt;\n",
       "    &lt;link rel=&quot;stylesheet&quot; href=&quot;https://netdna.bootstrapcdn.com/bootstrap/3.0.0/css/bootstrap.min.css&quot;/&gt;\n",
       "    &lt;link rel=&quot;stylesheet&quot; href=&quot;https://cdn.jsdelivr.net/npm/@fortawesome/fontawesome-free@6.2.0/css/all.min.css&quot;/&gt;\n",
       "    &lt;link rel=&quot;stylesheet&quot; href=&quot;https://cdnjs.cloudflare.com/ajax/libs/Leaflet.awesome-markers/2.0.2/leaflet.awesome-markers.css&quot;/&gt;\n",
       "    &lt;link rel=&quot;stylesheet&quot; href=&quot;https://cdn.jsdelivr.net/gh/python-visualization/folium/folium/templates/leaflet.awesome.rotate.min.css&quot;/&gt;\n",
       "    \n",
       "            &lt;meta name=&quot;viewport&quot; content=&quot;width=device-width,\n",
       "                initial-scale=1.0, maximum-scale=1.0, user-scalable=no&quot; /&gt;\n",
       "            &lt;style&gt;\n",
       "                #map_7f0636d4d6290cd801cfcee2dd65249b {\n",
       "                    position: relative;\n",
       "                    width: 100.0%;\n",
       "                    height: 100.0%;\n",
       "                    left: 0.0%;\n",
       "                    top: 0.0%;\n",
       "                }\n",
       "                .leaflet-container { font-size: 1rem; }\n",
       "            &lt;/style&gt;\n",
       "        \n",
       "    &lt;script src=&quot;https://cdn.jsdelivr.net/gh/python-visualization/folium@main/folium/templates/leaflet_heat.min.js&quot;&gt;&lt;/script&gt;\n",
       "&lt;/head&gt;\n",
       "&lt;body&gt;\n",
       "    \n",
       "    \n",
       "            &lt;div class=&quot;folium-map&quot; id=&quot;map_7f0636d4d6290cd801cfcee2dd65249b&quot; &gt;&lt;/div&gt;\n",
       "        \n",
       "&lt;/body&gt;\n",
       "&lt;script&gt;\n",
       "    \n",
       "    \n",
       "            var map_7f0636d4d6290cd801cfcee2dd65249b = L.map(\n",
       "                &quot;map_7f0636d4d6290cd801cfcee2dd65249b&quot;,\n",
       "                {\n",
       "                    center: [39.9526, -75.1652],\n",
       "                    crs: L.CRS.EPSG3857,\n",
       "                    zoom: 11,\n",
       "                    zoomControl: true,\n",
       "                    preferCanvas: false,\n",
       "                }\n",
       "            );\n",
       "\n",
       "            \n",
       "\n",
       "        \n",
       "    \n",
       "            var tile_layer_b3db862c4c5a8d8a6bf76dee6c905a5c = L.tileLayer(\n",
       "                &quot;https://{s}.tile.openstreetmap.org/{z}/{x}/{y}.png&quot;,\n",
       "                {&quot;attribution&quot;: &quot;Data by \\u0026copy; \\u003ca target=\\&quot;_blank\\&quot; href=\\&quot;http://openstreetmap.org\\&quot;\\u003eOpenStreetMap\\u003c/a\\u003e, under \\u003ca target=\\&quot;_blank\\&quot; href=\\&quot;http://www.openstreetmap.org/copyright\\&quot;\\u003eODbL\\u003c/a\\u003e.&quot;, &quot;detectRetina&quot;: false, &quot;maxNativeZoom&quot;: 18, &quot;maxZoom&quot;: 18, &quot;minZoom&quot;: 0, &quot;noWrap&quot;: false, &quot;opacity&quot;: 1, &quot;subdomains&quot;: &quot;abc&quot;, &quot;tms&quot;: false}\n",
       "            ).addTo(map_7f0636d4d6290cd801cfcee2dd65249b);\n",
       "        \n",
       "    \n",
       "            var heat_map_eb1407e29d2b9df2c0cc910b123c8dd4 = L.heatLayer(\n",
       "                [[40.005901, -75.072103], [39.920120000000004, -75.14641], [40.02388, -75.22045], [39.913540000000005, -75.19889], [39.913540000000005, -75.19889], [39.88927, -75.18739000000001], [40.03363, -75.2368], [39.913540000000005, -75.19889], [39.913540000000005, -75.19889], [39.89674, -75.23349], [39.89674, -75.23349], [39.89674, -75.23349], [39.89674, -75.23349], [39.913540000000005, -75.19889], [39.95367, -75.14803], [39.90972, -75.13829], [39.90972, -75.13829], [40.010278, -75.05555600000001], [40.00412, -75.11386], [39.95367, -75.14803], [39.90972, -75.13829], [39.913540000000005, -75.19889], [40.10995, -75.00286], [39.90972, -75.13829], [39.920120000000004, -75.14641], [39.95367, -75.14803], [40.005901, -75.072103], [39.88927, -75.18739000000001], [39.959140000000005, -75.15507], [40.005901, -75.072103], [40.10995, -75.00286], [39.913540000000005, -75.19889], [39.913540000000005, -75.19889], [39.913540000000005, -75.19889], [39.913540000000005, -75.19889], [39.913540000000005, -75.19889], [39.88927, -75.18739000000001], [39.913540000000005, -75.19889], [39.913540000000005, -75.19889], [39.913540000000005, -75.19889], [39.893168, -75.178234], [39.893168, -75.178234], [40.024770000000004, -75.02819699999999], [40.005901, -75.072103], [40.005901, -75.072103], [39.98437, -75.09239000000001], [40.03795, -75.1119], [40.005901, -75.072103], [39.90972, -75.13829], [39.95367, -75.14803], [39.92622, -75.14565999999999], [39.90972, -75.13829], [40.10972, -75.034785], [40.10972, -75.034785], [40.10972, -75.034785], [39.95367, -75.14803], [39.913540000000005, -75.19889], [39.913540000000005, -75.19889], [39.913540000000005, -75.19889], [40.03795, -75.1119], [40.005901, -75.072103], [39.913540000000005, -75.19889], [39.90972, -75.13829], [40.005901, -75.072103], [39.90972, -75.13829], [39.913540000000005, -75.19889], [39.88927, -75.18739000000001], [39.98437, -75.09239000000001], [39.993365999999995, -75.108351], [39.927409999999995, -75.17721], [40.10995, -75.00286], [39.913540000000005, -75.19889], [40.00478, -75.1791], [40.005901, -75.072103], [39.913540000000005, -75.19889], [39.913540000000005, -75.19889], [39.913540000000005, -75.19889], [39.913540000000005, -75.19889], [40.03363, -75.2368], [39.913540000000005, -75.19889], [39.913540000000005, -75.19889], [40.024770000000004, -75.02819699999999], [39.90972, -75.13829], [39.90972, -75.13829], [39.90972, -75.13829], [39.90972, -75.13829], [39.90972, -75.13829], [40.10995, -75.00286], [39.88927, -75.18739000000001], [39.913540000000005, -75.19889], [40.024770000000004, -75.02819699999999], [39.88927, -75.18739000000001], [39.92622, -75.14565999999999], [39.9833, -75.0948], [39.90972, -75.13829], [40.005901, -75.072103], [39.913540000000005, -75.19889], [39.90972, -75.13829], [39.913540000000005, -75.19889], [39.913540000000005, -75.19889], [39.893168, -75.178234], [40.016593, -75.081845], [39.89674, -75.23349], [39.913540000000005, -75.19889], [40.005901, -75.072103], [39.88927, -75.18739000000001], [40.10995, -75.00286], [40.005901, -75.072103], [40.03795, -75.1119], [40.005901, -75.072103], [40.005901, -75.072103], [40.10972, -75.034785], [40.10972, -75.034785], [39.89674, -75.23349], [39.913540000000005, -75.19889], [39.913540000000005, -75.19889], [39.920120000000004, -75.14641], [39.88927, -75.18739000000001], [39.95367, -75.14803], [40.00478, -75.1791], [39.913540000000005, -75.19889], [39.913540000000005, -75.19889], [39.913540000000005, -75.19889], [39.913540000000005, -75.19889], [40.005901, -75.072103], [39.95367, -75.14803], [39.913540000000005, -75.19889], [39.95367, -75.14803], [39.95367, -75.14803], [40.024770000000004, -75.02819699999999], [39.959140000000005, -75.15507], [39.920120000000004, -75.14641], [39.913540000000005, -75.19889], [39.913540000000005, -75.19889], [39.913540000000005, -75.19889], [39.95367, -75.14803], [39.913540000000005, -75.19889], [40.10972, -75.034785], [40.10995, -75.00286], [39.913540000000005, -75.19889], [40.02388, -75.22045], [39.913540000000005, -75.19889], [39.913540000000005, -75.19889], [40.005901, -75.072103], [39.913540000000005, -75.19889], [40.00412, -75.11386], [40.005901, -75.072103], [39.913540000000005, -75.19889], [39.89674, -75.23349], [39.893168, -75.178234], [40.005901, -75.072103], [39.90972, -75.13829], [40.010278, -75.05555600000001], [39.89674, -75.23349], [39.913540000000005, -75.19889], [39.913540000000005, -75.19889], [39.913540000000005, -75.19889], [39.913540000000005, -75.19889], [39.913540000000005, -75.19889], [39.95367, -75.14803], [39.920120000000004, -75.14641], [39.90972, -75.13829], [40.005901, -75.072103], [40.005901, -75.072103], [40.10972, -75.034785], [39.90972, -75.13829], [40.00412, -75.11386], [40.09239, -75.00545], [40.09239, -75.00545], [40.005901, -75.072103], [40.005901, -75.072103], [40.10995, -75.00286], [40.005901, -75.072103], [40.005901, -75.072103], [39.913540000000005, -75.19889], [39.913540000000005, -75.19889], [39.913540000000005, -75.19889], [39.90972, -75.13829], [40.005901, -75.072103], [40.03795, -75.1119], [39.913540000000005, -75.19889], [39.913540000000005, -75.19889], [40.10972, -75.034785], [39.913540000000005, -75.19889], [39.92622, -75.14565999999999], [40.10995, -75.00286], [39.88927, -75.18739000000001], [39.913540000000005, -75.19889], [40.010278, -75.05555600000001], [39.88927, -75.18739000000001], [39.913540000000005, -75.19889], [39.95367, -75.14803], [39.913540000000005, -75.19889], [40.10972, -75.034785], [40.005901, -75.072103], [39.90972, -75.13829], [39.90972, -75.13829], [39.913540000000005, -75.19889], [40.005901, -75.072103], [39.893168, -75.178234], [39.913540000000005, -75.19889], [39.893168, -75.178234], [40.024770000000004, -75.02819699999999], [40.03363, -75.2368], [39.88927, -75.18739000000001], [39.95367, -75.14803], [39.95367, -75.14803], [39.920120000000004, -75.14641], [39.913540000000005, -75.19889], [39.913540000000005, -75.19889], [39.89674, -75.23349], [40.024770000000004, -75.02819699999999], [40.02388, -75.22045], [39.913540000000005, -75.19889], [39.959140000000005, -75.15507], [40.10494, -75.00178000000001], [40.024770000000004, -75.02819699999999], [39.89674, -75.23349], [40.10995, -75.00286], [39.913540000000005, -75.19889], [39.88927, -75.18739000000001], [39.89674, -75.23349], [40.005901, -75.072103], [39.95367, -75.14803], [40.00478, -75.1791], [39.913540000000005, -75.19889], [39.913540000000005, -75.19889], [39.90972, -75.13829], [39.90972, -75.13829], [40.09239, -75.00545], [39.89674, -75.23349], [39.90972, -75.13829], [39.913540000000005, -75.19889], [39.95367, -75.14803], [40.010278, -75.05555600000001], [39.89674, -75.23349], [40.024770000000004, -75.02819699999999], [40.00412, -75.11386], [40.005901, -75.072103], [40.09239, -75.00545], [39.920120000000004, -75.14641], [39.913540000000005, -75.19889], [39.913540000000005, -75.19889], [39.913540000000005, -75.19889], [39.90972, -75.13829], [39.95367, -75.14803], [39.90972, -75.13829], [39.89674, -75.23349], [39.89674, -75.23349], [39.913540000000005, -75.19889], [40.01695, -75.1338], [39.90972, -75.13829], [40.10494, -75.00178000000001], [39.88927, -75.18739000000001], [39.92622, -75.14565999999999], [40.00478, -75.1791], [40.005901, -75.072103], [40.005901, -75.072103], [40.09239, -75.00545], [40.03795, -75.1119], [39.88927, -75.18739000000001], [39.913540000000005, -75.19889], [40.005901, -75.072103], [40.005901, -75.072103], [39.920120000000004, -75.14641], [40.005901, -75.072103], [40.02388, -75.22045], [39.913540000000005, -75.19889], [39.959140000000005, -75.15507], [40.005901, -75.072103], [39.893168, -75.178234], [39.90972, -75.13829], [39.913540000000005, -75.19889], [39.913540000000005, -75.19889], [39.913540000000005, -75.19889], [39.913540000000005, -75.19889], [40.10972, -75.034785], [40.03363, -75.2368], [39.913540000000005, -75.19889], [39.913540000000005, -75.19889], [39.913540000000005, -75.19889], [39.913540000000005, -75.19889], [40.00273, -75.18434], [39.95367, -75.14803], [39.90972, -75.13829], [39.90972, -75.13829], [39.913540000000005, -75.19889], [39.913540000000005, -75.19889], [39.913540000000005, -75.19889], [39.913540000000005, -75.19889], [39.90972, -75.13829], [40.024770000000004, -75.02819699999999], [39.95367, -75.14803], [39.993365999999995, -75.108351], [39.95367, -75.14803], [40.09239, -75.00545], [39.89674, -75.23349], [40.005901, -75.072103], [40.005901, -75.072103], [39.88927, -75.18739000000001], [39.88927, -75.18739000000001], [39.90972, -75.13829], [39.913540000000005, -75.19889], [40.10995, -75.00286], [40.10995, -75.00286], [40.005901, -75.072103], [39.913540000000005, -75.19889], [40.10972, -75.034785], [39.913540000000005, -75.19889], [40.10972, -75.034785], [40.10995, -75.00286], [39.893168, -75.178234], [39.913540000000005, -75.19889], [39.913540000000005, -75.19889], [39.913540000000005, -75.19889], [40.09239, -75.00545], [40.09239, -75.00545], [39.92622, -75.14565999999999], [40.01695, -75.1338], [39.993365999999995, -75.108351], [39.95367, -75.14803], [40.024770000000004, -75.02819699999999], [40.10995, -75.00286], [39.921363, -75.192212], [39.95367, -75.14803], [40.005901, -75.072103], [40.005901, -75.072103], [40.00478, -75.1791], [39.90972, -75.13829], [40.10972, -75.034785], [39.920120000000004, -75.14641], [39.95367, -75.14803], [39.90972, -75.13829], [39.90972, -75.13829], [40.00273, -75.18434], [39.893168, -75.178234], [39.89674, -75.23349], [39.89674, -75.23349], [40.005901, -75.072103], [39.943169, -75.19073399999999], [39.913540000000005, -75.19889], [39.90972, -75.13829], [39.90972, -75.13829], [40.09239, -75.00545], [40.02388, -75.22045], [40.010278, -75.05555600000001], [40.005901, -75.072103], [40.005901, -75.072103], [39.89674, -75.23349], [39.913540000000005, -75.19889], [39.913540000000005, -75.19889], [39.913540000000005, -75.19889], [39.913540000000005, -75.19889], [39.913540000000005, -75.19889], [40.03363, -75.2368], [39.89674, -75.23349], [39.95367, -75.14803], [40.024770000000004, -75.02819699999999], [40.10995, -75.00286], [39.913540000000005, -75.19889], [39.913540000000005, -75.19889], [39.913540000000005, -75.19889], [39.913540000000005, -75.19889], [40.10494, -75.00178000000001], [39.913540000000005, -75.19889], [39.913540000000005, -75.19889], [39.913540000000005, -75.19889], [39.913540000000005, -75.19889], [39.913540000000005, -75.19889], [39.90972, -75.13829], [39.913540000000005, -75.19889], [40.005901, -75.072103], [40.10995, -75.00286], [39.913540000000005, -75.19889], [40.005901, -75.072103], [39.95367, -75.14803], [39.913540000000005, -75.19889], [39.913540000000005, -75.19889], [39.959140000000005, -75.15507], [39.88927, -75.18739000000001], [40.03795, -75.1119], [39.913540000000005, -75.19889], [39.88927, -75.18739000000001], [39.90972, -75.13829], [39.913540000000005, -75.19889], [40.10972, -75.034785], [40.005901, -75.072103], [39.920120000000004, -75.14641], [39.88927, -75.18739000000001], [39.913540000000005, -75.19889], [39.913540000000005, -75.19889], [39.893168, -75.178234], [39.88927, -75.18739000000001], [39.913540000000005, -75.19889], [40.005901, -75.072103], [39.90972, -75.13829], [40.10972, -75.034785], [40.00412, -75.11386], [39.90972, -75.13829], [40.10995, -75.00286], [40.10995, -75.00286], [40.024770000000004, -75.02819699999999], [39.90972, -75.13829], [39.95367, -75.14803], [40.10995, -75.00286], [39.90972, -75.13829], [40.10972, -75.034785], [39.90972, -75.13829], [40.024770000000004, -75.02819699999999], [39.913540000000005, -75.19889], [39.88927, -75.18739000000001], [40.03363, -75.2368], [39.913540000000005, -75.19889], [40.10972, -75.034785], [40.10494, -75.00178000000001], [39.913540000000005, -75.19889], [39.913540000000005, -75.19889], [39.913540000000005, -75.19889], [40.01695, -75.1338], [40.00478, -75.1791], [39.913540000000005, -75.19889], [40.09239, -75.00545], [39.913540000000005, -75.19889], [40.00273, -75.18434], [39.913540000000005, -75.19889], [39.88927, -75.18739000000001], [40.024770000000004, -75.02819699999999], [40.02388, -75.22045], [39.913540000000005, -75.19889], [39.913540000000005, -75.19889], [40.010278, -75.05555600000001], [40.005901, -75.072103], [39.913540000000005, -75.19889], [39.88927, -75.18739000000001], [40.09239, -75.00545], [40.00412, -75.11386], [39.920120000000004, -75.14641], [39.90972, -75.13829], [39.913540000000005, -75.19889], [40.005901, -75.072103], [39.959140000000005, -75.15507], [40.005901, -75.072103], [40.005901, -75.072103], [39.893168, -75.178234], [39.943169, -75.19073399999999], [39.90972, -75.13829], [40.10972, -75.034785], [39.90972, -75.13829], [39.913540000000005, -75.19889], [39.92622, -75.14565999999999], [39.913540000000005, -75.19889], [39.913540000000005, -75.19889], [40.03795, -75.1119], [40.005901, -75.072103], [39.943169, -75.19073399999999], [39.913540000000005, -75.19889], [40.005901, -75.072103], [39.95367, -75.14803], [40.005901, -75.072103], [39.913540000000005, -75.19889], [39.913540000000005, -75.19889], [39.927409999999995, -75.17721], [39.913540000000005, -75.19889], [39.913540000000005, -75.19889], [40.005901, -75.072103], [39.95367, -75.14803], [39.913540000000005, -75.19889], [40.03795, -75.1119], [39.920120000000004, -75.14641], [39.893168, -75.178234], [40.005901, -75.072103], [39.88927, -75.18739000000001], [39.913540000000005, -75.19889], [39.913540000000005, -75.19889], [39.95367, -75.14803], [39.95367, -75.14803], [40.09239, -75.00545], [39.90972, -75.13829], [39.913540000000005, -75.19889], [39.921363, -75.192212], [39.913540000000005, -75.19889], [40.005901, -75.072103], [39.95367, -75.14803], [39.921363, -75.192212], [39.913540000000005, -75.19889], [39.943169, -75.19073399999999], [40.005901, -75.072103], [39.927409999999995, -75.17721], [39.893168, -75.178234], [40.10995, -75.00286], [40.03795, -75.1119], [39.913540000000005, -75.19889], [39.913540000000005, -75.19889], [39.913540000000005, -75.19889], [39.92622, -75.14565999999999], [40.005901, -75.072103], [40.00277, -75.06404], [40.010278, -75.05555600000001], [39.913540000000005, -75.19889], [39.913540000000005, -75.19889], [40.00277, -75.06404], [40.026956, -75.034329], [39.95367, -75.14803], [40.005901, -75.072103], [40.09239, -75.00545], [39.90972, -75.13829], [39.913540000000005, -75.19889], [39.913540000000005, -75.19889], [39.959140000000005, -75.15507], [39.913540000000005, -75.19889], [40.10972, -75.034785], [40.084179999999996, -75.02028], [40.005901, -75.072103], [40.10494, -75.00178000000001], [40.10995, -75.00286], [39.913540000000005, -75.19889], [39.913540000000005, -75.19889], [39.913540000000005, -75.19889], [39.913540000000005, -75.19889], [40.005901, -75.072103], [40.09239, -75.00545], [40.03795, -75.1119], [39.993365999999995, -75.108351], [39.90972, -75.13829], [39.90972, -75.13829], [39.90972, -75.13829], [39.90972, -75.13829], [40.09239, -75.00545], [39.95367, -75.14803], [40.005901, -75.072103], [40.03363, -75.2368], [39.913540000000005, -75.19889], [39.913540000000005, -75.19889], [40.10995, -75.00286], [39.913540000000005, -75.19889], [39.913540000000005, -75.19889], [39.913540000000005, -75.19889], [39.920120000000004, -75.14641], [40.10972, -75.034785], [39.913540000000005, -75.19889], [39.913540000000005, -75.19889], [39.913540000000005, -75.19889], [40.02388, -75.22045], [40.00412, -75.11386], [39.95367, -75.14803], [39.90972, -75.13829], [39.913540000000005, -75.19889], [39.920120000000004, -75.14641], [40.005901, -75.072103], [39.913540000000005, -75.19889], [40.01695, -75.1338], [40.10972, -75.034785], [40.084179999999996, -75.02028], [40.005901, -75.072103], [40.005901, -75.072103], [40.026956, -75.034329], [39.913540000000005, -75.19889], [39.95367, -75.14803], [39.913540000000005, -75.19889], [39.893168, -75.178234], [39.90972, -75.13829], [39.913540000000005, -75.19889], [40.00273, -75.18434], [40.00478, -75.1791], [40.024770000000004, -75.02819699999999], [39.943169, -75.19073399999999], [39.893168, -75.178234], [39.943169, -75.19073399999999], [40.10972, -75.034785], [40.10972, -75.034785], [40.02388, -75.22045], [39.893168, -75.178234], [40.00412, -75.11386], [40.024770000000004, -75.02819699999999], [40.10494, -75.00178000000001], [39.913540000000005, -75.19889], [39.936479999999996, -75.20973000000001], [40.10995, -75.00286], [39.913540000000005, -75.19889], [40.084179999999996, -75.02028], [39.913540000000005, -75.19889], [40.005901, -75.072103], [40.00277, -75.06404], [39.936479999999996, -75.20973000000001], [39.90972, -75.13829], [39.90972, -75.13829], [40.005901, -75.072103], [39.913540000000005, -75.19889], [39.913540000000005, -75.19889], [39.913540000000005, -75.19889], [39.95367, -75.14803], [40.00277, -75.06404], [39.920120000000004, -75.14641], [40.010278, -75.05555600000001], [40.084179999999996, -75.02028], [40.005901, -75.072103], [39.913540000000005, -75.19889], [39.913540000000005, -75.19889], [39.920120000000004, -75.14641], [39.943169, -75.19073399999999], [39.90972, -75.13829], [39.893168, -75.178234], [39.913540000000005, -75.19889], [39.913540000000005, -75.19889], [40.005901, -75.072103], [40.01695, -75.1338], [40.005901, -75.072103], [39.936479999999996, -75.20973000000001], [40.026956, -75.034329], [39.913540000000005, -75.19889], [40.00277, -75.06404], [39.913540000000005, -75.19889], [39.959140000000005, -75.15507], [40.00277, -75.06404], [40.09239, -75.00545], [40.10995, -75.00286], [39.913540000000005, -75.19889], [39.913540000000005, -75.19889], [39.913540000000005, -75.19889], [39.913540000000005, -75.19889], [39.913540000000005, -75.19889], [39.95367, -75.14803], [39.913540000000005, -75.19889], [39.95367, -75.14803], [39.936479999999996, -75.20973000000001], [40.026956, -75.034329], [39.913540000000005, -75.19889], [39.893168, -75.178234], [39.92622, -75.14565999999999], [39.913540000000005, -75.19889], [40.03363, -75.2368], [40.10995, -75.00286], [39.913540000000005, -75.19889], [40.09239, -75.00545], [40.09239, -75.00545], [40.005901, -75.072103], [40.03795, -75.1119], [40.03795, -75.1119], [39.913540000000005, -75.19889], [39.90972, -75.13829], [39.913540000000005, -75.19889], [40.00277, -75.06404], [40.00678, -75.17534], [39.95367, -75.14803], [39.921363, -75.192212], [39.90972, -75.13829], [40.10972, -75.034785], [39.95367, -75.14803], [40.01695, -75.1338], [39.90972, -75.13829], [40.00478, -75.1791], [40.00277, -75.06404], [39.913540000000005, -75.19889], [39.90972, -75.13829], [40.005901, -75.072103], [39.913540000000005, -75.19889], [40.005901, -75.072103], [39.913540000000005, -75.19889], [39.913540000000005, -75.19889], [40.00277, -75.06404], [40.03363, -75.2368], [40.005901, -75.072103], [39.913540000000005, -75.19889], [40.028079999999996, -75.02755], [39.943169, -75.19073399999999], [40.035309999999996, -75.10472], [39.913540000000005, -75.19889], [39.913540000000005, -75.19889], [40.00412, -75.11386], [39.93965, -75.19821], [40.026956, -75.034329], [39.913540000000005, -75.19889], [39.936479999999996, -75.20973000000001], [40.00277, -75.06404], [40.00277, -75.06404], [40.028079999999996, -75.02755], [39.90972, -75.13829], [40.10972, -75.034785], [40.00277, -75.06404], [40.005901, -75.072103], [39.943169, -75.19073399999999], [40.10972, -75.034785], [39.893168, -75.178234], [39.913540000000005, -75.19889], [39.893168, -75.178234], [40.005901, -75.072103], [39.943169, -75.19073399999999], [39.920120000000004, -75.14641], [40.03363, -75.2368], [39.90972, -75.13829], [39.90972, -75.13829], [40.09239, -75.00545], [40.028079999999996, -75.02755], [40.03795, -75.1119], [39.920120000000004, -75.14641], [39.90972, -75.13829], [40.03795, -75.1119], [39.913540000000005, -75.19889], [39.97746, -75.12221], [40.005901, -75.072103], [40.005901, -75.072103], [40.00277, -75.06404], [39.913540000000005, -75.19889], [40.10995, -75.00286], [40.01695, -75.1338], [40.03795, -75.1119], [40.005901, -75.072103], [40.10494, -75.00178000000001], [40.024770000000004, -75.02819699999999], [40.00277, -75.06404], [39.959140000000005, -75.15507], [39.936479999999996, -75.20973000000001], [39.913540000000005, -75.19889], [40.005901, -75.072103], [39.936479999999996, -75.20973000000001], [39.913540000000005, -75.19889], [40.10995, -75.00286], [39.95367, -75.14803], [39.95367, -75.14803], [40.01695, -75.1338], [39.90972, -75.13829], [40.005901, -75.072103], [39.913540000000005, -75.19889], [39.913540000000005, -75.19889], [40.03795, -75.1119], [40.03795, -75.1119], [39.90972, -75.13829], [40.09239, -75.00545], [40.00277, -75.06404], [39.913540000000005, -75.19889], [39.913540000000005, -75.19889], [40.02388, -75.22045], [39.913540000000005, -75.19889], [40.00277, -75.06404], [40.005901, -75.072103], [40.028079999999996, -75.02755], [40.010278, -75.05555600000001], [39.893168, -75.178234], [39.913540000000005, -75.19889], [40.005901, -75.072103], [39.95367, -75.14803], [40.00478, -75.1791], [40.028079999999996, -75.02755], [40.028079999999996, -75.02755], [39.921363, -75.192212], [40.005901, -75.072103], [40.09239, -75.00545], [39.913540000000005, -75.19889], [40.00277, -75.06404], [39.913540000000005, -75.19889], [39.95367, -75.14803], [39.913540000000005, -75.19889], [39.913540000000005, -75.19889], [40.084179999999996, -75.02028], [39.95367, -75.14803], [39.913540000000005, -75.19889], [39.92622, -75.14565999999999], [40.028079999999996, -75.02755], [39.936479999999996, -75.20973000000001], [40.10972, -75.034785], [40.026956, -75.034329], [39.90972, -75.13829], [39.893168, -75.178234], [40.10995, -75.00286], [39.913540000000005, -75.19889], [39.913540000000005, -75.19889], [39.9833, -75.0948], [40.028079999999996, -75.02755], [39.913540000000005, -75.19889], [39.913540000000005, -75.19889], [39.913540000000005, -75.19889], [40.084179999999996, -75.02028], [40.09239, -75.00545], [39.95367, -75.14803], [39.95367, -75.14803], [39.95367, -75.14803], [40.028079999999996, -75.02755], [39.913540000000005, -75.19889], [39.93965, -75.19821], [40.035309999999996, -75.10472], [39.913540000000005, -75.19889], [40.010278, -75.05555600000001], [39.920120000000004, -75.14641], [39.913540000000005, -75.19889], [40.10972, -75.034785], [39.913540000000005, -75.19889], [39.913540000000005, -75.19889], [39.913540000000005, -75.19889], [39.913540000000005, -75.19889], [39.936479999999996, -75.20973000000001], [40.03363, -75.2368], [39.90972, -75.13829], [39.913540000000005, -75.19889], [40.028079999999996, -75.02755], [40.02388, -75.22045], [39.913540000000005, -75.19889], [39.936479999999996, -75.20973000000001], [40.00273, -75.18434], [40.01695, -75.1338], [40.026956, -75.034329], [40.10995, -75.00286], [40.00478, -75.1791], [39.913540000000005, -75.19889], [40.03795, -75.1119], [39.913540000000005, -75.19889], [39.893168, -75.178234], [40.00277, -75.06404], [39.920120000000004, -75.14641], [39.913540000000005, -75.19889], [40.028079999999996, -75.02755], [39.893168, -75.178234], [39.93965, -75.19821], [39.921363, -75.192212], [40.03363, -75.2368], [40.09239, -75.00545], [39.913540000000005, -75.19889], [39.913540000000005, -75.19889], [39.913540000000005, -75.19889], [39.936479999999996, -75.20973000000001], [39.936479999999996, -75.20973000000001], [40.024770000000004, -75.02819699999999], [39.90972, -75.13829], [39.936256, -75.21342], [40.03795, -75.1119], [39.90972, -75.13829], [40.028079999999996, -75.02755], [40.028079999999996, -75.02755], [40.10972, -75.034785], [39.913540000000005, -75.19889], [40.10494, -75.00178000000001], [39.913540000000005, -75.19889], [39.913540000000005, -75.19889], [40.028079999999996, -75.02755], [40.00277, -75.06404], [40.00277, -75.06404], [39.913540000000005, -75.19889], [39.913540000000005, -75.19889], [39.936479999999996, -75.20973000000001], [39.97746, -75.12221], [40.01695, -75.1338], [40.10995, -75.00286], [40.028079999999996, -75.02755], [39.959140000000005, -75.15507], [40.00277, -75.06404], [40.00277, -75.06404], [40.028079999999996, -75.02755], [39.913540000000005, -75.19889], [39.92622, -75.14565999999999], [39.90972, -75.13829], [39.913540000000005, -75.19889], [40.03795, -75.1119], [39.943169, -75.19073399999999], [40.00412, -75.11386], [39.913540000000005, -75.19889], [39.913540000000005, -75.19889], [39.913540000000005, -75.19889], [40.10995, -75.00286], [39.95367, -75.14803], [39.913540000000005, -75.19889], [39.913540000000005, -75.19889], [40.00277, -75.06404], [40.03363, -75.2368], [39.90972, -75.13829], [40.10494, -75.00178000000001], [40.03795, -75.1119], [39.90972, -75.13829], [39.90972, -75.13829], [40.026956, -75.034329], [39.936479999999996, -75.20973000000001], [39.95367, -75.14803], [39.893168, -75.178234], [39.936256, -75.21342], [40.09239, -75.00545], [40.00277, -75.06404], [39.93965, -75.19821], [39.936256, -75.21342], [39.959140000000005, -75.15507], [40.03363, -75.2368], [40.005901, -75.072103], [40.005901, -75.072103], [39.936479999999996, -75.20973000000001], [40.005901, -75.072103], [39.913540000000005, -75.19889], [40.00277, -75.06404], [39.936479999999996, -75.20973000000001], [39.913540000000005, -75.19889], [40.028079999999996, -75.02755], [39.9833, -75.0948], [40.09239, -75.00545], [40.01695, -75.1338], [39.913540000000005, -75.19889], [39.95367, -75.14803], [40.028079999999996, -75.02755], [40.00678, -75.17534], [40.035309999999996, -75.10472], [40.03363, -75.2368], [39.95367, -75.14803], [39.913540000000005, -75.19889], [39.90972, -75.13829], [39.943169, -75.19073399999999], [39.936479999999996, -75.20973000000001], [40.09239, -75.00545], [39.913540000000005, -75.19889], [39.913540000000005, -75.19889], [40.005901, -75.072103], [40.10995, -75.00286], [39.95367, -75.14803], [40.026956, -75.034329], [39.913540000000005, -75.19889], [40.024770000000004, -75.02819699999999], [40.10972, -75.034785], [39.893168, -75.178234], [40.00412, -75.11386], [39.921363, -75.192212], [40.08286, -75.02155], [40.10972, -75.034785], [39.936256, -75.21342], [40.028079999999996, -75.02755], [39.913540000000005, -75.19889], [40.00478, -75.1791], [40.028079999999996, -75.02755], [39.920120000000004, -75.14641], [39.936479999999996, -75.20973000000001], [40.03795, -75.1119], [39.97746, -75.12221], [39.913540000000005, -75.19889], [39.9833, -75.0948], [40.10995, -75.00286], [39.90972, -75.13829], [39.936479999999996, -75.20973000000001], [39.913540000000005, -75.19889], [40.005901, -75.072103], [40.005901, -75.072103], [39.95367, -75.14803], [39.92626, -75.14588], [40.010278, -75.05555600000001], [39.913540000000005, -75.19889], [39.913540000000005, -75.19889], [39.936479999999996, -75.20973000000001], [40.005901, -75.072103], [40.005901, -75.072103], [39.936479999999996, -75.20973000000001], [39.936479999999996, -75.20973000000001], [39.936479999999996, -75.20973000000001], [40.005901, -75.072103], [40.00678, -75.17534], [40.02388, -75.22045], [40.03363, -75.2368], [40.09239, -75.00545], [40.00277, -75.06404], [40.00277, -75.06404], [40.028079999999996, -75.02755], [39.893168, -75.178234], [39.913540000000005, -75.19889], [39.913540000000005, -75.19889], [39.913540000000005, -75.19889], [40.00277, -75.06404], [39.936479999999996, -75.20973000000001], [40.10494, -75.00178000000001], [39.92622, -75.14565999999999], [39.913540000000005, -75.19889], [40.00277, -75.06404], [40.028079999999996, -75.02755], [40.10494, -75.00178000000001], [39.913540000000005, -75.19889], [39.90972, -75.13829], [39.913540000000005, -75.19889], [39.936256, -75.21342], [40.028079999999996, -75.02755], [40.028079999999996, -75.02755], [39.913540000000005, -75.19889], [39.90972, -75.13829], [39.943169, -75.19073399999999], [40.10972, -75.034785], [39.913540000000005, -75.19889], [39.913540000000005, -75.19889], [39.913540000000005, -75.19889], [40.005901, -75.072103], [39.936479999999996, -75.20973000000001], [39.90972, -75.13829], [39.920120000000004, -75.14641], [39.90972, -75.13829], [40.00277, -75.06404], [40.00277, -75.06404], [40.03795, -75.1119], [40.005901, -75.072103], [40.09239, -75.00545], [39.936256, -75.21342], [39.93965, -75.19821], [39.95367, -75.14803], [39.913540000000005, -75.19889], [40.10494, -75.00178000000001], [39.893168, -75.178234], [40.03795, -75.1119], [40.026956, -75.034329], [39.913540000000005, -75.19889], [39.90972, -75.13829], [40.10995, -75.00286], [40.01695, -75.1338], [40.005901, -75.072103], [40.024770000000004, -75.02819699999999], [39.936256, -75.21342], [40.024770000000004, -75.02819699999999], [40.024770000000004, -75.02819699999999], [40.03795, -75.1119], [40.026956, -75.034329], [39.959140000000005, -75.15507], [39.913540000000005, -75.19889], [40.024770000000004, -75.02819699999999], [39.90972, -75.13829], [40.03363, -75.2368], [39.936256, -75.21342], [39.913540000000005, -75.19889], [40.005901, -75.072103], [40.03363, -75.2368], [39.913540000000005, -75.19889], [39.913540000000005, -75.19889], [39.913540000000005, -75.19889], [39.913540000000005, -75.19889], [40.00277, -75.06404], [40.00678, -75.17534], [40.10995, -75.00286], [39.92626, -75.14588], [39.90972, -75.13829], [40.028079999999996, -75.02755], [40.035309999999996, -75.10472], [39.920120000000004, -75.14641], [39.93965, -75.19821], [39.921363, -75.192212], [39.95367, -75.14803], [39.913540000000005, -75.19889], [39.893168, -75.178234], [39.893168, -75.178234], [40.005901, -75.072103], [40.03795, -75.1119], [40.024770000000004, -75.02819699999999], [40.026956, -75.034329], [40.005901, -75.072103], [40.10494, -75.00178000000001], [39.90972, -75.13829], [40.10995, -75.00286], [40.026956, -75.034329], [39.913540000000005, -75.19889], [39.913540000000005, -75.19889], [39.913540000000005, -75.19889], [40.024770000000004, -75.02819699999999], [39.90972, -75.13829], [39.920120000000004, -75.14641], [40.084179999999996, -75.02028], [39.9833, -75.0948], [39.913540000000005, -75.19889], [39.936479999999996, -75.20973000000001], [40.005901, -75.072103], [39.913540000000005, -75.19889], [40.005901, -75.072103], [39.936256, -75.21342], [39.90972, -75.13829], [40.00277, -75.06404], [40.00277, -75.06404], [40.09239, -75.00545], [40.01695, -75.1338], [40.028079999999996, -75.02755], [40.005901, -75.072103], [39.936479999999996, -75.20973000000001], [39.893168, -75.178234], [40.09239, -75.00545], [40.024770000000004, -75.02819699999999], [40.00277, -75.06404], [39.913540000000005, -75.19889], [39.95367, -75.14803], [40.005901, -75.072103], [39.92622, -75.14565999999999], [40.03795, -75.1119], [40.00277, -75.06404], [39.943169, -75.19073399999999], [39.95367, -75.14803], [39.95367, -75.14803], [40.028079999999996, -75.02755], [40.00478, -75.1791], [40.02388, -75.22045], [39.936479999999996, -75.20973000000001], [39.913540000000005, -75.19889], [39.913540000000005, -75.19889], [40.026956, -75.034329], [40.00412, -75.11386], [40.005901, -75.072103], [40.028079999999996, -75.02755], [39.913540000000005, -75.19889], [40.10494, -75.00178000000001], [40.10972, -75.034785], [39.943169, -75.19073399999999], [39.936479999999996, -75.20973000000001], [40.028079999999996, -75.02755], [40.03795, -75.1119], [39.936256, -75.21342], [39.943169, -75.19073399999999], [40.00678, -75.17534], [40.03795, -75.1119], [39.97746, -75.12221], [39.913540000000005, -75.19889], [39.913540000000005, -75.19889], [40.00277, -75.06404], [40.10972, -75.034785], [40.10995, -75.00286], [40.005901, -75.072103], [40.005901, -75.072103], [40.10494, -75.00178000000001], [39.936479999999996, -75.20973000000001], [39.936479999999996, -75.20973000000001], [40.010278, -75.05555600000001], [39.893168, -75.178234], [39.936479999999996, -75.20973000000001], [40.01077, -75.08686999999999], [40.10972, -75.034785], [40.032687, -75.024473], [40.028079999999996, -75.02755], [40.024770000000004, -75.02819699999999], [39.936479999999996, -75.20973000000001], [40.028079999999996, -75.02755], [40.00277, -75.06404], [39.913540000000005, -75.19889], [39.936479999999996, -75.20973000000001], [39.90972, -75.13829], [39.936479999999996, -75.20973000000001], [39.9833, -75.0948], [39.95367, -75.14803], [39.943169, -75.19073399999999], [40.09239, -75.00545], [40.028079999999996, -75.02755], [39.93965, -75.19821], [39.913540000000005, -75.19889], [40.005901, -75.072103], [40.005901, -75.072103], [39.90972, -75.13829], [39.936256, -75.21342], [39.913540000000005, -75.19889], [40.03363, -75.2368], [39.913540000000005, -75.19889], [39.936479999999996, -75.20973000000001], [39.93965, -75.19821], [39.893168, -75.178234], [40.024770000000004, -75.02819699999999], [39.94278, -75.18858], [40.024770000000004, -75.02819699999999], [39.913540000000005, -75.19889], [39.90972, -75.13829], [39.913540000000005, -75.19889], [39.913540000000005, -75.19889], [40.010278, -75.05555600000001], [39.936479999999996, -75.20973000000001], [39.893168, -75.178234], [39.93965, -75.19821], [39.913540000000005, -75.19889], [39.913540000000005, -75.19889], [39.913540000000005, -75.19889], [39.913540000000005, -75.19889], [39.893168, -75.178234], [40.00277, -75.06404], [39.936479999999996, -75.20973000000001], [40.032687, -75.024473], [39.913540000000005, -75.19889], [39.913540000000005, -75.19889], [40.026956, -75.034329], [39.949037, -75.155787], [40.01077, -75.08686999999999], [39.913540000000005, -75.19889], [40.024770000000004, -75.02819699999999], [39.95367, -75.14803], [39.921363, -75.192212], [40.005901, -75.072103], [39.93965, -75.19821], [40.024770000000004, -75.02819699999999], [39.936256, -75.21342], [40.00478, -75.1791], [39.913540000000005, -75.19889], [40.10972, -75.034785], [40.09239, -75.00545], [39.913540000000005, -75.19889], [40.00277, -75.06404], [40.017817, -75.130416], [39.936479999999996, -75.20973000000001], [40.03795, -75.1119], [39.936479999999996, -75.20973000000001], [39.913540000000005, -75.19889], [40.005901, -75.072103], [40.005901, -75.072103], [39.9833, -75.0948], [39.913540000000005, -75.19889], [39.893168, -75.178234], [40.028079999999996, -75.02755], [39.95367, -75.14803], [40.00678, -75.17534], [39.9425, -75.1886], [40.028079999999996, -75.02755], [40.028079999999996, -75.02755], [40.10494, -75.00178000000001], [40.02388, -75.22045], [40.01695, -75.1338], [39.936256, -75.21342], [40.026956, -75.034329], [40.026956, -75.034329], [40.00678, -75.17534], [40.028079999999996, -75.02755], [39.95367, -75.14803], [40.028079999999996, -75.02755], [40.005901, -75.072103], [40.03795, -75.1119], [40.03795, -75.1119], [40.00277, -75.06404], [39.90972, -75.13829], [39.936256, -75.21342], [40.03363, -75.2368], [40.00273, -75.18434], [39.92626, -75.14588], [39.90972, -75.13829], [40.005901, -75.072103], [39.90972, -75.13829], [39.95367, -75.14803], [40.005901, -75.072103], [39.913540000000005, -75.19889], [40.03795, -75.1119], [40.03363, -75.2368], [40.032687, -75.024473], [39.936479999999996, -75.20973000000001], [40.00277, -75.06404], [39.913540000000005, -75.19889], [39.913540000000005, -75.19889], [39.936256, -75.21342], [39.95367, -75.14803], [40.005901, -75.072103], [39.913540000000005, -75.19889], [39.943169, -75.19073399999999], [40.005901, -75.072103], [39.90972, -75.13829], [39.936256, -75.21342], [39.936479999999996, -75.20973000000001], [40.10995, -75.00286], [40.005901, -75.072103], [40.028079999999996, -75.02755], [39.90972, -75.13829], [40.10995, -75.00286], [39.9833, -75.0948], [39.893168, -75.178234], [40.10494, -75.00178000000001], [39.936479999999996, -75.20973000000001], [39.94278, -75.18858], [39.936479999999996, -75.20973000000001], [40.00273, -75.18434], [39.920120000000004, -75.14641], [39.913540000000005, -75.19889], [39.9671, -75.1269], [39.893168, -75.178234], [40.005901, -75.072103], [40.00277, -75.06404], [39.93965, -75.19821], [40.10995, -75.00286], [39.920120000000004, -75.14641], [40.09239, -75.00545], [39.936479999999996, -75.20973000000001], [39.90972, -75.13829], [40.028079999999996, -75.02755], [39.97746, -75.12221], [40.10972, -75.034785], [39.959140000000005, -75.15507], [39.943169, -75.19073399999999], [40.028079999999996, -75.02755], [40.028079999999996, -75.02755], [39.913540000000005, -75.19889], [40.03363, -75.2368], [39.936479999999996, -75.20973000000001], [40.005901, -75.072103], [39.943169, -75.19073399999999], [39.913540000000005, -75.19889], [39.9671, -75.1269], [40.09239, -75.00545], [39.949037, -75.155787], [40.005901, -75.072103], [39.9425, -75.1886], [39.913540000000005, -75.19889], [39.93965, -75.19821], [39.93965, -75.19821], [40.03795, -75.1119], [39.936256, -75.21342], [40.01077, -75.08686999999999], [40.09239, -75.00545], [40.024770000000004, -75.02819699999999], [39.90972, -75.13829], [40.111309999999996, -74.99256], [39.936256, -75.21342], [39.913540000000005, -75.19889], [39.95367, -75.14803], [39.920120000000004, -75.14641], [39.920120000000004, -75.14641], [40.03795, -75.1119], [40.028079999999996, -75.02755], [40.010278, -75.05555600000001], [39.9671, -75.1269], [40.087728000000006, -74.989598], [39.93965, -75.19821], [39.913540000000005, -75.19889], [39.936479999999996, -75.18571999999999], [39.93965, -75.19821], [40.00478, -75.1791], [40.00678, -75.17534], [39.913540000000005, -75.19889], [39.903446, -75.22157], [40.10995, -75.00286], [39.92626, -75.14588], [40.028079999999996, -75.02755], [40.005901, -75.072103], [39.936479999999996, -75.20973000000001], [40.028079999999996, -75.02755], [39.936256, -75.21342], [39.913540000000005, -75.19889], [40.005901, -75.072103], [39.94278, -75.18858], [39.903446, -75.22157], [39.903446, -75.22157], [39.913540000000005, -75.19889], [40.017817, -75.130416], [40.03363, -75.2368], [39.913540000000005, -75.19889], [39.913540000000005, -75.19889], [40.10494, -75.00178000000001], [40.03363, -75.2368], [40.024770000000004, -75.02819699999999], [39.93965, -75.19821], [40.005901, -75.072103], [39.943169, -75.19073399999999], [40.024770000000004, -75.02819699999999], [39.943169, -75.19073399999999], [40.024770000000004, -75.02819699999999], [39.936479999999996, -75.20973000000001], [39.936479999999996, -75.20973000000001], [39.913540000000005, -75.19889], [39.913540000000005, -75.19889], [39.949037, -75.155787], [39.936479999999996, -75.20973000000001], [39.893168, -75.178234], [39.936479999999996, -75.20973000000001], [39.913540000000005, -75.19889], [40.03795, -75.1119], [40.10494, -75.00178000000001], [39.903446, -75.22157], [39.90972, -75.13829], [40.028079999999996, -75.02755], [39.95367, -75.14803], [40.00678, -75.17534], [40.02388, -75.22045], [39.90972, -75.13829], [40.028079999999996, -75.02755], [40.03363, -75.2368], [39.90972, -75.13829], [39.913540000000005, -75.19889], [40.087728000000006, -74.989598], [39.9671, -75.1269], [40.10995, -75.00286], [39.903446, -75.22157], [39.9425, -75.1886], [40.005901, -75.072103], [39.893168, -75.178234], [39.9671, -75.1269], [39.95367, -75.14803], [39.936479999999996, -75.20973000000001], [39.913540000000005, -75.19889], [40.02917, -75.02557], [40.028079999999996, -75.02755], [40.00277, -75.06404], [39.97746, -75.12221], [40.028079999999996, -75.02755], [40.111309999999996, -74.99256], [40.005901, -75.072103], [39.913540000000005, -75.19889], [39.936256, -75.21342], [40.09239, -75.00545], [39.90972, -75.13829], [40.028079999999996, -75.02755], [39.936256, -75.21342], [39.93965, -75.19821], [40.032687, -75.024473], [39.949037, -75.155787], [39.95367, -75.14803], [40.00277, -75.06404], [39.936479999999996, -75.20973000000001], [39.943169, -75.19073399999999], [40.00273, -75.18434], [39.913540000000005, -75.19889], [40.005901, -75.072103], [40.10972, -75.034785], [40.005901, -75.072103], [39.9425, -75.1886], [39.913540000000005, -75.19889], [39.913540000000005, -75.19889], [40.005901, -75.072103], [40.10972, -75.034785], [39.936479999999996, -75.20973000000001], [40.01695, -75.1338], [39.921363, -75.192212], [40.00277, -75.06404], [39.959140000000005, -75.15507], [40.005901, -75.072103], [39.913540000000005, -75.19889], [40.028079999999996, -75.02755], [40.005901, -75.072103], [39.913540000000005, -75.19889], [39.913540000000005, -75.19889], [39.903446, -75.22157], [40.005901, -75.072103], [39.936479999999996, -75.20973000000001], [39.913540000000005, -75.19889], [39.893168, -75.178234], [40.03795, -75.1119], [39.913540000000005, -75.19889], [40.024770000000004, -75.02819699999999], [39.936256, -75.21342], [39.95367, -75.14803], [39.90972, -75.13829], [40.00277, -75.06404], [40.028079999999996, -75.02755], [40.09239, -75.00545], [39.9671, -75.1269], [39.90972, -75.13829], [40.032687, -75.024473], [40.005901, -75.072103], [40.03363, -75.2368], [39.94278, -75.18858], [40.00273, -75.18434], [40.087728000000006, -74.989598], [40.1128, -74.99758], [40.087728000000006, -74.989598], [40.02917, -75.02557], [39.913540000000005, -75.19889], [40.00277, -75.06404], [40.10995, -75.00286], [39.893168, -75.178234], [40.087728000000006, -74.989598], [39.903446, -75.22157], [39.903446, -75.22157], [39.936479999999996, -75.18571999999999], [40.09, -74.9888], [39.8837, -75.22700999999999], [40.01695, -75.1338], [40.00273, -75.18434], [39.920120000000004, -75.14641], [40.087728000000006, -74.989598], [39.913540000000005, -75.19889], [40.087728000000006, -74.989598], [40.005901, -75.072103], [40.005901, -75.072103], [40.00678, -75.17534], [39.9425, -75.1886], [39.90972, -75.13829], [40.024770000000004, -75.02819699999999], [39.943169, -75.19073399999999], [40.005901, -75.072103], [40.024770000000004, -75.02819699999999], [40.024770000000004, -75.02819699999999], [39.949037, -75.155787], [40.10972, -75.034785], [40.10972, -75.034785], [40.00277, -75.06404], [39.93965, -75.19821], [39.913540000000005, -75.19889], [39.8837, -75.22700999999999], [40.03363, -75.2368], [39.90972, -75.13829], [39.936479999999996, -75.20973000000001], [40.10995, -75.00286], [39.92626, -75.14588], [40.03795, -75.1119], [39.913540000000005, -75.19889], [40.005901, -75.072103], [40.005901, -75.072103], [40.00678, -75.17534], [40.00273, -75.18434], [40.028079999999996, -75.02755], [39.959140000000005, -75.15507], [39.936479999999996, -75.20973000000001], [40.028079999999996, -75.02755], [39.913540000000005, -75.19889], [39.913540000000005, -75.19889], [40.00695, -75.08165], [40.005901, -75.072103], [40.03795, -75.1119], [39.913540000000005, -75.19889], [39.920120000000004, -75.14641], [39.903446, -75.22157], [39.9425, -75.1886], [39.913540000000005, -75.19889], [39.903446, -75.22157], [39.95367, -75.14803], [39.936256, -75.21342], [39.893168, -75.178234], [39.913540000000005, -75.19889], [40.03795, -75.1119], [39.93965, -75.19821], [40.00047, -75.11964], [39.936479999999996, -75.20973000000001], [39.90972, -75.13829], [40.00277, -75.06404], [40.00695, -75.08165], [39.94278, -75.18858], [39.943169, -75.19073399999999], [40.10494, -75.00178000000001], [40.01077, -75.08686999999999], [40.032687, -75.024473], [40.02917, -75.02557], [39.913540000000005, -75.19889], [39.936479999999996, -75.20973000000001], [40.00047, -75.11964], [39.893168, -75.178234], [39.936479999999996, -75.20973000000001], [39.93965, -75.19821], [40.024770000000004, -75.02819699999999], [40.03795, -75.1119], [39.8837, -75.22700999999999], [39.9671, -75.1269], [40.10995, -75.00286], [40.09239, -75.00545], [39.93965, -75.19821], [39.893168, -75.178234], [39.913540000000005, -75.19889], [39.913540000000005, -75.19889], [39.936256, -75.21342], [39.936256, -75.21342], [40.10494, -75.00178000000001], [40.03363, -75.2368], [39.913540000000005, -75.19889], [40.087728000000006, -74.989598], [40.005901, -75.072103], [40.005901, -75.072103], [40.026956, -75.034329], [39.95367, -75.14803], [40.02917, -75.02557], [40.00695, -75.08165], [39.936256, -75.21342], [39.90972, -75.13829], [39.95367, -75.14803], [39.9671, -75.1269], [40.028079999999996, -75.02755], [40.00478, -75.1791], [40.028079999999996, -75.02755], [39.903446, -75.22157], [40.024770000000004, -75.02819699999999], [39.913540000000005, -75.19889], [40.010278, -75.05555600000001], [39.936479999999996, -75.20973000000001], [39.913540000000005, -75.19889], [39.903446, -75.22157], [39.913540000000005, -75.19889], [40.03363, -75.2368], [39.903446, -75.22157], [39.9671, -75.1269], [39.936479999999996, -75.20973000000001], [39.913540000000005, -75.19889], [39.913540000000005, -75.19889], [39.93965, -75.19821], [40.00277, -75.06404], [40.028079999999996, -75.02755], [39.959140000000005, -75.15507], [40.005901, -75.072103], [39.9671, -75.1269], [40.02388, -75.22045], [40.00867, -75.06844], [40.09239, -75.00545], [39.921363, -75.192212], [39.936256, -75.21342], [40.00867, -75.06844], [39.913540000000005, -75.19889], [39.913540000000005, -75.19889], [39.90972, -75.13829], [39.936479999999996, -75.20973000000001], [39.90972, -75.13829], [40.087728000000006, -74.989598], [40.10995, -75.00286], [40.028079999999996, -75.02755], [40.005901, -75.072103], [40.028079999999996, -75.02755], [40.028079999999996, -75.02755], [40.09239, -75.00545], [39.893168, -75.178234], [40.00047, -75.11964], [39.949037, -75.155787], [40.00277, -75.06404], [39.936256, -75.21342], [40.028079999999996, -75.02755], [39.943169, -75.19073399999999], [40.005901, -75.072103], [40.005901, -75.072103], [39.913540000000005, -75.19889], [39.913540000000005, -75.19889], [40.084179999999996, -75.02028], [39.94278, -75.18858], [39.97746, -75.12221], [40.00867, -75.06844], [39.959140000000005, -75.15507], [39.913540000000005, -75.19889], [40.1128, -74.99758], [39.95367, -75.14803], [40.017817, -75.130416], [40.00478, -75.1791], [39.91817, -75.23604], [39.91817, -75.23604], [40.00695, -75.08165], [39.936256, -75.21342], [39.936479999999996, -75.20973000000001], [39.921363, -75.192212], [39.903446, -75.22157], [40.024770000000004, -75.02819699999999], [40.111309999999996, -74.99256], [40.028079999999996, -75.02755], [40.111309999999996, -74.99256], [39.903446, -75.22157], [39.90972, -75.13829], [39.95367, -75.14803], [39.9671, -75.1269], [40.00277, -75.06404], [39.93965, -75.19821], [40.087728000000006, -74.989598], [40.00273, -75.18434], [39.903446, -75.22157], [40.02917, -75.02557], [40.028079999999996, -75.02755], [39.9671, -75.1269], [39.903446, -75.22157], [40.00867, -75.06844], [40.03795, -75.1119], [40.01695, -75.1338], [40.03795, -75.1119], [40.005901, -75.072103], [40.005901, -75.072103], [40.087728000000006, -74.989598], [40.09, -74.9888], [40.005901, -75.072103], [40.03363, -75.2368], [39.913540000000005, -75.19889], [39.913540000000005, -75.19889], [40.005901, -75.072103], [39.893168, -75.178234], [39.893168, -75.178234], [40.09, -74.9888], [40.09239, -75.00545], [39.8837, -75.22700999999999], [40.10995, -75.00286], [40.00867, -75.06844], [40.00277, -75.06404], [40.028079999999996, -75.02755], [40.028079999999996, -75.02755], [39.90972, -75.13829], [40.00273, -75.18434], [39.913540000000005, -75.19889], [40.1128, -74.99758], [40.005901, -75.072103], [39.943169, -75.19073399999999], [39.943169, -75.19073399999999], [39.9671, -75.1269], [40.08286, -75.02155], [40.026956, -75.034329], [40.00277, -75.06404], [39.893168, -75.178234], [39.936256, -75.21342], [39.913540000000005, -75.19889], [39.913540000000005, -75.19889], [40.028079999999996, -75.02755], [39.913540000000005, -75.19889], [39.95367, -75.14803], [39.936479999999996, -75.20973000000001], [39.94278, -75.18858], [40.005901, -75.072103], [39.913540000000005, -75.19889], [40.09239, -75.00545], [40.005901, -75.072103], [39.91817, -75.23604], [40.03363, -75.2368], [39.93965, -75.19821], [40.03363, -75.2368], [39.97746, -75.12221], [39.936479999999996, -75.20973000000001], [40.005901, -75.072103], [39.903446, -75.22157], [39.903446, -75.22157], [40.10972, -75.034785], [39.913540000000005, -75.19889], [39.93965, -75.19821], [40.03363, -75.2368], [39.90972, -75.13829], [39.90972, -75.13829], [39.90972, -75.13829], [39.90972, -75.13829], [40.00277, -75.06404], [39.913540000000005, -75.19889], [39.936256, -75.21342], [39.99215, -75.1336], [40.00277, -75.06404], [40.10494, -75.00178000000001], [40.087728000000006, -74.989598], [39.9671, -75.1269], [40.00867, -75.06844], [40.10494, -75.00178000000001], [40.02922, -75.02548], [39.936479999999996, -75.18571999999999], [39.936479999999996, -75.20973000000001], [39.959140000000005, -75.15507], [40.00277, -75.06404], [39.913540000000005, -75.19889], [39.936256, -75.21342], [40.005901, -75.072103], [40.00695, -75.08165], [40.028079999999996, -75.02755], [39.93965, -75.19821], [40.02388, -75.22045], [39.913540000000005, -75.19889], [40.02922, -75.02548], [40.005901, -75.072103], [39.913540000000005, -75.19889], [39.99288, -75.10327], [40.10972, -75.034785], [40.00047, -75.11964], [39.903446, -75.22157], [39.903446, -75.22157], [40.017817, -75.130416], [39.93965, -75.19821], [40.00277, -75.06404], [40.111309999999996, -74.99256], [40.087728000000006, -74.989598], [39.913540000000005, -75.19889], [39.913540000000005, -75.19889], [39.913540000000005, -75.19889], [39.90972, -75.13829], [39.913540000000005, -75.19889], [39.913540000000005, -75.19889], [39.94278, -75.18858], [40.00047, -75.11964], [39.93965, -75.19821], [39.9425, -75.1886], [40.02922, -75.02548], [39.91817, -75.23604], [40.03363, -75.2368], [40.00273, -75.18434], [39.95367, -75.14803], [40.00047, -75.11964], [39.959140000000005, -75.15507], [39.936479999999996, -75.20973000000001], [40.005901, -75.072103], [40.03795, -75.1119], [39.90972, -75.13829], [39.90972, -75.13829], [40.00695, -75.08165], [40.08286, -75.02155], [39.93965, -75.19821], [40.028079999999996, -75.02755], [40.10995, -75.00286], [39.936479999999996, -75.20973000000001], [39.920120000000004, -75.14641], [40.10995, -75.00286], [39.936479999999996, -75.20973000000001], [39.9425, -75.1886], [40.028079999999996, -75.02755], [39.913540000000005, -75.19889], [39.913540000000005, -75.19889], [39.913540000000005, -75.19889], [39.903446, -75.22157], [40.00277, -75.06404], [39.913540000000005, -75.19889], [39.913540000000005, -75.19889], [39.936479999999996, -75.20973000000001], [39.936256, -75.21342], [40.02922, -75.02548], [39.9671, -75.1269], [40.02922, -75.02548], [40.10995, -75.00286], [39.913540000000005, -75.19889], [39.95367, -75.14803], [40.00277, -75.06404], [39.936479999999996, -75.20973000000001], [40.00695, -75.08165], [40.00273, -75.18434], [39.9425, -75.1886], [39.936479999999996, -75.20973000000001], [39.936479999999996, -75.20973000000001], [39.893168, -75.178234], [39.959140000000005, -75.15507], [40.03795, -75.1119], [40.087728000000006, -74.989598], [40.00047, -75.11964], [39.9671, -75.1269], [40.028079999999996, -75.02755], [39.913540000000005, -75.19889], [40.00478, -75.1791], [40.02922, -75.02548], [40.028079999999996, -75.02755], [39.920120000000004, -75.14641], [40.028079999999996, -75.02755], [40.111309999999996, -74.99256], [40.087728000000006, -74.989598], [39.936256, -75.21342], [40.010278, -75.05555600000001], [39.921363, -75.192212], [39.93965, -75.19821], [40.02917, -75.02557], [39.8837, -75.22700999999999], [40.01077, -75.08686999999999], [40.00695, -75.08165], [39.943169, -75.19073399999999], [40.02922, -75.02548], [39.921363, -75.192212], [39.903446, -75.22157], [39.903446, -75.22157], [40.00277, -75.06404], [40.02922, -75.02548], [39.936256, -75.21342], [40.02922, -75.02548], [39.913540000000005, -75.19889], [40.02922, -75.02548], [39.913540000000005, -75.19889], [40.005901, -75.072103], [40.005901, -75.072103], [39.936256, -75.21342], [40.00695, -75.08165], [40.032687, -75.024473], [40.00047, -75.11964], [40.03795, -75.1119], [39.8837, -75.22700999999999], [39.93965, -75.19821], [39.921363, -75.192212], [39.93965, -75.19821], [39.9671, -75.1269], [39.93965, -75.19821], [39.936256, -75.21342], [39.9425, -75.1886], [40.111309999999996, -74.99256], [39.9671, -75.1269], [40.00277, -75.06404], [39.91817, -75.23604], [39.99215, -75.1336], [39.903446, -75.22157], [40.1128, -74.99758], [40.03363, -75.2368], [39.94278, -75.18858], [40.028079999999996, -75.02755], [40.00277, -75.06404], [40.028079999999996, -75.02755], [39.9671, -75.1269], [39.936479999999996, -75.20973000000001], [40.00277, -75.06404], [39.90972, -75.13829], [39.913540000000005, -75.19889], [39.93965, -75.19821], [40.03363, -75.2368], [40.00678, -75.17534], [40.08286, -75.02155], [40.024770000000004, -75.02819699999999], [39.913540000000005, -75.19889], [39.936479999999996, -75.20973000000001], [40.024770000000004, -75.02819699999999], [40.005901, -75.072103], [40.005901, -75.072103], [39.913540000000005, -75.19889], [40.00277, -75.06404], [40.09, -74.9888], [40.00047, -75.11964], [40.02922, -75.02548], [39.893168, -75.178234], [40.10995, -75.00286], [40.024770000000004, -75.02819699999999], [40.00678, -75.17534], [40.10995, -75.00286], [40.09239, -75.00545], [39.9769, -75.18762], [40.02922, -75.02548], [40.092611, -75.01333299999999], [40.028079999999996, -75.02755], [39.95367, -75.14803], [40.024770000000004, -75.02819699999999], [40.02922, -75.02548], [39.936256, -75.21342], [39.913540000000005, -75.19889], [39.93965, -75.19821], [39.913540000000005, -75.19889], [40.005901, -75.072103], [40.02922, -75.02548], [39.936479999999996, -75.20973000000001], [39.936256, -75.21342], [40.09, -74.9888], [40.00867, -75.06844], [40.00277, -75.06404], [40.03795, -75.1119], [39.936256, -75.21342], [39.95367, -75.14803], [40.028079999999996, -75.02755], [40.03795, -75.1119], [39.913540000000005, -75.19889], [39.90972, -75.13829], [40.02388, -75.22045], [40.024770000000004, -75.02819699999999], [40.028079999999996, -75.02755], [39.936479999999996, -75.20973000000001], [40.00695, -75.08165], [39.936479999999996, -75.20973000000001], [39.903446, -75.22157], [39.936256, -75.21342], [39.920120000000004, -75.14641], [39.913540000000005, -75.19889], [40.00277, -75.06404], [39.99288, -75.10327], [39.903446, -75.22157], [40.028079999999996, -75.02755], [40.005901, -75.072103], [39.913540000000005, -75.19889], [40.00678, -75.17534], [39.9671, -75.1269], [40.00695, -75.08165], [40.02917, -75.02557], [39.903446, -75.22157], [39.903446, -75.22157], [40.02922, -75.02548], [40.024770000000004, -75.02819699999999], [40.024770000000004, -75.02819699999999], [40.024770000000004, -75.02819699999999], [40.010278, -75.05555600000001], [39.913540000000005, -75.19889], [40.087728000000006, -74.989598], [40.087728000000006, -74.989598], [40.087728000000006, -74.989598], [39.90972, -75.13829], [40.10395, -75.00227], [39.90972, -75.13829], [39.9425, -75.1886], [40.02922, -75.02548], [39.936479999999996, -75.18571999999999], [39.903446, -75.22157], [40.005901, -75.072103], [40.02922, -75.02548], [40.024770000000004, -75.02819699999999], [40.028079999999996, -75.02755], [40.02922, -75.02548], [40.10972, -75.034785], [40.00695, -75.08165], [40.10995, -75.00286], [40.00047, -75.11964], [40.09239, -75.00545], [40.00277, -75.06404], [40.00277, -75.06404], [40.00277, -75.06404], [40.02922, -75.02548], [40.02922, -75.02548], [39.936256, -75.21342], [39.913540000000005, -75.19889], [39.90972, -75.13829], [40.028079999999996, -75.02755], [39.913540000000005, -75.19889], [40.024770000000004, -75.02819699999999], [39.913540000000005, -75.19889], [40.005901, -75.072103], [39.93965, -75.19821], [40.028079999999996, -75.02755], [40.024770000000004, -75.02819699999999], [39.913540000000005, -75.19889], [39.8837, -75.22700999999999], [40.02917, -75.02557], [39.93965, -75.19821], [39.93965, -75.19821], [40.00273, -75.18434], [39.936479999999996, -75.20973000000001], [40.10995, -75.00286], [39.893168, -75.178234], [40.00478, -75.1791], [39.913540000000005, -75.19889], [40.02922, -75.02548], [40.028079999999996, -75.02755], [40.005901, -75.072103], [39.90972, -75.13829], [40.00867, -75.06844], [39.90972, -75.13829], [39.913540000000005, -75.19889], [39.913540000000005, -75.19889], [40.01077, -75.08686999999999], [39.913540000000005, -75.19889], [39.943169, -75.19073399999999], [40.09239, -75.00545], [39.920120000000004, -75.14641], [39.936479999999996, -75.20973000000001], [39.90972, -75.13829], [39.95367, -75.14803], [39.93965, -75.19821], [39.959140000000005, -75.15507], [39.90972, -75.13829], [40.10972, -75.034785], [40.02922, -75.02548], [40.00867, -75.06844], [39.903446, -75.22157], [39.913540000000005, -75.19889], [39.913540000000005, -75.19889], [40.005901, -75.072103], [39.921363, -75.192212], [40.087728000000006, -74.989598], [39.913540000000005, -75.19889], [39.913540000000005, -75.19889], [40.005901, -75.072103], [40.10494, -75.00178000000001], [39.943169, -75.19073399999999], [39.913540000000005, -75.19889], [39.93965, -75.19821], [39.9425, -75.1886], [39.936256, -75.21342], [39.936479999999996, -75.20973000000001], [39.936256, -75.21342], [40.09239, -75.00545], [40.09239, -75.00545], [39.936479999999996, -75.20973000000001], [39.936479999999996, -75.20973000000001], [39.9769, -75.18762], [40.10972, -75.034785], [40.005901, -75.072103], [40.005901, -75.072103], [39.921363, -75.192212], [39.94278, -75.18858], [39.913540000000005, -75.19889], [40.00277, -75.06404], [40.03795, -75.1119], [39.90972, -75.13829], [39.959140000000005, -75.15507], [40.08286, -75.02155], [39.913540000000005, -75.19889], [39.913540000000005, -75.19889], [39.913540000000005, -75.19889], [39.94278, -75.18858], [40.09, -74.9888], [39.921363, -75.192212], [39.93965, -75.19821], [39.93965, -75.19821], [40.03795, -75.1119], [40.00277, -75.06404], [39.913540000000005, -75.19889], [39.93965, -75.19821], [40.024770000000004, -75.02819699999999], [40.028079999999996, -75.02755], [40.02922, -75.02548], [40.010278, -75.05555600000001], [40.00277, -75.06404], [40.00695, -75.08165], [40.024770000000004, -75.02819699999999], [40.00678, -75.17534], [40.10995, -75.00286], [39.93965, -75.19821], [40.087728000000006, -74.989598], [39.8837, -75.22700999999999], [39.959140000000005, -75.15507], [39.98786, -75.09546999999999], [39.913540000000005, -75.19889], [39.93965, -75.19821], [40.00277, -75.06404], [39.903446, -75.22157], [39.903446, -75.22157], [40.00047, -75.11964], [39.921363, -75.192212], [39.90972, -75.13829], [40.01077, -75.08686999999999], [39.90972, -75.13829], [40.005901, -75.072103], [40.028079999999996, -75.02755], [40.024770000000004, -75.02819699999999], [40.028079999999996, -75.02755], [40.03363, -75.2368], [40.024770000000004, -75.02819699999999], [39.921363, -75.192212], [39.921363, -75.192212], [39.903446, -75.22157], [39.921363, -75.192212], [39.94278, -75.18858], [40.10494, -75.00178000000001], [39.913540000000005, -75.19889], [39.913540000000005, -75.19889], [40.028079999999996, -75.02755], [40.00047, -75.11964], [40.005901, -75.072103], [40.09239, -75.00545], [39.913540000000005, -75.19889], [39.913540000000005, -75.19889], [39.936479999999996, -75.20973000000001], [40.10995, -75.00286], [40.10995, -75.00286], [40.005901, -75.072103], [39.913540000000005, -75.19889], [40.00273, -75.18434], [39.913540000000005, -75.19889], [40.02922, -75.02548], [39.90972, -75.13829], [40.00277, -75.06404], [39.92626, -75.14588], [40.028079999999996, -75.02755], [40.00047, -75.11964], [39.95367, -75.14803], [39.936479999999996, -75.20973000000001], [40.10972, -75.034785], [39.9671, -75.1269], [39.903446, -75.22157], [40.00695, -75.08165], [40.1128, -74.99758], [40.10395, -75.00227], [39.91817, -75.23604], [40.02388, -75.22045], [39.936256, -75.21342], [39.93965, -75.19821], [39.93965, -75.19821], [39.913540000000005, -75.19889], [39.936479999999996, -75.20973000000001], [39.90972, -75.13829], [40.087728000000006, -74.989598], [39.893168, -75.178234], [39.936256, -75.21342], [40.028079999999996, -75.02755], [39.913540000000005, -75.19889], [40.028079999999996, -75.02755], [39.8837, -75.22700999999999], [39.9425, -75.1886], [39.9425, -75.1886], [39.90972, -75.13829], [39.903446, -75.22157], [39.99204, -75.06886], [40.00277, -75.06404], [40.028079999999996, -75.02755], [39.9425, -75.1886], [40.02388, -75.22045], [39.936479999999996, -75.18571999999999], [39.920120000000004, -75.14641], [40.10995, -75.00286], [39.95367, -75.14803], [39.913540000000005, -75.19889], [39.949037, -75.155787], [39.903446, -75.22157], [39.913540000000005, -75.19889], [40.005901, -75.072103], [39.99215, -75.1336], [40.005901, -75.072103], [40.005901, -75.072103], [40.00695, -75.08165], [40.00695, -75.08165], [39.913540000000005, -75.19889], [40.028079999999996, -75.02755], [40.028079999999996, -75.02755], [39.95367, -75.14803], [39.913540000000005, -75.19889], [39.936479999999996, -75.20973000000001], [40.00277, -75.06404], [40.03795, -75.1119], [39.93965, -75.19821], [40.111309999999996, -74.99256], [40.00695, -75.08165], [40.005901, -75.072103], [39.920120000000004, -75.14641], [39.893168, -75.178234], [40.02922, -75.02548], [39.94278, -75.18858], [39.9425, -75.1886], [39.98786, -75.09546999999999], [39.936256, -75.21342], [40.087728000000006, -74.989598], [40.00478, -75.1791], [40.00277, -75.06404], [40.087728000000006, -74.989598], [40.09, -74.9888], [39.90972, -75.13829], [39.936256, -75.21342], [39.90972, -75.13829], [39.913540000000005, -75.19889], [39.913540000000005, -75.19889], [39.913540000000005, -75.19889], [39.913540000000005, -75.19889], [39.913540000000005, -75.19889], [40.028079999999996, -75.02755], [39.936256, -75.21342], [39.962709999999994, -75.16308000000001], [40.00277, -75.06404], [40.00277, -75.06404], [39.90972, -75.13829], [40.00277, -75.06404], [39.936256, -75.21342], [39.9425, -75.1886], [40.087728000000006, -74.989598], [40.028079999999996, -75.02755], [39.9425, -75.1886], [40.005901, -75.072103], [39.936479999999996, -75.20973000000001], [40.10972, -75.034785], [40.02922, -75.02548], [39.8837, -75.22700999999999], [40.10995, -75.00286], [39.936256, -75.21342], [40.09239, -75.00545], [39.913540000000005, -75.19889], [40.00614, -75.11492], [39.90972, -75.13829], [40.028079999999996, -75.02755], [39.9769, -75.18762], [40.005901, -75.072103], [39.98786, -75.09546999999999], [39.913540000000005, -75.19889], [39.9425, -75.1886], [40.00277, -75.06404], [40.03363, -75.2368], [40.02388, -75.22045], [40.06714, -75.01798000000001], [40.024770000000004, -75.02819699999999], [39.936479999999996, -75.20973000000001], [40.02388, -75.22045], [39.921363, -75.192212], [39.913540000000005, -75.19889], [40.10995, -75.00286], [39.93965, -75.19821], [40.00695, -75.08165], [39.95367, -75.14803], [40.10972, -75.034785], [40.00478, -75.1791], [40.02922, -75.02548], [39.913540000000005, -75.19889], [40.01077, -75.08686999999999], [40.005901, -75.072103], [39.920120000000004, -75.14641], [40.028079999999996, -75.02755], [39.913540000000005, -75.19889], [39.903446, -75.22157], [39.913540000000005, -75.19889], [39.959140000000005, -75.15507], [40.00695, -75.08165], [39.959140000000005, -75.15507], [40.024770000000004, -75.02819699999999], [39.936256, -75.21342], [39.93965, -75.19821], [40.028079999999996, -75.02755], [39.936479999999996, -75.20973000000001], [40.02922, -75.02548], [40.00277, -75.06404], [40.00277, -75.06404], [39.90972, -75.13829], [40.028079999999996, -75.02755], [39.95367, -75.14803], [40.03795, -75.1119], [39.93965, -75.19821], [39.936256, -75.21342], [39.903446, -75.22157], [40.02922, -75.02548], [39.99215, -75.1336], [40.028079999999996, -75.02755], [40.02922, -75.02548], [40.09239, -75.00545], [39.936479999999996, -75.20973000000001], [40.005901, -75.072103], [40.005901, -75.072103], [39.913540000000005, -75.19889], [39.903446, -75.22157], [39.903446, -75.22157], [39.903446, -75.22157], [40.028079999999996, -75.02755], [39.9833, -75.0948], [39.921363, -75.192212], [39.936479999999996, -75.20973000000001], [39.936479999999996, -75.18571999999999], [40.087728000000006, -74.989598], [40.087728000000006, -74.989598], [40.02922, -75.02548], [40.02922, -75.02548], [39.95367, -75.14803], [40.00047, -75.11964], [39.920120000000004, -75.14641], [40.010278, -75.05555600000001], [40.00273, -75.18434], [40.02922, -75.02548], [39.93965, -75.19821], [39.98786, -75.09546999999999], [39.893168, -75.178234], [40.00695, -75.08165], [40.028079999999996, -75.02755], [40.02922, -75.02548], [40.00695, -75.08165], [40.005901, -75.072103], [40.10995, -75.00286], [40.00047, -75.11964], [40.087728000000006, -74.989598], [39.903446, -75.22157], [40.111309999999996, -74.99256], [39.98663, -75.13589], [39.90972, -75.13829], [40.02388, -75.22045], [39.93965, -75.19821], [39.90972, -75.13829], [40.06714, -75.01798000000001], [39.913540000000005, -75.19889], [39.913540000000005, -75.19889], [39.9425, -75.1886], [39.936479999999996, -75.20973000000001], [40.00678, -75.17534], [40.005901, -75.072103], [39.9671, -75.1269], [40.10995, -75.00286], [40.03795, -75.1119], [39.913540000000005, -75.19889], [40.10995, -75.00286], [39.903446, -75.22157], [39.93965, -75.19821], [40.06714, -75.01798000000001], [40.005901, -75.072103], [39.90972, -75.13829], [39.913540000000005, -75.19889], [39.913540000000005, -75.19889], [40.028079999999996, -75.02755], [39.903446, -75.22157], [39.936256, -75.21342], [40.00695, -75.08165], [39.93965, -75.19821], [39.936479999999996, -75.20973000000001], [39.913540000000005, -75.19889], [40.10395, -75.00227], [39.893168, -75.178234], [39.8837, -75.22700999999999], [39.93965, -75.19821], [39.903446, -75.22157], [40.00277, -75.06404], [40.00412, -75.11386], [40.10494, -75.00178000000001], [40.00412, -75.11386], [40.00695, -75.08165], [40.005901, -75.072103], [39.91817, -75.23604], [40.06714, -75.01798000000001], [39.913540000000005, -75.19889], [40.00277, -75.06404], [40.03795, -75.1119], [39.99204, -75.06886], [39.92626, -75.14588], [39.93965, -75.19821], [40.09239, -75.00545], [40.10395, -75.00227], [40.005901, -75.072103], [39.913540000000005, -75.19889], [39.913540000000005, -75.19889], [40.012159999999994, -75.16197], [40.00695, -75.08165], [40.09239, -75.00545], [39.93965, -75.19821], [40.087728000000006, -74.989598], [40.005901, -75.072103], [40.10972, -75.034785], [40.005901, -75.072103], [40.028079999999996, -75.02755], [39.93965, -75.19821], [39.959140000000005, -75.15507], [40.02922, -75.02548], [40.00412, -75.11386], [40.00273, -75.18434], [40.02922, -75.02548], [40.005901, -75.072103], [39.913540000000005, -75.19889], [39.90972, -75.13829], [40.028079999999996, -75.02755], [40.00277, -75.06404], [39.90972, -75.13829], [39.93965, -75.19821], [39.9769, -75.18762], [39.959140000000005, -75.15507], [40.00277, -75.06404], [40.087728000000006, -74.989598], [39.913540000000005, -75.19889], [40.028079999999996, -75.02755], [40.02922, -75.02548], [39.98786, -75.09546999999999], [40.028079999999996, -75.02755], [40.09239, -75.00545], [40.09239, -75.00545], [40.005901, -75.072103], [40.00695, -75.08165], [39.93965, -75.19821], [39.936256, -75.21342], [39.91817, -75.23604], [39.913540000000005, -75.19889], [39.93965, -75.19821], [40.06714, -75.01798000000001], [40.02388, -75.22045], [40.02922, -75.02548], [40.005901, -75.072103], [39.913540000000005, -75.19889], [40.00695, -75.08165], [39.93965, -75.19821], [39.962709999999994, -75.16308000000001], [39.936479999999996, -75.18571999999999], [40.005901, -75.072103], [39.8837, -75.22700999999999], [39.913540000000005, -75.19889], [39.913540000000005, -75.19889], [39.936256, -75.21342], [39.93965, -75.19821], [40.087728000000006, -74.989598], [40.02922, -75.02548], [40.03363, -75.2368], [39.98663, -75.13589], [40.028079999999996, -75.02755], [40.028079999999996, -75.02755], [40.00678, -75.17534], [40.00047, -75.11964], [40.03363, -75.2368], [40.03795, -75.1119], [39.913540000000005, -75.19889], [39.913540000000005, -75.19889], [39.913540000000005, -75.19889], [39.920120000000004, -75.14641], [40.111309999999996, -74.99256], [39.90972, -75.13829], [40.087728000000006, -74.989598], [39.90972, -75.13829], [40.06714, -75.01798000000001], [40.00277, -75.06404], [40.028079999999996, -75.02755], [39.913540000000005, -75.19889], [39.913540000000005, -75.19889], [40.00047, -75.11964], [39.99215, -75.1336], [40.005901, -75.072103], [39.913540000000005, -75.19889], [40.06714, -75.01798000000001], [39.92626, -75.14588], [40.00478, -75.1791], [40.02922, -75.02548], [39.893168, -75.178234], [40.10972, -75.034785], [40.00277, -75.06404], [39.8837, -75.22700999999999], [39.913540000000005, -75.19889], [40.087728000000006, -74.989598], [39.93965, -75.19821], [39.93965, -75.19821], [39.936256, -75.21342], [40.00695, -75.08165], [40.087728000000006, -74.989598], [39.90972, -75.13829], [40.087728000000006, -74.989598], [39.893168, -75.178234], [39.959140000000005, -75.15507], [39.913540000000005, -75.19889], [40.06714, -75.01798000000001], [40.02922, -75.02548], [39.9833, -75.0948], [40.06714, -75.01798000000001], [39.95367, -75.14803], [39.913540000000005, -75.19889], [40.00412, -75.11386], [40.00695, -75.08165], [39.920120000000004, -75.14641], [40.03795, -75.1119], [40.00277, -75.06404], [39.90972, -75.13829], [40.005901, -75.072103], [40.08286, -75.02155], [39.98786, -75.09546999999999], [39.93965, -75.19821], [40.087728000000006, -74.989598], [39.93965, -75.19821], [40.00695, -75.08165], [40.02922, -75.02548], [40.10494, -75.00178000000001], [40.00277, -75.06404], [39.913540000000005, -75.19889], [40.028079999999996, -75.02755], [40.01077, -75.08686999999999], [39.936256, -75.21342], [39.8837, -75.22700999999999], [40.03795, -75.1119], [40.02922, -75.02548], [39.95367, -75.14803], [40.00277, -75.06404], [39.99204, -75.06886], [39.913540000000005, -75.19889], [39.936256, -75.21342], [40.028079999999996, -75.02755], [39.913540000000005, -75.19889], [40.028079999999996, -75.02755], [40.02922, -75.02548], [39.95367, -75.14803], [39.90972, -75.13829], [39.90972, -75.13829], [40.028079999999996, -75.02755], [39.962709999999994, -75.16308000000001], [39.98319, -75.08388000000001], [39.98319, -75.08388000000001], [40.00695, -75.08165], [40.00695, -75.08165], [39.91817, -75.23604], [40.087728000000006, -74.989598], [40.005901, -75.072103], [40.005901, -75.072103], [39.913540000000005, -75.19889], [39.913540000000005, -75.19889], [39.913540000000005, -75.19889], [39.913540000000005, -75.19889], [39.93965, -75.19821], [39.913540000000005, -75.19889], [40.00277, -75.06404], [40.028079999999996, -75.02755], [40.00277, -75.06404], [40.02922, -75.02548], [40.09239, -75.00545], [40.012159999999994, -75.16197], [40.00273, -75.18434], [40.00273, -75.18434], [39.959140000000005, -75.15507], [39.920120000000004, -75.14641], [40.01695, -75.1338], [40.06714, -75.01798000000001], [39.936256, -75.21342], [39.98319, -75.08388000000001], [39.993365999999995, -75.108351], [40.028079999999996, -75.02755], [40.03363, -75.2368], [39.95367, -75.14803], [39.913540000000005, -75.19889], [39.913540000000005, -75.19889], [39.913540000000005, -75.19889], [39.93965, -75.19821], [40.01077, -75.08686999999999], [40.00695, -75.08165], [39.913540000000005, -75.19889], [40.087728000000006, -74.989598], [40.00277, -75.06404], [39.8837, -75.22700999999999], [40.00273, -75.18434], [40.005901, -75.072103], [40.06714, -75.01798000000001], [40.00695, -75.08165], [39.98663, -75.13589], [40.06714, -75.01798000000001], [40.005901, -75.072103], [39.92626, -75.14588], [40.028079999999996, -75.02755], [40.00695, -75.08165], [39.893168, -75.178234], [40.03363, -75.2368], [39.9398, -75.17238], [39.959140000000005, -75.15507], [39.959140000000005, -75.15507], [40.03795, -75.1119], [39.90972, -75.13829], [39.9833, -75.0948], [39.90972, -75.13829], [39.913540000000005, -75.19889], [40.02922, -75.02548], [40.00678, -75.17534], [40.00277, -75.06404], [39.913540000000005, -75.19889], [39.913540000000005, -75.19889], [39.98319, -75.08388000000001], [40.00277, -75.06404], [39.98319, -75.08388000000001], [40.087728000000006, -74.989598], [40.10972, -75.034785], [39.9398, -75.17238], [40.01695, -75.1338], [40.00478, -75.1791], [40.005901, -75.072103], [40.028079999999996, -75.02755], [39.978, -75.11905], [39.936256, -75.21342], [40.00277, -75.06404], [39.93965, -75.19821], [40.00277, -75.06404], [40.09239, -75.00545], [40.111309999999996, -74.99256], [39.98786, -75.09546999999999], [39.978, -75.11905], [39.920120000000004, -75.14641], [40.06714, -75.01798000000001], [40.06714, -75.01798000000001], [39.936256, -75.21342], [39.936256, -75.21342], [39.8837, -75.22700999999999], [40.087728000000006, -74.989598], [40.09239, -75.00545], [40.087728000000006, -74.989598], [40.02922, -75.02548], [40.00412, -75.11386], [39.913540000000005, -75.19889], [39.913540000000005, -75.19889], [39.913540000000005, -75.19889], [39.99215, -75.1336], [40.02922, -75.02548], [39.913540000000005, -75.19889], [40.007059999999996, -75.08721], [40.028079999999996, -75.02755], [40.028079999999996, -75.02755], [40.00277, -75.06404], [39.936479999999996, -75.18571999999999], [39.913540000000005, -75.19889], [39.913540000000005, -75.19889], [40.10972, -75.034785], [39.99204, -75.06886], [39.98319, -75.08388000000001], [40.03795, -75.1119], [40.01695, -75.1338], [39.8837, -75.22700999999999], [39.90972, -75.13829], [40.007059999999996, -75.08721], [39.978, -75.11905], [40.02922, -75.02548], [40.09239, -75.00545], [40.028079999999996, -75.02755], [39.98319, -75.08388000000001], [39.90972, -75.13829], [39.93965, -75.19821], [39.936256, -75.21342], [40.028079999999996, -75.02755], [40.005901, -75.072103], [39.913540000000005, -75.19889], [39.93965, -75.19821], [40.00412, -75.11386], [39.95367, -75.14803], [40.00047, -75.11964], [40.02922, -75.02548], [40.02922, -75.02548], [40.00277, -75.06404], [39.95367, -75.14803], [39.913540000000005, -75.19889], [39.90972, -75.13829], [39.90972, -75.13829], [40.035309999999996, -75.10472], [40.005901, -75.072103], [40.02922, -75.02548], [40.087728000000006, -74.989598], [40.007059999999996, -75.08721], [40.01845, -75.13719], [40.01695, -75.1338], [40.00277, -75.06404], [40.10972, -75.034785], [40.00273, -75.18434], [40.028079999999996, -75.02755], [40.00277, -75.06404], [40.005901, -75.072103], [39.93965, -75.19821], [39.9769, -75.18762], [39.913540000000005, -75.19889], [40.005901, -75.072103], [39.913540000000005, -75.19889], [39.913540000000005, -75.19889], [39.913540000000005, -75.19889], [40.00695, -75.08165], [40.02922, -75.02548], [39.893168, -75.178234], [40.01695, -75.1338], [39.98319, -75.08388000000001], [39.913540000000005, -75.19889], [40.087728000000006, -74.989598], [40.007059999999996, -75.08721], [40.10494, -75.00178000000001], [40.087728000000006, -74.989598], [40.00614, -75.11492], [39.92626, -75.14588], [39.893168, -75.178234], [40.007059999999996, -75.08721], [40.00277, -75.06404], [40.01077, -75.08686999999999], [39.9833, -75.0948], [40.00695, -75.08165], [39.99215, -75.1336], [40.01695, -75.1338], [39.95367, -75.14803], [39.91817, -75.23604], [40.10395, -75.00227], [39.936256, -75.21342], [40.028079999999996, -75.02755], [40.02922, -75.02548], [40.02922, -75.02548], [40.02922, -75.02548], [39.9769, -75.18762], [39.9398, -75.17238], [39.959140000000005, -75.15507], [40.00277, -75.06404], [39.94547, -75.20859], [39.936256, -75.21342], [39.913540000000005, -75.19889], [39.913540000000005, -75.19889], [39.8837, -75.22700999999999], [39.993365999999995, -75.108351], [40.007059999999996, -75.08721], [39.998143, -75.161845], [40.028079999999996, -75.02755], [39.99215, -75.1336], [40.00478, -75.1791], [39.913540000000005, -75.19889], [39.913540000000005, -75.19889], [40.00277, -75.06404], [39.978, -75.11905], [40.10972, -75.034785], [40.028079999999996, -75.02755], [40.00047, -75.11964], [39.936256, -75.21342], [39.913540000000005, -75.19889], [40.03363, -75.2368], [39.962709999999994, -75.16308000000001], [39.998143, -75.161845], [40.02922, -75.02548], [40.02922, -75.02548], [40.06714, -75.01798000000001], [40.005901, -75.072103], [39.93965, -75.19821], [40.028079999999996, -75.02755], [40.00412, -75.11386], [39.98319, -75.08388000000001], [40.02922, -75.02548], [40.00277, -75.06404], [39.99204, -75.06886], [39.913540000000005, -75.19889], [39.92626, -75.14588], [39.893168, -75.178234], [39.913540000000005, -75.19889], [40.01845, -75.13719], [40.10972, -75.034785], [39.913540000000005, -75.19889], [40.09239, -75.00545], [40.00614, -75.11492], [40.01695, -75.1338], [40.10995, -75.00286], [39.913540000000005, -75.19889], [40.00277, -75.06404], [39.90972, -75.13829], [39.98319, -75.08388000000001], [39.893168, -75.178234], [40.028079999999996, -75.02755], [40.028079999999996, -75.02755], [39.913540000000005, -75.19889], [40.03363, -75.2368], [40.00678, -75.17534], [39.95367, -75.14803], [39.893168, -75.178234], [40.03795, -75.1119], [40.03795, -75.1119], [40.09239, -75.00545], [39.893168, -75.178234], [40.00695, -75.08165], [39.90972, -75.13829], [40.02922, -75.02548], [40.00277, -75.06404], [39.90972, -75.13829], [39.93965, -75.19821], [39.93965, -75.19821], [40.10995, -75.00286], [39.98319, -75.08388000000001], [40.02922, -75.02548], [39.90972, -75.13829], [40.01695, -75.1338], [40.01695, -75.1338], [39.913540000000005, -75.19889], [39.98319, -75.08388000000001], [40.06714, -75.01798000000001], [40.087728000000006, -74.989598], [39.90972, -75.13829], [39.98663, -75.13589], [40.00277, -75.06404], [40.00277, -75.06404], [39.90972, -75.13829], [40.06714, -75.01798000000001], [40.005901, -75.072103], [40.00695, -75.08165], [40.04837, -74.9904], [39.913540000000005, -75.19889], [39.920120000000004, -75.14641], [39.920120000000004, -75.14641], [40.087728000000006, -74.989598], [39.913540000000005, -75.19889], [39.913540000000005, -75.19889], [39.913540000000005, -75.19889], [39.95367, -75.14803], [39.98319, -75.08388000000001], [40.007059999999996, -75.08721], [40.028079999999996, -75.02755], [39.98319, -75.08388000000001], [40.00695, -75.08165], [39.93965, -75.19821], [40.06714, -75.01798000000001], [39.93965, -75.19821], [39.93965, -75.19821], [39.913540000000005, -75.19889], [39.98786, -75.09546999999999], [39.959140000000005, -75.15507], [40.028079999999996, -75.02755], [39.978, -75.11905], [40.01501, -75.11041999999999], [40.111309999999996, -74.99256], [39.98786, -75.09546999999999], [39.913540000000005, -75.19889], [39.913540000000005, -75.19889], [39.98319, -75.08388000000001], [40.087728000000006, -74.989598], [40.00273, -75.18434], [39.90972, -75.13829], [39.998143, -75.161845], [39.998143, -75.161845], [40.005901, -75.072103], [40.005901, -75.072103], [40.01695, -75.1338], [40.00277, -75.06404], [40.10494, -75.00178000000001], [39.98319, -75.08388000000001], [39.913540000000005, -75.19889], [40.005901, -75.072103], [39.95367, -75.14803], [40.012159999999994, -75.16197], [39.936256, -75.21342], [40.00277, -75.06404], [39.9398, -75.17238], [40.028079999999996, -75.02755], [39.93965, -75.19821], [39.893168, -75.178234], [40.06714, -75.01798000000001], [40.005901, -75.072103], [40.005901, -75.072103], [39.978, -75.11905], [40.005901, -75.072103], [40.111309999999996, -74.99256], [39.93965, -75.19821], [39.913540000000005, -75.19889], [39.93965, -75.19821], [40.02388, -75.22045], [39.936256, -75.21342], [40.00273, -75.18434], [40.10972, -75.034785], [39.893168, -75.178234], [39.913540000000005, -75.19889], [39.913540000000005, -75.19889], [40.06714, -75.01798000000001], [40.087728000000006, -74.989598], [40.005901, -75.072103], [39.8837, -75.22700999999999], [39.936256, -75.21342], [39.959140000000005, -75.15507], [40.027134999999994, -75.029225], [40.087728000000006, -74.989598], [39.936256, -75.21342], [39.936479999999996, -75.18571999999999], [40.00412, -75.11386], [40.00695, -75.08165], [40.087728000000006, -74.989598], [40.03333, -75.10116], [40.007059999999996, -75.08721], [40.00695, -75.08165], [39.913540000000005, -75.19889], [39.913540000000005, -75.19889], [40.02543, -75.03220999999999], [40.111309999999996, -74.99256], [40.111309999999996, -74.99256], [40.02922, -75.02548], [40.02922, -75.02548], [40.03795, -75.1119], [40.00412, -75.11386], [40.00277, -75.06404], [39.93965, -75.19821], [40.00412, -75.11386], [39.913540000000005, -75.19889], [39.913540000000005, -75.19889], [40.087728000000006, -74.989598], [40.005901, -75.072103], [40.10995, -75.00286], [40.10972, -75.034785], [40.06714, -75.01798000000001], [40.028079999999996, -75.02755], [39.978, -75.11905], [40.005901, -75.072103], [40.02936, -75.02523000000001], [40.10494, -75.00178000000001], [39.92626, -75.14588], [40.00277, -75.06404], [39.93965, -75.19821], [39.95367, -75.14803], [40.02922, -75.02548], [39.98319, -75.08388000000001], [39.901577, -75.203163], [39.95367, -75.14803], [39.95367, -75.14803], [40.005901, -75.072103], [40.00412, -75.11386], [39.901577, -75.203163], [39.913540000000005, -75.19889], [39.913540000000005, -75.19889], [40.00277, -75.06404], [39.98319, -75.08388000000001], [39.959140000000005, -75.15507], [39.99288, -75.10327], [40.04837, -74.9904], [40.00277, -75.06404], [39.90972, -75.13829], [40.03363, -75.2368], [39.98319, -75.08388000000001], [39.98319, -75.08388000000001], [39.901577, -75.203163], [40.00695, -75.08165], [40.01077, -75.08686999999999], [40.00695, -75.08165], [39.913540000000005, -75.19889], [40.087728000000006, -74.989598], [39.962709999999994, -75.16308000000001], [39.936479999999996, -75.18571999999999], [39.90972, -75.13829], [39.99087, -75.09123000000001], [40.028079999999996, -75.02755], [39.920120000000004, -75.14641], [40.00277, -75.06404], [39.913540000000005, -75.19889], [40.02543, -75.03220999999999], [40.00277, -75.06404], [40.06714, -75.01798000000001], [40.087728000000006, -74.989598], [40.00277, -75.06404], [39.93965, -75.19821], [39.913540000000005, -75.19889], [40.00277, -75.06404], [39.959140000000005, -75.15507], [39.8837, -75.22700999999999], [40.028079999999996, -75.02755], [40.10972, -75.034785], [40.028079999999996, -75.02755], [40.00277, -75.06404], [40.02936, -75.02523000000001], [40.09239, -75.00545], [39.99087, -75.09123000000001], [40.00678, -75.17534], [39.8837, -75.22700999999999], [40.02543, -75.03220999999999], [39.90972, -75.13829], [39.9833, -75.0948], [39.936256, -75.21342], [39.92626, -75.14588], [39.901577, -75.203163], [40.02543, -75.03220999999999], [39.962709999999994, -75.16308000000001], [40.00277, -75.06404], [40.087728000000006, -74.989598], [39.90972, -75.13829], [39.8837, -75.22700999999999], [39.901577, -75.203163], [39.998143, -75.161845], [40.007059999999996, -75.08721], [40.007059999999996, -75.08721], [39.913540000000005, -75.19889], [40.005901, -75.072103], [39.962709999999994, -75.16308000000001], [39.998143, -75.161845], [40.00695, -75.08165], [39.936256, -75.21342], [40.005901, -75.072103], [40.007059999999996, -75.08721], [39.998143, -75.161845], [39.901577, -75.203163], [39.98786, -75.09546999999999], [39.913540000000005, -75.19889], [40.00277, -75.06404], [39.901577, -75.203163], [40.012159999999994, -75.16197], [39.94547, -75.20859], [40.02922, -75.02548], [39.913540000000005, -75.19889], [39.901577, -75.203163], [39.901577, -75.203163], [40.028079999999996, -75.02755], [40.00273, -75.18434], [40.00277, -75.06404], [39.913540000000005, -75.19889], [40.005901, -75.072103], [39.901577, -75.203163], [39.901577, -75.203163], [40.00695, -75.08165], [39.901577, -75.203163], [39.901577, -75.203163], [40.01845, -75.13719], [40.00277, -75.06404], [39.901577, -75.203163], [40.00277, -75.06404], [40.00277, -75.06404], [39.913540000000005, -75.19889], [39.99215, -75.1336], [39.913540000000005, -75.19889], [40.087728000000006, -74.989598], [39.9398, -75.17238], [40.005901, -75.072103], [39.9398, -75.17238], [39.9769, -75.18762], [40.028079999999996, -75.02755], [39.936256, -75.21342], [40.01695, -75.1338], [40.01501, -75.11041999999999], [39.978, -75.11905], [40.10995, -75.00286], [40.02922, -75.02548], [39.913540000000005, -75.19889], [40.02922, -75.02548], [40.02922, -75.02548], [39.913540000000005, -75.19889], [39.920120000000004, -75.14641], [39.8837, -75.22700999999999], [39.993365999999995, -75.108351], [39.998143, -75.161845], [39.901577, -75.203163], [39.98319, -75.08388000000001], [39.99087, -75.09123000000001], [40.028079999999996, -75.02755], [40.00277, -75.06404], [40.00273, -75.18434], [39.913540000000005, -75.19889], [40.09239, -75.00545], [39.93965, -75.19821], [39.959140000000005, -75.15507], [40.00277, -75.06404], [40.00277, -75.06404], [40.00277, -75.06404], [39.901577, -75.203163], [40.028079999999996, -75.02755], [40.02922, -75.02548], [40.00277, -75.06404], [39.998143, -75.161845], [40.02388, -75.22045], [40.02922, -75.02548], [40.00277, -75.06404], [39.936256, -75.21342], [39.901577, -75.203163], [39.98786, -75.09546999999999], [39.913540000000005, -75.19889], [39.91817, -75.23604], [39.95367, -75.14803], [39.99204, -75.06886], [40.10395, -75.00227], [40.00478, -75.1791], [40.02936, -75.02523000000001], [40.06714, -75.01798000000001], [40.01317, -75.17376999999999], [39.936256, -75.21342], [39.913540000000005, -75.19889], [40.00047, -75.11964], [40.02543, -75.03220999999999], [39.901577, -75.203163], [39.901577, -75.203163], [39.98319, -75.08388000000001], [40.00273, -75.18434], [39.936256, -75.21342], [39.99087, -75.09123000000001], [40.10972, -75.034785], [39.936256, -75.21342], [39.99215, -75.1336], [40.02922, -75.02548], [39.98663, -75.13589], [40.014534000000005, -75.056562], [40.027134999999994, -75.029225], [39.98319, -75.08388000000001], [40.00277, -75.06404], [39.93965, -75.19821], [40.02922, -75.02548], [39.8837, -75.22700999999999], [40.02543, -75.03220999999999], [40.005901, -75.072103], [40.007059999999996, -75.08721], [39.93965, -75.19821], [40.02922, -75.02548], [40.01695, -75.1338], [40.028079999999996, -75.02755], [40.06714, -75.01798000000001], [39.901577, -75.203163], [39.978, -75.11905], [40.09239, -75.00545], [40.00277, -75.06404], [39.90972, -75.13829], [40.005901, -75.072103], [40.03363, -75.2368], [39.93965, -75.19821], [40.00695, -75.08165], [40.087728000000006, -74.989598], [39.913540000000005, -75.19889], [39.913540000000005, -75.19889], [39.913540000000005, -75.19889], [39.99288, -75.10327], [39.901577, -75.203163], [39.95367, -75.14803], [39.8837, -75.22700999999999], [39.901577, -75.203163], [39.93965, -75.19821], [40.109159999999996, -75.00198], [39.901577, -75.203163], [39.93965, -75.19821], [39.901577, -75.203163], [39.901577, -75.203163], [40.06714, -75.01798000000001], [40.00614, -75.11492], [40.01695, -75.1338], [39.98319, -75.08388000000001], [40.03795, -75.1119], [40.087728000000006, -74.989598], [40.028079999999996, -75.02755], [39.98319, -75.08388000000001], [40.06714, -75.01798000000001], [40.06714, -75.01798000000001], [40.10995, -75.00286], [39.936256, -75.21342], [40.00277, -75.06404], [40.02543, -75.03220999999999], [39.901577, -75.203163], [39.998143, -75.161845], [39.998143, -75.161845], [40.00695, -75.08165], [40.01845, -75.13719], [40.00277, -75.06404], [40.00277, -75.06404], [39.93965, -75.19821], [40.02936, -75.02523000000001], [39.913540000000005, -75.19889], [39.9769, -75.18762], [39.962709999999994, -75.16308000000001], [40.005901, -75.072103], [39.901577, -75.203163], [39.98319, -75.08388000000001], [40.00277, -75.06404], [40.00277, -75.06404], [39.913540000000005, -75.19889], [39.901577, -75.203163], [40.01077, -75.08686999999999], [40.028079999999996, -75.02755], [39.978, -75.11905], [40.00277, -75.06404], [39.901577, -75.203163], [40.09239, -75.00545], [40.01695, -75.1338], [40.00277, -75.06404], [40.06714, -75.01798000000001], [40.02922, -75.02548], [39.913540000000005, -75.19889], [40.02543, -75.03220999999999], [39.90972, -75.13829], [39.993365999999995, -75.108351], [40.00277, -75.06404], [40.00614, -75.11492], [39.920120000000004, -75.14641], [39.978, -75.11905], [39.901577, -75.203163], [40.109159999999996, -75.00198], [39.913540000000005, -75.19889], [40.028079999999996, -75.02755], [40.00277, -75.06404], [39.901577, -75.203163], [39.901577, -75.203163], [39.901577, -75.203163], [39.98319, -75.08388000000001], [40.087728000000006, -74.989598], [40.00277, -75.06404], [39.93965, -75.19821], [39.8837, -75.22700999999999], [40.00273, -75.18434], [39.901577, -75.203163], [39.998143, -75.161845], [39.913540000000005, -75.19889], [40.027134999999994, -75.029225], [39.98786, -75.09546999999999], [39.90972, -75.13829], [40.00277, -75.06404], [39.936256, -75.21342], [40.04837, -74.9904], [40.03363, -75.2368], [40.10972, -75.034785], [39.962709999999994, -75.16308000000001], [40.00277, -75.06404], [39.920120000000004, -75.14641], [40.005901, -75.072103], [40.09239, -75.00545], [40.00478, -75.1791], [40.00277, -75.06404], [39.913540000000005, -75.19889], [39.92626, -75.14588], [40.00761, -75.12638000000001], [40.00277, -75.06404], [39.901577, -75.203163], [40.005901, -75.072103], [40.00412, -75.11386], [39.998143, -75.161845], [39.98786, -75.09546999999999], [40.04837, -74.9904], [39.998143, -75.161845], [40.02922, -75.02548], [40.007059999999996, -75.08721], [39.913540000000005, -75.19889], [40.00277, -75.06404], [39.93965, -75.19821], [40.00695, -75.08165], [40.02543, -75.03220999999999], [40.10972, -75.034785], [39.99288, -75.10327], [39.959140000000005, -75.15507], [40.02922, -75.02548], [39.8837, -75.22700999999999], [40.007059999999996, -75.08721], [40.028079999999996, -75.02755], [40.005901, -75.072103], [39.913540000000005, -75.19889], [39.913540000000005, -75.19889], [40.02922, -75.02548], [40.02922, -75.02548], [40.06714, -75.01798000000001], [39.959140000000005, -75.15507], [39.99204, -75.06886], [40.10995, -75.00286], [39.936256, -75.21342], [39.936256, -75.21342], [40.00277, -75.06404], [40.00277, -75.06404], [40.012159999999994, -75.16197], [39.901577, -75.203163], [39.901577, -75.203163], [39.901577, -75.203163], [39.901577, -75.203163], [39.901577, -75.203163], [40.00695, -75.08165], [39.93965, -75.19821], [40.11139, -75.00109], [40.028079999999996, -75.02755], [40.028079999999996, -75.02755], [40.028079999999996, -75.02755], [39.913540000000005, -75.19889], [39.93965, -75.19821], [39.901577, -75.203163], [40.00277, -75.06404], [39.998143, -75.161845], [39.98319, -75.08388000000001], [39.936256, -75.21342], [39.8837, -75.22700999999999], [40.02922, -75.02548], [39.936256, -75.21342], [40.01845, -75.13719], [40.021, -75.06591999999999], [39.913540000000005, -75.19889], [40.02922, -75.02548], [39.99215, -75.1336], [39.901577, -75.203163], [40.00277, -75.06404], [39.913540000000005, -75.19889], [40.00277, -75.06404], [39.93965, -75.19821], [40.10494, -75.00178000000001], [39.913540000000005, -75.19889], [40.01501, -75.11041999999999], [40.00277, -75.06404], [40.007059999999996, -75.08721], [40.03363, -75.2368], [39.8837, -75.22700999999999], [40.10494, -75.00178000000001], [39.901577, -75.203163], [39.901577, -75.203163], [39.962709999999994, -75.16308000000001], [40.10972, -75.034785], [40.00277, -75.06404], [39.959140000000005, -75.15507], [39.90972, -75.13829], [40.005901, -75.072103], [39.90972, -75.13829], [39.913540000000005, -75.19889], [39.91817, -75.23604], [40.02388, -75.22045], [40.00277, -75.06404], [40.02543, -75.03220999999999], [39.9398, -75.17238], [39.913540000000005, -75.19889], [40.02922, -75.02548], [40.02922, -75.02548], [40.00695, -75.08165], [40.005901, -75.072103], [40.00678, -75.17534], [40.007059999999996, -75.08721], [39.90972, -75.13829], [39.98319, -75.08388000000001], [40.00273, -75.18434], [40.00277, -75.06404], [39.98319, -75.08388000000001], [40.005901, -75.072103], [39.913540000000005, -75.19889], [40.06714, -75.01798000000001], [39.8837, -75.22700999999999], [39.913540000000005, -75.19889], [39.8837, -75.22700999999999], [39.901577, -75.203163], [40.06714, -75.01798000000001], [40.087728000000006, -74.989598], [40.087728000000006, -74.989598], [40.02543, -75.03220999999999], [39.901577, -75.203163], [39.913540000000005, -75.19889], [40.00412, -75.11386], [39.99288, -75.10327], [39.936256, -75.21342], [40.01695, -75.1338], [39.901577, -75.203163], [39.98319, -75.08388000000001], [40.00277, -75.06404], [40.00695, -75.08165], [39.8837, -75.22700999999999], [40.09239, -75.00545], [39.913540000000005, -75.19889], [39.901577, -75.203163], [39.959140000000005, -75.15507], [39.901577, -75.203163], [39.998143, -75.161845], [39.98319, -75.08388000000001], [39.98319, -75.08388000000001], [39.936256, -75.21342], [39.913540000000005, -75.19889], [40.02543, -75.03220999999999], [40.028079999999996, -75.02755], [40.014534000000005, -75.056562], [40.087728000000006, -74.989598], [40.111309999999996, -74.99256], [40.111309999999996, -74.99256], [40.00277, -75.06404], [39.9398, -75.17238], [40.02922, -75.02548], [39.936479999999996, -75.18571999999999], [40.06714, -75.01798000000001], [40.00047, -75.11964], [40.01695, -75.1338], [40.087728000000006, -74.989598], [40.02936, -75.02523000000001], [40.02936, -75.02523000000001], [39.93965, -75.19821], [40.00277, -75.06404], [40.00273, -75.18434], [39.989340000000006, -75.10016], [39.959140000000005, -75.15507], [40.005901, -75.072103], [40.005901, -75.072103], [40.00277, -75.06404], [39.94547, -75.20859], [40.11139, -75.00109], [40.01695, -75.1338], [40.06714, -75.01798000000001], [40.00047, -75.11964], [39.90972, -75.13829], [40.10972, -75.034785], [40.09239, -75.00545], [39.978, -75.11905], [40.00277, -75.06404], [40.00277, -75.06404], [40.00277, -75.06404], [39.901577, -75.203163], [39.936256, -75.21342], [39.901577, -75.203163], [39.913540000000005, -75.19889], [39.98663, -75.13589], [40.02922, -75.02548], [40.02922, -75.02548], [40.02922, -75.02548], [40.01845, -75.13719], [40.005901, -75.072103], [40.00412, -75.11386], [39.98319, -75.08388000000001], [39.895739, -75.216212], [39.94547, -75.20859], [40.00277, -75.06404], [39.901577, -75.203163], [39.913540000000005, -75.19889], [40.00277, -75.06404], [39.936256, -75.21342], [39.98786, -75.09546999999999], [39.998143, -75.161845], [39.8837, -75.22700999999999], [40.00277, -75.06404], [40.111309999999996, -74.99256], [39.98663, -75.13589], [40.01077, -75.08686999999999], [39.901577, -75.203163], [40.00277, -75.06404], [40.00277, -75.06404], [40.00277, -75.06404], [40.00277, -75.06404], [40.00277, -75.06404], [40.00277, -75.06404], [40.00277, -75.06404], [40.00277, -75.06404], [40.00277, -75.06404], [40.00277, -75.06404], [39.959140000000005, -75.15507], [40.005901, -75.072103], [40.005901, -75.072103], [40.005901, -75.072103], [40.00273, -75.18434], [40.007059999999996, -75.08721], [40.007059999999996, -75.08721], [40.004738, -75.11372800000001], [39.913540000000005, -75.19889], [39.913540000000005, -75.19889], [39.913540000000005, -75.19889], [39.913540000000005, -75.19889], [40.08286, -75.02155], [40.10995, -75.00286], [39.93965, -75.19821], [39.98663, -75.13589], [40.111309999999996, -74.99256], [39.913540000000005, -75.19889], [40.02922, -75.02548], [39.98686, -75.09397], [40.00277, -75.06404], [39.98786, -75.09546999999999], [40.087728000000006, -74.989598], [40.00273, -75.18434], [39.90972, -75.13829], [40.02936, -75.02523000000001], [40.00277, -75.06404], [39.913540000000005, -75.19889], [40.0405, -75.17152], [39.8837, -75.22700999999999], [39.913540000000005, -75.19889], [40.10494, -75.00178000000001], [40.005901, -75.072103], [40.111309999999996, -74.99256], [40.087728000000006, -74.989598], [40.028079999999996, -75.02755], [39.905840000000005, -75.15151999999999], [39.901577, -75.203163], [40.00277, -75.06404], [40.007059999999996, -75.08721], [39.98686, -75.09397], [39.98686, -75.09397], [40.00277, -75.06404], [40.00047, -75.11964], [39.99215, -75.1336], [39.90972, -75.13829], [39.90972, -75.13829], [40.01501, -75.11041999999999], [39.901577, -75.203163], [39.913540000000005, -75.19889], [40.02922, -75.02548], [39.90972, -75.13829], [40.0898, -75.03341], [39.953804999999996, -75.1874], [39.959140000000005, -75.15507], [40.02922, -75.02548], [39.99288, -75.10327], [39.901577, -75.203163], [39.901577, -75.203163], [40.00277, -75.06404], [39.98786, -75.09546999999999], [40.00277, -75.06404], [40.06714, -75.01798000000001], [40.10395, -75.00227], [40.00277, -75.06404], [40.028079999999996, -75.02755], [39.913540000000005, -75.19889], [40.01695, -75.1338], [39.901577, -75.203163], [40.02922, -75.02548], [40.00273, -75.18434], [39.9769, -75.18762], [40.01845, -75.13719], [39.98786, -75.09546999999999], [40.00277, -75.06404], [39.901577, -75.203163], [40.09239, -75.00545], [39.98786, -75.09546999999999], [39.93965, -75.19821], [39.901577, -75.203163], [40.00277, -75.06404], [40.02922, -75.02548], [40.02922, -75.02548], [40.02936, -75.02523000000001], [40.007059999999996, -75.08721], [40.005901, -75.072103], [39.901577, -75.203163], [40.01077, -75.08686999999999], [39.913540000000005, -75.19889], [39.978, -75.11905], [39.978, -75.11905], [40.00277, -75.06404], [39.913540000000005, -75.19889], [39.99204, -75.06886], [40.10995, -75.00286], [39.913540000000005, -75.19889], [39.986891, -75.115629], [39.8837, -75.22700999999999], [39.901577, -75.203163], [39.901577, -75.203163], [39.901577, -75.203163], [39.901577, -75.203163], [39.901577, -75.203163], [40.00277, -75.06404], [40.06714, -75.01798000000001], [40.06714, -75.01798000000001], [39.959140000000005, -75.15507], [39.913540000000005, -75.19889], [40.01695, -75.1338], [40.10972, -75.034785], [40.10972, -75.034785], [39.98319, -75.08388000000001], [40.087728000000006, -74.989598], [39.99288, -75.10327], [40.00761, -75.12638000000001], [39.913540000000005, -75.19889], [40.03363, -75.2368], [39.9833, -75.0948], [39.920120000000004, -75.14641], [39.91817, -75.23604], [40.02922, -75.02548], [39.962709999999994, -75.16308000000001], [40.028079999999996, -75.02755], [40.109159999999996, -75.00198], [39.989340000000006, -75.10016], [40.00277, -75.06404], [40.02922, -75.02548], [39.98319, -75.08388000000001], [39.901577, -75.203163], [39.98319, -75.08388000000001], [40.005901, -75.072103], [39.913540000000005, -75.19889], [40.00277, -75.06404], [40.00277, -75.06404], [39.913540000000005, -75.19889], [39.936256, -75.21342], [40.007059999999996, -75.08721], [40.02922, -75.02548], [39.936256, -75.21342], [40.00277, -75.06404], [40.005901, -75.072103], [40.06714, -75.01798000000001], [39.901577, -75.203163], [40.00273, -75.18434], [40.06714, -75.01798000000001], [40.021, -75.06591999999999], [40.11139, -75.00109], [40.00277, -75.06404], [40.00277, -75.06404], [40.04837, -74.9904], [40.03795, -75.1119], [40.087728000000006, -74.989598], [40.111309999999996, -74.99256], [39.98319, -75.08388000000001], [40.01695, -75.1338], [40.00277, -75.06404], [40.00277, -75.06404], [39.8837, -75.22700999999999], [39.98686, -75.09397], [39.978, -75.11905], [40.087728000000006, -74.989598], [40.005901, -75.072103], [40.00277, -75.06404], [39.98319, -75.08388000000001], [39.98319, -75.08388000000001], [40.09239, -75.00545], [39.901577, -75.203163], [40.014534000000005, -75.056562], [40.00277, -75.06404], [40.00412, -75.11386], [40.00277, -75.06404], [39.9398, -75.17238], [39.901577, -75.203163], [39.92626, -75.14588], [39.913540000000005, -75.19889], [39.953804999999996, -75.1874], [39.936256, -75.21342], [39.993365999999995, -75.108351], [40.00273, -75.18434], [40.00678, -75.17534], [40.00277, -75.06404], [39.920120000000004, -75.14641], [40.01845, -75.13719], [39.936256, -75.21342], [39.98319, -75.08388000000001], [39.936256, -75.21342], [39.901577, -75.203163], [39.936256, -75.21342], [40.012159999999994, -75.16197], [39.986891, -75.115629], [40.02936, -75.02523000000001], [39.936256, -75.21342], [39.93965, -75.19821], [39.98319, -75.08388000000001], [39.90972, -75.13829], [40.09239, -75.00545], [40.06714, -75.01798000000001], [39.913540000000005, -75.19889], [39.8837, -75.22700999999999], [40.005901, -75.072103], [39.936256, -75.21342], [39.895739, -75.216212], [39.93965, -75.19821], [40.028079999999996, -75.02755], [39.98686, -75.09397], [39.913540000000005, -75.19889], [39.986891, -75.115629], [39.9398, -75.17238], [39.936256, -75.21342], [39.901577, -75.203163], [40.028079999999996, -75.02755], [40.028079999999996, -75.02755], [40.00478, -75.1791], [39.98319, -75.08388000000001], [39.901577, -75.203163], [39.91817, -75.23604], [40.00277, -75.06404], [39.98686, -75.09397], [39.93965, -75.19821], [40.10972, -75.034785], [40.00412, -75.11386], [40.03363, -75.2368], [39.98319, -75.08388000000001], [40.028079999999996, -75.02755], [40.028079999999996, -75.02755], [39.99288, -75.10327], [39.99288, -75.10327], [39.953804999999996, -75.1874], [40.02922, -75.02548], [39.901577, -75.203163], [39.99204, -75.06886], [39.901577, -75.203163], [39.901577, -75.203163], [39.98663, -75.13589], [40.03363, -75.2368], [40.10494, -75.00178000000001], [40.06714, -75.01798000000001], [40.00273, -75.18434], [40.00273, -75.18434], [40.00047, -75.11964], [40.00277, -75.06404], [40.00277, -75.06404], [40.111309999999996, -74.99256], [40.00277, -75.06404], [40.00277, -75.06404], [40.00277, -75.06404], [40.00277, -75.06404], [40.00277, -75.06404], [40.00277, -75.06404], [40.00277, -75.06404], [40.00277, -75.06404], [40.02543, -75.03220999999999], [39.93965, -75.19821], [39.9398, -75.17238], [39.895739, -75.216212], [39.93965, -75.19821], [39.98319, -75.08388000000001], [39.91817, -75.23604], [39.90972, -75.13829], [40.005901, -75.072103], [40.00277, -75.06404], [40.00277, -75.06404], [40.02922, -75.02548], [40.007059999999996, -75.08721], [40.02543, -75.03220999999999], [40.0898, -75.03341], [40.004738, -75.11372800000001], [39.9769, -75.18762], [39.959140000000005, -75.15507], [40.03795, -75.1119], [40.111309999999996, -74.99256], [40.00678, -75.17534], [40.004738, -75.11372800000001], [40.021, -75.06591999999999], [39.8837, -75.22700999999999], [40.02543, -75.03220999999999], [40.00273, -75.18434], [40.111309999999996, -74.99256], [40.005901, -75.072103], [39.962709999999994, -75.16308000000001], [39.91817, -75.23604], [39.998143, -75.161845], [40.00277, -75.06404], [40.06714, -75.01798000000001], [40.00277, -75.06404], [40.00277, -75.06404], [40.02543, -75.03220999999999], [39.99087, -75.09123000000001], [39.962709999999994, -75.16308000000001], [40.00273, -75.18434], [40.10395, -75.00227], [40.06714, -75.01798000000001], [39.90972, -75.13829], [39.90972, -75.13829], [40.00273, -75.18434], [39.901577, -75.203163], [40.00277, -75.06404], [40.007059999999996, -75.08721], [39.986891, -75.115629], [40.06714, -75.01798000000001], [39.936256, -75.21342], [39.98686, -75.09397], [40.00277, -75.06404], [39.901577, -75.203163], [39.913540000000005, -75.19889], [39.993365999999995, -75.108351], [39.98319, -75.08388000000001], [40.087728000000006, -74.989598], [40.04837, -74.9904], [40.08328, -74.99569], [40.00277, -75.06404], [39.90972, -75.13829], [40.02922, -75.02548], [39.98686, -75.09397], [39.913540000000005, -75.19889], [40.007059999999996, -75.08721], [39.93965, -75.19821], [39.913540000000005, -75.19889], [39.93965, -75.19821], [40.06714, -75.01798000000001], [39.962709999999994, -75.16308000000001], [39.913540000000005, -75.19889], [39.8837, -75.22700999999999], [40.02922, -75.02548], [40.02936, -75.02523000000001], [39.901577, -75.203163], [39.901577, -75.203163], [39.98686, -75.09397], [39.989340000000006, -75.10016], [40.02922, -75.02548], [40.00277, -75.06404], [40.007059999999996, -75.08721], [39.989000000000004, -75.09649], [40.00277, -75.06404], [39.962709999999994, -75.16308000000001], [40.02922, -75.02548], [39.901577, -75.203163], [39.901577, -75.203163], [39.901577, -75.203163], [40.005901, -75.072103], [39.936256, -75.21342], [40.00277, -75.06404], [39.901577, -75.203163], [39.913540000000005, -75.19889], [40.007059999999996, -75.08721], [40.06714, -75.01798000000001], [40.01695, -75.1338], [40.02936, -75.02523000000001], [40.10995, -75.00286], [40.06714, -75.01798000000001], [40.014534000000005, -75.056562], [40.007059999999996, -75.08721], [40.09239, -75.00545], [40.09239, -75.00545], [40.01695, -75.1338], [39.901577, -75.203163], [40.01695, -75.1338], [39.936256, -75.21342], [39.99087, -75.09123000000001], [40.00277, -75.06404], [39.901577, -75.203163], [40.10972, -75.034785], [40.105213, -75.001391], [40.02388, -75.22045], [40.004738, -75.11372800000001], [40.10995, -75.00286], [40.10995, -75.00286], [40.02936, -75.02523000000001], [39.90972, -75.13829], [39.959140000000005, -75.15507], [39.998143, -75.161845], [40.01695, -75.1338], [39.97746, -75.12221], [39.99215, -75.1336], [40.09239, -75.00545], [39.913540000000005, -75.19889], [39.8837, -75.22700999999999], [40.10972, -75.034785], [39.98786, -75.09546999999999], [40.02922, -75.02548], [40.01501, -75.11041999999999], [39.986891, -75.115629], [40.087728000000006, -74.989598], [39.98319, -75.08388000000001], [39.953804999999996, -75.1874], [39.98686, -75.09397], [40.005901, -75.072103], [39.9833, -75.0948], [40.09239, -75.00545], [40.00277, -75.06404], [40.087728000000006, -74.989598], [40.00277, -75.06404], [40.00277, -75.06404], [39.901577, -75.203163], [40.00277, -75.06404], [39.9833, -75.0948], [39.99215, -75.1336], [39.913540000000005, -75.19889], [40.028079999999996, -75.02755], [39.920120000000004, -75.14641], [39.98786, -75.09546999999999], [40.11139, -75.00109], [40.105213, -75.001391], [39.913540000000005, -75.19889], [40.00273, -75.18434], [39.901577, -75.203163], [40.00277, -75.06404], [40.028079999999996, -75.02755], [40.005901, -75.072103], [39.98686, -75.09397], [39.989000000000004, -75.09649], [39.901577, -75.203163], [39.986891, -75.115629], [39.936256, -75.21342], [40.028079999999996, -75.02755], [40.00277, -75.06404], [40.00277, -75.06404], [39.936256, -75.21342], [40.00277, -75.06404], [39.98319, -75.08388000000001], [39.901577, -75.203163], [40.005901, -75.072103], [40.087728000000006, -74.989598], [40.10972, -75.034785], [39.962709999999994, -75.16308000000001], [39.901577, -75.203163], [40.105213, -75.001391], [39.94547, -75.20859], [40.00273, -75.18434], [39.913540000000005, -75.19889], [39.901577, -75.203163], [39.901577, -75.203163], [39.978, -75.11905], [39.93965, -75.19821], [39.986891, -75.115629], [39.99087, -75.09123000000001], [39.99087, -75.09123000000001], [40.00277, -75.06404], [39.901577, -75.203163], [40.00277, -75.06404], [40.00277, -75.06404], [39.901577, -75.203163], [39.936256, -75.21342], [40.005901, -75.072103], [39.936256, -75.21342], [39.998143, -75.161845], [39.950109999999995, -75.17975], [40.01077, -75.08686999999999], [39.913540000000005, -75.19889], [39.98319, -75.08388000000001], [40.02922, -75.02548], [40.02543, -75.03220999999999], [39.959140000000005, -75.15507], [40.028079999999996, -75.02755], [39.913540000000005, -75.19889], [40.087728000000006, -74.989598], [39.98663, -75.13589], [39.978, -75.11905], [39.962709999999994, -75.16308000000001], [39.98663, -75.13589], [40.105213, -75.001391], [40.012159999999994, -75.16197], [40.00277, -75.06404], [39.913540000000005, -75.19889], [39.8837, -75.22700999999999], [39.913540000000005, -75.19889], [39.913540000000005, -75.19889], [39.936256, -75.21342], [39.920120000000004, -75.14641], [40.005901, -75.072103], [39.962709999999994, -75.16308000000001], [39.99087, -75.09123000000001], [39.936256, -75.21342], [40.03363, -75.2368], [39.98319, -75.08388000000001], [40.109159999999996, -75.00198], [39.901577, -75.203163], [40.00273, -75.18434], [39.8837, -75.22700999999999], [39.998143, -75.161845], [39.953804999999996, -75.1874], [40.028079999999996, -75.02755], [40.028079999999996, -75.02755], [40.021, -75.06591999999999], [40.021, -75.06591999999999], [39.953804999999996, -75.1874], [39.953804999999996, -75.1874], [40.028079999999996, -75.02755], [39.98686, -75.09397], [39.8837, -75.22700999999999], [39.98319, -75.08388000000001], [39.98663, -75.13589], [39.936256, -75.21342], [39.936256, -75.21342], [39.91817, -75.23604], [40.005901, -75.072103], [40.00277, -75.06404], [40.00277, -75.06404], [40.00277, -75.06404], [40.00277, -75.06404], [40.087728000000006, -74.989598], [39.90972, -75.13829], [39.90972, -75.13829], [40.02922, -75.02548], [40.02922, -75.02548], [39.93965, -75.19821], [39.936256, -75.21342], [39.913540000000005, -75.19889], [40.00277, -75.06404], [40.00277, -75.06404], [40.10395, -75.00227], [39.98319, -75.08388000000001], [39.978, -75.11905], [39.91817, -75.23604], [40.00273, -75.18434], [40.00761, -75.12638000000001], [40.007059999999996, -75.08721], [39.913540000000005, -75.19889], [40.10494, -75.00178000000001], [39.950109999999995, -75.17975], [39.901577, -75.203163], [39.901577, -75.203163], [39.936256, -75.21342], [39.90972, -75.13829], [39.98319, -75.08388000000001], [40.08328, -74.99569], [39.901577, -75.203163], [40.105213, -75.001391], [40.10972, -75.034785], [39.986891, -75.115629], [39.913540000000005, -75.19889], [39.98786, -75.09546999999999], [40.00277, -75.06404], [40.028079999999996, -75.02755], [39.953804999999996, -75.1874], [39.913540000000005, -75.19889], [40.02388, -75.22045], [40.03795, -75.1119], [39.959140000000005, -75.15507], [40.00277, -75.06404], [39.93965, -75.19821], [40.005901, -75.072103], [40.00277, -75.06404], [39.8837, -75.22700999999999], [40.00277, -75.06404], [39.913540000000005, -75.19889], [40.09239, -75.00545], [39.99087, -75.09123000000001], [40.028079999999996, -75.02755], [39.913540000000005, -75.19889], [39.913540000000005, -75.19889], [40.028079999999996, -75.02755], [40.03363, -75.2368], [40.004738, -75.11372800000001], [39.88369, -75.227], [40.007059999999996, -75.08721], [40.105213, -75.001391], [40.005901, -75.072103], [40.007059999999996, -75.08721], [40.09702, -75.00491], [40.10972, -75.034785], [40.00273, -75.18434], [40.01077, -75.08686999999999], [39.962709999999994, -75.16308000000001], [40.087728000000006, -74.989598], [39.99215, -75.1336], [39.901577, -75.203163], [39.936256, -75.21342], [39.90972, -75.13829], [39.993365999999995, -75.108351], [40.10395, -75.00227], [39.98319, -75.08388000000001], [40.00678, -75.17534], [39.962709999999994, -75.16308000000001], [39.901577, -75.203163], [39.936256, -75.21342], [40.00047, -75.11964], [40.10995, -75.00286], [40.10995, -75.00286], [40.02922, -75.02548], [40.01845, -75.13719], [40.00412, -75.11386], [40.02922, -75.02548], [40.111309999999996, -74.99256], [39.920120000000004, -75.14641], [39.953804999999996, -75.1874], [39.94547, -75.20859], [40.01296, -75.06685], [39.962709999999994, -75.16308000000001], [40.02922, -75.02548], [39.962709999999994, -75.16308000000001], [39.986891, -75.115629], [39.913540000000005, -75.19889], [40.02543, -75.03220999999999], [39.901577, -75.203163], [40.01109, -75.12080999999999], [40.0898, -75.03341], [39.986891, -75.115629], [40.00277, -75.06404], [39.901577, -75.203163], [40.11139, -75.00109], [39.91817, -75.23604], [40.02936, -75.02523000000001], [40.01695, -75.1338], [40.03363, -75.2368], [40.087728000000006, -74.989598], [39.99087, -75.09123000000001], [39.913540000000005, -75.19889], [40.00273, -75.18434], [40.00273, -75.18434], [40.02936, -75.02523000000001], [39.8837, -75.22700999999999], [39.8837, -75.22700999999999], [39.959140000000005, -75.15507], [39.99487, -75.15436], [39.99204, -75.06886], [40.01695, -75.1338], [40.01695, -75.1338], [39.98663, -75.13589], [39.98319, -75.08388000000001], [39.936256, -75.21342], [40.00277, -75.06404], [40.00277, -75.06404], [40.00277, -75.06404], [40.00277, -75.06404], [40.09239, -75.00545], [39.901577, -75.203163], [39.901577, -75.203163], [39.901577, -75.203163], [39.901577, -75.203163], [39.901577, -75.203163], [39.901577, -75.203163], [39.901577, -75.203163], [39.901577, -75.203163], [40.00277, -75.06404], [39.99087, -75.09123000000001], [40.02922, -75.02548], [39.901577, -75.203163], [40.007059999999996, -75.08721], [40.00277, -75.06404], [39.98686, -75.09397], [40.00277, -75.06404], [40.02543, -75.03220999999999], [40.00273, -75.18434], [40.028079999999996, -75.02755], [40.014534000000005, -75.056562], [40.02543, -75.03220999999999], [40.007059999999996, -75.08721], [39.989340000000006, -75.10016], [40.105213, -75.001391], [40.063575, -75.07254], [40.02922, -75.02548], [39.98663, -75.13589], [40.00277, -75.06404], [39.901577, -75.203163], [39.962709999999994, -75.16308000000001], [39.98319, -75.08388000000001], [40.028079999999996, -75.02755], [40.00277, -75.06404], [40.00412, -75.11386], [39.98686, -75.09397], [40.00277, -75.06404], [39.978, -75.11905], [39.913540000000005, -75.19889], [40.00273, -75.18434], [39.99215, -75.1336], [40.04837, -74.9904], [40.00277, -75.06404], [39.901577, -75.203163], [39.936256, -75.21342], [39.913540000000005, -75.19889], [40.005901, -75.072103], [40.00047, -75.11964], [39.913540000000005, -75.19889], [40.00277, -75.06404], [39.989000000000004, -75.09649], [40.00277, -75.06404], [40.004738, -75.11372800000001], [40.02936, -75.02523000000001], [39.99288, -75.10327], [40.004738, -75.11372800000001], [40.004738, -75.11372800000001], [40.00277, -75.06404], [39.98786, -75.09546999999999], [40.00277, -75.06404], [40.01109, -75.12080999999999], [40.01109, -75.12080999999999], [39.99215, -75.1336], [40.005901, -75.072103], [39.93965, -75.19821], [39.93965, -75.19821], [40.02922, -75.02548], [40.00277, -75.06404], [40.087728000000006, -74.989598], [39.99087, -75.09123000000001], [39.98319, -75.08388000000001], [39.913540000000005, -75.19889], [39.97746, -75.12221], [40.00277, -75.06404], [40.021, -75.06591999999999], [39.901577, -75.203163], [40.007059999999996, -75.08721], [40.03363, -75.2368], [40.00277, -75.06404], [40.028079999999996, -75.02755], [39.901577, -75.203163], [40.01501, -75.11041999999999], [40.09239, -75.00545], [39.936256, -75.21342], [39.99087, -75.09123000000001], [39.989000000000004, -75.09649], [40.00277, -75.06404], [39.959140000000005, -75.15507], [40.00277, -75.06404], [39.98686, -75.09397], [39.8837, -75.22700999999999], [40.0405, -75.17152], [40.004738, -75.11372800000001], [39.98319, -75.08388000000001], [39.989000000000004, -75.09649], [40.00277, -75.06404], [39.98686, -75.09397], [39.989000000000004, -75.09649], [40.087728000000006, -74.989598], [40.111309999999996, -74.99256], [39.901577, -75.203163], [40.005901, -75.072103], [39.90972, -75.13829], [40.028079999999996, -75.02755], [40.00277, -75.06404], [40.109159999999996, -75.00198], [39.99288, -75.10327], [40.09239, -75.00545], [39.91817, -75.23604], [40.10972, -75.034785], [39.901577, -75.203163], [39.986891, -75.115629], [39.936256, -75.21342], [39.98686, -75.09397], [39.98319, -75.08388000000001], [40.012159999999994, -75.16197], [39.93965, -75.19821], [40.00277, -75.06404], [39.920120000000004, -75.14641], [39.98686, -75.09397], [39.913540000000005, -75.19889], [39.901577, -75.203163], [39.962709999999994, -75.16308000000001], [39.962709999999994, -75.16308000000001], [39.98786, -75.09546999999999], [40.04837, -74.9904], [40.005901, -75.072103], [39.962709999999994, -75.16308000000001], [40.011783, -75.093405], [39.91817, -75.23604], [39.9833, -75.0948], [40.00277, -75.06404], [40.111309999999996, -74.99256], [40.00273, -75.18434], [40.00277, -75.06404], [40.00277, -75.06404], [40.00277, -75.06404], [40.00277, -75.06404], [40.00277, -75.06404], [40.00277, -75.06404], [40.00277, -75.06404], [40.00277, -75.06404], [40.00277, -75.06404], [39.953804999999996, -75.1874], [39.978, -75.11905], [40.09239, -75.00545], [40.09239, -75.00545], [39.913540000000005, -75.19889], [39.962709999999994, -75.16308000000001], [40.02543, -75.03220999999999], [40.007059999999996, -75.08721], [39.97746, -75.12221], [39.986891, -75.115629], [39.90972, -75.13829], [40.01695, -75.1338], [40.087728000000006, -74.989598], [40.087728000000006, -74.989598], [39.913540000000005, -75.19889], [40.109159999999996, -75.00198], [40.028079999999996, -75.02755], [39.959140000000005, -75.15507], [40.028079999999996, -75.02755], [40.111309999999996, -74.99256], [40.00047, -75.11964], [39.91817, -75.23604], [40.028079999999996, -75.02755], [39.93965, -75.19821], [39.88369, -75.227], [40.00277, -75.06404], [39.99204, -75.06886], [40.00277, -75.06404], [39.905840000000005, -75.15151999999999], [39.901577, -75.203163], [40.111309999999996, -74.99256], [40.007059999999996, -75.08721], [40.01296, -75.06685], [39.901577, -75.203163], [40.00277, -75.06404], [40.00277, -75.06404], [39.8837, -75.22700999999999], [39.962709999999994, -75.16308000000001], [39.913540000000005, -75.19889], [40.007059999999996, -75.08721], [40.105213, -75.001391], [39.901577, -75.203163], [40.00277, -75.06404], [39.98686, -75.09397], [39.98319, -75.08388000000001], [39.936256, -75.21342], [39.901577, -75.203163], [39.98786, -75.09546999999999], [39.913540000000005, -75.19889], [39.901577, -75.203163], [39.90972, -75.13829], [40.24438, -74.83926], [40.00273, -75.18434], [40.007059999999996, -75.08721], [40.10995, -75.00286], [39.913540000000005, -75.19889], [39.901577, -75.203163], [39.936256, -75.21342], [39.913540000000005, -75.19889], [40.00273, -75.18434], [40.00277, -75.06404], [40.06714, -75.01798000000001], [40.00277, -75.06404], [40.021, -75.06591999999999], [40.10972, -75.034785], [40.00047, -75.11964], [40.014534000000005, -75.056562], [39.913540000000005, -75.19889], [40.00277, -75.06404], [39.913540000000005, -75.19889], [40.10395, -75.00227], [40.014534000000005, -75.056562], [40.005901, -75.072103], [40.02922, -75.02548], [40.00277, -75.06404], [40.0898, -75.03341], [40.00277, -75.06404], [39.99087, -75.09123000000001], [40.028079999999996, -75.02755], [39.98686, -75.09397], [40.01845, -75.13719], [40.04837, -74.9904], [39.91817, -75.23604], [39.978, -75.11905], [40.02922, -75.02548], [40.10972, -75.034785], [39.8837, -75.22700999999999], [39.94547, -75.20859], [39.90972, -75.13829], [39.98319, -75.08388000000001], [40.00277, -75.06404], [40.011783, -75.093405], [40.02388, -75.22045], [40.10395, -75.00227], [40.005901, -75.072103], [40.087728000000006, -74.989598], [40.02936, -75.02523000000001], [40.02922, -75.02548], [39.901577, -75.203163], [39.901577, -75.203163], [39.913540000000005, -75.19889], [40.111309999999996, -74.99256], [40.01077, -75.08686999999999], [40.01296, -75.06685], [39.98319, -75.08388000000001], [39.90972, -75.13829], [39.8837, -75.22700999999999], [40.03795, -75.1119], [39.986891, -75.115629], [39.98319, -75.08388000000001], [39.913540000000005, -75.19889], [40.01695, -75.1338], [40.06714, -75.01798000000001], [40.00277, -75.06404], [39.90972, -75.13829], [40.06714, -75.01798000000001], [39.98319, -75.08388000000001], [40.004738, -75.11372800000001], [39.98319, -75.08388000000001], [40.11139, -75.00109], [40.02922, -75.02548], [40.01109, -75.12080999999999], [39.901577, -75.203163], [40.111309999999996, -74.99256], [39.953804999999996, -75.1874], [39.901577, -75.203163], [39.962709999999994, -75.16308000000001], [40.02922, -75.02548], [40.03363, -75.2368], [40.06714, -75.01798000000001], [39.901577, -75.203163], [40.00277, -75.06404], [39.99204, -75.06886], [40.06714, -75.01798000000001], [40.02922, -75.02548], [40.00277, -75.06404], [40.00277, -75.06404], [40.004738, -75.11372800000001], [39.936256, -75.21342], [40.08328, -74.99569], [39.94547, -75.20859], [39.993365999999995, -75.108351], [40.09239, -75.00545], [39.913540000000005, -75.19889], [40.00277, -75.06404], [40.00277, -75.06404], [40.01077, -75.08686999999999], [39.93965, -75.19821], [39.901577, -75.203163], [39.901577, -75.203163], [39.901577, -75.203163], [39.901577, -75.203163], [39.901577, -75.203163], [40.06714, -75.01798000000001], [40.06714, -75.01798000000001], [39.99087, -75.09123000000001], [39.962709999999994, -75.16308000000001], [40.01109, -75.12080999999999], [40.0405, -75.17152], [40.00253, -75.14716999999999], [40.02936, -75.02523000000001], [39.989340000000006, -75.10016], [40.09702, -75.00491], [40.04837, -74.9904], [40.087728000000006, -74.989598], [40.10494, -75.00178000000001], [39.98319, -75.08388000000001], [40.004738, -75.11372800000001], [40.02922, -75.02548], [39.98319, -75.08388000000001], [40.005901, -75.072103], [39.936256, -75.21342], [39.936256, -75.21342], [40.021, -75.06591999999999], [39.959140000000005, -75.15507], [39.962709999999994, -75.16308000000001], [40.00273, -75.18434], [39.953804999999996, -75.1874], [39.98686, -75.09397], [39.9398, -75.17238], [40.007059999999996, -75.08721], [40.01501, -75.11041999999999], [40.06714, -75.01798000000001], [39.913540000000005, -75.19889], [40.10972, -75.034785], [40.00277, -75.06404], [40.004738, -75.11372800000001], [40.00277, -75.06404], [39.91817, -75.23604], [40.028079999999996, -75.02755], [40.005901, -75.072103], [39.98786, -75.09546999999999], [40.09239, -75.00545], [39.901577, -75.203163], [40.00277, -75.06404], [40.005901, -75.072103], [39.993365999999995, -75.108351], [39.98319, -75.08388000000001], [39.962709999999994, -75.16308000000001], [39.901577, -75.203163], [40.105213, -75.001391], [40.00277, -75.06404], [40.10395, -75.00227], [39.913540000000005, -75.19889], [40.014534000000005, -75.056562], [40.005901, -75.072103], [40.01695, -75.1338], [39.920120000000004, -75.14641], [39.9833, -75.0948], [40.00277, -75.06404], [39.920120000000004, -75.14641], [40.105213, -75.001391], [40.007059999999996, -75.08721], [40.004738, -75.11372800000001], [40.005901, -75.072103], [40.00277, -75.06404], [39.98786, -75.09546999999999], [40.00273, -75.18434], [39.901577, -75.203163], [39.99204, -75.06886], [39.989000000000004, -75.09649], [39.989000000000004, -75.09649], [39.953804999999996, -75.1874], [39.98686, -75.09397], [40.03363, -75.2368], [39.913540000000005, -75.19889], [40.00277, -75.06404], [39.989000000000004, -75.09649], [39.91817, -75.23604], [40.021, -75.06591999999999], [39.959140000000005, -75.15507], [39.953804999999996, -75.1874], [39.913540000000005, -75.19889], [39.936256, -75.21342], [39.901577, -75.203163], [39.936256, -75.21342], [40.02543, -75.03220999999999], [40.0072, -75.18926], [40.00695, -75.08165], [40.09239, -75.00545], [39.93965, -75.19821], [39.901577, -75.203163], [39.98319, -75.08388000000001], [40.00277, -75.06404], [40.00277, -75.06404], [40.01109, -75.12080999999999], [39.901577, -75.203163], [39.901577, -75.203163], [39.959140000000005, -75.15507], [39.98663, -75.13589], [39.93965, -75.19821], [40.002957, -75.09965600000001], [40.06714, -75.01798000000001], [39.8837, -75.22700999999999], [39.98686, -75.09397], [40.004738, -75.11372800000001], [40.02543, -75.03220999999999], [40.02936, -75.02523000000001], [40.02922, -75.02548], [39.936256, -75.21342], [39.901577, -75.203163], [39.962709999999994, -75.16308000000001], [40.005901, -75.072103], [39.91817, -75.23604], [40.06714, -75.01798000000001], [40.00695, -75.08165], [40.007059999999996, -75.08721], [39.98319, -75.08388000000001], [39.98319, -75.08388000000001], [40.02922, -75.02548], [39.901577, -75.203163], [40.00277, -75.06404], [40.06714, -75.01798000000001], [39.962709999999994, -75.16308000000001], [40.02936, -75.02523000000001], [40.06714, -75.01798000000001], [40.02922, -75.02548], [40.014534000000005, -75.056562], [39.91817, -75.23604], [40.005901, -75.072103], [40.005901, -75.072103], [39.901577, -75.203163], [40.005901, -75.072103], [39.936256, -75.21342], [39.953804999999996, -75.1874], [40.00277, -75.06404], [40.00277, -75.06404], [39.98686, -75.09397], [40.10972, -75.034785], [39.98319, -75.08388000000001], [40.00273, -75.18434], [39.98319, -75.08388000000001], [40.00273, -75.18434], [40.24438, -74.83926], [40.00277, -75.06404], [40.00277, -75.06404], [39.9996, -75.09116999999999], [39.920120000000004, -75.14641], [40.02543, -75.03220999999999], [40.00277, -75.06404], [40.01296, -75.06685], [39.962709999999994, -75.16308000000001], [39.901577, -75.203163], [40.02936, -75.02523000000001], [40.021, -75.06591999999999], [39.901577, -75.203163], [39.98663, -75.13589], [40.087728000000006, -74.989598], [39.959140000000005, -75.15507], [40.087728000000006, -74.989598], [39.9996, -75.09116999999999], [39.9996, -75.09116999999999], [40.01845, -75.13719], [39.98686, -75.09397], [39.901577, -75.203163], [40.041333, -75.019788], [39.993365999999995, -75.108351], [39.901577, -75.203163], [40.00277, -75.06404], [40.0898, -75.03341], [40.00277, -75.06404], [40.09239, -75.00545], [40.005901, -75.072103], [40.005901, -75.072103], [39.901577, -75.203163], [39.98786, -75.09546999999999], [40.013409, -75.13136300000001], [40.00277, -75.06404], [40.014534000000005, -75.056562], [40.02543, -75.03220999999999], [39.901577, -75.203163], [39.98319, -75.08388000000001], [40.00277, -75.06404], [39.901577, -75.203163], [40.005901, -75.072103], [40.00277, -75.06404], [39.99204, -75.06886], [39.98663, -75.13589], [39.953804999999996, -75.1874], [39.9996, -75.09116999999999], [40.00277, -75.06404], [39.913540000000005, -75.19889], [40.00277, -75.06404], [40.087728000000006, -74.989598], [39.97746, -75.12221], [39.986891, -75.115629], [40.013409, -75.13136300000001], [40.005901, -75.072103], [39.959140000000005, -75.15507], [39.98319, -75.08388000000001], [40.00277, -75.06404], [39.98319, -75.08388000000001], [40.004738, -75.11372800000001], [39.978, -75.11905], [39.913540000000005, -75.19889], [39.901577, -75.203163], [39.98686, -75.09397], [39.962709999999994, -75.16308000000001], [39.936256, -75.21342], [40.10395, -75.00227], [40.111309999999996, -74.99256], [39.913540000000005, -75.19889], [40.00277, -75.06404], [39.98686, -75.09397], [39.901577, -75.203163], [40.00277, -75.06404], [40.06714, -75.01798000000001], [39.913540000000005, -75.19889], [39.98319, -75.08388000000001], [39.98319, -75.08388000000001], [39.90972, -75.13829], [39.90972, -75.13829], [40.00277, -75.06404], [39.913540000000005, -75.19889], [40.09239, -75.00545], [40.111309999999996, -74.99256], [40.01695, -75.1338], [40.011783, -75.093405], [40.111309999999996, -74.99256], [39.98319, -75.08388000000001], [40.00277, -75.06404], [39.98686, -75.09397], [39.986891, -75.115629], [39.953804999999996, -75.1874], [40.00277, -75.06404], [40.028079999999996, -75.02755], [40.00277, -75.06404], [40.00277, -75.06404], [39.90972, -75.13829], [40.005901, -75.072103], [39.913540000000005, -75.19889], [39.901577, -75.203163], [39.901577, -75.203163], [39.99204, -75.06886], [39.936256, -75.21342], [39.962709999999994, -75.16308000000001], [40.087728000000006, -74.989598], [39.959140000000005, -75.15507], [40.00047, -75.11964], [39.90972, -75.13829], [39.901577, -75.203163], [39.901577, -75.203163], [39.986891, -75.115629], [40.01077, -75.08686999999999], [39.901577, -75.203163], [39.901577, -75.203163], [40.028079999999996, -75.02755], [39.913540000000005, -75.19889], [40.00277, -75.06404], [39.913540000000005, -75.19889], [40.00277, -75.06404], [40.02865, -75.23165999999999], [40.00277, -75.06404], [40.00277, -75.06404], [40.00277, -75.06404], [40.0895, -74.98933000000001], [39.8837, -75.22700999999999], [40.00273, -75.18434], [40.0405, -75.17152], [39.98319, -75.08388000000001], [39.98319, -75.08388000000001], [39.913540000000005, -75.19889], [40.06714, -75.01798000000001], [40.00277, -75.06404], [39.901577, -75.203163], [39.98686, -75.09397], [40.00277, -75.06404], [39.98319, -75.08388000000001], [40.00277, -75.06404], [40.005901, -75.072103], [40.01109, -75.12080999999999], [40.111309999999996, -74.99256], [39.91817, -75.23604], [39.99215, -75.1336], [39.913540000000005, -75.19889], [39.936256, -75.21342], [40.02922, -75.02548], [40.00277, -75.06404], [40.00277, -75.06404], [39.962709999999994, -75.16308000000001], [39.98319, -75.08388000000001], [39.913540000000005, -75.19889], [40.004738, -75.11372800000001], [39.913540000000005, -75.19889], [40.04837, -74.9904], [40.06714, -75.01798000000001], [40.00277, -75.06404], [40.028079999999996, -75.02755], [39.901577, -75.203163], [39.913540000000005, -75.19889], [39.98319, -75.08388000000001], [40.09239, -75.00545], [40.00277, -75.06404], [39.913540000000005, -75.19889], [40.00277, -75.06404], [39.901577, -75.203163], [40.02936, -75.02523000000001], [40.10972, -75.034785], [40.04837, -74.9904], [39.901577, -75.203163], [40.028079999999996, -75.02755], [40.02922, -75.02548], [39.9833, -75.0948], [40.02922, -75.02548], [39.98663, -75.13589], [39.98786, -75.09546999999999], [39.936256, -75.21342], [40.02388, -75.22045], [39.895739, -75.216212], [40.00277, -75.06404], [39.936256, -75.21342], [40.06714, -75.01798000000001], [39.901577, -75.203163], [40.10395, -75.00227], [39.8837, -75.22700999999999], [39.88369, -75.227], [40.00277, -75.06404], [40.06714, -75.01798000000001], [39.993365999999995, -75.108351], [40.02543, -75.03220999999999], [40.004738, -75.11372800000001], [39.953804999999996, -75.1874], [40.087728000000006, -74.989598], [40.028079999999996, -75.02755], [39.98663, -75.13589], [40.00678, -75.17534], [40.00695, -75.08165], [39.9996, -75.09116999999999], [40.004738, -75.11372800000001], [39.91817, -75.23604], [39.901577, -75.203163], [40.01296, -75.06685], [40.01077, -75.08686999999999], [40.004738, -75.11372800000001], [40.00277, -75.06404], [39.901577, -75.203163], [39.90972, -75.13829], [39.913540000000005, -75.19889], [40.00253, -75.14716999999999], [40.09239, -75.00545], [40.014534000000005, -75.056562], [39.936256, -75.21342], [39.901577, -75.203163], [40.02922, -75.02548], [39.96337, -75.13564000000001], [39.8837, -75.22700999999999], [40.00277, -75.06404], [39.901577, -75.203163], [39.901577, -75.203163], [39.9996, -75.09116999999999], [39.901577, -75.203163], [40.10972, -75.034785], [39.8837, -75.22700999999999], [39.91817, -75.23604], [40.01109, -75.12080999999999], [40.004738, -75.11372800000001], [39.901577, -75.203163], [39.978, -75.11905], [39.962709999999994, -75.16308000000001]],\n",
       "                {&quot;blur&quot;: 15, &quot;maxZoom&quot;: 18, &quot;minOpacity&quot;: 0.5, &quot;radius&quot;: 15}\n",
       "            ).addTo(map_7f0636d4d6290cd801cfcee2dd65249b);\n",
       "        \n",
       "    \n",
       "            var marker_dac54e4cfb15918221ccd4b21188e3c3 = L.marker(\n",
       "                [40.0086057670479, -75.09762365821936],\n",
       "                {}\n",
       "            ).addTo(map_7f0636d4d6290cd801cfcee2dd65249b);\n",
       "        \n",
       "    \n",
       "            var marker_f4b09cb71504f3aec2233492c885333e = L.marker(\n",
       "                [40.05046098234158, -75.23696593217323],\n",
       "                {}\n",
       "            ).addTo(map_7f0636d4d6290cd801cfcee2dd65249b);\n",
       "        \n",
       "    \n",
       "            var marker_628917ceea8f7f88cc3abfe84db45336 = L.marker(\n",
       "                [40.07207267769846, -75.0131276875195],\n",
       "                {}\n",
       "            ).addTo(map_7f0636d4d6290cd801cfcee2dd65249b);\n",
       "        \n",
       "    \n",
       "            var marker_5ede9031350eb7014841e969ff86152f = L.marker(\n",
       "                [39.94450986737153, -75.16544220711933],\n",
       "                {}\n",
       "            ).addTo(map_7f0636d4d6290cd801cfcee2dd65249b);\n",
       "        \n",
       "    \n",
       "            var marker_d09c54283699304c56e76d6714f1d539 = L.marker(\n",
       "                [39.99168841302326, -75.08037756861422],\n",
       "                {}\n",
       "            ).addTo(map_7f0636d4d6290cd801cfcee2dd65249b);\n",
       "        \n",
       "    \n",
       "            var marker_57f6ce55509f516462de7dd14f58d479 = L.marker(\n",
       "                [39.922794880996754, -75.1871557679026],\n",
       "                {}\n",
       "            ).addTo(map_7f0636d4d6290cd801cfcee2dd65249b);\n",
       "        \n",
       "    \n",
       "            var marker_9a5200e80879cd420e31a733b7aacccb = L.marker(\n",
       "                [39.960776918724264, -75.14341233820906],\n",
       "                {}\n",
       "            ).addTo(map_7f0636d4d6290cd801cfcee2dd65249b);\n",
       "        \n",
       "    \n",
       "            var marker_958fed142e79cff9caaef38c1a0a9ac9 = L.marker(\n",
       "                [39.88501405138851, -75.22079403396046],\n",
       "                {}\n",
       "            ).addTo(map_7f0636d4d6290cd801cfcee2dd65249b);\n",
       "        \n",
       "    \n",
       "            var marker_f2cb12a203dde41b8818169ed0ed7e5f = L.marker(\n",
       "                [40.053969131027095, -74.98368007810421],\n",
       "                {}\n",
       "            ).addTo(map_7f0636d4d6290cd801cfcee2dd65249b);\n",
       "        \n",
       "    \n",
       "            var marker_3c1e6408da50a5e38910a8b44c75b588 = L.marker(\n",
       "                [39.91278992561834, -75.18544797349526],\n",
       "                {}\n",
       "            ).addTo(map_7f0636d4d6290cd801cfcee2dd65249b);\n",
       "        \n",
       "    \n",
       "            var marker_a48147487d11ea81d51b358ff996c324 = L.marker(\n",
       "                [39.98896923426964, -75.20725733073802],\n",
       "                {}\n",
       "            ).addTo(map_7f0636d4d6290cd801cfcee2dd65249b);\n",
       "        \n",
       "    \n",
       "            var marker_9bf94bc2dc216c2df5eaddda20264701 = L.marker(\n",
       "                [39.952756182482396, -75.14990809680077],\n",
       "                {}\n",
       "            ).addTo(map_7f0636d4d6290cd801cfcee2dd65249b);\n",
       "        \n",
       "    \n",
       "\n",
       "        function geo_json_a9320d207f14f8724a626c5aeed0a436_onEachFeature(feature, layer) {\n",
       "            layer.on({\n",
       "            });\n",
       "        };\n",
       "        var geo_json_a9320d207f14f8724a626c5aeed0a436 = L.geoJson(null, {\n",
       "                onEachFeature: geo_json_a9320d207f14f8724a626c5aeed0a436_onEachFeature,\n",
       "            \n",
       "        });\n",
       "\n",
       "        function geo_json_a9320d207f14f8724a626c5aeed0a436_add (data) {\n",
       "            geo_json_a9320d207f14f8724a626c5aeed0a436\n",
       "                .addData(data)\n",
       "                .addTo(map_7f0636d4d6290cd801cfcee2dd65249b);\n",
       "        }\n",
       "            geo_json_a9320d207f14f8724a626c5aeed0a436_add({&quot;bbox&quot;: [-75.27467185134256, 39.85603738433699, -74.94597640590003, 40.10104711191534], &quot;features&quot;: [{&quot;bbox&quot;: [-75.1353046234741, 39.979630343906486, -75.05994365900636, 40.037581145960246], &quot;geometry&quot;: {&quot;coordinates&quot;: [[[-75.05994365900636, 40.007729065320106], [-75.06023761862751, 40.00489326660942], [-75.06089156731791, 40.002093277373035], [-75.06189916462215, 39.99935605698335], [-75.06325066816241, 39.99670795724536], [-75.0649330289471, 39.994174468965255], [-75.0669300183161, 39.99177997691534], [-75.0692223852518, 39.98954752553729], [-75.07178804250147, 39.98749859761979], [-75.07460227969105, 39.98565290805838], [-75.07763800136281, 39.984028214658515], [-75.08086598764211, 39.982640147778746], [-75.08425517503338, 39.98150206042886], [-75.08777295466517, 39.98062490024275], [-75.0913854851462, 39.98001710453705], [-75.09505801706584, 39.979684519447474], [-75.09875522606717, 39.979630343906486], [-75.10244155134629, 39.97985509899099], [-75.10608153638219, 39.98035662292968], [-75.1096401686831, 39.981130091816645], [-75.11308321534253, 39.982168065836206], [-75.11637755123667, 39.983460560562456], [-75.11949147675885, 39.984995142660516], [-75.12239502208037, 39.986757049084815], [-75.1250602350467, 39.98872932864795], [-75.12746144996474, 39.99089300461935], [-75.12957553470788, 39.993227256813206], [-75.13138211376248, 39.99570962143754], [-75.13286376505691, 39.998316206805285], [-75.13400618865505, 40.00102192285394], [-75.13479834565479, 40.003800722285305], [-75.13523256590847, 40.006625851022015], [-75.1353046234741, 40.00947010558392], [-75.13501377900978, 40.012306094916184], [-75.1343627886381, 40.01510650415409], [-75.13335787912804, 40.017844357784774], [-75.13200868956697, 40.02049327966817], [-75.13032818002162, 40.0230277474035], [-75.12833250800993, 40.02542333857856], [-75.12604087392423, 40.027656966512936], [-75.12347533685414, 40.029707103203485], [-75.12066060255526, 40.031553987302246], [-75.11762378558882, 40.03317981509834], [-75.11439414792105, 40.034568912639024], [-75.11100281650936, 40.03570788730676], [-75.10748248261875, 40.03658575736853], [-75.10386708579921, 40.03719405822758], [-75.10019148561322, 40.03752692433542], [-75.0964911243295, 40.037581145960246], [-75.09280168389247, 40.03735620025411], [-75.08915874053696, 40.036854256313845], [-75.08559742044137, 40.03608015418579], [-75.08215205980265, 40.03504135802074], [-75.07885587266955, 40.03374788383915], [-75.07574062979077, 40.03221220261588], [-75.0728363516203, 40.03044911963525], [-75.0701710184755, 40.02847563129904], [-75.06777030066789, 40.0263107607903], [-75.06565731122025, 40.023975374200276], [-75.06385238355466, 40.02149197891514], [-75.06237287628073, 40.018884506229625], [-75.06123300694107, 40.0161780803054], [-75.0604437162791, 40.01339877572077], [-75.06001256429074, 40.01057336596582], [-75.05994365900636, 40.007729065320106]]], &quot;type&quot;: &quot;Polygon&quot;}, &quot;id&quot;: &quot;0&quot;, &quot;properties&quot;: {}, &quot;type&quot;: &quot;Feature&quot;}, {&quot;bbox&quot;: [-75.27467185134256, 40.0214842724178, -75.19926092948047, 40.07943763853355], &quot;geometry&quot;: {&quot;coordinates&quot;: [[[-75.19926092948047, 40.04962999780152], [-75.19954924924802, 40.04679385135989], [-75.20019785383225, 40.04399307746561], [-75.20120045414204, 40.04125464310074], [-75.2025473558006, 40.03860491181067], [-75.20422555399645, 40.036069390157536], [-75.20621886000859, 40.033672482531884], [-75.20850805813853, 40.03143725666561], [-75.2110710914985, 40.0293852220842], [-75.21388327483861, 40.0275361236085], [-75.2169175323482, 40.02590775186934], [-75.2201446581383, 40.0245157726347], [-75.22353359690754, 40.02337357656741], [-75.22705174211167, 40.02249215083645], [-75.23066524879988, 40.02187997379606], [-75.23433935815095, 40.02154293372855], [-75.23803873063743, 40.0214842724178], [-75.24172778467005, 40.021704554086526], [-75.24537103752606, 40.02220165998985], [-75.2489334453447, 40.02297080871696], [-75.25238073898169, 40.02400460200859], [-75.2556797525507, 40.025293095658306], [-75.25879874154522, 40.02682389482789], [-75.26170768752603, 40.02858227287664], [-75.2643785864797, 40.03055131258025], [-75.26678571809933, 40.032712068403285], [-75.26890589341019, 40.035043748286824], [-75.27071867835834, 40.03752391322665], [-75.27220659119918, 40.04012869274485], [-75.27335527176201, 40.04283301420432], [-75.27415362092597, 40.04561084377945], [-75.27459390891892, 40.04843543678122], [-75.27467185134256, 40.051279594941285], [-75.2743866521305, 40.054115928188], [-75.27374101296098, 40.05691711839944], [-75.27274110896593, 40.059656182594736], [-75.2713965309043, 40.06230673302447], [-75.26972019429306, 40.06484323164744], [-75.26772821631354, 40.06724123652869], [-75.26543976162861, 40.06947763776941], [-75.26287685855586, 40.07153088067511], [-75.26006418733819, 40.07338117398977], [-75.25702884253508, 40.07501068116557], [-75.25380007181954, 40.076403692800284], [-75.25040899370649, 40.07754677855655], [-75.24688829695394, 40.07842891707516], [-75.24327192456728, 40.07904160260978], [-75.23959474549497, 40.079378927336975], [-75.23589221723218, 40.07943763853355], [-75.23220004264297, 40.07921717005973], [-75.22855382437137, 40.07871964783917], [-75.22498872023746, 40.077949869281554], [-75.22153910300345, 40.07691525685015], [-75.21823822785018, 40.07562578623053], [-75.21511791082378, 40.074093889805276], [-75.212208221399, 40.07233433638204], [-75.20953719215927, 40.0703640883541], [-75.20713054841828, 40.06820213769214], [-75.2050114604018, 40.06586932237202], [-75.2032003203796, 40.06338812503222], [-75.20171454688267, 40.060782455825134], [-75.2005684178679, 40.058077421578126], [-75.19977293440166, 40.055299083508835], [-75.19933571612893, 40.052474205847425], [-75.19926092948047, 40.04962999780152]]], &quot;type&quot;: &quot;Polygon&quot;}, &quot;id&quot;: &quot;1&quot;, &quot;properties&quot;: {}, &quot;type&quot;: &quot;Feature&quot;}, {&quot;bbox&quot;: [-75.05084281619364, 40.0430981823952, -74.97541355748895, 40.10104711191534], &quot;geometry&quot;: {&quot;coordinates&quot;: [[[-74.97541355748895, 40.07116825019176], [-74.97571132479355, 40.068332677839145], [-74.97636937265591, 40.06553317965325], [-74.97738132109409, 40.06279671024841], [-74.97873738579993, 40.06014961417227], [-74.98042447385237, 40.057617372545245], [-74.98242631108597, 40.05522435811938], [-74.98472359983933, 40.05299360109814], [-74.98729420552488, 40.05094656795125], [-74.9901133701963, 40.04910295533181], [-74.99315395104082, 40.047480501054935], [-74.99638668149835, 40.046094813932896], [-74.99978045250285, 40.04495922408008], [-75.00330261116152, 40.0440846551056], [-75.0069192740304, 40.04347951940207], [-75.010595652015, 40.043149637520955], [-75.01429638382139, 40.0430981823952], [-75.01798587480715, 40.04332564893617], [-75.02162863803387, 40.043829849291605], [-75.02518963430362, 40.044605933809166], [-75.02863460797042, 40.04564643750822], [-75.03193041535548, 40.04694135162065], [-75.03504534266035, 40.04847821952574], [-75.03794941036512, 40.050242256172446], [-75.04061466121968, 40.05221648985949], [-75.0430154290824, 40.054381925031805], [-75.04512858603293, 40.056717724549785], [-75.04693376538177, 40.059201409702275], [-75.04841355841869, 40.06180907606177], [-75.04955368298208, 40.064515623127804], [-75.05034312219097, 40.06729499556826], [-75.0507742319579, 40.07012043375441], [-75.05084281619364, 40.07296473119195], [-75.05054816891801, 40.0758004963797], [-75.04989308280645, 40.07860041657959], [-75.04888382402251, 40.08133752095954], [-75.04753007351246, 40.083985440570196], [-75.04584483526412, 40.08651866264314], [-75.04384431235599, 40.08891277674833], [-75.04154775194064, 40.09114471042233], [-75.03897726061591, 40.09319295197723], [-75.0361575919333, 40.095037758321524], [-75.03311590807435, 40.096661345765924], [-75.02988151798733, 40.098048061951125], [-75.02648559451691, 40.099184537216445], [-75.0229608732739, 40.10005981392687], [-75.01934133618099, 40.10066545249185], [-75.01566188278748, 40.10099561303528], [-75.01195799257367, 40.10104711191534], [-75.00826538155782, 40.10081945253922], [-75.00461965657944, 40.10031483016973], [-75.00105597065493, 40.099538110676946], [-74.99760868279228, 40.098496783443316], [-74.99431102560347, 40.097200888884885], [-74.99119478397387, 40.095662921300345], [-74.98828998793213, 40.093897708000874], [-74.98562462271788, 40.09192226590581], [-74.98322435886743, 40.08975563700866], [-74.9811123049322, 40.087418704323206], [-74.97930878521338, 40.084933990107665], [-74.97783114464248, 40.08232543833575], [-74.97669358266305, 40.07961818353388], [-74.97590701767746, 40.076838308232034], [-74.9754789833184, 40.074012591383614], [-74.97541355748895, 40.07116825019176]]], &quot;type&quot;: &quot;Polygon&quot;}, &quot;id&quot;: &quot;2&quot;, &quot;properties&quot;: {}, &quot;type&quot;: &quot;Feature&quot;}, {&quot;bbox&quot;: [-75.20308848561321, 39.91553373752763, -75.12779686822054, 39.9734859698314], &quot;geometry&quot;: {&quot;coordinates&quot;: [[[-75.12779686822054, 39.94365542144294], [-75.12808772004576, 39.94081944461476], [-75.12873825752698, 39.938019064774906], [-75.12974217311661, 39.9352812450803], [-75.1310897599301, 39.932632343126976], [-75.13276800671144, 39.93009785746209], [-75.13476072441435, 39.92770218247362], [-75.13704870313204, 39.92546837400087], [-75.13960989782483, 39.92341792790199], [-75.14241964102918, 39.92157057368781], [-75.14545088048465, 39.91994408518468], [-75.1486744393878, 39.91855411002355], [-75.15205929677711, 39.91741401957241], [-75.15557288537218, 39.916534780733116], [-75.15918140403372, 39.91592485081542], [-75.16285014188031, 39.915590096481615], [-75.16654381099475, 39.91553373752763], [-75.17022688457602, 39.91575631603086], [-75.17386393734527, 39.91625569115627], [-75.1774199849939, 39.91702705966942], [-75.18086081947054, 39.91806300196299], [-75.18415333694031, 39.91935355316252], [-75.187265855315, 39.920886298639914], [-75.19016841834485, 39.92264649303208], [-75.19283308338301, 39.92461720163952], [-75.19523419007935, 39.92677946286636], [-75.19734860743158, 39.92911247016214], [-75.1991559568177, 39.93159377173937], [-75.20063880885148, 39.93419948616825], [-75.20178285214217, 39.93690453179687], [-75.20257703229936, 39.93968286780901], [-75.20301365979822, 39.94250774461738], [-75.20308848561321, 39.94535196119552], [-75.20280074383109, 39.94818812688138], [-75.20215316076772, 39.95098892513729], [-75.20115193043412, 39.95372737672677], [-75.19980665652199, 39.956377099770464], [-75.19813026140385, 39.95891256416717], [-75.19613886296759, 39.96130933791679], [-75.19385162042123, 39.96354432295526], [-75.1912905505138, 39.965595978209684], [-75.18848031591332, 39.967444527702035], [-75.18544798776423, 39.96907215167211], [-75.18222278470782, 39.970463158853626], [-75.17883579088951, 39.97160413821855], [-75.17531965569138, 39.972484088704604], [-75.17170827811734, 39.97309452565386], [-75.1680364789152, 39.973429562919065], [-75.16433966364843, 39.9734859698314], [-75.16065348002297, 39.97326320247044], [-75.157013472835, 39.972763408928934], [-75.15345473992983, 39.97199140852083], [-75.15001159255173, 39.9709546451368], [-75.14671722341912, 39.96966311520536], [-75.14360338577853, 39.96812927096672], [-75.14070008657835, 39.96636790000877], [-75.13803529675597, 39.96439598224579], [-75.13563468145685, 39.96223252574083], [-75.1335213527991, 39.95989838297817], [-75.13171564756674, 39.95741604938066], [-75.1302349319621, 39.95480944603807], [-75.12909343527409, 39.952103688762776], [-75.12830211402866, 39.94932484571913], [-75.12786854788433, 39.946499685979404], [-75.12779686822054, 39.94365542144294]]], &quot;type&quot;: &quot;Polygon&quot;}, &quot;id&quot;: &quot;3&quot;, &quot;properties&quot;: {}, &quot;type&quot;: &quot;Feature&quot;}, {&quot;bbox&quot;: [-75.11804893052499, 39.96271314445925, -75.04270717853461, 40.020663641512165], &quot;geometry&quot;: {&quot;coordinates&quot;: [[[-75.04270717853461, 39.99080605384543], [-75.0430017844705, 39.98797029757505], [-75.04365628065202, 39.98517040487208], [-75.04466432137845, 39.98243333417223], [-75.04601616003018, 39.9797854358322], [-75.0476987444169, 39.97725219871249], [-75.04969584375276, 39.97485800516117], [-75.05198820598653, 39.97262589674078], [-75.05455374393327, 39.970577352933965], [-75.0573677483864, 39.96873208493499], [-75.06040312614347, 39.967107846488865], [-75.06363066065066, 39.96572026357339], [-75.06701929276646, 39.96458268453961], [-75.07053641896461, 39.963706052129396], [-75.07414820413885, 39.96309879858113], [-75.07781990604312, 39.96276676481472], [-75.08151620829615, 39.96271314445925], [-75.08520155880461, 39.96293845325163], [-75.08884051041, 39.963440524095056], [-75.09239806054568, 39.96421452782358], [-75.0958399866985, 39.9652530194774], [-75.09913317450716, 39.966546009651736], [-75.10224593539405, 39.96808106024553], [-75.10514831072102, 39.96984340370589], [-75.10781235957874, 39.97181608463971], [-75.11021242746654, 39.97398012245306], [-75.11232539329035, 39.976314693475935], [-75.11413089230354, 39.97879733084518], [-75.11561151283254, 39.98140414024498], [-75.11675296487044, 39.98411002945186], [-75.11754421887963, 39.986888949495594], [-75.11797761342184, 39.989714145131806], [-75.11804893052499, 39.992558412229776], [-75.11775743800013, 39.995394359607246], [-75.11710589823616, 39.99819467279654], [-75.11610054332037, 40.000932377202844], [-75.1147510166582, 40.00358109811649], [-75.11307028159152, 40.006115315065955], [-75.11107449783785, 40.00851060804886], [-75.1087828668912, 40.010743893252084], [-75.10621744783361, 40.01279364596998], [-75.10340294530269, 40.01464010855042], [-75.10036647164166, 40.01626548134134], [-75.09713728551934, 40.017654094772695], [-75.09374650954778, 40.01879256089126], [-75.09022682964046, 40.01966990286502], [-75.08661217904123, 40.02027766118745], [-75.08293741011289, 40.02060997554047], [-75.07923795710077, 40.020663641512165], [-75.0755494931802, 40.02043814161262], [-75.0719075851564, 40.019935650282825], [-75.06834734920957, 40.01916101284775], [-75.06490311106708, 40.01812169862022], [-75.06160807393874, 40.01682772861607], [-75.05849399747042, 40.01529157859059], [-75.05559089085733, 40.01352805834733], [-75.0529267231116, 40.011554168502435], [-75.0505271533027, 40.00938893610766], [-75.04841528338369, 40.00705323074006], [-75.04661143598616, 40.00456956285502], [-75.04513295931301, 40.00196186637054], [-75.04399406098392, 39.99925526760017], [-75.04320567239898, 39.99647584278236], [-75.04277534487981, 39.99365036655962], [-75.04270717853461, 39.99080605384543]]], &quot;type&quot;: &quot;Polygon&quot;}, &quot;id&quot;: &quot;4&quot;, &quot;properties&quot;: {}, &quot;type&quot;: &quot;Feature&quot;}, {&quot;bbox&quot;: [-75.22479028933168, 39.89381853578112, -75.14952217758871, 39.95177120451861], &quot;geometry&quot;: {&quot;coordinates&quot;: [[[-75.14952217758871, 39.921947561179444], [-75.14981203047417, 39.919111528375254], [-75.15046146563803, 39.916311024514876], [-75.15146418616798, 39.91357301395688], [-75.15281049670162, 39.91092385614158], [-75.15448739828024, 39.90838905208498], [-75.15647871481158, 39.90599299924465], [-75.15876524987478, 39.90375875710034], [-75.16132497231838, 39.9017078256865], [-75.16413322883629, 39.89985993918601], [-75.16716298145917, 39.898232876547866], [-75.17038506767169, 39.8968422909272], [-75.17376848066104, 39.89570155956469], [-75.17728066702124, 39.894821655527124], [-75.1808878390808, 39.89421104252217], [-75.18455529889128, 39.893875593781985], [-75.18824777081032, 39.89381853578112], [-75.1919297395368, 39.89404041732059], [-75.19556579040713, 39.89453910426932], [-75.1991209487421, 39.89530980001314], [-75.20256101504185, 39.896345091417736], [-75.20585289286332, 39.897635019872276], [-75.2089649062794, 39.89916717674278], [-75.21186710391143, 39.90092682233317], [-75.21453154664636, 39.9028970272294], [-75.216932576296, 39.90505883468842], [-75.2190470626266, 39.90739144253337], [-75.22085462638267, 39.90987240282871], [-75.22233783614752, 39.91247783743776], [-75.22348237712131, 39.9151826674108], [-75.22427719015715, 39.91796085401679], [-75.22471457967086, 39.92078564911597], [-75.22479028933168, 39.9236298524776], [-75.2245035447443, 39.92646607357565], [-75.2238570626462, 39.92926699534683], [-75.2228570264651, 39.93200563737246], [-75.2215130284054, 39.93465561594536], [-75.21983797855874, 39.93719139850819], [-75.21784798185635, 39.939588550000025], [-75.21556218399874, 39.941823968720485], [-75.21300258780693, 39.943876109419996], [-75.21019384173515, 39.94572519144352], [-75.20716300256595, 39.94735338989875], [-75.20393927457, 39.94874500798175], [-75.20055372765289, 39.949886628774884], [-75.19703899722624, 39.95076724503109], [-75.1934289687286, 39.95137836567241], [-75.18975844987976, 39.951714097958615], [-75.18606283387929, 39.95177120451861], [-75.18237775685365, 39.95154913468527], [-75.17873875291669, 39.95105002982568], [-75.17518091023234, 39.95027870261411], [-75.17173853145856, 39.94924259045184], [-75.16844480190548, 39.947951683490956], [-75.1653314686612, 39.946418427968894], [-75.16242853382461, 39.9446576058023], [-75.15976396483902, 39.94268619162039], [-75.15736342474432, 39.94052318863837], [-75.1552500249609, 39.9381894449764], [-75.15344410298879, 39.9357074522188], [-75.1519630271518, 39.933101128179246], [-75.15082103024409, 39.930395585987675], [-75.15002907364561, 39.927616891745345], [-75.14959474316925, 39.924791813100214], [-75.14952217758871, 39.921947561179444]]], &quot;type&quot;: &quot;Polygon&quot;}, &quot;id&quot;: &quot;5&quot;, &quot;properties&quot;: {}, &quot;type&quot;: &quot;Feature&quot;}, {&quot;bbox&quot;: [-75.1810673561156, 39.93180100982199, -75.10575826835084, 39.989752795930386], &quot;geometry&quot;: {&quot;coordinates&quot;: [[[-75.10575826835084, 39.959915243455356], [-75.1060501094136, 39.95707932358824], [-75.1067017105497, 39.95427906974694], [-75.10770675395544, 39.951541443867306], [-75.10905552187822, 39.94889280167233], [-75.11073499168666, 39.946358639202245], [-75.1127289625617, 39.94396334772881], [-75.11501821253935, 39.9417299793957], [-75.11758068435387, 39.93968002582183], [-75.12039169826411, 39.93783321177614], [-75.12342418979783, 39.936207305885816], [-75.12664897012202, 39.934817950175535], [-75.13003500654284, 39.93367851005356], [-75.13354972045649, 39.93279994616588], [-75.137159299917, 39.93219070933006], [-75.14082902385607, 39.931856659542234], [-75.14452359488622, 39.93180100982199], [-75.148207477543, 39.932024295425194], [-75.15184523877365, 39.932524368715384], [-75.15540188745916, 39.933296419741914], [-75.15884320976659, 39.93433302233109], [-75.16213609716358, 39.93562420525469], [-75.16524886399382, 39.93715754780452], [-75.16815155160334, 39.938918298869496], [-75.17081621612867, 39.94088951838948], [-75.1732171972029, 39.943052239846864], [-75.17533136500788, 39.94538565225597], [-75.1771383432962, 39.947867299923274], [-75.17862070622485, 39.95047329808001], [-75.17976414708218, 39.95317856233466], [-75.18055761724864, 39.95595704975754], [-75.18099343400779, 39.958782009294566], [-75.1810673561156, 39.96162623911375], [-75.18077862633935, 39.96446234841681], [-75.18012998049188, 39.96726302120065], [-75.17912762280687, 39.970001279429624], [-75.1777811678262, 39.972650743080024], [-75.17610354929614, 39.97518588454345], [-75.1741108968922, 39.97758227492605], [-75.17182238191022, 39.97981681985368], [-75.16926003337038, 39.98186798249154], [-75.16644852627638, 39.98371599160705], [-75.16341494405323, 39.98534303264715], [-75.1601885174484, 39.98673341996401], [-75.1568003424214, 39.987873748505265], [-75.15328307976147, 39.988753023483525], [-75.14967063936142, 39.98936276675434], [-75.14599785223395, 39.9896970988596], [-75.1423001334832, 39.989752795930386], [-75.13861313953882, 39.9895293208912], [-75.13497242301868, 39.98902882865845], [-75.13141308861191, 39.98825614528245], [-75.1279694533623, 39.98721872123777], [-75.12467471468726, 39.985926559320696], [-75.12156062938666, 39.984392117861645], [-75.1186572067825, 39.98263019020211], [-75.11599241898362, 39.98065776161813], [-75.11359193109423, 39.978493845090966], [-75.11147885397956, 39.976159297532135], [-75.10967352197238, 39.97367661825835], [-75.10819329765, 39.97106973168243], [-75.10705240553861, 39.968363756337325], [-75.10626179631095, 39.96558476247951], [-75.10582904273917, 39.96275952062509], [-75.10575826835084, 39.959915243455356]]], &quot;type&quot;: &quot;Polygon&quot;}, &quot;id&quot;: &quot;6&quot;, &quot;properties&quot;: {}, &quot;type&quot;: &quot;Feature&quot;}, {&quot;bbox&quot;: [-75.2584080626132, 39.85603738433699, -75.18318092319485, 39.91399070660598], &quot;geometry&quot;: {&quot;coordinates&quot;: [[[-75.18318092319485, 39.88417777192883], [-75.18346921212485, 39.88134165351486], [-75.18411690140076, 39.878540958620135], [-75.18511771095937, 39.875802653454215], [-75.1864619638668, 39.8731531003039], [-75.18813668099392, 39.87061780399965], [-75.19012570728756, 39.86822116674433], [-75.19240986837285, 39.86598625364798], [-75.19496715593924, 39.8639345712061], [-75.19777294009737, 39.862085860830994], [-75.20080020664624, 39.86045790940015], [-75.20401981696301, 39.85906637862011], [-75.20740078802353, 39.8579246548237], [-75.21091058987955, 39.857043720623565], [-75.21451545776276, 39.856432049635416], [-75.21818071585514, 39.85609552526666], [-75.22187110966124, 39.85603738433699], [-75.22555114384167, 39.85625818606315], [-75.22918542231932, 39.85675580670083], [-75.23273898744881, 39.85752545989382], [-75.23617765504879, 39.85855974253882], [-75.23946834213285, 39.85984870573283], [-75.24257938423953, 39.86137995013311], [-75.24548083935453, 39.863138744829115], [-75.24814477553731, 39.865108168601964], [-75.25054553951038, 39.86726927223461], [-75.25266000364034, 39.869601260334264], [-75.2544677889352, 39.87208169094206], [-75.2559514619003, 39.874686691032714], [-75.25709670333433, 39.87739118585301], [-75.25789244740551, 39.88016913991253], [-75.25833098962343, 39.88299380732479], [-75.2584080626132, 39.88583798910253], [-75.25812287890162, 39.888674294941005], [-75.25747814023849, 39.89147540697335], [-75.25648001329672, 39.89421434295972], [-75.25513807191875, 39.89686471637122], [-75.25346520640294, 39.899400990855185], [-75.25147750064602, 39.90179872661788], [-75.24919407827538, 39.90403481633426], [-75.24663691921309, 39.90608770829198], [-75.2438306484101, 39.907937614597685], [-75.24080229876887, 39.90956670241497], [-75.2375810505348, 39.91095926636662], [-75.23419794967624, 39.91210188041553], [-75.23068560798843, 39.91298352773722], [-75.22707788784398, 39.913595707311075], [-75.2234095746717, 39.91393251618501], [-75.21971604037222, 39.91399070660598], [-75.21603290097231, 39.913769717455295], [-75.21239567188098, 39.913271679679916], [-75.20883942413414, 39.9125013956664], [-75.2053984450046, 39.91146629276013], [-75.20210590630958, 39.910176351386305], [-75.19899354366692, 39.90864400847857], [-75.1960913498383, 39.90688403716251], [-75.19342728515255, 39.90491340387382], [-75.19102700782541, 39.9027511043106], [-75.18891362678869, 39.900417979824546], [-75.18710747941164, 39.897936516045235], [-75.18562593624466, 39.89533062570217], [-75.18448323464209, 39.89262541776043], [-75.18369034283143, 39.88984695511528], [-75.18325485569234, 39.887022003197885], [-75.18318092319485, 39.88417777192883]]], &quot;type&quot;: &quot;Polygon&quot;}, &quot;id&quot;: &quot;7&quot;, &quot;properties&quot;: {}, &quot;type&quot;: &quot;Feature&quot;}, {&quot;bbox&quot;: [-75.02138475914452, 40.024994909729834, -74.94597640590003, 40.08294329558622], &quot;geometry&quot;: {&quot;coordinates&quot;: [[[-74.94597640590003, 40.05305504282655], [-74.94627532363067, 40.05021954405385], [-74.94693441000749, 40.04742021179002], [-74.94794727508045, 40.04468399903989], [-74.94930412575034, 40.04203724786861], [-74.95099186156524, 40.03950543606515], [-74.95299420216017, 40.037112932233896], [-74.95529184506371, 40.034882761654444], [-74.95786265231274, 40.0328363851443], [-74.96068186405085, 40.03099349303056], [-74.96372233703804, 40.02937181618948], [-74.9669548057728, 40.02798695594852], [-74.97034816372265, 40.02685223446332], [-74.97386976197838, 40.02597856698658], [-74.97748572249102, 40.02537435723746], [-74.98116126292074, 40.025045416859655], [-74.98486103002307, 40.024994909729834], [-74.98854943842306, 40.025223321641164], [-74.9921910115795, 40.02572845564869], [-74.9957507217221, 40.02650545312006], [-74.99919432555454, 40.0275468402932], [-75.00248869255189, 40.02884259990143], [-75.00560212274867, 40.030380267189756], [-75.00850465100525, 40.03214504941514], [-75.01116833486219, 40.03411996770049], [-75.01356752323777, 40.03628601989991], [-75.0156791033968, 40.03862236293146], [-75.01748272381522, 40.04110651284738], [-75.01896099078304, 40.043714560739694], [-75.02009963682981, 40.04642140242706], [-75.0208876593153, 40.04920097973164], [-75.02131742780537, 40.05202653104197], [-75.02138475914452, 40.05487084876346], [-75.02108895944184, 40.057706541187954], [-75.02043283249999, 40.060506296266446], [-75.01942265453961, 40.06324314474555], [-75.01806811539576, 40.06589072012942], [-75.0163822266897, 40.068423512955064], [-75.01438119780299, 40.07081711691796], [-75.01208428079885, 40.0730484644611], [-75.00951358574439, 40.07509604953688], [-75.00669386818441, 40.076940135373775], [-75.00365229079729, 40.07856294522135], [-75.00041816152597, 40.07994883421135], [-74.99702265071639, 40.08108444065392], [-74.99349849001094, 40.081958815287884], [-74.98987965593207, 40.082563527218475], [-74.98620104124929, 40.0828927455034], [-74.98249811734888, 40.08294329558622], [-74.97880659091983, 40.08271469002301], [-74.97516205832757, 40.082209133200784], [-74.97159966107183, 40.08143150000035], [-74.96815374571328, 40.08038928861453], [-74.96485753160746, 40.07909254798402], [-74.96174278970321, 40.077553780563974], [-74.95883953554826, 40.07578782137487], [-74.95617573949788, 40.07381169452387], [-74.95377705694528, 40.071644448601354], [-74.95166658118703, 40.06930697256334], [-74.9498646213057, 40.06682179389847], [-74.94838850719769, 40.06421286104889], [-74.9472524236003, 40.06150531220438], [-74.94646727468024, 40.05872523271842], [-74.94604058044224, 40.05589940350101], [-74.94597640590003, 40.05305504282655]]], &quot;type&quot;: &quot;Polygon&quot;}, &quot;id&quot;: &quot;8&quot;, &quot;properties&quot;: {}, &quot;type&quot;: &quot;Feature&quot;}, {&quot;bbox&quot;: [-75.22307693723582, 39.8838135944779, -75.14781994121554, 39.94176623759083], &quot;geometry&quot;: {&quot;coordinates&quot;: [[[-75.14781994121554, 39.91194204626212], [-75.1481098224424, 39.909106017441104], [-75.14875923215632, 39.90630552292888], [-75.14976187370324, 39.90356752699304], [-75.15110805249364, 39.90091838893186], [-75.15278477084857, 39.898383609570025], [-75.15477585444955, 39.89598758612602], [-75.1570621091261, 39.89375337779525], [-75.15962150643189, 39.89170248428543], [-75.16242939619431, 39.889854639413315], [-75.16545874397575, 39.8882276217261], [-75.1686803911567, 39.886837083945295], [-75.17206333514706, 39.885696402850336], [-75.17557502704979, 39.88481655102362], [-75.17918168394557, 39.884205991669916], [-75.18284861283593, 39.88387059750488], [-75.18654054317899, 39.8838135944779], [-75.19022196487612, 39.884035530861176], [-75.19385746851846, 39.88453427199636], [-75.19741208468386, 39.8853050207483], [-75.20085161908155, 39.886340363473366], [-75.20414298038, 39.88763034106765], [-75.20725449761726, 39.889162544425176], [-75.21015622418592, 39.89092223340335], [-75.21282022550477, 39.892892478171426], [-75.21522084763437, 39.89505432160344], [-75.21733496426589, 39.89738696117698], [-75.21914219970722, 39.89986794865167], [-75.22062512570898, 39.90247340562962], [-75.22176943021182, 39.90517825294596], [-75.22256405635594, 39.90795645170268], [-75.22300131036835, 39.9107812536428], [-75.22307693723582, 39.91362545846934], [-75.22279016337362, 39.91646167564146], [-75.2221437058146, 39.919262588132895], [-75.22114374776326, 39.92200121561336], [-75.21979988068391, 39.92465117451457], [-75.21812501341776, 39.92718693246754], [-75.21613524914696, 39.929584054647066], [-75.21384973134082, 39.9318194396339], [-75.2112904601281, 39.933871542502125], [-75.20848208083565, 39.93572058296005], [-75.20545164671341, 39.93734873651475], [-75.20222835812828, 39.93874030679398], [-75.19884328074859, 39.93988187733992], [-75.19532904545632, 39.94076244138916], [-75.19171953291185, 39.94137350836651], [-75.18804954585468, 39.94170918604866], [-75.18435447235034, 39.94176623759083], [-75.18066994328751, 39.9415441128564], [-75.17703148748937, 39.941044953741965], [-75.17347418782789, 39.94027357344532], [-75.17003234171905, 39.939237409880086], [-75.16673912933217, 39.93794645369457], [-75.16362629276547, 39.93641315160149], [-75.16072382932741, 39.93465228596719], [-75.15805970191663, 39.9326808318407], [-75.15565956931813, 39.93051779282292], [-75.1535465390283, 39.92818401738195], [-75.15174094499164, 39.92570199740891], [-75.15026015237932, 39.92309565098007], [-75.14911839126566, 39.92039009144132], [-75.14832662076951, 39.91761138506103], [-75.1478924249229, 39.91478629960381], [-75.14781994121554, 39.91194204626212]]], &quot;type&quot;: &quot;Polygon&quot;}, &quot;id&quot;: &quot;9&quot;, &quot;properties&quot;: {}, &quot;type&quot;: &quot;Feature&quot;}, {&quot;bbox&quot;: [-75.24492875926249, 39.95999273497646, -75.1695868278345, 40.01794569522469], &quot;geometry&quot;: {&quot;coordinates&quot;: [[[-75.1695868278345, 39.98812850531448], [-75.16987612543917, 39.98529242614912], [-75.17052536614645, 39.98249181280783], [-75.17152825482681, 39.97975363071335], [-75.17287509441239, 39.977104240968224], [-75.17455288077063, 39.97456914683252], [-75.17654542921981, 39.97217274856752], [-75.1788335314194, 39.969938108989105], [-75.18139514108492, 39.967886731967624], [-75.18420558671123, 39.966038355984495], [-75.18723780924013, 39.964410764708106], [-75.19046262238089, 39.963019616388344], [-75.19384899308737, 39.96187829368658], [-75.1973643395139, 39.9609977753641], [-75.20097484361494, 39.960386531042104], [-75.20464577542411, 39.96005044002824], [-75.20834182594271, 39.95999273497646], [-75.21202744549296, 39.96021397091152], [-75.2156671843422, 39.960712019911064], [-75.2192260323838, 39.9614820914949], [-75.22266975467005, 39.962516778529405], [-75.22596521962753, 39.96380612821379], [-75.22908071685168, 39.965337737477796], [-75.23198626146865, 39.967096871889616], [-75.23465388217294, 39.96906660694968], [-75.237057890195, 39.97122799043269], [-75.23917512662453, 39.97356022423939], [-75.24098518571013, 39.97604086403288], [-75.24247061197542, 39.978646034761404], [-75.24361706922988, 39.98135066001701], [-75.2444134798127, 39.984128703042565], [-75.24485213268308, 39.98695341708545], [-75.24492875926249, 39.98979760270171], [-75.24464257623784, 39.9926338695438], [-75.24399629484797, 39.995434900116834], [-75.24299609649762, 39.99817371296407], [-75.24165157486678, 40.000823922743514], [-75.23997564501029, 40.00335999468162], [-75.23798442026553, 40.00575749094072], [-75.23569705810381, 40.00799330650969], [-75.23313557637027, 40.010045892325444], [-75.23032464165365, 40.01189546345335], [-75.22729133180755, 40.01352419029618], [-75.22406487490765, 40.01491637096499], [-75.22067636716876, 40.01605858312572], [-75.21715847256158, 40.0169398138357], [-75.21354510705673, 40.01755156609707], [-75.20987111058285, 40.01788794108231], [-75.20617190991204, 40.01794569522469], [-75.20248317578067, 40.01772427161286], [-75.19884047761312, 40.017225805381514], [-75.19527893924099, 40.016455103044834], [-75.19183289899993, 40.015419595975914], [-75.18853557754105, 40.01412926848903], [-75.1854187566132, 40.01259656123085], [-75.1825124719594, 40.01083625082843], [-75.17984472332427, 40.00886530697409], [-75.17744120439359, 40.00670272834636], [-75.17532505528214, 40.00436935897319], [-75.1735166399562, 40.00188768683079], [-75.17203335072341, 39.999281626643395], [-75.17088944164925, 39.9965762890004], [-75.17009589246948, 39.99379773803556], [-75.1696603042628, 39.990972740021306], [-75.1695868278345, 39.98812850531448]]], &quot;type&quot;: &quot;Polygon&quot;}, &quot;id&quot;: &quot;10&quot;, &quot;properties&quot;: {}, &quot;type&quot;: &quot;Feature&quot;}, {&quot;bbox&quot;: [-75.18755875138051, 39.92378020626652, -75.11225838768631, 39.98173212909267], &quot;geometry&quot;: {&quot;coordinates&quot;: [[[-75.11225838768631, 39.95189663908354], [-75.11254992310916, 39.9490607021705], [-75.11320117959923, 39.94626041093208], [-75.1142058426797, 39.94352272766648], [-75.11555419826628, 39.94087400865107], [-75.11723322770199, 39.938339750667275], [-75.11922673440965, 39.93594434590749], [-75.12151550089382, 39.93371084760674], [-75.12407747454111, 39.93166074863541], [-75.12688798040176, 39.92981377516197], [-75.12991995888798, 39.9281876973478], [-75.13314422609781, 39.926798158871584], [-75.13652975426767, 39.925658526899724], [-75.14004396967636, 39.924779763923475], [-75.14365306516622, 39.92417032267518], [-75.14732232431733, 39.923836065116916], [-75.15101645420646, 39.92378020626652], [-75.15469992360666, 39.92400328339134], [-75.15833730343549, 39.92450315086018], [-75.16189360623937, 39.92527500070257], [-75.16533462151074, 39.92631140868046], [-75.16862724367083, 39.927602405438606], [-75.17173978961678, 39.929135572060794], [-75.17464230282346, 39.93089615912989], [-75.17730684111096, 39.93286722816533], [-75.17970774533431, 39.9350298140995], [-75.18182188642373, 39.937363107253084], [-75.18362888839907, 39.939844653082694], [-75.18511132520042, 39.94245056780235], [-75.18625488941687, 39.94515576782642], [-75.18704853125344, 39.94793421084638], [-75.18748456635294, 39.950759146238426], [-75.18755875138051, 39.95360337240573], [-75.1872703265824, 39.95643949858782], [-75.18662202484386, 39.959240208621466], [-75.18562004709236, 39.96197852411439], [-75.18427400421649, 39.96462806449315], [-75.18259682599711, 39.96716330141174], [-75.18060463787015, 39.969559805057855], [-75.17831660665865, 39.97179447996692], [-75.1757547567199, 39.97384578805211], [-75.17294375824952, 39.97569395667943], [-75.16991068976591, 39.97732116975841], [-75.16668477705902, 39.97871173998272], [-75.16329711112792, 39.97985226053651], [-75.15978034784679, 39.980731734780775], [-75.15616839228656, 39.98134168264957], [-75.15249607077811, 39.98167622271163], [-75.14879879392943, 39.98173212909267], [-75.14511221390345, 39.98150886269881], [-75.14147187932221, 39.98100857643467], [-75.13791289118883, 39.98023609436487], [-75.13446956320665, 39.979198865023534], [-75.13117508983059, 39.97790688933051], [-75.12806122530469, 39.976372623821916], [-75.12515797682633, 39.97461086014447], [-75.12249331483143, 39.97263858199514], [-75.12009290321892, 39.970474800907105], [-75.11797985212772, 39.9681403724888], [-75.11617449564997, 39.96565779491116], [-75.11469419660995, 39.96305099160969], [-75.11355318026561, 39.96034508031767], [-75.11276239849867, 39.957566130677314], [-75.11232942575549, 39.954740912781524], [-75.11225838768631, 39.95189663908354]]], &quot;type&quot;: &quot;Polygon&quot;}, &quot;id&quot;: &quot;11&quot;, &quot;properties&quot;: {}, &quot;type&quot;: &quot;Feature&quot;}], &quot;type&quot;: &quot;FeatureCollection&quot;});\n",
       "\n",
       "        \n",
       "&lt;/script&gt;\n",
       "&lt;/html&gt;\" style=\"position:absolute;width:100%;height:100%;left:0;top:0;border:none !important;\" allowfullscreen webkitallowfullscreen mozallowfullscreen></iframe></div></div>"
      ],
      "text/plain": [
       "<folium.folium.Map at 0x78eb0b812710>"
      ]
     },
     "execution_count": 9,
     "metadata": {},
     "output_type": "execute_result"
    }
   ],
   "source": [
    "# Create map with release incidents and monitoring stations\n",
    "m = folium.Map(location=[39.9526,-75.1652], zoom_start=11)\n",
    "HeatMap(data=releases[['LATITUDE', 'LONGITUDE']], radius=15).add_to(m)\n",
    "for idx, row in stations.iterrows():\n",
    "    Marker([row['LATITUDE'], row['LONGITUDE']]).add_to(m)\n",
    "    \n",
    "# Plot each polygon on the map\n",
    "GeoJson(two_mile_buffer.to_crs(epsg=4326)).add_to(m)\n",
    "\n",
    "# Show the map\n",
    "m"
   ]
  },
  {
   "cell_type": "markdown",
   "id": "184b8a2a",
   "metadata": {
    "papermill": {
     "duration": 0.009603,
     "end_time": "2023-04-20T20:47:43.516379",
     "exception": false,
     "start_time": "2023-04-20T20:47:43.506776",
     "status": "completed"
    },
    "tags": []
   },
   "source": [
    "Now, to test if a toxic release occurred within 2 miles of **any** monitoring station, we could run 12 different tests for each polygon (to check individually if it contains the point).\n",
    "\n",
    "But a more efficient way is to first collapse all of the polygons into a **MultiPolygon** object.  We do this with the `unary_union` attribute."
   ]
  },
  {
   "cell_type": "code",
   "execution_count": 10,
   "id": "59c45901",
   "metadata": {
    "execution": {
     "iopub.execute_input": "2023-04-20T20:47:43.537654Z",
     "iopub.status.busy": "2023-04-20T20:47:43.537153Z",
     "iopub.status.idle": "2023-04-20T20:47:43.556949Z",
     "shell.execute_reply": "2023-04-20T20:47:43.555571Z"
    },
    "papermill": {
     "duration": 0.034965,
     "end_time": "2023-04-20T20:47:43.560769",
     "exception": false,
     "start_time": "2023-04-20T20:47:43.525804",
     "status": "completed"
    },
    "tags": []
   },
   "outputs": [
    {
     "name": "stdout",
     "output_type": "stream",
     "text": [
      "Type: <class 'shapely.geometry.multipolygon.MultiPolygon'>\n"
     ]
    },
    {
     "data": {
      "image/svg+xml": [
       "<svg xmlns=\"http://www.w3.org/2000/svg\" xmlns:xlink=\"http://www.w3.org/1999/xlink\" width=\"300\" height=\"300\" viewBox=\"2657696.0422809203 196895.2060144025 99312.68593053427 98323.28830303194\" preserveAspectRatio=\"xMinYMin meet\"><g transform=\"matrix(1,0,0,-1,0,492113.70033183694)\"><g><path fill-rule=\"evenodd\" fill=\"#66cc99\" stroke=\"#555555\" stroke-width=\"662.0845728702284\" opacity=\"0.6\" d=\"M 2688290.951208813,208068.04744965222 L 2687941.8291268,207092.316595684 L 2687498.7498149993,206155.5041005768 L 2686965.9803693956,205266.63198077233 L 2686348.6516509913,204434.26056069124 L 2685652.708872811,203666.4060321294 L 2684884.854344249,202970.46325394884 L 2684052.482924168,202353.13453554446 L 2683163.610804363,201820.36508994072 L 2682226.7983092563,201377.28577814015 L 2681251.067455288,201028.16369612722 L 2680245.815063971,200776.36108040123 L 2679220.722265361,200624.30292780095 L 2678185.661263481,200573.45364145935 L 2677150.6002616007,200624.30292780095 L 2676125.5074629905,200776.36108040123 L 2675120.2550716735,201028.16369612722 L 2674144.5242177052,201377.28577814015 L 2673207.7117225984,201820.36508994072 L 2672318.8396027936,202353.13453554446 L 2671486.468182713,202970.46325394884 L 2670718.6136541506,203666.4060321294 L 2670022.6708759703,204434.26056069124 L 2669405.342157566,205266.63198077233 L 2668872.5727119623,206155.5041005768 L 2668429.4934001616,207092.316595684 L 2668080.3713181484,208068.04744965222 L 2667828.5687024225,209073.29984096903 L 2667676.5105498224,210098.3926395792 L 2667625.661263481,211133.45364145935 L 2667676.5105498224,212168.5146433395 L 2667828.5687024225,213193.60744194966 L 2668080.3713181484,214198.85983326647 L 2668429.4934001616,215174.59068723468 L 2668872.5727119623,216111.4031823419 L 2669405.342157566,217000.27530214633 L 2670022.6708759703,217832.64672222745 L 2670718.6136541506,218600.5012507893 L 2671486.468182713,219296.44402896985 L 2672318.8396027936,219913.77274737423 L 2673207.7117225984,220446.54219297797 L 2674144.5242177052,220889.62150477854 L 2675120.2550716735,221238.74358679148 L 2676125.5074629905,221490.54620251746 L 2677150.6002616007,221642.60435511774 L 2677252.6802247134,221647.61922213004 L 2677255.741374401,221709.93035548815 L 2677117.1593468953,222097.24117599812 L 2676865.3567311694,223102.49356731493 L 2676713.298578569,224127.5863659251 L 2676662.4492922276,225162.64736780524 L 2676713.298578569,226197.7083696854 L 2676865.3567311694,227222.80116829555 L 2677117.1593468953,228228.05355961237 L 2677466.2814289085,229203.78441358058 L 2677909.360740709,230140.5969086878 L 2678442.130186313,231029.46902849223 L 2679059.458904717,231861.84044857335 L 2679755.4016828975,232629.6949771352 L 2680523.2562114596,233325.63775531575 L 2681355.6276315404,233942.96647372012 L 2682244.4997513453,234475.73591932387 L 2682624.825995464,234655.6168361392 L 2682721.4874073346,235307.25514370482 L 2682973.2900230605,236312.50753502164 L 2683322.4121050737,237288.23838898985 L 2683765.4914168743,238225.05088409706 L 2684296.971740425,239111.77223369223 L 2683958.1591539495,238990.54315179793 L 2682952.9067626325,238738.74053607194 L 2681927.8139640223,238586.68238347166 L 2680892.752962142,238535.83309713006 L 2679857.691960262,238586.68238347166 L 2678832.599161652,238738.74053607194 L 2677827.346770335,238990.54315179793 L 2676851.6159163667,239339.66523381087 L 2675914.80342126,239782.74454561144 L 2675025.931301455,240315.51399121518 L 2674193.5598813742,240932.84270961955 L 2673425.705352812,241628.7854878001 L 2672729.7625746317,242396.64001636195 L 2672112.4338562274,243229.01143644305 L 2671579.6644106237,244117.8835562475 L 2671136.585098823,245054.69605135472 L 2670787.46301681,246030.42690532294 L 2670535.660401084,247035.67929663975 L 2670383.602248484,248060.7720952499 L 2670332.752962142,249095.83309713006 L 2670383.602248484,250130.8940990102 L 2670535.660401084,251155.98689762037 L 2670787.46301681,252161.23928893718 L 2671136.585098823,253136.9701429054 L 2671579.6644106237,254073.7826380126 L 2672112.4338562274,254962.65475781704 L 2672729.7625746317,255795.02617789817 L 2673425.705352812,256562.88070646 L 2674193.5598813742,257258.82348464057 L 2675025.931301455,257876.15220304494 L 2675914.80342126,258408.92164864868 L 2676851.6159163667,258852.00096044925 L 2677827.346770335,259201.1230424622 L 2678832.599161652,259452.92565818818 L 2679857.691960262,259604.98381078846 L 2680892.752962142,259655.83309713006 L 2681927.8139640223,259604.98381078846 L 2682952.9067626325,259452.92565818818 L 2683958.1591539495,259201.1230424622 L 2684933.890007918,258852.00096044925 L 2685870.7025030246,258408.92164864868 L 2686759.5746228294,257876.15220304494 L 2687591.94604291,257258.82348464057 L 2688359.8005714724,256562.88070646 L 2689055.7433496527,255795.02617789817 L 2689673.072068057,254962.65475781707 L 2690205.8415136607,254073.7826380126 L 2690648.9208254614,253136.97014290543 L 2690998.0429074746,252161.23928893718 L 2691249.8455232005,251155.98689762037 L 2691401.9036758007,250130.8940990102 L 2691452.752962142,249095.83309713006 L 2691401.9036758007,248060.7720952499 L 2691249.8455232005,247035.67929663975 L 2691036.8985317564,246185.54725271434 L 2691610.921606987,246818.8841183789 L 2692378.776135549,247514.82689655945 L 2693211.1475556297,248132.15561496382 L 2694100.0196754346,248664.92506056756 L 2695036.8321705414,249108.00437236813 L 2696012.5630245097,249457.12645438107 L 2697017.8154158266,249708.92907010706 L 2698042.908214437,249860.98722270734 L 2699077.969216317,249911.83650904894 L 2700113.030218197,249860.98722270734 L 2701138.1230168073,249708.92907010706 L 2702143.375408124,249457.12645438107 L 2703119.1062620925,249108.00437236813 L 2704055.9187571993,248664.92506056756 L 2704944.790877004,248132.15561496382 L 2705777.162297085,247514.82689655945 L 2706545.016825647,246818.8841183789 L 2707023.163128229,246291.33096995435 L 2706643.604963904,247093.83928277643 L 2706370.1367204115,247858.13182255818 L 2705517.819136451,248368.9913225555 L 2704685.44771637,248986.32004095986 L 2703917.593187808,249682.26281914042 L 2703221.6504096277,250450.11734770227 L 2702604.3216912234,251282.48876778336 L 2702071.5522456197,252171.36088758783 L 2701628.472933819,253108.17338269504 L 2701279.350851806,254083.90423666325 L 2701027.54823608,255089.15662798006 L 2700875.49008348,256114.24942659022 L 2700824.640797138,257149.31042847037 L 2700875.49008348,258184.37143035053 L 2701027.54823608,259209.46422896069 L 2701279.350851806,260214.7166202775 L 2701628.472933819,261190.4474742457 L 2702071.5522456197,262127.25996935292 L 2702604.3216912234,263016.13208915736 L 2703221.6504096277,263848.5035092385 L 2703917.593187808,264616.3580378003 L 2704685.44771637,265312.3008159809 L 2705517.819136451,265929.6295343852 L 2706406.691256256,266462.398979989 L 2707343.5037513627,266905.47829178954 L 2708319.234605331,267254.6003738025 L 2709324.486996648,267506.4029895285 L 2710349.579795258,267658.4611421288 L 2711384.640797138,267709.3104284704 L 2712419.7017990183,267658.4611421288 L 2713444.7945976285,267506.4029895285 L 2714450.0469889455,267254.6003738025 L 2715425.7778429138,266905.47829178954 L 2716362.5903380206,266462.398979989 L 2717251.4624578254,265929.6295343852 L 2718083.833877906,265312.3008159809 L 2718851.6884064684,264616.3580378003 L 2719547.6311846487,263848.5035092385 L 2720164.959903053,263016.13208915736 L 2720697.7293486567,262127.25996935292 L 2721140.8086604574,261190.44747424574 L 2721414.2769039497,260426.15493446396 L 2722266.59448791,259915.29543446665 L 2723098.965907991,259297.96671606228 L 2723866.820436553,258602.02393788172 L 2724562.7632147335,257834.16940931987 L 2725180.0919331377,257001.79798923878 L 2725712.8613787415,256112.92586943432 L 2726155.940690542,255176.11337432713 L 2726505.0627725553,254200.3825203589 L 2726756.865388281,253195.13012904208 L 2726908.9235408814,252170.03733043192 L 2726959.772827223,251134.97632855177 L 2726908.9235408814,250099.91532667162 L 2726756.865388281,249074.82252806146 L 2726505.0627725553,248069.57013674465 L 2726155.940690542,247093.83928277643 L 2725712.8613787415,246157.02678766922 L 2725180.0919331377,245268.15466786476 L 2724562.7632147335,244435.78324778366 L 2723866.820436553,243667.92871922182 L 2723098.965907991,242971.98594104126 L 2722266.59448791,242354.6572226369 L 2721377.7223681053,241821.88777703315 L 2720440.9098729985,241378.80846523258 L 2719465.17901903,241029.68638321964 L 2718459.9266277133,240777.88376749365 L 2717434.833829103,240625.82561489337 L 2716399.772827223,240574.97632855177 L 2715364.711825343,240625.82561489337 L 2714339.6190267326,240777.88376749365 L 2713334.3666354157,241029.68638321964 L 2712358.6357814474,241378.80846523258 L 2711421.8232863406,241821.88777703315 L 2710532.9511665357,242354.6572226369 L 2709700.579746455,242971.98594104126 L 2708932.725217893,243667.92871922182 L 2708454.578915311,244195.48186764636 L 2708834.137079636,243392.9735548243 L 2709183.2591616493,242417.24270085606 L 2709435.061777375,241411.99030953925 L 2709587.1199299754,240386.8975109291 L 2709637.969216317,239351.83650904894 L 2709587.1199299754,238316.7755071688 L 2709435.061777375,237291.68270855863 L 2709183.2591616493,236286.43031724181 L 2708834.137079636,235310.6994632736 L 2708391.0577678354,234373.8869681664 L 2707858.2883222317,233485.01484836193 L 2707240.9596038274,232652.64342828083 L 2707195.026333892,232601.9638746772 L 2707100.036217133,232336.4842831001 L 2706656.9569053324,231399.67178799288 L 2706124.1874597287,230510.7996681884 L 2705506.8587413244,229678.42824810732 L 2704810.915963144,228910.57371954547 L 2704043.061434582,228214.6309413649 L 2703210.690014501,227597.30222296054 L 2702321.8178946963,227064.5327773568 L 2701385.0053995894,226621.45346555623 L 2701264.0059611304,226578.15917419977 L 2701241.5703559034,226547.9082624464 L 2700545.627577723,225780.05373388456 L 2699777.773049161,225084.110955704 L 2698945.40162908,224466.78223729963 L 2698075.9799779034,223945.67095394083 L 2698164.164699785,223593.6178098796 L 2698316.222852385,222568.52501126943 L 2698367.0721387267,221533.46400938928 L 2698316.222852385,220498.40300750913 L 2698164.164699785,219473.31020889897 L 2697912.362084059,218468.05781758216 L 2697563.240002046,217492.32696361394 L 2697120.160690245,216555.51446850674 L 2696587.3912446415,215666.64234870227 L 2695970.062526237,214834.27092862118 L 2695274.119748057,214066.41640005933 L 2694506.2652194947,213370.47362187877 L 2693673.893799414,212753.1449034744 L 2692785.021679609,212220.37545787066 L 2691848.2091845023,211777.2961460701 L 2690872.478330534,211428.17406405715 L 2689867.225939217,211176.37144833116 L 2688842.133140607,211024.31329573088 L 2688740.053177494,211019.29842871858 L 2688694.811977139,210098.3926395792 L 2688542.753824539,209073.29984096903 L 2688290.951208813,208068.04744965222 z\" /><path fill-rule=\"evenodd\" fill=\"#66cc99\" stroke=\"#555555\" stroke-width=\"662.0845728702284\" opacity=\"0.6\" d=\"M 2681690.457771296,267207.7629656002 L 2681247.3784594955,266270.950470493 L 2680714.609013892,265382.07835068856 L 2680097.2802954875,264549.70693060744 L 2679401.337517307,263781.8524020456 L 2678633.482988745,263085.90962386504 L 2677801.111568664,262468.5809054607 L 2676912.2394488594,261935.81145985692 L 2675975.4269537525,261492.73214805636 L 2674999.696099784,261143.61006604342 L 2673994.4437084673,260891.80745031743 L 2672969.350909857,260739.74929771715 L 2671934.289907977,260688.90001137555 L 2670899.228906097,260739.74929771715 L 2669874.1361074867,260891.80745031743 L 2668868.8837161697,261143.61006604342 L 2667893.1528622014,261492.73214805636 L 2666956.3403670946,261935.81145985692 L 2666067.46824729,262468.5809054607 L 2665235.096827209,263085.90962386504 L 2664467.242298647,263781.8524020456 L 2663771.2995204665,264549.70693060744 L 2663153.970802062,265382.07835068856 L 2662621.2013564585,266270.950470493 L 2662178.122044658,267207.7629656002 L 2661828.9999626447,268183.4938195684 L 2661577.1973469188,269188.74621088523 L 2661425.1391943186,270213.8390094954 L 2661374.289907977,271248.90001137555 L 2661425.1391943186,272283.9610132557 L 2661577.1973469188,273309.05381186586 L 2661828.9999626447,274314.30620318267 L 2662178.122044658,275290.0370571509 L 2662621.2013564585,276226.8495522581 L 2663153.970802062,277115.72167206253 L 2663771.2995204665,277948.09309214365 L 2664467.242298647,278715.94762070547 L 2665235.096827209,279411.89039888605 L 2666067.46824729,280029.2191172904 L 2666956.3403670946,280561.98856289417 L 2667893.1528622014,281005.0678746947 L 2668868.8837161697,281354.18995670765 L 2669874.1361074867,281605.99257243366 L 2670899.228906097,281758.050725034 L 2671934.289907977,281808.90001137555 L 2672969.350909857,281758.050725034 L 2673994.4437084673,281605.99257243366 L 2674999.696099784,281354.18995670765 L 2675975.4269537525,281005.0678746947 L 2676912.2394488594,280561.98856289417 L 2677801.111568664,280029.2191172904 L 2678633.482988745,279411.89039888605 L 2679401.337517307,278715.94762070547 L 2680097.2802954875,277948.09309214365 L 2680714.609013892,277115.72167206253 L 2681247.3784594955,276226.8495522581 L 2681690.457771296,275290.0370571509 L 2682039.5798533093,274314.30620318267 L 2682291.382469035,273309.05381186586 L 2682443.4406216354,272283.9610132557 L 2682494.289907977,271248.90001137555 L 2682443.4406216354,270213.8390094954 L 2682291.382469035,269188.74621088523 L 2682039.5798533093,268183.4938195684 L 2681690.457771296,267207.7629656002 z\" /><path fill-rule=\"evenodd\" fill=\"#66cc99\" stroke=\"#555555\" stroke-width=\"662.0845728702284\" opacity=\"0.6\" d=\"M 2752526.648447717,270604.2591253623 L 2752083.5691359164,269667.44663025514 L 2751550.7996903127,268778.5745104507 L 2750933.4709719084,267946.2030903696 L 2750237.528193728,267178.34856180777 L 2749469.673665166,266482.4057836272 L 2748637.302245085,265865.07706522284 L 2747748.4301252803,265332.30761961907 L 2746811.6176301735,264889.2283078185 L 2745835.886776205,264540.1062258056 L 2744830.634384888,264288.3036100796 L 2743805.541586278,264136.24545747926 L 2742770.480584398,264085.3961711377 L 2741735.419582518,264136.24545747926 L 2740710.3267839076,264288.3036100796 L 2739705.0743925907,264540.1062258056 L 2738729.3435386224,264889.2283078185 L 2737792.5310435155,265332.30761961907 L 2736903.6589237107,265865.07706522284 L 2736071.28750363,266482.4057836272 L 2735303.4329750678,267178.34856180777 L 2734607.4901968874,267946.2030903696 L 2733990.161478483,268778.5745104507 L 2733457.3920328794,269667.44663025514 L 2733061.126293669,270505.28014219843 L 2732266.484419656,270623.1541293195 L 2731261.232028339,270874.9567450455 L 2730285.5011743708,271224.07882705843 L 2729348.688679264,271667.15813885897 L 2728459.816559459,272199.92758446274 L 2727627.4451393783,272817.2563028671 L 2726859.590610816,273513.1990810477 L 2726163.647832636,274281.0536096095 L 2725546.3191142315,275113.4250296906 L 2725013.549668628,276002.29714949505 L 2724570.470356827,276939.1096446022 L 2724221.348274814,277914.84049857047 L 2723969.545659088,278920.0928898873 L 2723817.487506488,279945.18568849744 L 2723766.6382201463,280980.2466903776 L 2723817.487506488,282015.30769225775 L 2723969.545659088,283040.4004908679 L 2724221.348274814,284045.6528821847 L 2724570.470356827,285021.38373615296 L 2725013.549668628,285958.19623126014 L 2725546.3191142315,286847.0683510646 L 2726163.647832636,287679.4397711457 L 2726859.590610816,288447.2942997075 L 2727627.4451393783,289143.2370778881 L 2728459.816559459,289760.56579629245 L 2729348.688679264,290293.3352418962 L 2730285.5011743708,290736.41455369676 L 2731261.232028339,291085.5366357097 L 2732266.484419656,291337.3392514357 L 2733291.577218266,291489.397404036 L 2734326.6382201463,291540.2466903776 L 2735361.6992220264,291489.397404036 L 2736386.7920206366,291337.3392514357 L 2737392.0444119535,291085.5366357097 L 2738367.775265922,290736.41455369676 L 2739304.5877610287,290293.3352418962 L 2740193.4598808335,289760.56579629245 L 2741025.8313009143,289143.2370778881 L 2741793.6858294765,288447.2942997075 L 2742489.628607657,287679.4397711457 L 2743106.957326061,286847.0683510646 L 2743639.726771665,285958.19623126014 L 2744035.992510875,285120.36271931685 L 2744830.634384888,285002.4887321958 L 2745835.886776205,284750.6861164698 L 2746811.6176301735,284401.56403445685 L 2747748.4301252803,283958.4847226563 L 2748637.302245085,283425.71527705254 L 2749469.673665166,282808.3865586482 L 2750237.528193728,282112.4437804676 L 2750933.4709719084,281344.5892519058 L 2751550.7996903127,280512.2178318247 L 2752083.5691359164,279623.34571202024 L 2752526.648447717,278686.53321691306 L 2752875.7705297302,277710.8023629448 L 2753127.573145456,276705.549971628 L 2753279.6312980563,275680.45717301784 L 2753330.480584398,274645.3961711377 L 2753279.6312980563,273610.33516925754 L 2753127.573145456,272585.2423706474 L 2752875.7705297302,271579.98997933057 L 2752526.648447717,270604.2591253623 z\" /></g></g></svg>"
      ],
      "text/plain": [
       "<shapely.geometry.multipolygon.MultiPolygon at 0x78eb0b80d390>"
      ]
     },
     "execution_count": 10,
     "metadata": {},
     "output_type": "execute_result"
    }
   ],
   "source": [
    "# Turn group of polygons into single multipolygon\n",
    "my_union = two_mile_buffer.geometry.unary_union\n",
    "print('Type:', type(my_union))\n",
    "\n",
    "# Show the MultiPolygon object\n",
    "my_union"
   ]
  },
  {
   "cell_type": "markdown",
   "id": "16b90bf0",
   "metadata": {
    "papermill": {
     "duration": 0.009507,
     "end_time": "2023-04-20T20:47:43.580541",
     "exception": false,
     "start_time": "2023-04-20T20:47:43.571034",
     "status": "completed"
    },
    "tags": []
   },
   "source": [
    "We use the `contains()` method to check if the multipolygon contains a point.  We'll use the release incident from earlier in the tutorial, which we know is roughly 3781 feet to the closest monitoring station."
   ]
  },
  {
   "cell_type": "code",
   "execution_count": 11,
   "id": "f7625cbd",
   "metadata": {
    "execution": {
     "iopub.execute_input": "2023-04-20T20:47:43.603117Z",
     "iopub.status.busy": "2023-04-20T20:47:43.602641Z",
     "iopub.status.idle": "2023-04-20T20:47:43.611861Z",
     "shell.execute_reply": "2023-04-20T20:47:43.610506Z"
    },
    "papermill": {
     "duration": 0.024615,
     "end_time": "2023-04-20T20:47:43.615060",
     "exception": false,
     "start_time": "2023-04-20T20:47:43.590445",
     "status": "completed"
    },
    "tags": []
   },
   "outputs": [
    {
     "data": {
      "text/plain": [
       "True"
      ]
     },
     "execution_count": 11,
     "metadata": {},
     "output_type": "execute_result"
    }
   ],
   "source": [
    "# The closest station is less than two miles away\n",
    "my_union.contains(releases.iloc[360].geometry)"
   ]
  },
  {
   "cell_type": "markdown",
   "id": "43f76d5c",
   "metadata": {
    "papermill": {
     "duration": 0.010278,
     "end_time": "2023-04-20T20:47:43.635621",
     "exception": false,
     "start_time": "2023-04-20T20:47:43.625343",
     "status": "completed"
    },
    "tags": []
   },
   "source": [
    "But not all releases occured within two miles of an air monitoring station!"
   ]
  },
  {
   "cell_type": "code",
   "execution_count": 12,
   "id": "81a8ae25",
   "metadata": {
    "execution": {
     "iopub.execute_input": "2023-04-20T20:47:43.659279Z",
     "iopub.status.busy": "2023-04-20T20:47:43.658228Z",
     "iopub.status.idle": "2023-04-20T20:47:43.668351Z",
     "shell.execute_reply": "2023-04-20T20:47:43.666869Z"
    },
    "papermill": {
     "duration": 0.024873,
     "end_time": "2023-04-20T20:47:43.671035",
     "exception": false,
     "start_time": "2023-04-20T20:47:43.646162",
     "status": "completed"
    },
    "tags": []
   },
   "outputs": [
    {
     "data": {
      "text/plain": [
       "False"
      ]
     },
     "execution_count": 12,
     "metadata": {},
     "output_type": "execute_result"
    }
   ],
   "source": [
    "# The closest station is more than two miles away\n",
    "my_union.contains(releases.iloc[358].geometry)"
   ]
  },
  {
   "cell_type": "markdown",
   "id": "be30f7fe",
   "metadata": {
    "papermill": {
     "duration": 0.010074,
     "end_time": "2023-04-20T20:47:43.691679",
     "exception": false,
     "start_time": "2023-04-20T20:47:43.681605",
     "status": "completed"
    },
    "tags": []
   },
   "source": [
    "# Your turn\n",
    "\n",
    "In the **[final exercise](https://www.kaggle.com/kernels/fork/5832147)**, you'll investigate hospital coverage in New York City."
   ]
  },
  {
   "cell_type": "markdown",
   "id": "8bcdcac9",
   "metadata": {
    "papermill": {
     "duration": 0.010136,
     "end_time": "2023-04-20T20:47:43.712218",
     "exception": false,
     "start_time": "2023-04-20T20:47:43.702082",
     "status": "completed"
    },
    "tags": []
   },
   "source": [
    "---\n",
    "\n",
    "\n",
    "\n",
    "\n",
    "*Have questions or comments? Visit the [course discussion forum](https://www.kaggle.com/learn/geospatial-analysis/discussion) to chat with other learners.*"
   ]
  }
 ],
 "metadata": {
  "kernelspec": {
   "display_name": "Python 3",
   "language": "python",
   "name": "python3"
  },
  "language_info": {
   "codemirror_mode": {
    "name": "ipython",
    "version": 3
   },
   "file_extension": ".py",
   "mimetype": "text/x-python",
   "name": "python",
   "nbconvert_exporter": "python",
   "pygments_lexer": "ipython3",
   "version": "3.7.12"
  },
  "papermill": {
   "default_parameters": {},
   "duration": 15.2088,
   "end_time": "2023-04-20T20:47:44.548971",
   "environment_variables": {},
   "exception": null,
   "input_path": "__notebook__.ipynb",
   "output_path": "__notebook__.ipynb",
   "parameters": {},
   "start_time": "2023-04-20T20:47:29.340171",
   "version": "2.4.0"
  }
 },
 "nbformat": 4,
 "nbformat_minor": 5
}
