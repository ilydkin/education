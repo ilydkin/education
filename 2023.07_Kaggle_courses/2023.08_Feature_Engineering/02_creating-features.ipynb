{
 "cells": [
  {
   "cell_type": "markdown",
   "id": "e39082f2",
   "metadata": {
    "papermill": {
     "duration": 0.009012,
     "end_time": "2023-08-08T13:54:46.952691",
     "exception": false,
     "start_time": "2023-08-08T13:54:46.943679",
     "status": "completed"
    },
    "tags": []
   },
   "source": [
    "**This notebook is an exercise in the [Feature Engineering](https://www.kaggle.com/learn/feature-engineering) course.  You can reference the tutorial at [this link](https://www.kaggle.com/ryanholbrook/creating-features).**\n",
    "\n",
    "---\n"
   ]
  },
  {
   "cell_type": "markdown",
   "id": "9c017a89",
   "metadata": {
    "papermill": {
     "duration": 0.00751,
     "end_time": "2023-08-08T13:54:46.968452",
     "exception": false,
     "start_time": "2023-08-08T13:54:46.960942",
     "status": "completed"
    },
    "tags": []
   },
   "source": [
    "# Introduction #\n",
    "\n",
    "In this exercise you'll start developing the features you identified in Exercise 2 as having the most potential. As you work through this exercise, you might take a moment to look at the data documentation again and consider whether the features we're creating make sense from a real-world perspective, and whether there are any useful combinations that stand out to you.\n",
    "\n",
    "Run this cell to set everything up!"
   ]
  },
  {
   "cell_type": "code",
   "execution_count": 1,
   "id": "5bf1061d",
   "metadata": {
    "execution": {
     "iopub.execute_input": "2023-08-08T13:54:46.985830Z",
     "iopub.status.busy": "2023-08-08T13:54:46.985380Z",
     "iopub.status.idle": "2023-08-08T13:54:48.774117Z",
     "shell.execute_reply": "2023-08-08T13:54:48.773112Z"
    },
    "papermill": {
     "duration": 1.800737,
     "end_time": "2023-08-08T13:54:48.776909",
     "exception": false,
     "start_time": "2023-08-08T13:54:46.976172",
     "status": "completed"
    },
    "tags": []
   },
   "outputs": [
    {
     "name": "stderr",
     "output_type": "stream",
     "text": [
      "/opt/conda/lib/python3.10/site-packages/scipy/__init__.py:146: UserWarning: A NumPy version >=1.16.5 and <1.23.0 is required for this version of SciPy (detected version 1.23.5\n",
      "  warnings.warn(f\"A NumPy version >={np_minversion} and <{np_maxversion}\"\n"
     ]
    }
   ],
   "source": [
    "# Setup feedback system\n",
    "from learntools.core import binder\n",
    "binder.bind(globals())\n",
    "from learntools.feature_engineering_new.ex3 import *\n",
    "\n",
    "import numpy as np\n",
    "import pandas as pd\n",
    "from sklearn.model_selection import cross_val_score\n",
    "from xgboost import XGBRegressor\n",
    "\n",
    "\n",
    "def score_dataset(X, y, model=XGBRegressor()):\n",
    "    \n",
    "    # Label encoding for categoricals\n",
    "    for colname in X.select_dtypes([\"category\", \"object\"]):\n",
    "        X[colname], _ = X[colname].factorize()\n",
    "    \n",
    "    # Metric for Housing competition is RMSLE (Root Mean Squared Log Error)\n",
    "    score = cross_val_score(\n",
    "        model, X, y, cv=5, scoring=\"neg_mean_squared_log_error\",\n",
    "    )\n",
    "    score = -1 * score.mean()\n",
    "    score = np.sqrt(score)\n",
    "    return score\n",
    "\n",
    "\n",
    "# Prepare data\n",
    "df = pd.read_csv(\"../input/fe-course-data/ames.csv\")\n",
    "X = df.copy()\n",
    "y = X.pop(\"SalePrice\")"
   ]
  },
  {
   "cell_type": "markdown",
   "id": "15fc609c",
   "metadata": {
    "papermill": {
     "duration": 0.007657,
     "end_time": "2023-08-08T13:54:48.792714",
     "exception": false,
     "start_time": "2023-08-08T13:54:48.785057",
     "status": "completed"
    },
    "tags": []
   },
   "source": [
    "-------------------------------------------------------------------------------\n",
    "\n",
    "Let's start with a few mathematical combinations. We'll focus on features describing areas -- having the same units (square-feet) makes it easy to combine them in sensible ways. Since we're using XGBoost (a tree-based model), we'll focus on ratios and sums.\n",
    "\n",
    "# 1) Create Mathematical Transforms\n",
    "\n",
    "Create the following features:\n",
    "\n",
    "- `LivLotRatio`: the ratio of `GrLivArea` to `LotArea`\n",
    "- `Spaciousness`: the sum of `FirstFlrSF` and `SecondFlrSF` divided by `TotRmsAbvGrd`\n",
    "- `TotalOutsideSF`: the sum of `WoodDeckSF`, `OpenPorchSF`, `EnclosedPorch`, `Threeseasonporch`, and `ScreenPorch`"
   ]
  },
  {
   "cell_type": "code",
   "execution_count": 2,
   "id": "77d2c438",
   "metadata": {
    "execution": {
     "iopub.execute_input": "2023-08-08T13:54:48.810884Z",
     "iopub.status.busy": "2023-08-08T13:54:48.810190Z",
     "iopub.status.idle": "2023-08-08T13:54:48.838287Z",
     "shell.execute_reply": "2023-08-08T13:54:48.837188Z"
    },
    "lines_to_next_cell": 0,
    "papermill": {
     "duration": 0.040384,
     "end_time": "2023-08-08T13:54:48.840988",
     "exception": false,
     "start_time": "2023-08-08T13:54:48.800604",
     "status": "completed"
    },
    "tags": []
   },
   "outputs": [
    {
     "data": {
      "application/javascript": [
       "parent.postMessage({\"jupyterEvent\": \"custom.exercise_interaction\", \"data\": {\"outcomeType\": 1, \"valueTowardsCompletion\": 0.2, \"interactionType\": 1, \"questionType\": 2, \"questionId\": \"1_Q1\", \"learnToolsVersion\": \"0.3.4\", \"failureMessage\": \"\", \"exceptionClass\": \"\", \"trace\": \"\"}}, \"*\")"
      ],
      "text/plain": [
       "<IPython.core.display.Javascript object>"
      ]
     },
     "metadata": {},
     "output_type": "display_data"
    },
    {
     "data": {
      "text/markdown": [
       "<span style=\"color:#33cc33\">Correct</span>"
      ],
      "text/plain": [
       "Correct"
      ]
     },
     "metadata": {},
     "output_type": "display_data"
    }
   ],
   "source": [
    "# YOUR CODE HERE\n",
    "X_1 = pd.DataFrame()  # dataframe to hold new features\n",
    "\n",
    "X_1[\"LivLotRatio\"] = X.GrLivArea / X.LotArea\n",
    "X_1[\"Spaciousness\"] = (X.FirstFlrSF + X.SecondFlrSF)  / X.TotRmsAbvGrd\n",
    "X_1[\"TotalOutsideSF\"] = X[['WoodDeckSF', 'OpenPorchSF', 'EnclosedPorch', 'Threeseasonporch','ScreenPorch']].sum(axis=1)\n",
    "\n",
    "\n",
    "# Check your answer\n",
    "q_1.check()"
   ]
  },
  {
   "cell_type": "code",
   "execution_count": 3,
   "id": "464af900",
   "metadata": {
    "execution": {
     "iopub.execute_input": "2023-08-08T13:54:48.859381Z",
     "iopub.status.busy": "2023-08-08T13:54:48.858997Z",
     "iopub.status.idle": "2023-08-08T13:54:48.863233Z",
     "shell.execute_reply": "2023-08-08T13:54:48.862439Z"
    },
    "lines_to_next_cell": 0,
    "papermill": {
     "duration": 0.016017,
     "end_time": "2023-08-08T13:54:48.865298",
     "exception": false,
     "start_time": "2023-08-08T13:54:48.849281",
     "status": "completed"
    },
    "tags": []
   },
   "outputs": [],
   "source": [
    "# Lines below will give you a hint or solution code\n",
    "#q_1.hint()\n",
    "# q_1.solution()"
   ]
  },
  {
   "cell_type": "markdown",
   "id": "823caaf9",
   "metadata": {
    "papermill": {
     "duration": 0.008012,
     "end_time": "2023-08-08T13:54:48.881818",
     "exception": false,
     "start_time": "2023-08-08T13:54:48.873806",
     "status": "completed"
    },
    "tags": []
   },
   "source": [
    "-------------------------------------------------------------------------------\n",
    "\n",
    "If you've discovered an interaction effect between a numeric feature and a categorical feature, you might want to model it explicitly using a one-hot encoding, like so:\n",
    "\n",
    "```\n",
    "# One-hot encode Categorical feature, adding a column prefix \"Cat\"\n",
    "X_new = pd.get_dummies(df.Categorical, prefix=\"Cat\")\n",
    "\n",
    "# Multiply row-by-row\n",
    "X_new = X_new.mul(df.Continuous, axis=0)\n",
    "\n",
    "# Join the new features to the feature set\n",
    "X = X.join(X_new)\n",
    "```\n",
    "\n",
    "# 2) Interaction with a Categorical\n",
    "\n",
    "We discovered an interaction between `BldgType` and `GrLivArea` in Exercise 2. Now create their interaction features."
   ]
  },
  {
   "cell_type": "code",
   "execution_count": 4,
   "id": "ae1ab97e",
   "metadata": {
    "execution": {
     "iopub.execute_input": "2023-08-08T13:54:48.902375Z",
     "iopub.status.busy": "2023-08-08T13:54:48.901603Z",
     "iopub.status.idle": "2023-08-08T13:54:48.917990Z",
     "shell.execute_reply": "2023-08-08T13:54:48.916817Z"
    },
    "lines_to_next_cell": 0,
    "papermill": {
     "duration": 0.030053,
     "end_time": "2023-08-08T13:54:48.920425",
     "exception": false,
     "start_time": "2023-08-08T13:54:48.890372",
     "status": "completed"
    },
    "tags": []
   },
   "outputs": [
    {
     "data": {
      "application/javascript": [
       "parent.postMessage({\"jupyterEvent\": \"custom.exercise_interaction\", \"data\": {\"outcomeType\": 1, \"valueTowardsCompletion\": 0.2, \"interactionType\": 1, \"questionType\": 2, \"questionId\": \"2_Q2\", \"learnToolsVersion\": \"0.3.4\", \"failureMessage\": \"\", \"exceptionClass\": \"\", \"trace\": \"\"}}, \"*\")"
      ],
      "text/plain": [
       "<IPython.core.display.Javascript object>"
      ]
     },
     "metadata": {},
     "output_type": "display_data"
    },
    {
     "data": {
      "text/markdown": [
       "<span style=\"color:#33cc33\">Correct</span>"
      ],
      "text/plain": [
       "Correct"
      ]
     },
     "metadata": {},
     "output_type": "display_data"
    }
   ],
   "source": [
    "# YOUR CODE HERE\n",
    "# One-hot encode BldgType. Use `prefix=\"Bldg\"` in `get_dummies`\n",
    "X_2 = pd.get_dummies (df.BldgType, prefix=\"Bldg\")\n",
    "\n",
    "# Multiply\n",
    "X_2 = X_2.mul(df.GrLivArea, axis=0)\n",
    "\n",
    "\n",
    "# Check your answer\n",
    "q_2.check()"
   ]
  },
  {
   "cell_type": "code",
   "execution_count": 5,
   "id": "ffc77255",
   "metadata": {
    "execution": {
     "iopub.execute_input": "2023-08-08T13:54:48.939227Z",
     "iopub.status.busy": "2023-08-08T13:54:48.938797Z",
     "iopub.status.idle": "2023-08-08T13:54:48.958829Z",
     "shell.execute_reply": "2023-08-08T13:54:48.957688Z"
    },
    "papermill": {
     "duration": 0.032545,
     "end_time": "2023-08-08T13:54:48.961479",
     "exception": false,
     "start_time": "2023-08-08T13:54:48.928934",
     "status": "completed"
    },
    "tags": []
   },
   "outputs": [
    {
     "data": {
      "text/html": [
       "<div>\n",
       "<style scoped>\n",
       "    .dataframe tbody tr th:only-of-type {\n",
       "        vertical-align: middle;\n",
       "    }\n",
       "\n",
       "    .dataframe tbody tr th {\n",
       "        vertical-align: top;\n",
       "    }\n",
       "\n",
       "    .dataframe thead th {\n",
       "        text-align: right;\n",
       "    }\n",
       "</style>\n",
       "<table border=\"1\" class=\"dataframe\">\n",
       "  <thead>\n",
       "    <tr style=\"text-align: right;\">\n",
       "      <th></th>\n",
       "      <th>Bldg_Duplex</th>\n",
       "      <th>Bldg_OneFam</th>\n",
       "      <th>Bldg_Twnhs</th>\n",
       "      <th>Bldg_TwnhsE</th>\n",
       "      <th>Bldg_TwoFmCon</th>\n",
       "    </tr>\n",
       "  </thead>\n",
       "  <tbody>\n",
       "    <tr>\n",
       "      <th>0</th>\n",
       "      <td>0.0</td>\n",
       "      <td>1656.0</td>\n",
       "      <td>0.0</td>\n",
       "      <td>0.0</td>\n",
       "      <td>0.0</td>\n",
       "    </tr>\n",
       "    <tr>\n",
       "      <th>1</th>\n",
       "      <td>0.0</td>\n",
       "      <td>896.0</td>\n",
       "      <td>0.0</td>\n",
       "      <td>0.0</td>\n",
       "      <td>0.0</td>\n",
       "    </tr>\n",
       "    <tr>\n",
       "      <th>2</th>\n",
       "      <td>0.0</td>\n",
       "      <td>1329.0</td>\n",
       "      <td>0.0</td>\n",
       "      <td>0.0</td>\n",
       "      <td>0.0</td>\n",
       "    </tr>\n",
       "    <tr>\n",
       "      <th>3</th>\n",
       "      <td>0.0</td>\n",
       "      <td>2110.0</td>\n",
       "      <td>0.0</td>\n",
       "      <td>0.0</td>\n",
       "      <td>0.0</td>\n",
       "    </tr>\n",
       "    <tr>\n",
       "      <th>4</th>\n",
       "      <td>0.0</td>\n",
       "      <td>1629.0</td>\n",
       "      <td>0.0</td>\n",
       "      <td>0.0</td>\n",
       "      <td>0.0</td>\n",
       "    </tr>\n",
       "  </tbody>\n",
       "</table>\n",
       "</div>"
      ],
      "text/plain": [
       "   Bldg_Duplex  Bldg_OneFam  Bldg_Twnhs  Bldg_TwnhsE  Bldg_TwoFmCon\n",
       "0          0.0       1656.0         0.0          0.0            0.0\n",
       "1          0.0        896.0         0.0          0.0            0.0\n",
       "2          0.0       1329.0         0.0          0.0            0.0\n",
       "3          0.0       2110.0         0.0          0.0            0.0\n",
       "4          0.0       1629.0         0.0          0.0            0.0"
      ]
     },
     "execution_count": 5,
     "metadata": {},
     "output_type": "execute_result"
    }
   ],
   "source": [
    "X_2.head()"
   ]
  },
  {
   "cell_type": "code",
   "execution_count": 6,
   "id": "018d84a0",
   "metadata": {
    "execution": {
     "iopub.execute_input": "2023-08-08T13:54:48.981390Z",
     "iopub.status.busy": "2023-08-08T13:54:48.980862Z",
     "iopub.status.idle": "2023-08-08T13:54:48.985089Z",
     "shell.execute_reply": "2023-08-08T13:54:48.983960Z"
    },
    "lines_to_next_cell": 0,
    "papermill": {
     "duration": 0.017183,
     "end_time": "2023-08-08T13:54:48.987667",
     "exception": false,
     "start_time": "2023-08-08T13:54:48.970484",
     "status": "completed"
    },
    "tags": []
   },
   "outputs": [],
   "source": [
    "# Lines below will give you a hint or solution code\n",
    "#q_2.hint()\n",
    "#q_2.solution()"
   ]
  },
  {
   "cell_type": "markdown",
   "id": "bcade7ce",
   "metadata": {
    "lines_to_next_cell": 0,
    "papermill": {
     "duration": 0.008838,
     "end_time": "2023-08-08T13:54:49.006060",
     "exception": false,
     "start_time": "2023-08-08T13:54:48.997222",
     "status": "completed"
    },
    "tags": []
   },
   "source": [
    "# 3) Count Feature\n",
    "\n",
    "Let's try creating a feature that describes how many kinds of outdoor areas a dwelling has. Create a feature `PorchTypes` that counts how many of the following are greater than 0.0:\n",
    "\n",
    "```\n",
    "WoodDeckSF\n",
    "OpenPorchSF\n",
    "EnclosedPorch\n",
    "Threeseasonporch\n",
    "ScreenPorch\n",
    "```"
   ]
  },
  {
   "cell_type": "code",
   "execution_count": 7,
   "id": "5d7352dc",
   "metadata": {
    "execution": {
     "iopub.execute_input": "2023-08-08T13:54:49.026278Z",
     "iopub.status.busy": "2023-08-08T13:54:49.025842Z",
     "iopub.status.idle": "2023-08-08T13:54:49.043818Z",
     "shell.execute_reply": "2023-08-08T13:54:49.042737Z"
    },
    "lines_to_next_cell": 0,
    "papermill": {
     "duration": 0.031196,
     "end_time": "2023-08-08T13:54:49.046299",
     "exception": false,
     "start_time": "2023-08-08T13:54:49.015103",
     "status": "completed"
    },
    "tags": []
   },
   "outputs": [
    {
     "data": {
      "application/javascript": [
       "parent.postMessage({\"jupyterEvent\": \"custom.exercise_interaction\", \"data\": {\"outcomeType\": 1, \"valueTowardsCompletion\": 0.2, \"interactionType\": 1, \"questionType\": 2, \"questionId\": \"3_Q3\", \"learnToolsVersion\": \"0.3.4\", \"failureMessage\": \"\", \"exceptionClass\": \"\", \"trace\": \"\"}}, \"*\")"
      ],
      "text/plain": [
       "<IPython.core.display.Javascript object>"
      ]
     },
     "metadata": {},
     "output_type": "display_data"
    },
    {
     "data": {
      "text/markdown": [
       "<span style=\"color:#33cc33\">Correct</span>"
      ],
      "text/plain": [
       "Correct"
      ]
     },
     "metadata": {},
     "output_type": "display_data"
    }
   ],
   "source": [
    "X_3 = pd.DataFrame()\n",
    "\n",
    "# YOUR CODE HERE\n",
    "outdoors = ['WoodDeckSF', 'OpenPorchSF', 'EnclosedPorch', 'Threeseasonporch', 'ScreenPorch']\n",
    "\n",
    "X_3[\"PorchTypes\"] = df[outdoors].gt(0).sum(axis=1)\n",
    "\n",
    "\n",
    "# Check your answer\n",
    "q_3.check()"
   ]
  },
  {
   "cell_type": "code",
   "execution_count": 8,
   "id": "271f365f",
   "metadata": {
    "execution": {
     "iopub.execute_input": "2023-08-08T13:54:49.067167Z",
     "iopub.status.busy": "2023-08-08T13:54:49.066108Z",
     "iopub.status.idle": "2023-08-08T13:54:49.070998Z",
     "shell.execute_reply": "2023-08-08T13:54:49.070130Z"
    },
    "lines_to_next_cell": 0,
    "papermill": {
     "duration": 0.017787,
     "end_time": "2023-08-08T13:54:49.073255",
     "exception": false,
     "start_time": "2023-08-08T13:54:49.055468",
     "status": "completed"
    },
    "tags": []
   },
   "outputs": [],
   "source": [
    "# Lines below will give you a hint or solution code\n",
    "#q_3.hint()\n",
    "#q_3.solution()"
   ]
  },
  {
   "cell_type": "markdown",
   "id": "9fbb7986",
   "metadata": {
    "papermill": {
     "duration": 0.008998,
     "end_time": "2023-08-08T13:54:49.091564",
     "exception": false,
     "start_time": "2023-08-08T13:54:49.082566",
     "status": "completed"
    },
    "tags": []
   },
   "source": [
    "# 4) Break Down a Categorical Feature\n",
    "\n",
    "`MSSubClass` describes the type of a dwelling:"
   ]
  },
  {
   "cell_type": "code",
   "execution_count": 9,
   "id": "a9789e7f",
   "metadata": {
    "execution": {
     "iopub.execute_input": "2023-08-08T13:54:49.112404Z",
     "iopub.status.busy": "2023-08-08T13:54:49.111379Z",
     "iopub.status.idle": "2023-08-08T13:54:49.120560Z",
     "shell.execute_reply": "2023-08-08T13:54:49.119574Z"
    },
    "papermill": {
     "duration": 0.022115,
     "end_time": "2023-08-08T13:54:49.122881",
     "exception": false,
     "start_time": "2023-08-08T13:54:49.100766",
     "status": "completed"
    },
    "tags": []
   },
   "outputs": [
    {
     "data": {
      "text/plain": [
       "array(['One_Story_1946_and_Newer_All_Styles', 'Two_Story_1946_and_Newer',\n",
       "       'One_Story_PUD_1946_and_Newer',\n",
       "       'One_and_Half_Story_Finished_All_Ages', 'Split_Foyer',\n",
       "       'Two_Story_PUD_1946_and_Newer', 'Split_or_Multilevel',\n",
       "       'One_Story_1945_and_Older', 'Duplex_All_Styles_and_Ages',\n",
       "       'Two_Family_conversion_All_Styles_and_Ages',\n",
       "       'One_and_Half_Story_Unfinished_All_Ages',\n",
       "       'Two_Story_1945_and_Older', 'Two_and_Half_Story_All_Ages',\n",
       "       'One_Story_with_Finished_Attic_All_Ages',\n",
       "       'PUD_Multilevel_Split_Level_Foyer',\n",
       "       'One_and_Half_Story_PUD_All_Ages'], dtype=object)"
      ]
     },
     "execution_count": 9,
     "metadata": {},
     "output_type": "execute_result"
    }
   ],
   "source": [
    "df.MSSubClass.unique()"
   ]
  },
  {
   "cell_type": "markdown",
   "id": "70d767d8",
   "metadata": {
    "papermill": {
     "duration": 0.009085,
     "end_time": "2023-08-08T13:54:49.141474",
     "exception": false,
     "start_time": "2023-08-08T13:54:49.132389",
     "status": "completed"
    },
    "tags": []
   },
   "source": [
    "You can see that there is a more general categorization described (roughly) by the first word of each category. Create a feature containing only these first words by splitting `MSSubClass` at the first underscore `_`. (Hint: In the `split` method use an argument `n=1`.)"
   ]
  },
  {
   "cell_type": "code",
   "execution_count": 10,
   "id": "30aaf6b1",
   "metadata": {
    "execution": {
     "iopub.execute_input": "2023-08-08T13:54:49.162860Z",
     "iopub.status.busy": "2023-08-08T13:54:49.162253Z",
     "iopub.status.idle": "2023-08-08T13:54:49.188244Z",
     "shell.execute_reply": "2023-08-08T13:54:49.187442Z"
    },
    "lines_to_next_cell": 0,
    "papermill": {
     "duration": 0.039033,
     "end_time": "2023-08-08T13:54:49.190318",
     "exception": false,
     "start_time": "2023-08-08T13:54:49.151285",
     "status": "completed"
    },
    "tags": []
   },
   "outputs": [
    {
     "data": {
      "application/javascript": [
       "parent.postMessage({\"jupyterEvent\": \"custom.exercise_interaction\", \"data\": {\"outcomeType\": 1, \"valueTowardsCompletion\": 0.2, \"interactionType\": 1, \"questionType\": 2, \"questionId\": \"4_Q4\", \"learnToolsVersion\": \"0.3.4\", \"failureMessage\": \"\", \"exceptionClass\": \"\", \"trace\": \"\"}}, \"*\")"
      ],
      "text/plain": [
       "<IPython.core.display.Javascript object>"
      ]
     },
     "metadata": {},
     "output_type": "display_data"
    },
    {
     "data": {
      "text/markdown": [
       "<span style=\"color:#33cc33\">Correct</span>"
      ],
      "text/plain": [
       "Correct"
      ]
     },
     "metadata": {},
     "output_type": "display_data"
    }
   ],
   "source": [
    "X_4 = pd.DataFrame()\n",
    "\n",
    "X_4['MSClass'] = df.MSSubClass.str.split('_', n=1, expand=True)[0]\n",
    "\n",
    "# Check your answer\n",
    "q_4.check()"
   ]
  },
  {
   "cell_type": "code",
   "execution_count": 11,
   "id": "f5e1d47f",
   "metadata": {
    "execution": {
     "iopub.execute_input": "2023-08-08T13:54:49.211714Z",
     "iopub.status.busy": "2023-08-08T13:54:49.211266Z",
     "iopub.status.idle": "2023-08-08T13:54:49.216075Z",
     "shell.execute_reply": "2023-08-08T13:54:49.214987Z"
    },
    "lines_to_next_cell": 0,
    "papermill": {
     "duration": 0.018945,
     "end_time": "2023-08-08T13:54:49.218987",
     "exception": false,
     "start_time": "2023-08-08T13:54:49.200042",
     "status": "completed"
    },
    "tags": []
   },
   "outputs": [],
   "source": [
    "# Lines below will give you a hint or solution code\n",
    "#q_4.hint()\n",
    "# q_4.solution()"
   ]
  },
  {
   "cell_type": "markdown",
   "id": "e49f08be",
   "metadata": {
    "papermill": {
     "duration": 0.00955,
     "end_time": "2023-08-08T13:54:49.238323",
     "exception": false,
     "start_time": "2023-08-08T13:54:49.228773",
     "status": "completed"
    },
    "tags": []
   },
   "source": [
    "# 5) Use a Grouped Transform\n",
    "\n",
    "The value of a home often depends on how it compares to typical homes in its neighborhood. Create a feature `MedNhbdArea` that describes the *median* of `GrLivArea` grouped on `Neighborhood`."
   ]
  },
  {
   "cell_type": "code",
   "execution_count": 12,
   "id": "46beb71b",
   "metadata": {
    "execution": {
     "iopub.execute_input": "2023-08-08T13:54:49.259455Z",
     "iopub.status.busy": "2023-08-08T13:54:49.259074Z",
     "iopub.status.idle": "2023-08-08T13:54:49.279876Z",
     "shell.execute_reply": "2023-08-08T13:54:49.278991Z"
    },
    "lines_to_next_cell": 0,
    "papermill": {
     "duration": 0.034007,
     "end_time": "2023-08-08T13:54:49.281990",
     "exception": false,
     "start_time": "2023-08-08T13:54:49.247983",
     "status": "completed"
    },
    "tags": []
   },
   "outputs": [
    {
     "data": {
      "application/javascript": [
       "parent.postMessage({\"jupyterEvent\": \"custom.exercise_interaction\", \"data\": {\"outcomeType\": 1, \"valueTowardsCompletion\": 0.2, \"interactionType\": 1, \"questionType\": 2, \"questionId\": \"5_Q5\", \"learnToolsVersion\": \"0.3.4\", \"failureMessage\": \"\", \"exceptionClass\": \"\", \"trace\": \"\"}}, \"*\")"
      ],
      "text/plain": [
       "<IPython.core.display.Javascript object>"
      ]
     },
     "metadata": {},
     "output_type": "display_data"
    },
    {
     "data": {
      "text/markdown": [
       "<span style=\"color:#33cc33\">Correct</span>"
      ],
      "text/plain": [
       "Correct"
      ]
     },
     "metadata": {},
     "output_type": "display_data"
    }
   ],
   "source": [
    "X_5 = pd.DataFrame()\n",
    "\n",
    "# YOUR CODE HERE\n",
    "X_5[\"MedNhbdArea\"] = df.groupby('Neighborhood')['GrLivArea'].transform('median')\n",
    "\n",
    "# Check your answer\n",
    "q_5.check()"
   ]
  },
  {
   "cell_type": "code",
   "execution_count": 13,
   "id": "82485d63",
   "metadata": {
    "execution": {
     "iopub.execute_input": "2023-08-08T13:54:49.304044Z",
     "iopub.status.busy": "2023-08-08T13:54:49.303656Z",
     "iopub.status.idle": "2023-08-08T13:54:49.307751Z",
     "shell.execute_reply": "2023-08-08T13:54:49.306773Z"
    },
    "lines_to_next_cell": 0,
    "papermill": {
     "duration": 0.017939,
     "end_time": "2023-08-08T13:54:49.309919",
     "exception": false,
     "start_time": "2023-08-08T13:54:49.291980",
     "status": "completed"
    },
    "tags": []
   },
   "outputs": [],
   "source": [
    "# Lines below will give you a hint or solution code\n",
    "#q_5.hint()\n",
    "#q_5.solution()"
   ]
  },
  {
   "cell_type": "markdown",
   "id": "fa17acd2",
   "metadata": {
    "papermill": {
     "duration": 0.00979,
     "end_time": "2023-08-08T13:54:49.329892",
     "exception": false,
     "start_time": "2023-08-08T13:54:49.320102",
     "status": "completed"
    },
    "tags": []
   },
   "source": [
    "Now you've made your first new feature set! If you like, you can run the cell below to score the model with all of your new features added:"
   ]
  },
  {
   "cell_type": "code",
   "execution_count": 14,
   "id": "0a3ff04e",
   "metadata": {
    "execution": {
     "iopub.execute_input": "2023-08-08T13:54:49.353605Z",
     "iopub.status.busy": "2023-08-08T13:54:49.352641Z",
     "iopub.status.idle": "2023-08-08T13:54:52.759396Z",
     "shell.execute_reply": "2023-08-08T13:54:52.758517Z"
    },
    "papermill": {
     "duration": 3.422138,
     "end_time": "2023-08-08T13:54:52.762207",
     "exception": false,
     "start_time": "2023-08-08T13:54:49.340069",
     "status": "completed"
    },
    "tags": []
   },
   "outputs": [
    {
     "data": {
      "text/plain": [
       "0.14284209506143358"
      ]
     },
     "execution_count": 14,
     "metadata": {},
     "output_type": "execute_result"
    }
   ],
   "source": [
    "score_dataset(X, y)"
   ]
  },
  {
   "cell_type": "code",
   "execution_count": 15,
   "id": "2030798a",
   "metadata": {
    "execution": {
     "iopub.execute_input": "2023-08-08T13:54:52.786387Z",
     "iopub.status.busy": "2023-08-08T13:54:52.785990Z",
     "iopub.status.idle": "2023-08-08T13:54:56.768487Z",
     "shell.execute_reply": "2023-08-08T13:54:56.767600Z"
    },
    "papermill": {
     "duration": 3.997552,
     "end_time": "2023-08-08T13:54:56.771314",
     "exception": false,
     "start_time": "2023-08-08T13:54:52.773762",
     "status": "completed"
    },
    "tags": []
   },
   "outputs": [
    {
     "data": {
      "text/plain": [
       "0.13865658070461215"
      ]
     },
     "execution_count": 15,
     "metadata": {},
     "output_type": "execute_result"
    }
   ],
   "source": [
    "X_new = X.join([X_1, X_2, X_3, X_4, X_5])\n",
    "score_dataset(X_new, y)"
   ]
  },
  {
   "cell_type": "markdown",
   "id": "e0defaca",
   "metadata": {
    "papermill": {
     "duration": 0.010062,
     "end_time": "2023-08-08T13:54:56.792748",
     "exception": false,
     "start_time": "2023-08-08T13:54:56.782686",
     "status": "completed"
    },
    "tags": []
   },
   "source": [
    "# Keep Going #\n",
    "\n",
    "[**Untangle spatial relationships**](https://www.kaggle.com/ryanholbrook/clustering-with-k-means) by adding cluster labels to your dataset."
   ]
  },
  {
   "cell_type": "markdown",
   "id": "8a3e2729",
   "metadata": {
    "papermill": {
     "duration": 0.010232,
     "end_time": "2023-08-08T13:54:56.813198",
     "exception": false,
     "start_time": "2023-08-08T13:54:56.802966",
     "status": "completed"
    },
    "tags": []
   },
   "source": [
    "---\n",
    "\n",
    "\n",
    "\n",
    "\n",
    "*Have questions or comments? Visit the [course discussion forum](https://www.kaggle.com/learn/feature-engineering/discussion) to chat with other learners.*"
   ]
  }
 ],
 "metadata": {
  "kernelspec": {
   "display_name": "Python 3",
   "language": "python",
   "name": "python3"
  },
  "language_info": {
   "codemirror_mode": {
    "name": "ipython",
    "version": 3
   },
   "file_extension": ".py",
   "mimetype": "text/x-python",
   "name": "python",
   "nbconvert_exporter": "python",
   "pygments_lexer": "ipython3",
   "version": "3.10.12"
  },
  "papermill": {
   "default_parameters": {},
   "duration": 22.868311,
   "end_time": "2023-08-08T13:54:57.845555",
   "environment_variables": {},
   "exception": null,
   "input_path": "__notebook__.ipynb",
   "output_path": "__notebook__.ipynb",
   "parameters": {},
   "start_time": "2023-08-08T13:54:34.977244",
   "version": "2.4.0"
  }
 },
 "nbformat": 4,
 "nbformat_minor": 5
}
