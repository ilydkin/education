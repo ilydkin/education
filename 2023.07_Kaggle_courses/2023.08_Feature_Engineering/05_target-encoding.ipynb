{
 "cells": [
  {
   "cell_type": "markdown",
   "id": "fffb7d07",
   "metadata": {
    "papermill": {
     "duration": 0.008665,
     "end_time": "2023-08-12T21:23:19.082279",
     "exception": false,
     "start_time": "2023-08-12T21:23:19.073614",
     "status": "completed"
    },
    "tags": []
   },
   "source": [
    "**This notebook is an exercise in the [Feature Engineering](https://www.kaggle.com/learn/feature-engineering) course.  You can reference the tutorial at [this link](https://www.kaggle.com/ryanholbrook/target-encoding).**\n",
    "\n",
    "---\n"
   ]
  },
  {
   "cell_type": "markdown",
   "id": "1e2b4fdf",
   "metadata": {
    "papermill": {
     "duration": 0.007885,
     "end_time": "2023-08-12T21:23:19.098650",
     "exception": false,
     "start_time": "2023-08-12T21:23:19.090765",
     "status": "completed"
    },
    "tags": []
   },
   "source": [
    "# Introduction #\n",
    "\n",
    "In this exercise, you'll apply target encoding to features in the [*Ames*](https://www.kaggle.com/c/house-prices-advanced-regression-techniques/data) dataset.\n",
    "\n",
    "Run this cell to set everything up!"
   ]
  },
  {
   "cell_type": "code",
   "execution_count": 1,
   "id": "bec9d779",
   "metadata": {
    "execution": {
     "iopub.execute_input": "2023-08-12T21:23:19.117326Z",
     "iopub.status.busy": "2023-08-12T21:23:19.116771Z",
     "iopub.status.idle": "2023-08-12T21:23:22.154956Z",
     "shell.execute_reply": "2023-08-12T21:23:22.153660Z"
    },
    "papermill": {
     "duration": 3.05072,
     "end_time": "2023-08-12T21:23:22.157506",
     "exception": false,
     "start_time": "2023-08-12T21:23:19.106786",
     "status": "completed"
    },
    "tags": []
   },
   "outputs": [
    {
     "name": "stderr",
     "output_type": "stream",
     "text": [
      "/opt/conda/lib/python3.10/site-packages/scipy/__init__.py:146: UserWarning: A NumPy version >=1.16.5 and <1.23.0 is required for this version of SciPy (detected version 1.23.5\n",
      "  warnings.warn(f\"A NumPy version >={np_minversion} and <{np_maxversion}\"\n",
      "/tmp/ipykernel_21/3788892820.py:16: MatplotlibDeprecationWarning: The seaborn styles shipped by Matplotlib are deprecated since 3.6, as they no longer correspond to the styles shipped by seaborn. However, they will remain available as 'seaborn-v0_8-<style>'. Alternatively, directly use the seaborn API instead.\n",
      "  plt.style.use(\"seaborn-whitegrid\")\n"
     ]
    }
   ],
   "source": [
    "# Setup feedback system\n",
    "from learntools.core import binder\n",
    "binder.bind(globals())\n",
    "from learntools.feature_engineering_new.ex6 import *\n",
    "\n",
    "import matplotlib.pyplot as plt\n",
    "import numpy as np\n",
    "import pandas as pd\n",
    "import seaborn as sns\n",
    "import warnings\n",
    "from category_encoders import MEstimateEncoder\n",
    "from sklearn.model_selection import cross_val_score\n",
    "from xgboost import XGBRegressor\n",
    "\n",
    "# Set Matplotlib defaults\n",
    "plt.style.use(\"seaborn-whitegrid\")\n",
    "plt.rc(\"figure\", autolayout=True)\n",
    "plt.rc(\n",
    "    \"axes\",\n",
    "    labelweight=\"bold\",\n",
    "    labelsize=\"large\",\n",
    "    titleweight=\"bold\",\n",
    "    titlesize=14,\n",
    "    titlepad=10,\n",
    ")\n",
    "warnings.filterwarnings('ignore')\n",
    "\n",
    "\n",
    "def score_dataset(X, y, model=XGBRegressor()):\n",
    "    # Label encoding for categoricals\n",
    "    for colname in X.select_dtypes([\"category\", \"object\"]):\n",
    "        X[colname], _ = X[colname].factorize()\n",
    "    # Metric for Housing competition is RMSLE (Root Mean Squared Log Error)\n",
    "    score = cross_val_score(\n",
    "        model, X, y, cv=5, scoring=\"neg_mean_squared_log_error\",\n",
    "    )\n",
    "    score = -1 * score.mean()\n",
    "    score = np.sqrt(score)\n",
    "    return score\n",
    "\n",
    "\n",
    "df = pd.read_csv(\"../input/fe-course-data/ames.csv\")"
   ]
  },
  {
   "cell_type": "markdown",
   "id": "d6cc1b27",
   "metadata": {
    "papermill": {
     "duration": 0.008013,
     "end_time": "2023-08-12T21:23:22.174063",
     "exception": false,
     "start_time": "2023-08-12T21:23:22.166050",
     "status": "completed"
    },
    "tags": []
   },
   "source": [
    "-------------------------------------------------------------------------------\n",
    "\n",
    "First you'll need to choose which features you want to apply a target encoding to. Categorical features with a large number of categories are often good candidates. Run this cell to see how many categories each categorical feature in the *Ames* dataset has."
   ]
  },
  {
   "cell_type": "code",
   "execution_count": 2,
   "id": "20affa50",
   "metadata": {
    "execution": {
     "iopub.execute_input": "2023-08-12T21:23:22.193184Z",
     "iopub.status.busy": "2023-08-12T21:23:22.192363Z",
     "iopub.status.idle": "2023-08-12T21:23:22.230673Z",
     "shell.execute_reply": "2023-08-12T21:23:22.229142Z"
    },
    "papermill": {
     "duration": 0.051405,
     "end_time": "2023-08-12T21:23:22.233709",
     "exception": false,
     "start_time": "2023-08-12T21:23:22.182304",
     "status": "completed"
    },
    "tags": []
   },
   "outputs": [
    {
     "data": {
      "text/plain": [
       "MSSubClass       16\n",
       "MSZoning          7\n",
       "Street            2\n",
       "Alley             3\n",
       "LotShape          4\n",
       "LandContour       4\n",
       "Utilities         3\n",
       "LotConfig         5\n",
       "LandSlope         3\n",
       "Neighborhood     28\n",
       "Condition1        9\n",
       "Condition2        8\n",
       "BldgType          5\n",
       "HouseStyle        8\n",
       "OverallQual      10\n",
       "OverallCond       9\n",
       "RoofStyle         6\n",
       "RoofMatl          8\n",
       "Exterior1st      16\n",
       "Exterior2nd      17\n",
       "MasVnrType        5\n",
       "ExterQual         4\n",
       "ExterCond         5\n",
       "Foundation        6\n",
       "BsmtQual          6\n",
       "BsmtCond          6\n",
       "BsmtExposure      5\n",
       "BsmtFinType1      7\n",
       "BsmtFinType2      7\n",
       "Heating           6\n",
       "HeatingQC         5\n",
       "CentralAir        2\n",
       "Electrical        6\n",
       "KitchenQual       5\n",
       "Functional        8\n",
       "FireplaceQu       6\n",
       "GarageType        7\n",
       "GarageFinish      4\n",
       "GarageQual        6\n",
       "GarageCond        6\n",
       "PavedDrive        3\n",
       "PoolQC            5\n",
       "Fence             5\n",
       "MiscFeature       6\n",
       "SaleType         10\n",
       "SaleCondition     6\n",
       "dtype: int64"
      ]
     },
     "execution_count": 2,
     "metadata": {},
     "output_type": "execute_result"
    }
   ],
   "source": [
    "df.select_dtypes([\"object\"]).nunique()"
   ]
  },
  {
   "cell_type": "markdown",
   "id": "7ae8ac0b",
   "metadata": {
    "papermill": {
     "duration": 0.008361,
     "end_time": "2023-08-12T21:23:22.250666",
     "exception": false,
     "start_time": "2023-08-12T21:23:22.242305",
     "status": "completed"
    },
    "tags": []
   },
   "source": [
    "We talked about how the M-estimate encoding uses smoothing to improve estimates for rare categories. To see how many times a category occurs in the dataset, you can use the `value_counts` method. This cell shows the counts for `SaleType`, but you might want to consider others as well."
   ]
  },
  {
   "cell_type": "code",
   "execution_count": 3,
   "id": "a3141c20",
   "metadata": {
    "execution": {
     "iopub.execute_input": "2023-08-12T21:23:22.270434Z",
     "iopub.status.busy": "2023-08-12T21:23:22.269938Z",
     "iopub.status.idle": "2023-08-12T21:23:22.283818Z",
     "shell.execute_reply": "2023-08-12T21:23:22.282171Z"
    },
    "papermill": {
     "duration": 0.02655,
     "end_time": "2023-08-12T21:23:22.286186",
     "exception": false,
     "start_time": "2023-08-12T21:23:22.259636",
     "status": "completed"
    },
    "tags": []
   },
   "outputs": [
    {
     "data": {
      "text/plain": [
       "WD       2536\n",
       "New       239\n",
       "COD        87\n",
       "ConLD      26\n",
       "CWD        12\n",
       "ConLI       9\n",
       "ConLw       8\n",
       "Oth         7\n",
       "Con         5\n",
       "VWD         1\n",
       "Name: SaleType, dtype: int64"
      ]
     },
     "execution_count": 3,
     "metadata": {},
     "output_type": "execute_result"
    }
   ],
   "source": [
    "df[\"SaleType\"].value_counts()"
   ]
  },
  {
   "cell_type": "markdown",
   "id": "5501fa79",
   "metadata": {
    "papermill": {
     "duration": 0.01464,
     "end_time": "2023-08-12T21:23:22.312484",
     "exception": false,
     "start_time": "2023-08-12T21:23:22.297844",
     "status": "completed"
    },
    "tags": []
   },
   "source": [
    "# 1) Choose Features for Encoding\n",
    "\n",
    "Which features did you identify for target encoding? After you've thought about your answer, run the next cell for some discussion."
   ]
  },
  {
   "cell_type": "code",
   "execution_count": 4,
   "id": "fb9089e2",
   "metadata": {
    "execution": {
     "iopub.execute_input": "2023-08-12T21:23:22.335052Z",
     "iopub.status.busy": "2023-08-12T21:23:22.334529Z",
     "iopub.status.idle": "2023-08-12T21:23:22.345141Z",
     "shell.execute_reply": "2023-08-12T21:23:22.344092Z"
    },
    "papermill": {
     "duration": 0.025271,
     "end_time": "2023-08-12T21:23:22.348028",
     "exception": false,
     "start_time": "2023-08-12T21:23:22.322757",
     "status": "completed"
    },
    "tags": []
   },
   "outputs": [
    {
     "data": {
      "application/javascript": [
       "parent.postMessage({\"jupyterEvent\": \"custom.exercise_interaction\", \"data\": {\"outcomeType\": 1, \"valueTowardsCompletion\": 0.3333333333333333, \"interactionType\": 1, \"questionType\": 4, \"questionId\": \"1_Q1\", \"learnToolsVersion\": \"0.3.4\", \"failureMessage\": \"\", \"exceptionClass\": \"\", \"trace\": \"\"}}, \"*\")"
      ],
      "text/plain": [
       "<IPython.core.display.Javascript object>"
      ]
     },
     "metadata": {},
     "output_type": "display_data"
    },
    {
     "data": {
      "text/markdown": [
       "<span style=\"color:#33cc33\">Correct:</span> \n",
       "\n",
       " The `Neighborhood` feature looks promising. It has the most categories of any feature, and several categories are rare. Others that could be worth considering are `SaleType`, `MSSubClass`, `Exterior1st`, `Exterior2nd`. In fact, almost any of the nominal features would be worth trying because of the prevalence of rare categories."
      ],
      "text/plain": [
       "Correct: \n",
       "\n",
       " The `Neighborhood` feature looks promising. It has the most categories of any feature, and several categories are rare. Others that could be worth considering are `SaleType`, `MSSubClass`, `Exterior1st`, `Exterior2nd`. In fact, almost any of the nominal features would be worth trying because of the prevalence of rare categories."
      ]
     },
     "metadata": {},
     "output_type": "display_data"
    }
   ],
   "source": [
    "# View the solution (Run this cell to receive credit!)\n",
    "q_1.check()"
   ]
  },
  {
   "cell_type": "markdown",
   "id": "be5d2816",
   "metadata": {
    "papermill": {
     "duration": 0.008746,
     "end_time": "2023-08-12T21:23:22.367001",
     "exception": false,
     "start_time": "2023-08-12T21:23:22.358255",
     "status": "completed"
    },
    "tags": []
   },
   "source": [
    "-------------------------------------------------------------------------------\n",
    "\n",
    "Now you'll apply a target encoding to your choice of feature. As we discussed in the tutorial, to avoid overfitting, we need to fit the encoder on data heldout from the training set. Run this cell to create the encoding and training splits:"
   ]
  },
  {
   "cell_type": "code",
   "execution_count": 5,
   "id": "2dc41dd4",
   "metadata": {
    "execution": {
     "iopub.execute_input": "2023-08-12T21:23:22.387501Z",
     "iopub.status.busy": "2023-08-12T21:23:22.386751Z",
     "iopub.status.idle": "2023-08-12T21:23:22.415551Z",
     "shell.execute_reply": "2023-08-12T21:23:22.413863Z"
    },
    "lines_to_next_cell": 2,
    "papermill": {
     "duration": 0.043111,
     "end_time": "2023-08-12T21:23:22.419278",
     "exception": false,
     "start_time": "2023-08-12T21:23:22.376167",
     "status": "completed"
    },
    "tags": []
   },
   "outputs": [],
   "source": [
    "# Encoding split\n",
    "X_encode = df.sample(frac=0.20, random_state=0)\n",
    "y_encode = X_encode.pop(\"SalePrice\")\n",
    "\n",
    "# Training split\n",
    "X_pretrain = df.drop(X_encode.index)\n",
    "y_train = X_pretrain.pop(\"SalePrice\")"
   ]
  },
  {
   "cell_type": "markdown",
   "id": "7af0fd2a",
   "metadata": {
    "papermill": {
     "duration": 0.009171,
     "end_time": "2023-08-12T21:23:22.438404",
     "exception": false,
     "start_time": "2023-08-12T21:23:22.429233",
     "status": "completed"
    },
    "tags": []
   },
   "source": [
    "# 2) Apply M-Estimate Encoding\n",
    "\n",
    "Apply a target encoding to your choice of categorical features. Also choose a value for the smoothing parameter `m` (any value is okay for a correct answer)."
   ]
  },
  {
   "cell_type": "code",
   "execution_count": 6,
   "id": "830ae0c9",
   "metadata": {
    "execution": {
     "iopub.execute_input": "2023-08-12T21:23:22.460981Z",
     "iopub.status.busy": "2023-08-12T21:23:22.460182Z",
     "iopub.status.idle": "2023-08-12T21:23:22.569496Z",
     "shell.execute_reply": "2023-08-12T21:23:22.568044Z"
    },
    "lines_to_next_cell": 0,
    "papermill": {
     "duration": 0.124459,
     "end_time": "2023-08-12T21:23:22.572751",
     "exception": false,
     "start_time": "2023-08-12T21:23:22.448292",
     "status": "completed"
    },
    "tags": []
   },
   "outputs": [
    {
     "data": {
      "application/javascript": [
       "parent.postMessage({\"jupyterEvent\": \"custom.exercise_interaction\", \"data\": {\"outcomeType\": 1, \"valueTowardsCompletion\": 0.3333333333333333, \"interactionType\": 1, \"questionType\": 2, \"questionId\": \"2_Q2\", \"learnToolsVersion\": \"0.3.4\", \"failureMessage\": \"\", \"exceptionClass\": \"\", \"trace\": \"\"}}, \"*\")"
      ],
      "text/plain": [
       "<IPython.core.display.Javascript object>"
      ]
     },
     "metadata": {},
     "output_type": "display_data"
    },
    {
     "data": {
      "text/markdown": [
       "<span style=\"color:#33cc33\">Correct</span>"
      ],
      "text/plain": [
       "Correct"
      ]
     },
     "metadata": {},
     "output_type": "display_data"
    }
   ],
   "source": [
    "# YOUR CODE HERE: Create the MEstimateEncoder\n",
    "encoder = MEstimateEncoder (cols = ['Neighborhood'], m = 5.0)\n",
    "\n",
    "# Fit the encoder on the encoding split\n",
    "encoder.fit(X_encode, y_encode)\n",
    "\n",
    "# Encode the training split\n",
    "X_train = encoder.transform(X_pretrain, y_train)\n",
    "\n",
    "# Check your answer\n",
    "q_2.check()"
   ]
  },
  {
   "cell_type": "code",
   "execution_count": 7,
   "id": "e0b13eff",
   "metadata": {
    "execution": {
     "iopub.execute_input": "2023-08-12T21:23:22.595650Z",
     "iopub.status.busy": "2023-08-12T21:23:22.594392Z",
     "iopub.status.idle": "2023-08-12T21:23:22.599996Z",
     "shell.execute_reply": "2023-08-12T21:23:22.599074Z"
    },
    "lines_to_next_cell": 0,
    "papermill": {
     "duration": 0.019736,
     "end_time": "2023-08-12T21:23:22.602560",
     "exception": false,
     "start_time": "2023-08-12T21:23:22.582824",
     "status": "completed"
    },
    "tags": []
   },
   "outputs": [],
   "source": [
    "# Lines below will give you a hint or solution code\n",
    "#q_2.hint()\n",
    "# q_2.solution()"
   ]
  },
  {
   "cell_type": "markdown",
   "id": "3371af7f",
   "metadata": {
    "papermill": {
     "duration": 0.010854,
     "end_time": "2023-08-12T21:23:22.624029",
     "exception": false,
     "start_time": "2023-08-12T21:23:22.613175",
     "status": "completed"
    },
    "tags": []
   },
   "source": [
    "If you'd like to see how the encoded feature compares to the target, you can run this cell:"
   ]
  },
  {
   "cell_type": "code",
   "execution_count": 8,
   "id": "f0c280cd",
   "metadata": {
    "execution": {
     "iopub.execute_input": "2023-08-12T21:23:22.647802Z",
     "iopub.status.busy": "2023-08-12T21:23:22.646864Z",
     "iopub.status.idle": "2023-08-12T21:23:23.228857Z",
     "shell.execute_reply": "2023-08-12T21:23:23.227796Z"
    },
    "papermill": {
     "duration": 0.599759,
     "end_time": "2023-08-12T21:23:23.234711",
     "exception": false,
     "start_time": "2023-08-12T21:23:22.634952",
     "status": "completed"
    },
    "tags": []
   },
   "outputs": [
    {
     "data": {
      "image/png": "[encoded data removed]",
      "text/plain": [
       "<Figure size 576x432 with 1 Axes>"
      ]
     },
     "metadata": {},
     "output_type": "display_data"
    }
   ],
   "source": [
    "feature = encoder.cols\n",
    "\n",
    "plt.figure(dpi=90)\n",
    "ax = sns.distplot(y_train, kde=True, hist=False)\n",
    "ax = sns.distplot(X_train[feature], color='r', ax=ax, hist=True, kde=False, norm_hist=True)\n",
    "ax.set_xlabel(\"SalePrice\");"
   ]
  },
  {
   "cell_type": "markdown",
   "id": "dc515e5b",
   "metadata": {
    "papermill": {
     "duration": 0.009997,
     "end_time": "2023-08-12T21:23:23.259309",
     "exception": false,
     "start_time": "2023-08-12T21:23:23.249312",
     "status": "completed"
    },
    "tags": []
   },
   "source": [
    "From the distribution plots, does it seem like the encoding is informative?\n",
    "\n",
    "And this cell will show you the score of the encoded set compared to the original set:"
   ]
  },
  {
   "cell_type": "code",
   "execution_count": 9,
   "id": "3ce8b432",
   "metadata": {
    "execution": {
     "iopub.execute_input": "2023-08-12T21:23:23.285675Z",
     "iopub.status.busy": "2023-08-12T21:23:23.284136Z",
     "iopub.status.idle": "2023-08-12T21:23:30.558468Z",
     "shell.execute_reply": "2023-08-12T21:23:30.557372Z"
    },
    "papermill": {
     "duration": 7.290845,
     "end_time": "2023-08-12T21:23:30.561650",
     "exception": false,
     "start_time": "2023-08-12T21:23:23.270805",
     "status": "completed"
    },
    "tags": []
   },
   "outputs": [
    {
     "name": "stdout",
     "output_type": "stream",
     "text": [
      "Baseline Score: 0.1428 RMSLE\n",
      "Score with Encoding: 0.1383 RMSLE\n"
     ]
    }
   ],
   "source": [
    "X = df.copy()\n",
    "y = X.pop(\"SalePrice\")\n",
    "score_base = score_dataset(X, y)\n",
    "score_new = score_dataset(X_train, y_train)\n",
    "\n",
    "print(f\"Baseline Score: {score_base:.4f} RMSLE\")\n",
    "print(f\"Score with Encoding: {score_new:.4f} RMSLE\")"
   ]
  },
  {
   "cell_type": "markdown",
   "id": "5bb98460",
   "metadata": {
    "papermill": {
     "duration": 0.009782,
     "end_time": "2023-08-12T21:23:30.582945",
     "exception": false,
     "start_time": "2023-08-12T21:23:30.573163",
     "status": "completed"
    },
    "tags": []
   },
   "source": [
    "Do you think that target encoding was worthwhile in this case? Depending on which feature or features you chose, you may have ended up with a score significantly worse than the baseline. In that case, it's likely the extra information gained by the encoding couldn't make up for the loss of data used for the encoding."
   ]
  },
  {
   "cell_type": "markdown",
   "id": "4365d5c0",
   "metadata": {
    "papermill": {
     "duration": 0.009533,
     "end_time": "2023-08-12T21:23:30.602443",
     "exception": false,
     "start_time": "2023-08-12T21:23:30.592910",
     "status": "completed"
    },
    "tags": []
   },
   "source": [
    "-------------------------------------------------------------------------------\n",
    "\n",
    "In this question, you'll explore the problem of overfitting with target encodings. This will illustrate this importance of training fitting target encoders on data held-out from the training set.\n",
    "\n",
    "So let's see what happens when we fit the encoder and the model on the *same* dataset. To emphasize how dramatic the overfitting can be, we'll mean-encode a feature that should have no relationship with `SalePrice`, a count: `0, 1, 2, 3, 4, 5, ...`."
   ]
  },
  {
   "cell_type": "code",
   "execution_count": 10,
   "id": "a5061bb2",
   "metadata": {
    "execution": {
     "iopub.execute_input": "2023-08-12T21:23:30.625216Z",
     "iopub.status.busy": "2023-08-12T21:23:30.624123Z",
     "iopub.status.idle": "2023-08-12T21:23:34.604634Z",
     "shell.execute_reply": "2023-08-12T21:23:34.603666Z"
    },
    "papermill": {
     "duration": 3.995282,
     "end_time": "2023-08-12T21:23:34.607606",
     "exception": false,
     "start_time": "2023-08-12T21:23:30.612324",
     "status": "completed"
    },
    "tags": []
   },
   "outputs": [
    {
     "name": "stdout",
     "output_type": "stream",
     "text": [
      "Score: 0.0290 RMSLE\n"
     ]
    }
   ],
   "source": [
    "# Try experimenting with the smoothing parameter m\n",
    "# Try 0, 1, 5, 50\n",
    "m = 0\n",
    "\n",
    "X = df.copy()\n",
    "y = X.pop('SalePrice')\n",
    "\n",
    "# Create an uninformative feature\n",
    "X[\"Count\"] = range(len(X))\n",
    "X[\"Count\"][1] = 0  # actually need one duplicate value to circumvent error-checking in MEstimateEncoder\n",
    "\n",
    "# fit and transform on the same dataset\n",
    "encoder = MEstimateEncoder(cols=\"Count\", m=0)\n",
    "X = encoder.fit_transform(X, y)\n",
    "\n",
    "# Results\n",
    "score =  score_dataset(X, y)\n",
    "print(f\"Score: {score:.4f} RMSLE\")"
   ]
  },
  {
   "cell_type": "markdown",
   "id": "50649e0e",
   "metadata": {
    "papermill": {
     "duration": 0.009696,
     "end_time": "2023-08-12T21:23:34.627919",
     "exception": false,
     "start_time": "2023-08-12T21:23:34.618223",
     "status": "completed"
    },
    "tags": []
   },
   "source": [
    "Almost a perfect score!"
   ]
  },
  {
   "cell_type": "code",
   "execution_count": 11,
   "id": "54599130",
   "metadata": {
    "execution": {
     "iopub.execute_input": "2023-08-12T21:23:34.650212Z",
     "iopub.status.busy": "2023-08-12T21:23:34.649751Z",
     "iopub.status.idle": "2023-08-12T21:23:35.236390Z",
     "shell.execute_reply": "2023-08-12T21:23:35.235076Z"
    },
    "papermill": {
     "duration": 0.601645,
     "end_time": "2023-08-12T21:23:35.239515",
     "exception": false,
     "start_time": "2023-08-12T21:23:34.637870",
     "status": "completed"
    },
    "tags": []
   },
   "outputs": [
    {
     "data": {
      "image/png": "[encoded data removed]",
      "text/plain": [
       "<Figure size 576x432 with 1 Axes>"
      ]
     },
     "metadata": {},
     "output_type": "display_data"
    }
   ],
   "source": [
    "plt.figure(dpi=90)\n",
    "ax = sns.distplot(y, kde=True, hist=False)\n",
    "ax = sns.distplot(X[\"Count\"], color='r', ax=ax, hist=True, kde=False, norm_hist=True)\n",
    "ax.set_xlabel(\"SalePrice\");"
   ]
  },
  {
   "cell_type": "markdown",
   "id": "6c2544cc",
   "metadata": {
    "papermill": {
     "duration": 0.010204,
     "end_time": "2023-08-12T21:23:35.260832",
     "exception": false,
     "start_time": "2023-08-12T21:23:35.250628",
     "status": "completed"
    },
    "tags": []
   },
   "source": [
    "And the distributions are almost exactly the same, too.\n",
    "\n",
    "# 3) Overfitting with Target Encoders\n",
    "\n",
    "Based on your understanding of how mean-encoding works, can you explain how XGBoost was able to get an almost a perfect fit after mean-encoding the count feature?"
   ]
  },
  {
   "cell_type": "code",
   "execution_count": 12,
   "id": "765b73e8",
   "metadata": {
    "execution": {
     "iopub.execute_input": "2023-08-12T21:23:35.284521Z",
     "iopub.status.busy": "2023-08-12T21:23:35.283479Z",
     "iopub.status.idle": "2023-08-12T21:23:35.293725Z",
     "shell.execute_reply": "2023-08-12T21:23:35.292407Z"
    },
    "lines_to_next_cell": 0,
    "papermill": {
     "duration": 0.025327,
     "end_time": "2023-08-12T21:23:35.296637",
     "exception": false,
     "start_time": "2023-08-12T21:23:35.271310",
     "status": "completed"
    },
    "tags": []
   },
   "outputs": [
    {
     "data": {
      "application/javascript": [
       "parent.postMessage({\"jupyterEvent\": \"custom.exercise_interaction\", \"data\": {\"outcomeType\": 1, \"valueTowardsCompletion\": 0.3333333333333333, \"interactionType\": 1, \"questionType\": 4, \"questionId\": \"3_Q3\", \"learnToolsVersion\": \"0.3.4\", \"failureMessage\": \"\", \"exceptionClass\": \"\", \"trace\": \"\"}}, \"*\")"
      ],
      "text/plain": [
       "<IPython.core.display.Javascript object>"
      ]
     },
     "metadata": {},
     "output_type": "display_data"
    },
    {
     "data": {
      "text/markdown": [
       "<span style=\"color:#33cc33\">Correct:</span> \n",
       "\n",
       "\n",
       "Since `Count` never has any duplicate values, the mean-encoded `Count` is essentially an exact copy of the target. In other words, mean-encoding turned a completely meaningless feature into a perfect feature.\n",
       "\n",
       "Now, the only reason this worked is because we trained XGBoost on the same set we used to train the encoder. If we had used a hold-out set instead, none of this \"fake\" encoding would have transferred to the training data.\n",
       "\n",
       "The lesson is that when using a target encoder it's very important to use separate data sets for training the encoder and training the model. Otherwise the results can be very disappointing!\n"
      ],
      "text/plain": [
       "Correct: \n",
       "\n",
       "\n",
       "Since `Count` never has any duplicate values, the mean-encoded `Count` is essentially an exact copy of the target. In other words, mean-encoding turned a completely meaningless feature into a perfect feature.\n",
       "\n",
       "Now, the only reason this worked is because we trained XGBoost on the same set we used to train the encoder. If we had used a hold-out set instead, none of this \"fake\" encoding would have transferred to the training data.\n",
       "\n",
       "The lesson is that when using a target encoder it's very important to use separate data sets for training the encoder and training the model. Otherwise the results can be very disappointing!"
      ]
     },
     "metadata": {},
     "output_type": "display_data"
    }
   ],
   "source": [
    "# View the solution (Run this cell to receive credit!)\n",
    "q_3.check()"
   ]
  },
  {
   "cell_type": "code",
   "execution_count": 13,
   "id": "3b196ffe",
   "metadata": {
    "execution": {
     "iopub.execute_input": "2023-08-12T21:23:35.322450Z",
     "iopub.status.busy": "2023-08-12T21:23:35.321974Z",
     "iopub.status.idle": "2023-08-12T21:23:35.327774Z",
     "shell.execute_reply": "2023-08-12T21:23:35.326311Z"
    },
    "papermill": {
     "duration": 0.021162,
     "end_time": "2023-08-12T21:23:35.330547",
     "exception": false,
     "start_time": "2023-08-12T21:23:35.309385",
     "status": "completed"
    },
    "tags": []
   },
   "outputs": [],
   "source": [
    "# Uncomment this if you'd like a hint before seeing the answer\n",
    "#q_3.hint()"
   ]
  },
  {
   "cell_type": "markdown",
   "id": "6f6ee07b",
   "metadata": {
    "papermill": {
     "duration": 0.010437,
     "end_time": "2023-08-12T21:23:35.351721",
     "exception": false,
     "start_time": "2023-08-12T21:23:35.341284",
     "status": "completed"
    },
    "tags": []
   },
   "source": [
    "# The End #\n",
    "\n",
    "That's it for *Feature Engineering*! We hope you enjoyed your time with us.\n",
    "\n",
    "Now, are you ready to try out your new skills? Now would be a great time to join our [Housing Prices](https://www.kaggle.com/c/house-prices-advanced-regression-techniques) Getting Started competition. We've even prepared a [Bonus Lesson](https://www.kaggle.com/ryanholbrook/feature-engineering-for-house-prices) that collects all the work we've done together into a starter notebook.\n",
    "\n",
    "# References #\n",
    "Here are some great resources you might like to consult for more information. They all played a part in shaping this course:\n",
    "- *The Art of Feature Engineering*, a book by Pablo Duboue.\n",
    "- *An Empirical Analysis of Feature Engineering for Predictive Modeling*, an article by Jeff Heaton.\n",
    "- *Feature Engineering for Machine Learning*, a book by Alice Zheng and Amanda Casari. The tutorial on clustering was inspired by this excellent book.\n",
    "- *Feature Engineering and Selection*, a book by Max Kuhn and Kjell Johnson."
   ]
  },
  {
   "cell_type": "markdown",
   "id": "1c0a8b9d",
   "metadata": {
    "papermill": {
     "duration": 0.010498,
     "end_time": "2023-08-12T21:23:35.373050",
     "exception": false,
     "start_time": "2023-08-12T21:23:35.362552",
     "status": "completed"
    },
    "tags": []
   },
   "source": [
    "---\n",
    "\n",
    "\n",
    "\n",
    "\n",
    "*Have questions or comments? Visit the [course discussion forum](https://www.kaggle.com/learn/feature-engineering/discussion) to chat with other learners.*"
   ]
  }
 ],
 "metadata": {
  "kernelspec": {
   "display_name": "Python 3",
   "language": "python",
   "name": "python3"
  },
  "language_info": {
   "codemirror_mode": {
    "name": "ipython",
    "version": 3
   },
   "file_extension": ".py",
   "mimetype": "text/x-python",
   "name": "python",
   "nbconvert_exporter": "python",
   "pygments_lexer": "ipython3",
   "version": "3.10.12"
  },
  "papermill": {
   "default_parameters": {},
   "duration": 31.856295,
   "end_time": "2023-08-12T21:23:36.910807",
   "environment_variables": {},
   "exception": null,
   "input_path": "__notebook__.ipynb",
   "output_path": "__notebook__.ipynb",
   "parameters": {},
   "start_time": "2023-08-12T21:23:05.054512",
   "version": "2.4.0"
  }
 },
 "nbformat": 4,
 "nbformat_minor": 5
}
