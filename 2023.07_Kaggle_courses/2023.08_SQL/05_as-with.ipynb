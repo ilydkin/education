{
 "cells": [
  {
   "cell_type": "markdown",
   "id": "cdd8b454",
   "metadata": {
    "papermill": {
     "duration": 0.009282,
     "end_time": "2023-07-26T22:56:24.963391",
     "exception": false,
     "start_time": "2023-07-26T22:56:24.954109",
     "status": "completed"
    },
    "tags": []
   },
   "source": [
    "**This notebook is an exercise in the [SQL](https://www.kaggle.com/learn/intro-to-sql) course.  You can reference the tutorial at [this link](https://www.kaggle.com/dansbecker/as-with).**\n",
    "\n",
    "---\n"
   ]
  },
  {
   "cell_type": "markdown",
   "id": "aee51576",
   "metadata": {
    "papermill": {
     "duration": 0.00837,
     "end_time": "2023-07-26T22:56:24.980629",
     "exception": false,
     "start_time": "2023-07-26T22:56:24.972259",
     "status": "completed"
    },
    "tags": []
   },
   "source": [
    "# Introduction\n",
    "\n",
    "You are getting to the point where you can own an analysis from beginning to end. So you'll do more data exploration in this exercise than you've done before.  Before you get started, run the following set-up code as usual. "
   ]
  },
  {
   "cell_type": "code",
   "execution_count": 1,
   "id": "758eaab3",
   "metadata": {
    "execution": {
     "iopub.execute_input": "2023-07-26T22:56:25.000645Z",
     "iopub.status.busy": "2023-07-26T22:56:24.999890Z",
     "iopub.status.idle": "2023-07-26T22:56:55.890400Z",
     "shell.execute_reply": "2023-07-26T22:56:55.889125Z"
    },
    "papermill": {
     "duration": 30.913868,
     "end_time": "2023-07-26T22:56:55.902934",
     "exception": false,
     "start_time": "2023-07-26T22:56:24.989066",
     "status": "completed"
    },
    "tags": []
   },
   "outputs": [
    {
     "name": "stdout",
     "output_type": "stream",
     "text": [
      "Collecting git+https://github.com/Kaggle/learntools.git\r\n",
      "  Cloning https://github.com/Kaggle/learntools.git to /tmp/pip-req-build-vp7cbwjc\r\n",
      "  Running command git clone --filter=blob:none --quiet https://github.com/Kaggle/learntools.git /tmp/pip-req-build-vp7cbwjc\r\n",
      "  Resolved https://github.com/Kaggle/learntools.git to commit 93cf102cac95c2d8d7fb96ccc00ab5acc2c4bf05\r\n",
      "  Preparing metadata (setup.py) ... \u001b[?25l-\b \b\\\b \bdone\r\n",
      "\u001b[?25hBuilding wheels for collected packages: learntools\r\n",
      "  Building wheel for learntools (setup.py) ... \u001b[?25l-\b \b\\\b \b|\b \b/\b \bdone\r\n",
      "\u001b[?25h  Created wheel for learntools: filename=learntools-0.3.4-py3-none-any.whl size=268981 sha256=bdc73775b381779774226ba908f7c1357bbe0a881cbfb09e2df6e19494f90752\r\n",
      "  Stored in directory: /tmp/pip-ephem-wheel-cache-mx7d520s/wheels/2f/6c/3c/aa9f50cfb5a862157cb4c7a5b34881828cf45404698255dced\r\n",
      "Successfully built learntools\r\n",
      "Installing collected packages: learntools\r\n",
      "Successfully installed learntools-0.3.4\r\n",
      "Using Kaggle's public dataset BigQuery integration.\n",
      "Setup Complete\n"
     ]
    }
   ],
   "source": [
    "# Get most recent checking code\n",
    "!pip install -U -t /kaggle/working/ git+https://github.com/Kaggle/learntools.git\n",
    "# Set up feedback system\n",
    "from learntools.core import binder\n",
    "binder.bind(globals())\n",
    "from learntools.sql.ex5 import *\n",
    "print(\"Setup Complete\")"
   ]
  },
  {
   "cell_type": "markdown",
   "id": "7554838c",
   "metadata": {
    "papermill": {
     "duration": 0.009898,
     "end_time": "2023-07-26T22:56:55.923051",
     "exception": false,
     "start_time": "2023-07-26T22:56:55.913153",
     "status": "completed"
    },
    "tags": []
   },
   "source": [
    "You'll work with a dataset about taxi trips in the city of Chicago. Run the cell below to fetch the `chicago_taxi_trips` dataset."
   ]
  },
  {
   "cell_type": "code",
   "execution_count": 2,
   "id": "b83f808b",
   "metadata": {
    "execution": {
     "iopub.execute_input": "2023-07-26T22:56:55.945721Z",
     "iopub.status.busy": "2023-07-26T22:56:55.945211Z",
     "iopub.status.idle": "2023-07-26T22:56:56.270586Z",
     "shell.execute_reply": "2023-07-26T22:56:56.269120Z"
    },
    "papermill": {
     "duration": 0.340581,
     "end_time": "2023-07-26T22:56:56.273853",
     "exception": false,
     "start_time": "2023-07-26T22:56:55.933272",
     "status": "completed"
    },
    "tags": []
   },
   "outputs": [
    {
     "name": "stdout",
     "output_type": "stream",
     "text": [
      "Using Kaggle's public dataset BigQuery integration.\n"
     ]
    }
   ],
   "source": [
    "from google.cloud import bigquery\n",
    "\n",
    "# Create a \"Client\" object\n",
    "client = bigquery.Client()\n",
    "\n",
    "# Construct a reference to the \"chicago_taxi_trips\" dataset\n",
    "dataset_ref = client.dataset(\"chicago_taxi_trips\", project=\"bigquery-public-data\")\n",
    "\n",
    "# API request - fetch the dataset\n",
    "dataset = client.get_dataset(dataset_ref)"
   ]
  },
  {
   "cell_type": "markdown",
   "id": "c28a4545",
   "metadata": {
    "papermill": {
     "duration": 0.009939,
     "end_time": "2023-07-26T22:56:56.295876",
     "exception": false,
     "start_time": "2023-07-26T22:56:56.285937",
     "status": "completed"
    },
    "tags": []
   },
   "source": [
    "# Exercises\n",
    "\n",
    "You are curious how much slower traffic moves when traffic volume is high. This involves a few steps.\n",
    "\n",
    "### 1) Find the data\n",
    "Before you can access the data, you need to find the table name with the data.\n",
    "\n",
    "*Hint*: Tab completion is helpful whenever you can't remember a command. Type `client.` and then hit the tab key. Don't forget the period before hitting tab."
   ]
  },
  {
   "cell_type": "code",
   "execution_count": 3,
   "id": "49ac0087",
   "metadata": {
    "execution": {
     "iopub.execute_input": "2023-07-26T22:56:56.320473Z",
     "iopub.status.busy": "2023-07-26T22:56:56.319526Z",
     "iopub.status.idle": "2023-07-26T22:56:56.607008Z",
     "shell.execute_reply": "2023-07-26T22:56:56.605621Z"
    },
    "papermill": {
     "duration": 0.302086,
     "end_time": "2023-07-26T22:56:56.609684",
     "exception": false,
     "start_time": "2023-07-26T22:56:56.307598",
     "status": "completed"
    },
    "tags": []
   },
   "outputs": [
    {
     "name": "stdout",
     "output_type": "stream",
     "text": [
      "taxi_trips\n"
     ]
    }
   ],
   "source": [
    "tables = list(client.list_tables(dataset))\n",
    "\n",
    "for table in tables:  \n",
    "    print(table.table_id)"
   ]
  },
  {
   "cell_type": "code",
   "execution_count": 4,
   "id": "9046539c",
   "metadata": {
    "execution": {
     "iopub.execute_input": "2023-07-26T22:56:56.632177Z",
     "iopub.status.busy": "2023-07-26T22:56:56.631730Z",
     "iopub.status.idle": "2023-07-26T22:56:56.643933Z",
     "shell.execute_reply": "2023-07-26T22:56:56.642739Z"
    },
    "papermill": {
     "duration": 0.026303,
     "end_time": "2023-07-26T22:56:56.646206",
     "exception": false,
     "start_time": "2023-07-26T22:56:56.619903",
     "status": "completed"
    },
    "tags": []
   },
   "outputs": [
    {
     "data": {
      "application/javascript": [
       "parent.postMessage({\"jupyterEvent\": \"custom.exercise_interaction\", \"data\": {\"outcomeType\": 1, \"valueTowardsCompletion\": 0.16666666666666666, \"interactionType\": 1, \"questionType\": 1, \"questionId\": \"1_GetTableName\", \"learnToolsVersion\": \"0.3.4\", \"failureMessage\": \"\", \"exceptionClass\": \"\", \"trace\": \"\"}}, \"*\")"
      ],
      "text/plain": [
       "<IPython.core.display.Javascript object>"
      ]
     },
     "metadata": {},
     "output_type": "display_data"
    },
    {
     "data": {
      "text/markdown": [
       "<span style=\"color:#33cc33\">Correct</span>"
      ],
      "text/plain": [
       "Correct"
      ]
     },
     "metadata": {},
     "output_type": "display_data"
    }
   ],
   "source": [
    "# Write the table name as a string below\n",
    "table_name = 'taxi_trips'\n",
    "# Check your answer\n",
    "q_1.check()"
   ]
  },
  {
   "cell_type": "markdown",
   "id": "f1dcc2e6",
   "metadata": {
    "papermill": {
     "duration": 0.01011,
     "end_time": "2023-07-26T22:56:56.666771",
     "exception": false,
     "start_time": "2023-07-26T22:56:56.656661",
     "status": "completed"
    },
    "tags": []
   },
   "source": [
    "For the solution, uncomment the line below."
   ]
  },
  {
   "cell_type": "code",
   "execution_count": 5,
   "id": "0634f559",
   "metadata": {
    "execution": {
     "iopub.execute_input": "2023-07-26T22:56:56.690330Z",
     "iopub.status.busy": "2023-07-26T22:56:56.689329Z",
     "iopub.status.idle": "2023-07-26T22:56:56.695166Z",
     "shell.execute_reply": "2023-07-26T22:56:56.693938Z"
    },
    "papermill": {
     "duration": 0.020423,
     "end_time": "2023-07-26T22:56:56.697662",
     "exception": false,
     "start_time": "2023-07-26T22:56:56.677239",
     "status": "completed"
    },
    "tags": []
   },
   "outputs": [],
   "source": [
    "#q_1.solution()"
   ]
  },
  {
   "cell_type": "markdown",
   "id": "987c497f",
   "metadata": {
    "papermill": {
     "duration": 0.010175,
     "end_time": "2023-07-26T22:56:56.718496",
     "exception": false,
     "start_time": "2023-07-26T22:56:56.708321",
     "status": "completed"
    },
    "tags": []
   },
   "source": [
    "### 2) Peek at the data\n",
    "\n",
    "Use the next code cell to peek at the top few rows of the data. Inspect the data and see if any issues with data quality are immediately obvious. "
   ]
  },
  {
   "cell_type": "code",
   "execution_count": 6,
   "id": "e98578bf",
   "metadata": {
    "execution": {
     "iopub.execute_input": "2023-07-26T22:56:56.742070Z",
     "iopub.status.busy": "2023-07-26T22:56:56.741657Z",
     "iopub.status.idle": "2023-07-26T22:56:57.800278Z",
     "shell.execute_reply": "2023-07-26T22:56:57.799248Z"
    },
    "papermill": {
     "duration": 1.073641,
     "end_time": "2023-07-26T22:56:57.802877",
     "exception": false,
     "start_time": "2023-07-26T22:56:56.729236",
     "status": "completed"
    },
    "tags": []
   },
   "outputs": [
    {
     "data": {
      "text/html": [
       "<div>\n",
       "<style scoped>\n",
       "    .dataframe tbody tr th:only-of-type {\n",
       "        vertical-align: middle;\n",
       "    }\n",
       "\n",
       "    .dataframe tbody tr th {\n",
       "        vertical-align: top;\n",
       "    }\n",
       "\n",
       "    .dataframe thead th {\n",
       "        text-align: right;\n",
       "    }\n",
       "</style>\n",
       "<table border=\"1\" class=\"dataframe\">\n",
       "  <thead>\n",
       "    <tr style=\"text-align: right;\">\n",
       "      <th></th>\n",
       "      <th>unique_key</th>\n",
       "      <th>taxi_id</th>\n",
       "      <th>trip_start_timestamp</th>\n",
       "      <th>trip_end_timestamp</th>\n",
       "      <th>trip_seconds</th>\n",
       "      <th>trip_miles</th>\n",
       "      <th>pickup_census_tract</th>\n",
       "      <th>dropoff_census_tract</th>\n",
       "      <th>pickup_community_area</th>\n",
       "      <th>dropoff_community_area</th>\n",
       "      <th>...</th>\n",
       "      <th>extras</th>\n",
       "      <th>trip_total</th>\n",
       "      <th>payment_type</th>\n",
       "      <th>company</th>\n",
       "      <th>pickup_latitude</th>\n",
       "      <th>pickup_longitude</th>\n",
       "      <th>pickup_location</th>\n",
       "      <th>dropoff_latitude</th>\n",
       "      <th>dropoff_longitude</th>\n",
       "      <th>dropoff_location</th>\n",
       "    </tr>\n",
       "  </thead>\n",
       "  <tbody>\n",
       "    <tr>\n",
       "      <th>0</th>\n",
       "      <td>a54ef0250d9645d9589c77d92d2f9fb425c8acff</td>\n",
       "      <td>a63ecb1af39b43b49c041529edf9352a363e8732107cae...</td>\n",
       "      <td>2023-03-10 13:30:00+00:00</td>\n",
       "      <td>2023-03-10 13:45:00+00:00</td>\n",
       "      <td>1302</td>\n",
       "      <td>14.76</td>\n",
       "      <td>NaN</td>\n",
       "      <td>NaN</td>\n",
       "      <td>NaN</td>\n",
       "      <td>NaN</td>\n",
       "      <td>...</td>\n",
       "      <td>6.0</td>\n",
       "      <td>72.75</td>\n",
       "      <td>Credit Card</td>\n",
       "      <td>Sun Taxi</td>\n",
       "      <td>NaN</td>\n",
       "      <td>NaN</td>\n",
       "      <td>None</td>\n",
       "      <td>NaN</td>\n",
       "      <td>NaN</td>\n",
       "      <td>None</td>\n",
       "    </tr>\n",
       "    <tr>\n",
       "      <th>1</th>\n",
       "      <td>a52a5ca0a52586e498e0286c6a0036918ccf3020</td>\n",
       "      <td>0b12c0f0c81641a43904bbce23657b88b23abf83aaaed6...</td>\n",
       "      <td>2023-03-18 07:15:00+00:00</td>\n",
       "      <td>2023-03-18 07:45:00+00:00</td>\n",
       "      <td>1332</td>\n",
       "      <td>16.81</td>\n",
       "      <td>NaN</td>\n",
       "      <td>NaN</td>\n",
       "      <td>NaN</td>\n",
       "      <td>NaN</td>\n",
       "      <td>...</td>\n",
       "      <td>36.5</td>\n",
       "      <td>98.44</td>\n",
       "      <td>Credit Card</td>\n",
       "      <td>City Service</td>\n",
       "      <td>NaN</td>\n",
       "      <td>NaN</td>\n",
       "      <td>None</td>\n",
       "      <td>NaN</td>\n",
       "      <td>NaN</td>\n",
       "      <td>None</td>\n",
       "    </tr>\n",
       "    <tr>\n",
       "      <th>2</th>\n",
       "      <td>a91742cc8fcb7d9778940bc64fd58fdd188b11fe</td>\n",
       "      <td>481a0e82921b8500cddb5694f01b742768e1731519ebb2...</td>\n",
       "      <td>2023-03-28 16:00:00+00:00</td>\n",
       "      <td>2023-03-28 16:30:00+00:00</td>\n",
       "      <td>1715</td>\n",
       "      <td>16.53</td>\n",
       "      <td>NaN</td>\n",
       "      <td>NaN</td>\n",
       "      <td>NaN</td>\n",
       "      <td>NaN</td>\n",
       "      <td>...</td>\n",
       "      <td>25.5</td>\n",
       "      <td>67.75</td>\n",
       "      <td>Cash</td>\n",
       "      <td>Medallion Leasin</td>\n",
       "      <td>NaN</td>\n",
       "      <td>NaN</td>\n",
       "      <td>None</td>\n",
       "      <td>NaN</td>\n",
       "      <td>NaN</td>\n",
       "      <td>None</td>\n",
       "    </tr>\n",
       "    <tr>\n",
       "      <th>3</th>\n",
       "      <td>a75b27e006e43dbd1913497f136e69ab0e00edba</td>\n",
       "      <td>aa798918401638e9ac120290066e3f74cc7b21e8bc6af7...</td>\n",
       "      <td>2023-03-20 22:15:00+00:00</td>\n",
       "      <td>2023-03-20 23:00:00+00:00</td>\n",
       "      <td>1887</td>\n",
       "      <td>23.35</td>\n",
       "      <td>NaN</td>\n",
       "      <td>NaN</td>\n",
       "      <td>NaN</td>\n",
       "      <td>NaN</td>\n",
       "      <td>...</td>\n",
       "      <td>35.0</td>\n",
       "      <td>91.75</td>\n",
       "      <td>Cash</td>\n",
       "      <td>Flash Cab</td>\n",
       "      <td>NaN</td>\n",
       "      <td>NaN</td>\n",
       "      <td>None</td>\n",
       "      <td>NaN</td>\n",
       "      <td>NaN</td>\n",
       "      <td>None</td>\n",
       "    </tr>\n",
       "    <tr>\n",
       "      <th>4</th>\n",
       "      <td>a762ae320390087aae68e267a240ecdf3289465d</td>\n",
       "      <td>624e8f2a6af3b7f032d3c40d6f925f6fc5f0bf6a358ecc...</td>\n",
       "      <td>2023-03-16 21:15:00+00:00</td>\n",
       "      <td>2023-03-16 21:45:00+00:00</td>\n",
       "      <td>2040</td>\n",
       "      <td>15.10</td>\n",
       "      <td>NaN</td>\n",
       "      <td>NaN</td>\n",
       "      <td>NaN</td>\n",
       "      <td>NaN</td>\n",
       "      <td>...</td>\n",
       "      <td>4.0</td>\n",
       "      <td>53.25</td>\n",
       "      <td>Credit Card</td>\n",
       "      <td>Taxicab Insurance Agency, LLC</td>\n",
       "      <td>NaN</td>\n",
       "      <td>NaN</td>\n",
       "      <td>None</td>\n",
       "      <td>NaN</td>\n",
       "      <td>NaN</td>\n",
       "      <td>None</td>\n",
       "    </tr>\n",
       "  </tbody>\n",
       "</table>\n",
       "<p>5 rows × 23 columns</p>\n",
       "</div>"
      ],
      "text/plain": [
       "                                 unique_key  \\\n",
       "0  a54ef0250d9645d9589c77d92d2f9fb425c8acff   \n",
       "1  a52a5ca0a52586e498e0286c6a0036918ccf3020   \n",
       "2  a91742cc8fcb7d9778940bc64fd58fdd188b11fe   \n",
       "3  a75b27e006e43dbd1913497f136e69ab0e00edba   \n",
       "4  a762ae320390087aae68e267a240ecdf3289465d   \n",
       "\n",
       "                                             taxi_id  \\\n",
       "0  a63ecb1af39b43b49c041529edf9352a363e8732107cae...   \n",
       "1  0b12c0f0c81641a43904bbce23657b88b23abf83aaaed6...   \n",
       "2  481a0e82921b8500cddb5694f01b742768e1731519ebb2...   \n",
       "3  aa798918401638e9ac120290066e3f74cc7b21e8bc6af7...   \n",
       "4  624e8f2a6af3b7f032d3c40d6f925f6fc5f0bf6a358ecc...   \n",
       "\n",
       "       trip_start_timestamp        trip_end_timestamp  trip_seconds  \\\n",
       "0 2023-03-10 13:30:00+00:00 2023-03-10 13:45:00+00:00          1302   \n",
       "1 2023-03-18 07:15:00+00:00 2023-03-18 07:45:00+00:00          1332   \n",
       "2 2023-03-28 16:00:00+00:00 2023-03-28 16:30:00+00:00          1715   \n",
       "3 2023-03-20 22:15:00+00:00 2023-03-20 23:00:00+00:00          1887   \n",
       "4 2023-03-16 21:15:00+00:00 2023-03-16 21:45:00+00:00          2040   \n",
       "\n",
       "   trip_miles  pickup_census_tract  dropoff_census_tract  \\\n",
       "0       14.76                  NaN                   NaN   \n",
       "1       16.81                  NaN                   NaN   \n",
       "2       16.53                  NaN                   NaN   \n",
       "3       23.35                  NaN                   NaN   \n",
       "4       15.10                  NaN                   NaN   \n",
       "\n",
       "   pickup_community_area  dropoff_community_area  ...  extras  trip_total  \\\n",
       "0                    NaN                     NaN  ...     6.0       72.75   \n",
       "1                    NaN                     NaN  ...    36.5       98.44   \n",
       "2                    NaN                     NaN  ...    25.5       67.75   \n",
       "3                    NaN                     NaN  ...    35.0       91.75   \n",
       "4                    NaN                     NaN  ...     4.0       53.25   \n",
       "\n",
       "   payment_type                        company  pickup_latitude  \\\n",
       "0   Credit Card                       Sun Taxi              NaN   \n",
       "1   Credit Card                   City Service              NaN   \n",
       "2          Cash               Medallion Leasin              NaN   \n",
       "3          Cash                      Flash Cab              NaN   \n",
       "4   Credit Card  Taxicab Insurance Agency, LLC              NaN   \n",
       "\n",
       "  pickup_longitude pickup_location  dropoff_latitude  dropoff_longitude  \\\n",
       "0              NaN            None               NaN                NaN   \n",
       "1              NaN            None               NaN                NaN   \n",
       "2              NaN            None               NaN                NaN   \n",
       "3              NaN            None               NaN                NaN   \n",
       "4              NaN            None               NaN                NaN   \n",
       "\n",
       "  dropoff_location  \n",
       "0             None  \n",
       "1             None  \n",
       "2             None  \n",
       "3             None  \n",
       "4             None  \n",
       "\n",
       "[5 rows x 23 columns]"
      ]
     },
     "execution_count": 6,
     "metadata": {},
     "output_type": "execute_result"
    }
   ],
   "source": [
    "table_ref = dataset_ref.table('taxi_trips')\n",
    "table = client.get_table(table_ref)\n",
    "client.list_rows(table, max_results=5).to_dataframe()"
   ]
  },
  {
   "cell_type": "markdown",
   "id": "edecf9fe",
   "metadata": {
    "papermill": {
     "duration": 0.01095,
     "end_time": "2023-07-26T22:56:57.825922",
     "exception": false,
     "start_time": "2023-07-26T22:56:57.814972",
     "status": "completed"
    },
    "tags": []
   },
   "source": [
    "After deciding whether you see any important issues, run the code cell below."
   ]
  },
  {
   "cell_type": "code",
   "execution_count": 7,
   "id": "a92f1d12",
   "metadata": {
    "execution": {
     "iopub.execute_input": "2023-07-26T22:56:57.851335Z",
     "iopub.status.busy": "2023-07-26T22:56:57.850518Z",
     "iopub.status.idle": "2023-07-26T22:56:57.860387Z",
     "shell.execute_reply": "2023-07-26T22:56:57.859047Z"
    },
    "papermill": {
     "duration": 0.026446,
     "end_time": "2023-07-26T22:56:57.863606",
     "exception": false,
     "start_time": "2023-07-26T22:56:57.837160",
     "status": "completed"
    },
    "tags": []
   },
   "outputs": [
    {
     "data": {
      "application/javascript": [
       "parent.postMessage({\"jupyterEvent\": \"custom.exercise_interaction\", \"data\": {\"interactionType\": 3, \"questionType\": 4, \"questionId\": \"2_WhatsWrongWithData\", \"learnToolsVersion\": \"0.3.4\", \"valueTowardsCompletion\": 0.0, \"failureMessage\": \"\", \"exceptionClass\": \"\", \"trace\": \"\", \"outcomeType\": 4}}, \"*\")"
      ],
      "text/plain": [
       "<IPython.core.display.Javascript object>"
      ]
     },
     "metadata": {},
     "output_type": "display_data"
    },
    {
     "data": {
      "text/markdown": [
       "<span style=\"color:#33cc99\">Solution:</span> \n",
       "You can see the data by calling: \n",
       "```python\n",
       "# Construct a reference to the \"taxi_trips\" table\n",
       "table_ref = dataset_ref.table(\"taxi_trips\")\n",
       "\n",
       "# API request - fetch the table\n",
       "table = client.get_table(table_ref)\n",
       "\n",
       "# Preview the first five lines of the \"taxi_trips\" table\n",
       "client.list_rows(table, max_results=5).to_dataframe()\n",
       "```\n",
       "\n",
       "Some location fields have values of `None` or `NaN`. That is a problem if we want to use those fields.\n"
      ],
      "text/plain": [
       "Solution: \n",
       "You can see the data by calling: \n",
       "```python\n",
       "# Construct a reference to the \"taxi_trips\" table\n",
       "table_ref = dataset_ref.table(\"taxi_trips\")\n",
       "\n",
       "# API request - fetch the table\n",
       "table = client.get_table(table_ref)\n",
       "\n",
       "# Preview the first five lines of the \"taxi_trips\" table\n",
       "client.list_rows(table, max_results=5).to_dataframe()\n",
       "```\n",
       "\n",
       "Some location fields have values of `None` or `NaN`. That is a problem if we want to use those fields."
      ]
     },
     "metadata": {},
     "output_type": "display_data"
    }
   ],
   "source": [
    "# Check your answer (Run this code cell to receive credit!)\n",
    "q_2.solution()"
   ]
  },
  {
   "cell_type": "markdown",
   "id": "b034cda0",
   "metadata": {
    "papermill": {
     "duration": 0.01111,
     "end_time": "2023-07-26T22:56:57.886533",
     "exception": false,
     "start_time": "2023-07-26T22:56:57.875423",
     "status": "completed"
    },
    "tags": []
   },
   "source": [
    "### 3) Determine when this data is from\n",
    "\n",
    "If the data is sufficiently old, we might be careful before assuming the data is still relevant to traffic patterns today. Write a query that counts the number of trips in each year.  \n",
    "\n",
    "Your results should have two columns:\n",
    "- `year` - the year of the trips\n",
    "- `num_trips` - the number of trips in that year\n",
    "\n",
    "Hints:\n",
    "- When using **GROUP BY** and **ORDER BY**, you should refer to the columns by the alias `year` that you set at the top of the **SELECT** query.\n",
    "- The SQL code to **SELECT** the year from `trip_start_timestamp` is <code>SELECT EXTRACT(YEAR FROM trip_start_timestamp)</code>\n",
    "- The **FROM** field can be a little tricky until you are used to it.  The format is:\n",
    "    1. A backick (the symbol \\`).\n",
    "    2. The project name. In this case it is `bigquery-public-data`.\n",
    "    3. A period.\n",
    "    4. The dataset name. In this case, it is `chicago_taxi_trips`.\n",
    "    5. A period.\n",
    "    6. The table name. You used this as your answer in **1) Find the data**.\n",
    "    7. A backtick (the symbol \\`)."
   ]
  },
  {
   "cell_type": "code",
   "execution_count": 8,
   "id": "03982452",
   "metadata": {
    "execution": {
     "iopub.execute_input": "2023-07-26T22:56:57.911684Z",
     "iopub.status.busy": "2023-07-26T22:56:57.911214Z",
     "iopub.status.idle": "2023-07-26T22:56:59.156012Z",
     "shell.execute_reply": "2023-07-26T22:56:59.155201Z"
    },
    "papermill": {
     "duration": 1.260467,
     "end_time": "2023-07-26T22:56:59.158625",
     "exception": false,
     "start_time": "2023-07-26T22:56:57.898158",
     "status": "completed"
    },
    "tags": []
   },
   "outputs": [
    {
     "name": "stdout",
     "output_type": "stream",
     "text": [
      "    year  num_trips\n",
      "0   2013   27217300\n",
      "1   2014   37395079\n",
      "2   2015   32385527\n",
      "3   2016   31756403\n",
      "4   2017   24979611\n",
      "5   2018   20731105\n",
      "6   2019   16476440\n",
      "7   2020    3888831\n",
      "8   2021    3947677\n",
      "9   2022    6382071\n",
      "10  2023    3234974\n"
     ]
    },
    {
     "data": {
      "application/javascript": [
       "parent.postMessage({\"jupyterEvent\": \"custom.exercise_interaction\", \"data\": {\"outcomeType\": 1, \"valueTowardsCompletion\": 0.16666666666666666, \"interactionType\": 1, \"questionType\": 2, \"questionId\": \"3_YearDistrib\", \"learnToolsVersion\": \"0.3.4\", \"failureMessage\": \"\", \"exceptionClass\": \"\", \"trace\": \"\"}}, \"*\")"
      ],
      "text/plain": [
       "<IPython.core.display.Javascript object>"
      ]
     },
     "metadata": {},
     "output_type": "display_data"
    },
    {
     "data": {
      "text/markdown": [
       "<span style=\"color:#33cc33\">Correct</span>"
      ],
      "text/plain": [
       "Correct"
      ]
     },
     "metadata": {},
     "output_type": "display_data"
    }
   ],
   "source": [
    "# Your code goes here\n",
    "rides_per_year_query = \"\"\"\n",
    "        SELECT EXTRACT(YEAR FROM trip_start_timestamp) as year, COUNT (1) AS num_trips\n",
    "        FROM `bigquery-public-data.chicago_taxi_trips.taxi_trips`\n",
    "        GROUP BY year\n",
    "        ORDER BY year\n",
    "        \"\"\"\n",
    "\n",
    "# Set up the query (cancel the query if it would use too much of \n",
    "# your quota)\n",
    "safe_config = bigquery.QueryJobConfig(maximum_bytes_billed=10**10)\n",
    "rides_per_year_query_job = client.query(rides_per_year_query, job_config=safe_config)\n",
    "\n",
    "# API request - run the query, and return a pandas DataFrame\n",
    "rides_per_year_result = rides_per_year_query_job.to_dataframe()\n",
    "\n",
    "# View results\n",
    "print(rides_per_year_result)\n",
    "\n",
    "# Check your answer\n",
    "q_3.check()"
   ]
  },
  {
   "cell_type": "markdown",
   "id": "54b659f6",
   "metadata": {
    "papermill": {
     "duration": 0.011788,
     "end_time": "2023-07-26T22:56:59.182272",
     "exception": false,
     "start_time": "2023-07-26T22:56:59.170484",
     "status": "completed"
    },
    "tags": []
   },
   "source": [
    "For a hint or the solution, uncomment the appropriate line below."
   ]
  },
  {
   "cell_type": "code",
   "execution_count": 9,
   "id": "da6270bd",
   "metadata": {
    "execution": {
     "iopub.execute_input": "2023-07-26T22:56:59.208514Z",
     "iopub.status.busy": "2023-07-26T22:56:59.207703Z",
     "iopub.status.idle": "2023-07-26T22:56:59.211746Z",
     "shell.execute_reply": "2023-07-26T22:56:59.210943Z"
    },
    "papermill": {
     "duration": 0.019633,
     "end_time": "2023-07-26T22:56:59.213882",
     "exception": false,
     "start_time": "2023-07-26T22:56:59.194249",
     "status": "completed"
    },
    "tags": []
   },
   "outputs": [],
   "source": [
    "#q_3.hint()\n",
    "#q_3.solution()"
   ]
  },
  {
   "cell_type": "markdown",
   "id": "fc7320dc",
   "metadata": {
    "papermill": {
     "duration": 0.011608,
     "end_time": "2023-07-26T22:56:59.237766",
     "exception": false,
     "start_time": "2023-07-26T22:56:59.226158",
     "status": "completed"
    },
    "tags": []
   },
   "source": [
    "### 4) Dive slightly deeper\n",
    "\n",
    "You'd like to take a closer look at rides from 2016.  Copy the query you used above in `rides_per_year_query` into the cell below for `rides_per_month_query`.  Then modify it in two ways:\n",
    "1. Use a **WHERE** clause to limit the query to data from 2016.\n",
    "2. Modify the query to extract the month rather than the year."
   ]
  },
  {
   "cell_type": "code",
   "execution_count": 10,
   "id": "382ecfcd",
   "metadata": {
    "execution": {
     "iopub.execute_input": "2023-07-26T22:56:59.263783Z",
     "iopub.status.busy": "2023-07-26T22:56:59.263300Z",
     "iopub.status.idle": "2023-07-26T22:57:00.525307Z",
     "shell.execute_reply": "2023-07-26T22:57:00.524032Z"
    },
    "papermill": {
     "duration": 1.278162,
     "end_time": "2023-07-26T22:57:00.527811",
     "exception": false,
     "start_time": "2023-07-26T22:56:59.249649",
     "status": "completed"
    },
    "tags": []
   },
   "outputs": [
    {
     "name": "stdout",
     "output_type": "stream",
     "text": [
      "    month  num_trips\n",
      "0       1    2510389\n",
      "1       2    2568433\n",
      "2       3    2851106\n",
      "3       4    2854290\n",
      "4       5    2859147\n",
      "5       6    2841872\n",
      "6       7    2682912\n",
      "7       8    2629482\n",
      "8       9    2532650\n",
      "9      10    2725340\n",
      "10     11    2387790\n",
      "11     12    2312992\n"
     ]
    },
    {
     "data": {
      "application/javascript": [
       "parent.postMessage({\"jupyterEvent\": \"custom.exercise_interaction\", \"data\": {\"outcomeType\": 1, \"valueTowardsCompletion\": 0.16666666666666666, \"interactionType\": 1, \"questionType\": 2, \"questionId\": \"4_MonthDistrib\", \"learnToolsVersion\": \"0.3.4\", \"failureMessage\": \"\", \"exceptionClass\": \"\", \"trace\": \"\"}}, \"*\")"
      ],
      "text/plain": [
       "<IPython.core.display.Javascript object>"
      ]
     },
     "metadata": {},
     "output_type": "display_data"
    },
    {
     "data": {
      "text/markdown": [
       "<span style=\"color:#33cc33\">Correct</span>"
      ],
      "text/plain": [
       "Correct"
      ]
     },
     "metadata": {},
     "output_type": "display_data"
    }
   ],
   "source": [
    "# Your code goes here\n",
    "rides_per_month_query = \"\"\"\n",
    "            SELECT EXTRACT(MONTH FROM trip_start_timestamp) as month, COUNT (1) AS num_trips\n",
    "            FROM `bigquery-public-data.chicago_taxi_trips.taxi_trips`\n",
    "            WHERE EXTRACT (YEAR FROM trip_start_timestamp) = 2016\n",
    "            GROUP BY month\n",
    "            ORDER BY month\n",
    "            \"\"\" \n",
    "\n",
    "# Set up the query\n",
    "safe_config = bigquery.QueryJobConfig(maximum_bytes_billed=10**10)\n",
    "rides_per_month_query_job = client.query(rides_per_month_query, job_config=safe_config)\n",
    "\n",
    "\n",
    "# API request - run the query, and return a pandas DataFrame\n",
    "rides_per_month_result = rides_per_month_query_job.to_dataframe()\n",
    "\n",
    "# View results\n",
    "print(rides_per_month_result)\n",
    "\n",
    "# Check your answer\n",
    "q_4.check()"
   ]
  },
  {
   "cell_type": "markdown",
   "id": "d326bd30",
   "metadata": {
    "papermill": {
     "duration": 0.012437,
     "end_time": "2023-07-26T22:57:00.553318",
     "exception": false,
     "start_time": "2023-07-26T22:57:00.540881",
     "status": "completed"
    },
    "tags": []
   },
   "source": [
    "For a hint or the solution, uncomment the appropriate line below."
   ]
  },
  {
   "cell_type": "code",
   "execution_count": 11,
   "id": "030dc22c",
   "metadata": {
    "execution": {
     "iopub.execute_input": "2023-07-26T22:57:00.581252Z",
     "iopub.status.busy": "2023-07-26T22:57:00.580808Z",
     "iopub.status.idle": "2023-07-26T22:57:00.586119Z",
     "shell.execute_reply": "2023-07-26T22:57:00.585145Z"
    },
    "papermill": {
     "duration": 0.021942,
     "end_time": "2023-07-26T22:57:00.588347",
     "exception": false,
     "start_time": "2023-07-26T22:57:00.566405",
     "status": "completed"
    },
    "tags": []
   },
   "outputs": [],
   "source": [
    "#q_4.hint()\n",
    "# q_4.solution()"
   ]
  },
  {
   "cell_type": "markdown",
   "id": "3ca60941",
   "metadata": {
    "papermill": {
     "duration": 0.012582,
     "end_time": "2023-07-26T22:57:00.613436",
     "exception": false,
     "start_time": "2023-07-26T22:57:00.600854",
     "status": "completed"
    },
    "tags": []
   },
   "source": [
    "### 5) Write the query\n",
    "\n",
    "It's time to step up the sophistication of your queries.  Write a query that shows, for each hour of the day in the dataset, the corresponding number of trips and average speed.\n",
    "\n",
    "Your results should have three columns:\n",
    "- `hour_of_day` - sort by this column, which holds the result of extracting the hour from `trip_start_timestamp`.\n",
    "- `num_trips` - the count of the total number of trips in each hour of the day (e.g. how many trips were started between 6AM and 7AM, independent of which day it occurred on).\n",
    "- `avg_mph` - the average speed, measured in miles per hour, for trips that started in that hour of the day.  Average speed in miles per hour is calculated as `3600 * SUM(trip_miles) / SUM(trip_seconds)`. (The value 3600 is used to convert from seconds to hours.)\n",
    "\n",
    "Restrict your query to data meeting the following criteria:\n",
    "- a `trip_start_timestamp` > **2016-01-01** and < **2016-04-01**\n",
    "- `trip_seconds` > 0 and `trip_miles` > 0\n",
    "\n",
    "You will use a common table expression (CTE) to select just the relevant rides.  Because this dataset is very big, this CTE should select only the columns you'll need to create the final output (though you won't actually create those in the CTE -- instead you'll create those in the later **SELECT** statement below the CTE).\n",
    "\n",
    "This is a much harder query than anything you've written so far.  Good luck!"
   ]
  },
  {
   "cell_type": "code",
   "execution_count": 12,
   "id": "ed9db294",
   "metadata": {
    "execution": {
     "iopub.execute_input": "2023-07-26T22:57:00.640528Z",
     "iopub.status.busy": "2023-07-26T22:57:00.640063Z",
     "iopub.status.idle": "2023-07-26T22:57:01.002123Z",
     "shell.execute_reply": "2023-07-26T22:57:01.000811Z"
    },
    "papermill": {
     "duration": 0.379313,
     "end_time": "2023-07-26T22:57:01.005231",
     "exception": false,
     "start_time": "2023-07-26T22:57:00.625918",
     "status": "completed"
    },
    "tags": []
   },
   "outputs": [
    {
     "data": {
      "text/plain": [
       "['unique_key',\n",
       " 'taxi_id',\n",
       " 'trip_start_timestamp',\n",
       " 'trip_end_timestamp',\n",
       " 'trip_seconds',\n",
       " 'trip_miles',\n",
       " 'pickup_census_tract',\n",
       " 'dropoff_census_tract',\n",
       " 'pickup_community_area',\n",
       " 'dropoff_community_area',\n",
       " 'fare',\n",
       " 'tips',\n",
       " 'tolls',\n",
       " 'extras',\n",
       " 'trip_total',\n",
       " 'payment_type',\n",
       " 'company',\n",
       " 'pickup_latitude',\n",
       " 'pickup_longitude',\n",
       " 'pickup_location',\n",
       " 'dropoff_latitude',\n",
       " 'dropoff_longitude',\n",
       " 'dropoff_location']"
      ]
     },
     "execution_count": 12,
     "metadata": {},
     "output_type": "execute_result"
    }
   ],
   "source": [
    "df = client.list_rows(table, max_results=5).to_dataframe()\n",
    "df.columns.to_list()"
   ]
  },
  {
   "cell_type": "code",
   "execution_count": 13,
   "id": "5b76a1d0",
   "metadata": {
    "execution": {
     "iopub.execute_input": "2023-07-26T22:57:01.032911Z",
     "iopub.status.busy": "2023-07-26T22:57:01.032429Z",
     "iopub.status.idle": "2023-07-26T22:57:02.913263Z",
     "shell.execute_reply": "2023-07-26T22:57:02.912076Z"
    },
    "papermill": {
     "duration": 1.89765,
     "end_time": "2023-07-26T22:57:02.915719",
     "exception": false,
     "start_time": "2023-07-26T22:57:01.018069",
     "status": "completed"
    },
    "tags": []
   },
   "outputs": [
    {
     "name": "stdout",
     "output_type": "stream",
     "text": [
      "    hour_of_day  num_trips    avg_mph\n",
      "0             0     203092  20.191744\n",
      "1             1     178046  18.628598\n",
      "2             2     143447  18.444370\n",
      "3             3     108899  19.273107\n",
      "4             4      80067  27.599669\n",
      "5             5      75786  33.065604\n",
      "6             6     102254  28.533112\n",
      "7             7     187585  19.884592\n",
      "8             8     284223  16.787900\n",
      "9             9     306854  18.434124\n",
      "10           10     279762  20.091309\n",
      "11           11     294006  20.926340\n",
      "12           12     311522  20.063901\n",
      "13           13     317225  19.766321\n",
      "14           14     312629  19.309655\n",
      "15           15     319953  18.515564\n",
      "16           16     349455  17.168814\n",
      "17           17     394324  14.641375\n",
      "18           18     431991  15.381995\n",
      "19           19     416743  17.795008\n",
      "20           20     356279  20.347398\n",
      "21           21     318363  22.584731\n",
      "22           22     289886  21.129847\n",
      "23           23     241690  20.259757\n"
     ]
    },
    {
     "data": {
      "application/javascript": [
       "parent.postMessage({\"jupyterEvent\": \"custom.exercise_interaction\", \"data\": {\"outcomeType\": 1, \"valueTowardsCompletion\": 0.16666666666666666, \"interactionType\": 1, \"questionType\": 2, \"questionId\": \"5_TheLongQuery\", \"learnToolsVersion\": \"0.3.4\", \"failureMessage\": \"\", \"exceptionClass\": \"\", \"trace\": \"\"}}, \"*\")"
      ],
      "text/plain": [
       "<IPython.core.display.Javascript object>"
      ]
     },
     "metadata": {},
     "output_type": "display_data"
    },
    {
     "data": {
      "text/markdown": [
       "<span style=\"color:#33cc33\">Correct</span>"
      ],
      "text/plain": [
       "Correct"
      ]
     },
     "metadata": {},
     "output_type": "display_data"
    }
   ],
   "source": [
    "# Your code goes here\n",
    "speeds_query = \"\"\"\n",
    "               WITH RelevantRides AS\n",
    "               (\n",
    "                   SELECT *\n",
    "                   FROM `bigquery-public-data.chicago_taxi_trips.taxi_trips`\n",
    "                   WHERE trip_start_timestamp > '2016-01-01' AND \n",
    "                         trip_start_timestamp < '2016-04-01' AND\n",
    "                         trip_seconds > 0 AND \n",
    "                         trip_miles > 0\n",
    "               )\n",
    "               SELECT EXTRACT (HOUR FROM trip_start_timestamp) AS hour_of_day,\n",
    "                      COUNT (1) AS num_trips,\n",
    "                      3600 * SUM(trip_miles) / SUM(trip_seconds) AS avg_mph\n",
    "               FROM RelevantRides\n",
    "               GROUP BY hour_of_day\n",
    "               ORDER BY hour_of_day\n",
    "               \"\"\"\n",
    "\n",
    "\n",
    "# Set up the query\n",
    "safe_config = bigquery.QueryJobConfig(maximum_bytes_billed=10**10)\n",
    "speeds_query_job = client.query(speeds_query, job_config=safe_config)\n",
    "\n",
    "# API request - run the query, and return a pandas DataFrame\n",
    "speeds_result = speeds_query_job.to_dataframe()\n",
    "\n",
    "# View results\n",
    "print(speeds_result)\n",
    "\n",
    "# Check your answer\n",
    "q_5.check()"
   ]
  },
  {
   "cell_type": "markdown",
   "id": "0d3284d7",
   "metadata": {
    "papermill": {
     "duration": 0.012819,
     "end_time": "2023-07-26T22:57:02.941721",
     "exception": false,
     "start_time": "2023-07-26T22:57:02.928902",
     "status": "completed"
    },
    "tags": []
   },
   "source": [
    "For the solution, uncomment the appropriate line below."
   ]
  },
  {
   "cell_type": "code",
   "execution_count": 14,
   "id": "ee6b78f8",
   "metadata": {
    "execution": {
     "iopub.execute_input": "2023-07-26T22:57:02.970050Z",
     "iopub.status.busy": "2023-07-26T22:57:02.969593Z",
     "iopub.status.idle": "2023-07-26T22:57:02.974742Z",
     "shell.execute_reply": "2023-07-26T22:57:02.973336Z"
    },
    "papermill": {
     "duration": 0.02257,
     "end_time": "2023-07-26T22:57:02.977171",
     "exception": false,
     "start_time": "2023-07-26T22:57:02.954601",
     "status": "completed"
    },
    "tags": []
   },
   "outputs": [],
   "source": [
    "# q_5.solution()"
   ]
  },
  {
   "cell_type": "markdown",
   "id": "0d1b5a8d",
   "metadata": {
    "papermill": {
     "duration": 0.012471,
     "end_time": "2023-07-26T22:57:03.002521",
     "exception": false,
     "start_time": "2023-07-26T22:57:02.990050",
     "status": "completed"
    },
    "tags": []
   },
   "source": [
    "That's a hard query. If you made good progress towards the solution, congratulations!"
   ]
  },
  {
   "cell_type": "markdown",
   "id": "477f5992",
   "metadata": {
    "papermill": {
     "duration": 0.012572,
     "end_time": "2023-07-26T22:57:03.028254",
     "exception": false,
     "start_time": "2023-07-26T22:57:03.015682",
     "status": "completed"
    },
    "tags": []
   },
   "source": [
    "# Keep going\n",
    "\n",
    "You can write very complex queries now with a single data source. But nothing expands the horizons of SQL as much as the ability to combine or **JOIN** tables.\n",
    "\n",
    "**[Click here](https://www.kaggle.com/dansbecker/joining-data)** to start the last lesson in the Intro to SQL course."
   ]
  },
  {
   "cell_type": "markdown",
   "id": "1fb5f4f2",
   "metadata": {
    "papermill": {
     "duration": 0.012602,
     "end_time": "2023-07-26T22:57:03.053723",
     "exception": false,
     "start_time": "2023-07-26T22:57:03.041121",
     "status": "completed"
    },
    "tags": []
   },
   "source": [
    "---\n",
    "\n",
    "\n",
    "\n",
    "\n",
    "*Have questions or comments? Visit the [course discussion forum](https://www.kaggle.com/learn/intro-to-sql/discussion) to chat with other learners.*"
   ]
  }
 ],
 "metadata": {
  "kernelspec": {
   "display_name": "Python 3",
   "language": "python",
   "name": "python3"
  },
  "language_info": {
   "codemirror_mode": {
    "name": "ipython",
    "version": 3
   },
   "file_extension": ".py",
   "mimetype": "text/x-python",
   "name": "python",
   "nbconvert_exporter": "python",
   "pygments_lexer": "ipython3",
   "version": "3.10.12"
  },
  "papermill": {
   "default_parameters": {},
   "duration": 53.312851,
   "end_time": "2023-07-26T22:57:04.295070",
   "environment_variables": {},
   "exception": null,
   "input_path": "__notebook__.ipynb",
   "output_path": "__notebook__.ipynb",
   "parameters": {},
   "start_time": "2023-07-26T22:56:10.982219",
   "version": "2.4.0"
  }
 },
 "nbformat": 4,
 "nbformat_minor": 5
}
