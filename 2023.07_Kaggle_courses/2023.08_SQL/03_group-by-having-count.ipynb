{
 "cells": [
  {
   "cell_type": "markdown",
   "id": "85d1ff6f",
   "metadata": {
    "papermill": {
     "duration": 0.005199,
     "end_time": "2023-07-25T21:26:55.339240",
     "exception": false,
     "start_time": "2023-07-25T21:26:55.334041",
     "status": "completed"
    },
    "tags": []
   },
   "source": [
    "**This notebook is an exercise in the [SQL](https://www.kaggle.com/learn/intro-to-sql) course.  You can reference the tutorial at [this link](https://www.kaggle.com/dansbecker/group-by-having-count).**\n",
    "\n",
    "---\n"
   ]
  },
  {
   "cell_type": "markdown",
   "id": "cf587900",
   "metadata": {
    "papermill": {
     "duration": 0.004033,
     "end_time": "2023-07-25T21:26:55.348098",
     "exception": false,
     "start_time": "2023-07-25T21:26:55.344065",
     "status": "completed"
    },
    "tags": []
   },
   "source": [
    "# Introduction\n",
    "\n",
    "Queries with **GROUP BY** can be powerful. There are many small things that can trip you up (like the order of the clauses), but it will start to feel natural once you've done it a few times. Here, you'll write queries using **GROUP BY** to answer questions from the Hacker News dataset.\n",
    "\n",
    "Before you get started, run the following cell to set everything up:"
   ]
  },
  {
   "cell_type": "code",
   "execution_count": 1,
   "id": "9e238fae",
   "metadata": {
    "execution": {
     "iopub.execute_input": "2023-07-25T21:26:55.359216Z",
     "iopub.status.busy": "2023-07-25T21:26:55.358274Z",
     "iopub.status.idle": "2023-07-25T21:26:58.048727Z",
     "shell.execute_reply": "2023-07-25T21:26:58.047783Z"
    },
    "papermill": {
     "duration": 2.699419,
     "end_time": "2023-07-25T21:26:58.051922",
     "exception": false,
     "start_time": "2023-07-25T21:26:55.352503",
     "status": "completed"
    },
    "tags": []
   },
   "outputs": [
    {
     "name": "stdout",
     "output_type": "stream",
     "text": [
      "Using Kaggle's public dataset BigQuery integration.\n"
     ]
    }
   ],
   "source": [
    "# Set up feedback system\n",
    "from learntools.core import binder\n",
    "binder.bind(globals())\n",
    "with open(\"/opt/conda/lib/python3.10/site-packages/learntools/sql/ex3.py\",\"r\") as f :\n",
    "    ex3 = f.read()\n",
    "    ex3 = ex3.replace(\"SELECT author\",\"SELECT `by`\")\n",
    "    ex3 = ex3.replace(\"GROUP BY author\",\"GROUP BY `by`\")\n",
    "    ex3 = ex3.replace(\"\\'author\\'\",\"\\'by\\'\")\n",
    "    ex3 = ex3.replace(\"`author`\",\"\\`by\\`\")\n",
    "    ex3 = ex3.replace(\"bigquery-public-data.hacker_news.comments\",\"bigquery-public-data.hacker_news.full\")\n",
    "\n",
    "with open(\"/opt/conda/lib/python3.10/site-packages/learntools/sql/ex3_v2.py\",\"w\") as f2:\n",
    "    f2.write(ex3) \n",
    "from learntools.sql.ex3_v2 import *"
   ]
  },
  {
   "cell_type": "markdown",
   "id": "8ec6e63f",
   "metadata": {
    "papermill": {
     "duration": 0.005062,
     "end_time": "2023-07-25T21:26:58.062416",
     "exception": false,
     "start_time": "2023-07-25T21:26:58.057354",
     "status": "completed"
    },
    "tags": []
   },
   "source": [
    "The code cell below fetches the `comments` table from the `hacker_news` dataset.  We also preview the first five rows of the table."
   ]
  },
  {
   "cell_type": "code",
   "execution_count": 2,
   "id": "32205fba",
   "metadata": {
    "execution": {
     "iopub.execute_input": "2023-07-25T21:26:58.073915Z",
     "iopub.status.busy": "2023-07-25T21:26:58.073536Z",
     "iopub.status.idle": "2023-07-25T21:26:59.369801Z",
     "shell.execute_reply": "2023-07-25T21:26:59.368915Z"
    },
    "papermill": {
     "duration": 1.305966,
     "end_time": "2023-07-25T21:26:59.373287",
     "exception": false,
     "start_time": "2023-07-25T21:26:58.067321",
     "status": "completed"
    },
    "tags": []
   },
   "outputs": [
    {
     "name": "stdout",
     "output_type": "stream",
     "text": [
      "Using Kaggle's public dataset BigQuery integration.\n"
     ]
    },
    {
     "data": {
      "text/html": [
       "<div>\n",
       "<style scoped>\n",
       "    .dataframe tbody tr th:only-of-type {\n",
       "        vertical-align: middle;\n",
       "    }\n",
       "\n",
       "    .dataframe tbody tr th {\n",
       "        vertical-align: top;\n",
       "    }\n",
       "\n",
       "    .dataframe thead th {\n",
       "        text-align: right;\n",
       "    }\n",
       "</style>\n",
       "<table border=\"1\" class=\"dataframe\">\n",
       "  <thead>\n",
       "    <tr style=\"text-align: right;\">\n",
       "      <th></th>\n",
       "      <th>title</th>\n",
       "      <th>url</th>\n",
       "      <th>text</th>\n",
       "      <th>dead</th>\n",
       "      <th>by</th>\n",
       "      <th>score</th>\n",
       "      <th>time</th>\n",
       "      <th>timestamp</th>\n",
       "      <th>type</th>\n",
       "      <th>id</th>\n",
       "      <th>parent</th>\n",
       "      <th>descendants</th>\n",
       "      <th>ranking</th>\n",
       "      <th>deleted</th>\n",
       "    </tr>\n",
       "  </thead>\n",
       "  <tbody>\n",
       "    <tr>\n",
       "      <th>0</th>\n",
       "      <td>None</td>\n",
       "      <td>None</td>\n",
       "      <td>I would rather just have wired earbuds, period...</td>\n",
       "      <td>None</td>\n",
       "      <td>zeveb</td>\n",
       "      <td>NaN</td>\n",
       "      <td>1591717736</td>\n",
       "      <td>2020-06-09 15:48:56+00:00</td>\n",
       "      <td>comment</td>\n",
       "      <td>23467666</td>\n",
       "      <td>23456782</td>\n",
       "      <td>NaN</td>\n",
       "      <td>NaN</td>\n",
       "      <td>None</td>\n",
       "    </tr>\n",
       "    <tr>\n",
       "      <th>1</th>\n",
       "      <td>None</td>\n",
       "      <td>None</td>\n",
       "      <td>DNS?</td>\n",
       "      <td>None</td>\n",
       "      <td>nly</td>\n",
       "      <td>NaN</td>\n",
       "      <td>1572810465</td>\n",
       "      <td>2019-11-03 19:47:45+00:00</td>\n",
       "      <td>comment</td>\n",
       "      <td>21436112</td>\n",
       "      <td>21435130</td>\n",
       "      <td>NaN</td>\n",
       "      <td>NaN</td>\n",
       "      <td>None</td>\n",
       "    </tr>\n",
       "    <tr>\n",
       "      <th>2</th>\n",
       "      <td>None</td>\n",
       "      <td>None</td>\n",
       "      <td>These benchmarks seem pretty good.  Filterable...</td>\n",
       "      <td>None</td>\n",
       "      <td>mrkeen</td>\n",
       "      <td>NaN</td>\n",
       "      <td>1591717727</td>\n",
       "      <td>2020-06-09 15:48:47+00:00</td>\n",
       "      <td>comment</td>\n",
       "      <td>23467665</td>\n",
       "      <td>23467426</td>\n",
       "      <td>NaN</td>\n",
       "      <td>NaN</td>\n",
       "      <td>None</td>\n",
       "    </tr>\n",
       "  </tbody>\n",
       "</table>\n",
       "</div>"
      ],
      "text/plain": [
       "  title   url                                               text  dead  \\\n",
       "0  None  None  I would rather just have wired earbuds, period...  None   \n",
       "1  None  None                                               DNS?  None   \n",
       "2  None  None  These benchmarks seem pretty good.  Filterable...  None   \n",
       "\n",
       "       by  score        time                 timestamp     type        id  \\\n",
       "0   zeveb    NaN  1591717736 2020-06-09 15:48:56+00:00  comment  23467666   \n",
       "1     nly    NaN  1572810465 2019-11-03 19:47:45+00:00  comment  21436112   \n",
       "2  mrkeen    NaN  1591717727 2020-06-09 15:48:47+00:00  comment  23467665   \n",
       "\n",
       "     parent  descendants  ranking deleted  \n",
       "0  23456782          NaN      NaN    None  \n",
       "1  21435130          NaN      NaN    None  \n",
       "2  23467426          NaN      NaN    None  "
      ]
     },
     "execution_count": 2,
     "metadata": {},
     "output_type": "execute_result"
    }
   ],
   "source": [
    "from google.cloud import bigquery\n",
    "\n",
    "# Create a \"Client\" object\n",
    "client = bigquery.Client()\n",
    "\n",
    "# Construct a reference to the \"hacker_news\" dataset\n",
    "dataset_ref = client.dataset(\"hacker_news\", project=\"bigquery-public-data\")\n",
    "\n",
    "# API request - fetch the dataset\n",
    "dataset = client.get_dataset(dataset_ref)\n",
    "\n",
    "# Construct a reference to the \"comments\" table\n",
    "table_ref = dataset_ref.table(\"full\")\n",
    "\n",
    "# API request - fetch the table\n",
    "table = client.get_table(table_ref)\n",
    "\n",
    "# Preview the first five lines of the \"comments\" table\n",
    "client.list_rows(table, max_results=3).to_dataframe()"
   ]
  },
  {
   "cell_type": "markdown",
   "id": "f143ec26",
   "metadata": {
    "papermill": {
     "duration": 0.005292,
     "end_time": "2023-07-25T21:26:59.384568",
     "exception": false,
     "start_time": "2023-07-25T21:26:59.379276",
     "status": "completed"
    },
    "tags": []
   },
   "source": [
    "# Exercises\n",
    "\n",
    "### 1) Prolific commenters\n",
    "\n",
    "Hacker News would like to send awards to everyone who has written more than 10,000 posts. Write a query that returns all authors with more than 10,000 posts as well as their post counts. Call the column with post counts `NumPosts`.\n",
    "\n",
    "In case sample query is helpful, here is a query you saw in the tutorial to answer a similar question:\n",
    "```\n",
    "query = \"\"\"\n",
    "        SELECT parent, COUNT(1) AS NumPosts\n",
    "        FROM `bigquery-public-data.hacker_news.comments`\n",
    "        GROUP BY parent\n",
    "        HAVING COUNT(1) > 10\n",
    "        \"\"\"\n",
    "```"
   ]
  },
  {
   "cell_type": "code",
   "execution_count": 3,
   "id": "5ec0bbcc",
   "metadata": {
    "execution": {
     "iopub.execute_input": "2023-07-25T21:26:59.397566Z",
     "iopub.status.busy": "2023-07-25T21:26:59.397145Z",
     "iopub.status.idle": "2023-07-25T21:27:00.561822Z",
     "shell.execute_reply": "2023-07-25T21:27:00.560760Z"
    },
    "papermill": {
     "duration": 1.174145,
     "end_time": "2023-07-25T21:27:00.564258",
     "exception": false,
     "start_time": "2023-07-25T21:26:59.390113",
     "status": "completed"
    },
    "tags": []
   },
   "outputs": [
    {
     "name": "stdout",
     "output_type": "stream",
     "text": [
      "            by  NumPosts\n",
      "0       ncmncm     13621\n",
      "1        pjc50     21417\n",
      "2  dredmorbius     26568\n",
      "3       nradov     13138\n",
      "4      amelius     20985\n"
     ]
    },
    {
     "data": {
      "application/javascript": [
       "parent.postMessage({\"jupyterEvent\": \"custom.exercise_interaction\", \"data\": {\"outcomeType\": 1, \"valueTowardsCompletion\": 0.5, \"interactionType\": 1, \"questionType\": 2, \"questionId\": \"1_ProlificCommenters\", \"learnToolsVersion\": \"0.3.4\", \"failureMessage\": \"\", \"exceptionClass\": \"\", \"trace\": \"\"}}, \"*\")"
      ],
      "text/plain": [
       "<IPython.core.display.Javascript object>"
      ]
     },
     "metadata": {},
     "output_type": "display_data"
    },
    {
     "data": {
      "text/markdown": [
       "<span style=\"color:#33cc33\">Correct</span>"
      ],
      "text/plain": [
       "Correct"
      ]
     },
     "metadata": {},
     "output_type": "display_data"
    }
   ],
   "source": [
    "# Query to select prolific commenters and post counts\n",
    "prolific_commenters_query = \"\"\"\n",
    "                    SELECT `by`, COUNT(1) AS NumPosts \n",
    "                    FROM `bigquery-public-data.hacker_news.full` \n",
    "                    GROUP BY `by` \n",
    "                    HAVING COUNT(1) > 10000\n",
    "                    \"\"\"\n",
    "\n",
    "# Set up the query (cancel the query if it would use too much of \n",
    "# your quota, with the limit set to 1 GB)\n",
    "safe_config = bigquery.QueryJobConfig(maximum_bytes_billed=10**10)\n",
    "query_job = client.query(prolific_commenters_query, job_config=safe_config)\n",
    "\n",
    "# API request - run the query, and return a pandas DataFrame\n",
    "prolific_commenters = query_job.to_dataframe()\n",
    "\n",
    "# View top few rows of results\n",
    "print(prolific_commenters.head())\n",
    "\n",
    "# Check your answer\n",
    "q_1.check()"
   ]
  },
  {
   "cell_type": "markdown",
   "id": "2a6465d9",
   "metadata": {
    "papermill": {
     "duration": 0.006565,
     "end_time": "2023-07-25T21:27:00.576985",
     "exception": false,
     "start_time": "2023-07-25T21:27:00.570420",
     "status": "completed"
    },
    "tags": []
   },
   "source": [
    "For the solution, uncomment the line below."
   ]
  },
  {
   "cell_type": "code",
   "execution_count": 4,
   "id": "5a2429ab",
   "metadata": {
    "execution": {
     "iopub.execute_input": "2023-07-25T21:27:00.591582Z",
     "iopub.status.busy": "2023-07-25T21:27:00.590740Z",
     "iopub.status.idle": "2023-07-25T21:27:00.595656Z",
     "shell.execute_reply": "2023-07-25T21:27:00.594857Z"
    },
    "papermill": {
     "duration": 0.015031,
     "end_time": "2023-07-25T21:27:00.598074",
     "exception": false,
     "start_time": "2023-07-25T21:27:00.583043",
     "status": "completed"
    },
    "tags": []
   },
   "outputs": [],
   "source": [
    "# q_1.solution()"
   ]
  },
  {
   "cell_type": "markdown",
   "id": "419eae31",
   "metadata": {
    "papermill": {
     "duration": 0.005792,
     "end_time": "2023-07-25T21:27:00.609977",
     "exception": false,
     "start_time": "2023-07-25T21:27:00.604185",
     "status": "completed"
    },
    "tags": []
   },
   "source": [
    "### 2) Deleted comments\n",
    "\n",
    "How many comments have been deleted? (If a comment was deleted, the `deleted` column in the comments table will have the value `True`.)"
   ]
  },
  {
   "cell_type": "code",
   "execution_count": 5,
   "id": "d060fdd3",
   "metadata": {
    "execution": {
     "iopub.execute_input": "2023-07-25T21:27:00.626035Z",
     "iopub.status.busy": "2023-07-25T21:27:00.625117Z",
     "iopub.status.idle": "2023-07-25T21:27:01.806479Z",
     "shell.execute_reply": "2023-07-25T21:27:01.805306Z"
    },
    "papermill": {
     "duration": 1.19275,
     "end_time": "2023-07-25T21:27:01.808827",
     "exception": false,
     "start_time": "2023-07-25T21:27:00.616077",
     "status": "completed"
    },
    "tags": []
   },
   "outputs": [
    {
     "data": {
      "text/html": [
       "<div>\n",
       "<style scoped>\n",
       "    .dataframe tbody tr th:only-of-type {\n",
       "        vertical-align: middle;\n",
       "    }\n",
       "\n",
       "    .dataframe tbody tr th {\n",
       "        vertical-align: top;\n",
       "    }\n",
       "\n",
       "    .dataframe thead th {\n",
       "        text-align: right;\n",
       "    }\n",
       "</style>\n",
       "<table border=\"1\" class=\"dataframe\">\n",
       "  <thead>\n",
       "    <tr style=\"text-align: right;\">\n",
       "      <th></th>\n",
       "      <th>NumDels</th>\n",
       "    </tr>\n",
       "  </thead>\n",
       "  <tbody>\n",
       "    <tr>\n",
       "      <th>0</th>\n",
       "      <td>968172</td>\n",
       "    </tr>\n",
       "  </tbody>\n",
       "</table>\n",
       "</div>"
      ],
      "text/plain": [
       "   NumDels\n",
       "0   968172"
      ]
     },
     "execution_count": 5,
     "metadata": {},
     "output_type": "execute_result"
    }
   ],
   "source": [
    "query = \"\"\"\n",
    "        SELECT COUNT(1) AS NumDels \n",
    "        FROM `bigquery-public-data.hacker_news.full` \n",
    "        WHERE deleted = True\n",
    "        \"\"\"\n",
    "safe_config = bigquery.QueryJobConfig(maximum_bytes_billed=10**10)\n",
    "query_job = client.query(query, job_config=safe_config)\n",
    "NumDels = query_job.to_dataframe()\n",
    "NumDels.head()"
   ]
  },
  {
   "cell_type": "code",
   "execution_count": 6,
   "id": "d20189df",
   "metadata": {
    "execution": {
     "iopub.execute_input": "2023-07-25T21:27:01.823498Z",
     "iopub.status.busy": "2023-07-25T21:27:01.822739Z",
     "iopub.status.idle": "2023-07-25T21:27:01.832039Z",
     "shell.execute_reply": "2023-07-25T21:27:01.831070Z"
    },
    "papermill": {
     "duration": 0.019038,
     "end_time": "2023-07-25T21:27:01.834213",
     "exception": false,
     "start_time": "2023-07-25T21:27:01.815175",
     "status": "completed"
    },
    "tags": []
   },
   "outputs": [
    {
     "data": {
      "application/javascript": [
       "parent.postMessage({\"jupyterEvent\": \"custom.exercise_interaction\", \"data\": {\"outcomeType\": 1, \"valueTowardsCompletion\": 0.5, \"interactionType\": 1, \"questionType\": 1, \"questionId\": \"2_NumDeletedPosts\", \"learnToolsVersion\": \"0.3.4\", \"failureMessage\": \"\", \"exceptionClass\": \"\", \"trace\": \"\"}}, \"*\")"
      ],
      "text/plain": [
       "<IPython.core.display.Javascript object>"
      ]
     },
     "metadata": {},
     "output_type": "display_data"
    },
    {
     "data": {
      "text/markdown": [
       "<span style=\"color:#33cc33\">Correct</span>"
      ],
      "text/plain": [
       "Correct"
      ]
     },
     "metadata": {},
     "output_type": "display_data"
    }
   ],
   "source": [
    "num_deleted_posts = 968172\n",
    "\n",
    "# Check your answer\n",
    "q_2.check()"
   ]
  },
  {
   "cell_type": "markdown",
   "id": "2607683c",
   "metadata": {
    "papermill": {
     "duration": 0.006311,
     "end_time": "2023-07-25T21:27:01.846989",
     "exception": false,
     "start_time": "2023-07-25T21:27:01.840678",
     "status": "completed"
    },
    "tags": []
   },
   "source": [
    "For the solution, uncomment the line below."
   ]
  },
  {
   "cell_type": "code",
   "execution_count": 7,
   "id": "ac62a93e",
   "metadata": {
    "execution": {
     "iopub.execute_input": "2023-07-25T21:27:01.862027Z",
     "iopub.status.busy": "2023-07-25T21:27:01.861201Z",
     "iopub.status.idle": "2023-07-25T21:27:01.865575Z",
     "shell.execute_reply": "2023-07-25T21:27:01.864728Z"
    },
    "papermill": {
     "duration": 0.014085,
     "end_time": "2023-07-25T21:27:01.867515",
     "exception": false,
     "start_time": "2023-07-25T21:27:01.853430",
     "status": "completed"
    },
    "tags": []
   },
   "outputs": [],
   "source": [
    "# q_2.solution()"
   ]
  },
  {
   "cell_type": "markdown",
   "id": "1ad9a977",
   "metadata": {
    "papermill": {
     "duration": 0.00635,
     "end_time": "2023-07-25T21:27:01.880372",
     "exception": false,
     "start_time": "2023-07-25T21:27:01.874022",
     "status": "completed"
    },
    "tags": []
   },
   "source": [
    "# Keep Going\n",
    "**[Click here](https://www.kaggle.com/dansbecker/order-by)** to move on and learn about the **ORDER BY** clause."
   ]
  },
  {
   "cell_type": "markdown",
   "id": "cb9e182e",
   "metadata": {
    "papermill": {
     "duration": 0.006128,
     "end_time": "2023-07-25T21:27:01.892942",
     "exception": false,
     "start_time": "2023-07-25T21:27:01.886814",
     "status": "completed"
    },
    "tags": []
   },
   "source": [
    "---\n",
    "\n",
    "\n",
    "\n",
    "\n",
    "*Have questions or comments? Visit the [course discussion forum](https://www.kaggle.com/learn/intro-to-sql/discussion) to chat with other learners.*"
   ]
  }
 ],
 "metadata": {
  "kernelspec": {
   "display_name": "Python 3",
   "language": "python",
   "name": "python3"
  },
  "language_info": {
   "codemirror_mode": {
    "name": "ipython",
    "version": 3
   },
   "file_extension": ".py",
   "mimetype": "text/x-python",
   "name": "python",
   "nbconvert_exporter": "python",
   "pygments_lexer": "ipython3",
   "version": "3.10.12"
  },
  "papermill": {
   "default_parameters": {},
   "duration": 17.703517,
   "end_time": "2023-07-25T21:27:02.722061",
   "environment_variables": {},
   "exception": null,
   "input_path": "__notebook__.ipynb",
   "output_path": "__notebook__.ipynb",
   "parameters": {},
   "start_time": "2023-07-25T21:26:45.018544",
   "version": "2.4.0"
  }
 },
 "nbformat": 4,
 "nbformat_minor": 5
}
