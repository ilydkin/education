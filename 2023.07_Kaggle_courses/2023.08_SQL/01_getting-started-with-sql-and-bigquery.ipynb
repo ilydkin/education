{
 "cells": [
  {
   "cell_type": "markdown",
   "id": "fcf5be6b",
   "metadata": {
    "papermill": {
     "duration": 0.006786,
     "end_time": "2023-07-24T19:47:37.708367",
     "exception": false,
     "start_time": "2023-07-24T19:47:37.701581",
     "status": "completed"
    },
    "tags": []
   },
   "source": [
    "**This notebook is an exercise in the [SQL](https://www.kaggle.com/learn/intro-to-sql) course.  You can reference the tutorial at [this link](https://www.kaggle.com/dansbecker/getting-started-with-sql-and-bigquery).**\n",
    "\n",
    "---\n"
   ]
  },
  {
   "cell_type": "markdown",
   "id": "24236e2c",
   "metadata": {
    "papermill": {
     "duration": 0.005795,
     "end_time": "2023-07-24T19:47:37.719401",
     "exception": false,
     "start_time": "2023-07-24T19:47:37.713606",
     "status": "completed"
    },
    "tags": []
   },
   "source": [
    "# Introduction\n",
    "\n",
    "The first test of your new data exploration skills uses data describing crime in the city of Chicago.\n",
    "\n",
    "Before you get started, run the following cell. It sets up the automated feedback system to review your answers."
   ]
  },
  {
   "cell_type": "code",
   "execution_count": 1,
   "id": "0c9233e2",
   "metadata": {
    "execution": {
     "iopub.execute_input": "2023-07-24T19:47:37.736112Z",
     "iopub.status.busy": "2023-07-24T19:47:37.735671Z",
     "iopub.status.idle": "2023-07-24T19:47:39.159799Z",
     "shell.execute_reply": "2023-07-24T19:47:39.158571Z"
    },
    "papermill": {
     "duration": 1.434934,
     "end_time": "2023-07-24T19:47:39.162370",
     "exception": false,
     "start_time": "2023-07-24T19:47:37.727436",
     "status": "completed"
    },
    "tags": []
   },
   "outputs": [
    {
     "name": "stdout",
     "output_type": "stream",
     "text": [
      "Using Kaggle's public dataset BigQuery integration.\n",
      "Setup Complete\n"
     ]
    }
   ],
   "source": [
    "# Set up feedack system\n",
    "from learntools.core import binder\n",
    "binder.bind(globals())\n",
    "from learntools.sql.ex1 import *\n",
    "print(\"Setup Complete\")"
   ]
  },
  {
   "cell_type": "markdown",
   "id": "2c308c10",
   "metadata": {
    "papermill": {
     "duration": 0.004928,
     "end_time": "2023-07-24T19:47:39.172581",
     "exception": false,
     "start_time": "2023-07-24T19:47:39.167653",
     "status": "completed"
    },
    "tags": []
   },
   "source": [
    "Use the next code cell to fetch the dataset."
   ]
  },
  {
   "cell_type": "code",
   "execution_count": 2,
   "id": "64573f4f",
   "metadata": {
    "execution": {
     "iopub.execute_input": "2023-07-24T19:47:39.184989Z",
     "iopub.status.busy": "2023-07-24T19:47:39.183939Z",
     "iopub.status.idle": "2023-07-24T19:47:39.631800Z",
     "shell.execute_reply": "2023-07-24T19:47:39.630434Z"
    },
    "papermill": {
     "duration": 0.457297,
     "end_time": "2023-07-24T19:47:39.634914",
     "exception": false,
     "start_time": "2023-07-24T19:47:39.177617",
     "status": "completed"
    },
    "tags": []
   },
   "outputs": [
    {
     "name": "stdout",
     "output_type": "stream",
     "text": [
      "Using Kaggle's public dataset BigQuery integration.\n"
     ]
    }
   ],
   "source": [
    "from google.cloud import bigquery\n",
    "\n",
    "# Create a \"Client\" object\n",
    "client = bigquery.Client()\n",
    "\n",
    "# Construct a reference to the \"chicago_crime\" dataset\n",
    "dataset_ref = client.dataset(\"chicago_crime\", project=\"bigquery-public-data\")\n",
    "\n",
    "# API request - fetch the dataset\n",
    "dataset = client.get_dataset(dataset_ref)"
   ]
  },
  {
   "cell_type": "markdown",
   "id": "59202709",
   "metadata": {
    "papermill": {
     "duration": 0.00525,
     "end_time": "2023-07-24T19:47:39.645922",
     "exception": false,
     "start_time": "2023-07-24T19:47:39.640672",
     "status": "completed"
    },
    "tags": []
   },
   "source": [
    "# Exercises\n",
    "\n",
    "### 1) Count tables in the dataset\n",
    "\n",
    "How many tables are in the Chicago Crime dataset?"
   ]
  },
  {
   "cell_type": "code",
   "execution_count": 3,
   "id": "95228b4e",
   "metadata": {
    "execution": {
     "iopub.execute_input": "2023-07-24T19:47:39.659873Z",
     "iopub.status.busy": "2023-07-24T19:47:39.658965Z",
     "iopub.status.idle": "2023-07-24T19:47:40.043047Z",
     "shell.execute_reply": "2023-07-24T19:47:40.041439Z"
    },
    "papermill": {
     "duration": 0.394566,
     "end_time": "2023-07-24T19:47:40.045951",
     "exception": false,
     "start_time": "2023-07-24T19:47:39.651385",
     "status": "completed"
    },
    "tags": []
   },
   "outputs": [
    {
     "name": "stdout",
     "output_type": "stream",
     "text": [
      "crime\n"
     ]
    }
   ],
   "source": [
    "tables = list(client.list_tables(dataset))\n",
    "for table in tables:  \n",
    "    print(table.table_id)"
   ]
  },
  {
   "cell_type": "code",
   "execution_count": 4,
   "id": "eca42a41",
   "metadata": {
    "execution": {
     "iopub.execute_input": "2023-07-24T19:47:40.060558Z",
     "iopub.status.busy": "2023-07-24T19:47:40.060090Z",
     "iopub.status.idle": "2023-07-24T19:47:40.071121Z",
     "shell.execute_reply": "2023-07-24T19:47:40.070002Z"
    },
    "papermill": {
     "duration": 0.021342,
     "end_time": "2023-07-24T19:47:40.073652",
     "exception": false,
     "start_time": "2023-07-24T19:47:40.052310",
     "status": "completed"
    },
    "tags": []
   },
   "outputs": [
    {
     "data": {
      "application/javascript": [
       "parent.postMessage({\"jupyterEvent\": \"custom.exercise_interaction\", \"data\": {\"outcomeType\": 1, \"valueTowardsCompletion\": 0.3333333333333333, \"interactionType\": 1, \"questionType\": 1, \"questionId\": \"1_CountTables\", \"learnToolsVersion\": \"0.3.4\", \"failureMessage\": \"\", \"exceptionClass\": \"\", \"trace\": \"\"}}, \"*\")"
      ],
      "text/plain": [
       "<IPython.core.display.Javascript object>"
      ]
     },
     "metadata": {},
     "output_type": "display_data"
    },
    {
     "data": {
      "text/markdown": [
       "<span style=\"color:#33cc33\">Correct</span>"
      ],
      "text/plain": [
       "Correct"
      ]
     },
     "metadata": {},
     "output_type": "display_data"
    }
   ],
   "source": [
    "num_tables = 1\n",
    "\n",
    "# Check your answer\n",
    "q_1.check()"
   ]
  },
  {
   "cell_type": "markdown",
   "id": "f4e8a5fe",
   "metadata": {
    "papermill": {
     "duration": 0.005577,
     "end_time": "2023-07-24T19:47:40.088254",
     "exception": false,
     "start_time": "2023-07-24T19:47:40.082677",
     "status": "completed"
    },
    "tags": []
   },
   "source": [
    "For a hint or the solution, uncomment the appropriate line below."
   ]
  },
  {
   "cell_type": "code",
   "execution_count": 5,
   "id": "25c96230",
   "metadata": {
    "execution": {
     "iopub.execute_input": "2023-07-24T19:47:40.103056Z",
     "iopub.status.busy": "2023-07-24T19:47:40.102535Z",
     "iopub.status.idle": "2023-07-24T19:47:40.107864Z",
     "shell.execute_reply": "2023-07-24T19:47:40.106550Z"
    },
    "papermill": {
     "duration": 0.01603,
     "end_time": "2023-07-24T19:47:40.110591",
     "exception": false,
     "start_time": "2023-07-24T19:47:40.094561",
     "status": "completed"
    },
    "tags": []
   },
   "outputs": [],
   "source": [
    "#q_1.hint()\n",
    "#q_1.solution()"
   ]
  },
  {
   "cell_type": "markdown",
   "id": "d54ff40a",
   "metadata": {
    "papermill": {
     "duration": 0.005499,
     "end_time": "2023-07-24T19:47:40.122100",
     "exception": false,
     "start_time": "2023-07-24T19:47:40.116601",
     "status": "completed"
    },
    "tags": []
   },
   "source": [
    "### 2) Explore the table schema\n",
    "\n",
    "How many columns in the `crime` table have `TIMESTAMP` data?"
   ]
  },
  {
   "cell_type": "code",
   "execution_count": 6,
   "id": "72c6fe1f",
   "metadata": {
    "execution": {
     "iopub.execute_input": "2023-07-24T19:47:40.136122Z",
     "iopub.status.busy": "2023-07-24T19:47:40.135606Z",
     "iopub.status.idle": "2023-07-24T19:47:41.102117Z",
     "shell.execute_reply": "2023-07-24T19:47:41.100942Z"
    },
    "papermill": {
     "duration": 0.976859,
     "end_time": "2023-07-24T19:47:41.104839",
     "exception": false,
     "start_time": "2023-07-24T19:47:40.127980",
     "status": "completed"
    },
    "tags": []
   },
   "outputs": [
    {
     "name": "stdout",
     "output_type": "stream",
     "text": [
      "<class 'pandas.core.frame.DataFrame'>\n",
      "RangeIndex: 5 entries, 0 to 4\n",
      "Data columns (total 22 columns):\n",
      " #   Column                Non-Null Count  Dtype              \n",
      "---  ------                --------------  -----              \n",
      " 0   unique_key            5 non-null      int64              \n",
      " 1   case_number           5 non-null      object             \n",
      " 2   date                  5 non-null      datetime64[ns, UTC]\n",
      " 3   block                 5 non-null      object             \n",
      " 4   iucr                  5 non-null      object             \n",
      " 5   primary_type          5 non-null      object             \n",
      " 6   description           5 non-null      object             \n",
      " 7   location_description  5 non-null      object             \n",
      " 8   arrest                5 non-null      bool               \n",
      " 9   domestic              5 non-null      bool               \n",
      " 10  beat                  5 non-null      int64              \n",
      " 11  district              5 non-null      int64              \n",
      " 12  ward                  4 non-null      float64            \n",
      " 13  community_area        4 non-null      float64            \n",
      " 14  fbi_code              5 non-null      object             \n",
      " 15  x_coordinate          5 non-null      float64            \n",
      " 16  y_coordinate          5 non-null      float64            \n",
      " 17  year                  5 non-null      int64              \n",
      " 18  updated_on            5 non-null      datetime64[ns, UTC]\n",
      " 19  latitude              5 non-null      float64            \n",
      " 20  longitude             5 non-null      float64            \n",
      " 21  location              5 non-null      object             \n",
      "dtypes: bool(2), datetime64[ns, UTC](2), float64(6), int64(4), object(8)\n",
      "memory usage: 938.0+ bytes\n"
     ]
    }
   ],
   "source": [
    "import pandas as pd\n",
    "table_ref = dataset_ref.table(\"crime\")\n",
    "table = client.get_table(table_ref)\n",
    "df = client.list_rows(table, max_results=5).to_dataframe()\n",
    "df.info()"
   ]
  },
  {
   "cell_type": "code",
   "execution_count": 7,
   "id": "e2aa4abe",
   "metadata": {
    "execution": {
     "iopub.execute_input": "2023-07-24T19:47:41.120769Z",
     "iopub.status.busy": "2023-07-24T19:47:41.119581Z",
     "iopub.status.idle": "2023-07-24T19:47:41.129236Z",
     "shell.execute_reply": "2023-07-24T19:47:41.127988Z"
    },
    "papermill": {
     "duration": 0.020788,
     "end_time": "2023-07-24T19:47:41.131609",
     "exception": false,
     "start_time": "2023-07-24T19:47:41.110821",
     "status": "completed"
    },
    "tags": []
   },
   "outputs": [
    {
     "data": {
      "application/javascript": [
       "parent.postMessage({\"jupyterEvent\": \"custom.exercise_interaction\", \"data\": {\"outcomeType\": 1, \"valueTowardsCompletion\": 0.3333333333333333, \"interactionType\": 1, \"questionType\": 1, \"questionId\": \"2_CountTimestampFields\", \"learnToolsVersion\": \"0.3.4\", \"failureMessage\": \"\", \"exceptionClass\": \"\", \"trace\": \"\"}}, \"*\")"
      ],
      "text/plain": [
       "<IPython.core.display.Javascript object>"
      ]
     },
     "metadata": {},
     "output_type": "display_data"
    },
    {
     "data": {
      "text/markdown": [
       "<span style=\"color:#33cc33\">Correct</span>"
      ],
      "text/plain": [
       "Correct"
      ]
     },
     "metadata": {},
     "output_type": "display_data"
    }
   ],
   "source": [
    "num_timestamp_fields = 2\n",
    "\n",
    "# Check your answer\n",
    "q_2.check()"
   ]
  },
  {
   "cell_type": "markdown",
   "id": "e8dbdca9",
   "metadata": {
    "papermill": {
     "duration": 0.006003,
     "end_time": "2023-07-24T19:47:41.144054",
     "exception": false,
     "start_time": "2023-07-24T19:47:41.138051",
     "status": "completed"
    },
    "tags": []
   },
   "source": [
    "For a hint or the solution, uncomment the appropriate line below."
   ]
  },
  {
   "cell_type": "code",
   "execution_count": 8,
   "id": "788e89af",
   "metadata": {
    "execution": {
     "iopub.execute_input": "2023-07-24T19:47:41.158819Z",
     "iopub.status.busy": "2023-07-24T19:47:41.157951Z",
     "iopub.status.idle": "2023-07-24T19:47:41.162214Z",
     "shell.execute_reply": "2023-07-24T19:47:41.161296Z"
    },
    "papermill": {
     "duration": 0.01416,
     "end_time": "2023-07-24T19:47:41.164356",
     "exception": false,
     "start_time": "2023-07-24T19:47:41.150196",
     "status": "completed"
    },
    "tags": []
   },
   "outputs": [],
   "source": [
    "#q_2.hint()\n",
    "#q_2.solution()"
   ]
  },
  {
   "cell_type": "markdown",
   "id": "32f2240b",
   "metadata": {
    "papermill": {
     "duration": 0.005882,
     "end_time": "2023-07-24T19:47:41.176575",
     "exception": false,
     "start_time": "2023-07-24T19:47:41.170693",
     "status": "completed"
    },
    "tags": []
   },
   "source": [
    "### 3) Create a crime map\n",
    "\n",
    "If you wanted to create a map with a dot at the location of each crime, what are the names of the two fields you likely need to pull out of the `crime` table to plot the crimes on a map?"
   ]
  },
  {
   "cell_type": "code",
   "execution_count": 9,
   "id": "99530e51",
   "metadata": {
    "execution": {
     "iopub.execute_input": "2023-07-24T19:47:41.192263Z",
     "iopub.status.busy": "2023-07-24T19:47:41.191409Z",
     "iopub.status.idle": "2023-07-24T19:47:41.196681Z",
     "shell.execute_reply": "2023-07-24T19:47:41.195537Z"
    },
    "papermill": {
     "duration": 0.016398,
     "end_time": "2023-07-24T19:47:41.199307",
     "exception": false,
     "start_time": "2023-07-24T19:47:41.182909",
     "status": "completed"
    },
    "tags": []
   },
   "outputs": [],
   "source": [
    "# Write the code here to explore the data so you can find the answer"
   ]
  },
  {
   "cell_type": "code",
   "execution_count": 10,
   "id": "ef65cce1",
   "metadata": {
    "execution": {
     "iopub.execute_input": "2023-07-24T19:47:41.214037Z",
     "iopub.status.busy": "2023-07-24T19:47:41.213552Z",
     "iopub.status.idle": "2023-07-24T19:47:41.224413Z",
     "shell.execute_reply": "2023-07-24T19:47:41.223354Z"
    },
    "papermill": {
     "duration": 0.020845,
     "end_time": "2023-07-24T19:47:41.226597",
     "exception": false,
     "start_time": "2023-07-24T19:47:41.205752",
     "status": "completed"
    },
    "tags": []
   },
   "outputs": [
    {
     "name": "stdout",
     "output_type": "stream",
     "text": [
      "`'latitude'` and `'longitude'` would be better and more standard than `'x_coordinate'` and `'y_coordinate'`, but this might work.\n"
     ]
    },
    {
     "data": {
      "application/javascript": [
       "parent.postMessage({\"jupyterEvent\": \"custom.exercise_interaction\", \"data\": {\"outcomeType\": 1, \"valueTowardsCompletion\": 0.3333333333333333, \"interactionType\": 1, \"questionType\": 2, \"questionId\": \"3_IdentifyFieldsForPlotting\", \"learnToolsVersion\": \"0.3.4\", \"failureMessage\": \"\", \"exceptionClass\": \"\", \"trace\": \"\"}}, \"*\")"
      ],
      "text/plain": [
       "<IPython.core.display.Javascript object>"
      ]
     },
     "metadata": {},
     "output_type": "display_data"
    },
    {
     "data": {
      "text/markdown": [
       "<span style=\"color:#33cc33\">Correct</span>"
      ],
      "text/plain": [
       "Correct"
      ]
     },
     "metadata": {},
     "output_type": "display_data"
    }
   ],
   "source": [
    "fields_for_plotting = ['x_coordinate', 'y_coordinate'] # Put your answers here\n",
    "\n",
    "# Check your answer\n",
    "q_3.check()"
   ]
  },
  {
   "cell_type": "markdown",
   "id": "c7922118",
   "metadata": {
    "papermill": {
     "duration": 0.006694,
     "end_time": "2023-07-24T19:47:41.239964",
     "exception": false,
     "start_time": "2023-07-24T19:47:41.233270",
     "status": "completed"
    },
    "tags": []
   },
   "source": [
    "For a hint or the solution, uncomment the appropriate line below."
   ]
  },
  {
   "cell_type": "code",
   "execution_count": 11,
   "id": "856d9a7b",
   "metadata": {
    "execution": {
     "iopub.execute_input": "2023-07-24T19:47:41.256400Z",
     "iopub.status.busy": "2023-07-24T19:47:41.255154Z",
     "iopub.status.idle": "2023-07-24T19:47:41.260557Z",
     "shell.execute_reply": "2023-07-24T19:47:41.259338Z"
    },
    "papermill": {
     "duration": 0.016141,
     "end_time": "2023-07-24T19:47:41.263171",
     "exception": false,
     "start_time": "2023-07-24T19:47:41.247030",
     "status": "completed"
    },
    "tags": []
   },
   "outputs": [],
   "source": [
    "#q_3.hint()\n",
    "#q_3.solution()"
   ]
  },
  {
   "cell_type": "markdown",
   "id": "f298c1bf",
   "metadata": {
    "papermill": {
     "duration": 0.006608,
     "end_time": "2023-07-24T19:47:41.277331",
     "exception": false,
     "start_time": "2023-07-24T19:47:41.270723",
     "status": "completed"
    },
    "tags": []
   },
   "source": [
    "Thinking about the question above, there are a few columns that appear to have geographic data. Look at a few values (with the `list_rows()` command) to see if you can determine their relationship.  Two columns will still be hard to interpret. But it should be obvious how the `location` column relates to `latitude` and `longitude`."
   ]
  },
  {
   "cell_type": "code",
   "execution_count": 12,
   "id": "131a75f6",
   "metadata": {
    "execution": {
     "iopub.execute_input": "2023-07-24T19:47:41.292698Z",
     "iopub.status.busy": "2023-07-24T19:47:41.292256Z",
     "iopub.status.idle": "2023-07-24T19:47:41.804374Z",
     "shell.execute_reply": "2023-07-24T19:47:41.803253Z"
    },
    "papermill": {
     "duration": 0.523643,
     "end_time": "2023-07-24T19:47:41.807632",
     "exception": false,
     "start_time": "2023-07-24T19:47:41.283989",
     "status": "completed"
    },
    "tags": []
   },
   "outputs": [
    {
     "data": {
      "text/html": [
       "<div>\n",
       "<style scoped>\n",
       "    .dataframe tbody tr th:only-of-type {\n",
       "        vertical-align: middle;\n",
       "    }\n",
       "\n",
       "    .dataframe tbody tr th {\n",
       "        vertical-align: top;\n",
       "    }\n",
       "\n",
       "    .dataframe thead th {\n",
       "        text-align: right;\n",
       "    }\n",
       "</style>\n",
       "<table border=\"1\" class=\"dataframe\">\n",
       "  <thead>\n",
       "    <tr style=\"text-align: right;\">\n",
       "      <th></th>\n",
       "      <th>x_coordinate</th>\n",
       "      <th>y_coordinate</th>\n",
       "      <th>year</th>\n",
       "      <th>updated_on</th>\n",
       "      <th>latitude</th>\n",
       "      <th>longitude</th>\n",
       "      <th>location</th>\n",
       "    </tr>\n",
       "  </thead>\n",
       "  <tbody>\n",
       "    <tr>\n",
       "      <th>0</th>\n",
       "      <td>1178553.0</td>\n",
       "      <td>1834036.0</td>\n",
       "      <td>2013</td>\n",
       "      <td>2018-02-10 03:50:01+00:00</td>\n",
       "      <td>41.699895</td>\n",
       "      <td>-87.621827</td>\n",
       "      <td>(41.699894956, -87.621827397)</td>\n",
       "    </tr>\n",
       "    <tr>\n",
       "      <th>1</th>\n",
       "      <td>1178841.0</td>\n",
       "      <td>1834965.0</td>\n",
       "      <td>2003</td>\n",
       "      <td>2018-02-28 03:56:25+00:00</td>\n",
       "      <td>41.702438</td>\n",
       "      <td>-87.620745</td>\n",
       "      <td>(41.702437727, -87.620744722)</td>\n",
       "    </tr>\n",
       "    <tr>\n",
       "      <th>2</th>\n",
       "      <td>1178889.0</td>\n",
       "      <td>1835859.0</td>\n",
       "      <td>2008</td>\n",
       "      <td>2018-02-28 03:56:25+00:00</td>\n",
       "      <td>41.704890</td>\n",
       "      <td>-87.620542</td>\n",
       "      <td>(41.704889896, -87.620541865)</td>\n",
       "    </tr>\n",
       "    <tr>\n",
       "      <th>3</th>\n",
       "      <td>1178069.0</td>\n",
       "      <td>1835297.0</td>\n",
       "      <td>2001</td>\n",
       "      <td>2015-08-17 03:03:40+00:00</td>\n",
       "      <td>41.703366</td>\n",
       "      <td>-87.623562</td>\n",
       "      <td>(41.703366275, -87.623561543)</td>\n",
       "    </tr>\n",
       "    <tr>\n",
       "      <th>4</th>\n",
       "      <td>1182342.0</td>\n",
       "      <td>1834525.0</td>\n",
       "      <td>2007</td>\n",
       "      <td>2018-02-28 03:56:25+00:00</td>\n",
       "      <td>41.701150</td>\n",
       "      <td>-87.607939</td>\n",
       "      <td>(41.701150101, -87.607938676)</td>\n",
       "    </tr>\n",
       "  </tbody>\n",
       "</table>\n",
       "</div>"
      ],
      "text/plain": [
       "   x_coordinate  y_coordinate  year                updated_on   latitude  \\\n",
       "0     1178553.0     1834036.0  2013 2018-02-10 03:50:01+00:00  41.699895   \n",
       "1     1178841.0     1834965.0  2003 2018-02-28 03:56:25+00:00  41.702438   \n",
       "2     1178889.0     1835859.0  2008 2018-02-28 03:56:25+00:00  41.704890   \n",
       "3     1178069.0     1835297.0  2001 2015-08-17 03:03:40+00:00  41.703366   \n",
       "4     1182342.0     1834525.0  2007 2018-02-28 03:56:25+00:00  41.701150   \n",
       "\n",
       "   longitude                       location  \n",
       "0 -87.621827  (41.699894956, -87.621827397)  \n",
       "1 -87.620745  (41.702437727, -87.620744722)  \n",
       "2 -87.620542  (41.704889896, -87.620541865)  \n",
       "3 -87.623562  (41.703366275, -87.623561543)  \n",
       "4 -87.607939  (41.701150101, -87.607938676)  "
      ]
     },
     "execution_count": 12,
     "metadata": {},
     "output_type": "execute_result"
    }
   ],
   "source": [
    "client.list_rows(table, selected_fields=table.schema[15:], max_results=5).to_dataframe()"
   ]
  },
  {
   "cell_type": "markdown",
   "id": "ca5d2806",
   "metadata": {
    "papermill": {
     "duration": 0.007099,
     "end_time": "2023-07-24T19:47:41.822397",
     "exception": false,
     "start_time": "2023-07-24T19:47:41.815298",
     "status": "completed"
    },
    "tags": []
   },
   "source": [
    "# Keep going\n",
    "\n",
    "You've looked at the schema, but you haven't yet done anything exciting with the data itself. Things get more interesting when you get to the data, so keep going to **[write your first SQL query](https://www.kaggle.com/dansbecker/select-from-where).**"
   ]
  },
  {
   "cell_type": "markdown",
   "id": "3d39be46",
   "metadata": {
    "papermill": {
     "duration": 0.006835,
     "end_time": "2023-07-24T19:47:41.836302",
     "exception": false,
     "start_time": "2023-07-24T19:47:41.829467",
     "status": "completed"
    },
    "tags": []
   },
   "source": [
    "---\n",
    "\n",
    "\n",
    "\n",
    "\n",
    "*Have questions or comments? Visit the [course discussion forum](https://www.kaggle.com/learn/intro-to-sql/discussion) to chat with other learners.*"
   ]
  }
 ],
 "metadata": {
  "kernelspec": {
   "display_name": "Python 3",
   "language": "python",
   "name": "python3"
  },
  "language_info": {
   "codemirror_mode": {
    "name": "ipython",
    "version": 3
   },
   "file_extension": ".py",
   "mimetype": "text/x-python",
   "name": "python",
   "nbconvert_exporter": "python",
   "pygments_lexer": "ipython3",
   "version": "3.10.12"
  },
  "papermill": {
   "default_parameters": {},
   "duration": 15.561712,
   "end_time": "2023-07-24T19:47:42.968000",
   "environment_variables": {},
   "exception": null,
   "input_path": "__notebook__.ipynb",
   "output_path": "__notebook__.ipynb",
   "parameters": {},
   "start_time": "2023-07-24T19:47:27.406288",
   "version": "2.4.0"
  }
 },
 "nbformat": 4,
 "nbformat_minor": 5
}
