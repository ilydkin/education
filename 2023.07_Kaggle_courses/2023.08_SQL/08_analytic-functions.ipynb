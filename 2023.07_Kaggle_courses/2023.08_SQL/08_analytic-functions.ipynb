{
 "cells": [
  {
   "cell_type": "markdown",
   "id": "7c81ea90",
   "metadata": {
    "papermill": {
     "duration": 0.003933,
     "end_time": "2023-07-29T15:32:52.814506",
     "exception": false,
     "start_time": "2023-07-29T15:32:52.810573",
     "status": "completed"
    },
    "tags": []
   },
   "source": [
    "**This notebook is an exercise in the [Advanced SQL](https://www.kaggle.com/learn/advanced-sql) course.  You can reference the tutorial at [this link](https://www.kaggle.com/alexisbcook/analytic-functions).**\n",
    "\n",
    "---\n"
   ]
  },
  {
   "cell_type": "markdown",
   "id": "2e053714",
   "metadata": {
    "papermill": {
     "duration": 0.003031,
     "end_time": "2023-07-29T15:32:52.820961",
     "exception": false,
     "start_time": "2023-07-29T15:32:52.817930",
     "status": "completed"
    },
    "tags": []
   },
   "source": [
    "# Introduction\n",
    "\n",
    "Here, you'll use window functions to answer questions about the [Chicago Taxi Trips](https://www.kaggle.com/chicago/chicago-taxi-trips-bq) dataset.\n",
    "\n",
    "Before you get started, run the code cell below to set everything up."
   ]
  },
  {
   "cell_type": "code",
   "execution_count": 1,
   "id": "272b2a34",
   "metadata": {
    "execution": {
     "iopub.execute_input": "2023-07-29T15:32:52.829528Z",
     "iopub.status.busy": "2023-07-29T15:32:52.828951Z",
     "iopub.status.idle": "2023-07-29T15:33:26.824938Z",
     "shell.execute_reply": "2023-07-29T15:33:26.823791Z"
    },
    "papermill": {
     "duration": 34.007826,
     "end_time": "2023-07-29T15:33:26.831918",
     "exception": false,
     "start_time": "2023-07-29T15:32:52.824092",
     "status": "completed"
    },
    "tags": []
   },
   "outputs": [
    {
     "name": "stdout",
     "output_type": "stream",
     "text": [
      "Collecting git+https://github.com/Kaggle/learntools.git\r\n",
      "  Cloning https://github.com/Kaggle/learntools.git to /tmp/pip-req-build-43izkyek\r\n",
      "  Running command git clone --filter=blob:none --quiet https://github.com/Kaggle/learntools.git /tmp/pip-req-build-43izkyek\r\n",
      "  Resolved https://github.com/Kaggle/learntools.git to commit 93cf102cac95c2d8d7fb96ccc00ab5acc2c4bf05\r\n",
      "  Preparing metadata (setup.py) ... \u001b[?25l-\b \b\\\b \bdone\r\n",
      "\u001b[?25hBuilding wheels for collected packages: learntools\r\n",
      "  Building wheel for learntools (setup.py) ... \u001b[?25l-\b \b\\\b \b|\b \bdone\r\n",
      "\u001b[?25h  Created wheel for learntools: filename=learntools-0.3.4-py3-none-any.whl size=268981 sha256=6b05fc2410fbd8a94305cb8854f1740fa4d6bca92c3bbb7c4222fde639d68f95\r\n",
      "  Stored in directory: /tmp/pip-ephem-wheel-cache-tc395zr9/wheels/2f/6c/3c/aa9f50cfb5a862157cb4c7a5b34881828cf45404698255dced\r\n",
      "Successfully built learntools\r\n",
      "Installing collected packages: learntools\r\n",
      "Successfully installed learntools-0.3.4\r\n",
      "Using Kaggle's public dataset BigQuery integration.\n",
      "Setup Complete\n"
     ]
    }
   ],
   "source": [
    "# Get most recent checking code\n",
    "!pip install -U -t /kaggle/working/ git+https://github.com/Kaggle/learntools.git\n",
    "# Set up feedback system\n",
    "from learntools.core import binder\n",
    "binder.bind(globals())\n",
    "from learntools.sql_advanced.ex2 import *\n",
    "print(\"Setup Complete\")"
   ]
  },
  {
   "cell_type": "markdown",
   "id": "e2372e64",
   "metadata": {
    "papermill": {
     "duration": 0.003706,
     "end_time": "2023-07-29T15:33:26.839934",
     "exception": false,
     "start_time": "2023-07-29T15:33:26.836228",
     "status": "completed"
    },
    "tags": []
   },
   "source": [
    "The following code cell fetches the `taxi_trips` table from the `chicago_taxi_trips` dataset. We also preview the first five rows of the table.  You'll use the table to answer the questions below."
   ]
  },
  {
   "cell_type": "code",
   "execution_count": 2,
   "id": "1ad8a36d",
   "metadata": {
    "execution": {
     "iopub.execute_input": "2023-07-29T15:33:26.849351Z",
     "iopub.status.busy": "2023-07-29T15:33:26.849008Z",
     "iopub.status.idle": "2023-07-29T15:33:28.148959Z",
     "shell.execute_reply": "2023-07-29T15:33:28.147677Z"
    },
    "papermill": {
     "duration": 1.307238,
     "end_time": "2023-07-29T15:33:28.151002",
     "exception": false,
     "start_time": "2023-07-29T15:33:26.843764",
     "status": "completed"
    },
    "tags": []
   },
   "outputs": [
    {
     "name": "stdout",
     "output_type": "stream",
     "text": [
      "Using Kaggle's public dataset BigQuery integration.\n"
     ]
    },
    {
     "data": {
      "text/html": [
       "<div>\n",
       "<style scoped>\n",
       "    .dataframe tbody tr th:only-of-type {\n",
       "        vertical-align: middle;\n",
       "    }\n",
       "\n",
       "    .dataframe tbody tr th {\n",
       "        vertical-align: top;\n",
       "    }\n",
       "\n",
       "    .dataframe thead th {\n",
       "        text-align: right;\n",
       "    }\n",
       "</style>\n",
       "<table border=\"1\" class=\"dataframe\">\n",
       "  <thead>\n",
       "    <tr style=\"text-align: right;\">\n",
       "      <th></th>\n",
       "      <th>unique_key</th>\n",
       "      <th>taxi_id</th>\n",
       "      <th>trip_start_timestamp</th>\n",
       "      <th>trip_end_timestamp</th>\n",
       "      <th>trip_seconds</th>\n",
       "      <th>trip_miles</th>\n",
       "      <th>pickup_census_tract</th>\n",
       "      <th>dropoff_census_tract</th>\n",
       "      <th>pickup_community_area</th>\n",
       "      <th>dropoff_community_area</th>\n",
       "      <th>...</th>\n",
       "      <th>extras</th>\n",
       "      <th>trip_total</th>\n",
       "      <th>payment_type</th>\n",
       "      <th>company</th>\n",
       "      <th>pickup_latitude</th>\n",
       "      <th>pickup_longitude</th>\n",
       "      <th>pickup_location</th>\n",
       "      <th>dropoff_latitude</th>\n",
       "      <th>dropoff_longitude</th>\n",
       "      <th>dropoff_location</th>\n",
       "    </tr>\n",
       "  </thead>\n",
       "  <tbody>\n",
       "    <tr>\n",
       "      <th>0</th>\n",
       "      <td>a54ef0250d9645d9589c77d92d2f9fb425c8acff</td>\n",
       "      <td>a63ecb1af39b43b49c041529edf9352a363e8732107cae...</td>\n",
       "      <td>2023-03-10 13:30:00+00:00</td>\n",
       "      <td>2023-03-10 13:45:00+00:00</td>\n",
       "      <td>1302</td>\n",
       "      <td>14.76</td>\n",
       "      <td>NaN</td>\n",
       "      <td>NaN</td>\n",
       "      <td>NaN</td>\n",
       "      <td>NaN</td>\n",
       "      <td>...</td>\n",
       "      <td>6.0</td>\n",
       "      <td>72.75</td>\n",
       "      <td>Credit Card</td>\n",
       "      <td>Sun Taxi</td>\n",
       "      <td>NaN</td>\n",
       "      <td>NaN</td>\n",
       "      <td>None</td>\n",
       "      <td>NaN</td>\n",
       "      <td>NaN</td>\n",
       "      <td>None</td>\n",
       "    </tr>\n",
       "    <tr>\n",
       "      <th>1</th>\n",
       "      <td>a52a5ca0a52586e498e0286c6a0036918ccf3020</td>\n",
       "      <td>0b12c0f0c81641a43904bbce23657b88b23abf83aaaed6...</td>\n",
       "      <td>2023-03-18 07:15:00+00:00</td>\n",
       "      <td>2023-03-18 07:45:00+00:00</td>\n",
       "      <td>1332</td>\n",
       "      <td>16.81</td>\n",
       "      <td>NaN</td>\n",
       "      <td>NaN</td>\n",
       "      <td>NaN</td>\n",
       "      <td>NaN</td>\n",
       "      <td>...</td>\n",
       "      <td>36.5</td>\n",
       "      <td>98.44</td>\n",
       "      <td>Credit Card</td>\n",
       "      <td>City Service</td>\n",
       "      <td>NaN</td>\n",
       "      <td>NaN</td>\n",
       "      <td>None</td>\n",
       "      <td>NaN</td>\n",
       "      <td>NaN</td>\n",
       "      <td>None</td>\n",
       "    </tr>\n",
       "    <tr>\n",
       "      <th>2</th>\n",
       "      <td>a91742cc8fcb7d9778940bc64fd58fdd188b11fe</td>\n",
       "      <td>481a0e82921b8500cddb5694f01b742768e1731519ebb2...</td>\n",
       "      <td>2023-03-28 16:00:00+00:00</td>\n",
       "      <td>2023-03-28 16:30:00+00:00</td>\n",
       "      <td>1715</td>\n",
       "      <td>16.53</td>\n",
       "      <td>NaN</td>\n",
       "      <td>NaN</td>\n",
       "      <td>NaN</td>\n",
       "      <td>NaN</td>\n",
       "      <td>...</td>\n",
       "      <td>25.5</td>\n",
       "      <td>67.75</td>\n",
       "      <td>Cash</td>\n",
       "      <td>Medallion Leasin</td>\n",
       "      <td>NaN</td>\n",
       "      <td>NaN</td>\n",
       "      <td>None</td>\n",
       "      <td>NaN</td>\n",
       "      <td>NaN</td>\n",
       "      <td>None</td>\n",
       "    </tr>\n",
       "  </tbody>\n",
       "</table>\n",
       "<p>3 rows × 23 columns</p>\n",
       "</div>"
      ],
      "text/plain": [
       "                                 unique_key  \\\n",
       "0  a54ef0250d9645d9589c77d92d2f9fb425c8acff   \n",
       "1  a52a5ca0a52586e498e0286c6a0036918ccf3020   \n",
       "2  a91742cc8fcb7d9778940bc64fd58fdd188b11fe   \n",
       "\n",
       "                                             taxi_id  \\\n",
       "0  a63ecb1af39b43b49c041529edf9352a363e8732107cae...   \n",
       "1  0b12c0f0c81641a43904bbce23657b88b23abf83aaaed6...   \n",
       "2  481a0e82921b8500cddb5694f01b742768e1731519ebb2...   \n",
       "\n",
       "       trip_start_timestamp        trip_end_timestamp  trip_seconds  \\\n",
       "0 2023-03-10 13:30:00+00:00 2023-03-10 13:45:00+00:00          1302   \n",
       "1 2023-03-18 07:15:00+00:00 2023-03-18 07:45:00+00:00          1332   \n",
       "2 2023-03-28 16:00:00+00:00 2023-03-28 16:30:00+00:00          1715   \n",
       "\n",
       "   trip_miles  pickup_census_tract  dropoff_census_tract  \\\n",
       "0       14.76                  NaN                   NaN   \n",
       "1       16.81                  NaN                   NaN   \n",
       "2       16.53                  NaN                   NaN   \n",
       "\n",
       "   pickup_community_area  dropoff_community_area  ...  extras  trip_total  \\\n",
       "0                    NaN                     NaN  ...     6.0       72.75   \n",
       "1                    NaN                     NaN  ...    36.5       98.44   \n",
       "2                    NaN                     NaN  ...    25.5       67.75   \n",
       "\n",
       "   payment_type           company  pickup_latitude pickup_longitude  \\\n",
       "0   Credit Card          Sun Taxi              NaN              NaN   \n",
       "1   Credit Card      City Service              NaN              NaN   \n",
       "2          Cash  Medallion Leasin              NaN              NaN   \n",
       "\n",
       "  pickup_location  dropoff_latitude  dropoff_longitude dropoff_location  \n",
       "0            None               NaN                NaN             None  \n",
       "1            None               NaN                NaN             None  \n",
       "2            None               NaN                NaN             None  \n",
       "\n",
       "[3 rows x 23 columns]"
      ]
     },
     "execution_count": 2,
     "metadata": {},
     "output_type": "execute_result"
    }
   ],
   "source": [
    "from google.cloud import bigquery\n",
    "\n",
    "# Create a \"Client\" object\n",
    "client = bigquery.Client()\n",
    "\n",
    "# Construct a reference to the \"chicago_taxi_trips\" dataset\n",
    "dataset_ref = client.dataset(\"chicago_taxi_trips\", project=\"bigquery-public-data\")\n",
    "\n",
    "# API request - fetch the dataset\n",
    "dataset = client.get_dataset(dataset_ref)\n",
    "\n",
    "# Construct a reference to the \"taxi_trips\" table\n",
    "table_ref = dataset_ref.table(\"taxi_trips\")\n",
    "\n",
    "# API request - fetch the table\n",
    "table = client.get_table(table_ref)\n",
    "\n",
    "# Preview the first five lines of the table\n",
    "client.list_rows(table, max_results=3).to_dataframe()"
   ]
  },
  {
   "cell_type": "markdown",
   "id": "b8cee8f2",
   "metadata": {
    "papermill": {
     "duration": 0.004011,
     "end_time": "2023-07-29T15:33:28.159654",
     "exception": false,
     "start_time": "2023-07-29T15:33:28.155643",
     "status": "completed"
    },
    "tags": []
   },
   "source": [
    "# Exercises\n",
    "\n",
    "### 1) How can you predict the demand for taxis?\n",
    "\n",
    "Say you work for a taxi company, and you're interested in predicting the demand for taxis.  Towards this goal, you'd like to create a plot that shows a rolling average of the daily number of taxi trips.  Amend the (partial) query below to return a DataFrame with two columns:\n",
    "- `trip_date` - contains one entry for each date from January 1, 2016, to March 31, 2016.\n",
    "- `avg_num_trips` - shows the average number of daily trips, calculated over a window including the value for the current date, along with the values for the preceding 3 days and the following 3 days, as long as the days fit within the three-month time frame.  For instance, when calculating the value in this column for January 3, 2016, the window will include the number of trips for the preceding 2 days, the current date, and the following 3 days.\n",
    "\n",
    "This query is partially completed for you, and you need only write the part that calculates the `avg_num_trips` column.  Note that this query uses a common table expression (CTE); if you need to review how to use CTEs, you're encouraged to check out [this tutorial](https://www.kaggle.com/dansbecker/as-with) in the [Intro to SQL](https://www.kaggle.com/learn/intro-to-sql) course."
   ]
  },
  {
   "cell_type": "code",
   "execution_count": 3,
   "id": "bba06bea",
   "metadata": {
    "execution": {
     "iopub.execute_input": "2023-07-29T15:33:28.170251Z",
     "iopub.status.busy": "2023-07-29T15:33:28.169923Z",
     "iopub.status.idle": "2023-07-29T15:33:29.489918Z",
     "shell.execute_reply": "2023-07-29T15:33:29.488994Z"
    },
    "papermill": {
     "duration": 1.327098,
     "end_time": "2023-07-29T15:33:29.491726",
     "exception": false,
     "start_time": "2023-07-29T15:33:28.164628",
     "status": "completed"
    },
    "tags": []
   },
   "outputs": [
    {
     "data": {
      "text/html": [
       "<div>\n",
       "<style scoped>\n",
       "    .dataframe tbody tr th:only-of-type {\n",
       "        vertical-align: middle;\n",
       "    }\n",
       "\n",
       "    .dataframe tbody tr th {\n",
       "        vertical-align: top;\n",
       "    }\n",
       "\n",
       "    .dataframe thead th {\n",
       "        text-align: right;\n",
       "    }\n",
       "</style>\n",
       "<table border=\"1\" class=\"dataframe\">\n",
       "  <thead>\n",
       "    <tr style=\"text-align: right;\">\n",
       "      <th></th>\n",
       "      <th>trip_date</th>\n",
       "      <th>avg_num_trips</th>\n",
       "    </tr>\n",
       "  </thead>\n",
       "  <tbody>\n",
       "    <tr>\n",
       "      <th>0</th>\n",
       "      <td>2016-02-07</td>\n",
       "      <td>83741.857143</td>\n",
       "    </tr>\n",
       "    <tr>\n",
       "      <th>1</th>\n",
       "      <td>2016-02-05</td>\n",
       "      <td>81493.142857</td>\n",
       "    </tr>\n",
       "    <tr>\n",
       "      <th>2</th>\n",
       "      <td>2016-01-07</td>\n",
       "      <td>75520.428571</td>\n",
       "    </tr>\n",
       "    <tr>\n",
       "      <th>3</th>\n",
       "      <td>2016-03-30</td>\n",
       "      <td>74274.400000</td>\n",
       "    </tr>\n",
       "    <tr>\n",
       "      <th>4</th>\n",
       "      <td>2016-02-19</td>\n",
       "      <td>89726.428571</td>\n",
       "    </tr>\n",
       "  </tbody>\n",
       "</table>\n",
       "</div>"
      ],
      "text/plain": [
       "    trip_date  avg_num_trips\n",
       "0  2016-02-07   83741.857143\n",
       "1  2016-02-05   81493.142857\n",
       "2  2016-01-07   75520.428571\n",
       "3  2016-03-30   74274.400000\n",
       "4  2016-02-19   89726.428571"
      ]
     },
     "metadata": {},
     "output_type": "display_data"
    },
    {
     "data": {
      "application/javascript": [
       "parent.postMessage({\"jupyterEvent\": \"custom.exercise_interaction\", \"data\": {\"outcomeType\": 1, \"valueTowardsCompletion\": 0.3333333333333333, \"interactionType\": 1, \"questionType\": 2, \"questionId\": \"1_TaxiDemand\", \"learnToolsVersion\": \"0.3.4\", \"failureMessage\": \"\", \"exceptionClass\": \"\", \"trace\": \"\"}}, \"*\")"
      ],
      "text/plain": [
       "<IPython.core.display.Javascript object>"
      ]
     },
     "metadata": {},
     "output_type": "display_data"
    },
    {
     "data": {
      "text/markdown": [
       "<span style=\"color:#33cc33\">Correct</span>"
      ],
      "text/plain": [
       "Correct"
      ]
     },
     "metadata": {},
     "output_type": "display_data"
    }
   ],
   "source": [
    "# Fill in the blank below\n",
    "avg_num_trips_query = \"\"\"\n",
    "                      WITH trips_by_day AS\n",
    "                          (\n",
    "                          SELECT DATE(trip_start_timestamp) AS trip_date,\n",
    "                              COUNT(*) as num_trips\n",
    "                          FROM `bigquery-public-data.chicago_taxi_trips.taxi_trips`\n",
    "                          WHERE trip_start_timestamp > '2016-01-01' AND \n",
    "                                trip_start_timestamp < '2016-04-01'\n",
    "                          GROUP BY trip_date\n",
    "                          ORDER BY trip_date\n",
    "                          )\n",
    "                      SELECT trip_date,\n",
    "                          AVG(num_trips)\n",
    "                              OVER (\n",
    "                                   ORDER BY trip_date\n",
    "                                   ROWS BETWEEN 3 PRECEDING AND 3 FOLLOWING\n",
    "                                   ) AS avg_num_trips\n",
    "                      FROM trips_by_day\n",
    "                      \"\"\"\n",
    "\n",
    "# Check your answer\n",
    "q_1.check()"
   ]
  },
  {
   "cell_type": "code",
   "execution_count": 4,
   "id": "0e61be85",
   "metadata": {
    "execution": {
     "iopub.execute_input": "2023-07-29T15:33:29.502432Z",
     "iopub.status.busy": "2023-07-29T15:33:29.502119Z",
     "iopub.status.idle": "2023-07-29T15:33:29.505717Z",
     "shell.execute_reply": "2023-07-29T15:33:29.504795Z"
    },
    "papermill": {
     "duration": 0.010869,
     "end_time": "2023-07-29T15:33:29.507438",
     "exception": false,
     "start_time": "2023-07-29T15:33:29.496569",
     "status": "completed"
    },
    "tags": []
   },
   "outputs": [],
   "source": [
    "# Lines below will give you a hint or solution code\n",
    "#q_1.hint()\n",
    "#q_1.solution()"
   ]
  },
  {
   "cell_type": "markdown",
   "id": "b726a801",
   "metadata": {
    "papermill": {
     "duration": 0.004525,
     "end_time": "2023-07-29T15:33:29.516634",
     "exception": false,
     "start_time": "2023-07-29T15:33:29.512109",
     "status": "completed"
    },
    "tags": []
   },
   "source": [
    "### 2) Can you separate and order trips by community area?\n",
    "\n",
    "The query below returns a DataFrame with three columns from the table: `pickup_community_area`, `trip_start_timestamp`, and `trip_end_timestamp`.  \n",
    "\n",
    "Amend the query to return an additional column called `trip_number` which shows the order in which the trips were taken from their respective community areas.  So, the first trip of the day originating from community area 1 should receive a value of 1; the second trip of the day from the same area should receive a value of 2.  Likewise, the first trip of the day from community area 2 should receive a value of 1, and so on.\n",
    "\n",
    "Note that there are many numbering functions that can be used to solve this problem (depending on how you want to deal with trips that started at the same time from the same community area); to answer this question, please use the **RANK()** function."
   ]
  },
  {
   "cell_type": "code",
   "execution_count": 5,
   "id": "a0822e47",
   "metadata": {
    "execution": {
     "iopub.execute_input": "2023-07-29T15:33:29.529177Z",
     "iopub.status.busy": "2023-07-29T15:33:29.528020Z",
     "iopub.status.idle": "2023-07-29T15:33:35.005641Z",
     "shell.execute_reply": "2023-07-29T15:33:35.003999Z"
    },
    "papermill": {
     "duration": 5.485646,
     "end_time": "2023-07-29T15:33:35.007959",
     "exception": false,
     "start_time": "2023-07-29T15:33:29.522313",
     "status": "completed"
    },
    "tags": []
   },
   "outputs": [
    {
     "data": {
      "text/html": [
       "<div>\n",
       "<style scoped>\n",
       "    .dataframe tbody tr th:only-of-type {\n",
       "        vertical-align: middle;\n",
       "    }\n",
       "\n",
       "    .dataframe tbody tr th {\n",
       "        vertical-align: top;\n",
       "    }\n",
       "\n",
       "    .dataframe thead th {\n",
       "        text-align: right;\n",
       "    }\n",
       "</style>\n",
       "<table border=\"1\" class=\"dataframe\">\n",
       "  <thead>\n",
       "    <tr style=\"text-align: right;\">\n",
       "      <th></th>\n",
       "      <th>pickup_community_area</th>\n",
       "      <th>trip_start_timestamp</th>\n",
       "      <th>trip_end_timestamp</th>\n",
       "      <th>trip_number</th>\n",
       "    </tr>\n",
       "  </thead>\n",
       "  <tbody>\n",
       "    <tr>\n",
       "      <th>0</th>\n",
       "      <td>15.0</td>\n",
       "      <td>2013-10-03 00:00:00+00:00</td>\n",
       "      <td>2013-10-03 01:30:00+00:00</td>\n",
       "      <td>1</td>\n",
       "    </tr>\n",
       "    <tr>\n",
       "      <th>1</th>\n",
       "      <td>15.0</td>\n",
       "      <td>2013-10-03 00:00:00+00:00</td>\n",
       "      <td>2013-10-03 00:00:00+00:00</td>\n",
       "      <td>1</td>\n",
       "    </tr>\n",
       "    <tr>\n",
       "      <th>2</th>\n",
       "      <td>15.0</td>\n",
       "      <td>2013-10-03 00:30:00+00:00</td>\n",
       "      <td>2013-10-03 00:45:00+00:00</td>\n",
       "      <td>3</td>\n",
       "    </tr>\n",
       "    <tr>\n",
       "      <th>3</th>\n",
       "      <td>15.0</td>\n",
       "      <td>2013-10-03 01:30:00+00:00</td>\n",
       "      <td>2013-10-03 01:30:00+00:00</td>\n",
       "      <td>4</td>\n",
       "    </tr>\n",
       "    <tr>\n",
       "      <th>4</th>\n",
       "      <td>15.0</td>\n",
       "      <td>2013-10-03 03:00:00+00:00</td>\n",
       "      <td>2013-10-03 03:00:00+00:00</td>\n",
       "      <td>5</td>\n",
       "    </tr>\n",
       "  </tbody>\n",
       "</table>\n",
       "</div>"
      ],
      "text/plain": [
       "   pickup_community_area      trip_start_timestamp        trip_end_timestamp  \\\n",
       "0                   15.0 2013-10-03 00:00:00+00:00 2013-10-03 01:30:00+00:00   \n",
       "1                   15.0 2013-10-03 00:00:00+00:00 2013-10-03 00:00:00+00:00   \n",
       "2                   15.0 2013-10-03 00:30:00+00:00 2013-10-03 00:45:00+00:00   \n",
       "3                   15.0 2013-10-03 01:30:00+00:00 2013-10-03 01:30:00+00:00   \n",
       "4                   15.0 2013-10-03 03:00:00+00:00 2013-10-03 03:00:00+00:00   \n",
       "\n",
       "   trip_number  \n",
       "0            1  \n",
       "1            1  \n",
       "2            3  \n",
       "3            4  \n",
       "4            5  "
      ]
     },
     "metadata": {},
     "output_type": "display_data"
    },
    {
     "data": {
      "application/javascript": [
       "parent.postMessage({\"jupyterEvent\": \"custom.exercise_interaction\", \"data\": {\"outcomeType\": 1, \"valueTowardsCompletion\": 0.3333333333333333, \"interactionType\": 1, \"questionType\": 2, \"questionId\": \"2_CommunityArea\", \"learnToolsVersion\": \"0.3.4\", \"failureMessage\": \"\", \"exceptionClass\": \"\", \"trace\": \"\"}}, \"*\")"
      ],
      "text/plain": [
       "<IPython.core.display.Javascript object>"
      ]
     },
     "metadata": {},
     "output_type": "display_data"
    },
    {
     "data": {
      "text/markdown": [
       "<span style=\"color:#33cc33\">Correct</span>"
      ],
      "text/plain": [
       "Correct"
      ]
     },
     "metadata": {},
     "output_type": "display_data"
    }
   ],
   "source": [
    "# Amend the query below\n",
    "trip_number_query = \"\"\"\n",
    "                    SELECT pickup_community_area,\n",
    "                           trip_start_timestamp,\n",
    "                           trip_end_timestamp,\n",
    "                           RANK()\n",
    "                             OVER (\n",
    "                                   PARTITION BY pickup_community_area\n",
    "                                   ORDER BY trip_start_timestamp\n",
    "                                   ) as trip_number\n",
    "                           \n",
    "                    FROM `bigquery-public-data.chicago_taxi_trips.taxi_trips`\n",
    "                    WHERE DATE(trip_start_timestamp) = '2013-10-03'\n",
    "                    \"\"\"\n",
    "\n",
    "# Check your answer\n",
    "q_2.check()"
   ]
  },
  {
   "cell_type": "code",
   "execution_count": 6,
   "id": "1f99cce8",
   "metadata": {
    "execution": {
     "iopub.execute_input": "2023-07-29T15:33:35.020368Z",
     "iopub.status.busy": "2023-07-29T15:33:35.019977Z",
     "iopub.status.idle": "2023-07-29T15:33:35.023641Z",
     "shell.execute_reply": "2023-07-29T15:33:35.022763Z"
    },
    "papermill": {
     "duration": 0.013086,
     "end_time": "2023-07-29T15:33:35.026405",
     "exception": false,
     "start_time": "2023-07-29T15:33:35.013319",
     "status": "completed"
    },
    "tags": []
   },
   "outputs": [],
   "source": [
    "# Lines below will give you a hint or solution code\n",
    "#q_2.hint()\n",
    "# q_2.solution()"
   ]
  },
  {
   "cell_type": "markdown",
   "id": "3c36f271",
   "metadata": {
    "papermill": {
     "duration": 0.004915,
     "end_time": "2023-07-29T15:33:35.037018",
     "exception": false,
     "start_time": "2023-07-29T15:33:35.032103",
     "status": "completed"
    },
    "tags": []
   },
   "source": [
    "### 3) How much time elapses between trips?\n",
    "\n",
    "The (partial) query in the code cell below shows, for each trip in the selected time frame, the corresponding `taxi_id`, `trip_start_timestamp`, and `trip_end_timestamp`. \n",
    "\n",
    "Your task in this exercise is to edit the query to include an additional `prev_break` column that shows the length of the break (in minutes) that the driver had before each trip started (this corresponds to the time between `trip_start_timestamp` of the current trip and `trip_end_timestamp` of the previous trip).  Partition the calculation by `taxi_id`, and order the results within each partition by `trip_start_timestamp`.\n",
    "\n",
    "Some sample results are shown below, where all rows correspond to the same driver (or `taxi_id`).  Take the time now to make sure that the values in the `prev_break` column make sense to you!\n",
    "\n",
    "![first_commands](https://storage.googleapis.com/kaggle-media/learn/images/qjvQzg8.png)\n",
    "\n",
    "Note that the first trip of the day for each driver should have a value of **NaN** (not a number) in the `prev_break` column."
   ]
  },
  {
   "cell_type": "code",
   "execution_count": 7,
   "id": "cc6ccc59",
   "metadata": {
    "execution": {
     "iopub.execute_input": "2023-07-29T15:33:35.049456Z",
     "iopub.status.busy": "2023-07-29T15:33:35.049005Z",
     "iopub.status.idle": "2023-07-29T15:33:44.883274Z",
     "shell.execute_reply": "2023-07-29T15:33:44.881978Z"
    },
    "papermill": {
     "duration": 9.843471,
     "end_time": "2023-07-29T15:33:44.885785",
     "exception": false,
     "start_time": "2023-07-29T15:33:35.042314",
     "status": "completed"
    },
    "tags": []
   },
   "outputs": [
    {
     "data": {
      "text/html": [
       "<div>\n",
       "<style scoped>\n",
       "    .dataframe tbody tr th:only-of-type {\n",
       "        vertical-align: middle;\n",
       "    }\n",
       "\n",
       "    .dataframe tbody tr th {\n",
       "        vertical-align: top;\n",
       "    }\n",
       "\n",
       "    .dataframe thead th {\n",
       "        text-align: right;\n",
       "    }\n",
       "</style>\n",
       "<table border=\"1\" class=\"dataframe\">\n",
       "  <thead>\n",
       "    <tr style=\"text-align: right;\">\n",
       "      <th></th>\n",
       "      <th>taxi_id</th>\n",
       "      <th>trip_start_timestamp</th>\n",
       "      <th>trip_end_timestamp</th>\n",
       "      <th>prev_break</th>\n",
       "    </tr>\n",
       "  </thead>\n",
       "  <tbody>\n",
       "    <tr>\n",
       "      <th>0</th>\n",
       "      <td>01cfdf564af1a522661ba984b93574d481b54e27516833...</td>\n",
       "      <td>2013-10-03 12:15:00+00:00</td>\n",
       "      <td>2013-10-03 12:45:00+00:00</td>\n",
       "      <td>615.0</td>\n",
       "    </tr>\n",
       "    <tr>\n",
       "      <th>1</th>\n",
       "      <td>01cfdf564af1a522661ba984b93574d481b54e27516833...</td>\n",
       "      <td>2013-10-03 15:45:00+00:00</td>\n",
       "      <td>2013-10-03 15:45:00+00:00</td>\n",
       "      <td>180.0</td>\n",
       "    </tr>\n",
       "    <tr>\n",
       "      <th>2</th>\n",
       "      <td>01cfdf564af1a522661ba984b93574d481b54e27516833...</td>\n",
       "      <td>2013-10-03 19:15:00+00:00</td>\n",
       "      <td>2013-10-03 19:30:00+00:00</td>\n",
       "      <td>180.0</td>\n",
       "    </tr>\n",
       "    <tr>\n",
       "      <th>3</th>\n",
       "      <td>01cfdf564af1a522661ba984b93574d481b54e27516833...</td>\n",
       "      <td>2013-10-03 23:15:00+00:00</td>\n",
       "      <td>2013-10-03 23:45:00+00:00</td>\n",
       "      <td>180.0</td>\n",
       "    </tr>\n",
       "    <tr>\n",
       "      <th>4</th>\n",
       "      <td>081758ced4767105bfa217f7b0784d72d37e12a016fe2a...</td>\n",
       "      <td>2013-10-03 07:30:00+00:00</td>\n",
       "      <td>2013-10-03 07:45:00+00:00</td>\n",
       "      <td>420.0</td>\n",
       "    </tr>\n",
       "  </tbody>\n",
       "</table>\n",
       "</div>"
      ],
      "text/plain": [
       "                                             taxi_id  \\\n",
       "0  01cfdf564af1a522661ba984b93574d481b54e27516833...   \n",
       "1  01cfdf564af1a522661ba984b93574d481b54e27516833...   \n",
       "2  01cfdf564af1a522661ba984b93574d481b54e27516833...   \n",
       "3  01cfdf564af1a522661ba984b93574d481b54e27516833...   \n",
       "4  081758ced4767105bfa217f7b0784d72d37e12a016fe2a...   \n",
       "\n",
       "       trip_start_timestamp        trip_end_timestamp  prev_break  \n",
       "0 2013-10-03 12:15:00+00:00 2013-10-03 12:45:00+00:00       615.0  \n",
       "1 2013-10-03 15:45:00+00:00 2013-10-03 15:45:00+00:00       180.0  \n",
       "2 2013-10-03 19:15:00+00:00 2013-10-03 19:30:00+00:00       180.0  \n",
       "3 2013-10-03 23:15:00+00:00 2013-10-03 23:45:00+00:00       180.0  \n",
       "4 2013-10-03 07:30:00+00:00 2013-10-03 07:45:00+00:00       420.0  "
      ]
     },
     "metadata": {},
     "output_type": "display_data"
    },
    {
     "data": {
      "application/javascript": [
       "parent.postMessage({\"jupyterEvent\": \"custom.exercise_interaction\", \"data\": {\"outcomeType\": 1, \"valueTowardsCompletion\": 0.3333333333333333, \"interactionType\": 1, \"questionType\": 2, \"questionId\": \"3_BreakTime\", \"learnToolsVersion\": \"0.3.4\", \"failureMessage\": \"\", \"exceptionClass\": \"\", \"trace\": \"\"}}, \"*\")"
      ],
      "text/plain": [
       "<IPython.core.display.Javascript object>"
      ]
     },
     "metadata": {},
     "output_type": "display_data"
    },
    {
     "data": {
      "text/markdown": [
       "<span style=\"color:#33cc33\">Correct</span>"
      ],
      "text/plain": [
       "Correct"
      ]
     },
     "metadata": {},
     "output_type": "display_data"
    }
   ],
   "source": [
    "# Fill in the blanks below\n",
    "break_time_query = \"\"\"\n",
    "                   SELECT taxi_id,\n",
    "                       trip_start_timestamp,\n",
    "                       trip_end_timestamp,\n",
    "                       TIMESTAMP_DIFF(\n",
    "                           trip_start_timestamp, \n",
    "                           LAG(trip_end_timestamp, 1)\n",
    "                               OVER (\n",
    "                                    PARTITION BY taxi_id\n",
    "                                    ORDER BY trip_start_timestamp), \n",
    "                           MINUTE) as prev_break\n",
    "                   FROM `bigquery-public-data.chicago_taxi_trips.taxi_trips`\n",
    "                   WHERE DATE(trip_start_timestamp) = '2013-10-03' \n",
    "                   \"\"\"\n",
    "\n",
    "# Check your answer\n",
    "q_3.check()"
   ]
  },
  {
   "cell_type": "code",
   "execution_count": 8,
   "id": "06c333f9",
   "metadata": {
    "execution": {
     "iopub.execute_input": "2023-07-29T15:33:44.899587Z",
     "iopub.status.busy": "2023-07-29T15:33:44.899182Z",
     "iopub.status.idle": "2023-07-29T15:33:44.903585Z",
     "shell.execute_reply": "2023-07-29T15:33:44.902575Z"
    },
    "papermill": {
     "duration": 0.013453,
     "end_time": "2023-07-29T15:33:44.905428",
     "exception": false,
     "start_time": "2023-07-29T15:33:44.891975",
     "status": "completed"
    },
    "tags": []
   },
   "outputs": [],
   "source": [
    "# Lines below will give you a hint or solution code\n",
    "#q_3.hint()\n",
    "# q_3.solution()"
   ]
  },
  {
   "cell_type": "markdown",
   "id": "f912b494",
   "metadata": {
    "papermill": {
     "duration": 0.005394,
     "end_time": "2023-07-29T15:33:44.916616",
     "exception": false,
     "start_time": "2023-07-29T15:33:44.911222",
     "status": "completed"
    },
    "tags": []
   },
   "source": [
    "# Keep going\n",
    "\n",
    "Move on to learn how to query **[nested and repeated data](https://www.kaggle.com/alexisbcook/nested-and-repeated-data)**."
   ]
  },
  {
   "cell_type": "markdown",
   "id": "f7b06024",
   "metadata": {
    "papermill": {
     "duration": 0.005004,
     "end_time": "2023-07-29T15:33:44.926869",
     "exception": false,
     "start_time": "2023-07-29T15:33:44.921865",
     "status": "completed"
    },
    "tags": []
   },
   "source": [
    "---\n",
    "\n",
    "\n",
    "\n",
    "\n",
    "*Have questions or comments? Visit the [course discussion forum](https://www.kaggle.com/learn/advanced-sql/discussion) to chat with other learners.*"
   ]
  }
 ],
 "metadata": {
  "kernelspec": {
   "display_name": "Python 3",
   "language": "python",
   "name": "python3"
  },
  "language_info": {
   "codemirror_mode": {
    "name": "ipython",
    "version": 3
   },
   "file_extension": ".py",
   "mimetype": "text/x-python",
   "name": "python",
   "nbconvert_exporter": "python",
   "pygments_lexer": "ipython3",
   "version": "3.10.12"
  },
  "papermill": {
   "default_parameters": {},
   "duration": 62.011334,
   "end_time": "2023-07-29T15:33:45.752875",
   "environment_variables": {},
   "exception": null,
   "input_path": "__notebook__.ipynb",
   "output_path": "__notebook__.ipynb",
   "parameters": {},
   "start_time": "2023-07-29T15:32:43.741541",
   "version": "2.4.0"
  }
 },
 "nbformat": 4,
 "nbformat_minor": 5
}
