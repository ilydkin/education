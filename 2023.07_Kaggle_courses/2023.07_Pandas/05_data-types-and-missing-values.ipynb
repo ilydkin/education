{
 "cells": [
  {
   "cell_type": "markdown",
   "id": "4b2ce87e",
   "metadata": {
    "papermill": {
     "duration": 0.006319,
     "end_time": "2023-07-14T22:15:25.657812",
     "exception": false,
     "start_time": "2023-07-14T22:15:25.651493",
     "status": "completed"
    },
    "tags": []
   },
   "source": [
    "**This notebook is an exercise in the [Pandas](https://www.kaggle.com/learn/pandas) course.  You can reference the tutorial at [this link](https://www.kaggle.com/residentmario/data-types-and-missing-values).**\n",
    "\n",
    "---\n"
   ]
  },
  {
   "cell_type": "markdown",
   "id": "423d7fb3",
   "metadata": {
    "papermill": {
     "duration": 0.005188,
     "end_time": "2023-07-14T22:15:25.668802",
     "exception": false,
     "start_time": "2023-07-14T22:15:25.663614",
     "status": "completed"
    },
    "tags": []
   },
   "source": [
    "# Introduction\n",
    "\n",
    "Run the following cell to load your data and some utility functions."
   ]
  },
  {
   "cell_type": "code",
   "execution_count": 1,
   "id": "face33e6",
   "metadata": {
    "execution": {
     "iopub.execute_input": "2023-07-14T22:15:25.681714Z",
     "iopub.status.busy": "2023-07-14T22:15:25.681168Z",
     "iopub.status.idle": "2023-07-14T22:15:28.919759Z",
     "shell.execute_reply": "2023-07-14T22:15:28.918403Z"
    },
    "papermill": {
     "duration": 3.248345,
     "end_time": "2023-07-14T22:15:28.922494",
     "exception": false,
     "start_time": "2023-07-14T22:15:25.674149",
     "status": "completed"
    },
    "tags": []
   },
   "outputs": [
    {
     "name": "stdout",
     "output_type": "stream",
     "text": [
      "Setup complete.\n"
     ]
    }
   ],
   "source": [
    "import pandas as pd\n",
    "\n",
    "reviews = pd.read_csv(\"../input/wine-reviews/winemag-data-130k-v2.csv\", index_col=0)\n",
    "\n",
    "from learntools.core import binder; binder.bind(globals())\n",
    "from learntools.pandas.data_types_and_missing_data import *\n",
    "print(\"Setup complete.\")"
   ]
  },
  {
   "cell_type": "markdown",
   "id": "a3e9838c",
   "metadata": {
    "papermill": {
     "duration": 0.005189,
     "end_time": "2023-07-14T22:15:28.933386",
     "exception": false,
     "start_time": "2023-07-14T22:15:28.928197",
     "status": "completed"
    },
    "tags": []
   },
   "source": [
    "# Exercises"
   ]
  },
  {
   "cell_type": "markdown",
   "id": "c257bc40",
   "metadata": {
    "papermill": {
     "duration": 0.005199,
     "end_time": "2023-07-14T22:15:28.944061",
     "exception": false,
     "start_time": "2023-07-14T22:15:28.938862",
     "status": "completed"
    },
    "tags": []
   },
   "source": [
    "## 1. \n",
    "What is the data type of the `points` column in the dataset?"
   ]
  },
  {
   "cell_type": "code",
   "execution_count": 2,
   "id": "7a92ed1f",
   "metadata": {
    "execution": {
     "iopub.execute_input": "2023-07-14T22:15:28.956556Z",
     "iopub.status.busy": "2023-07-14T22:15:28.956157Z",
     "iopub.status.idle": "2023-07-14T22:15:28.967205Z",
     "shell.execute_reply": "2023-07-14T22:15:28.966290Z"
    },
    "papermill": {
     "duration": 0.020219,
     "end_time": "2023-07-14T22:15:28.969704",
     "exception": false,
     "start_time": "2023-07-14T22:15:28.949485",
     "status": "completed"
    },
    "tags": []
   },
   "outputs": [
    {
     "data": {
      "application/javascript": [
       "parent.postMessage({\"jupyterEvent\": \"custom.exercise_interaction\", \"data\": {\"outcomeType\": 1, \"valueTowardsCompletion\": 0.25, \"interactionType\": 1, \"questionType\": 1, \"questionId\": \"1_PointsDtype\", \"learnToolsVersion\": \"0.3.4\", \"failureMessage\": \"\", \"exceptionClass\": \"\", \"trace\": \"\"}}, \"*\")"
      ],
      "text/plain": [
       "<IPython.core.display.Javascript object>"
      ]
     },
     "metadata": {},
     "output_type": "display_data"
    },
    {
     "data": {
      "text/markdown": [
       "<span style=\"color:#33cc33\">Correct</span>"
      ],
      "text/plain": [
       "Correct"
      ]
     },
     "metadata": {},
     "output_type": "display_data"
    }
   ],
   "source": [
    "# Your code here\n",
    "dtype = reviews.points.dtype\n",
    "\n",
    "# Check your answer\n",
    "q1.check()"
   ]
  },
  {
   "cell_type": "code",
   "execution_count": 3,
   "id": "29664671",
   "metadata": {
    "execution": {
     "iopub.execute_input": "2023-07-14T22:15:28.983756Z",
     "iopub.status.busy": "2023-07-14T22:15:28.983023Z",
     "iopub.status.idle": "2023-07-14T22:15:28.987361Z",
     "shell.execute_reply": "2023-07-14T22:15:28.986564Z"
    },
    "papermill": {
     "duration": 0.013757,
     "end_time": "2023-07-14T22:15:28.989379",
     "exception": false,
     "start_time": "2023-07-14T22:15:28.975622",
     "status": "completed"
    },
    "tags": []
   },
   "outputs": [],
   "source": [
    "#q1.hint()\n",
    "#q1.solution()"
   ]
  },
  {
   "cell_type": "markdown",
   "id": "a788a64b",
   "metadata": {
    "papermill": {
     "duration": 0.005702,
     "end_time": "2023-07-14T22:15:29.001059",
     "exception": false,
     "start_time": "2023-07-14T22:15:28.995357",
     "status": "completed"
    },
    "tags": []
   },
   "source": [
    "## 2. \n",
    "Create a Series from entries in the `points` column, but convert the entries to strings. Hint: strings are `str` in native Python."
   ]
  },
  {
   "cell_type": "code",
   "execution_count": 4,
   "id": "acd88b48",
   "metadata": {
    "execution": {
     "iopub.execute_input": "2023-07-14T22:15:29.015084Z",
     "iopub.status.busy": "2023-07-14T22:15:29.014671Z",
     "iopub.status.idle": "2023-07-14T22:15:29.121179Z",
     "shell.execute_reply": "2023-07-14T22:15:29.120104Z"
    },
    "papermill": {
     "duration": 0.116759,
     "end_time": "2023-07-14T22:15:29.123929",
     "exception": false,
     "start_time": "2023-07-14T22:15:29.007170",
     "status": "completed"
    },
    "tags": []
   },
   "outputs": [
    {
     "data": {
      "application/javascript": [
       "parent.postMessage({\"jupyterEvent\": \"custom.exercise_interaction\", \"data\": {\"outcomeType\": 1, \"valueTowardsCompletion\": 0.25, \"interactionType\": 1, \"questionType\": 1, \"questionId\": \"2_StrPoints\", \"learnToolsVersion\": \"0.3.4\", \"failureMessage\": \"\", \"exceptionClass\": \"\", \"trace\": \"\"}}, \"*\")"
      ],
      "text/plain": [
       "<IPython.core.display.Javascript object>"
      ]
     },
     "metadata": {},
     "output_type": "display_data"
    },
    {
     "data": {
      "text/markdown": [
       "<span style=\"color:#33cc33\">Correct</span>"
      ],
      "text/plain": [
       "Correct"
      ]
     },
     "metadata": {},
     "output_type": "display_data"
    }
   ],
   "source": [
    "point_strings = reviews.points.astype(str)\n",
    "\n",
    "# Check your answer\n",
    "q2.check()"
   ]
  },
  {
   "cell_type": "code",
   "execution_count": 5,
   "id": "d7fb5e20",
   "metadata": {
    "execution": {
     "iopub.execute_input": "2023-07-14T22:15:29.138793Z",
     "iopub.status.busy": "2023-07-14T22:15:29.138382Z",
     "iopub.status.idle": "2023-07-14T22:15:29.143410Z",
     "shell.execute_reply": "2023-07-14T22:15:29.142613Z"
    },
    "papermill": {
     "duration": 0.015531,
     "end_time": "2023-07-14T22:15:29.145932",
     "exception": false,
     "start_time": "2023-07-14T22:15:29.130401",
     "status": "completed"
    },
    "tags": []
   },
   "outputs": [],
   "source": [
    "#q2.hint()\n",
    "#q2.solution()"
   ]
  },
  {
   "cell_type": "markdown",
   "id": "bb95efc6",
   "metadata": {
    "papermill": {
     "duration": 0.006094,
     "end_time": "2023-07-14T22:15:29.159831",
     "exception": false,
     "start_time": "2023-07-14T22:15:29.153737",
     "status": "completed"
    },
    "tags": []
   },
   "source": [
    "## 3.\n",
    "Sometimes the price column is null. How many reviews in the dataset are missing a price?"
   ]
  },
  {
   "cell_type": "code",
   "execution_count": 6,
   "id": "f39554ca",
   "metadata": {
    "execution": {
     "iopub.execute_input": "2023-07-14T22:15:29.174359Z",
     "iopub.status.busy": "2023-07-14T22:15:29.173956Z",
     "iopub.status.idle": "2023-07-14T22:15:29.184526Z",
     "shell.execute_reply": "2023-07-14T22:15:29.183252Z"
    },
    "papermill": {
     "duration": 0.021896,
     "end_time": "2023-07-14T22:15:29.188115",
     "exception": false,
     "start_time": "2023-07-14T22:15:29.166219",
     "status": "completed"
    },
    "tags": []
   },
   "outputs": [
    {
     "data": {
      "application/javascript": [
       "parent.postMessage({\"jupyterEvent\": \"custom.exercise_interaction\", \"data\": {\"outcomeType\": 1, \"valueTowardsCompletion\": 0.25, \"interactionType\": 1, \"questionType\": 1, \"questionId\": \"3_CountMissingPrices\", \"learnToolsVersion\": \"0.3.4\", \"failureMessage\": \"\", \"exceptionClass\": \"\", \"trace\": \"\"}}, \"*\")"
      ],
      "text/plain": [
       "<IPython.core.display.Javascript object>"
      ]
     },
     "metadata": {},
     "output_type": "display_data"
    },
    {
     "data": {
      "text/markdown": [
       "<span style=\"color:#33cc33\">Correct</span>"
      ],
      "text/plain": [
       "Correct"
      ]
     },
     "metadata": {},
     "output_type": "display_data"
    }
   ],
   "source": [
    "n_missing_prices = reviews.price.isna().sum()\n",
    "\n",
    "# Check your answer\n",
    "q3.check()"
   ]
  },
  {
   "cell_type": "code",
   "execution_count": 7,
   "id": "5c0c1a00",
   "metadata": {
    "execution": {
     "iopub.execute_input": "2023-07-14T22:15:29.203505Z",
     "iopub.status.busy": "2023-07-14T22:15:29.203116Z",
     "iopub.status.idle": "2023-07-14T22:15:29.208044Z",
     "shell.execute_reply": "2023-07-14T22:15:29.206888Z"
    },
    "papermill": {
     "duration": 0.015266,
     "end_time": "2023-07-14T22:15:29.210389",
     "exception": false,
     "start_time": "2023-07-14T22:15:29.195123",
     "status": "completed"
    },
    "tags": []
   },
   "outputs": [],
   "source": [
    "#q3.hint()\n",
    "# q3.solution()"
   ]
  },
  {
   "cell_type": "markdown",
   "id": "8434e2dc",
   "metadata": {
    "papermill": {
     "duration": 0.006641,
     "end_time": "2023-07-14T22:15:29.223752",
     "exception": false,
     "start_time": "2023-07-14T22:15:29.217111",
     "status": "completed"
    },
    "tags": []
   },
   "source": [
    "## 4.\n",
    "What are the most common wine-producing regions? Create a Series counting the number of times each value occurs in the `region_1` field. This field is often missing data, so replace missing values with `Unknown`. Sort in descending order.  Your output should look something like this:\n",
    "\n",
    "```\n",
    "Unknown                    21247\n",
    "Napa Valley                 4480\n",
    "                           ...  \n",
    "Bardolino Superiore            1\n",
    "Primitivo del Tarantino        1\n",
    "Name: region_1, Length: 1230, dtype: int64\n",
    "```"
   ]
  },
  {
   "cell_type": "code",
   "execution_count": 8,
   "id": "1a6a99df",
   "metadata": {
    "execution": {
     "iopub.execute_input": "2023-07-14T22:15:29.239166Z",
     "iopub.status.busy": "2023-07-14T22:15:29.238786Z",
     "iopub.status.idle": "2023-07-14T22:15:29.323240Z",
     "shell.execute_reply": "2023-07-14T22:15:29.321756Z"
    },
    "papermill": {
     "duration": 0.094851,
     "end_time": "2023-07-14T22:15:29.325586",
     "exception": false,
     "start_time": "2023-07-14T22:15:29.230735",
     "status": "completed"
    },
    "tags": []
   },
   "outputs": [
    {
     "data": {
      "application/javascript": [
       "parent.postMessage({\"jupyterEvent\": \"custom.exercise_interaction\", \"data\": {\"outcomeType\": 1, \"valueTowardsCompletion\": 0.25, \"interactionType\": 1, \"questionType\": 2, \"questionId\": \"4_ReviewsPerRegion\", \"learnToolsVersion\": \"0.3.4\", \"failureMessage\": \"\", \"exceptionClass\": \"\", \"trace\": \"\"}}, \"*\")"
      ],
      "text/plain": [
       "<IPython.core.display.Javascript object>"
      ]
     },
     "metadata": {},
     "output_type": "display_data"
    },
    {
     "data": {
      "text/markdown": [
       "<span style=\"color:#33cc33\">Correct</span>"
      ],
      "text/plain": [
       "Correct"
      ]
     },
     "metadata": {},
     "output_type": "display_data"
    }
   ],
   "source": [
    "reviews_per_region = reviews.region_1.fillna('Unknown').value_counts()\n",
    "\n",
    "# Check your answer\n",
    "q4.check()"
   ]
  },
  {
   "cell_type": "code",
   "execution_count": 9,
   "id": "0c468ed5",
   "metadata": {
    "execution": {
     "iopub.execute_input": "2023-07-14T22:15:29.341298Z",
     "iopub.status.busy": "2023-07-14T22:15:29.340866Z",
     "iopub.status.idle": "2023-07-14T22:15:29.345924Z",
     "shell.execute_reply": "2023-07-14T22:15:29.344607Z"
    },
    "papermill": {
     "duration": 0.015769,
     "end_time": "2023-07-14T22:15:29.348272",
     "exception": false,
     "start_time": "2023-07-14T22:15:29.332503",
     "status": "completed"
    },
    "tags": []
   },
   "outputs": [],
   "source": [
    "#q4.hint()\n",
    "# q4.solution()"
   ]
  },
  {
   "cell_type": "markdown",
   "id": "c8c154cb",
   "metadata": {
    "papermill": {
     "duration": 0.006681,
     "end_time": "2023-07-14T22:15:29.362436",
     "exception": false,
     "start_time": "2023-07-14T22:15:29.355755",
     "status": "completed"
    },
    "tags": []
   },
   "source": [
    "# Keep going\n",
    "\n",
    "Move on to **[renaming and combining](https://www.kaggle.com/residentmario/renaming-and-combining)**."
   ]
  },
  {
   "cell_type": "markdown",
   "id": "aac4808d",
   "metadata": {
    "papermill": {
     "duration": 0.006593,
     "end_time": "2023-07-14T22:15:29.376080",
     "exception": false,
     "start_time": "2023-07-14T22:15:29.369487",
     "status": "completed"
    },
    "tags": []
   },
   "source": [
    "---\n",
    "\n",
    "\n",
    "\n",
    "\n",
    "*Have questions or comments? Visit the [course discussion forum](https://www.kaggle.com/learn/pandas/discussion) to chat with other learners.*"
   ]
  }
 ],
 "metadata": {
  "kernelspec": {
   "display_name": "Python 3",
   "language": "python",
   "name": "python3"
  },
  "language_info": {
   "codemirror_mode": {
    "name": "ipython",
    "version": 3
   },
   "file_extension": ".py",
   "mimetype": "text/x-python",
   "name": "python",
   "nbconvert_exporter": "python",
   "pygments_lexer": "ipython3",
   "version": "3.10.12"
  },
  "papermill": {
   "default_parameters": {},
   "duration": 15.983927,
   "end_time": "2023-07-14T22:15:30.305093",
   "environment_variables": {},
   "exception": null,
   "input_path": "__notebook__.ipynb",
   "output_path": "__notebook__.ipynb",
   "parameters": {},
   "start_time": "2023-07-14T22:15:14.321166",
   "version": "2.4.0"
  }
 },
 "nbformat": 4,
 "nbformat_minor": 5
}
