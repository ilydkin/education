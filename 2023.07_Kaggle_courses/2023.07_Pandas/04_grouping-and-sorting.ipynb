{
 "cells": [
  {
   "cell_type": "markdown",
   "id": "349d7619",
   "metadata": {
    "papermill": {
     "duration": 0.009713,
     "end_time": "2023-07-14T21:54:13.773823",
     "exception": false,
     "start_time": "2023-07-14T21:54:13.764110",
     "status": "completed"
    },
    "tags": []
   },
   "source": [
    "**This notebook is an exercise in the [Pandas](https://www.kaggle.com/learn/pandas) course.  You can reference the tutorial at [this link](https://www.kaggle.com/residentmario/grouping-and-sorting).**\n",
    "\n",
    "---\n"
   ]
  },
  {
   "cell_type": "markdown",
   "id": "fecd9017",
   "metadata": {
    "papermill": {
     "duration": 0.008696,
     "end_time": "2023-07-14T21:54:13.791856",
     "exception": false,
     "start_time": "2023-07-14T21:54:13.783160",
     "status": "completed"
    },
    "tags": []
   },
   "source": [
    "# Introduction\n",
    "\n",
    "In these exercises we'll apply groupwise analysis to our dataset.\n",
    "\n",
    "Run the code cell below to load the data before running the exercises."
   ]
  },
  {
   "cell_type": "code",
   "execution_count": 1,
   "id": "5b78ab7a",
   "metadata": {
    "execution": {
     "iopub.execute_input": "2023-07-14T21:54:13.813383Z",
     "iopub.status.busy": "2023-07-14T21:54:13.812368Z",
     "iopub.status.idle": "2023-07-14T21:54:17.578558Z",
     "shell.execute_reply": "2023-07-14T21:54:17.577262Z"
    },
    "papermill": {
     "duration": 3.781599,
     "end_time": "2023-07-14T21:54:17.582491",
     "exception": false,
     "start_time": "2023-07-14T21:54:13.800892",
     "status": "completed"
    },
    "tags": []
   },
   "outputs": [
    {
     "name": "stdout",
     "output_type": "stream",
     "text": [
      "Setup complete.\n"
     ]
    }
   ],
   "source": [
    "import pandas as pd\n",
    "\n",
    "reviews = pd.read_csv(\"../input/wine-reviews/winemag-data-130k-v2.csv\", index_col=0)\n",
    "#pd.set_option(\"display.max_rows\", 5)\n",
    "\n",
    "from learntools.core import binder; binder.bind(globals())\n",
    "from learntools.pandas.grouping_and_sorting import *\n",
    "print(\"Setup complete.\")"
   ]
  },
  {
   "cell_type": "code",
   "execution_count": 2,
   "id": "6c2cea1a",
   "metadata": {
    "execution": {
     "iopub.execute_input": "2023-07-14T21:54:17.602766Z",
     "iopub.status.busy": "2023-07-14T21:54:17.602330Z",
     "iopub.status.idle": "2023-07-14T21:54:17.629732Z",
     "shell.execute_reply": "2023-07-14T21:54:17.628716Z"
    },
    "papermill": {
     "duration": 0.040269,
     "end_time": "2023-07-14T21:54:17.632165",
     "exception": false,
     "start_time": "2023-07-14T21:54:17.591896",
     "status": "completed"
    },
    "tags": []
   },
   "outputs": [
    {
     "data": {
      "text/html": [
       "<div>\n",
       "<style scoped>\n",
       "    .dataframe tbody tr th:only-of-type {\n",
       "        vertical-align: middle;\n",
       "    }\n",
       "\n",
       "    .dataframe tbody tr th {\n",
       "        vertical-align: top;\n",
       "    }\n",
       "\n",
       "    .dataframe thead th {\n",
       "        text-align: right;\n",
       "    }\n",
       "</style>\n",
       "<table border=\"1\" class=\"dataframe\">\n",
       "  <thead>\n",
       "    <tr style=\"text-align: right;\">\n",
       "      <th></th>\n",
       "      <th>country</th>\n",
       "      <th>description</th>\n",
       "      <th>designation</th>\n",
       "      <th>points</th>\n",
       "      <th>price</th>\n",
       "      <th>province</th>\n",
       "      <th>region_1</th>\n",
       "      <th>region_2</th>\n",
       "      <th>taster_name</th>\n",
       "      <th>taster_twitter_handle</th>\n",
       "      <th>title</th>\n",
       "      <th>variety</th>\n",
       "      <th>winery</th>\n",
       "    </tr>\n",
       "  </thead>\n",
       "  <tbody>\n",
       "    <tr>\n",
       "      <th>0</th>\n",
       "      <td>Italy</td>\n",
       "      <td>Aromas include tropical fruit, broom, brimston...</td>\n",
       "      <td>Vulkà Bianco</td>\n",
       "      <td>87</td>\n",
       "      <td>NaN</td>\n",
       "      <td>Sicily &amp; Sardinia</td>\n",
       "      <td>Etna</td>\n",
       "      <td>NaN</td>\n",
       "      <td>Kerin O’Keefe</td>\n",
       "      <td>@kerinokeefe</td>\n",
       "      <td>Nicosia 2013 Vulkà Bianco  (Etna)</td>\n",
       "      <td>White Blend</td>\n",
       "      <td>Nicosia</td>\n",
       "    </tr>\n",
       "    <tr>\n",
       "      <th>1</th>\n",
       "      <td>Portugal</td>\n",
       "      <td>This is ripe and fruity, a wine that is smooth...</td>\n",
       "      <td>Avidagos</td>\n",
       "      <td>87</td>\n",
       "      <td>15.0</td>\n",
       "      <td>Douro</td>\n",
       "      <td>NaN</td>\n",
       "      <td>NaN</td>\n",
       "      <td>Roger Voss</td>\n",
       "      <td>@vossroger</td>\n",
       "      <td>Quinta dos Avidagos 2011 Avidagos Red (Douro)</td>\n",
       "      <td>Portuguese Red</td>\n",
       "      <td>Quinta dos Avidagos</td>\n",
       "    </tr>\n",
       "  </tbody>\n",
       "</table>\n",
       "</div>"
      ],
      "text/plain": [
       "    country                                        description   designation  \\\n",
       "0     Italy  Aromas include tropical fruit, broom, brimston...  Vulkà Bianco   \n",
       "1  Portugal  This is ripe and fruity, a wine that is smooth...      Avidagos   \n",
       "\n",
       "   points  price           province region_1 region_2    taster_name  \\\n",
       "0      87    NaN  Sicily & Sardinia     Etna      NaN  Kerin O’Keefe   \n",
       "1      87   15.0              Douro      NaN      NaN     Roger Voss   \n",
       "\n",
       "  taster_twitter_handle                                          title  \\\n",
       "0          @kerinokeefe              Nicosia 2013 Vulkà Bianco  (Etna)   \n",
       "1            @vossroger  Quinta dos Avidagos 2011 Avidagos Red (Douro)   \n",
       "\n",
       "          variety               winery  \n",
       "0     White Blend              Nicosia  \n",
       "1  Portuguese Red  Quinta dos Avidagos  "
      ]
     },
     "execution_count": 2,
     "metadata": {},
     "output_type": "execute_result"
    }
   ],
   "source": [
    "reviews.head(2)"
   ]
  },
  {
   "cell_type": "markdown",
   "id": "a6573cbb",
   "metadata": {
    "papermill": {
     "duration": 0.010007,
     "end_time": "2023-07-14T21:54:17.651815",
     "exception": false,
     "start_time": "2023-07-14T21:54:17.641808",
     "status": "completed"
    },
    "tags": []
   },
   "source": [
    "# Exercises"
   ]
  },
  {
   "cell_type": "markdown",
   "id": "096ccab9",
   "metadata": {
    "papermill": {
     "duration": 0.008983,
     "end_time": "2023-07-14T21:54:17.670932",
     "exception": false,
     "start_time": "2023-07-14T21:54:17.661949",
     "status": "completed"
    },
    "tags": []
   },
   "source": [
    "## 1.\n",
    "Who are the most common wine reviewers in the dataset? Create a `Series` whose index is the `taster_twitter_handle` category from the dataset, and whose values count how many reviews each person wrote."
   ]
  },
  {
   "cell_type": "code",
   "execution_count": 3,
   "id": "89ba4f2e",
   "metadata": {
    "execution": {
     "iopub.execute_input": "2023-07-14T21:54:17.692249Z",
     "iopub.status.busy": "2023-07-14T21:54:17.691284Z",
     "iopub.status.idle": "2023-07-14T21:54:17.728484Z",
     "shell.execute_reply": "2023-07-14T21:54:17.727303Z"
    },
    "papermill": {
     "duration": 0.050956,
     "end_time": "2023-07-14T21:54:17.731131",
     "exception": false,
     "start_time": "2023-07-14T21:54:17.680175",
     "status": "completed"
    },
    "tags": []
   },
   "outputs": [
    {
     "data": {
      "application/javascript": [
       "parent.postMessage({\"jupyterEvent\": \"custom.exercise_interaction\", \"data\": {\"outcomeType\": 1, \"valueTowardsCompletion\": 0.16666666666666666, \"interactionType\": 1, \"questionType\": 1, \"questionId\": \"1_ReviewsWritten\", \"learnToolsVersion\": \"0.3.4\", \"failureMessage\": \"\", \"exceptionClass\": \"\", \"trace\": \"\"}}, \"*\")"
      ],
      "text/plain": [
       "<IPython.core.display.Javascript object>"
      ]
     },
     "metadata": {},
     "output_type": "display_data"
    },
    {
     "data": {
      "text/markdown": [
       "<span style=\"color:#33cc33\">Correct:</span> \n",
       "\n",
       "\n",
       "```python\n",
       "reviews_written = reviews.groupby('taster_twitter_handle').size()\n",
       "```\n",
       "or\n",
       "```python\n",
       "reviews_written = reviews.groupby('taster_twitter_handle').taster_twitter_handle.count()\n",
       "```\n"
      ],
      "text/plain": [
       "Correct: \n",
       "\n",
       "\n",
       "```python\n",
       "reviews_written = reviews.groupby('taster_twitter_handle').size()\n",
       "```\n",
       "or\n",
       "```python\n",
       "reviews_written = reviews.groupby('taster_twitter_handle').taster_twitter_handle.count()\n",
       "```"
      ]
     },
     "metadata": {},
     "output_type": "display_data"
    }
   ],
   "source": [
    "# Your code here\n",
    "reviews_written = reviews.groupby('taster_twitter_handle').size()\n",
    "\n",
    "# Check your answer\n",
    "q1.check()"
   ]
  },
  {
   "cell_type": "code",
   "execution_count": 4,
   "id": "33f56858",
   "metadata": {
    "execution": {
     "iopub.execute_input": "2023-07-14T21:54:17.754751Z",
     "iopub.status.busy": "2023-07-14T21:54:17.754264Z",
     "iopub.status.idle": "2023-07-14T21:54:17.760116Z",
     "shell.execute_reply": "2023-07-14T21:54:17.758740Z"
    },
    "papermill": {
     "duration": 0.019775,
     "end_time": "2023-07-14T21:54:17.762513",
     "exception": false,
     "start_time": "2023-07-14T21:54:17.742738",
     "status": "completed"
    },
    "tags": []
   },
   "outputs": [],
   "source": [
    "# q1.hint()\n",
    "# q1.solution()"
   ]
  },
  {
   "cell_type": "markdown",
   "id": "20325e51",
   "metadata": {
    "papermill": {
     "duration": 0.009419,
     "end_time": "2023-07-14T21:54:17.781893",
     "exception": false,
     "start_time": "2023-07-14T21:54:17.772474",
     "status": "completed"
    },
    "tags": []
   },
   "source": [
    "## 2.\n",
    "What is the best wine I can buy for a given amount of money? Create a `Series` whose index is wine prices and whose values is the maximum number of points a wine costing that much was given in a review. Sort the values by price, ascending (so that `4.0` dollars is at the top and `3300.0` dollars is at the bottom)."
   ]
  },
  {
   "cell_type": "code",
   "execution_count": 5,
   "id": "469b9db2",
   "metadata": {
    "execution": {
     "iopub.execute_input": "2023-07-14T21:54:17.804916Z",
     "iopub.status.busy": "2023-07-14T21:54:17.803419Z",
     "iopub.status.idle": "2023-07-14T21:54:17.820183Z",
     "shell.execute_reply": "2023-07-14T21:54:17.818726Z"
    },
    "papermill": {
     "duration": 0.030992,
     "end_time": "2023-07-14T21:54:17.822844",
     "exception": false,
     "start_time": "2023-07-14T21:54:17.791852",
     "status": "completed"
    },
    "tags": []
   },
   "outputs": [
    {
     "data": {
      "application/javascript": [
       "parent.postMessage({\"jupyterEvent\": \"custom.exercise_interaction\", \"data\": {\"outcomeType\": 1, \"valueTowardsCompletion\": 0.16666666666666666, \"interactionType\": 1, \"questionType\": 1, \"questionId\": \"2_BestRatingPerPrice\", \"learnToolsVersion\": \"0.3.4\", \"failureMessage\": \"\", \"exceptionClass\": \"\", \"trace\": \"\"}}, \"*\")"
      ],
      "text/plain": [
       "<IPython.core.display.Javascript object>"
      ]
     },
     "metadata": {},
     "output_type": "display_data"
    },
    {
     "data": {
      "text/markdown": [
       "<span style=\"color:#33cc33\">Correct</span>"
      ],
      "text/plain": [
       "Correct"
      ]
     },
     "metadata": {},
     "output_type": "display_data"
    }
   ],
   "source": [
    "best_rating_per_price = reviews.groupby('price')['points'].max().sort_index()\n",
    "\n",
    "# Check your answer\n",
    "q2.check()"
   ]
  },
  {
   "cell_type": "code",
   "execution_count": 6,
   "id": "e28e51b4",
   "metadata": {
    "execution": {
     "iopub.execute_input": "2023-07-14T21:54:17.848616Z",
     "iopub.status.busy": "2023-07-14T21:54:17.846828Z",
     "iopub.status.idle": "2023-07-14T21:54:17.852767Z",
     "shell.execute_reply": "2023-07-14T21:54:17.851855Z"
    },
    "papermill": {
     "duration": 0.021535,
     "end_time": "2023-07-14T21:54:17.855251",
     "exception": false,
     "start_time": "2023-07-14T21:54:17.833716",
     "status": "completed"
    },
    "tags": []
   },
   "outputs": [],
   "source": [
    "#q2.hint()\n",
    "# q2.solution()"
   ]
  },
  {
   "cell_type": "markdown",
   "id": "facdd53f",
   "metadata": {
    "papermill": {
     "duration": 0.009669,
     "end_time": "2023-07-14T21:54:17.875638",
     "exception": false,
     "start_time": "2023-07-14T21:54:17.865969",
     "status": "completed"
    },
    "tags": []
   },
   "source": [
    "## 3.\n",
    "What are the minimum and maximum prices for each `variety` of wine? Create a `DataFrame` whose index is the `variety` category from the dataset and whose values are the `min` and `max` values thereof."
   ]
  },
  {
   "cell_type": "code",
   "execution_count": 7,
   "id": "5a1ba42f",
   "metadata": {
    "execution": {
     "iopub.execute_input": "2023-07-14T21:54:17.898283Z",
     "iopub.status.busy": "2023-07-14T21:54:17.896718Z",
     "iopub.status.idle": "2023-07-14T21:54:17.940633Z",
     "shell.execute_reply": "2023-07-14T21:54:17.939362Z"
    },
    "papermill": {
     "duration": 0.058092,
     "end_time": "2023-07-14T21:54:17.943493",
     "exception": false,
     "start_time": "2023-07-14T21:54:17.885401",
     "status": "completed"
    },
    "tags": []
   },
   "outputs": [
    {
     "data": {
      "application/javascript": [
       "parent.postMessage({\"jupyterEvent\": \"custom.exercise_interaction\", \"data\": {\"outcomeType\": 1, \"valueTowardsCompletion\": 0.16666666666666666, \"interactionType\": 1, \"questionType\": 1, \"questionId\": \"3_PriceExtremes\", \"learnToolsVersion\": \"0.3.4\", \"failureMessage\": \"\", \"exceptionClass\": \"\", \"trace\": \"\"}}, \"*\")"
      ],
      "text/plain": [
       "<IPython.core.display.Javascript object>"
      ]
     },
     "metadata": {},
     "output_type": "display_data"
    },
    {
     "data": {
      "text/markdown": [
       "<span style=\"color:#33cc33\">Correct</span>"
      ],
      "text/plain": [
       "Correct"
      ]
     },
     "metadata": {},
     "output_type": "display_data"
    }
   ],
   "source": [
    "price_extremes = reviews.groupby('variety').price.agg([min,max])\n",
    "\n",
    "# Check your answer\n",
    "q3.check()"
   ]
  },
  {
   "cell_type": "code",
   "execution_count": 8,
   "id": "2acc146b",
   "metadata": {
    "execution": {
     "iopub.execute_input": "2023-07-14T21:54:17.968383Z",
     "iopub.status.busy": "2023-07-14T21:54:17.967107Z",
     "iopub.status.idle": "2023-07-14T21:54:17.973082Z",
     "shell.execute_reply": "2023-07-14T21:54:17.971842Z"
    },
    "papermill": {
     "duration": 0.021312,
     "end_time": "2023-07-14T21:54:17.975510",
     "exception": false,
     "start_time": "2023-07-14T21:54:17.954198",
     "status": "completed"
    },
    "tags": []
   },
   "outputs": [],
   "source": [
    "#q3.hint()\n",
    "# q3.solution()"
   ]
  },
  {
   "cell_type": "markdown",
   "id": "f1547e1f",
   "metadata": {
    "papermill": {
     "duration": 0.010252,
     "end_time": "2023-07-14T21:54:17.996968",
     "exception": false,
     "start_time": "2023-07-14T21:54:17.986716",
     "status": "completed"
    },
    "tags": []
   },
   "source": [
    "## 4.\n",
    "What are the most expensive wine varieties? Create a variable `sorted_varieties` containing a copy of the dataframe from the previous question where varieties are sorted in descending order based on minimum price, then on maximum price (to break ties)."
   ]
  },
  {
   "cell_type": "code",
   "execution_count": 9,
   "id": "0a745dc8",
   "metadata": {
    "execution": {
     "iopub.execute_input": "2023-07-14T21:54:18.022374Z",
     "iopub.status.busy": "2023-07-14T21:54:18.021911Z",
     "iopub.status.idle": "2023-07-14T21:54:18.035335Z",
     "shell.execute_reply": "2023-07-14T21:54:18.034022Z"
    },
    "papermill": {
     "duration": 0.02943,
     "end_time": "2023-07-14T21:54:18.038048",
     "exception": false,
     "start_time": "2023-07-14T21:54:18.008618",
     "status": "completed"
    },
    "tags": []
   },
   "outputs": [
    {
     "data": {
      "text/html": [
       "<div>\n",
       "<style scoped>\n",
       "    .dataframe tbody tr th:only-of-type {\n",
       "        vertical-align: middle;\n",
       "    }\n",
       "\n",
       "    .dataframe tbody tr th {\n",
       "        vertical-align: top;\n",
       "    }\n",
       "\n",
       "    .dataframe thead th {\n",
       "        text-align: right;\n",
       "    }\n",
       "</style>\n",
       "<table border=\"1\" class=\"dataframe\">\n",
       "  <thead>\n",
       "    <tr style=\"text-align: right;\">\n",
       "      <th></th>\n",
       "      <th>min</th>\n",
       "      <th>max</th>\n",
       "    </tr>\n",
       "    <tr>\n",
       "      <th>variety</th>\n",
       "      <th></th>\n",
       "      <th></th>\n",
       "    </tr>\n",
       "  </thead>\n",
       "  <tbody>\n",
       "    <tr>\n",
       "      <th>Abouriou</th>\n",
       "      <td>15.0</td>\n",
       "      <td>75.0</td>\n",
       "    </tr>\n",
       "    <tr>\n",
       "      <th>Agiorgitiko</th>\n",
       "      <td>10.0</td>\n",
       "      <td>66.0</td>\n",
       "    </tr>\n",
       "    <tr>\n",
       "      <th>Aglianico</th>\n",
       "      <td>6.0</td>\n",
       "      <td>180.0</td>\n",
       "    </tr>\n",
       "    <tr>\n",
       "      <th>Aidani</th>\n",
       "      <td>27.0</td>\n",
       "      <td>27.0</td>\n",
       "    </tr>\n",
       "    <tr>\n",
       "      <th>Airen</th>\n",
       "      <td>8.0</td>\n",
       "      <td>10.0</td>\n",
       "    </tr>\n",
       "  </tbody>\n",
       "</table>\n",
       "</div>"
      ],
      "text/plain": [
       "              min    max\n",
       "variety                 \n",
       "Abouriou     15.0   75.0\n",
       "Agiorgitiko  10.0   66.0\n",
       "Aglianico     6.0  180.0\n",
       "Aidani       27.0   27.0\n",
       "Airen         8.0   10.0"
      ]
     },
     "execution_count": 9,
     "metadata": {},
     "output_type": "execute_result"
    }
   ],
   "source": [
    "price_extremes.head()"
   ]
  },
  {
   "cell_type": "code",
   "execution_count": 10,
   "id": "d4ffe538",
   "metadata": {
    "execution": {
     "iopub.execute_input": "2023-07-14T21:54:18.061861Z",
     "iopub.status.busy": "2023-07-14T21:54:18.061425Z",
     "iopub.status.idle": "2023-07-14T21:54:18.075672Z",
     "shell.execute_reply": "2023-07-14T21:54:18.074417Z"
    },
    "papermill": {
     "duration": 0.029094,
     "end_time": "2023-07-14T21:54:18.078184",
     "exception": false,
     "start_time": "2023-07-14T21:54:18.049090",
     "status": "completed"
    },
    "tags": []
   },
   "outputs": [
    {
     "data": {
      "application/javascript": [
       "parent.postMessage({\"jupyterEvent\": \"custom.exercise_interaction\", \"data\": {\"outcomeType\": 1, \"valueTowardsCompletion\": 0.16666666666666666, \"interactionType\": 1, \"questionType\": 1, \"questionId\": \"4_SortedVarieties\", \"learnToolsVersion\": \"0.3.4\", \"failureMessage\": \"\", \"exceptionClass\": \"\", \"trace\": \"\"}}, \"*\")"
      ],
      "text/plain": [
       "<IPython.core.display.Javascript object>"
      ]
     },
     "metadata": {},
     "output_type": "display_data"
    },
    {
     "data": {
      "text/markdown": [
       "<span style=\"color:#33cc33\">Correct</span>"
      ],
      "text/plain": [
       "Correct"
      ]
     },
     "metadata": {},
     "output_type": "display_data"
    }
   ],
   "source": [
    "sorted_varieties = price_extremes.sort_values(by=['min', 'max'], ascending = False)\n",
    "\n",
    "# Check your answer\n",
    "q4.check()"
   ]
  },
  {
   "cell_type": "code",
   "execution_count": 11,
   "id": "ea03d86f",
   "metadata": {
    "execution": {
     "iopub.execute_input": "2023-07-14T21:54:18.102527Z",
     "iopub.status.busy": "2023-07-14T21:54:18.102079Z",
     "iopub.status.idle": "2023-07-14T21:54:18.119577Z",
     "shell.execute_reply": "2023-07-14T21:54:18.118350Z"
    },
    "papermill": {
     "duration": 0.033036,
     "end_time": "2023-07-14T21:54:18.122173",
     "exception": false,
     "start_time": "2023-07-14T21:54:18.089137",
     "status": "completed"
    },
    "tags": []
   },
   "outputs": [
    {
     "data": {
      "text/html": [
       "<div>\n",
       "<style scoped>\n",
       "    .dataframe tbody tr th:only-of-type {\n",
       "        vertical-align: middle;\n",
       "    }\n",
       "\n",
       "    .dataframe tbody tr th {\n",
       "        vertical-align: top;\n",
       "    }\n",
       "\n",
       "    .dataframe thead th {\n",
       "        text-align: right;\n",
       "    }\n",
       "</style>\n",
       "<table border=\"1\" class=\"dataframe\">\n",
       "  <thead>\n",
       "    <tr style=\"text-align: right;\">\n",
       "      <th></th>\n",
       "      <th>min</th>\n",
       "      <th>max</th>\n",
       "    </tr>\n",
       "    <tr>\n",
       "      <th>variety</th>\n",
       "      <th></th>\n",
       "      <th></th>\n",
       "    </tr>\n",
       "  </thead>\n",
       "  <tbody>\n",
       "    <tr>\n",
       "      <th>Moscadello</th>\n",
       "      <td>30.0</td>\n",
       "      <td>55.0</td>\n",
       "    </tr>\n",
       "    <tr>\n",
       "      <th>Cerceal</th>\n",
       "      <td>30.0</td>\n",
       "      <td>54.0</td>\n",
       "    </tr>\n",
       "    <tr>\n",
       "      <th>Cabernet Sauvignon-Sangiovese</th>\n",
       "      <td>30.0</td>\n",
       "      <td>50.0</td>\n",
       "    </tr>\n",
       "    <tr>\n",
       "      <th>Malbec-Petit Verdot</th>\n",
       "      <td>30.0</td>\n",
       "      <td>49.0</td>\n",
       "    </tr>\n",
       "    <tr>\n",
       "      <th>Moscato Rosa</th>\n",
       "      <td>30.0</td>\n",
       "      <td>37.0</td>\n",
       "    </tr>\n",
       "    <tr>\n",
       "      <th>...</th>\n",
       "      <td>...</td>\n",
       "      <td>...</td>\n",
       "    </tr>\n",
       "    <tr>\n",
       "      <th>Roscetto</th>\n",
       "      <td>NaN</td>\n",
       "      <td>NaN</td>\n",
       "    </tr>\n",
       "    <tr>\n",
       "      <th>Sauvignon Blanc-Sauvignon Gris</th>\n",
       "      <td>NaN</td>\n",
       "      <td>NaN</td>\n",
       "    </tr>\n",
       "    <tr>\n",
       "      <th>Tempranillo-Malbec</th>\n",
       "      <td>NaN</td>\n",
       "      <td>NaN</td>\n",
       "    </tr>\n",
       "    <tr>\n",
       "      <th>Vital</th>\n",
       "      <td>NaN</td>\n",
       "      <td>NaN</td>\n",
       "    </tr>\n",
       "    <tr>\n",
       "      <th>Zelen</th>\n",
       "      <td>NaN</td>\n",
       "      <td>NaN</td>\n",
       "    </tr>\n",
       "  </tbody>\n",
       "</table>\n",
       "<p>657 rows × 2 columns</p>\n",
       "</div>"
      ],
      "text/plain": [
       "                                 min   max\n",
       "variety                                   \n",
       "Moscadello                      30.0  55.0\n",
       "Cerceal                         30.0  54.0\n",
       "Cabernet Sauvignon-Sangiovese   30.0  50.0\n",
       "Malbec-Petit Verdot             30.0  49.0\n",
       "Moscato Rosa                    30.0  37.0\n",
       "...                              ...   ...\n",
       "Roscetto                         NaN   NaN\n",
       "Sauvignon Blanc-Sauvignon Gris   NaN   NaN\n",
       "Tempranillo-Malbec               NaN   NaN\n",
       "Vital                            NaN   NaN\n",
       "Zelen                            NaN   NaN\n",
       "\n",
       "[657 rows x 2 columns]"
      ]
     },
     "execution_count": 11,
     "metadata": {},
     "output_type": "execute_result"
    }
   ],
   "source": [
    "sorted_varieties[50:]"
   ]
  },
  {
   "cell_type": "code",
   "execution_count": 12,
   "id": "570b16ff",
   "metadata": {
    "execution": {
     "iopub.execute_input": "2023-07-14T21:54:18.147355Z",
     "iopub.status.busy": "2023-07-14T21:54:18.146655Z",
     "iopub.status.idle": "2023-07-14T21:54:18.152572Z",
     "shell.execute_reply": "2023-07-14T21:54:18.150884Z"
    },
    "papermill": {
     "duration": 0.021872,
     "end_time": "2023-07-14T21:54:18.155487",
     "exception": false,
     "start_time": "2023-07-14T21:54:18.133615",
     "status": "completed"
    },
    "tags": []
   },
   "outputs": [],
   "source": [
    "#q4.hint()\n",
    "# q4.solution()"
   ]
  },
  {
   "cell_type": "markdown",
   "id": "606b0c41",
   "metadata": {
    "papermill": {
     "duration": 0.011794,
     "end_time": "2023-07-14T21:54:18.178962",
     "exception": false,
     "start_time": "2023-07-14T21:54:18.167168",
     "status": "completed"
    },
    "tags": []
   },
   "source": [
    "## 5.\n",
    "Create a `Series` whose index is reviewers and whose values is the average review score given out by that reviewer. Hint: you will need the `taster_name` and `points` columns."
   ]
  },
  {
   "cell_type": "code",
   "execution_count": 13,
   "id": "5d8d4f58",
   "metadata": {
    "execution": {
     "iopub.execute_input": "2023-07-14T21:54:18.205374Z",
     "iopub.status.busy": "2023-07-14T21:54:18.204892Z",
     "iopub.status.idle": "2023-07-14T21:54:18.248968Z",
     "shell.execute_reply": "2023-07-14T21:54:18.246996Z"
    },
    "papermill": {
     "duration": 0.06246,
     "end_time": "2023-07-14T21:54:18.253606",
     "exception": false,
     "start_time": "2023-07-14T21:54:18.191146",
     "status": "completed"
    },
    "tags": []
   },
   "outputs": [
    {
     "data": {
      "application/javascript": [
       "parent.postMessage({\"jupyterEvent\": \"custom.exercise_interaction\", \"data\": {\"outcomeType\": 1, \"valueTowardsCompletion\": 0.16666666666666666, \"interactionType\": 1, \"questionType\": 1, \"questionId\": \"5_ReviewerMeanRatings\", \"learnToolsVersion\": \"0.3.4\", \"failureMessage\": \"\", \"exceptionClass\": \"\", \"trace\": \"\"}}, \"*\")"
      ],
      "text/plain": [
       "<IPython.core.display.Javascript object>"
      ]
     },
     "metadata": {},
     "output_type": "display_data"
    },
    {
     "data": {
      "text/markdown": [
       "<span style=\"color:#33cc33\">Correct</span>"
      ],
      "text/plain": [
       "Correct"
      ]
     },
     "metadata": {},
     "output_type": "display_data"
    }
   ],
   "source": [
    "reviewer_mean_ratings = reviews.groupby('taster_name')['points'].mean()\n",
    "\n",
    "# Check your answer\n",
    "q5.check()"
   ]
  },
  {
   "cell_type": "code",
   "execution_count": 14,
   "id": "36cd2cc1",
   "metadata": {
    "execution": {
     "iopub.execute_input": "2023-07-14T21:54:18.280623Z",
     "iopub.status.busy": "2023-07-14T21:54:18.280232Z",
     "iopub.status.idle": "2023-07-14T21:54:18.284726Z",
     "shell.execute_reply": "2023-07-14T21:54:18.283511Z"
    },
    "papermill": {
     "duration": 0.020895,
     "end_time": "2023-07-14T21:54:18.287412",
     "exception": false,
     "start_time": "2023-07-14T21:54:18.266517",
     "status": "completed"
    },
    "tags": []
   },
   "outputs": [],
   "source": [
    "#q5.hint()\n",
    "# q5.solution()"
   ]
  },
  {
   "cell_type": "markdown",
   "id": "5ed9e271",
   "metadata": {
    "papermill": {
     "duration": 0.011365,
     "end_time": "2023-07-14T21:54:18.310605",
     "exception": false,
     "start_time": "2023-07-14T21:54:18.299240",
     "status": "completed"
    },
    "tags": []
   },
   "source": [
    "Are there significant differences in the average scores assigned by the various reviewers? Run the cell below to use the `describe()` method to see a summary of the range of values."
   ]
  },
  {
   "cell_type": "code",
   "execution_count": 15,
   "id": "ef8f5b3c",
   "metadata": {
    "execution": {
     "iopub.execute_input": "2023-07-14T21:54:18.335863Z",
     "iopub.status.busy": "2023-07-14T21:54:18.335418Z",
     "iopub.status.idle": "2023-07-14T21:54:18.352807Z",
     "shell.execute_reply": "2023-07-14T21:54:18.351466Z"
    },
    "papermill": {
     "duration": 0.033858,
     "end_time": "2023-07-14T21:54:18.356119",
     "exception": false,
     "start_time": "2023-07-14T21:54:18.322261",
     "status": "completed"
    },
    "tags": []
   },
   "outputs": [
    {
     "data": {
      "text/plain": [
       "count    19.000000\n",
       "mean     88.233026\n",
       "std       1.243610\n",
       "min      85.855422\n",
       "25%      87.323501\n",
       "50%      88.536235\n",
       "75%      88.975256\n",
       "max      90.562551\n",
       "Name: points, dtype: float64"
      ]
     },
     "execution_count": 15,
     "metadata": {},
     "output_type": "execute_result"
    }
   ],
   "source": [
    "reviewer_mean_ratings.describe()"
   ]
  },
  {
   "cell_type": "markdown",
   "id": "e46f9425",
   "metadata": {
    "papermill": {
     "duration": 0.011603,
     "end_time": "2023-07-14T21:54:18.380298",
     "exception": false,
     "start_time": "2023-07-14T21:54:18.368695",
     "status": "completed"
    },
    "tags": []
   },
   "source": [
    "## 6.\n",
    "What combination of countries and varieties are most common? Create a `Series` whose index is a `MultiIndex`of `{country, variety}` pairs. For example, a pinot noir produced in the US should map to `{\"US\", \"Pinot Noir\"}`. Sort the values in the `Series` in descending order based on wine count."
   ]
  },
  {
   "cell_type": "code",
   "execution_count": 16,
   "id": "35743067",
   "metadata": {
    "execution": {
     "iopub.execute_input": "2023-07-14T21:54:18.406695Z",
     "iopub.status.busy": "2023-07-14T21:54:18.406245Z",
     "iopub.status.idle": "2023-07-14T21:54:18.502462Z",
     "shell.execute_reply": "2023-07-14T21:54:18.498059Z"
    },
    "papermill": {
     "duration": 0.112999,
     "end_time": "2023-07-14T21:54:18.505762",
     "exception": false,
     "start_time": "2023-07-14T21:54:18.392763",
     "status": "completed"
    },
    "tags": []
   },
   "outputs": [
    {
     "data": {
      "application/javascript": [
       "parent.postMessage({\"jupyterEvent\": \"custom.exercise_interaction\", \"data\": {\"outcomeType\": 1, \"valueTowardsCompletion\": 0.16666666666666666, \"interactionType\": 1, \"questionType\": 1, \"questionId\": \"6_GroupbyCountryVariety\", \"learnToolsVersion\": \"0.3.4\", \"failureMessage\": \"\", \"exceptionClass\": \"\", \"trace\": \"\"}}, \"*\")"
      ],
      "text/plain": [
       "<IPython.core.display.Javascript object>"
      ]
     },
     "metadata": {},
     "output_type": "display_data"
    },
    {
     "data": {
      "text/markdown": [
       "<span style=\"color:#33cc33\">Correct</span>"
      ],
      "text/plain": [
       "Correct"
      ]
     },
     "metadata": {},
     "output_type": "display_data"
    }
   ],
   "source": [
    "country_variety_counts = reviews.groupby(['country', 'variety']).size().sort_values(ascending = False)\n",
    "\n",
    "# Check your answer\n",
    "q6.check()"
   ]
  },
  {
   "cell_type": "code",
   "execution_count": 17,
   "id": "92bd0477",
   "metadata": {
    "execution": {
     "iopub.execute_input": "2023-07-14T21:54:18.540096Z",
     "iopub.status.busy": "2023-07-14T21:54:18.539675Z",
     "iopub.status.idle": "2023-07-14T21:54:18.545451Z",
     "shell.execute_reply": "2023-07-14T21:54:18.543785Z"
    },
    "papermill": {
     "duration": 0.028139,
     "end_time": "2023-07-14T21:54:18.548371",
     "exception": false,
     "start_time": "2023-07-14T21:54:18.520232",
     "status": "completed"
    },
    "tags": []
   },
   "outputs": [],
   "source": [
    "#q6.hint()\n",
    "# q6.solution()"
   ]
  },
  {
   "cell_type": "markdown",
   "id": "7d1c13b4",
   "metadata": {
    "papermill": {
     "duration": 0.011758,
     "end_time": "2023-07-14T21:54:18.573454",
     "exception": false,
     "start_time": "2023-07-14T21:54:18.561696",
     "status": "completed"
    },
    "tags": []
   },
   "source": [
    "# Keep going\n",
    "\n",
    "Move on to the [**data types and missing data**](https://www.kaggle.com/residentmario/data-types-and-missing-values)."
   ]
  },
  {
   "cell_type": "markdown",
   "id": "6a920b9b",
   "metadata": {
    "papermill": {
     "duration": 0.01172,
     "end_time": "2023-07-14T21:54:18.597093",
     "exception": false,
     "start_time": "2023-07-14T21:54:18.585373",
     "status": "completed"
    },
    "tags": []
   },
   "source": [
    "---\n",
    "\n",
    "\n",
    "\n",
    "\n",
    "*Have questions or comments? Visit the [course discussion forum](https://www.kaggle.com/learn/pandas/discussion) to chat with other learners.*"
   ]
  }
 ],
 "metadata": {
  "kernelspec": {
   "display_name": "Python 3",
   "language": "python",
   "name": "python3"
  },
  "language_info": {
   "codemirror_mode": {
    "name": "ipython",
    "version": 3
   },
   "file_extension": ".py",
   "mimetype": "text/x-python",
   "name": "python",
   "nbconvert_exporter": "python",
   "pygments_lexer": "ipython3",
   "version": "3.10.12"
  },
  "papermill": {
   "default_parameters": {},
   "duration": 20.116741,
   "end_time": "2023-07-14T21:54:19.935646",
   "environment_variables": {},
   "exception": null,
   "input_path": "__notebook__.ipynb",
   "output_path": "__notebook__.ipynb",
   "parameters": {},
   "start_time": "2023-07-14T21:53:59.818905",
   "version": "2.4.0"
  }
 },
 "nbformat": 4,
 "nbformat_minor": 5
}
