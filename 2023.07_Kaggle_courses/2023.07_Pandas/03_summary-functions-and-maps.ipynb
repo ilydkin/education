{
 "cells": [
  {
   "cell_type": "markdown",
   "id": "1316dccd",
   "metadata": {
    "papermill": {
     "duration": 0.008892,
     "end_time": "2023-07-13T19:30:51.517639",
     "exception": false,
     "start_time": "2023-07-13T19:30:51.508747",
     "status": "completed"
    },
    "tags": []
   },
   "source": [
    "**This notebook is an exercise in the [Pandas](https://www.kaggle.com/learn/pandas) course.  You can reference the tutorial at [this link](https://www.kaggle.com/residentmario/summary-functions-and-maps).**\n",
    "\n",
    "---\n"
   ]
  },
  {
   "cell_type": "markdown",
   "id": "d14a25f2",
   "metadata": {
    "papermill": {
     "duration": 0.008264,
     "end_time": "2023-07-13T19:30:51.534268",
     "exception": false,
     "start_time": "2023-07-13T19:30:51.526004",
     "status": "completed"
    },
    "tags": []
   },
   "source": [
    "# Introduction\n",
    "\n",
    "Now you are ready to get a deeper understanding of your data.\n",
    "\n",
    "Run the following cell to load your data and some utility functions (including code to check your answers)."
   ]
  },
  {
   "cell_type": "code",
   "execution_count": 1,
   "id": "7c69ffad",
   "metadata": {
    "execution": {
     "iopub.execute_input": "2023-07-13T19:30:51.552881Z",
     "iopub.status.busy": "2023-07-13T19:30:51.552181Z",
     "iopub.status.idle": "2023-07-13T19:31:00.413432Z",
     "shell.execute_reply": "2023-07-13T19:31:00.411645Z"
    },
    "papermill": {
     "duration": 8.873303,
     "end_time": "2023-07-13T19:31:00.415925",
     "exception": false,
     "start_time": "2023-07-13T19:30:51.542622",
     "status": "completed"
    },
    "tags": []
   },
   "outputs": [
    {
     "name": "stdout",
     "output_type": "stream",
     "text": [
      "Setup complete.\n"
     ]
    },
    {
     "data": {
      "text/html": [
       "<div>\n",
       "<style scoped>\n",
       "    .dataframe tbody tr th:only-of-type {\n",
       "        vertical-align: middle;\n",
       "    }\n",
       "\n",
       "    .dataframe tbody tr th {\n",
       "        vertical-align: top;\n",
       "    }\n",
       "\n",
       "    .dataframe thead th {\n",
       "        text-align: right;\n",
       "    }\n",
       "</style>\n",
       "<table border=\"1\" class=\"dataframe\">\n",
       "  <thead>\n",
       "    <tr style=\"text-align: right;\">\n",
       "      <th></th>\n",
       "      <th>country</th>\n",
       "      <th>description</th>\n",
       "      <th>designation</th>\n",
       "      <th>points</th>\n",
       "      <th>price</th>\n",
       "      <th>province</th>\n",
       "      <th>region_1</th>\n",
       "      <th>region_2</th>\n",
       "      <th>taster_name</th>\n",
       "      <th>taster_twitter_handle</th>\n",
       "      <th>title</th>\n",
       "      <th>variety</th>\n",
       "      <th>winery</th>\n",
       "    </tr>\n",
       "  </thead>\n",
       "  <tbody>\n",
       "    <tr>\n",
       "      <th>0</th>\n",
       "      <td>Italy</td>\n",
       "      <td>Aromas include tropical fruit, broom, brimston...</td>\n",
       "      <td>Vulkà Bianco</td>\n",
       "      <td>87</td>\n",
       "      <td>NaN</td>\n",
       "      <td>Sicily &amp; Sardinia</td>\n",
       "      <td>Etna</td>\n",
       "      <td>NaN</td>\n",
       "      <td>Kerin O’Keefe</td>\n",
       "      <td>@kerinokeefe</td>\n",
       "      <td>Nicosia 2013 Vulkà Bianco  (Etna)</td>\n",
       "      <td>White Blend</td>\n",
       "      <td>Nicosia</td>\n",
       "    </tr>\n",
       "    <tr>\n",
       "      <th>1</th>\n",
       "      <td>Portugal</td>\n",
       "      <td>This is ripe and fruity, a wine that is smooth...</td>\n",
       "      <td>Avidagos</td>\n",
       "      <td>87</td>\n",
       "      <td>15.0</td>\n",
       "      <td>Douro</td>\n",
       "      <td>NaN</td>\n",
       "      <td>NaN</td>\n",
       "      <td>Roger Voss</td>\n",
       "      <td>@vossroger</td>\n",
       "      <td>Quinta dos Avidagos 2011 Avidagos Red (Douro)</td>\n",
       "      <td>Portuguese Red</td>\n",
       "      <td>Quinta dos Avidagos</td>\n",
       "    </tr>\n",
       "    <tr>\n",
       "      <th>2</th>\n",
       "      <td>US</td>\n",
       "      <td>Tart and snappy, the flavors of lime flesh and...</td>\n",
       "      <td>NaN</td>\n",
       "      <td>87</td>\n",
       "      <td>14.0</td>\n",
       "      <td>Oregon</td>\n",
       "      <td>Willamette Valley</td>\n",
       "      <td>Willamette Valley</td>\n",
       "      <td>Paul Gregutt</td>\n",
       "      <td>@paulgwine</td>\n",
       "      <td>Rainstorm 2013 Pinot Gris (Willamette Valley)</td>\n",
       "      <td>Pinot Gris</td>\n",
       "      <td>Rainstorm</td>\n",
       "    </tr>\n",
       "    <tr>\n",
       "      <th>3</th>\n",
       "      <td>US</td>\n",
       "      <td>Pineapple rind, lemon pith and orange blossom ...</td>\n",
       "      <td>Reserve Late Harvest</td>\n",
       "      <td>87</td>\n",
       "      <td>13.0</td>\n",
       "      <td>Michigan</td>\n",
       "      <td>Lake Michigan Shore</td>\n",
       "      <td>NaN</td>\n",
       "      <td>Alexander Peartree</td>\n",
       "      <td>NaN</td>\n",
       "      <td>St. Julian 2013 Reserve Late Harvest Riesling ...</td>\n",
       "      <td>Riesling</td>\n",
       "      <td>St. Julian</td>\n",
       "    </tr>\n",
       "    <tr>\n",
       "      <th>4</th>\n",
       "      <td>US</td>\n",
       "      <td>Much like the regular bottling from 2012, this...</td>\n",
       "      <td>Vintner's Reserve Wild Child Block</td>\n",
       "      <td>87</td>\n",
       "      <td>65.0</td>\n",
       "      <td>Oregon</td>\n",
       "      <td>Willamette Valley</td>\n",
       "      <td>Willamette Valley</td>\n",
       "      <td>Paul Gregutt</td>\n",
       "      <td>@paulgwine</td>\n",
       "      <td>Sweet Cheeks 2012 Vintner's Reserve Wild Child...</td>\n",
       "      <td>Pinot Noir</td>\n",
       "      <td>Sweet Cheeks</td>\n",
       "    </tr>\n",
       "  </tbody>\n",
       "</table>\n",
       "</div>"
      ],
      "text/plain": [
       "    country                                        description  \\\n",
       "0     Italy  Aromas include tropical fruit, broom, brimston...   \n",
       "1  Portugal  This is ripe and fruity, a wine that is smooth...   \n",
       "2        US  Tart and snappy, the flavors of lime flesh and...   \n",
       "3        US  Pineapple rind, lemon pith and orange blossom ...   \n",
       "4        US  Much like the regular bottling from 2012, this...   \n",
       "\n",
       "                          designation  points  price           province  \\\n",
       "0                        Vulkà Bianco      87    NaN  Sicily & Sardinia   \n",
       "1                            Avidagos      87   15.0              Douro   \n",
       "2                                 NaN      87   14.0             Oregon   \n",
       "3                Reserve Late Harvest      87   13.0           Michigan   \n",
       "4  Vintner's Reserve Wild Child Block      87   65.0             Oregon   \n",
       "\n",
       "              region_1           region_2         taster_name  \\\n",
       "0                 Etna                NaN       Kerin O’Keefe   \n",
       "1                  NaN                NaN          Roger Voss   \n",
       "2    Willamette Valley  Willamette Valley        Paul Gregutt   \n",
       "3  Lake Michigan Shore                NaN  Alexander Peartree   \n",
       "4    Willamette Valley  Willamette Valley        Paul Gregutt   \n",
       "\n",
       "  taster_twitter_handle                                              title  \\\n",
       "0          @kerinokeefe                  Nicosia 2013 Vulkà Bianco  (Etna)   \n",
       "1            @vossroger      Quinta dos Avidagos 2011 Avidagos Red (Douro)   \n",
       "2           @paulgwine       Rainstorm 2013 Pinot Gris (Willamette Valley)   \n",
       "3                   NaN  St. Julian 2013 Reserve Late Harvest Riesling ...   \n",
       "4           @paulgwine   Sweet Cheeks 2012 Vintner's Reserve Wild Child...   \n",
       "\n",
       "          variety               winery  \n",
       "0     White Blend              Nicosia  \n",
       "1  Portuguese Red  Quinta dos Avidagos  \n",
       "2      Pinot Gris            Rainstorm  \n",
       "3        Riesling           St. Julian  \n",
       "4      Pinot Noir         Sweet Cheeks  "
      ]
     },
     "execution_count": 1,
     "metadata": {},
     "output_type": "execute_result"
    }
   ],
   "source": [
    "import pandas as pd\n",
    "pd.set_option(\"display.max_rows\", 5)\n",
    "reviews = pd.read_csv(\"../input/wine-reviews/winemag-data-130k-v2.csv\", index_col=0)\n",
    "\n",
    "from learntools.core import binder; binder.bind(globals())\n",
    "from learntools.pandas.summary_functions_and_maps import *\n",
    "print(\"Setup complete.\")\n",
    "\n",
    "reviews.head()"
   ]
  },
  {
   "cell_type": "markdown",
   "id": "61d6d99d",
   "metadata": {
    "papermill": {
     "duration": 0.008812,
     "end_time": "2023-07-13T19:31:00.433577",
     "exception": false,
     "start_time": "2023-07-13T19:31:00.424765",
     "status": "completed"
    },
    "tags": []
   },
   "source": [
    "# Exercises"
   ]
  },
  {
   "cell_type": "markdown",
   "id": "8347df2a",
   "metadata": {
    "papermill": {
     "duration": 0.008392,
     "end_time": "2023-07-13T19:31:00.450652",
     "exception": false,
     "start_time": "2023-07-13T19:31:00.442260",
     "status": "completed"
    },
    "tags": []
   },
   "source": [
    "## 1.\n",
    "\n",
    "What is the median of the `points` column in the `reviews` DataFrame?"
   ]
  },
  {
   "cell_type": "code",
   "execution_count": 2,
   "id": "156561b8",
   "metadata": {
    "execution": {
     "iopub.execute_input": "2023-07-13T19:31:00.469994Z",
     "iopub.status.busy": "2023-07-13T19:31:00.469543Z",
     "iopub.status.idle": "2023-07-13T19:31:00.482541Z",
     "shell.execute_reply": "2023-07-13T19:31:00.481317Z"
    },
    "papermill": {
     "duration": 0.025984,
     "end_time": "2023-07-13T19:31:00.485368",
     "exception": false,
     "start_time": "2023-07-13T19:31:00.459384",
     "status": "completed"
    },
    "tags": []
   },
   "outputs": [
    {
     "data": {
      "application/javascript": [
       "parent.postMessage({\"jupyterEvent\": \"custom.exercise_interaction\", \"data\": {\"outcomeType\": 1, \"valueTowardsCompletion\": 0.14285714285714285, \"interactionType\": 1, \"questionType\": 1, \"questionId\": \"1_MedianPoints\", \"learnToolsVersion\": \"0.3.4\", \"failureMessage\": \"\", \"exceptionClass\": \"\", \"trace\": \"\"}}, \"*\")"
      ],
      "text/plain": [
       "<IPython.core.display.Javascript object>"
      ]
     },
     "metadata": {},
     "output_type": "display_data"
    },
    {
     "data": {
      "text/markdown": [
       "<span style=\"color:#33cc33\">Correct</span>"
      ],
      "text/plain": [
       "Correct"
      ]
     },
     "metadata": {},
     "output_type": "display_data"
    }
   ],
   "source": [
    "median_points = reviews.points.median()\n",
    "\n",
    "# Check your answer\n",
    "q1.check()"
   ]
  },
  {
   "cell_type": "code",
   "execution_count": 3,
   "id": "0c27c7c7",
   "metadata": {
    "execution": {
     "iopub.execute_input": "2023-07-13T19:31:00.505007Z",
     "iopub.status.busy": "2023-07-13T19:31:00.504598Z",
     "iopub.status.idle": "2023-07-13T19:31:00.509671Z",
     "shell.execute_reply": "2023-07-13T19:31:00.508371Z"
    },
    "papermill": {
     "duration": 0.017799,
     "end_time": "2023-07-13T19:31:00.512180",
     "exception": false,
     "start_time": "2023-07-13T19:31:00.494381",
     "status": "completed"
    },
    "tags": []
   },
   "outputs": [],
   "source": [
    "#q1.hint()\n",
    "#q1.solution()"
   ]
  },
  {
   "cell_type": "markdown",
   "id": "b7aa7b6e",
   "metadata": {
    "papermill": {
     "duration": 0.008909,
     "end_time": "2023-07-13T19:31:00.531625",
     "exception": false,
     "start_time": "2023-07-13T19:31:00.522716",
     "status": "completed"
    },
    "tags": []
   },
   "source": [
    "## 2. \n",
    "What countries are represented in the dataset? (Your answer should not include any duplicates.)"
   ]
  },
  {
   "cell_type": "code",
   "execution_count": 4,
   "id": "b26e86ff",
   "metadata": {
    "execution": {
     "iopub.execute_input": "2023-07-13T19:31:00.551357Z",
     "iopub.status.busy": "2023-07-13T19:31:00.550954Z",
     "iopub.status.idle": "2023-07-13T19:31:00.571871Z",
     "shell.execute_reply": "2023-07-13T19:31:00.571051Z"
    },
    "papermill": {
     "duration": 0.033424,
     "end_time": "2023-07-13T19:31:00.574049",
     "exception": false,
     "start_time": "2023-07-13T19:31:00.540625",
     "status": "completed"
    },
    "tags": []
   },
   "outputs": [
    {
     "data": {
      "application/javascript": [
       "parent.postMessage({\"jupyterEvent\": \"custom.exercise_interaction\", \"data\": {\"outcomeType\": 1, \"valueTowardsCompletion\": 0.14285714285714285, \"interactionType\": 1, \"questionType\": 2, \"questionId\": \"2_UniqueCountries\", \"learnToolsVersion\": \"0.3.4\", \"failureMessage\": \"\", \"exceptionClass\": \"\", \"trace\": \"\"}}, \"*\")"
      ],
      "text/plain": [
       "<IPython.core.display.Javascript object>"
      ]
     },
     "metadata": {},
     "output_type": "display_data"
    },
    {
     "data": {
      "text/markdown": [
       "<span style=\"color:#33cc33\">Correct</span>"
      ],
      "text/plain": [
       "Correct"
      ]
     },
     "metadata": {},
     "output_type": "display_data"
    }
   ],
   "source": [
    "countries = reviews.country.unique()\n",
    "\n",
    "# Check your answer\n",
    "q2.check()"
   ]
  },
  {
   "cell_type": "code",
   "execution_count": 5,
   "id": "f2e54e66",
   "metadata": {
    "execution": {
     "iopub.execute_input": "2023-07-13T19:31:00.594839Z",
     "iopub.status.busy": "2023-07-13T19:31:00.594414Z",
     "iopub.status.idle": "2023-07-13T19:31:00.599730Z",
     "shell.execute_reply": "2023-07-13T19:31:00.598384Z"
    },
    "papermill": {
     "duration": 0.019096,
     "end_time": "2023-07-13T19:31:00.602405",
     "exception": false,
     "start_time": "2023-07-13T19:31:00.583309",
     "status": "completed"
    },
    "tags": []
   },
   "outputs": [],
   "source": [
    "#q2.hint()\n",
    "#q2.solution()"
   ]
  },
  {
   "cell_type": "markdown",
   "id": "0c2208b4",
   "metadata": {
    "papermill": {
     "duration": 0.009132,
     "end_time": "2023-07-13T19:31:00.621015",
     "exception": false,
     "start_time": "2023-07-13T19:31:00.611883",
     "status": "completed"
    },
    "tags": []
   },
   "source": [
    "## 3.\n",
    "How often does each country appear in the dataset? Create a Series `reviews_per_country` mapping countries to the count of reviews of wines from that country."
   ]
  },
  {
   "cell_type": "code",
   "execution_count": 6,
   "id": "8e0fc738",
   "metadata": {
    "execution": {
     "iopub.execute_input": "2023-07-13T19:31:00.641239Z",
     "iopub.status.busy": "2023-07-13T19:31:00.640848Z",
     "iopub.status.idle": "2023-07-13T19:31:00.672309Z",
     "shell.execute_reply": "2023-07-13T19:31:00.671079Z"
    },
    "papermill": {
     "duration": 0.044391,
     "end_time": "2023-07-13T19:31:00.674703",
     "exception": false,
     "start_time": "2023-07-13T19:31:00.630312",
     "status": "completed"
    },
    "tags": []
   },
   "outputs": [
    {
     "data": {
      "application/javascript": [
       "parent.postMessage({\"jupyterEvent\": \"custom.exercise_interaction\", \"data\": {\"outcomeType\": 1, \"valueTowardsCompletion\": 0.14285714285714285, \"interactionType\": 1, \"questionType\": 1, \"questionId\": \"3_ReviewsPerCountry\", \"learnToolsVersion\": \"0.3.4\", \"failureMessage\": \"\", \"exceptionClass\": \"\", \"trace\": \"\"}}, \"*\")"
      ],
      "text/plain": [
       "<IPython.core.display.Javascript object>"
      ]
     },
     "metadata": {},
     "output_type": "display_data"
    },
    {
     "data": {
      "text/markdown": [
       "<span style=\"color:#33cc33\">Correct</span>"
      ],
      "text/plain": [
       "Correct"
      ]
     },
     "metadata": {},
     "output_type": "display_data"
    }
   ],
   "source": [
    "reviews_per_country = reviews.country.value_counts()\n",
    "\n",
    "# Check your answer\n",
    "q3.check()"
   ]
  },
  {
   "cell_type": "code",
   "execution_count": 7,
   "id": "3b326173",
   "metadata": {
    "execution": {
     "iopub.execute_input": "2023-07-13T19:31:00.696034Z",
     "iopub.status.busy": "2023-07-13T19:31:00.695642Z",
     "iopub.status.idle": "2023-07-13T19:31:00.700489Z",
     "shell.execute_reply": "2023-07-13T19:31:00.699042Z"
    },
    "papermill": {
     "duration": 0.018227,
     "end_time": "2023-07-13T19:31:00.702808",
     "exception": false,
     "start_time": "2023-07-13T19:31:00.684581",
     "status": "completed"
    },
    "tags": []
   },
   "outputs": [],
   "source": [
    "#q3.hint()\n",
    "#q3.solution()"
   ]
  },
  {
   "cell_type": "markdown",
   "id": "93ed3c21",
   "metadata": {
    "papermill": {
     "duration": 0.009153,
     "end_time": "2023-07-13T19:31:00.721569",
     "exception": false,
     "start_time": "2023-07-13T19:31:00.712416",
     "status": "completed"
    },
    "tags": []
   },
   "source": [
    "## 4.\n",
    "Create variable `centered_price` containing a version of the `price` column with the mean price subtracted.\n",
    "\n",
    "(Note: this 'centering' transformation is a common preprocessing step before applying various machine learning algorithms.) "
   ]
  },
  {
   "cell_type": "code",
   "execution_count": 8,
   "id": "d5b3694b",
   "metadata": {
    "execution": {
     "iopub.execute_input": "2023-07-13T19:31:00.742520Z",
     "iopub.status.busy": "2023-07-13T19:31:00.742119Z",
     "iopub.status.idle": "2023-07-13T19:31:00.752868Z",
     "shell.execute_reply": "2023-07-13T19:31:00.751921Z"
    },
    "papermill": {
     "duration": 0.023939,
     "end_time": "2023-07-13T19:31:00.755124",
     "exception": false,
     "start_time": "2023-07-13T19:31:00.731185",
     "status": "completed"
    },
    "tags": []
   },
   "outputs": [
    {
     "data": {
      "application/javascript": [
       "parent.postMessage({\"jupyterEvent\": \"custom.exercise_interaction\", \"data\": {\"outcomeType\": 1, \"valueTowardsCompletion\": 0.14285714285714285, \"interactionType\": 1, \"questionType\": 1, \"questionId\": \"4_CenteredPrice\", \"learnToolsVersion\": \"0.3.4\", \"failureMessage\": \"\", \"exceptionClass\": \"\", \"trace\": \"\"}}, \"*\")"
      ],
      "text/plain": [
       "<IPython.core.display.Javascript object>"
      ]
     },
     "metadata": {},
     "output_type": "display_data"
    },
    {
     "data": {
      "text/markdown": [
       "<span style=\"color:#33cc33\">Correct</span>"
      ],
      "text/plain": [
       "Correct"
      ]
     },
     "metadata": {},
     "output_type": "display_data"
    }
   ],
   "source": [
    "centered_price = reviews.price - reviews.price.mean()\n",
    "\n",
    "# Check your answer\n",
    "q4.check()"
   ]
  },
  {
   "cell_type": "code",
   "execution_count": 9,
   "id": "ad73522a",
   "metadata": {
    "execution": {
     "iopub.execute_input": "2023-07-13T19:31:00.776866Z",
     "iopub.status.busy": "2023-07-13T19:31:00.776424Z",
     "iopub.status.idle": "2023-07-13T19:31:00.781463Z",
     "shell.execute_reply": "2023-07-13T19:31:00.780263Z"
    },
    "papermill": {
     "duration": 0.0186,
     "end_time": "2023-07-13T19:31:00.783729",
     "exception": false,
     "start_time": "2023-07-13T19:31:00.765129",
     "status": "completed"
    },
    "tags": []
   },
   "outputs": [],
   "source": [
    "#q4.hint()\n",
    "# q4.solution()"
   ]
  },
  {
   "cell_type": "markdown",
   "id": "ad893ef3",
   "metadata": {
    "papermill": {
     "duration": 0.009579,
     "end_time": "2023-07-13T19:31:00.803424",
     "exception": false,
     "start_time": "2023-07-13T19:31:00.793845",
     "status": "completed"
    },
    "tags": []
   },
   "source": [
    "## 5.\n",
    "I'm an economical wine buyer. Which wine is the \"best bargain\"? Create a variable `bargain_wine` with the title of the wine with the highest points-to-price ratio in the dataset."
   ]
  },
  {
   "cell_type": "code",
   "execution_count": 10,
   "id": "7a0f8d38",
   "metadata": {
    "execution": {
     "iopub.execute_input": "2023-07-13T19:31:00.824980Z",
     "iopub.status.busy": "2023-07-13T19:31:00.824585Z",
     "iopub.status.idle": "2023-07-13T19:31:00.838921Z",
     "shell.execute_reply": "2023-07-13T19:31:00.837689Z"
    },
    "papermill": {
     "duration": 0.028291,
     "end_time": "2023-07-13T19:31:00.841574",
     "exception": false,
     "start_time": "2023-07-13T19:31:00.813283",
     "status": "completed"
    },
    "tags": []
   },
   "outputs": [
    {
     "data": {
      "application/javascript": [
       "parent.postMessage({\"jupyterEvent\": \"custom.exercise_interaction\", \"data\": {\"outcomeType\": 1, \"valueTowardsCompletion\": 0.14285714285714285, \"interactionType\": 1, \"questionType\": 2, \"questionId\": \"5_BargainWine\", \"learnToolsVersion\": \"0.3.4\", \"failureMessage\": \"\", \"exceptionClass\": \"\", \"trace\": \"\"}}, \"*\")"
      ],
      "text/plain": [
       "<IPython.core.display.Javascript object>"
      ]
     },
     "metadata": {},
     "output_type": "display_data"
    },
    {
     "data": {
      "text/markdown": [
       "<span style=\"color:#33cc33\">Correct</span>"
      ],
      "text/plain": [
       "Correct"
      ]
     },
     "metadata": {},
     "output_type": "display_data"
    }
   ],
   "source": [
    "best_bargain = (reviews.points / reviews.price).idxmax()\n",
    "bargain_wine = reviews.loc[best_bargain, 'title']\n",
    "\n",
    "# Check your answer\n",
    "q5.check()"
   ]
  },
  {
   "cell_type": "code",
   "execution_count": 11,
   "id": "df452f97",
   "metadata": {
    "execution": {
     "iopub.execute_input": "2023-07-13T19:31:00.864282Z",
     "iopub.status.busy": "2023-07-13T19:31:00.863820Z",
     "iopub.status.idle": "2023-07-13T19:31:00.868246Z",
     "shell.execute_reply": "2023-07-13T19:31:00.867033Z"
    },
    "papermill": {
     "duration": 0.018845,
     "end_time": "2023-07-13T19:31:00.870815",
     "exception": false,
     "start_time": "2023-07-13T19:31:00.851970",
     "status": "completed"
    },
    "tags": []
   },
   "outputs": [],
   "source": [
    "# q5.hint()\n",
    "# q5.solution()"
   ]
  },
  {
   "cell_type": "markdown",
   "id": "7c73c11d",
   "metadata": {
    "papermill": {
     "duration": 0.009916,
     "end_time": "2023-07-13T19:31:00.891070",
     "exception": false,
     "start_time": "2023-07-13T19:31:00.881154",
     "status": "completed"
    },
    "tags": []
   },
   "source": [
    "## 6.\n",
    "There are only so many words you can use when describing a bottle of wine. Is a wine more likely to be \"tropical\" or \"fruity\"? Create a Series `descriptor_counts` counting how many times each of these two words appears in the `description` column in the dataset. (For simplicity, let's ignore the capitalized versions of these words.)"
   ]
  },
  {
   "cell_type": "code",
   "execution_count": 12,
   "id": "1730883e",
   "metadata": {
    "execution": {
     "iopub.execute_input": "2023-07-13T19:31:00.913393Z",
     "iopub.status.busy": "2023-07-13T19:31:00.912935Z",
     "iopub.status.idle": "2023-07-13T19:31:01.078723Z",
     "shell.execute_reply": "2023-07-13T19:31:01.077432Z"
    },
    "papermill": {
     "duration": 0.180658,
     "end_time": "2023-07-13T19:31:01.082027",
     "exception": false,
     "start_time": "2023-07-13T19:31:00.901369",
     "status": "completed"
    },
    "tags": []
   },
   "outputs": [
    {
     "data": {
      "application/javascript": [
       "parent.postMessage({\"jupyterEvent\": \"custom.exercise_interaction\", \"data\": {\"outcomeType\": 1, \"valueTowardsCompletion\": 0.14285714285714285, \"interactionType\": 1, \"questionType\": 1, \"questionId\": \"6_DescriptorCounts\", \"learnToolsVersion\": \"0.3.4\", \"failureMessage\": \"\", \"exceptionClass\": \"\", \"trace\": \"\"}}, \"*\")"
      ],
      "text/plain": [
       "<IPython.core.display.Javascript object>"
      ]
     },
     "metadata": {},
     "output_type": "display_data"
    },
    {
     "data": {
      "text/markdown": [
       "<span style=\"color:#33cc33\">Correct</span>"
      ],
      "text/plain": [
       "Correct"
      ]
     },
     "metadata": {},
     "output_type": "display_data"
    }
   ],
   "source": [
    "n_tropical = reviews.description.map(lambda desc: \"tropical\" in desc).sum()\n",
    "n_fruity = reviews.description.map(lambda desc: \"fruity\" in desc).sum()\n",
    "descriptor_counts = pd.Series([n_tropical, n_fruity], index=['tropical', 'fruity'])\n",
    "\n",
    "# Check your answer\n",
    "q6.check()"
   ]
  },
  {
   "cell_type": "code",
   "execution_count": 13,
   "id": "1d41e922",
   "metadata": {
    "execution": {
     "iopub.execute_input": "2023-07-13T19:31:01.104840Z",
     "iopub.status.busy": "2023-07-13T19:31:01.104426Z",
     "iopub.status.idle": "2023-07-13T19:31:01.109477Z",
     "shell.execute_reply": "2023-07-13T19:31:01.108153Z"
    },
    "papermill": {
     "duration": 0.019578,
     "end_time": "2023-07-13T19:31:01.112089",
     "exception": false,
     "start_time": "2023-07-13T19:31:01.092511",
     "status": "completed"
    },
    "tags": []
   },
   "outputs": [],
   "source": [
    "#q6.hint()\n",
    "# q6.solution()"
   ]
  },
  {
   "cell_type": "markdown",
   "id": "4713c95d",
   "metadata": {
    "papermill": {
     "duration": 0.010108,
     "end_time": "2023-07-13T19:31:01.132758",
     "exception": false,
     "start_time": "2023-07-13T19:31:01.122650",
     "status": "completed"
    },
    "tags": []
   },
   "source": [
    "## 7.\n",
    "We'd like to host these wine reviews on our website, but a rating system ranging from 80 to 100 points is too hard to understand - we'd like to translate them into simple star ratings. A score of 95 or higher counts as 3 stars, a score of at least 85 but less than 95 is 2 stars. Any other score is 1 star.\n",
    "\n",
    "Also, the Canadian Vintners Association bought a lot of ads on the site, so any wines from Canada should automatically get 3 stars, regardless of points.\n",
    "\n",
    "Create a series `star_ratings` with the number of stars corresponding to each review in the dataset."
   ]
  },
  {
   "cell_type": "code",
   "execution_count": 14,
   "id": "82fd5c49",
   "metadata": {
    "execution": {
     "iopub.execute_input": "2023-07-13T19:31:01.155470Z",
     "iopub.status.busy": "2023-07-13T19:31:01.155040Z",
     "iopub.status.idle": "2023-07-13T19:31:06.531528Z",
     "shell.execute_reply": "2023-07-13T19:31:06.530359Z"
    },
    "papermill": {
     "duration": 5.390791,
     "end_time": "2023-07-13T19:31:06.534101",
     "exception": false,
     "start_time": "2023-07-13T19:31:01.143310",
     "status": "completed"
    },
    "tags": []
   },
   "outputs": [
    {
     "data": {
      "application/javascript": [
       "parent.postMessage({\"jupyterEvent\": \"custom.exercise_interaction\", \"data\": {\"outcomeType\": 1, \"valueTowardsCompletion\": 0.14285714285714285, \"interactionType\": 1, \"questionType\": 1, \"questionId\": \"7_StarRatings\", \"learnToolsVersion\": \"0.3.4\", \"failureMessage\": \"\", \"exceptionClass\": \"\", \"trace\": \"\"}}, \"*\")"
      ],
      "text/plain": [
       "<IPython.core.display.Javascript object>"
      ]
     },
     "metadata": {},
     "output_type": "display_data"
    },
    {
     "data": {
      "text/markdown": [
       "<span style=\"color:#33cc33\">Correct</span>"
      ],
      "text/plain": [
       "Correct"
      ]
     },
     "metadata": {},
     "output_type": "display_data"
    }
   ],
   "source": [
    "def stars(x):\n",
    "    if x.country == 'Canada':\n",
    "        return 3\n",
    "    elif x.points >= 95:\n",
    "        return 3\n",
    "    elif x.points >= 85:\n",
    "        return 2\n",
    "    else:\n",
    "        return 1\n",
    "\n",
    "star_ratings = reviews.apply(stars, axis=1)\n",
    "\n",
    "# Check your answer\n",
    "q7.check()"
   ]
  },
  {
   "cell_type": "code",
   "execution_count": 15,
   "id": "ece5bb50",
   "metadata": {
    "execution": {
     "iopub.execute_input": "2023-07-13T19:31:06.558340Z",
     "iopub.status.busy": "2023-07-13T19:31:06.557907Z",
     "iopub.status.idle": "2023-07-13T19:31:06.562814Z",
     "shell.execute_reply": "2023-07-13T19:31:06.561500Z"
    },
    "papermill": {
     "duration": 0.020003,
     "end_time": "2023-07-13T19:31:06.565140",
     "exception": false,
     "start_time": "2023-07-13T19:31:06.545137",
     "status": "completed"
    },
    "tags": []
   },
   "outputs": [],
   "source": [
    "# q7.hint()\n",
    "# q7.solution()"
   ]
  },
  {
   "cell_type": "markdown",
   "id": "3040b1d7",
   "metadata": {
    "papermill": {
     "duration": 0.011825,
     "end_time": "2023-07-13T19:31:06.588744",
     "exception": false,
     "start_time": "2023-07-13T19:31:06.576919",
     "status": "completed"
    },
    "tags": []
   },
   "source": [
    "# Keep going\n",
    "Continue to **[grouping and sorting](https://www.kaggle.com/residentmario/grouping-and-sorting)**."
   ]
  },
  {
   "cell_type": "markdown",
   "id": "b2863253",
   "metadata": {
    "papermill": {
     "duration": 0.010961,
     "end_time": "2023-07-13T19:31:06.611137",
     "exception": false,
     "start_time": "2023-07-13T19:31:06.600176",
     "status": "completed"
    },
    "tags": []
   },
   "source": [
    "---\n",
    "\n",
    "\n",
    "\n",
    "\n",
    "*Have questions or comments? Visit the [course discussion forum](https://www.kaggle.com/learn/pandas/discussion) to chat with other learners.*"
   ]
  }
 ],
 "metadata": {
  "kernelspec": {
   "display_name": "Python 3",
   "language": "python",
   "name": "python3"
  },
  "language_info": {
   "codemirror_mode": {
    "name": "ipython",
    "version": 3
   },
   "file_extension": ".py",
   "mimetype": "text/x-python",
   "name": "python",
   "nbconvert_exporter": "python",
   "pygments_lexer": "ipython3",
   "version": "3.10.12"
  },
  "papermill": {
   "default_parameters": {},
   "duration": 29.822056,
   "end_time": "2023-07-13T19:31:09.390585",
   "environment_variables": {},
   "exception": null,
   "input_path": "__notebook__.ipynb",
   "output_path": "__notebook__.ipynb",
   "parameters": {},
   "start_time": "2023-07-13T19:30:39.568529",
   "version": "2.4.0"
  }
 },
 "nbformat": 4,
 "nbformat_minor": 5
}
