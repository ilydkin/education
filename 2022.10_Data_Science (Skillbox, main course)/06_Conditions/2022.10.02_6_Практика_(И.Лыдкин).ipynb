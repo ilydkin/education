{
 "cells": [
  {
   "cell_type": "markdown",
   "metadata": {
    "id": "3iE7SlVLJzFj"
   },
   "source": [
    "# Условия. Домашнее задание\n",
    "\n",
    "### Цели домашнего задания \n",
    "- Научиться самостоятельно писать программы с условиями, используя конструкции if, elif, else. \n",
    "- Повторить условные операторы. \n",
    "- Научиться обходить ошибки.\n",
    "\n",
    "### Что нужно сделать\n",
    "Скачайте файл с описанием задания, откройте его через Jupyter Notebook и выполните предложенные задачи.\n",
    "\n",
    "### Что оценивается\n",
    "Для каждой задачи:\n",
    "- Программа выполняет все описанные в задаче действия.\n",
    "- Результаты вычислений и применённых операций корректны.\n",
    "- Вывод производится в том виде, который описан в задаче.\n",
    "- Переменные имеют информативные названия.\n",
    "\n",
    "Работа засчитывается, если в каждой задаче вы верно выполнили хотя бы один из вариантов.\n",
    "\n",
    "### Как отправить задание на проверку\n",
    "Выполните предложенные задачи, сохраните изменения, используя опцию Save and Checkpoint из вкладки меню File или кнопку Save and Checkpoint на панели инструментов. Итоговый файл .ipynb (файл Jupyter Notebook) или ссылку на него отправьте через форму ниже.\n"
   ]
  },
  {
   "cell_type": "markdown",
   "metadata": {
    "id": "ox1eK32yNqUe"
   },
   "source": [
    "1. Напишите программу, которая запрашивает на ввод целое число, проверяет, является ли число чётным. Если число чётное — выводит на экран «Это чётное число», если число нечётное — выводит «Это нечётное число»."
   ]
  },
  {
   "cell_type": "code",
   "execution_count": 4,
   "metadata": {
    "id": "jnzimAHGKFiq"
   },
   "outputs": [
    {
     "name": "stdout",
     "output_type": "stream",
     "text": [
      "please enter an integer 0\n",
      "you've entered an even number\n"
     ]
    }
   ],
   "source": [
    "# Запрашиваем число на ввод и сохраняем его в переменную\n",
    "number = int(input( \"please enter an integer \"))\n",
    "\n",
    "# Пишем условие с помощью if и else\n",
    "if number % 2 == 0:\n",
    "    print (\"you've entered an even number\")\n",
    "else:\n",
    "    print (\"you've entered an odd number\")"
   ]
  },
  {
   "cell_type": "markdown",
   "metadata": {
    "id": "DLvHACXEQEND"
   },
   "source": [
    "2. Напишите программу, которая запрашивает на ввод число и проверяет, является ли оно положительным или отрицательным. Если число положительное — программа умножает его на два и выводит на экран новое значение. Если число отрицательное — делит его на три и выводит на экран новое значение. Если ввели ноль — выводит сообщение, что введённое число равно нулю."
   ]
  },
  {
   "cell_type": "code",
   "execution_count": 12,
   "metadata": {
    "id": "fmzq6ttNRIlq"
   },
   "outputs": [
    {
     "name": "stdout",
     "output_type": "stream",
     "text": [
      "please enter an integer 0\n",
      "Why would you put a zero there? Gosh, you are tidious!\n"
     ]
    }
   ],
   "source": [
    "# Запрашиваем число на ввод и сохраняем его в переменную\n",
    "number = int(input(\"please enter an integer \"))\n",
    "\n",
    "# Пишем условие с помощью if, elif и else\n",
    "\n",
    "if number > 0:\n",
    "    print (\"here we go. Behold the dobble value \", number * 2)\n",
    "elif number < 0:\n",
    "    print (\"One third of your negative figure makes \", int(number / 3))\n",
    "else:\n",
    "    print (\"Why would you put a zero there? Gosh, you are tidious!\")"
   ]
  },
  {
   "cell_type": "markdown",
   "metadata": {
    "id": "KWpUGm0LSAnR"
   },
   "source": [
    "3. Напишите программу, которая запрашивает на ввод целое число. Если квадрат этого числа больше или равен 100, программа должна сообщить, что это двузначное число. После этого нужно проверить, положительное оно или отрицательное, и вывести ответ на экран. Если квадрат числа меньше 100, надо проверить, чётное оно или нечётное и также вывести ответ на экран.\n"
   ]
  },
  {
   "cell_type": "code",
   "execution_count": 5,
   "metadata": {
    "id": "e2eYF18ISBpz"
   },
   "outputs": [
    {
     "name": "stdout",
     "output_type": "stream",
     "text": [
      "please enter an integer 5\n",
      "looks like you've entered a one-digit number\n",
      "it's odd\n",
      "and it's a positive number\n"
     ]
    }
   ],
   "source": [
    "# Запрашиваем число на ввод и сохраняем его в переменную\n",
    "number = int(input(\"please enter an integer \"))\n",
    "\n",
    "# Комментарий: Больше 100 бутут квадраты всех n-значных чисел, кроме однозначных. \n",
    "# Неверно было бы для всех выводить сообщение \"вы ввели двузначное число\".\n",
    "# Поэтому я \"от себя\" поставил ограничение на ввод значений от -99 до 99.\n",
    "# Надеюсь, что дополнение корректное.\n",
    "\n",
    "if number ** 2 >= 100 and number ** 2 <= 9801:\n",
    "    print (\"looks like you've entered a two-digit number\")\n",
    "elif number ** 2 > 0 and number ** 2 < 100:\n",
    "    print (\"looks like you've entered a one-digit number\")\n",
    "    if number % 2 == 0:\n",
    "        print (\"it's even\")\n",
    "    else:\n",
    "        print (\"it's odd\")\n",
    "else:\n",
    "    print (\"please enter an integer between -99 and 99\")\n",
    " \n",
    "if number >= 0:\n",
    "    print (\"and it's a positive number\")\n",
    "else:\n",
    "    print (\"and it's a negative number\")"
   ]
  },
  {
   "cell_type": "markdown",
   "metadata": {
    "id": "G6zmz--CVg-h"
   },
   "source": [
    "4. Напишите одну и ту же программу тремя способами. Программа должна запрашивать на ввод любое значение. Если на ввод ничего не получено, программа должна выводить сообщение «Вы ничего не ввели». Если получено хоть что-то, программа должна выводить на экран то, что она получила на ввод.\n",
    "Напишите три варианта: используя оператор not, используя оператор сравнения != и используя переменную в качестве булева значения.\n"
   ]
  },
  {
   "cell_type": "code",
   "execution_count": 8,
   "metadata": {
    "id": "zTDAGFQBRRn2"
   },
   "outputs": [
    {
     "name": "stdout",
     "output_type": "stream",
     "text": [
      "pess some buttons please \n",
      "you didn't enter anything\n"
     ]
    }
   ],
   "source": [
    "# Запрашиваем что-то на ввод\n",
    "word = input (\"pess some buttons please \")\n",
    "\n",
    "# Пишем программу, используя not\n",
    "if not word:\n",
    "    print (\"you didn't enter anything\")\n",
    "else:\n",
    "    print (word)"
   ]
  },
  {
   "cell_type": "code",
   "execution_count": 10,
   "metadata": {
    "id": "xphTS5YvW14J"
   },
   "outputs": [
    {
     "name": "stdout",
     "output_type": "stream",
     "text": [
      "pess some buttons please \n",
      "you didn't enter anything\n"
     ]
    }
   ],
   "source": [
    "# Запрашиваем что-то на ввод\n",
    "word = input (\"pess some buttons please \")\n",
    "\n",
    "# Пишем программу, используя оператор сравнения !=\n",
    "if len (word) != 0:\n",
    "    print (word)\n",
    "else:\n",
    "    print (\"you didn't enter anything\")"
   ]
  },
  {
   "cell_type": "code",
   "execution_count": 13,
   "metadata": {
    "id": "kOL4g6awW5ZI"
   },
   "outputs": [
    {
     "name": "stdout",
     "output_type": "stream",
     "text": [
      "pess some buttons please \n",
      "you didn't enter anything\n"
     ]
    }
   ],
   "source": [
    "# Запрашиваем что-то на ввод\n",
    "word = input (\"pess some buttons please \")\n",
    "\n",
    "# Пишем программу, используя переменную word как булево значение. Пустая строка значит False, любая непустая строка значит True\n",
    "\n",
    "if word:\n",
    "    print (word)\n",
    "else:\n",
    "    print (\"you didn't enter anything\")"
   ]
  },
  {
   "cell_type": "markdown",
   "metadata": {
    "id": "HpvK5UU2YwqM"
   },
   "source": [
    "5. В приведённом ниже примере поправьте отступы так, чтобы программа исполнялась корректно."
   ]
  },
  {
   "cell_type": "code",
   "execution_count": 14,
   "metadata": {
    "id": "M2c71k3obLcc"
   },
   "outputs": [
    {
     "name": "stdout",
     "output_type": "stream",
     "text": [
      "Введите целое число 8\n",
      "Квадрат введенного числа равен  64\n"
     ]
    }
   ],
   "source": [
    "number = int(input('Введите целое число '))\n",
    "if number > 5:\n",
    "    square = number ** 2\n",
    "    print('Квадрат введенного числа равен ', square)\n",
    "else:\n",
    "    cubed = number ** 3\n",
    "    print('Куб введенного числа равен ', cubed)"
   ]
  },
  {
   "cell_type": "markdown",
   "metadata": {
    "id": "9XFupGaMeYhH"
   },
   "source": [
    "6. В приведённом примере поправьте отступы так, чтобы ответы программы стали логически соответствовать введённым параметрам."
   ]
  },
  {
   "cell_type": "code",
   "execution_count": 15,
   "metadata": {
    "id": "TxJ5HgsKa5Mg"
   },
   "outputs": [
    {
     "name": "stdout",
     "output_type": "stream",
     "text": [
      "У вас кошка или собака? собака\n",
      "Сколько он/она весит? 22\n",
      "У вас собака - замечательно!\n",
      "Понятно, это большая собака\n"
     ]
    }
   ],
   "source": [
    "animal = input(\"У вас кошка или собака? \")\n",
    "weight = float(input(\"Сколько он/она весит? \"))\n",
    "\n",
    "if animal == 'кошка':\n",
    "    print('У вас кошка - это прекрасно!')\n",
    "elif animal == 'собака':\n",
    "    print('У вас собака - замечательно!')\n",
    "    if weight > 20:\n",
    "        print(\"Понятно, это большая собака\")\n",
    "else:\n",
    "    print(\"У вас не собака и не кошка. Ясно.\")"
   ]
  },
  {
   "cell_type": "markdown",
   "metadata": {
    "id": "muWVQqbRmzVl"
   },
   "source": [
    "7. Предположим, что вы (внезапно!) занимаетесь программой улучшения жилищных условий населения. Вы работаете с базой данных, где есть информация о жилой площади квартир и количестве зарегистрированных в них людей. У вас есть простая программа, которая принимает на ввод два этих параметра, а на печать выводит площадь, делённую на количество жильцов."
   ]
  },
  {
   "cell_type": "code",
   "execution_count": null,
   "metadata": {
    "id": "1IEQ9SqFk3_f"
   },
   "outputs": [],
   "source": [
    "# Записываем ввод данных\n",
    "space = float(input('Введите площадь квартиры'))\n",
    "residents = int(input('Введите количество зарегистрированных жильцов'))\n",
    "\n",
    "# Выводим результат деления одного на другое\n",
    "\n",
    "print('На каждого жильца приходится по', space / residents, 'квадратных метров жилой площади')"
   ]
  },
  {
   "cell_type": "markdown",
   "metadata": {
    "id": "XNhqI1jDpXmm"
   },
   "source": [
    "Но есть такие квартиры, где никто не зарегистрирован. И когда вы вводите количество жильцов, равное нулю, программа выдаёт ошибку, потому что делить на ноль нельзя.\n",
    "\n",
    "Измените программу так, чтобы она выполнялась даже при введения нуля в знаменателе и вместо ошибки выводила сообщение о том, что не удалось посчитать значение.\n",
    "\n",
    "Сделайте это двумя способами: с помощью условий if, else и с помощью конструкции try, except.\n"
   ]
  },
  {
   "cell_type": "code",
   "execution_count": 17,
   "metadata": {
    "id": "hhdkS4okpE1d"
   },
   "outputs": [
    {
     "name": "stdout",
     "output_type": "stream",
     "text": [
      "Введите площадь квартиры 22\n",
      "Введите количество зарегистрированных жильцов 2\n",
      "На каждого жильца приходится по 11.0 квадратных метров жилой площади\n"
     ]
    }
   ],
   "source": [
    "# Первый вариант\n",
    "# Записываем ввод данных\n",
    "space = float(input('Введите площадь квартиры '))\n",
    "residents = int(input('Введите количество зарегистрированных жильцов '))\n",
    "\n",
    "# Проверяем с помощью условий if, else и выводим результат деления площади на количество или сообщение о том, что деление не получилось\n",
    "if residents > 0:\n",
    "    print('На каждого жильца приходится по', space / residents, 'квадратных метров жилой площади')\n",
    "else:\n",
    "    print(\"Невозможно посчитать площадь для 0 жильцов \")"
   ]
  },
  {
   "cell_type": "code",
   "execution_count": 1,
   "metadata": {
    "id": "O-q-AtlQreG6"
   },
   "outputs": [
    {
     "name": "stdout",
     "output_type": "stream",
     "text": [
      "Введите площадь квартиры 55\n",
      "Введите количество зарегистрированных жильцов 5\n",
      "На каждого жильца приходится по 11.0 квадратных метров жилой площади\n"
     ]
    }
   ],
   "source": [
    "# Второй вариант\n",
    "# Записываем ввод данных\n",
    "space = float(input('Введите площадь квартиры '))\n",
    "residents = int(input('Введите количество зарегистрированных жильцов '))\n",
    "\n",
    "#  Проверяем с помощью конструкции try, except и выводим результат деления площади на количество жильцов или сообщение о том, что деление не получилось\n",
    "try:\n",
    "    print('На каждого жильца приходится по', space / residents, 'квадратных метров жилой площади')\n",
    "except:\n",
    "    print(\"Невозможно посчитать площадь для 0 жильцов \")"
   ]
  },
  {
   "cell_type": "code",
   "execution_count": null,
   "metadata": {},
   "outputs": [],
   "source": []
  }
 ],
 "metadata": {
  "colab": {
   "collapsed_sections": [],
   "name": "6.7_Домашнее_задание.ipynb",
   "provenance": []
  },
  "kernelspec": {
   "display_name": "Python 3 (ipykernel)",
   "language": "python",
   "name": "python3"
  },
  "language_info": {
   "codemirror_mode": {
    "name": "ipython",
    "version": 3
   },
   "file_extension": ".py",
   "mimetype": "text/x-python",
   "name": "python",
   "nbconvert_exporter": "python",
   "pygments_lexer": "ipython3",
   "version": "3.9.12"
  }
 },
 "nbformat": 4,
 "nbformat_minor": 1
}
