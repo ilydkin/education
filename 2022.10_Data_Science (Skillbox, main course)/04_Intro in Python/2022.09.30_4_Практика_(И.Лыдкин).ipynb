{
 "cells": [
  {
   "cell_type": "markdown",
   "id": "a46773f4",
   "metadata": {
    "id": "a46773f4"
   },
   "source": [
    "# Цель домашнего задания:\n",
    "## Повторить пройденный в модуле материал:\n",
    "* работа в Jupyter Notebook;\n",
    "* арифметические операции;\n",
    "* работа с функцией print()."
   ]
  },
  {
   "cell_type": "markdown",
   "id": "9523c736",
   "metadata": {
    "id": "9523c736"
   },
   "source": [
    "## Что нужно сделать:"
   ]
  },
  {
   "cell_type": "markdown",
   "id": "edc32e30",
   "metadata": {
    "id": "edc32e30"
   },
   "source": [
    "1. В вашем отделе работает пять человек, их возраст 23, 27, 33, 41 и 62 года. Создайте новую ячейку и напишите в ней выражение, которое рассчитало бы средний возраст сотрудника вашего отдела."
   ]
  },
  {
   "cell_type": "code",
   "execution_count": 1,
   "id": "581a7465",
   "metadata": {},
   "outputs": [
    {
     "data": {
      "text/plain": [
       "37.2"
      ]
     },
     "execution_count": 1,
     "metadata": {},
     "output_type": "execute_result"
    }
   ],
   "source": [
    "(23 + 27 + 33 + 41 + 62) / 5  "
   ]
  },
  {
   "cell_type": "markdown",
   "id": "ba0254b5",
   "metadata": {
    "id": "ba0254b5"
   },
   "source": [
    "2. По наследству вам досталась советская кафельная плитка размером 15х15 см, 200 штук. Создайте новую ячейку и напишите в ней выражение, которое рассчитывало бы площадь этой плитки в квадратных метрах."
   ]
  },
  {
   "cell_type": "code",
   "execution_count": 2,
   "id": "b0081cc1",
   "metadata": {},
   "outputs": [
    {
     "data": {
      "text/plain": [
       "4.5"
      ]
     },
     "execution_count": 2,
     "metadata": {},
     "output_type": "execute_result"
    }
   ],
   "source": [
    "0.15 * 0.15 * 200"
   ]
  },
  {
   "cell_type": "markdown",
   "id": "56062770",
   "metadata": {
    "id": "56062770"
   },
   "source": [
    "3. Ваш друг решил заработать на День Святого Валентина. Он купил 5 упаковок роз по 100 штук в каждой и собрал их в букеты по 7 роз. Создайте новую ячейку и напишите выражение, которое рассчитывает, сколько целых букетов получится у вашего друга."
   ]
  },
  {
   "cell_type": "code",
   "execution_count": 3,
   "id": "911d2f20",
   "metadata": {},
   "outputs": [
    {
     "data": {
      "text/plain": [
       "71"
      ]
     },
     "execution_count": 3,
     "metadata": {},
     "output_type": "execute_result"
    }
   ],
   "source": [
    "5 * 100 // 7"
   ]
  },
  {
   "cell_type": "markdown",
   "id": "4671d6bb",
   "metadata": {
    "id": "4671d6bb"
   },
   "source": [
    "4. Сколько роз останется у вашего друга после того, как он соберет последний полный букет? В новой ячейке напишите выражение, которое рассчитывает это число."
   ]
  },
  {
   "cell_type": "code",
   "execution_count": 4,
   "id": "c46d8c15",
   "metadata": {},
   "outputs": [
    {
     "data": {
      "text/plain": [
       "3"
      ]
     },
     "execution_count": 4,
     "metadata": {},
     "output_type": "execute_result"
    }
   ],
   "source": [
    "5 * 100 % 7"
   ]
  },
  {
   "cell_type": "markdown",
   "id": "cd1c1a60",
   "metadata": {
    "id": "cd1c1a60"
   },
   "source": [
    "5. Используя функцию print() в новой ячейке, напишите команду, которая выведет на экран ваше имя."
   ]
  },
  {
   "cell_type": "code",
   "execution_count": 5,
   "id": "8ff15f6f",
   "metadata": {},
   "outputs": [
    {
     "name": "stdout",
     "output_type": "stream",
     "text": [
      "Ivan\n"
     ]
    }
   ],
   "source": [
    "print (\"Ivan\")"
   ]
  },
  {
   "cell_type": "markdown",
   "id": "3111cf4d",
   "metadata": {
    "id": "3111cf4d"
   },
   "source": [
    "6. Запустите ячейку ниже и посмотрите, что получилось. Добавьте разделитель (аргумент sep), чтобы на выходе получилось, как у Блока в оригинале:"
   ]
  },
  {
   "cell_type": "code",
   "execution_count": 8,
   "id": "43d34899",
   "metadata": {
    "id": "43d34899"
   },
   "outputs": [
    {
     "name": "stdout",
     "output_type": "stream",
     "text": [
      "Ночь, улица, фонарь, аптека\n"
     ]
    }
   ],
   "source": [
    "print('Ночь','улица','фонарь','аптека', sep= \", \")"
   ]
  },
  {
   "cell_type": "markdown",
   "id": "978eb37b",
   "metadata": {
    "id": "978eb37b"
   },
   "source": [
    "7. На бензозаправке вы поняли, что проехав 255 км, вы потратили 19 литров бензина. Дополните команду в следующей ячейке таким образом, чтобы к тексту она выводила ещё и значение расхода:"
   ]
  },
  {
   "cell_type": "code",
   "execution_count": 15,
   "id": "23105d1d",
   "metadata": {
    "id": "23105d1d"
   },
   "outputs": [
    {
     "name": "stdout",
     "output_type": "stream",
     "text": [
      "Расход бензина на 100 км - 13.421052631578947 л.\n"
     ]
    }
   ],
   "source": [
    "print('Расход бензина на 100 км -', (255 / 19), \"л.\")"
   ]
  }
 ],
 "metadata": {
  "colab": {
   "name": "Модуль 4. Домашнее задание (Женя Ракина).ipynb",
   "provenance": []
  },
  "kernelspec": {
   "display_name": "Python 3 (ipykernel)",
   "language": "python",
   "name": "python3"
  },
  "language_info": {
   "codemirror_mode": {
    "name": "ipython",
    "version": 3
   },
   "file_extension": ".py",
   "mimetype": "text/x-python",
   "name": "python",
   "nbconvert_exporter": "python",
   "pygments_lexer": "ipython3",
   "version": "3.9.12"
  }
 },
 "nbformat": 4,
 "nbformat_minor": 5
}
