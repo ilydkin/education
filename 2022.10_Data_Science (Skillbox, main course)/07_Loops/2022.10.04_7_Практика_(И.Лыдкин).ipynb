{
 "cells": [
  {
   "cell_type": "markdown",
   "metadata": {
    "id": "veTO4_6tQxFR"
   },
   "source": [
    "# Циклы. Домашнее задание\n",
    "\n",
    "###Цели задания \n",
    "Закрепить на практике применение циклов for, while и использование команд break, continue, pass.\n",
    "\n",
    "###Что нужно сделать\n",
    "Скачайте файл с заданием, откройте его через Jupyter Notebook и выполните задачи.\n",
    "\n",
    "###Что оценивается\n",
    "Для каждой задачи:\n",
    "- программа выполняет все требуемые действия;\n",
    "- результаты вычислений и операций корректны;\n",
    "- вывод производится в том виде, который описан в задаче;\n",
    "- переменные названы информативно.\n",
    "\n",
    "### Как отправить задание на проверку\n",
    "Выполните задачи, сохраните изменения при помощи опции Save and Checkpoint из вкладки меню File или кнопки Save and Checkpoint на панели инструментов. Отправьте через форму ниже итоговый файл Jupyter Notebook .ipynb или ссылку на него.\n",
    "\n"
   ]
  },
  {
   "cell_type": "markdown",
   "metadata": {
    "id": "r-2XwatHSvif"
   },
   "source": [
    "1. Напишите цикл, который выводит на печать все високосные годы, начиная с 2020 и заканчивая 2050."
   ]
  },
  {
   "cell_type": "code",
   "execution_count": 3,
   "metadata": {
    "id": "Zy0UG5ZwCx8Q"
   },
   "outputs": [
    {
     "name": "stdout",
     "output_type": "stream",
     "text": [
      "2020\n",
      "2024\n",
      "2028\n",
      "2032\n",
      "2036\n",
      "2040\n",
      "2044\n",
      "2048\n"
     ]
    }
   ],
   "source": [
    "for year in range (2020, 2051, 4):\n",
    "    print (year)"
   ]
  },
  {
   "cell_type": "markdown",
   "metadata": {
    "id": "grErwV6YS62m"
   },
   "source": [
    "2. Студент Джонсон поступил в университет и взял кредит на 120 тысяч долларов под 6% годовых. Все шесть лет учёбы в бакалавриате и магистратуре он не сможет выплачивать кредит и процент будет прибавляться к основному кредиту. Напишите программу, которая посчитает, сколько студент Джонсон должен будет банку к концу своего обучения."
   ]
  },
  {
   "cell_type": "code",
   "execution_count": 13,
   "metadata": {
    "id": "vyqbfM3sVp40"
   },
   "outputs": [
    {
     "name": "stdout",
     "output_type": "stream",
     "text": [
      "170222.29347072003\n"
     ]
    }
   ],
   "source": [
    "# Начальная сумма\n",
    "loan = 120000\n",
    "for year in range (1, 7):\n",
    "    loan *= 1.06\n",
    "    if year == 6:\n",
    "        print (loan)\n"
   ]
  },
  {
   "cell_type": "markdown",
   "metadata": {
    "id": "-N68Ul6iXm6X"
   },
   "source": [
    "3. Вспомним задачку о [зёрнах на шахматной доске](https://ru.wikipedia.org/wiki/%D0%97%D0%B0%D0%B4%D0%B0%D1%87%D0%B0_%D0%BE_%D0%B7%D1%91%D1%80%D0%BD%D0%B0%D1%85_%D0%BD%D0%B0_%D1%88%D0%B0%D1%85%D0%BC%D0%B0%D1%82%D0%BD%D0%BE%D0%B9_%D0%B4%D0%BE%D1%81%D0%BA%D0%B5). На первую клетку кладётся одно зерно, на вторую — два зерна, на третью — четыре, затем — восемь. С каждой клеткой количество зёрен увеличивается в два раза.\n",
    "\n",
    "Напишите цикл, который выводил бы на печать порядковый номер клетки и количество зёрен на ней до тех пор, пока их количество на одной клетке не превысит 100 тысяч.\n"
   ]
  },
  {
   "cell_type": "code",
   "execution_count": 17,
   "metadata": {
    "id": "iqOEykTLXjFk"
   },
   "outputs": [
    {
     "name": "stdout",
     "output_type": "stream",
     "text": [
      "1 1\n",
      "2 2\n",
      "3 4\n",
      "4 16\n",
      "5 256\n",
      "6 65536\n"
     ]
    }
   ],
   "source": [
    "cell = 0\n",
    "grain = 0\n",
    "\n",
    "while grain <= 100000:\n",
    "    cell += 1\n",
    "    if grain < 2:\n",
    "        grain += 1\n",
    "    else:\n",
    "        grain **= 2\n",
    "        if grain >= 100000:\n",
    "            break\n",
    "    print (cell, grain)"
   ]
  },
  {
   "cell_type": "markdown",
   "metadata": {
    "id": "oSkgnq73b62i"
   },
   "source": [
    "4. Напишите программу, которая проверяла бы все числа от 0 до 30. Если число делится на два, его нужно напечатать. Но если число делится и на четыре, его нужно пропустить."
   ]
  },
  {
   "cell_type": "code",
   "execution_count": 18,
   "metadata": {
    "id": "CYuIIxjOjwZd"
   },
   "outputs": [
    {
     "name": "stdout",
     "output_type": "stream",
     "text": [
      "2\n",
      "6\n",
      "10\n",
      "14\n",
      "18\n",
      "22\n",
      "26\n",
      "30\n"
     ]
    }
   ],
   "source": [
    "for i in range (31):\n",
    "    if i % 4 == 0:\n",
    "        continue\n",
    "    elif i % 2 == 0:\n",
    "        print (i)"
   ]
  },
  {
   "cell_type": "markdown",
   "metadata": {
    "id": "VXoxvHZKjymf"
   },
   "source": [
    "5. Напишите программу, которая бесконечно запрашивает на ввод целое число. Если оно делится на три, то выводится на печать. Если делится на пять, то  на печать выводится его квадрат. Квадрат пишется даже для тех чисел, которые делятся на три. Если число делится на семь, нужно вывести на печать «дурак совсем» и прервать выполнение программы. Во всех остальных случаях программа должна снова запросить число на ввод."
   ]
  },
  {
   "cell_type": "code",
   "execution_count": null,
   "metadata": {
    "id": "EEyux6ehlbI4"
   },
   "outputs": [
    {
     "name": "stdout",
     "output_type": "stream",
     "text": [
      "введите число 25\n",
      "625\n",
      "введите число 15\n",
      "225\n",
      "введите число 33\n",
      "33\n",
      "введите число 9\n",
      "9\n"
     ]
    }
   ],
   "source": [
    "while True:\n",
    "    N = int(input(\"введите число \"))\n",
    "    if N % 7 == 0:\n",
    "        print (\"дурак совсем\")\n",
    "        break\n",
    "    elif N % 5 == 0:\n",
    "        print (N ** 2) \n",
    "    elif N % 3 == 0:\n",
    "        print (N)    "
   ]
  }
 ],
 "metadata": {
  "colab": {
   "collapsed_sections": [],
   "name": "7.4_Домашнее_задание.ipynb",
   "provenance": []
  },
  "kernelspec": {
   "display_name": "Python 3 (ipykernel)",
   "language": "python",
   "name": "python3"
  },
  "language_info": {
   "codemirror_mode": {
    "name": "ipython",
    "version": 3
   },
   "file_extension": ".py",
   "mimetype": "text/x-python",
   "name": "python",
   "nbconvert_exporter": "python",
   "pygments_lexer": "ipython3",
   "version": "3.9.12"
  }
 },
 "nbformat": 4,
 "nbformat_minor": 1
}
