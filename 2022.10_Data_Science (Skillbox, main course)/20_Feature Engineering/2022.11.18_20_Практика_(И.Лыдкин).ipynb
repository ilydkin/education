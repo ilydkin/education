{
 "cells": [
  {
   "cell_type": "markdown",
   "id": "20d02d60",
   "metadata": {
    "id": "20d02d60"
   },
   "source": [
    "# Feature Engineering. Практическая работа"
   ]
  },
  {
   "cell_type": "markdown",
   "id": "zy6qaMPhyAZd",
   "metadata": {
    "id": "zy6qaMPhyAZd"
   },
   "source": [
    "Сдаётся на проверку."
   ]
  },
  {
   "cell_type": "markdown",
   "id": "df9d0fa3",
   "metadata": {
    "id": "df9d0fa3"
   },
   "source": [
    "## Цели практической работы\n",
    "\n",
    "Научиться: \n",
    "\n",
    "*   генерировать новые признаки; \n",
    "*   нормализовать и кодировать данные с помощью lambda-функций и библиотеки scikit-learn.\n"
   ]
  },
  {
   "cell_type": "markdown",
   "id": "c4a1bdf2",
   "metadata": {
    "id": "c4a1bdf2"
   },
   "source": [
    "## Что входит в практическую работу\n",
    "\n",
    "1. Построить признаки из строк.\n",
    "2. Преобразовать категориальные переменные.\n",
    "3. Стандартизировать данные.\n",
    "4. Использовать MinMaxScaler для нормализации данных.\n",
    "5. Создать признаки на основе дат.\n",
    "6. Сохранить датафрейм для этапа моделирования."
   ]
  },
  {
   "cell_type": "markdown",
   "id": "cefde751",
   "metadata": {
    "id": "cefde751"
   },
   "source": [
    "## Что оценивается\n",
    "- Программа выдаёт верный ответ на заданном наборе данных.\n",
    "- Описаны причины выбранного решения, если требуется.\n",
    "- Код читабелен: переменным даны осмысленные названия, соблюдены отступы и правила расстановки пробелов.\n",
    "- При построении графиков название и оси подписаны, выведена легенда, если требуется. \n",
    "- Репозиторий проекта содержит осмысленные коммиты, содержащие конкретные реализованные фичи, ветки названы согласно назначению, лишние файлы не хранятся в репозитории.\n",
    "- В репозитории проекта соблюдена иерархия директорий согласно списку модулей и содержащихся в них тем.\n",
    "- Репозиторий проекта содержит файлы с данными, полученными в результате выполнения практической работы.\n"
   ]
  },
  {
   "cell_type": "markdown",
   "id": "d8cc2cfd",
   "metadata": {
    "id": "d8cc2cfd"
   },
   "source": [
    "## Как отправить работу на проверку\n",
    "Сдайте практическую работу этого модуля через систему контроля версий Git сервиса Skillbox GitLab. После загрузки работы на проверку напишите об этом в личном кабинете своему проверяющему куратору.\n"
   ]
  },
  {
   "cell_type": "markdown",
   "id": "3092d4ea",
   "metadata": {
    "id": "3092d4ea"
   },
   "source": [
    "## Задача\n",
    "\n",
    "Мы продолжим исследовать и готовить данные для этапа моделирования.\n",
    "\n",
    "Вам предстоит работать с небольшой выборкой из коллекции подержанных автомобилей, выставленных на продажу в Соединённых Штатах, представленной в файле `data/vehicles_dataset_upd.csv`. На этих данных вы построите первую модель классификации, определяющую категорию цены подержанного автомобиля в зависимости от характеристик транспортного средства.\n",
    "\n",
    "В этой практической работе вы продолжите генерировать дополнительные признаки и завершите подготовку датасета для этапа моделирования.\n",
    "\n",
    "## Описание датасета:\n",
    "- `id`— идентификатор записи;\n",
    "- `url`— URL-записи о продаже;\n",
    "- `region`— регион;\n",
    "- `region_url`— URL региона;\n",
    "- `price`— стоимость;\n",
    "- `year`— год выпуска;\n",
    "- `manufacturer`— производитель;\n",
    "- `model`— модель;\n",
    "- `condition`— состояние;\n",
    "- `cylinders`— количество цилиндров;\n",
    "- `fuel`— тип топлива;\n",
    "- `odometer`— количество пройденных миль;\n",
    "- `title_status`— статус;\n",
    "- `transmission`— коробка передач;\n",
    "- `VIN`— идентификационный номер;\n",
    "- `drive`— тип привода;\n",
    "- `size`— размер;\n",
    "- `type`— кузов;\n",
    "- `paint_color`— цвет;\n",
    "- `image_url`— URL изображения;\n",
    "- `description`— указанное описание;\n",
    "- `county`— страна;\n",
    "- `state`— штат;\n",
    "- `lat`— широта;\n",
    "- `long`— долгота;\n",
    "- `posting_date`— дата размещения объявления о продаже;\n",
    "- `price_category`— категория цены.\n"
   ]
  },
  {
   "cell_type": "code",
   "execution_count": 2,
   "id": "859c4d2b",
   "metadata": {
    "ExecuteTime": {
     "end_time": "2022-02-23T19:39:15.915860Z",
     "start_time": "2022-02-23T19:39:15.902436Z"
    },
    "id": "859c4d2b"
   },
   "outputs": [],
   "source": [
    "import pandas as pd\n",
    "import matplotlib.pyplot as plt\n",
    "from sklearn.preprocessing import OneHotEncoder\n",
    "from sklearn.preprocessing import StandardScaler"
   ]
  },
  {
   "cell_type": "markdown",
   "id": "a98b05f6",
   "metadata": {
    "id": "a98b05f6"
   },
   "source": [
    "### Задача 1. Построение признаков из строк\n",
    "\n",
    "1. Загрузите датасет из `data/vehicles_dataset_upd6.csv`, выведите первые пять записей и список колонок."
   ]
  },
  {
   "cell_type": "code",
   "execution_count": 3,
   "id": "d536ad11",
   "metadata": {
    "ExecuteTime": {
     "end_time": "2022-03-15T22:40:23.588946Z",
     "start_time": "2022-03-15T22:40:23.585461Z"
    },
    "id": "d536ad11"
   },
   "outputs": [
    {
     "data": {
      "text/html": [
       "<div>\n",
       "<style scoped>\n",
       "    .dataframe tbody tr th:only-of-type {\n",
       "        vertical-align: middle;\n",
       "    }\n",
       "\n",
       "    .dataframe tbody tr th {\n",
       "        vertical-align: top;\n",
       "    }\n",
       "\n",
       "    .dataframe thead th {\n",
       "        text-align: right;\n",
       "    }\n",
       "</style>\n",
       "<table border=\"1\" class=\"dataframe\">\n",
       "  <thead>\n",
       "    <tr style=\"text-align: right;\">\n",
       "      <th></th>\n",
       "      <th>id</th>\n",
       "      <th>url</th>\n",
       "      <th>region</th>\n",
       "      <th>region_url</th>\n",
       "      <th>price</th>\n",
       "      <th>year</th>\n",
       "      <th>manufacturer</th>\n",
       "      <th>model</th>\n",
       "      <th>fuel</th>\n",
       "      <th>odometer</th>\n",
       "      <th>...</th>\n",
       "      <th>is_jeep</th>\n",
       "      <th>is_honda</th>\n",
       "      <th>is_nissan</th>\n",
       "      <th>x0_diesel</th>\n",
       "      <th>x0_electric</th>\n",
       "      <th>x0_gas</th>\n",
       "      <th>x0_hybrid</th>\n",
       "      <th>x0_other</th>\n",
       "      <th>std_scaled_odometer</th>\n",
       "      <th>std_scaled_price</th>\n",
       "    </tr>\n",
       "  </thead>\n",
       "  <tbody>\n",
       "    <tr>\n",
       "      <th>0</th>\n",
       "      <td>7308295377</td>\n",
       "      <td>https://chattanooga.craigslist.org/ctd/d/chatt...</td>\n",
       "      <td>chattanooga</td>\n",
       "      <td>https://chattanooga.craigslist.org</td>\n",
       "      <td>54990</td>\n",
       "      <td>2020</td>\n",
       "      <td>ram</td>\n",
       "      <td>2500 crew cab big horn</td>\n",
       "      <td>diesel</td>\n",
       "      <td>27442</td>\n",
       "      <td>...</td>\n",
       "      <td>0</td>\n",
       "      <td>0</td>\n",
       "      <td>0</td>\n",
       "      <td>1.0</td>\n",
       "      <td>0.0</td>\n",
       "      <td>0.0</td>\n",
       "      <td>0.0</td>\n",
       "      <td>0.0</td>\n",
       "      <td>-1.079390</td>\n",
       "      <td>2.958509</td>\n",
       "    </tr>\n",
       "    <tr>\n",
       "      <th>1</th>\n",
       "      <td>7316380095</td>\n",
       "      <td>https://newjersey.craigslist.org/ctd/d/carlsta...</td>\n",
       "      <td>north jersey</td>\n",
       "      <td>https://newjersey.craigslist.org</td>\n",
       "      <td>16942</td>\n",
       "      <td>2016</td>\n",
       "      <td>ford</td>\n",
       "      <td>explorer 4wd 4dr xlt</td>\n",
       "      <td>other</td>\n",
       "      <td>60023</td>\n",
       "      <td>...</td>\n",
       "      <td>0</td>\n",
       "      <td>0</td>\n",
       "      <td>0</td>\n",
       "      <td>0.0</td>\n",
       "      <td>0.0</td>\n",
       "      <td>0.0</td>\n",
       "      <td>0.0</td>\n",
       "      <td>1.0</td>\n",
       "      <td>-0.560115</td>\n",
       "      <td>-0.085826</td>\n",
       "    </tr>\n",
       "    <tr>\n",
       "      <th>2</th>\n",
       "      <td>7313733749</td>\n",
       "      <td>https://reno.craigslist.org/ctd/d/atlanta-2017...</td>\n",
       "      <td>reno / tahoe</td>\n",
       "      <td>https://reno.craigslist.org</td>\n",
       "      <td>35590</td>\n",
       "      <td>2017</td>\n",
       "      <td>volkswagen</td>\n",
       "      <td>golf r hatchback</td>\n",
       "      <td>gas</td>\n",
       "      <td>14048</td>\n",
       "      <td>...</td>\n",
       "      <td>0</td>\n",
       "      <td>0</td>\n",
       "      <td>0</td>\n",
       "      <td>0.0</td>\n",
       "      <td>0.0</td>\n",
       "      <td>1.0</td>\n",
       "      <td>0.0</td>\n",
       "      <td>0.0</td>\n",
       "      <td>-1.292863</td>\n",
       "      <td>1.406256</td>\n",
       "    </tr>\n",
       "    <tr>\n",
       "      <th>3</th>\n",
       "      <td>7308210929</td>\n",
       "      <td>https://fayetteville.craigslist.org/ctd/d/rale...</td>\n",
       "      <td>fayetteville</td>\n",
       "      <td>https://fayetteville.craigslist.org</td>\n",
       "      <td>14500</td>\n",
       "      <td>2013</td>\n",
       "      <td>toyota</td>\n",
       "      <td>rav4</td>\n",
       "      <td>gas</td>\n",
       "      <td>117291</td>\n",
       "      <td>...</td>\n",
       "      <td>0</td>\n",
       "      <td>0</td>\n",
       "      <td>0</td>\n",
       "      <td>0.0</td>\n",
       "      <td>0.0</td>\n",
       "      <td>1.0</td>\n",
       "      <td>0.0</td>\n",
       "      <td>0.0</td>\n",
       "      <td>0.352621</td>\n",
       "      <td>-0.281218</td>\n",
       "    </tr>\n",
       "    <tr>\n",
       "      <th>4</th>\n",
       "      <td>7303797340</td>\n",
       "      <td>https://knoxville.craigslist.org/ctd/d/knoxvil...</td>\n",
       "      <td>knoxville</td>\n",
       "      <td>https://knoxville.craigslist.org</td>\n",
       "      <td>14590</td>\n",
       "      <td>2012</td>\n",
       "      <td>bmw</td>\n",
       "      <td>1 series 128i coupe 2d</td>\n",
       "      <td>other</td>\n",
       "      <td>80465</td>\n",
       "      <td>...</td>\n",
       "      <td>0</td>\n",
       "      <td>0</td>\n",
       "      <td>0</td>\n",
       "      <td>0.0</td>\n",
       "      <td>0.0</td>\n",
       "      <td>0.0</td>\n",
       "      <td>0.0</td>\n",
       "      <td>1.0</td>\n",
       "      <td>-0.234311</td>\n",
       "      <td>-0.274017</td>\n",
       "    </tr>\n",
       "  </tbody>\n",
       "</table>\n",
       "<p>5 rows × 45 columns</p>\n",
       "</div>"
      ],
      "text/plain": [
       "           id                                                url  \\\n",
       "0  7308295377  https://chattanooga.craigslist.org/ctd/d/chatt...   \n",
       "1  7316380095  https://newjersey.craigslist.org/ctd/d/carlsta...   \n",
       "2  7313733749  https://reno.craigslist.org/ctd/d/atlanta-2017...   \n",
       "3  7308210929  https://fayetteville.craigslist.org/ctd/d/rale...   \n",
       "4  7303797340  https://knoxville.craigslist.org/ctd/d/knoxvil...   \n",
       "\n",
       "         region                           region_url  price  year  \\\n",
       "0   chattanooga   https://chattanooga.craigslist.org  54990  2020   \n",
       "1  north jersey     https://newjersey.craigslist.org  16942  2016   \n",
       "2  reno / tahoe          https://reno.craigslist.org  35590  2017   \n",
       "3  fayetteville  https://fayetteville.craigslist.org  14500  2013   \n",
       "4     knoxville     https://knoxville.craigslist.org  14590  2012   \n",
       "\n",
       "  manufacturer                   model    fuel  odometer  ... is_jeep  \\\n",
       "0          ram  2500 crew cab big horn  diesel     27442  ...       0   \n",
       "1         ford    explorer 4wd 4dr xlt   other     60023  ...       0   \n",
       "2   volkswagen        golf r hatchback     gas     14048  ...       0   \n",
       "3       toyota                    rav4     gas    117291  ...       0   \n",
       "4          bmw  1 series 128i coupe 2d   other     80465  ...       0   \n",
       "\n",
       "  is_honda is_nissan x0_diesel x0_electric  x0_gas  x0_hybrid x0_other  \\\n",
       "0        0         0       1.0         0.0     0.0        0.0      0.0   \n",
       "1        0         0       0.0         0.0     0.0        0.0      1.0   \n",
       "2        0         0       0.0         0.0     1.0        0.0      0.0   \n",
       "3        0         0       0.0         0.0     1.0        0.0      0.0   \n",
       "4        0         0       0.0         0.0     0.0        0.0      1.0   \n",
       "\n",
       "  std_scaled_odometer std_scaled_price  \n",
       "0           -1.079390         2.958509  \n",
       "1           -0.560115        -0.085826  \n",
       "2           -1.292863         1.406256  \n",
       "3            0.352621        -0.281218  \n",
       "4           -0.234311        -0.274017  \n",
       "\n",
       "[5 rows x 45 columns]"
      ]
     },
     "execution_count": 3,
     "metadata": {},
     "output_type": "execute_result"
    }
   ],
   "source": [
    "df = pd.read_csv ('data/vehicles_dataset_upd6.csv')\n",
    "df.head()"
   ]
  },
  {
   "cell_type": "code",
   "execution_count": 4,
   "id": "32f17c0d",
   "metadata": {},
   "outputs": [
    {
     "data": {
      "text/plain": [
       "Index(['id', 'url', 'region', 'region_url', 'price', 'year', 'manufacturer',\n",
       "       'model', 'fuel', 'odometer', 'title_status', 'transmission',\n",
       "       'image_url', 'description', 'state', 'lat', 'long', 'posting_date',\n",
       "       'price_category', 'date', 'odometer_km', 'odometer/price', 'region_new',\n",
       "       'region_corrected', 'manufacturer_model', 'desc_len', 'model_in_desc',\n",
       "       'price_k$', 'age_category', 'model_len', 'model_word_count', 'is_audi',\n",
       "       'is_ford', 'is_chevrolet', 'is_toyota', 'is_jeep', 'is_honda',\n",
       "       'is_nissan', 'x0_diesel', 'x0_electric', 'x0_gas', 'x0_hybrid',\n",
       "       'x0_other', 'std_scaled_odometer', 'std_scaled_price'],\n",
       "      dtype='object')"
      ]
     },
     "execution_count": 4,
     "metadata": {},
     "output_type": "execute_result"
    }
   ],
   "source": [
    "df.columns"
   ]
  },
  {
   "cell_type": "markdown",
   "id": "c46630e3",
   "metadata": {
    "id": "c46630e3"
   },
   "source": [
    "2. Выведите список значений и количество уникальных значений для модели автомобиля."
   ]
  },
  {
   "cell_type": "code",
   "execution_count": 5,
   "id": "12c123d6",
   "metadata": {
    "ExecuteTime": {
     "end_time": "2022-03-15T22:40:29.330321Z",
     "start_time": "2022-03-15T22:40:29.326988Z"
    },
    "id": "12c123d6"
   },
   "outputs": [
    {
     "data": {
      "text/plain": [
       "array(['2500 crew cab big horn', 'explorer 4wd 4dr xlt',\n",
       "       'golf r hatchback', ..., 'gs350', '1988 Nisan',\n",
       "       'a3 2.0t premium plus pzev'], dtype=object)"
      ]
     },
     "execution_count": 5,
     "metadata": {},
     "output_type": "execute_result"
    }
   ],
   "source": [
    "df.model.unique()"
   ]
  },
  {
   "cell_type": "code",
   "execution_count": 6,
   "id": "fb776ad9",
   "metadata": {},
   "outputs": [
    {
     "data": {
      "text/plain": [
       "3341"
      ]
     },
     "execution_count": 6,
     "metadata": {},
     "output_type": "execute_result"
    }
   ],
   "source": [
    "df.model.nunique()"
   ]
  },
  {
   "cell_type": "markdown",
   "id": "bcf1904b",
   "metadata": {
    "id": "bcf1904b"
   },
   "source": [
    "3. Количество уникальных значений велико. Попробуем их сократить, оставив только первое слово в наименовании модели. С помощью lambda-функции и преобразования над строками создайте новый признак `short_model`, содержащий только первое слово из наименования модели, выведите его и количество получившихся уникальных значений."
   ]
  },
  {
   "cell_type": "code",
   "execution_count": 7,
   "id": "6de1d535",
   "metadata": {
    "ExecuteTime": {
     "end_time": "2022-03-15T22:40:30.465505Z",
     "start_time": "2022-03-15T22:40:30.460032Z"
    },
    "id": "6de1d535"
   },
   "outputs": [
    {
     "data": {
      "text/plain": [
       "0           2500\n",
       "1       explorer\n",
       "2           golf\n",
       "3           rav4\n",
       "4              1\n",
       "          ...   \n",
       "9614        rav4\n",
       "9615    wrangler\n",
       "9616          a3\n",
       "9617     cayenne\n",
       "9618        1500\n",
       "Name: short_model, Length: 9619, dtype: object"
      ]
     },
     "execution_count": 7,
     "metadata": {},
     "output_type": "execute_result"
    }
   ],
   "source": [
    "df['short_model'] = df.model.apply(lambda x: x.split(' ')[0])\n",
    "df.short_model"
   ]
  },
  {
   "cell_type": "code",
   "execution_count": 8,
   "id": "9dcc9588",
   "metadata": {},
   "outputs": [
    {
     "data": {
      "text/plain": [
       "943"
      ]
     },
     "execution_count": 8,
     "metadata": {},
     "output_type": "execute_result"
    }
   ],
   "source": [
    "df.short_model.nunique()"
   ]
  },
  {
   "cell_type": "markdown",
   "id": "f8266e27",
   "metadata": {
    "ExecuteTime": {
     "end_time": "2022-01-28T23:12:51.463454Z",
     "start_time": "2022-01-28T23:12:51.458075Z"
    },
    "id": "f8266e27"
   },
   "source": [
    "### Задача 2. Преобразование категориальных переменных\n",
    "\n",
    "1. Для категориальных переменных `short_model`, `transmission`, `region`, `manufacturer`, `state`, `title_status`, `age_category` распечатайте наименование категории и количество уникальных значений в ней.\n"
   ]
  },
  {
   "cell_type": "code",
   "execution_count": 9,
   "id": "a839bd7c",
   "metadata": {
    "ExecuteTime": {
     "end_time": "2022-03-15T22:40:31.559424Z",
     "start_time": "2022-03-15T22:40:31.552170Z"
    },
    "id": "a839bd7c"
   },
   "outputs": [
    {
     "data": {
      "text/plain": [
       "short_model     943\n",
       "transmission      3\n",
       "region          393\n",
       "manufacturer     40\n",
       "state            51\n",
       "title_status      6\n",
       "age_category      3\n",
       "dtype: int64"
      ]
     },
     "execution_count": 9,
     "metadata": {},
     "output_type": "execute_result"
    }
   ],
   "source": [
    "df[['short_model', 'transmission', 'region', 'manufacturer', 'state', 'title_status', 'age_category']].nunique()"
   ]
  },
  {
   "cell_type": "markdown",
   "id": "6d22ddcd",
   "metadata": {
    "id": "6d22ddcd"
   },
   "source": [
    "2. Создайте датафрейм `data`, содержащий только выбранные категориальные переменные."
   ]
  },
  {
   "cell_type": "code",
   "execution_count": 47,
   "id": "c6fb4d53",
   "metadata": {
    "ExecuteTime": {
     "end_time": "2022-03-15T22:40:32.233510Z",
     "start_time": "2022-03-15T22:40:32.226777Z"
    },
    "id": "c6fb4d53"
   },
   "outputs": [
    {
     "data": {
      "text/html": [
       "<div>\n",
       "<style scoped>\n",
       "    .dataframe tbody tr th:only-of-type {\n",
       "        vertical-align: middle;\n",
       "    }\n",
       "\n",
       "    .dataframe tbody tr th {\n",
       "        vertical-align: top;\n",
       "    }\n",
       "\n",
       "    .dataframe thead th {\n",
       "        text-align: right;\n",
       "    }\n",
       "</style>\n",
       "<table border=\"1\" class=\"dataframe\">\n",
       "  <thead>\n",
       "    <tr style=\"text-align: right;\">\n",
       "      <th></th>\n",
       "      <th>short_model</th>\n",
       "      <th>transmission</th>\n",
       "      <th>region</th>\n",
       "      <th>manufacturer</th>\n",
       "      <th>state</th>\n",
       "      <th>title_status</th>\n",
       "      <th>age_category</th>\n",
       "    </tr>\n",
       "  </thead>\n",
       "  <tbody>\n",
       "    <tr>\n",
       "      <th>0</th>\n",
       "      <td>2500</td>\n",
       "      <td>other</td>\n",
       "      <td>chattanooga</td>\n",
       "      <td>ram</td>\n",
       "      <td>tn</td>\n",
       "      <td>clean</td>\n",
       "      <td>new</td>\n",
       "    </tr>\n",
       "  </tbody>\n",
       "</table>\n",
       "</div>"
      ],
      "text/plain": [
       "  short_model transmission       region manufacturer state title_status  \\\n",
       "0        2500        other  chattanooga          ram    tn        clean   \n",
       "\n",
       "  age_category  \n",
       "0          new  "
      ]
     },
     "execution_count": 47,
     "metadata": {},
     "output_type": "execute_result"
    }
   ],
   "source": [
    "data = df[['short_model', 'transmission', 'region', 'manufacturer', 'state', 'title_status', 'age_category']]\n",
    "data.head(1)"
   ]
  },
  {
   "cell_type": "markdown",
   "id": "cac34814",
   "metadata": {
    "id": "cac34814"
   },
   "source": [
    "3. Создайте объект класса OneHotEncoder, который будет отвечать за преобразование. Уточните, что на выходе должна быть неразреженная матрица."
   ]
  },
  {
   "cell_type": "code",
   "execution_count": 48,
   "id": "5c64ca58",
   "metadata": {
    "ExecuteTime": {
     "end_time": "2022-03-15T22:40:33.034009Z",
     "start_time": "2022-03-15T22:40:33.028764Z"
    },
    "id": "5c64ca58"
   },
   "outputs": [
    {
     "data": {
      "text/html": [
       "<style>#sk-container-id-5 {color: black;background-color: white;}#sk-container-id-5 pre{padding: 0;}#sk-container-id-5 div.sk-toggleable {background-color: white;}#sk-container-id-5 label.sk-toggleable__label {cursor: pointer;display: block;width: 100%;margin-bottom: 0;padding: 0.3em;box-sizing: border-box;text-align: center;}#sk-container-id-5 label.sk-toggleable__label-arrow:before {content: \"▸\";float: left;margin-right: 0.25em;color: #696969;}#sk-container-id-5 label.sk-toggleable__label-arrow:hover:before {color: black;}#sk-container-id-5 div.sk-estimator:hover label.sk-toggleable__label-arrow:before {color: black;}#sk-container-id-5 div.sk-toggleable__content {max-height: 0;max-width: 0;overflow: hidden;text-align: left;background-color: #f0f8ff;}#sk-container-id-5 div.sk-toggleable__content pre {margin: 0.2em;color: black;border-radius: 0.25em;background-color: #f0f8ff;}#sk-container-id-5 input.sk-toggleable__control:checked~div.sk-toggleable__content {max-height: 200px;max-width: 100%;overflow: auto;}#sk-container-id-5 input.sk-toggleable__control:checked~label.sk-toggleable__label-arrow:before {content: \"▾\";}#sk-container-id-5 div.sk-estimator input.sk-toggleable__control:checked~label.sk-toggleable__label {background-color: #d4ebff;}#sk-container-id-5 div.sk-label input.sk-toggleable__control:checked~label.sk-toggleable__label {background-color: #d4ebff;}#sk-container-id-5 input.sk-hidden--visually {border: 0;clip: rect(1px 1px 1px 1px);clip: rect(1px, 1px, 1px, 1px);height: 1px;margin: -1px;overflow: hidden;padding: 0;position: absolute;width: 1px;}#sk-container-id-5 div.sk-estimator {font-family: monospace;background-color: #f0f8ff;border: 1px dotted black;border-radius: 0.25em;box-sizing: border-box;margin-bottom: 0.5em;}#sk-container-id-5 div.sk-estimator:hover {background-color: #d4ebff;}#sk-container-id-5 div.sk-parallel-item::after {content: \"\";width: 100%;border-bottom: 1px solid gray;flex-grow: 1;}#sk-container-id-5 div.sk-label:hover label.sk-toggleable__label {background-color: #d4ebff;}#sk-container-id-5 div.sk-serial::before {content: \"\";position: absolute;border-left: 1px solid gray;box-sizing: border-box;top: 0;bottom: 0;left: 50%;z-index: 0;}#sk-container-id-5 div.sk-serial {display: flex;flex-direction: column;align-items: center;background-color: white;padding-right: 0.2em;padding-left: 0.2em;position: relative;}#sk-container-id-5 div.sk-item {position: relative;z-index: 1;}#sk-container-id-5 div.sk-parallel {display: flex;align-items: stretch;justify-content: center;background-color: white;position: relative;}#sk-container-id-5 div.sk-item::before, #sk-container-id-5 div.sk-parallel-item::before {content: \"\";position: absolute;border-left: 1px solid gray;box-sizing: border-box;top: 0;bottom: 0;left: 50%;z-index: -1;}#sk-container-id-5 div.sk-parallel-item {display: flex;flex-direction: column;z-index: 1;position: relative;background-color: white;}#sk-container-id-5 div.sk-parallel-item:first-child::after {align-self: flex-end;width: 50%;}#sk-container-id-5 div.sk-parallel-item:last-child::after {align-self: flex-start;width: 50%;}#sk-container-id-5 div.sk-parallel-item:only-child::after {width: 0;}#sk-container-id-5 div.sk-dashed-wrapped {border: 1px dashed gray;margin: 0 0.4em 0.5em 0.4em;box-sizing: border-box;padding-bottom: 0.4em;background-color: white;}#sk-container-id-5 div.sk-label label {font-family: monospace;font-weight: bold;display: inline-block;line-height: 1.2em;}#sk-container-id-5 div.sk-label-container {text-align: center;}#sk-container-id-5 div.sk-container {/* jupyter's `normalize.less` sets `[hidden] { display: none; }` but bootstrap.min.css set `[hidden] { display: none !important; }` so we also need the `!important` here to be able to override the default hidden behavior on the sphinx rendered scikit-learn.org. See: https://github.com/scikit-learn/scikit-learn/issues/21755 */display: inline-block !important;position: relative;}#sk-container-id-5 div.sk-text-repr-fallback {display: none;}</style><div id=\"sk-container-id-5\" class=\"sk-top-container\"><div class=\"sk-text-repr-fallback\"><pre>OneHotEncoder(sparse=False)</pre><b>In a Jupyter environment, please rerun this cell to show the HTML representation or trust the notebook. <br />On GitHub, the HTML representation is unable to render, please try loading this page with nbviewer.org.</b></div><div class=\"sk-container\" hidden><div class=\"sk-item\"><div class=\"sk-estimator sk-toggleable\"><input class=\"sk-toggleable__control sk-hidden--visually\" id=\"sk-estimator-id-5\" type=\"checkbox\" checked><label for=\"sk-estimator-id-5\" class=\"sk-toggleable__label sk-toggleable__label-arrow\">OneHotEncoder</label><div class=\"sk-toggleable__content\"><pre>OneHotEncoder(sparse=False)</pre></div></div></div></div></div>"
      ],
      "text/plain": [
       "OneHotEncoder(sparse=False)"
      ]
     },
     "execution_count": 48,
     "metadata": {},
     "output_type": "execute_result"
    }
   ],
   "source": [
    "ohe = OneHotEncoder(sparse = False)\n",
    "ohe"
   ]
  },
  {
   "cell_type": "markdown",
   "id": "26a44ecc",
   "metadata": {
    "id": "26a44ecc"
   },
   "source": [
    "4. Идентифицируйте параметры преобразования на датафрейме с категориальными переменными."
   ]
  },
  {
   "cell_type": "code",
   "execution_count": 49,
   "id": "295f2ffc",
   "metadata": {
    "ExecuteTime": {
     "end_time": "2022-03-15T22:40:33.874311Z",
     "start_time": "2022-03-15T22:40:33.871463Z"
    },
    "id": "295f2ffc"
   },
   "outputs": [
    {
     "data": {
      "text/html": [
       "<style>#sk-container-id-6 {color: black;background-color: white;}#sk-container-id-6 pre{padding: 0;}#sk-container-id-6 div.sk-toggleable {background-color: white;}#sk-container-id-6 label.sk-toggleable__label {cursor: pointer;display: block;width: 100%;margin-bottom: 0;padding: 0.3em;box-sizing: border-box;text-align: center;}#sk-container-id-6 label.sk-toggleable__label-arrow:before {content: \"▸\";float: left;margin-right: 0.25em;color: #696969;}#sk-container-id-6 label.sk-toggleable__label-arrow:hover:before {color: black;}#sk-container-id-6 div.sk-estimator:hover label.sk-toggleable__label-arrow:before {color: black;}#sk-container-id-6 div.sk-toggleable__content {max-height: 0;max-width: 0;overflow: hidden;text-align: left;background-color: #f0f8ff;}#sk-container-id-6 div.sk-toggleable__content pre {margin: 0.2em;color: black;border-radius: 0.25em;background-color: #f0f8ff;}#sk-container-id-6 input.sk-toggleable__control:checked~div.sk-toggleable__content {max-height: 200px;max-width: 100%;overflow: auto;}#sk-container-id-6 input.sk-toggleable__control:checked~label.sk-toggleable__label-arrow:before {content: \"▾\";}#sk-container-id-6 div.sk-estimator input.sk-toggleable__control:checked~label.sk-toggleable__label {background-color: #d4ebff;}#sk-container-id-6 div.sk-label input.sk-toggleable__control:checked~label.sk-toggleable__label {background-color: #d4ebff;}#sk-container-id-6 input.sk-hidden--visually {border: 0;clip: rect(1px 1px 1px 1px);clip: rect(1px, 1px, 1px, 1px);height: 1px;margin: -1px;overflow: hidden;padding: 0;position: absolute;width: 1px;}#sk-container-id-6 div.sk-estimator {font-family: monospace;background-color: #f0f8ff;border: 1px dotted black;border-radius: 0.25em;box-sizing: border-box;margin-bottom: 0.5em;}#sk-container-id-6 div.sk-estimator:hover {background-color: #d4ebff;}#sk-container-id-6 div.sk-parallel-item::after {content: \"\";width: 100%;border-bottom: 1px solid gray;flex-grow: 1;}#sk-container-id-6 div.sk-label:hover label.sk-toggleable__label {background-color: #d4ebff;}#sk-container-id-6 div.sk-serial::before {content: \"\";position: absolute;border-left: 1px solid gray;box-sizing: border-box;top: 0;bottom: 0;left: 50%;z-index: 0;}#sk-container-id-6 div.sk-serial {display: flex;flex-direction: column;align-items: center;background-color: white;padding-right: 0.2em;padding-left: 0.2em;position: relative;}#sk-container-id-6 div.sk-item {position: relative;z-index: 1;}#sk-container-id-6 div.sk-parallel {display: flex;align-items: stretch;justify-content: center;background-color: white;position: relative;}#sk-container-id-6 div.sk-item::before, #sk-container-id-6 div.sk-parallel-item::before {content: \"\";position: absolute;border-left: 1px solid gray;box-sizing: border-box;top: 0;bottom: 0;left: 50%;z-index: -1;}#sk-container-id-6 div.sk-parallel-item {display: flex;flex-direction: column;z-index: 1;position: relative;background-color: white;}#sk-container-id-6 div.sk-parallel-item:first-child::after {align-self: flex-end;width: 50%;}#sk-container-id-6 div.sk-parallel-item:last-child::after {align-self: flex-start;width: 50%;}#sk-container-id-6 div.sk-parallel-item:only-child::after {width: 0;}#sk-container-id-6 div.sk-dashed-wrapped {border: 1px dashed gray;margin: 0 0.4em 0.5em 0.4em;box-sizing: border-box;padding-bottom: 0.4em;background-color: white;}#sk-container-id-6 div.sk-label label {font-family: monospace;font-weight: bold;display: inline-block;line-height: 1.2em;}#sk-container-id-6 div.sk-label-container {text-align: center;}#sk-container-id-6 div.sk-container {/* jupyter's `normalize.less` sets `[hidden] { display: none; }` but bootstrap.min.css set `[hidden] { display: none !important; }` so we also need the `!important` here to be able to override the default hidden behavior on the sphinx rendered scikit-learn.org. See: https://github.com/scikit-learn/scikit-learn/issues/21755 */display: inline-block !important;position: relative;}#sk-container-id-6 div.sk-text-repr-fallback {display: none;}</style><div id=\"sk-container-id-6\" class=\"sk-top-container\"><div class=\"sk-text-repr-fallback\"><pre>OneHotEncoder(sparse=False)</pre><b>In a Jupyter environment, please rerun this cell to show the HTML representation or trust the notebook. <br />On GitHub, the HTML representation is unable to render, please try loading this page with nbviewer.org.</b></div><div class=\"sk-container\" hidden><div class=\"sk-item\"><div class=\"sk-estimator sk-toggleable\"><input class=\"sk-toggleable__control sk-hidden--visually\" id=\"sk-estimator-id-6\" type=\"checkbox\" checked><label for=\"sk-estimator-id-6\" class=\"sk-toggleable__label sk-toggleable__label-arrow\">OneHotEncoder</label><div class=\"sk-toggleable__content\"><pre>OneHotEncoder(sparse=False)</pre></div></div></div></div></div>"
      ],
      "text/plain": [
       "OneHotEncoder(sparse=False)"
      ]
     },
     "execution_count": 49,
     "metadata": {},
     "output_type": "execute_result"
    }
   ],
   "source": [
    "ohe.fit (data)"
   ]
  },
  {
   "cell_type": "markdown",
   "id": "e5504b8d",
   "metadata": {
    "id": "e5504b8d"
   },
   "source": [
    "5. Примените преобразование для датафрейма с категориальными переменными и сохраните в новую переменную, распечатайте получившуюся матрицу и её размерность."
   ]
  },
  {
   "cell_type": "code",
   "execution_count": 50,
   "id": "10d8356c",
   "metadata": {
    "ExecuteTime": {
     "end_time": "2022-03-15T22:40:34.519702Z",
     "start_time": "2022-03-15T22:40:34.516796Z"
    },
    "id": "10d8356c"
   },
   "outputs": [
    {
     "data": {
      "text/plain": [
       "array([[0., 0., 0., ..., 0., 1., 0.],\n",
       "       [0., 0., 0., ..., 0., 1., 0.],\n",
       "       [0., 0., 0., ..., 0., 1., 0.],\n",
       "       ...,\n",
       "       [0., 0., 0., ..., 1., 0., 0.],\n",
       "       [0., 0., 0., ..., 0., 1., 0.],\n",
       "       [0., 0., 0., ..., 0., 1., 0.]])"
      ]
     },
     "execution_count": 50,
     "metadata": {},
     "output_type": "execute_result"
    }
   ],
   "source": [
    "ohe_data = ohe.transform(data)\n",
    "ohe_data"
   ]
  },
  {
   "cell_type": "code",
   "execution_count": 51,
   "id": "afb5d5fc",
   "metadata": {},
   "outputs": [
    {
     "data": {
      "text/plain": [
       "(9619, 1439)"
      ]
     },
     "execution_count": 51,
     "metadata": {},
     "output_type": "execute_result"
    }
   ],
   "source": [
    "ohe_data.shape"
   ]
  },
  {
   "cell_type": "markdown",
   "id": "490cf3fa",
   "metadata": {
    "id": "490cf3fa"
   },
   "source": [
    "6. Выведите новые наименования признаков с помощью метода `get_feature_names_out`."
   ]
  },
  {
   "cell_type": "code",
   "execution_count": 52,
   "id": "a5ee48ea",
   "metadata": {
    "ExecuteTime": {
     "end_time": "2022-03-15T22:40:35.296004Z",
     "start_time": "2022-03-15T22:40:35.291879Z"
    },
    "id": "a5ee48ea"
   },
   "outputs": [
    {
     "data": {
      "text/plain": [
       "array(['short_model_-benz', 'short_model_1', 'short_model_124', ...,\n",
       "       'age_category_average', 'age_category_new', 'age_category_old'],\n",
       "      dtype=object)"
      ]
     },
     "execution_count": 52,
     "metadata": {},
     "output_type": "execute_result"
    }
   ],
   "source": [
    "ohe.get_feature_names_out()"
   ]
  },
  {
   "cell_type": "markdown",
   "id": "115aed73",
   "metadata": {
    "id": "115aed73"
   },
   "source": [
    "7. Добавьте в исходный датафрейм получившиеся новые признаки, выведите первые пять записей датафрейма и список колонок."
   ]
  },
  {
   "cell_type": "code",
   "execution_count": 53,
   "id": "0062ac07",
   "metadata": {
    "ExecuteTime": {
     "end_time": "2022-03-15T22:40:35.978083Z",
     "start_time": "2022-03-15T22:40:35.970249Z"
    },
    "id": "0062ac07"
   },
   "outputs": [
    {
     "data": {
      "text/html": [
       "<div>\n",
       "<style scoped>\n",
       "    .dataframe tbody tr th:only-of-type {\n",
       "        vertical-align: middle;\n",
       "    }\n",
       "\n",
       "    .dataframe tbody tr th {\n",
       "        vertical-align: top;\n",
       "    }\n",
       "\n",
       "    .dataframe thead th {\n",
       "        text-align: right;\n",
       "    }\n",
       "</style>\n",
       "<table border=\"1\" class=\"dataframe\">\n",
       "  <thead>\n",
       "    <tr style=\"text-align: right;\">\n",
       "      <th></th>\n",
       "      <th>id</th>\n",
       "      <th>url</th>\n",
       "      <th>region</th>\n",
       "      <th>region_url</th>\n",
       "      <th>price</th>\n",
       "      <th>year</th>\n",
       "      <th>manufacturer</th>\n",
       "      <th>model</th>\n",
       "      <th>fuel</th>\n",
       "      <th>odometer</th>\n",
       "      <th>...</th>\n",
       "      <th>state_wy</th>\n",
       "      <th>title_status_clean</th>\n",
       "      <th>title_status_lien</th>\n",
       "      <th>title_status_missing</th>\n",
       "      <th>title_status_parts only</th>\n",
       "      <th>title_status_rebuilt</th>\n",
       "      <th>title_status_salvage</th>\n",
       "      <th>age_category_average</th>\n",
       "      <th>age_category_new</th>\n",
       "      <th>age_category_old</th>\n",
       "    </tr>\n",
       "  </thead>\n",
       "  <tbody>\n",
       "    <tr>\n",
       "      <th>0</th>\n",
       "      <td>7308295377</td>\n",
       "      <td>https://chattanooga.craigslist.org/ctd/d/chatt...</td>\n",
       "      <td>chattanooga</td>\n",
       "      <td>https://chattanooga.craigslist.org</td>\n",
       "      <td>54990</td>\n",
       "      <td>2020</td>\n",
       "      <td>ram</td>\n",
       "      <td>2500 crew cab big horn</td>\n",
       "      <td>diesel</td>\n",
       "      <td>27442</td>\n",
       "      <td>...</td>\n",
       "      <td>0.0</td>\n",
       "      <td>1.0</td>\n",
       "      <td>0.0</td>\n",
       "      <td>0.0</td>\n",
       "      <td>0.0</td>\n",
       "      <td>0.0</td>\n",
       "      <td>0.0</td>\n",
       "      <td>0.0</td>\n",
       "      <td>1.0</td>\n",
       "      <td>0.0</td>\n",
       "    </tr>\n",
       "    <tr>\n",
       "      <th>1</th>\n",
       "      <td>7316380095</td>\n",
       "      <td>https://newjersey.craigslist.org/ctd/d/carlsta...</td>\n",
       "      <td>north jersey</td>\n",
       "      <td>https://newjersey.craigslist.org</td>\n",
       "      <td>16942</td>\n",
       "      <td>2016</td>\n",
       "      <td>ford</td>\n",
       "      <td>explorer 4wd 4dr xlt</td>\n",
       "      <td>other</td>\n",
       "      <td>60023</td>\n",
       "      <td>...</td>\n",
       "      <td>0.0</td>\n",
       "      <td>1.0</td>\n",
       "      <td>0.0</td>\n",
       "      <td>0.0</td>\n",
       "      <td>0.0</td>\n",
       "      <td>0.0</td>\n",
       "      <td>0.0</td>\n",
       "      <td>0.0</td>\n",
       "      <td>1.0</td>\n",
       "      <td>0.0</td>\n",
       "    </tr>\n",
       "    <tr>\n",
       "      <th>2</th>\n",
       "      <td>7313733749</td>\n",
       "      <td>https://reno.craigslist.org/ctd/d/atlanta-2017...</td>\n",
       "      <td>reno / tahoe</td>\n",
       "      <td>https://reno.craigslist.org</td>\n",
       "      <td>35590</td>\n",
       "      <td>2017</td>\n",
       "      <td>volkswagen</td>\n",
       "      <td>golf r hatchback</td>\n",
       "      <td>gas</td>\n",
       "      <td>14048</td>\n",
       "      <td>...</td>\n",
       "      <td>0.0</td>\n",
       "      <td>1.0</td>\n",
       "      <td>0.0</td>\n",
       "      <td>0.0</td>\n",
       "      <td>0.0</td>\n",
       "      <td>0.0</td>\n",
       "      <td>0.0</td>\n",
       "      <td>0.0</td>\n",
       "      <td>1.0</td>\n",
       "      <td>0.0</td>\n",
       "    </tr>\n",
       "    <tr>\n",
       "      <th>3</th>\n",
       "      <td>7308210929</td>\n",
       "      <td>https://fayetteville.craigslist.org/ctd/d/rale...</td>\n",
       "      <td>fayetteville</td>\n",
       "      <td>https://fayetteville.craigslist.org</td>\n",
       "      <td>14500</td>\n",
       "      <td>2013</td>\n",
       "      <td>toyota</td>\n",
       "      <td>rav4</td>\n",
       "      <td>gas</td>\n",
       "      <td>117291</td>\n",
       "      <td>...</td>\n",
       "      <td>0.0</td>\n",
       "      <td>1.0</td>\n",
       "      <td>0.0</td>\n",
       "      <td>0.0</td>\n",
       "      <td>0.0</td>\n",
       "      <td>0.0</td>\n",
       "      <td>0.0</td>\n",
       "      <td>1.0</td>\n",
       "      <td>0.0</td>\n",
       "      <td>0.0</td>\n",
       "    </tr>\n",
       "    <tr>\n",
       "      <th>4</th>\n",
       "      <td>7303797340</td>\n",
       "      <td>https://knoxville.craigslist.org/ctd/d/knoxvil...</td>\n",
       "      <td>knoxville</td>\n",
       "      <td>https://knoxville.craigslist.org</td>\n",
       "      <td>14590</td>\n",
       "      <td>2012</td>\n",
       "      <td>bmw</td>\n",
       "      <td>1 series 128i coupe 2d</td>\n",
       "      <td>other</td>\n",
       "      <td>80465</td>\n",
       "      <td>...</td>\n",
       "      <td>0.0</td>\n",
       "      <td>1.0</td>\n",
       "      <td>0.0</td>\n",
       "      <td>0.0</td>\n",
       "      <td>0.0</td>\n",
       "      <td>0.0</td>\n",
       "      <td>0.0</td>\n",
       "      <td>1.0</td>\n",
       "      <td>0.0</td>\n",
       "      <td>0.0</td>\n",
       "    </tr>\n",
       "  </tbody>\n",
       "</table>\n",
       "<p>5 rows × 1485 columns</p>\n",
       "</div>"
      ],
      "text/plain": [
       "           id                                                url  \\\n",
       "0  7308295377  https://chattanooga.craigslist.org/ctd/d/chatt...   \n",
       "1  7316380095  https://newjersey.craigslist.org/ctd/d/carlsta...   \n",
       "2  7313733749  https://reno.craigslist.org/ctd/d/atlanta-2017...   \n",
       "3  7308210929  https://fayetteville.craigslist.org/ctd/d/rale...   \n",
       "4  7303797340  https://knoxville.craigslist.org/ctd/d/knoxvil...   \n",
       "\n",
       "         region                           region_url  price  year  \\\n",
       "0   chattanooga   https://chattanooga.craigslist.org  54990  2020   \n",
       "1  north jersey     https://newjersey.craigslist.org  16942  2016   \n",
       "2  reno / tahoe          https://reno.craigslist.org  35590  2017   \n",
       "3  fayetteville  https://fayetteville.craigslist.org  14500  2013   \n",
       "4     knoxville     https://knoxville.craigslist.org  14590  2012   \n",
       "\n",
       "  manufacturer                   model    fuel  odometer  ... state_wy  \\\n",
       "0          ram  2500 crew cab big horn  diesel     27442  ...      0.0   \n",
       "1         ford    explorer 4wd 4dr xlt   other     60023  ...      0.0   \n",
       "2   volkswagen        golf r hatchback     gas     14048  ...      0.0   \n",
       "3       toyota                    rav4     gas    117291  ...      0.0   \n",
       "4          bmw  1 series 128i coupe 2d   other     80465  ...      0.0   \n",
       "\n",
       "  title_status_clean title_status_lien title_status_missing  \\\n",
       "0                1.0               0.0                  0.0   \n",
       "1                1.0               0.0                  0.0   \n",
       "2                1.0               0.0                  0.0   \n",
       "3                1.0               0.0                  0.0   \n",
       "4                1.0               0.0                  0.0   \n",
       "\n",
       "  title_status_parts only  title_status_rebuilt  title_status_salvage  \\\n",
       "0                     0.0                   0.0                   0.0   \n",
       "1                     0.0                   0.0                   0.0   \n",
       "2                     0.0                   0.0                   0.0   \n",
       "3                     0.0                   0.0                   0.0   \n",
       "4                     0.0                   0.0                   0.0   \n",
       "\n",
       "  age_category_average age_category_new age_category_old  \n",
       "0                  0.0              1.0              0.0  \n",
       "1                  0.0              1.0              0.0  \n",
       "2                  0.0              1.0              0.0  \n",
       "3                  1.0              0.0              0.0  \n",
       "4                  1.0              0.0              0.0  \n",
       "\n",
       "[5 rows x 1485 columns]"
      ]
     },
     "execution_count": 53,
     "metadata": {},
     "output_type": "execute_result"
    }
   ],
   "source": [
    "df[ohe.get_feature_names_out()] = ohe_data\n",
    "df.head()"
   ]
  },
  {
   "cell_type": "code",
   "execution_count": 54,
   "id": "91645479",
   "metadata": {},
   "outputs": [
    {
     "data": {
      "text/plain": [
       "Index(['id', 'url', 'region', 'region_url', 'price', 'year', 'manufacturer',\n",
       "       'model', 'fuel', 'odometer',\n",
       "       ...\n",
       "       'state_wy', 'title_status_clean', 'title_status_lien',\n",
       "       'title_status_missing', 'title_status_parts only',\n",
       "       'title_status_rebuilt', 'title_status_salvage', 'age_category_average',\n",
       "       'age_category_new', 'age_category_old'],\n",
       "      dtype='object', length=1485)"
      ]
     },
     "execution_count": 54,
     "metadata": {},
     "output_type": "execute_result"
    }
   ],
   "source": [
    "df.columns"
   ]
  },
  {
   "cell_type": "markdown",
   "id": "4eddeddb",
   "metadata": {
    "id": "4eddeddb"
   },
   "source": [
    "8. Посмотрите на результат обратного преобразования получившейся матрицы в исходные признаки, используйте `inverse_transform`."
   ]
  },
  {
   "cell_type": "code",
   "execution_count": 55,
   "id": "0f2613e6",
   "metadata": {
    "ExecuteTime": {
     "end_time": "2022-03-15T22:40:45.647004Z",
     "start_time": "2022-03-15T22:40:45.641686Z"
    },
    "id": "0f2613e6"
   },
   "outputs": [
    {
     "data": {
      "text/plain": [
       "array([['2500', 'other', 'chattanooga', ..., 'tn', 'clean', 'new'],\n",
       "       ['explorer', 'automatic', 'north jersey', ..., 'nj', 'clean',\n",
       "        'new'],\n",
       "       ['golf', 'other', 'reno / tahoe', ..., 'ca', 'clean', 'new'],\n",
       "       ...,\n",
       "       ['a3', 'automatic', 'salem', ..., 'or', 'clean', 'average'],\n",
       "       ['cayenne', 'automatic', 'madison', ..., 'wi', 'clean', 'new'],\n",
       "       ['1500', 'other', 'norfolk / hampton roads', ..., 'va', 'clean',\n",
       "        'new']], dtype=object)"
      ]
     },
     "execution_count": 55,
     "metadata": {},
     "output_type": "execute_result"
    }
   ],
   "source": [
    "ohe.inverse_transform (ohe_data)"
   ]
  },
  {
   "cell_type": "markdown",
   "id": "29bad2c6",
   "metadata": {
    "id": "29bad2c6"
   },
   "source": [
    "### Задача 3. Стандартизация данных\n",
    "\n",
    "1. Создайте переменную под количественные переменные `lat`, `long`, `year`, `odometer/price`, `desc_len`, `model_in_desc`, `model_len`, `model_word_count` и создайте датафрейм `data`, содержащий только выбранные количественные переменные.\n"
   ]
  },
  {
   "cell_type": "code",
   "execution_count": 56,
   "id": "ad704812",
   "metadata": {
    "ExecuteTime": {
     "end_time": "2022-03-15T22:40:45.881773Z",
     "start_time": "2022-03-15T22:40:45.875957Z"
    },
    "id": "ad704812"
   },
   "outputs": [
    {
     "data": {
      "text/html": [
       "<div>\n",
       "<style scoped>\n",
       "    .dataframe tbody tr th:only-of-type {\n",
       "        vertical-align: middle;\n",
       "    }\n",
       "\n",
       "    .dataframe tbody tr th {\n",
       "        vertical-align: top;\n",
       "    }\n",
       "\n",
       "    .dataframe thead th {\n",
       "        text-align: right;\n",
       "    }\n",
       "</style>\n",
       "<table border=\"1\" class=\"dataframe\">\n",
       "  <thead>\n",
       "    <tr style=\"text-align: right;\">\n",
       "      <th></th>\n",
       "      <th>lat</th>\n",
       "      <th>long</th>\n",
       "      <th>year</th>\n",
       "      <th>odometer/price</th>\n",
       "      <th>desc_len</th>\n",
       "      <th>model_in_desc</th>\n",
       "      <th>model_len</th>\n",
       "      <th>model_word_count</th>\n",
       "    </tr>\n",
       "  </thead>\n",
       "  <tbody>\n",
       "    <tr>\n",
       "      <th>0</th>\n",
       "      <td>35.06</td>\n",
       "      <td>-85.25</td>\n",
       "      <td>2020</td>\n",
       "      <td>0.499036</td>\n",
       "      <td>4482</td>\n",
       "      <td>0</td>\n",
       "      <td>22</td>\n",
       "      <td>5</td>\n",
       "    </tr>\n",
       "  </tbody>\n",
       "</table>\n",
       "</div>"
      ],
      "text/plain": [
       "     lat   long  year  odometer/price  desc_len  model_in_desc  model_len  \\\n",
       "0  35.06 -85.25  2020        0.499036      4482              0         22   \n",
       "\n",
       "   model_word_count  \n",
       "0                 5  "
      ]
     },
     "execution_count": 56,
     "metadata": {},
     "output_type": "execute_result"
    }
   ],
   "source": [
    "data = df[['lat', 'long', 'year', 'odometer/price', 'desc_len', 'model_in_desc', 'model_len', 'model_word_count']]\n",
    "data.head(1)"
   ]
  },
  {
   "cell_type": "markdown",
   "id": "3e3704a7",
   "metadata": {
    "id": "3e3704a7"
   },
   "source": [
    "2. Создайте объект `std_scaler` класса StandardScaler с параметрами по умолчанию, который будет отвечать за стандартизацию."
   ]
  },
  {
   "cell_type": "code",
   "execution_count": 57,
   "id": "7b8ab72c",
   "metadata": {
    "ExecuteTime": {
     "end_time": "2022-03-15T22:40:46.294618Z",
     "start_time": "2022-03-15T22:40:46.288462Z"
    },
    "id": "7b8ab72c"
   },
   "outputs": [],
   "source": [
    "std_scaler = StandardScaler()"
   ]
  },
  {
   "cell_type": "markdown",
   "id": "1630cfa2",
   "metadata": {
    "id": "1630cfa2"
   },
   "source": [
    "3. Идентифицируйте параметры преобразования на датафрейме с количественными переменными."
   ]
  },
  {
   "cell_type": "code",
   "execution_count": 58,
   "id": "0cc2c08b",
   "metadata": {
    "ExecuteTime": {
     "end_time": "2022-03-15T22:40:46.338630Z",
     "start_time": "2022-03-15T22:40:46.333793Z"
    },
    "id": "0cc2c08b"
   },
   "outputs": [
    {
     "data": {
      "text/html": [
       "<style>#sk-container-id-7 {color: black;background-color: white;}#sk-container-id-7 pre{padding: 0;}#sk-container-id-7 div.sk-toggleable {background-color: white;}#sk-container-id-7 label.sk-toggleable__label {cursor: pointer;display: block;width: 100%;margin-bottom: 0;padding: 0.3em;box-sizing: border-box;text-align: center;}#sk-container-id-7 label.sk-toggleable__label-arrow:before {content: \"▸\";float: left;margin-right: 0.25em;color: #696969;}#sk-container-id-7 label.sk-toggleable__label-arrow:hover:before {color: black;}#sk-container-id-7 div.sk-estimator:hover label.sk-toggleable__label-arrow:before {color: black;}#sk-container-id-7 div.sk-toggleable__content {max-height: 0;max-width: 0;overflow: hidden;text-align: left;background-color: #f0f8ff;}#sk-container-id-7 div.sk-toggleable__content pre {margin: 0.2em;color: black;border-radius: 0.25em;background-color: #f0f8ff;}#sk-container-id-7 input.sk-toggleable__control:checked~div.sk-toggleable__content {max-height: 200px;max-width: 100%;overflow: auto;}#sk-container-id-7 input.sk-toggleable__control:checked~label.sk-toggleable__label-arrow:before {content: \"▾\";}#sk-container-id-7 div.sk-estimator input.sk-toggleable__control:checked~label.sk-toggleable__label {background-color: #d4ebff;}#sk-container-id-7 div.sk-label input.sk-toggleable__control:checked~label.sk-toggleable__label {background-color: #d4ebff;}#sk-container-id-7 input.sk-hidden--visually {border: 0;clip: rect(1px 1px 1px 1px);clip: rect(1px, 1px, 1px, 1px);height: 1px;margin: -1px;overflow: hidden;padding: 0;position: absolute;width: 1px;}#sk-container-id-7 div.sk-estimator {font-family: monospace;background-color: #f0f8ff;border: 1px dotted black;border-radius: 0.25em;box-sizing: border-box;margin-bottom: 0.5em;}#sk-container-id-7 div.sk-estimator:hover {background-color: #d4ebff;}#sk-container-id-7 div.sk-parallel-item::after {content: \"\";width: 100%;border-bottom: 1px solid gray;flex-grow: 1;}#sk-container-id-7 div.sk-label:hover label.sk-toggleable__label {background-color: #d4ebff;}#sk-container-id-7 div.sk-serial::before {content: \"\";position: absolute;border-left: 1px solid gray;box-sizing: border-box;top: 0;bottom: 0;left: 50%;z-index: 0;}#sk-container-id-7 div.sk-serial {display: flex;flex-direction: column;align-items: center;background-color: white;padding-right: 0.2em;padding-left: 0.2em;position: relative;}#sk-container-id-7 div.sk-item {position: relative;z-index: 1;}#sk-container-id-7 div.sk-parallel {display: flex;align-items: stretch;justify-content: center;background-color: white;position: relative;}#sk-container-id-7 div.sk-item::before, #sk-container-id-7 div.sk-parallel-item::before {content: \"\";position: absolute;border-left: 1px solid gray;box-sizing: border-box;top: 0;bottom: 0;left: 50%;z-index: -1;}#sk-container-id-7 div.sk-parallel-item {display: flex;flex-direction: column;z-index: 1;position: relative;background-color: white;}#sk-container-id-7 div.sk-parallel-item:first-child::after {align-self: flex-end;width: 50%;}#sk-container-id-7 div.sk-parallel-item:last-child::after {align-self: flex-start;width: 50%;}#sk-container-id-7 div.sk-parallel-item:only-child::after {width: 0;}#sk-container-id-7 div.sk-dashed-wrapped {border: 1px dashed gray;margin: 0 0.4em 0.5em 0.4em;box-sizing: border-box;padding-bottom: 0.4em;background-color: white;}#sk-container-id-7 div.sk-label label {font-family: monospace;font-weight: bold;display: inline-block;line-height: 1.2em;}#sk-container-id-7 div.sk-label-container {text-align: center;}#sk-container-id-7 div.sk-container {/* jupyter's `normalize.less` sets `[hidden] { display: none; }` but bootstrap.min.css set `[hidden] { display: none !important; }` so we also need the `!important` here to be able to override the default hidden behavior on the sphinx rendered scikit-learn.org. See: https://github.com/scikit-learn/scikit-learn/issues/21755 */display: inline-block !important;position: relative;}#sk-container-id-7 div.sk-text-repr-fallback {display: none;}</style><div id=\"sk-container-id-7\" class=\"sk-top-container\"><div class=\"sk-text-repr-fallback\"><pre>StandardScaler()</pre><b>In a Jupyter environment, please rerun this cell to show the HTML representation or trust the notebook. <br />On GitHub, the HTML representation is unable to render, please try loading this page with nbviewer.org.</b></div><div class=\"sk-container\" hidden><div class=\"sk-item\"><div class=\"sk-estimator sk-toggleable\"><input class=\"sk-toggleable__control sk-hidden--visually\" id=\"sk-estimator-id-7\" type=\"checkbox\" checked><label for=\"sk-estimator-id-7\" class=\"sk-toggleable__label sk-toggleable__label-arrow\">StandardScaler</label><div class=\"sk-toggleable__content\"><pre>StandardScaler()</pre></div></div></div></div></div>"
      ],
      "text/plain": [
       "StandardScaler()"
      ]
     },
     "execution_count": 58,
     "metadata": {},
     "output_type": "execute_result"
    }
   ],
   "source": [
    "std_scaler.fit (data)"
   ]
  },
  {
   "cell_type": "markdown",
   "id": "9ef7ff55",
   "metadata": {
    "id": "9ef7ff55"
   },
   "source": [
    "4. Примените преобразование для датафрейма с количественными переменными и сохраните в новую переменную, распечатайте получившуюся матрицу и её размерность."
   ]
  },
  {
   "cell_type": "code",
   "execution_count": 59,
   "id": "cd141505",
   "metadata": {
    "ExecuteTime": {
     "end_time": "2022-03-15T22:40:46.389565Z",
     "start_time": "2022-03-15T22:40:46.380037Z"
    },
    "id": "cd141505"
   },
   "outputs": [
    {
     "data": {
      "text/plain": [
       "array([[-0.61917248,  0.48424452,  1.32239376, ..., -0.15578836,\n",
       "         1.16303238,  1.91066901],\n",
       "       [ 0.38801429,  1.11079989,  0.69597272, ..., -0.15578836,\n",
       "         0.93208734,  1.23579936],\n",
       "       [-0.84305905,  0.531185  ,  0.85257798, ..., -0.15578836,\n",
       "         0.47019727,  0.56092971],\n",
       "       ...,\n",
       "       [ 1.10542805, -1.62887477, -0.08705357, ..., -0.15578836,\n",
       "         1.50944993,  1.91066901],\n",
       "       [ 0.7739386 ,  0.25195859,  0.53936746, ..., -0.15578836,\n",
       "        -0.56905538, -0.78880959],\n",
       "       [-0.33773799,  0.98546471,  0.85257798, ..., -0.15578836,\n",
       "         1.16303238,  1.91066901]])"
      ]
     },
     "execution_count": 59,
     "metadata": {},
     "output_type": "execute_result"
    }
   ],
   "source": [
    "std_scaled = std_scaler.transform(data)\n",
    "std_scaled"
   ]
  },
  {
   "cell_type": "code",
   "execution_count": 60,
   "id": "849620f5",
   "metadata": {},
   "outputs": [
    {
     "data": {
      "text/plain": [
       "(9619, 8)"
      ]
     },
     "execution_count": 60,
     "metadata": {},
     "output_type": "execute_result"
    }
   ],
   "source": [
    "std_scaled.shape"
   ]
  },
  {
   "cell_type": "markdown",
   "id": "68d44f88",
   "metadata": {
    "ExecuteTime": {
     "end_time": "2022-03-13T11:12:57.421096Z",
     "start_time": "2022-03-13T11:12:57.414865Z"
    },
    "id": "68d44f88"
   },
   "source": [
    "5. Создайте наименования новых признаков по шаблону: `lat_std` для `lat` и так далее."
   ]
  },
  {
   "cell_type": "code",
   "execution_count": 67,
   "id": "013e66f2",
   "metadata": {
    "ExecuteTime": {
     "end_time": "2022-03-15T22:40:46.483299Z",
     "start_time": "2022-03-15T22:40:46.475050Z"
    },
    "id": "013e66f2"
   },
   "outputs": [],
   "source": [
    "def new_features(df):\n",
    "    new_features = []\n",
    "    for i in std_scaler.get_feature_names_out().tolist():\n",
    "        new_features.append(i + '_std')\n",
    "    return new_features"
   ]
  },
  {
   "cell_type": "markdown",
   "id": "490925bb",
   "metadata": {
    "ExecuteTime": {
     "end_time": "2022-03-13T11:13:15.167251Z",
     "start_time": "2022-03-13T11:13:15.161293Z"
    },
    "id": "490925bb"
   },
   "source": [
    "6. Добавьте в исходный датафрейм получившиеся новые признаки, выведите первые пять записей датафрейма и список колонок."
   ]
  },
  {
   "cell_type": "code",
   "execution_count": 68,
   "id": "6eb7c0dd",
   "metadata": {
    "ExecuteTime": {
     "end_time": "2022-03-15T22:40:46.528674Z",
     "start_time": "2022-03-15T22:40:46.520688Z"
    },
    "id": "6eb7c0dd"
   },
   "outputs": [
    {
     "data": {
      "text/html": [
       "<div>\n",
       "<style scoped>\n",
       "    .dataframe tbody tr th:only-of-type {\n",
       "        vertical-align: middle;\n",
       "    }\n",
       "\n",
       "    .dataframe tbody tr th {\n",
       "        vertical-align: top;\n",
       "    }\n",
       "\n",
       "    .dataframe thead th {\n",
       "        text-align: right;\n",
       "    }\n",
       "</style>\n",
       "<table border=\"1\" class=\"dataframe\">\n",
       "  <thead>\n",
       "    <tr style=\"text-align: right;\">\n",
       "      <th></th>\n",
       "      <th>id</th>\n",
       "      <th>url</th>\n",
       "      <th>region</th>\n",
       "      <th>region_url</th>\n",
       "      <th>price</th>\n",
       "      <th>year</th>\n",
       "      <th>manufacturer</th>\n",
       "      <th>model</th>\n",
       "      <th>fuel</th>\n",
       "      <th>odometer</th>\n",
       "      <th>...</th>\n",
       "      <th>age_category_new</th>\n",
       "      <th>age_category_old</th>\n",
       "      <th>lat_std</th>\n",
       "      <th>long_std</th>\n",
       "      <th>year_std</th>\n",
       "      <th>odometer/price_std</th>\n",
       "      <th>desc_len_std</th>\n",
       "      <th>model_in_desc_std</th>\n",
       "      <th>model_len_std</th>\n",
       "      <th>model_word_count_std</th>\n",
       "    </tr>\n",
       "  </thead>\n",
       "  <tbody>\n",
       "    <tr>\n",
       "      <th>0</th>\n",
       "      <td>7308295377</td>\n",
       "      <td>https://chattanooga.craigslist.org/ctd/d/chatt...</td>\n",
       "      <td>chattanooga</td>\n",
       "      <td>https://chattanooga.craigslist.org</td>\n",
       "      <td>54990</td>\n",
       "      <td>2020</td>\n",
       "      <td>ram</td>\n",
       "      <td>2500 crew cab big horn</td>\n",
       "      <td>diesel</td>\n",
       "      <td>27442</td>\n",
       "      <td>...</td>\n",
       "      <td>1.0</td>\n",
       "      <td>0.0</td>\n",
       "      <td>-0.619172</td>\n",
       "      <td>0.484245</td>\n",
       "      <td>1.322394</td>\n",
       "      <td>-0.510784</td>\n",
       "      <td>0.632075</td>\n",
       "      <td>-0.155788</td>\n",
       "      <td>1.163032</td>\n",
       "      <td>1.910669</td>\n",
       "    </tr>\n",
       "    <tr>\n",
       "      <th>1</th>\n",
       "      <td>7316380095</td>\n",
       "      <td>https://newjersey.craigslist.org/ctd/d/carlsta...</td>\n",
       "      <td>north jersey</td>\n",
       "      <td>https://newjersey.craigslist.org</td>\n",
       "      <td>16942</td>\n",
       "      <td>2016</td>\n",
       "      <td>ford</td>\n",
       "      <td>explorer 4wd 4dr xlt</td>\n",
       "      <td>other</td>\n",
       "      <td>60023</td>\n",
       "      <td>...</td>\n",
       "      <td>1.0</td>\n",
       "      <td>0.0</td>\n",
       "      <td>0.388014</td>\n",
       "      <td>1.110800</td>\n",
       "      <td>0.695973</td>\n",
       "      <td>-0.402947</td>\n",
       "      <td>-0.646781</td>\n",
       "      <td>-0.155788</td>\n",
       "      <td>0.932087</td>\n",
       "      <td>1.235799</td>\n",
       "    </tr>\n",
       "    <tr>\n",
       "      <th>2</th>\n",
       "      <td>7313733749</td>\n",
       "      <td>https://reno.craigslist.org/ctd/d/atlanta-2017...</td>\n",
       "      <td>reno / tahoe</td>\n",
       "      <td>https://reno.craigslist.org</td>\n",
       "      <td>35590</td>\n",
       "      <td>2017</td>\n",
       "      <td>volkswagen</td>\n",
       "      <td>golf r hatchback</td>\n",
       "      <td>gas</td>\n",
       "      <td>14048</td>\n",
       "      <td>...</td>\n",
       "      <td>1.0</td>\n",
       "      <td>0.0</td>\n",
       "      <td>-0.843059</td>\n",
       "      <td>0.531185</td>\n",
       "      <td>0.852578</td>\n",
       "      <td>-0.514480</td>\n",
       "      <td>0.560744</td>\n",
       "      <td>-0.155788</td>\n",
       "      <td>0.470197</td>\n",
       "      <td>0.560930</td>\n",
       "    </tr>\n",
       "    <tr>\n",
       "      <th>3</th>\n",
       "      <td>7308210929</td>\n",
       "      <td>https://fayetteville.craigslist.org/ctd/d/rale...</td>\n",
       "      <td>fayetteville</td>\n",
       "      <td>https://fayetteville.craigslist.org</td>\n",
       "      <td>14500</td>\n",
       "      <td>2013</td>\n",
       "      <td>toyota</td>\n",
       "      <td>rav4</td>\n",
       "      <td>gas</td>\n",
       "      <td>117291</td>\n",
       "      <td>...</td>\n",
       "      <td>0.0</td>\n",
       "      <td>0.0</td>\n",
       "      <td>-0.504509</td>\n",
       "      <td>0.853562</td>\n",
       "      <td>0.226157</td>\n",
       "      <td>-0.241883</td>\n",
       "      <td>0.180435</td>\n",
       "      <td>-0.155788</td>\n",
       "      <td>-0.915473</td>\n",
       "      <td>-0.788810</td>\n",
       "    </tr>\n",
       "    <tr>\n",
       "      <th>4</th>\n",
       "      <td>7303797340</td>\n",
       "      <td>https://knoxville.craigslist.org/ctd/d/knoxvil...</td>\n",
       "      <td>knoxville</td>\n",
       "      <td>https://knoxville.craigslist.org</td>\n",
       "      <td>14590</td>\n",
       "      <td>2012</td>\n",
       "      <td>bmw</td>\n",
       "      <td>1 series 128i coupe 2d</td>\n",
       "      <td>other</td>\n",
       "      <td>80465</td>\n",
       "      <td>...</td>\n",
       "      <td>0.0</td>\n",
       "      <td>0.0</td>\n",
       "      <td>-0.460101</td>\n",
       "      <td>0.557607</td>\n",
       "      <td>0.069552</td>\n",
       "      <td>-0.333074</td>\n",
       "      <td>0.766366</td>\n",
       "      <td>-0.155788</td>\n",
       "      <td>1.163032</td>\n",
       "      <td>1.910669</td>\n",
       "    </tr>\n",
       "  </tbody>\n",
       "</table>\n",
       "<p>5 rows × 1493 columns</p>\n",
       "</div>"
      ],
      "text/plain": [
       "           id                                                url  \\\n",
       "0  7308295377  https://chattanooga.craigslist.org/ctd/d/chatt...   \n",
       "1  7316380095  https://newjersey.craigslist.org/ctd/d/carlsta...   \n",
       "2  7313733749  https://reno.craigslist.org/ctd/d/atlanta-2017...   \n",
       "3  7308210929  https://fayetteville.craigslist.org/ctd/d/rale...   \n",
       "4  7303797340  https://knoxville.craigslist.org/ctd/d/knoxvil...   \n",
       "\n",
       "         region                           region_url  price  year  \\\n",
       "0   chattanooga   https://chattanooga.craigslist.org  54990  2020   \n",
       "1  north jersey     https://newjersey.craigslist.org  16942  2016   \n",
       "2  reno / tahoe          https://reno.craigslist.org  35590  2017   \n",
       "3  fayetteville  https://fayetteville.craigslist.org  14500  2013   \n",
       "4     knoxville     https://knoxville.craigslist.org  14590  2012   \n",
       "\n",
       "  manufacturer                   model    fuel  odometer  ...  \\\n",
       "0          ram  2500 crew cab big horn  diesel     27442  ...   \n",
       "1         ford    explorer 4wd 4dr xlt   other     60023  ...   \n",
       "2   volkswagen        golf r hatchback     gas     14048  ...   \n",
       "3       toyota                    rav4     gas    117291  ...   \n",
       "4          bmw  1 series 128i coupe 2d   other     80465  ...   \n",
       "\n",
       "  age_category_new age_category_old   lat_std  long_std  year_std  \\\n",
       "0              1.0              0.0 -0.619172  0.484245  1.322394   \n",
       "1              1.0              0.0  0.388014  1.110800  0.695973   \n",
       "2              1.0              0.0 -0.843059  0.531185  0.852578   \n",
       "3              0.0              0.0 -0.504509  0.853562  0.226157   \n",
       "4              0.0              0.0 -0.460101  0.557607  0.069552   \n",
       "\n",
       "   odometer/price_std  desc_len_std model_in_desc_std model_len_std  \\\n",
       "0           -0.510784      0.632075         -0.155788      1.163032   \n",
       "1           -0.402947     -0.646781         -0.155788      0.932087   \n",
       "2           -0.514480      0.560744         -0.155788      0.470197   \n",
       "3           -0.241883      0.180435         -0.155788     -0.915473   \n",
       "4           -0.333074      0.766366         -0.155788      1.163032   \n",
       "\n",
       "  model_word_count_std  \n",
       "0             1.910669  \n",
       "1             1.235799  \n",
       "2             0.560930  \n",
       "3            -0.788810  \n",
       "4             1.910669  \n",
       "\n",
       "[5 rows x 1493 columns]"
      ]
     },
     "execution_count": 68,
     "metadata": {},
     "output_type": "execute_result"
    }
   ],
   "source": [
    "n_features = new_features (data)\n",
    "df.loc[:, n_features] = std_scaled\n",
    "df.head()"
   ]
  },
  {
   "cell_type": "code",
   "execution_count": 69,
   "id": "accbff8f",
   "metadata": {},
   "outputs": [
    {
     "data": {
      "text/plain": [
       "Index(['id', 'url', 'region', 'region_url', 'price', 'year', 'manufacturer',\n",
       "       'model', 'fuel', 'odometer',\n",
       "       ...\n",
       "       'age_category_new', 'age_category_old', 'lat_std', 'long_std',\n",
       "       'year_std', 'odometer/price_std', 'desc_len_std', 'model_in_desc_std',\n",
       "       'model_len_std', 'model_word_count_std'],\n",
       "      dtype='object', length=1493)"
      ]
     },
     "execution_count": 69,
     "metadata": {},
     "output_type": "execute_result"
    }
   ],
   "source": [
    "df.columns"
   ]
  },
  {
   "cell_type": "markdown",
   "id": "0a3146dd",
   "metadata": {
    "ExecuteTime": {
     "end_time": "2022-03-13T11:16:52.292837Z",
     "start_time": "2022-03-13T11:16:52.286868Z"
    },
    "id": "0a3146dd"
   },
   "source": [
    "### Задача 4. MinMax-нормализация данных\n",
    "\n",
    "1. Импортируйте MinMaxScaler из `sklearn.preprocessing`."
   ]
  },
  {
   "cell_type": "code",
   "execution_count": 70,
   "id": "3db8afba",
   "metadata": {
    "ExecuteTime": {
     "end_time": "2022-03-15T22:40:46.701361Z",
     "start_time": "2022-03-15T22:40:46.695192Z"
    },
    "id": "3db8afba"
   },
   "outputs": [],
   "source": [
    "from sklearn.preprocessing import MinMaxScaler"
   ]
  },
  {
   "cell_type": "markdown",
   "id": "d471557f",
   "metadata": {
    "id": "d471557f"
   },
   "source": [
    "2. Создайте датафрейм, содержащий переменные `lat` и `long`."
   ]
  },
  {
   "cell_type": "code",
   "execution_count": 71,
   "id": "13859501",
   "metadata": {
    "ExecuteTime": {
     "end_time": "2022-03-15T22:40:46.732137Z",
     "start_time": "2022-03-15T22:40:46.725228Z"
    },
    "id": "13859501"
   },
   "outputs": [
    {
     "data": {
      "text/html": [
       "<div>\n",
       "<style scoped>\n",
       "    .dataframe tbody tr th:only-of-type {\n",
       "        vertical-align: middle;\n",
       "    }\n",
       "\n",
       "    .dataframe tbody tr th {\n",
       "        vertical-align: top;\n",
       "    }\n",
       "\n",
       "    .dataframe thead th {\n",
       "        text-align: right;\n",
       "    }\n",
       "</style>\n",
       "<table border=\"1\" class=\"dataframe\">\n",
       "  <thead>\n",
       "    <tr style=\"text-align: right;\">\n",
       "      <th></th>\n",
       "      <th>lat</th>\n",
       "      <th>long</th>\n",
       "    </tr>\n",
       "  </thead>\n",
       "  <tbody>\n",
       "    <tr>\n",
       "      <th>0</th>\n",
       "      <td>35.06</td>\n",
       "      <td>-85.25</td>\n",
       "    </tr>\n",
       "  </tbody>\n",
       "</table>\n",
       "</div>"
      ],
      "text/plain": [
       "     lat   long\n",
       "0  35.06 -85.25"
      ]
     },
     "execution_count": 71,
     "metadata": {},
     "output_type": "execute_result"
    }
   ],
   "source": [
    "df_ll = df[['lat','long']]\n",
    "df_ll.head(1)"
   ]
  },
  {
   "cell_type": "markdown",
   "id": "0599fc35",
   "metadata": {
    "id": "0599fc35"
   },
   "source": [
    "3. Повторите действия пунктов 2–6 из задачи 3 для добавления в исходный датафрейм признаков `lat_mm` и `long_mm`. Выведите получившийся датафрейм."
   ]
  },
  {
   "cell_type": "code",
   "execution_count": 72,
   "id": "26f2c546",
   "metadata": {
    "ExecuteTime": {
     "end_time": "2022-03-15T22:40:47.159782Z",
     "start_time": "2022-03-15T22:40:47.148971Z"
    },
    "id": "26f2c546"
   },
   "outputs": [],
   "source": [
    "mms = MinMaxScaler()"
   ]
  },
  {
   "cell_type": "code",
   "execution_count": 73,
   "id": "9a90601f",
   "metadata": {},
   "outputs": [
    {
     "data": {
      "text/html": [
       "<style>#sk-container-id-8 {color: black;background-color: white;}#sk-container-id-8 pre{padding: 0;}#sk-container-id-8 div.sk-toggleable {background-color: white;}#sk-container-id-8 label.sk-toggleable__label {cursor: pointer;display: block;width: 100%;margin-bottom: 0;padding: 0.3em;box-sizing: border-box;text-align: center;}#sk-container-id-8 label.sk-toggleable__label-arrow:before {content: \"▸\";float: left;margin-right: 0.25em;color: #696969;}#sk-container-id-8 label.sk-toggleable__label-arrow:hover:before {color: black;}#sk-container-id-8 div.sk-estimator:hover label.sk-toggleable__label-arrow:before {color: black;}#sk-container-id-8 div.sk-toggleable__content {max-height: 0;max-width: 0;overflow: hidden;text-align: left;background-color: #f0f8ff;}#sk-container-id-8 div.sk-toggleable__content pre {margin: 0.2em;color: black;border-radius: 0.25em;background-color: #f0f8ff;}#sk-container-id-8 input.sk-toggleable__control:checked~div.sk-toggleable__content {max-height: 200px;max-width: 100%;overflow: auto;}#sk-container-id-8 input.sk-toggleable__control:checked~label.sk-toggleable__label-arrow:before {content: \"▾\";}#sk-container-id-8 div.sk-estimator input.sk-toggleable__control:checked~label.sk-toggleable__label {background-color: #d4ebff;}#sk-container-id-8 div.sk-label input.sk-toggleable__control:checked~label.sk-toggleable__label {background-color: #d4ebff;}#sk-container-id-8 input.sk-hidden--visually {border: 0;clip: rect(1px 1px 1px 1px);clip: rect(1px, 1px, 1px, 1px);height: 1px;margin: -1px;overflow: hidden;padding: 0;position: absolute;width: 1px;}#sk-container-id-8 div.sk-estimator {font-family: monospace;background-color: #f0f8ff;border: 1px dotted black;border-radius: 0.25em;box-sizing: border-box;margin-bottom: 0.5em;}#sk-container-id-8 div.sk-estimator:hover {background-color: #d4ebff;}#sk-container-id-8 div.sk-parallel-item::after {content: \"\";width: 100%;border-bottom: 1px solid gray;flex-grow: 1;}#sk-container-id-8 div.sk-label:hover label.sk-toggleable__label {background-color: #d4ebff;}#sk-container-id-8 div.sk-serial::before {content: \"\";position: absolute;border-left: 1px solid gray;box-sizing: border-box;top: 0;bottom: 0;left: 50%;z-index: 0;}#sk-container-id-8 div.sk-serial {display: flex;flex-direction: column;align-items: center;background-color: white;padding-right: 0.2em;padding-left: 0.2em;position: relative;}#sk-container-id-8 div.sk-item {position: relative;z-index: 1;}#sk-container-id-8 div.sk-parallel {display: flex;align-items: stretch;justify-content: center;background-color: white;position: relative;}#sk-container-id-8 div.sk-item::before, #sk-container-id-8 div.sk-parallel-item::before {content: \"\";position: absolute;border-left: 1px solid gray;box-sizing: border-box;top: 0;bottom: 0;left: 50%;z-index: -1;}#sk-container-id-8 div.sk-parallel-item {display: flex;flex-direction: column;z-index: 1;position: relative;background-color: white;}#sk-container-id-8 div.sk-parallel-item:first-child::after {align-self: flex-end;width: 50%;}#sk-container-id-8 div.sk-parallel-item:last-child::after {align-self: flex-start;width: 50%;}#sk-container-id-8 div.sk-parallel-item:only-child::after {width: 0;}#sk-container-id-8 div.sk-dashed-wrapped {border: 1px dashed gray;margin: 0 0.4em 0.5em 0.4em;box-sizing: border-box;padding-bottom: 0.4em;background-color: white;}#sk-container-id-8 div.sk-label label {font-family: monospace;font-weight: bold;display: inline-block;line-height: 1.2em;}#sk-container-id-8 div.sk-label-container {text-align: center;}#sk-container-id-8 div.sk-container {/* jupyter's `normalize.less` sets `[hidden] { display: none; }` but bootstrap.min.css set `[hidden] { display: none !important; }` so we also need the `!important` here to be able to override the default hidden behavior on the sphinx rendered scikit-learn.org. See: https://github.com/scikit-learn/scikit-learn/issues/21755 */display: inline-block !important;position: relative;}#sk-container-id-8 div.sk-text-repr-fallback {display: none;}</style><div id=\"sk-container-id-8\" class=\"sk-top-container\"><div class=\"sk-text-repr-fallback\"><pre>MinMaxScaler()</pre><b>In a Jupyter environment, please rerun this cell to show the HTML representation or trust the notebook. <br />On GitHub, the HTML representation is unable to render, please try loading this page with nbviewer.org.</b></div><div class=\"sk-container\" hidden><div class=\"sk-item\"><div class=\"sk-estimator sk-toggleable\"><input class=\"sk-toggleable__control sk-hidden--visually\" id=\"sk-estimator-id-8\" type=\"checkbox\" checked><label for=\"sk-estimator-id-8\" class=\"sk-toggleable__label sk-toggleable__label-arrow\">MinMaxScaler</label><div class=\"sk-toggleable__content\"><pre>MinMaxScaler()</pre></div></div></div></div></div>"
      ],
      "text/plain": [
       "MinMaxScaler()"
      ]
     },
     "execution_count": 73,
     "metadata": {},
     "output_type": "execute_result"
    }
   ],
   "source": [
    "mms.fit (df_ll)"
   ]
  },
  {
   "cell_type": "code",
   "execution_count": 74,
   "id": "67d90afa",
   "metadata": {},
   "outputs": [
    {
     "data": {
      "text/plain": [
       "array([[0.34176874, 0.28869912],\n",
       "       [0.4686646 , 0.33305517],\n",
       "       [0.31356118, 0.2920222 ],\n",
       "       ...,\n",
       "       [0.55905185, 0.13910399],\n",
       "       [0.51728736, 0.27225478],\n",
       "       [0.37722678, 0.32418225]])"
      ]
     },
     "execution_count": 74,
     "metadata": {},
     "output_type": "execute_result"
    }
   ],
   "source": [
    "mms_scaled = mms.transform (df_ll)\n",
    "mms_scaled"
   ]
  },
  {
   "cell_type": "code",
   "execution_count": 75,
   "id": "13c17662",
   "metadata": {},
   "outputs": [
    {
     "data": {
      "text/plain": [
       "(9619, 2)"
      ]
     },
     "execution_count": 75,
     "metadata": {},
     "output_type": "execute_result"
    }
   ],
   "source": [
    "mms_scaled.shape"
   ]
  },
  {
   "cell_type": "code",
   "execution_count": 76,
   "id": "14165701",
   "metadata": {},
   "outputs": [],
   "source": [
    "def new_features_2(df):\n",
    "    new_features = []\n",
    "    for i in mms.get_feature_names_out().tolist():\n",
    "        new_features.append(i + '_mm')\n",
    "    return new_features"
   ]
  },
  {
   "cell_type": "code",
   "execution_count": 77,
   "id": "fd9f7399",
   "metadata": {},
   "outputs": [
    {
     "data": {
      "text/plain": [
       "['lat_mm', 'long_mm']"
      ]
     },
     "execution_count": 77,
     "metadata": {},
     "output_type": "execute_result"
    }
   ],
   "source": [
    "new_features_2(df_ll)"
   ]
  },
  {
   "cell_type": "code",
   "execution_count": 78,
   "id": "247d5fff",
   "metadata": {},
   "outputs": [
    {
     "data": {
      "text/html": [
       "<div>\n",
       "<style scoped>\n",
       "    .dataframe tbody tr th:only-of-type {\n",
       "        vertical-align: middle;\n",
       "    }\n",
       "\n",
       "    .dataframe tbody tr th {\n",
       "        vertical-align: top;\n",
       "    }\n",
       "\n",
       "    .dataframe thead th {\n",
       "        text-align: right;\n",
       "    }\n",
       "</style>\n",
       "<table border=\"1\" class=\"dataframe\">\n",
       "  <thead>\n",
       "    <tr style=\"text-align: right;\">\n",
       "      <th></th>\n",
       "      <th>id</th>\n",
       "      <th>url</th>\n",
       "      <th>region</th>\n",
       "      <th>region_url</th>\n",
       "      <th>price</th>\n",
       "      <th>year</th>\n",
       "      <th>manufacturer</th>\n",
       "      <th>model</th>\n",
       "      <th>fuel</th>\n",
       "      <th>odometer</th>\n",
       "      <th>...</th>\n",
       "      <th>lat_std</th>\n",
       "      <th>long_std</th>\n",
       "      <th>year_std</th>\n",
       "      <th>odometer/price_std</th>\n",
       "      <th>desc_len_std</th>\n",
       "      <th>model_in_desc_std</th>\n",
       "      <th>model_len_std</th>\n",
       "      <th>model_word_count_std</th>\n",
       "      <th>lat_mm</th>\n",
       "      <th>long_mm</th>\n",
       "    </tr>\n",
       "  </thead>\n",
       "  <tbody>\n",
       "    <tr>\n",
       "      <th>0</th>\n",
       "      <td>7308295377</td>\n",
       "      <td>https://chattanooga.craigslist.org/ctd/d/chatt...</td>\n",
       "      <td>chattanooga</td>\n",
       "      <td>https://chattanooga.craigslist.org</td>\n",
       "      <td>54990</td>\n",
       "      <td>2020</td>\n",
       "      <td>ram</td>\n",
       "      <td>2500 crew cab big horn</td>\n",
       "      <td>diesel</td>\n",
       "      <td>27442</td>\n",
       "      <td>...</td>\n",
       "      <td>-0.619172</td>\n",
       "      <td>0.484245</td>\n",
       "      <td>1.322394</td>\n",
       "      <td>-0.510784</td>\n",
       "      <td>0.632075</td>\n",
       "      <td>-0.155788</td>\n",
       "      <td>1.163032</td>\n",
       "      <td>1.910669</td>\n",
       "      <td>0.341769</td>\n",
       "      <td>0.288699</td>\n",
       "    </tr>\n",
       "    <tr>\n",
       "      <th>1</th>\n",
       "      <td>7316380095</td>\n",
       "      <td>https://newjersey.craigslist.org/ctd/d/carlsta...</td>\n",
       "      <td>north jersey</td>\n",
       "      <td>https://newjersey.craigslist.org</td>\n",
       "      <td>16942</td>\n",
       "      <td>2016</td>\n",
       "      <td>ford</td>\n",
       "      <td>explorer 4wd 4dr xlt</td>\n",
       "      <td>other</td>\n",
       "      <td>60023</td>\n",
       "      <td>...</td>\n",
       "      <td>0.388014</td>\n",
       "      <td>1.110800</td>\n",
       "      <td>0.695973</td>\n",
       "      <td>-0.402947</td>\n",
       "      <td>-0.646781</td>\n",
       "      <td>-0.155788</td>\n",
       "      <td>0.932087</td>\n",
       "      <td>1.235799</td>\n",
       "      <td>0.468665</td>\n",
       "      <td>0.333055</td>\n",
       "    </tr>\n",
       "    <tr>\n",
       "      <th>2</th>\n",
       "      <td>7313733749</td>\n",
       "      <td>https://reno.craigslist.org/ctd/d/atlanta-2017...</td>\n",
       "      <td>reno / tahoe</td>\n",
       "      <td>https://reno.craigslist.org</td>\n",
       "      <td>35590</td>\n",
       "      <td>2017</td>\n",
       "      <td>volkswagen</td>\n",
       "      <td>golf r hatchback</td>\n",
       "      <td>gas</td>\n",
       "      <td>14048</td>\n",
       "      <td>...</td>\n",
       "      <td>-0.843059</td>\n",
       "      <td>0.531185</td>\n",
       "      <td>0.852578</td>\n",
       "      <td>-0.514480</td>\n",
       "      <td>0.560744</td>\n",
       "      <td>-0.155788</td>\n",
       "      <td>0.470197</td>\n",
       "      <td>0.560930</td>\n",
       "      <td>0.313561</td>\n",
       "      <td>0.292022</td>\n",
       "    </tr>\n",
       "    <tr>\n",
       "      <th>3</th>\n",
       "      <td>7308210929</td>\n",
       "      <td>https://fayetteville.craigslist.org/ctd/d/rale...</td>\n",
       "      <td>fayetteville</td>\n",
       "      <td>https://fayetteville.craigslist.org</td>\n",
       "      <td>14500</td>\n",
       "      <td>2013</td>\n",
       "      <td>toyota</td>\n",
       "      <td>rav4</td>\n",
       "      <td>gas</td>\n",
       "      <td>117291</td>\n",
       "      <td>...</td>\n",
       "      <td>-0.504509</td>\n",
       "      <td>0.853562</td>\n",
       "      <td>0.226157</td>\n",
       "      <td>-0.241883</td>\n",
       "      <td>0.180435</td>\n",
       "      <td>-0.155788</td>\n",
       "      <td>-0.915473</td>\n",
       "      <td>-0.788810</td>\n",
       "      <td>0.356215</td>\n",
       "      <td>0.314844</td>\n",
       "    </tr>\n",
       "    <tr>\n",
       "      <th>4</th>\n",
       "      <td>7303797340</td>\n",
       "      <td>https://knoxville.craigslist.org/ctd/d/knoxvil...</td>\n",
       "      <td>knoxville</td>\n",
       "      <td>https://knoxville.craigslist.org</td>\n",
       "      <td>14590</td>\n",
       "      <td>2012</td>\n",
       "      <td>bmw</td>\n",
       "      <td>1 series 128i coupe 2d</td>\n",
       "      <td>other</td>\n",
       "      <td>80465</td>\n",
       "      <td>...</td>\n",
       "      <td>-0.460101</td>\n",
       "      <td>0.557607</td>\n",
       "      <td>0.069552</td>\n",
       "      <td>-0.333074</td>\n",
       "      <td>0.766366</td>\n",
       "      <td>-0.155788</td>\n",
       "      <td>1.163032</td>\n",
       "      <td>1.910669</td>\n",
       "      <td>0.361810</td>\n",
       "      <td>0.293893</td>\n",
       "    </tr>\n",
       "  </tbody>\n",
       "</table>\n",
       "<p>5 rows × 1495 columns</p>\n",
       "</div>"
      ],
      "text/plain": [
       "           id                                                url  \\\n",
       "0  7308295377  https://chattanooga.craigslist.org/ctd/d/chatt...   \n",
       "1  7316380095  https://newjersey.craigslist.org/ctd/d/carlsta...   \n",
       "2  7313733749  https://reno.craigslist.org/ctd/d/atlanta-2017...   \n",
       "3  7308210929  https://fayetteville.craigslist.org/ctd/d/rale...   \n",
       "4  7303797340  https://knoxville.craigslist.org/ctd/d/knoxvil...   \n",
       "\n",
       "         region                           region_url  price  year  \\\n",
       "0   chattanooga   https://chattanooga.craigslist.org  54990  2020   \n",
       "1  north jersey     https://newjersey.craigslist.org  16942  2016   \n",
       "2  reno / tahoe          https://reno.craigslist.org  35590  2017   \n",
       "3  fayetteville  https://fayetteville.craigslist.org  14500  2013   \n",
       "4     knoxville     https://knoxville.craigslist.org  14590  2012   \n",
       "\n",
       "  manufacturer                   model    fuel  odometer  ...   lat_std  \\\n",
       "0          ram  2500 crew cab big horn  diesel     27442  ... -0.619172   \n",
       "1         ford    explorer 4wd 4dr xlt   other     60023  ...  0.388014   \n",
       "2   volkswagen        golf r hatchback     gas     14048  ... -0.843059   \n",
       "3       toyota                    rav4     gas    117291  ... -0.504509   \n",
       "4          bmw  1 series 128i coupe 2d   other     80465  ... -0.460101   \n",
       "\n",
       "   long_std  year_std odometer/price_std desc_len_std  model_in_desc_std  \\\n",
       "0  0.484245  1.322394          -0.510784     0.632075          -0.155788   \n",
       "1  1.110800  0.695973          -0.402947    -0.646781          -0.155788   \n",
       "2  0.531185  0.852578          -0.514480     0.560744          -0.155788   \n",
       "3  0.853562  0.226157          -0.241883     0.180435          -0.155788   \n",
       "4  0.557607  0.069552          -0.333074     0.766366          -0.155788   \n",
       "\n",
       "   model_len_std model_word_count_std    lat_mm   long_mm  \n",
       "0       1.163032             1.910669  0.341769  0.288699  \n",
       "1       0.932087             1.235799  0.468665  0.333055  \n",
       "2       0.470197             0.560930  0.313561  0.292022  \n",
       "3      -0.915473            -0.788810  0.356215  0.314844  \n",
       "4       1.163032             1.910669  0.361810  0.293893  \n",
       "\n",
       "[5 rows x 1495 columns]"
      ]
     },
     "execution_count": 78,
     "metadata": {},
     "output_type": "execute_result"
    }
   ],
   "source": [
    "n_features = new_features_2 (df_ll)\n",
    "df.loc[:, n_features] = mms_scaled\n",
    "df.head ()"
   ]
  },
  {
   "cell_type": "markdown",
   "id": "71044c34",
   "metadata": {
    "id": "71044c34"
   },
   "source": [
    "4. Создайте переменную под географические признаки `lat`, `lat_std`, `lat_mm`, `long`, `long_std`, `long_mm` и выведите их. Посмотрите на различия в значениях для исходных признаков и нормализованных с помощью стандартизации и MinMax-преобразования. "
   ]
  },
  {
   "cell_type": "code",
   "execution_count": 79,
   "id": "27642284",
   "metadata": {
    "ExecuteTime": {
     "end_time": "2022-03-15T22:40:47.408669Z",
     "start_time": "2022-03-15T22:40:47.402057Z"
    },
    "id": "27642284"
   },
   "outputs": [
    {
     "data": {
      "text/html": [
       "<div>\n",
       "<style scoped>\n",
       "    .dataframe tbody tr th:only-of-type {\n",
       "        vertical-align: middle;\n",
       "    }\n",
       "\n",
       "    .dataframe tbody tr th {\n",
       "        vertical-align: top;\n",
       "    }\n",
       "\n",
       "    .dataframe thead th {\n",
       "        text-align: right;\n",
       "    }\n",
       "</style>\n",
       "<table border=\"1\" class=\"dataframe\">\n",
       "  <thead>\n",
       "    <tr style=\"text-align: right;\">\n",
       "      <th></th>\n",
       "      <th>lat</th>\n",
       "      <th>lat_std</th>\n",
       "      <th>lat_mm</th>\n",
       "      <th>long</th>\n",
       "      <th>long_std</th>\n",
       "      <th>long_mm</th>\n",
       "    </tr>\n",
       "  </thead>\n",
       "  <tbody>\n",
       "    <tr>\n",
       "      <th>0</th>\n",
       "      <td>35.06</td>\n",
       "      <td>-0.619172</td>\n",
       "      <td>0.341769</td>\n",
       "      <td>-85.25</td>\n",
       "      <td>0.484245</td>\n",
       "      <td>0.288699</td>\n",
       "    </tr>\n",
       "  </tbody>\n",
       "</table>\n",
       "</div>"
      ],
      "text/plain": [
       "     lat   lat_std    lat_mm   long  long_std   long_mm\n",
       "0  35.06 -0.619172  0.341769 -85.25  0.484245  0.288699"
      ]
     },
     "execution_count": 79,
     "metadata": {},
     "output_type": "execute_result"
    }
   ],
   "source": [
    "df_geo = df[['lat', 'lat_std', 'lat_mm', 'long', 'long_std', 'long_mm']]\n",
    "df_geo.head(1)"
   ]
  },
  {
   "cell_type": "markdown",
   "id": "ef219d5f",
   "metadata": {
    "id": "ef219d5f"
   },
   "source": [
    "5. Выведите описательные статистики для всех географических признаков. Посмотрите на различия в статистиках для исходных признаков и нормализованных с помощью стандартизации и MinMax-преобразования."
   ]
  },
  {
   "cell_type": "code",
   "execution_count": 80,
   "id": "453b92ff",
   "metadata": {
    "ExecuteTime": {
     "end_time": "2022-03-15T22:40:47.738681Z",
     "start_time": "2022-03-15T22:40:47.730698Z"
    },
    "id": "453b92ff"
   },
   "outputs": [
    {
     "data": {
      "text/html": [
       "<div>\n",
       "<style scoped>\n",
       "    .dataframe tbody tr th:only-of-type {\n",
       "        vertical-align: middle;\n",
       "    }\n",
       "\n",
       "    .dataframe tbody tr th {\n",
       "        vertical-align: top;\n",
       "    }\n",
       "\n",
       "    .dataframe thead th {\n",
       "        text-align: right;\n",
       "    }\n",
       "</style>\n",
       "<table border=\"1\" class=\"dataframe\">\n",
       "  <thead>\n",
       "    <tr style=\"text-align: right;\">\n",
       "      <th></th>\n",
       "      <th>lat</th>\n",
       "      <th>lat_std</th>\n",
       "      <th>lat_mm</th>\n",
       "      <th>long</th>\n",
       "      <th>long_std</th>\n",
       "      <th>long_mm</th>\n",
       "    </tr>\n",
       "  </thead>\n",
       "  <tbody>\n",
       "    <tr>\n",
       "      <th>count</th>\n",
       "      <td>9619.000000</td>\n",
       "      <td>9.619000e+03</td>\n",
       "      <td>9619.000000</td>\n",
       "      <td>9619.000000</td>\n",
       "      <td>9.619000e+03</td>\n",
       "      <td>9619.000000</td>\n",
       "    </tr>\n",
       "    <tr>\n",
       "      <th>mean</th>\n",
       "      <td>38.602095</td>\n",
       "      <td>2.108662e-16</td>\n",
       "      <td>0.419779</td>\n",
       "      <td>-93.896875</td>\n",
       "      <td>-4.267993e-16</td>\n",
       "      <td>0.254418</td>\n",
       "    </tr>\n",
       "    <tr>\n",
       "      <th>std</th>\n",
       "      <td>5.720989</td>\n",
       "      <td>1.000052e+00</td>\n",
       "      <td>0.125997</td>\n",
       "      <td>17.857352</td>\n",
       "      <td>1.000052e+00</td>\n",
       "      <td>0.070797</td>\n",
       "    </tr>\n",
       "    <tr>\n",
       "      <th>min</th>\n",
       "      <td>19.541726</td>\n",
       "      <td>-3.331829e+00</td>\n",
       "      <td>0.000000</td>\n",
       "      <td>-158.069300</td>\n",
       "      <td>-3.593801e+00</td>\n",
       "      <td>0.000000</td>\n",
       "    </tr>\n",
       "    <tr>\n",
       "      <th>25%</th>\n",
       "      <td>34.920000</td>\n",
       "      <td>-6.436450e-01</td>\n",
       "      <td>0.338685</td>\n",
       "      <td>-106.944340</td>\n",
       "      <td>-7.306875e-01</td>\n",
       "      <td>0.202690</td>\n",
       "    </tr>\n",
       "    <tr>\n",
       "      <th>50%</th>\n",
       "      <td>39.300000</td>\n",
       "      <td>1.219966e-01</td>\n",
       "      <td>0.435149</td>\n",
       "      <td>-87.845800</td>\n",
       "      <td>3.388739e-01</td>\n",
       "      <td>0.278408</td>\n",
       "    </tr>\n",
       "    <tr>\n",
       "      <th>75%</th>\n",
       "      <td>42.382100</td>\n",
       "      <td>6.607601e-01</td>\n",
       "      <td>0.503028</td>\n",
       "      <td>-80.678711</td>\n",
       "      <td>7.402470e-01</td>\n",
       "      <td>0.306822</td>\n",
       "    </tr>\n",
       "    <tr>\n",
       "      <th>max</th>\n",
       "      <td>64.947500</td>\n",
       "      <td>4.605283e+00</td>\n",
       "      <td>1.000000</td>\n",
       "      <td>94.163200</td>\n",
       "      <td>1.053179e+01</td>\n",
       "      <td>1.000000</td>\n",
       "    </tr>\n",
       "  </tbody>\n",
       "</table>\n",
       "</div>"
      ],
      "text/plain": [
       "               lat       lat_std       lat_mm         long      long_std  \\\n",
       "count  9619.000000  9.619000e+03  9619.000000  9619.000000  9.619000e+03   \n",
       "mean     38.602095  2.108662e-16     0.419779   -93.896875 -4.267993e-16   \n",
       "std       5.720989  1.000052e+00     0.125997    17.857352  1.000052e+00   \n",
       "min      19.541726 -3.331829e+00     0.000000  -158.069300 -3.593801e+00   \n",
       "25%      34.920000 -6.436450e-01     0.338685  -106.944340 -7.306875e-01   \n",
       "50%      39.300000  1.219966e-01     0.435149   -87.845800  3.388739e-01   \n",
       "75%      42.382100  6.607601e-01     0.503028   -80.678711  7.402470e-01   \n",
       "max      64.947500  4.605283e+00     1.000000    94.163200  1.053179e+01   \n",
       "\n",
       "           long_mm  \n",
       "count  9619.000000  \n",
       "mean      0.254418  \n",
       "std       0.070797  \n",
       "min       0.000000  \n",
       "25%       0.202690  \n",
       "50%       0.278408  \n",
       "75%       0.306822  \n",
       "max       1.000000  "
      ]
     },
     "execution_count": 80,
     "metadata": {},
     "output_type": "execute_result"
    }
   ],
   "source": [
    "df_geo.describe()"
   ]
  },
  {
   "cell_type": "markdown",
   "id": "efac5751",
   "metadata": {
    "id": "efac5751"
   },
   "source": [
    "6. Выведите матрицу корреляций для всех географических признаков, чтобы убедиться, что нормализация признаков сохранила свойства исходных признаков."
   ]
  },
  {
   "cell_type": "code",
   "execution_count": 81,
   "id": "10bcd5c8",
   "metadata": {
    "ExecuteTime": {
     "end_time": "2022-03-15T22:40:47.841822Z",
     "start_time": "2022-03-15T22:40:47.835737Z"
    },
    "id": "10bcd5c8"
   },
   "outputs": [
    {
     "data": {
      "text/html": [
       "<div>\n",
       "<style scoped>\n",
       "    .dataframe tbody tr th:only-of-type {\n",
       "        vertical-align: middle;\n",
       "    }\n",
       "\n",
       "    .dataframe tbody tr th {\n",
       "        vertical-align: top;\n",
       "    }\n",
       "\n",
       "    .dataframe thead th {\n",
       "        text-align: right;\n",
       "    }\n",
       "</style>\n",
       "<table border=\"1\" class=\"dataframe\">\n",
       "  <thead>\n",
       "    <tr style=\"text-align: right;\">\n",
       "      <th></th>\n",
       "      <th>lat</th>\n",
       "      <th>lat_std</th>\n",
       "      <th>lat_mm</th>\n",
       "      <th>long</th>\n",
       "      <th>long_std</th>\n",
       "      <th>long_mm</th>\n",
       "    </tr>\n",
       "  </thead>\n",
       "  <tbody>\n",
       "    <tr>\n",
       "      <th>lat</th>\n",
       "      <td>1.000000</td>\n",
       "      <td>1.000000</td>\n",
       "      <td>1.000000</td>\n",
       "      <td>-0.134596</td>\n",
       "      <td>-0.134596</td>\n",
       "      <td>-0.134596</td>\n",
       "    </tr>\n",
       "    <tr>\n",
       "      <th>lat_std</th>\n",
       "      <td>1.000000</td>\n",
       "      <td>1.000000</td>\n",
       "      <td>1.000000</td>\n",
       "      <td>-0.134596</td>\n",
       "      <td>-0.134596</td>\n",
       "      <td>-0.134596</td>\n",
       "    </tr>\n",
       "    <tr>\n",
       "      <th>lat_mm</th>\n",
       "      <td>1.000000</td>\n",
       "      <td>1.000000</td>\n",
       "      <td>1.000000</td>\n",
       "      <td>-0.134596</td>\n",
       "      <td>-0.134596</td>\n",
       "      <td>-0.134596</td>\n",
       "    </tr>\n",
       "    <tr>\n",
       "      <th>long</th>\n",
       "      <td>-0.134596</td>\n",
       "      <td>-0.134596</td>\n",
       "      <td>-0.134596</td>\n",
       "      <td>1.000000</td>\n",
       "      <td>1.000000</td>\n",
       "      <td>1.000000</td>\n",
       "    </tr>\n",
       "    <tr>\n",
       "      <th>long_std</th>\n",
       "      <td>-0.134596</td>\n",
       "      <td>-0.134596</td>\n",
       "      <td>-0.134596</td>\n",
       "      <td>1.000000</td>\n",
       "      <td>1.000000</td>\n",
       "      <td>1.000000</td>\n",
       "    </tr>\n",
       "    <tr>\n",
       "      <th>long_mm</th>\n",
       "      <td>-0.134596</td>\n",
       "      <td>-0.134596</td>\n",
       "      <td>-0.134596</td>\n",
       "      <td>1.000000</td>\n",
       "      <td>1.000000</td>\n",
       "      <td>1.000000</td>\n",
       "    </tr>\n",
       "  </tbody>\n",
       "</table>\n",
       "</div>"
      ],
      "text/plain": [
       "               lat   lat_std    lat_mm      long  long_std   long_mm\n",
       "lat       1.000000  1.000000  1.000000 -0.134596 -0.134596 -0.134596\n",
       "lat_std   1.000000  1.000000  1.000000 -0.134596 -0.134596 -0.134596\n",
       "lat_mm    1.000000  1.000000  1.000000 -0.134596 -0.134596 -0.134596\n",
       "long     -0.134596 -0.134596 -0.134596  1.000000  1.000000  1.000000\n",
       "long_std -0.134596 -0.134596 -0.134596  1.000000  1.000000  1.000000\n",
       "long_mm  -0.134596 -0.134596 -0.134596  1.000000  1.000000  1.000000"
      ]
     },
     "execution_count": 81,
     "metadata": {},
     "output_type": "execute_result"
    }
   ],
   "source": [
    "df_geo.corr()"
   ]
  },
  {
   "cell_type": "markdown",
   "id": "f87792e8",
   "metadata": {
    "ExecuteTime": {
     "end_time": "2022-03-13T12:00:09.641795Z",
     "start_time": "2022-03-13T12:00:09.636474Z"
    },
    "id": "f87792e8"
   },
   "source": [
    "### Задача 5. Признаки на основе дат\n",
    "\n",
    "1. Выведите по отдельности колонки `posting_date` и `date`. "
   ]
  },
  {
   "cell_type": "code",
   "execution_count": 82,
   "id": "1cf0cc30",
   "metadata": {
    "ExecuteTime": {
     "end_time": "2022-03-15T22:40:48.879395Z",
     "start_time": "2022-03-15T22:40:48.875098Z"
    },
    "id": "1cf0cc30"
   },
   "outputs": [
    {
     "data": {
      "text/plain": [
       "0       2021-04-17T12:30:50-0400\n",
       "1       2021-05-03T15:40:21-0400\n",
       "2       2021-04-28T03:52:20-0700\n",
       "3       2021-04-17T10:08:57-0400\n",
       "4       2021-04-08T15:10:56-0400\n",
       "                  ...           \n",
       "9614    2021-04-10T16:33:57-0400\n",
       "9615    2021-05-03T09:36:30-0400\n",
       "9616    2021-04-22T12:14:01-0700\n",
       "9617    2021-04-14T09:14:42-0500\n",
       "9618    2021-04-24T13:50:49-0400\n",
       "Name: posting_date, Length: 9619, dtype: object"
      ]
     },
     "execution_count": 82,
     "metadata": {},
     "output_type": "execute_result"
    }
   ],
   "source": [
    "df.posting_date"
   ]
  },
  {
   "cell_type": "code",
   "execution_count": 83,
   "id": "d45f0025",
   "metadata": {},
   "outputs": [
    {
     "data": {
      "text/plain": [
       "0       2021-04-17 16:30:50+00:00\n",
       "1       2021-05-03 19:40:21+00:00\n",
       "2       2021-04-28 10:52:20+00:00\n",
       "3       2021-04-17 14:08:57+00:00\n",
       "4       2021-04-08 19:10:56+00:00\n",
       "                  ...            \n",
       "9614    2021-04-10 20:33:57+00:00\n",
       "9615    2021-05-03 13:36:30+00:00\n",
       "9616    2021-04-22 19:14:01+00:00\n",
       "9617    2021-04-14 14:14:42+00:00\n",
       "9618    2021-04-24 17:50:49+00:00\n",
       "Name: date, Length: 9619, dtype: object"
      ]
     },
     "execution_count": 83,
     "metadata": {},
     "output_type": "execute_result"
    }
   ],
   "source": [
    "df.date"
   ]
  },
  {
   "cell_type": "markdown",
   "id": "a154545f",
   "metadata": {
    "id": "a154545f"
   },
   "source": [
    "2. Ранее преобразованная колонка `date` после сохранения в файл и загрузки из него содержит данные в строковом формате, поэтому измените её тип c помощью `pd.to_datetime`."
   ]
  },
  {
   "cell_type": "code",
   "execution_count": 93,
   "id": "a196635b",
   "metadata": {
    "ExecuteTime": {
     "end_time": "2022-03-15T22:49:02.356258Z",
     "start_time": "2022-03-15T22:49:02.315893Z"
    },
    "id": "a196635b"
   },
   "outputs": [],
   "source": [
    "df.date = pd.to_datetime (df.date)"
   ]
  },
  {
   "cell_type": "markdown",
   "id": "c9b3e6f1",
   "metadata": {
    "id": "c9b3e6f1"
   },
   "source": [
    "3. Несколькими способами извлеките номер месяца продажи автомобиля.\n",
    "\n",
    "3.1. Из переменной `posting_date` с помощью lambda-функции и операций над строками."
   ]
  },
  {
   "cell_type": "code",
   "execution_count": 94,
   "id": "7fb35f85",
   "metadata": {
    "ExecuteTime": {
     "end_time": "2022-03-15T22:40:51.380851Z",
     "start_time": "2022-03-15T22:40:51.369103Z"
    },
    "id": "7fb35f85"
   },
   "outputs": [
    {
     "data": {
      "text/plain": [
       "0       04\n",
       "1       05\n",
       "2       04\n",
       "3       04\n",
       "4       04\n",
       "        ..\n",
       "9614    04\n",
       "9615    05\n",
       "9616    04\n",
       "9617    04\n",
       "9618    04\n",
       "Length: 9619, dtype: object"
      ]
     },
     "execution_count": 94,
     "metadata": {},
     "output_type": "execute_result"
    }
   ],
   "source": [
    "df.apply(lambda x: x.posting_date.split('-')[1], axis=1 )"
   ]
  },
  {
   "cell_type": "markdown",
   "id": "3218fd7e",
   "metadata": {
    "id": "3218fd7e"
   },
   "source": [
    "3.2. Из переменной `date` с помощью lambda-функции и метода `month`."
   ]
  },
  {
   "cell_type": "code",
   "execution_count": 95,
   "id": "4fd839cb",
   "metadata": {
    "ExecuteTime": {
     "end_time": "2022-03-15T22:40:54.064285Z",
     "start_time": "2022-03-15T22:40:54.057551Z"
    },
    "id": "4fd839cb"
   },
   "outputs": [
    {
     "data": {
      "text/plain": [
       "0       4\n",
       "1       5\n",
       "2       4\n",
       "3       4\n",
       "4       4\n",
       "       ..\n",
       "9614    4\n",
       "9615    5\n",
       "9616    4\n",
       "9617    4\n",
       "9618    4\n",
       "Length: 9619, dtype: int64"
      ]
     },
     "execution_count": 95,
     "metadata": {},
     "output_type": "execute_result"
    }
   ],
   "source": [
    "df.apply(lambda x: x.date.month, axis=1 )"
   ]
  },
  {
   "cell_type": "markdown",
   "id": "4000edd6",
   "metadata": {
    "ExecuteTime": {
     "end_time": "2022-03-13T12:25:21.228094Z",
     "start_time": "2022-03-13T12:25:21.223060Z"
    },
    "id": "4000edd6"
   },
   "source": [
    "3.3. Из переменной `date` с помощью `dt` и метода `month`."
   ]
  },
  {
   "cell_type": "code",
   "execution_count": 101,
   "id": "b4112009",
   "metadata": {
    "ExecuteTime": {
     "end_time": "2022-03-15T22:40:55.768506Z",
     "start_time": "2022-03-15T22:40:55.764567Z"
    },
    "id": "b4112009"
   },
   "outputs": [
    {
     "data": {
      "text/plain": [
       "0       4\n",
       "1       5\n",
       "2       4\n",
       "3       4\n",
       "4       4\n",
       "       ..\n",
       "9614    4\n",
       "9615    5\n",
       "9616    4\n",
       "9617    4\n",
       "9618    4\n",
       "Name: date, Length: 9619, dtype: int64"
      ]
     },
     "execution_count": 101,
     "metadata": {},
     "output_type": "execute_result"
    }
   ],
   "source": [
    "df.date.dt.month"
   ]
  },
  {
   "cell_type": "markdown",
   "id": "4c79c093",
   "metadata": {
    "id": "4c79c093"
   },
   "source": [
    "4. Создайте любым из способов (3.2 или 3.3) признак `month`, обозначающий номер месяца размещения объявления о продаже автомобиля, и распечатайте его."
   ]
  },
  {
   "cell_type": "code",
   "execution_count": 102,
   "id": "a6f217a1",
   "metadata": {
    "ExecuteTime": {
     "end_time": "2022-03-15T22:40:55.808808Z",
     "start_time": "2022-03-15T22:40:55.801804Z"
    },
    "id": "a6f217a1"
   },
   "outputs": [
    {
     "data": {
      "text/plain": [
       "0       4\n",
       "1       5\n",
       "2       4\n",
       "3       4\n",
       "4       4\n",
       "       ..\n",
       "9614    4\n",
       "9615    5\n",
       "9616    4\n",
       "9617    4\n",
       "9618    4\n",
       "Name: month, Length: 9619, dtype: int64"
      ]
     },
     "execution_count": 102,
     "metadata": {},
     "output_type": "execute_result"
    }
   ],
   "source": [
    "df['month'] = df.date.dt.month\n",
    "df.month"
   ]
  },
  {
   "cell_type": "markdown",
   "id": "c855e481",
   "metadata": {
    "id": "c855e481"
   },
   "source": [
    "5. Создайте признак `dayofweek`, обозначающий день недели размещения объявления о продаже автомобиля, и распечатайте его."
   ]
  },
  {
   "cell_type": "code",
   "execution_count": 103,
   "id": "ceda59b0",
   "metadata": {
    "ExecuteTime": {
     "end_time": "2022-03-15T22:40:55.838752Z",
     "start_time": "2022-03-15T22:40:55.833582Z"
    },
    "id": "ceda59b0"
   },
   "outputs": [
    {
     "data": {
      "text/plain": [
       "0       5\n",
       "1       0\n",
       "2       2\n",
       "3       5\n",
       "4       3\n",
       "       ..\n",
       "9614    5\n",
       "9615    0\n",
       "9616    3\n",
       "9617    2\n",
       "9618    5\n",
       "Name: dayofweek, Length: 9619, dtype: int64"
      ]
     },
     "execution_count": 103,
     "metadata": {},
     "output_type": "execute_result"
    }
   ],
   "source": [
    "df['dayofweek'] = df.date.dt.dayofweek\n",
    "df.dayofweek"
   ]
  },
  {
   "cell_type": "markdown",
   "id": "53253b00",
   "metadata": {
    "id": "53253b00"
   },
   "source": [
    "6. Создайте признак `diff_years`, обозначающий количество лет между годом производства автомобиля и годом размещения объявления о продаже автомобиля, и распечатайте его. Дополнительные корректировки не применяйте."
   ]
  },
  {
   "cell_type": "code",
   "execution_count": 113,
   "id": "c5b0ec88",
   "metadata": {
    "ExecuteTime": {
     "end_time": "2022-03-15T22:40:56.791095Z",
     "start_time": "2022-03-15T22:40:56.787550Z"
    },
    "id": "c5b0ec88"
   },
   "outputs": [
    {
     "data": {
      "text/plain": [
       "0        1\n",
       "1        5\n",
       "2        4\n",
       "3        8\n",
       "4        9\n",
       "        ..\n",
       "9614    19\n",
       "9615    13\n",
       "9616    10\n",
       "9617     6\n",
       "9618     4\n",
       "Name: diff_years, Length: 9619, dtype: int64"
      ]
     },
     "execution_count": 113,
     "metadata": {},
     "output_type": "execute_result"
    }
   ],
   "source": [
    "df['diff_years'] = df.apply (lambda x: x.date.year - x.year, axis=1)\n",
    "df.diff_years"
   ]
  },
  {
   "cell_type": "markdown",
   "id": "d3a54316",
   "metadata": {
    "id": "d3a54316"
   },
   "source": [
    "7. Примените стандартизацию к новым признаками и сохраните результат в новые признаки вида `month_std`."
   ]
  },
  {
   "cell_type": "code",
   "execution_count": 115,
   "id": "8b2c2e19",
   "metadata": {
    "ExecuteTime": {
     "end_time": "2022-03-15T22:40:57.928930Z",
     "start_time": "2022-03-15T22:40:57.925925Z"
    },
    "id": "8b2c2e19"
   },
   "outputs": [
    {
     "data": {
      "text/html": [
       "<div>\n",
       "<style scoped>\n",
       "    .dataframe tbody tr th:only-of-type {\n",
       "        vertical-align: middle;\n",
       "    }\n",
       "\n",
       "    .dataframe tbody tr th {\n",
       "        vertical-align: top;\n",
       "    }\n",
       "\n",
       "    .dataframe thead th {\n",
       "        text-align: right;\n",
       "    }\n",
       "</style>\n",
       "<table border=\"1\" class=\"dataframe\">\n",
       "  <thead>\n",
       "    <tr style=\"text-align: right;\">\n",
       "      <th></th>\n",
       "      <th>month</th>\n",
       "      <th>dayofweek</th>\n",
       "      <th>diff_years</th>\n",
       "    </tr>\n",
       "  </thead>\n",
       "  <tbody>\n",
       "    <tr>\n",
       "      <th>0</th>\n",
       "      <td>4</td>\n",
       "      <td>5</td>\n",
       "      <td>1</td>\n",
       "    </tr>\n",
       "  </tbody>\n",
       "</table>\n",
       "</div>"
      ],
      "text/plain": [
       "   month  dayofweek  diff_years\n",
       "0      4          5           1"
      ]
     },
     "execution_count": 115,
     "metadata": {},
     "output_type": "execute_result"
    }
   ],
   "source": [
    "data_time = df[['month', 'dayofweek', 'diff_years']]\n",
    "data_time.head(1)"
   ]
  },
  {
   "cell_type": "code",
   "execution_count": 124,
   "id": "e05eafdd",
   "metadata": {},
   "outputs": [
    {
     "data": {
      "text/plain": [
       "array([[-0.61584563,  1.12028423, -1.32239376],\n",
       "       [ 1.62378353, -1.37497211, -0.69597272],\n",
       "       [-0.61584563, -0.37686957, -0.85257798],\n",
       "       ...,\n",
       "       [-0.61584563,  0.1221817 ,  0.08705357],\n",
       "       [-0.61584563, -0.37686957, -0.53936746],\n",
       "       [-0.61584563,  1.12028423, -0.85257798]])"
      ]
     },
     "execution_count": 124,
     "metadata": {},
     "output_type": "execute_result"
    }
   ],
   "source": [
    "std_scaler.fit (data_time)\n",
    "std_scaled_2= std_scaler.transform(data_time)\n",
    "std_scaled_2"
   ]
  },
  {
   "cell_type": "code",
   "execution_count": 119,
   "id": "d51379a3",
   "metadata": {},
   "outputs": [
    {
     "data": {
      "text/plain": [
       "['month_std', 'dayofweek_std', 'diff_years_std']"
      ]
     },
     "execution_count": 119,
     "metadata": {},
     "output_type": "execute_result"
    }
   ],
   "source": [
    "data_time_std = new_features(data_time)\n",
    "data_time_std"
   ]
  },
  {
   "cell_type": "code",
   "execution_count": 123,
   "id": "3ed131dd",
   "metadata": {},
   "outputs": [
    {
     "data": {
      "text/plain": [
       "Index(['id', 'url', 'region', 'region_url', 'price', 'year', 'manufacturer',\n",
       "       'model', 'fuel', 'odometer',\n",
       "       ...\n",
       "       'model_len_std', 'model_word_count_std', 'lat_mm', 'long_mm', 'month',\n",
       "       'dayofweek', 'diff_years', 'month_std', 'dayofweek_std',\n",
       "       'diff_years_std'],\n",
       "      dtype='object', length=1501)"
      ]
     },
     "execution_count": 123,
     "metadata": {},
     "output_type": "execute_result"
    }
   ],
   "source": [
    "df.loc[:, data_time_std] = std_scaled_2\n",
    "df.columns"
   ]
  },
  {
   "cell_type": "markdown",
   "id": "aba80393",
   "metadata": {
    "ExecuteTime": {
     "end_time": "2022-03-13T12:36:22.108423Z",
     "start_time": "2022-03-13T12:36:22.103687Z"
    },
    "id": "aba80393"
   },
   "source": [
    "### Задача 6. Сохранение датафрейма для этапа моделирования\n",
    "\n",
    "1. Удалите колонки, которые были исходными для формирования признаков, а также новые признаки, которые были добавлены с целью обучения.  Сохраните новый датафрейм в переменную `df_prepared`."
   ]
  },
  {
   "cell_type": "code",
   "execution_count": 126,
   "id": "58ab4836",
   "metadata": {
    "ExecuteTime": {
     "end_time": "2022-03-15T22:41:00.072365Z",
     "start_time": "2022-03-15T22:41:00.064841Z"
    },
    "id": "58ab4836"
   },
   "outputs": [],
   "source": [
    "columns_for_drop = ['year', 'url', 'region', 'region_url', 'manufacturer',\n",
    "                    'model', 'fuel', 'odometer', 'title_status', 'transmission',\n",
    "                    'image_url', 'description', 'state', 'lat', 'long', 'posting_date',\n",
    "                    'odometer_km', 'odometer/price', 'region_new', 'region_corrected', 'manufacturer_model',\n",
    "                    'desc_len', 'model_in_desc', 'price_k$', 'age_category', 'model_len', 'model_word_count',\n",
    "                    'short_model', 'lat_mm', 'long_mm', 'date', 'std_scaled_price',\n",
    "                    'month', 'dayofweek', 'diff_years',\n",
    "                    'odometer/price_std']\n",
    "df_prepared = df.drop (columns = columns_for_drop)"
   ]
  },
  {
   "cell_type": "markdown",
   "id": "f120eaaa",
   "metadata": {
    "id": "f120eaaa"
   },
   "source": [
    "2. Распечатайте оставшийся список колонок и размерность финального датафрейма."
   ]
  },
  {
   "cell_type": "code",
   "execution_count": 127,
   "id": "13fb36c3",
   "metadata": {
    "ExecuteTime": {
     "end_time": "2022-03-15T22:41:03.176389Z",
     "start_time": "2022-03-15T22:41:03.172474Z"
    },
    "id": "13fb36c3"
   },
   "outputs": [
    {
     "data": {
      "text/plain": [
       "Index(['id', 'price', 'price_category', 'is_audi', 'is_ford', 'is_chevrolet',\n",
       "       'is_toyota', 'is_jeep', 'is_honda', 'is_nissan',\n",
       "       ...\n",
       "       'lat_std', 'long_std', 'year_std', 'desc_len_std', 'model_in_desc_std',\n",
       "       'model_len_std', 'model_word_count_std', 'month_std', 'dayofweek_std',\n",
       "       'diff_years_std'],\n",
       "      dtype='object', length=1465)"
      ]
     },
     "execution_count": 127,
     "metadata": {},
     "output_type": "execute_result"
    }
   ],
   "source": [
    "df_prepared.columns"
   ]
  },
  {
   "cell_type": "markdown",
   "id": "b62690ff",
   "metadata": {
    "id": "b62690ff"
   },
   "source": [
    "3. Запишите преобразованный датафрейм в файл `data/vehicles_dataset_prepared.csv`, индекс не сохраняйте."
   ]
  },
  {
   "cell_type": "code",
   "execution_count": 128,
   "id": "955e76dd",
   "metadata": {
    "ExecuteTime": {
     "end_time": "2022-03-15T22:41:08.021538Z",
     "start_time": "2022-03-15T22:41:08.016555Z"
    },
    "id": "955e76dd"
   },
   "outputs": [],
   "source": [
    "df_prepared.to_csv('data/vehicles_dataset_prepared.csv', sep = '\\t', index = False)"
   ]
  },
  {
   "cell_type": "markdown",
   "id": "6e4960b4",
   "metadata": {
    "id": "6e4960b4"
   },
   "source": [
    "## Описание преобразованного датасета:\n",
    "- `id`— идентификатор записи;\n",
    "- `is_manufacturer_name`— признак производителя автомобиля;\n",
    "\n",
    "- `region_*`— регион;\n",
    "- `x0_*`— тип топлива;\n",
    "- `manufacturer_*`— производитель;\n",
    "- `short_model_*`— сокращённая модель автомобиля;\n",
    "- `title_status_*`— статус;\n",
    "- `transmission_*`— коробка передач;\n",
    "- `state_*`— штат;\n",
    "- `age_category_*`— возрастная категория автомобиля;\n",
    "\n",
    "- `std_scaled_odometer`— количество пройденных миль (после стандартизации);\n",
    "- `year_std`— год выпуска (после стандартизации);\n",
    "- `lat_std`— широта (после стандартизации);\n",
    "- `long_std`— долгота (после стандартизации);\n",
    "- `odometer/price_std`— отношение стоимости к пробегу автомобиля (после стандартизации);\n",
    "- `desc_len_std`— количество символов в тексте объявления о продаже (после стандартизации);\n",
    "- `model_in_desc_std`— количество наименований модели автомобиля в тексте объявления о продаже (после стандартизации);\n",
    "- `model_len_std`— длина наименования автомобиля (после стандартизации);\n",
    "- `model_word_count_std`— количество слов в наименовании автомобиля (после стандартизации);\n",
    "- `month_std`— номер месяца размещения объявления о продаже автомобиля (после стандартизации);\n",
    "- `dayofweek_std`— день недели размещения объявления о продаже автомобиля (после стандартизации);\n",
    "- `diff_years_std`— количество лет между годом производства автомобиля и годом размещения объявления о продаже автомобиля (после стандартизации);\n",
    "\n",
    "- `price`— стоимость;\n",
    "- `price_category`– категория цены."
   ]
  }
 ],
 "metadata": {
  "colab": {
   "collapsed_sections": [],
   "provenance": []
  },
  "kernelspec": {
   "display_name": "Python 3 (ipykernel)",
   "language": "python",
   "name": "python3"
  },
  "language_info": {
   "codemirror_mode": {
    "name": "ipython",
    "version": 3
   },
   "file_extension": ".py",
   "mimetype": "text/x-python",
   "name": "python",
   "nbconvert_exporter": "python",
   "pygments_lexer": "ipython3",
   "version": "3.9.12"
  },
  "toc": {
   "base_numbering": 1,
   "nav_menu": {},
   "number_sections": true,
   "sideBar": true,
   "skip_h1_title": false,
   "title_cell": "Table of Contents",
   "title_sidebar": "Contents",
   "toc_cell": false,
   "toc_position": {},
   "toc_section_display": true,
   "toc_window_display": false
  }
 },
 "nbformat": 4,
 "nbformat_minor": 5
}
