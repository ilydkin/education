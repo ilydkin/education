{
 "cells": [
  {
   "cell_type": "markdown",
   "id": "b878f3a7",
   "metadata": {
    "id": "b878f3a7"
   },
   "source": [
    "# Чтение файлов в Python и командной строке. Домашнее задание\n",
    "\n",
    "### Цели домашнего задания\n",
    "1. Научиться считывать информацию из файлов и соверщать над ней опервции с помощью кода на Python и командной строки.\n",
    "2. Закрепить навыки стыковки команд в конвейеры и установки внешних пакетов с помощью пакетного менеджера pip.\n"
   ]
  },
  {
   "cell_type": "markdown",
   "id": "8qwWbGel67S3",
   "metadata": {
    "id": "8qwWbGel67S3"
   },
   "source": [
    "### Что входит в задание\n",
    "1. Работа с файлами в командной строке.\n",
    "2. Работа с файлами в Python 1.\n",
    "3. Работа с файлами в Python 2.\n",
    "4. Импортирование модулей.\n",
    "5. Установка внешних модулей через pip.\n",
    "6. Бонусное задание\n",
    "\n",
    "### Критерии оценки\n",
    "Обязательные задания (1-5) выполнены верно. \n",
    "\n",
    "### Как отправить задание на проверку\n",
    "Все задания собраны в один Jupyter Notebook. Выполните их, сохраните изменения при помощи опции Save and Checkpoint из вкладки меню File или кнопки Save and Checkpoint на панели инструментов. Отправьте итоговый файл Jupyter Notebook (в формате .ipynb) или ссылку на него через форму ниже.\n"
   ]
  },
  {
   "cell_type": "markdown",
   "id": "a44f6df4",
   "metadata": {
    "id": "a44f6df4"
   },
   "source": [
    "## Задание 1. Работа с файлами в командной строке\n",
    "\n",
    "В уроках модуля вы считали количество всех слов в рассказе А. П. Чехова «Анна на шее». Теперь необходимо определить, сколько раз каждое слово встречается в тексте.\n",
    "\n",
    "По практике после урока 3 вы знаете команды sort и uniq, умеете с их помощью считать количество уникальных строк в построчном файле. В результате у вас должен был получиться такой конвейер команд: `cat anna_words.txt | sort | uniq | wc -l`.\n",
    "\n",
    "Команда cat перенаправляет слова из файла в команду sort, которая сортирует слова и передаёт упорядоченный список в команду uniq. Последняя удаляет дубликаты и направляет список уникальных слов в команду wc -l, которая их считает.\n",
    "\n",
    "### Что нужно сделать\n",
    "\n",
    "Посчитайте количество уникальных слов и определите частоту встречаемости каждого слова. Информацию в виде `частота слово` сохраните в текстовый файл. Для этого нужно:\n",
    "1. изменить конвейер команд так, чтобы он выводил слова и их частоту встречаемости на экран;\n",
    "2. перенаправить вывод конвейера в текстовый файл `words_freq.txt`.\n",
    "\n",
    "Если всё сделаете правильно, то получится текстовый файл `words_freq.txt`, в котором будут слова и их частота в виде:\n",
    "\n",
    "```\n",
    "...\n",
    "   1 по-прежнему\n",
    "   2 по-французски\n",
    "  40 аня\n",
    "   6 бал\n",
    "   1 бог\n",
    "   2 ваш\n",
    "   2 вид\n",
    "...\n",
    "```\n",
    "\n",
    "3. Скопируйте конвейер команд в ячейку, которая расположена непосредственно под этой.\n",
    "\n",
    "### Подсказки\n",
    "1. Ознакомьтесь с документацией команды uniq, обратите внимание на её ключ `-с`. Официальную документацию можно почитать прямо в командной строке: для этого выполните команду `man uniq`. Команда `man` (от английского manual) выводит справку для команды, которая передаётся в man как аргумент. Если читать текст в терминале непривычно, то можете поискать информацию в интернете.\n",
    "\n",
    "2. Перенаправить вывод команды в bash можно с помощью символа `>`. О том, как это сделать, читайте в интернете. Например, в статье [**«Перенаправление ввода вывода Linux»**](https://losst.ru/perenapravlenie-vvoda-vyvoda-linux). "
   ]
  },
  {
   "cell_type": "markdown",
   "id": "ac416392",
   "metadata": {
    "id": "ac416392"
   },
   "source": [
    "### Вставьте конвейер команд, который у вас получился, в эту ячейку. \n",
    "\n",
    "`cat anna_words.txt |sort|uniq-c > word_freq.txt`"
   ]
  },
  {
   "cell_type": "markdown",
   "id": "3952c1a6",
   "metadata": {
    "id": "3952c1a6"
   },
   "source": [
    "---\n",
    "\n",
    "## Задание 2. Работа с файлами в Python 1\n",
    "\n",
    "### Что нужно сделать\n",
    "В рассказе А. П. Чехова «Анна на шее» найдите десять слов, которые встречаются чаще всего. \n",
    "\n",
    "1. Напишите код на Python, который читает файл `word_freq.txt` по строкам, преобразует каждую из них в кортеж `(частота, слово)` и складывает полученные кортежи в список. \n",
    "2. Отсортируйте список по частотам, выведите на экран десять самых популярных слов и их частоты.\n",
    "\n",
    "### Подсказки\n",
    "1. Обратите внимание, что строки в файле содержат «лишние» символы: пробелы в начале и символ перевода строки в конце. Работать будет удобнее, если предварительно удалить их. Сделать это можно с помощью метода  `strip`. Ознакомьтесь с ним подробнее в [**официальной документации**](https://docs.python.org/3/library/stdtypes.html?highlight=strip#str.strip).\n",
    "\n",
    "2. Сейчас частота и слово — это одна строка, в которой они разделены пробелом. Их можно разделить с помощью метода [**`split`**](https://docs.python.org/3/library/stdtypes.html?highlight=split#str.split).\n",
    "\n",
    "3. Для сортировки в Python есть функция `sorted`. Она принимает на вход итерируемый объект, сравнивает его элементы между собой и возвращает с возвращает итерируемый объект, который отсортирован. По умолчанию функция размещает элементы в порядке возрастания. Например, `sorted([2, 4, 1, 0])` вернёт `[0, 1, 2, 4]`. Подробнее про работу функции можно почитать в [**официальной документации**](https://docs.python.org/3/library/functions.html?highlight=sorted#sorted)"
   ]
  },
  {
   "cell_type": "code",
   "execution_count": 58,
   "id": "8a7fd995",
   "metadata": {},
   "outputs": [
    {
     "name": "stdout",
     "output_type": "stream",
     "text": [
      "('9', 'видеть')\n",
      "('8', 'офицер')\n",
      "('8', 'музыка')\n",
      "('8', 'молодой')\n",
      "('8', 'казаться')\n",
      "('8', 'иметь')\n",
      "('8', 'время')\n",
      "('7', 'самый')\n",
      "('7', 'мальчик')\n",
      "('7', 'лицо')\n",
      "('7', 'громадный')\n"
     ]
    }
   ],
   "source": [
    "with open ('word_freq.txt',encoding = 'utf8') as file:\n",
    "    arranged = []\n",
    "    file = file.readlines()\n",
    "    for i in file:\n",
    "        arranged.append(tuple (i.strip().split(' ')))\n",
    "    top_ten = sorted(arranged, reverse = True)    \n",
    "    for j in range (11):\n",
    "        print (top_ten[j])"
   ]
  },
  {
   "cell_type": "markdown",
   "id": "8639569c",
   "metadata": {
    "id": "8639569c"
   },
   "source": [
    "---\n",
    "\n",
    "## Задание 3. Работа с файлами в Python 2\n",
    "\n",
    "### Что нужно сделать\n",
    "Найдите букву, с которой чаще всего начинаются слова в рассказе А. П. Чехова «Анна на шее». \n",
    "1. Используйте файл с частотами слов `words_freq.txt`. \n",
    "2. Напишите код в Python, который выводит на экран самую популярную первую букву и количество слов на неё.\n",
    "\n",
    "\n",
    "### Подсказки\n",
    "Скорее всего, вы будете искать в словаре ключ с максимальным значением. Чтобы упростить работу, отсортируйте словарь. Сортировать словарь по значениям сложнее, чем список объектов, которые можно сравнивать непосредственно. Обратите внимание на параметр key функции [**sorted**](https://docs.python.org/3/library/functions.html?highlight=sorted#sorted)."
   ]
  },
  {
   "cell_type": "code",
   "execution_count": 61,
   "id": "6da9050c",
   "metadata": {
    "id": "6da9050c"
   },
   "outputs": [],
   "source": [
    "# РЕШЕНИЕ 1.\n",
    "\n",
    "# Я сначала придумал вариант без sorted() и решил его оставить,\n",
    "# т.к. оно кажется меньше и проще. Ниже второй вариант уже с sorted()\n",
    "\n",
    "def read_n_invert (file):\n",
    "    with open ('word_freq.txt',encoding = 'utf8') as file:\n",
    "        file_split = []\n",
    "        for i in file.readlines():\n",
    "            file_split.append(i.strip().split(' '))\n",
    "        for j in file_split:\n",
    "            j[0],j[1] = str(j[1]),int(j[0])\n",
    "    return dict (file_split)"
   ]
  },
  {
   "cell_type": "code",
   "execution_count": 62,
   "id": "a23aa457",
   "metadata": {},
   "outputs": [],
   "source": [
    "def first_symbol_dict (file):\n",
    "    dict_1 = read_n_invert (file)\n",
    "    fsd = {}\n",
    "    for k,v in dict_1.items():\n",
    "        if k[:1] not in fsd:\n",
    "            fsd [k[:1]] = 0\n",
    "        fsd [k[:1]] += v\n",
    "    return fsd"
   ]
  },
  {
   "cell_type": "code",
   "execution_count": 63,
   "id": "ded9a8a9",
   "metadata": {},
   "outputs": [],
   "source": [
    "def solution_1 (file):\n",
    "    dict_2 = first_symbol_dict(file)\n",
    "    m = max (dict_2.values())\n",
    "    for k, v in dict_2.items():\n",
    "        if v == m:\n",
    "            found = k\n",
    "    print (m, found)"
   ]
  },
  {
   "cell_type": "code",
   "execution_count": 64,
   "id": "f380744c",
   "metadata": {},
   "outputs": [
    {
     "name": "stdout",
     "output_type": "stream",
     "text": [
      "318 п\n"
     ]
    }
   ],
   "source": [
    "solution_1 (file)\n",
    "            "
   ]
  },
  {
   "cell_type": "code",
   "execution_count": 284,
   "id": "8ce93204",
   "metadata": {},
   "outputs": [],
   "source": [
    "# РЕШЕНИЕ 2.\n",
    "\n",
    "# Второе решение той же задачи с затейлевой контструкцией sorted (list,key=lambda x:x[1])\n",
    "# Сделал, чтоб потренировать новую функцию. Но видимо, я ее неоптимально применил,\n",
    "# т.к. код короче не стал.\n",
    "\n",
    "def txt_to_list (file):\n",
    "    with open ('word_freq.txt',encoding = 'utf8') as file:\n",
    "        file_split = []\n",
    "        for i in file.readlines():\n",
    "            file_split.append(i.strip().split(' '))\n",
    "        return file_split"
   ]
  },
  {
   "cell_type": "code",
   "execution_count": 285,
   "id": "fe298d39",
   "metadata": {},
   "outputs": [],
   "source": [
    "def sort_n_invert (file):\n",
    "    file_split = txt_to_list (file)\n",
    "    sort_n_invert = sorted(file_split,key=lambda x:x[1], reverse=True)\n",
    "    \n",
    "    for j in sort_n_invert:\n",
    "        j[0],j[1] = str(j[1][:1]),int(j[0])\n",
    "    \n",
    "    return sort_n_invert"
   ]
  },
  {
   "cell_type": "code",
   "execution_count": 286,
   "id": "3a8cb7b8",
   "metadata": {},
   "outputs": [],
   "source": [
    "def first_symbol_dict (file):\n",
    "    sni = sort_n_invert (file)\n",
    "    fsd = {}\n",
    "    \n",
    "    for g in sni:\n",
    "        if g[0] not in fsd:\n",
    "            fsd[g[0]] = 0\n",
    "        fsd[g[0]] += g[1]\n",
    "    return fsd"
   ]
  },
  {
   "cell_type": "code",
   "execution_count": 287,
   "id": "6c517949",
   "metadata": {},
   "outputs": [],
   "source": [
    "def solution_2 (file):\n",
    "    fsd = first_symbol_dict (file)\n",
    "    m = max (fsd.values())\n",
    "    for k, v in fsd.items():\n",
    "        if v == m:\n",
    "            found = k\n",
    "    print (m, found)"
   ]
  },
  {
   "cell_type": "code",
   "execution_count": 288,
   "id": "719e083c",
   "metadata": {},
   "outputs": [
    {
     "name": "stdout",
     "output_type": "stream",
     "text": [
      "318 п\n"
     ]
    }
   ],
   "source": [
    "solution_2 (file)"
   ]
  },
  {
   "cell_type": "markdown",
   "id": "b94a18e9",
   "metadata": {
    "id": "b94a18e9"
   },
   "source": [
    "---\n",
    "\n",
    "## Задание 4. Импортирование модулей\n",
    "\n",
    "###Что нужно сделать\n",
    "Напишите функцию `circ_sqrt`. Она должна принимать один параметр `r` типа `float` и возвращать квадратный корень из длины окружности радиуса `r`.\n",
    "\n",
    "### Подсказки\n",
    "- Используйте функции встроенного модуля math.\n",
    "- В работе функции учтите область определения квадратного корня."
   ]
  },
  {
   "cell_type": "code",
   "execution_count": 22,
   "id": "8b5a32d8",
   "metadata": {},
   "outputs": [],
   "source": [
    "import math            "
   ]
  },
  {
   "cell_type": "code",
   "execution_count": 25,
   "id": "f46607ea",
   "metadata": {},
   "outputs": [],
   "source": [
    "def circ_sqrt (r):\n",
    "    if r < 0:\n",
    "        r = - r\n",
    "    return (2 * r * math.pi) ** 0.5"
   ]
  },
  {
   "cell_type": "code",
   "execution_count": 26,
   "id": "0b519bc3",
   "metadata": {},
   "outputs": [
    {
     "name": "stdout",
     "output_type": "stream",
     "text": [
      "input a positive number: 4\n"
     ]
    },
    {
     "data": {
      "text/plain": [
       "5.0132565492620005"
      ]
     },
     "execution_count": 26,
     "metadata": {},
     "output_type": "execute_result"
    }
   ],
   "source": [
    "r = float(input('input a positive number: '))\n",
    "circ_sqrt (r)"
   ]
  },
  {
   "cell_type": "markdown",
   "id": "73df457b",
   "metadata": {
    "id": "73df457b"
   },
   "source": [
    "---\n",
    "\n",
    "## Задание 5. Установка внешних модулей через pip\n",
    "\n",
    "### Что нужно сделать\n",
    "\n",
    "Установите пакеты из PyPi с помощью пакетного менеджера pip и используйте их в коде. \n",
    "1. Установите пакет `cowsay`.\n",
    "2. Установите в систему пакет `wikipedia` — Python API для очень популярной онлайн-энциклопедии.\n",
    "3. Напишите функцию `random_article`, которая выводит на экран очень умную корову. Корова должна «рассказывать» краткое содержание случайной статьи из Википедии на английском языке.\n",
    "\n",
    "\n",
    "### Подсказки\n",
    "\n",
    "Вам понадобятся следующие функции пакета `wikipedia`:\n",
    "\n",
    "1. [**wikipedia.random**](https://wikipedia.readthedocs.io/en/latest/code.html#wikipedia.random)\n",
    "1. [**wikipedia.summary**](https://wikipedia.readthedocs.io/en/latest/code.html#wikipedia.summary)"
   ]
  },
  {
   "cell_type": "code",
   "execution_count": 34,
   "id": "0ac65710",
   "metadata": {
    "id": "0ac65710"
   },
   "outputs": [
    {
     "name": "stdout",
     "output_type": "stream",
     "text": [
      "Requirement already satisfied: cowsay in c:\\users\\ivan\\anaconda3\\lib\\site-packages (5.0)\n",
      "Requirement already satisfied: wikipedia in c:\\users\\ivan\\anaconda3\\lib\\site-packages (1.4.0)\n",
      "Requirement already satisfied: requests<3.0.0,>=2.0.0 in c:\\users\\ivan\\anaconda3\\lib\\site-packages (from wikipedia) (2.27.1)\n",
      "Requirement already satisfied: beautifulsoup4 in c:\\users\\ivan\\anaconda3\\lib\\site-packages (from wikipedia) (4.11.1)\n",
      "Requirement already satisfied: urllib3<1.27,>=1.21.1 in c:\\users\\ivan\\anaconda3\\lib\\site-packages (from requests<3.0.0,>=2.0.0->wikipedia) (1.26.9)\n",
      "Requirement already satisfied: certifi>=2017.4.17 in c:\\users\\ivan\\anaconda3\\lib\\site-packages (from requests<3.0.0,>=2.0.0->wikipedia) (2021.10.8)\n",
      "Requirement already satisfied: charset-normalizer~=2.0.0 in c:\\users\\ivan\\anaconda3\\lib\\site-packages (from requests<3.0.0,>=2.0.0->wikipedia) (2.0.4)\n",
      "Requirement already satisfied: idna<4,>=2.5 in c:\\users\\ivan\\anaconda3\\lib\\site-packages (from requests<3.0.0,>=2.0.0->wikipedia) (3.3)\n",
      "Requirement already satisfied: soupsieve>1.2 in c:\\users\\ivan\\anaconda3\\lib\\site-packages (from beautifulsoup4->wikipedia) (2.3.1)\n"
     ]
    }
   ],
   "source": [
    "!pip install cowsay\n",
    "!pip install wikipedia"
   ]
  },
  {
   "cell_type": "code",
   "execution_count": 53,
   "id": "b52f1bb9",
   "metadata": {},
   "outputs": [
    {
     "name": "stdout",
     "output_type": "stream",
     "text": [
      "  _________________________________________________\n",
      " /                                                 \\\n",
      "| Wilson Wright Brown (December 25, 1839 – December |\n",
      "|  25, 1916) was a soldier and recipient of the Med |\n",
      "| al of Honor for his role in the Great Locomotive  |\n",
      "| Chase during the American Civil War.              |\n",
      " \\                                                 /\n",
      "  =================================================\n",
      "                                                 \\\n",
      "                                                  \\\n",
      "                                                    ^__^\n",
      "                                                    (oo)\\_______\n",
      "                                                    (__)\\       )\\/\\\n",
      "                                                        ||----w |\n",
      "                                                        ||     ||\n"
     ]
    }
   ],
   "source": [
    "import cowsay\n",
    "import wikipedia\n",
    "cowsay.cow(wikipedia.summary(wikipedia.random()))"
   ]
  },
  {
   "cell_type": "markdown",
   "id": "af263b7d",
   "metadata": {
    "id": "af263b7d"
   },
   "source": [
    "---\n",
    "\n",
    "## Задание 6. Бонусное\n",
    "\n",
    "### Что нужно сделать\n",
    "\n",
    "Выясните, как слова в рассказе «Анна на шее» распределяются по длине. \n",
    "\n",
    "1. Посчитайте, сколько слов длины 1, 2 и так далее в файле anna_words.txt.\n",
    "\n",
    "2. Выведите на экран информацию в формате `длина количество_слов`, отсортируйте её по возрастанию длины.\n",
    "\n",
    "3. Перенесите вывод программы в Excel или Google Таблицы и постройте столбчатую диаграмму. \n",
    "\n",
    "4. Сравните ваш график с [распределением русских слов по длине](http://nskhuman.ru/unislov/statist.php?nstat=21). В гистограмме по ссылке больше данных, поэтому она лучше показывает соотношение длины слов и их количества в русском языке.\n",
    "\n",
    "### Советы и рекомендации\n",
    "Вероятнее всего, вы снова будете использовать словарь. Ключами в нём будет длина слов, а значениями — количество слов этой длины. Обратите внимание, что словарь нужно сортировать по ключам, а не по значениям, как вы делали ранее."
   ]
  },
  {
   "cell_type": "code",
   "execution_count": 97,
   "id": "31cd934a",
   "metadata": {
    "id": "31cd934a"
   },
   "outputs": [],
   "source": [
    "def words_length_freq (file):\n",
    "    text = dict(read_n_invert (file))\n",
    "    dictionary = {}\n",
    "\n",
    "    for k,v in text.items():\n",
    "        b = len(k)\n",
    "        if b not in dictionary:\n",
    "            dictionary[b] = 0\n",
    "        dictionary[b] += v\n",
    "    \n",
    "    dict_sort = dict (sorted (dictionary.items()))\n",
    "    return dict_sort\n",
    "    "
   ]
  },
  {
   "cell_type": "code",
   "execution_count": 104,
   "id": "bda34089",
   "metadata": {
    "id": "bda34089"
   },
   "outputs": [],
   "source": [
    "import pandas\n",
    "dic_f = words_length_freq (file)\n",
    "dframe = pandas.DataFrame([dframe])\n",
    "dframe.to_excel('./homework.xlsx')"
   ]
  },
  {
   "cell_type": "code",
   "execution_count": 102,
   "id": "7580a38c",
   "metadata": {},
   "outputs": [
    {
     "data": {
      "text/plain": [
       "{1: 6,\n",
       " 2: 13,\n",
       " 3: 127,\n",
       " 4: 299,\n",
       " 5: 288,\n",
       " 6: 334,\n",
       " 7: 399,\n",
       " 8: 314,\n",
       " 9: 182,\n",
       " 10: 124,\n",
       " 11: 111,\n",
       " 12: 45,\n",
       " 13: 21,\n",
       " 14: 11,\n",
       " 15: 7,\n",
       " 16: 1,\n",
       " 17: 4,\n",
       " 18: 2}"
      ]
     },
     "execution_count": 102,
     "metadata": {},
     "output_type": "execute_result"
    }
   ],
   "source": [
    "words_length_freq(file)"
   ]
  },
  {
   "cell_type": "code",
   "execution_count": null,
   "id": "80c3d716",
   "metadata": {},
   "outputs": [],
   "source": []
  }
 ],
 "metadata": {
  "colab": {
   "collapsed_sections": [],
   "name": "11.6_Домашнее_задание.ipynb",
   "provenance": []
  },
  "kernelspec": {
   "display_name": "Python 3 (ipykernel)",
   "language": "python",
   "name": "python3"
  },
  "language_info": {
   "codemirror_mode": {
    "name": "ipython",
    "version": 3
   },
   "file_extension": ".py",
   "mimetype": "text/x-python",
   "name": "python",
   "nbconvert_exporter": "python",
   "pygments_lexer": "ipython3",
   "version": "3.9.12"
  }
 },
 "nbformat": 4,
 "nbformat_minor": 5
}
