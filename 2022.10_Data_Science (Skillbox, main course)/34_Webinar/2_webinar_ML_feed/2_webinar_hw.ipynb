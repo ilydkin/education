{
 "cells": [
  {
   "cell_type": "markdown",
   "id": "aca736e0",
   "metadata": {},
   "source": [
    "## Программа\n",
    "\n",
    "- Подоготовить тексты\n",
    "- Скачать готовую модель\n",
    "- Подготовка окружения для работы\n",
    "- Дообучение модели\n",
    "- Проверка корректности"
   ]
  },
  {
   "cell_type": "code",
   "execution_count": 1,
   "id": "cb4ca719",
   "metadata": {},
   "outputs": [],
   "source": [
    "import sqlite3\n",
    "import pandas as pd\n",
    "import re # модуль регулярных выражений для работы с текстом"
   ]
  },
  {
   "cell_type": "code",
   "execution_count": 2,
   "id": "dbe0dffe",
   "metadata": {},
   "outputs": [],
   "source": [
    "def replace_all(text, to_replace):\n",
    "    for i in to_replace:\n",
    "        text = text.replace(i, ' ')\n",
    "    return text"
   ]
  },
  {
   "cell_type": "code",
   "execution_count": 3,
   "id": "51526011",
   "metadata": {},
   "outputs": [],
   "source": [
    "con = sqlite3.connect('songs.db')\n",
    "\n",
    "cur = con.cursor()\n",
    "res = cur.execute('Select * from text_songs') # вытаскиваем все значения из таблицы\n",
    "result = res.fetchall()"
   ]
  },
  {
   "cell_type": "code",
   "execution_count": 4,
   "id": "2f7d4a4b",
   "metadata": {},
   "outputs": [
    {
     "data": {
      "text/plain": [
       "('Григорий Лепс',\n",
       " 'Где-то там  За окном  Ходит зима  Сеет снег  Белый снег  Ночью и днем  И меня тишиной  Сводит с ума  И опять не уснуть  В доме пустом    Тихо  Саваном белым  Вьюга  Дом мой укрой  Где-то ты засыпаешь  Где-то, но не со мной    Где-то там  В тишине  Ходит февраль  И ему  Как и мне  Сон не найти  Где-то там  Вдалеке  Никогда ты не поймешь  Где-то там  Не со мной  Так и не узнаешь ты    Кружит  Белая вьюга  Тихо  Ходит зима  Слышишь  Как замерзаю  Снова  Я без тебя    Эяяяяау    Тихо  Саваном белым  Вьюга  Дом мой укрой  Где-то ты засыпаешь  Где-то, но не со мной    Кружит  Белая вьюга  Тихо  Ходит зима  Слышишь  Как замерзаю  Снова  Я без тебя',\n",
       " 'https://text-you.ru//rus_text_pesni/4559-grigorijj-leps-vjuga.html')"
      ]
     },
     "execution_count": 4,
     "metadata": {},
     "output_type": "execute_result"
    }
   ],
   "source": [
    "result[0]"
   ]
  },
  {
   "cell_type": "code",
   "execution_count": 5,
   "id": "6a62d5f0",
   "metadata": {},
   "outputs": [
    {
     "data": {
      "text/plain": [
       "'Где-то там  За окном  Ходит зима  Сеет снег  Белый снег  Ночью и днем  И меня тишиной  Сводит с ума  И опять не уснуть  В доме пустом    Тихо  Саваном белым  Вьюга  Дом мой укрой  Где-то ты засыпаешь  Где-то, но не со мной    Где-то там  В тишине  Ходит февраль  И ему  Как и мне  Сон не найти  Где-то там  Вдалеке  Никогда ты не поймешь  Где-то там  Не со мной  Так и не узнаешь ты    Кружит  Белая вьюга  Тихо  Ходит зима  Слышишь  Как замерзаю  Снова  Я без тебя    Эяяяяау    Тихо  Саваном белым  Вьюга  Дом мой укрой  Где-то ты засыпаешь  Где-то, но не со мной    Кружит  Белая вьюга  Тихо  Ходит зима  Слышишь  Как замерзаю  Снова  Я без тебя'"
      ]
     },
     "execution_count": 5,
     "metadata": {},
     "output_type": "execute_result"
    }
   ],
   "source": [
    "text_songs = [i[1] for i in result] # вытаскиваем только тексты песен и записываем в отдельный список\n",
    "text_songs[0]"
   ]
  },
  {
   "cell_type": "code",
   "execution_count": 7,
   "id": "8b3e31cd",
   "metadata": {},
   "outputs": [],
   "source": [
    "text_prep_all = []\n",
    "to_replace = ['григорий', 'лепс', '!', '?', '.', ',', ':', '-', '  ', '[', ']', '))', '\"', '(', ')', '—', '  '] # мусор для очистки\n",
    "\n",
    "\n",
    "\n",
    "for i in text_songs:\n",
    "    text_prep = [replace_all(a, to_replace) for a in i]\n",
    "    text_prep = [a.rstrip().rstrip() for a in text_prep]\n",
    "    text_prep = re.findall('[А-Я][^А-Я]*', i) # Делит текст на элементы списка, где заглавная буква - триггер разрыва\n",
    "    text_prep = [a.lower() for a in text_prep] # все в нижний регистр\n",
    "    text_prep = [a.lstrip() for a in text_prep]\n",
    "    clean_text = []\n",
    "    for idx, val in enumerate(text_prep): #крутой метод обработки списка, как словаря. Здесь это способ поитерироваться по элементам и пересобрать нужные в новом списке\n",
    "        if text_prep[idx] in [' ', '']:\n",
    "            pass\n",
    "        else:\n",
    "            clean_text.append(val)\n",
    "            \n",
    "    text_prep = []\n",
    "    for val in clean_text:\n",
    "        if len(val) <= 10: #убираем короткие фразы\n",
    "            pass\n",
    "        else:\n",
    "            text_prep.append(val)\n",
    "    \n",
    "    text_prep_unique = list(set(text_prep)) #Убираем дубликаты\n",
    "    text_prep_str = '\\n'.join(text_prep_unique) #склеиваем все обратно, добавляем /n для правильного отображения текста песни\n",
    "    text_prep_all.append(text_prep_str) # собираем все тексты в список\n",
    "    "
   ]
  },
  {
   "cell_type": "code",
   "execution_count": 8,
   "id": "79a26dcf",
   "metadata": {},
   "outputs": [
    {
     "data": {
      "text/plain": [
       "54"
      ]
     },
     "execution_count": 8,
     "metadata": {},
     "output_type": "execute_result"
    }
   ],
   "source": [
    "len(text_prep_all)"
   ]
  },
  {
   "cell_type": "code",
   "execution_count": 13,
   "id": "bb4da933",
   "metadata": {},
   "outputs": [
    {
     "name": "stdout",
     "output_type": "stream",
     "text": [
      "белый снег  \n",
      "где-то ты засыпаешь  \n",
      "я без тебя    \n",
      "так и не узнаешь ты    \n",
      "в доме пустом    \n",
      "как замерзаю  \n",
      "как и мне  \n",
      "сеет снег  \n",
      "сводит с ума  \n",
      "ночью и днем  \n",
      "белая вьюга  \n",
      "дом мой укрой  \n",
      "сон не найти  \n",
      "саваном белым  \n",
      "где-то там  \n",
      "ходит зима  \n",
      "эяяяяау    \n",
      "никогда ты не поймешь  \n",
      "ходит февраль  \n",
      "и меня тишиной  \n",
      "не со мной  \n",
      "где-то, но не со мной    \n",
      "и опять не уснуть  \n"
     ]
    }
   ],
   "source": [
    "print (text_prep_all[0])"
   ]
  },
  {
   "cell_type": "code",
   "execution_count": 12,
   "id": "541bfa4b",
   "metadata": {},
   "outputs": [
    {
     "name": "stdout",
     "output_type": "stream",
     "text": [
      "(540, 2)\n"
     ]
    },
    {
     "data": {
      "text/html": [
       "<div>\n",
       "<style scoped>\n",
       "    .dataframe tbody tr th:only-of-type {\n",
       "        vertical-align: middle;\n",
       "    }\n",
       "\n",
       "    .dataframe tbody tr th {\n",
       "        vertical-align: top;\n",
       "    }\n",
       "\n",
       "    .dataframe thead th {\n",
       "        text-align: right;\n",
       "    }\n",
       "</style>\n",
       "<table border=\"1\" class=\"dataframe\">\n",
       "  <thead>\n",
       "    <tr style=\"text-align: right;\">\n",
       "      <th></th>\n",
       "      <th>artist</th>\n",
       "      <th>text</th>\n",
       "    </tr>\n",
       "  </thead>\n",
       "  <tbody>\n",
       "    <tr>\n",
       "      <th>0</th>\n",
       "      <td>Григорий Лепс</td>\n",
       "      <td>белый снег  \\nгде-то ты засыпаешь  \\nя без теб...</td>\n",
       "    </tr>\n",
       "    <tr>\n",
       "      <th>1</th>\n",
       "      <td>Григорий Лепс</td>\n",
       "      <td>на пути моем встает -  \\nзазвенели в свой чере...</td>\n",
       "    </tr>\n",
       "    <tr>\n",
       "      <th>2</th>\n",
       "      <td>Григорий Лепс</td>\n",
       "      <td>видела звезда, как отцы и деды делали победы, ...</td>\n",
       "    </tr>\n",
       "    <tr>\n",
       "      <th>3</th>\n",
       "      <td>Григорий Лепс</td>\n",
       "      <td>забери меня в свой плен.  \\nможет, даже, не по...</td>\n",
       "    </tr>\n",
       "    <tr>\n",
       "      <th>4</th>\n",
       "      <td>Григорий Лепс</td>\n",
       "      <td>живу себе, себя воображая, \\nискал поддержки я...</td>\n",
       "    </tr>\n",
       "  </tbody>\n",
       "</table>\n",
       "</div>"
      ],
      "text/plain": [
       "          artist                                               text\n",
       "0  Григорий Лепс  белый снег  \\nгде-то ты засыпаешь  \\nя без теб...\n",
       "1  Григорий Лепс  на пути моем встает -  \\nзазвенели в свой чере...\n",
       "2  Григорий Лепс  видела звезда, как отцы и деды делали победы, ...\n",
       "3  Григорий Лепс  забери меня в свой плен.  \\nможет, даже, не по...\n",
       "4  Григорий Лепс  живу себе, себя воображая, \\nискал поддержки я..."
      ]
     },
     "execution_count": 12,
     "metadata": {},
     "output_type": "execute_result"
    }
   ],
   "source": [
    "#Собираем все в df\n",
    "\n",
    "df_prepped = pd.DataFrame()\n",
    "df_prepped['text'] = text_prep_all * 10 # Это для увеличения учебного материала для модели\n",
    "df_prepped['artist'] = 'Григорий Лепс'\n",
    "df_prepped = df_prepped[['artist', 'text']]\n",
    "df_prepped.to_csv('lyrics-generator/leps_text_v3.csv', index=False)\n",
    "\n",
    "# именно в таком формате данные готова кушать наша модель\n",
    "print(df_prepped.shape)\n",
    "df_prepped.head()"
   ]
  },
  {
   "cell_type": "code",
   "execution_count": null,
   "id": "13c2b307-ddcf-4613-b206-037fb69499ba",
   "metadata": {},
   "outputs": [],
   "source": []
  }
 ],
 "metadata": {
  "kernelspec": {
   "display_name": "Python 3 (ipykernel)",
   "language": "python",
   "name": "python3"
  },
  "language_info": {
   "codemirror_mode": {
    "name": "ipython",
    "version": 3
   },
   "file_extension": ".py",
   "mimetype": "text/x-python",
   "name": "python",
   "nbconvert_exporter": "python",
   "pygments_lexer": "ipython3",
   "version": "3.10.8"
  }
 },
 "nbformat": 4,
 "nbformat_minor": 5
}
