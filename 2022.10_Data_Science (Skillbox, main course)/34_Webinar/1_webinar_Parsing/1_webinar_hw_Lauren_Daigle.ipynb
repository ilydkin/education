{
 "cells": [
  {
   "cell_type": "markdown",
   "id": "5ca55040",
   "metadata": {},
   "source": [
    "## Задание\n",
    "- спарсить своего исполнителя\n",
    "- добавить в бд поле с датой записи\n",
    "- добавить имена артистов и ссылки на них \n",
    "- сделать это все с другим сайтом"
   ]
  },
  {
   "cell_type": "markdown",
   "id": "ed1a28da",
   "metadata": {
    "tags": []
   },
   "source": [
    "### Параметры\n",
    "- Сайт: https://www.songtexte.com\n",
    "- Исполнитель: Lauren Daigle"
   ]
  },
  {
   "cell_type": "markdown",
   "id": "5de1aaa0-1501-4107-85c6-c2c8628ae280",
   "metadata": {},
   "source": [
    "# Libs"
   ]
  },
  {
   "cell_type": "code",
   "execution_count": 14,
   "id": "2de4eb86-0a1e-4d49-b80b-f373128a0700",
   "metadata": {},
   "outputs": [],
   "source": [
    "import requests\n",
    "from bs4 import BeautifulSoup\n",
    "import time\n",
    "import sqlite3\n",
    "from datetime import datetime"
   ]
  },
  {
   "cell_type": "code",
   "execution_count": 3,
   "id": "0b8d2fc4-4af8-4585-9872-2b5a3c6c787e",
   "metadata": {},
   "outputs": [
    {
     "data": {
      "text/plain": [
       "200"
      ]
     },
     "execution_count": 3,
     "metadata": {},
     "output_type": "execute_result"
    }
   ],
   "source": [
    "url = 'https://www.songtexte.com/search?q=Lauren+Daigle&c=songs'\n",
    "songs_list = requests.get(url)\n",
    "songs_list.status_code"
   ]
  },
  {
   "cell_type": "code",
   "execution_count": 4,
   "id": "943784fd-1e06-43d8-a51c-7810b00c73bb",
   "metadata": {},
   "outputs": [],
   "source": [
    "urls = [\"https://www.songtexte.com/search?q=Lauren+Daigle&c=songs\", \"https://www.songtexte.com/?wicket:interface=:1:1:::\",\n",
    "       \"https://www.songtexte.com/?wicket:interface=:1:2:::\"]\n",
    "\n",
    "songs_lists = []\n",
    "\n",
    "for url in urls:\n",
    "    songs_list = requests.get(url)\n",
    "    \n",
    "    songs_soup = BeautifulSoup(songs_list.content, \"html.parser\")\n",
    "    for a in songs_soup.find_all('a'):\n",
    "        if str(a).find('songtext') != -1 and str(a).find('lauren-daigle') != -1:\n",
    "            song_url = \"https://www.songtexte.com/\" + str(a['href'])\n",
    "            songs_lists.append(song_url)\n",
    "\n",
    "songs_lists = list(set(songs_lists))"
   ]
  },
  {
   "cell_type": "code",
   "execution_count": 5,
   "id": "5ab7006d-a0fe-4ed8-bc8d-299a41113516",
   "metadata": {},
   "outputs": [
    {
     "data": {
      "text/plain": [
       "'<div id=\"lyrics\">When the best of me is barely breathin′<br/>\\nWhen I\\'m not somebody I believe in<br/>\\nHold on to me<br/>\\n<br/>\\nWhen I miss the light the night has stolen<br/>\\nWhen I′m slammin\\' all the doors You\\'ve opened<br/>\\nHold on to me<br/>\\nHold on to me<br/>\\n<br/>\\nHold on to me when it′s too dark to see You<br/>\\nWhen I am sure I have reached the end<br/>\\nHold on to me when I forget I need You<br/>\\nWhen I let go, hold me again<br/>\\n<br/>\\n<div class=\"hidden-print prmtnKeepHeight\" id=\"npm_6670665\"></div>\\n<script type=\"text/javascript\">\\n<!--/*--><![CDATA[/*><!--*/\\nADNPM.cmd.push(function(){ADNPM.loadAd(6670665)});\\n/*-->]]>*/\\n</script>\\n<br/>\\nWhen I don′t feel like I\\'m worth defending<br/>\\nWhen I′m tired of all my pretending<br/>\\nHold on to me<br/>\\n<br/>\\nWhen I start to break in desperation<br/>\\nUnderneath the weight of expectation<br/>\\nHold on to me<br/>\\nHold on to me<br/>\\n<br/>\\nHold on to me when it\\'s too dark to see You (I′ll hold on)<br/>\\nWhen I am sure I have reached the end<br/>\\nHold on to me when I forget I need You (I\\'ll hold on)<br/>\\nWhen I let go, hold me again<br/>\\n<br/>\\nI could rest here in Your arms forever<br/>\\n′Cause I know nobody loves me better<br/>\\nHold on to me<br/>\\nHold on to me</div>'"
      ]
     },
     "execution_count": 5,
     "metadata": {},
     "output_type": "execute_result"
    }
   ],
   "source": [
    "song_name = songs_lists[0]\n",
    "\n",
    "song_url = requests.get(song_name)\n",
    "song_soup = BeautifulSoup(song_url.content, 'html.parser') \n",
    "song_text = str(song_soup.find(id='lyrics')).rstrip().lstrip()\n",
    "song_text"
   ]
  },
  {
   "cell_type": "code",
   "execution_count": 6,
   "id": "c03cf880-1b88-4d3f-a4f4-a1a5910330f6",
   "metadata": {},
   "outputs": [],
   "source": [
    "def replace_all(text, to_replace):\n",
    "    for i in to_replace:\n",
    "        text = text.replace(i, ' ')\n",
    "    return text"
   ]
  },
  {
   "cell_type": "code",
   "execution_count": 8,
   "id": "57bd7be3-76b3-4012-9341-3c42b975c853",
   "metadata": {},
   "outputs": [
    {
     "name": "stdout",
     "output_type": "stream",
     "text": [
      "Parsed 1 / 25\n",
      "Parsed 2 / 25\n",
      "Parsed 3 / 25\n",
      "Parsed 4 / 25\n",
      "Parsed 5 / 25\n",
      "Parsed 6 / 25\n",
      "Parsed 7 / 25\n",
      "Parsed 8 / 25\n",
      "Parsed 9 / 25\n",
      "Parsed 10 / 25\n",
      "Parsed 11 / 25\n",
      "Parsed 12 / 25\n",
      "Parsed 13 / 25\n",
      "Parsed 14 / 25\n",
      "Parsed 15 / 25\n",
      "Parsed 16 / 25\n",
      "Parsed 17 / 25\n",
      "Parsed 18 / 25\n",
      "Parsed 19 / 25\n",
      "Parsed 20 / 25\n",
      "Parsed 21 / 25\n",
      "Parsed 22 / 25\n",
      "Parsed 23 / 25\n",
      "Parsed 24 / 25\n",
      "Parsed 25 / 25\n"
     ]
    }
   ],
   "source": [
    "parsed_songs = {} # словарик \"url\" :'текст песни'\n",
    "n = 0 #счетчик\n",
    "\n",
    "\n",
    "for song_name in songs_lists:\n",
    "    song_url = requests.get(song_name)\n",
    "    song_soup = BeautifulSoup(song_url.content, \"html.parser\")\n",
    "    song_text = str(song_soup.find(id='lyrics'))\n",
    "    \n",
    "    song_text = replace_all(song_text, [\n",
    "        '<','>', 'br/', '\\n', 'div ', \n",
    "        'id=\"lyrics\"', \n",
    "        'class=\"hidden-print prmtnKeepHeight\"', 'id=\"npm_6670665\"', '/', 'script type=\"text/javascript\"','!--/*--','![CDATA[/*', \n",
    "        '/*-- ]] */  /script])',\n",
    "        'script type=\"text javascript\"',\n",
    "        '!-- *--  ![CDATA[ *  !--*',\n",
    "        'ADNPM.cmd.push(function(){ADNPM.loadAd(6670665)});',\n",
    "        '*-- ]] *])', '*-- ]] *', '  '])\n",
    "        \n",
    "    song_text = \" \".join(song_text.split())\n",
    "\n",
    "    parsed_songs[song_name] = song_text\n",
    "    n += 1\n",
    "    print('Parsed', n, '/', len(songs_lists))\n",
    "    time.sleep(1)"
   ]
  },
  {
   "cell_type": "code",
   "execution_count": 11,
   "id": "cf31773e-4022-4581-b2c0-938b3664c5e9",
   "metadata": {},
   "outputs": [
    {
     "data": {
      "text/plain": [
       "<sqlite3.Cursor at 0x21c9120f420>"
      ]
     },
     "execution_count": 11,
     "metadata": {},
     "output_type": "execute_result"
    }
   ],
   "source": [
    "cur.execute(\"DROP TABLE songs_of_Lauren_Daigle\")"
   ]
  },
  {
   "cell_type": "code",
   "execution_count": 12,
   "id": "86ac0603-92ab-4708-89f6-6cfb160fd210",
   "metadata": {},
   "outputs": [
    {
     "data": {
      "text/plain": [
       "<sqlite3.Cursor at 0x21c9120f810>"
      ]
     },
     "execution_count": 12,
     "metadata": {},
     "output_type": "execute_result"
    }
   ],
   "source": [
    "con = sqlite3.connect(\"songs_of_Lauren_Daigle.db\") #создали локальную БД\n",
    "\n",
    "cur = con.cursor() \n",
    "cur.execute(\"CREATE TABLE songs_of_Lauren_Daigle (author, author_url, text, text_url, time)\") "
   ]
  },
  {
   "cell_type": "code",
   "execution_count": 16,
   "id": "35f5cdc9-dd57-49b9-9f15-f93466bcaa3a",
   "metadata": {},
   "outputs": [
    {
     "data": {
      "text/plain": [
       "25"
      ]
     },
     "execution_count": 16,
     "metadata": {},
     "output_type": "execute_result"
    }
   ],
   "source": [
    "url = 'https://www.songtexte.com/artist/lauren-daigle-3bd9e03c.html'\n",
    "sql_insert = \"INSERT INTO songs_of_Lauren_Daigle (author, author_url, text, text_url, time) VALUES (?,?,?,?,?)\"\n",
    "for k, v in parsed_songs.items():\n",
    "    res = cur.execute(sql_insert,('Lauren_Daigle', url, v, k, datetime.now()))\n",
    "    con.commit()\n",
    "\n",
    "res = cur.execute(\"Select * from songs_of_Lauren_Daigle\")\n",
    "result = res.fetchall()\n",
    "len(result)"
   ]
  },
  {
   "cell_type": "code",
   "execution_count": 17,
   "id": "9e3a1aab-b589-47a8-b5e1-c7390765346e",
   "metadata": {},
   "outputs": [
    {
     "data": {
      "text/plain": [
       "('Lauren_Daigle',\n",
       " 'https://www.songtexte.com/artist/lauren-daigle-3bd9e03c.html',\n",
       " \"When the best of me is barely breathin′ When I'm not somebody I believe in Hold on to me When I miss the light the night has stolen When I′m slammin' all the doors You've opened Hold on to me Hold on to me Hold on to me when it′s too dark to see You When I am sure I have reached the end Hold on to me when I forget I need You When I let go, hold me again script When I don′t feel like I'm worth defending When I′m tired of all my pretending Hold on to me When I start to break in desperation Underneath the weight of expectation Hold on to me Hold on to me Hold on to me when it's too dark to see You (I′ll hold on) When I am sure I have reached the end Hold on to me when I forget I need You (I'll hold on) When I let go, hold me again I could rest here in Your arms forever ′Cause I know nobody loves me better Hold on to me Hold on to me\",\n",
       " 'https://www.songtexte.com/songtext/lauren-daigle/hold-on-to-me-g4bbc8f22.html',\n",
       " '2023-01-17 18:14:27.634808')"
      ]
     },
     "execution_count": 17,
     "metadata": {},
     "output_type": "execute_result"
    }
   ],
   "source": [
    "result[0]"
   ]
  },
  {
   "cell_type": "markdown",
   "id": "9927e5ed",
   "metadata": {},
   "source": [
    "## ЗАДАЧА 2\n",
    "- Спарсить исполнителей и ссылки на них"
   ]
  },
  {
   "cell_type": "code",
   "execution_count": null,
   "id": "d99fd1da",
   "metadata": {},
   "outputs": [],
   "source": []
  }
 ],
 "metadata": {
  "kernelspec": {
   "display_name": "Python 3 (ipykernel)",
   "language": "python",
   "name": "python3"
  },
  "language_info": {
   "codemirror_mode": {
    "name": "ipython",
    "version": 3
   },
   "file_extension": ".py",
   "mimetype": "text/x-python",
   "name": "python",
   "nbconvert_exporter": "python",
   "pygments_lexer": "ipython3",
   "version": "3.9.12"
  }
 },
 "nbformat": 4,
 "nbformat_minor": 5
}
