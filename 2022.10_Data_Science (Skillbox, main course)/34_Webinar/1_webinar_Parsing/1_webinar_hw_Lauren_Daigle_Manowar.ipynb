{
 "cells": [
  {
   "cell_type": "markdown",
   "id": "ed1a28da",
   "metadata": {
    "tags": []
   },
   "source": [
    "### Параметры\n",
    "- Сайт: https://www.azlyrics.com/\n",
    "- Исполнитель: Manowar"
   ]
  },
  {
   "cell_type": "code",
   "execution_count": 134,
   "id": "2de4eb86-0a1e-4d49-b80b-f373128a0700",
   "metadata": {},
   "outputs": [],
   "source": [
    "import requests\n",
    "from bs4 import BeautifulSoup\n",
    "import time\n",
    "import sqlite3\n",
    "from datetime import datetime\n",
    "import pandas as pd"
   ]
  },
  {
   "cell_type": "code",
   "execution_count": 105,
   "id": "6eee9c2a",
   "metadata": {},
   "outputs": [],
   "source": [
    "def replace_all(text, to_replace):\n",
    "    for i in to_replace:\n",
    "        text = text.replace(i, ' ')\n",
    "    return text"
   ]
  },
  {
   "cell_type": "code",
   "execution_count": 110,
   "id": "0b8d2fc4-4af8-4585-9872-2b5a3c6c787e",
   "metadata": {},
   "outputs": [
    {
     "data": {
      "text/plain": [
       "200"
      ]
     },
     "execution_count": 110,
     "metadata": {},
     "output_type": "execute_result"
    }
   ],
   "source": [
    "url = 'https://www.azlyrics.com/m/manowar.html'\n",
    "songs_list = requests.get(url)\n",
    "songs_list.status_code"
   ]
  },
  {
   "cell_type": "code",
   "execution_count": 123,
   "id": "943784fd-1e06-43d8-a51c-7810b00c73bb",
   "metadata": {},
   "outputs": [
    {
     "data": {
      "text/plain": [
       "136"
      ]
     },
     "execution_count": 123,
     "metadata": {},
     "output_type": "execute_result"
    }
   ],
   "source": [
    "the_page = requests.get('https://www.azlyrics.com/m/manowar.html')\n",
    "\n",
    "songs_soup = BeautifulSoup(the_page.content, \"html.parser\")\n",
    "\n",
    "songs_list = []\n",
    "for a in songs_soup.find_all('a'):\n",
    "    if str(a).find('lyrics/manowar') != -1:\n",
    "        song_url = \"https://www.azlyrics.com\" + str(a['href'])\n",
    "        songs_list.append(song_url)\n",
    "\n",
    "songs_list = list(set(songs_list))\n",
    "len(songs_list)"
   ]
  },
  {
   "cell_type": "code",
   "execution_count": 125,
   "id": "a4b95d0e",
   "metadata": {},
   "outputs": [
    {
     "name": "stdout",
     "output_type": "stream",
     "text": [
      "parsed: 1\n",
      "parsed: 2\n",
      "parsed: 3\n",
      "parsed: 4\n",
      "parsed: 5\n",
      "parsed: 6\n",
      "parsed: 7\n",
      "parsed: 8\n",
      "parsed: 9\n",
      "parsed: 10\n",
      "parsed: 11\n",
      "parsed: 12\n",
      "parsed: 13\n",
      "parsed: 14\n",
      "parsed: 15\n",
      "parsed: 16\n",
      "parsed: 17\n",
      "parsed: 18\n",
      "parsed: 19\n",
      "parsed: 20\n",
      "parsed: 21\n",
      "parsed: 22\n",
      "parsed: 23\n",
      "parsed: 24\n",
      "parsed: 25\n",
      "parsed: 26\n",
      "parsed: 27\n",
      "parsed: 28\n",
      "parsed: 29\n",
      "parsed: 30\n",
      "parsed: 31\n",
      "parsed: 32\n",
      "parsed: 33\n",
      "parsed: 34\n",
      "parsed: 35\n",
      "parsed: 36\n",
      "parsed: 37\n",
      "parsed: 38\n",
      "parsed: 39\n",
      "parsed: 40\n",
      "parsed: 41\n",
      "parsed: 42\n",
      "parsed: 43\n",
      "parsed: 44\n",
      "parsed: 45\n",
      "parsed: 46\n",
      "parsed: 47\n",
      "parsed: 48\n",
      "parsed: 49\n",
      "parsed: 50\n",
      "parsed: 51\n",
      "parsed: 52\n",
      "parsed: 53\n",
      "parsed: 54\n",
      "parsed: 55\n",
      "parsed: 56\n",
      "parsed: 57\n",
      "parsed: 58\n",
      "parsed: 59\n",
      "parsed: 60\n",
      "parsed: 61\n",
      "parsed: 62\n",
      "parsed: 63\n",
      "parsed: 64\n",
      "parsed: 65\n",
      "parsed: 66\n",
      "parsed: 67\n",
      "parsed: 68\n",
      "parsed: 69\n",
      "parsed: 70\n",
      "parsed: 71\n",
      "parsed: 72\n",
      "parsed: 73\n",
      "parsed: 74\n",
      "parsed: 75\n",
      "parsed: 76\n",
      "parsed: 77\n",
      "parsed: 78\n",
      "parsed: 79\n",
      "parsed: 80\n",
      "parsed: 81\n",
      "parsed: 82\n",
      "parsed: 83\n",
      "parsed: 84\n",
      "parsed: 85\n",
      "parsed: 86\n",
      "parsed: 87\n",
      "parsed: 88\n",
      "parsed: 89\n",
      "parsed: 90\n",
      "parsed: 91\n",
      "parsed: 92\n",
      "parsed: 93\n",
      "parsed: 94\n",
      "parsed: 95\n",
      "parsed: 96\n",
      "parsed: 97\n",
      "parsed: 98\n",
      "parsed: 99\n",
      "parsed: 100\n",
      "parsed: 101\n",
      "parsed: 102\n",
      "parsed: 103\n",
      "parsed: 104\n",
      "parsed: 105\n",
      "parsed: 106\n",
      "parsed: 107\n",
      "parsed: 108\n",
      "parsed: 109\n",
      "parsed: 110\n",
      "parsed: 111\n",
      "parsed: 112\n",
      "parsed: 113\n",
      "parsed: 114\n",
      "parsed: 115\n",
      "parsed: 116\n",
      "parsed: 117\n",
      "parsed: 118\n",
      "parsed: 119\n",
      "parsed: 120\n",
      "parsed: 121\n",
      "parsed: 122\n",
      "parsed: 123\n",
      "parsed: 124\n",
      "parsed: 125\n",
      "parsed: 126\n",
      "parsed: 127\n",
      "parsed: 128\n",
      "parsed: 129\n",
      "parsed: 130\n",
      "parsed: 131\n",
      "parsed: 132\n",
      "parsed: 133\n",
      "parsed: 134\n",
      "parsed: 135\n",
      "parsed: 136\n"
     ]
    }
   ],
   "source": [
    "parsed_songs = []\n",
    "\n",
    "for song_url in songs_list:\n",
    "    song_req = requests.get(song_url)\n",
    "    song_soup= BeautifulSoup(song_req.content, 'html.parser')\n",
    "    \n",
    "    the_text = []\n",
    "    for string in song_soup.strings:\n",
    "        if len(string) > 3 and '\\n' in string:\n",
    "            the_text.append(string)\n",
    "    the_song = ''.join(the_text)\n",
    "    the_song = replace_all(the_song, '\\r')\n",
    "    parsed_songs.append(the_song)\n",
    "                                          \n",
    "    print ('parsed:', len(parsed_songs))\n",
    "    time.sleep(5)                                   "
   ]
  },
  {
   "cell_type": "code",
   "execution_count": 153,
   "id": "d99fd1da",
   "metadata": {},
   "outputs": [
    {
     "data": {
      "text/plain": [
       "97"
      ]
     },
     "execution_count": 153,
     "metadata": {},
     "output_type": "execute_result"
    }
   ],
   "source": [
    "parsed_songs_cut = parsed_songs[:97]\n",
    "len(parsed_songs_cut)"
   ]
  },
  {
   "cell_type": "code",
   "execution_count": 260,
   "id": "804c423b",
   "metadata": {},
   "outputs": [
    {
     "data": {
      "text/plain": [
       "84"
      ]
     },
     "execution_count": 260,
     "metadata": {},
     "output_type": "execute_result"
    }
   ],
   "source": [
    "len(parsed_songs_cut)"
   ]
  },
  {
   "cell_type": "code",
   "execution_count": 257,
   "id": "c88a6930",
   "metadata": {},
   "outputs": [
    {
     "name": "stdout",
     "output_type": "stream",
     "text": [
      " \n",
      "Beni küçükken\n",
      "Elimden tuttun\n",
      "Baba, bil isterim\n",
      "Şimdi anladım\n",
      "Suçtan hakkı böldün\n",
      "Örnek oldun\n",
      "Verdiğin bağış\n",
      "Hepten üstün\n",
      "Beni hiç kırmadın\n",
      "Güçlendirdin\n",
      "Yanlışım da olsa\n",
      "Hatam olsa\n",
      "Hem sevinir, hem\n",
      "Savaşırdık\n",
      "Sen yine bilirdin\n",
      "Doğru olan sen\n",
      "Benimlesin\n",
      "Sözlerimde\n",
      "Geçen zaman\n",
      "Günün her vaktinde\n",
      "Var olmam\n",
      "Senin sayende\n",
      "Bizlere yaşadın\n",
      "Simdiye dek\n",
      "O sağlam ellerin\n",
      "Toprağı işletir\n",
      "O sağlam ellerin\n",
      "Almayıp verir\n",
      "Senin sayende\n",
      "Hayatı bildim\n",
      "Benimlesin\n",
      "Sözlerimde\n",
      "Geçen zaman\n",
      "Günün her vaktinde\n",
      "Var olmam\n",
      "Senin sayende\n",
      "Baba, ben ve sen\n",
      "Biliriz ki\n",
      "Bana dedigin her söz doğru\n",
      "\n"
     ]
    },
    {
     "data": {
      "text/plain": [
       "84"
      ]
     },
     "execution_count": 257,
     "metadata": {},
     "output_type": "execute_result"
    }
   ],
   "source": [
    "print (parsed_songs_cut.pop(83))\n",
    "len(parsed_songs_cut)"
   ]
  },
  {
   "cell_type": "code",
   "execution_count": 265,
   "id": "91066c24",
   "metadata": {},
   "outputs": [
    {
     "data": {
      "text/plain": [
       "\" \\nvoices of victory\\nall shout and proclaim\\nthe kingdom of glory is mine\\nthe rays of the will our prophecy filled\\ni'm the lord of the day and the night\\ni've nothing to sell but the power of hell\\nmy armies of fire awaits\\ni'm here to be paid for the pact that was made\\nmy payment can never be late\\ncrack the earth, gods of thunder\\nman and beast will be torn asunder\\ninto the fight i own the right\\nto be the king of kings\\nmy enemies rise and look to the skies\\nthey pray i will never appear\\ntheir life has no meaning\\nawake they are dreaming\\nthey live in a castle of fear\\ni summon the demons that live in the wind\\nas my chariot drives in the storm\\nwith the hot blood of battle\\ni wait in my saddle\\ni live and i'll die by the sword\\ncrack the earth, gods of thunder\\nman and beast will be torn asunder\\ninto the fight i own the right\\nto be the king of kings\\nall the days of his life\\nhe walked without fear\\nall whose lives he touched\\nwere made better for knowing him\\nas he returned goodness with good\\nso too his justice and retribution were unfailing\\nas my sword is my soul\\nthen let all who stand before me know\\ni bring a storm and magic wind\\nthe kingdom of the kings\\ni summon the demons that live in the wind\\nas my chariot drives in the storm\\nwith the hot blood of battle\\ni wait in the saddle\\ni live and i'll die by the sword\\ncrack the earth, gods of thunder\\nman and beast will be torn asunder\\ninto the fight i own the right\\nto be the king of kings\\ncrack the earth, gods of thunder\\nman and beast will be torn asunder\\ninto the fight i own the right\\nto be the king of kings\\ncrack the earth, gods of thunder\\nman and beast will be torn asunder\\ninto the fight i own the right\\nto be the king of kings\\nking of kings!!!\\nking of kings!!!\\nking of kings!\\n\""
      ]
     },
     "execution_count": 265,
     "metadata": {},
     "output_type": "execute_result"
    }
   ],
   "source": [
    "parsed_eng= parsed_songs_cut\n",
    "parsed_eng2 = []\n",
    "\n",
    "for item in parsed_eng:\n",
    "    parsed_eng2.append(item.lower())\n",
    "\n",
    "parsed_eng2[0]"
   ]
  },
  {
   "cell_type": "code",
   "execution_count": 266,
   "id": "91ece151",
   "metadata": {},
   "outputs": [],
   "source": [
    "df = pd.DataFrame()\n",
    "df['text'] = parsed_eng * 10\n",
    "df['artist'] = 'Manowar'\n",
    "df = df[['artist','text']]\n",
    "df.to_csv('manowar.csv', index=False)"
   ]
  },
  {
   "cell_type": "code",
   "execution_count": null,
   "id": "8d702ef7",
   "metadata": {},
   "outputs": [],
   "source": []
  }
 ],
 "metadata": {
  "kernelspec": {
   "display_name": "Python 3 (ipykernel)",
   "language": "python",
   "name": "python3"
  },
  "language_info": {
   "codemirror_mode": {
    "name": "ipython",
    "version": 3
   },
   "file_extension": ".py",
   "mimetype": "text/x-python",
   "name": "python",
   "nbconvert_exporter": "python",
   "pygments_lexer": "ipython3",
   "version": "3.10.8"
  }
 },
 "nbformat": 4,
 "nbformat_minor": 5
}
