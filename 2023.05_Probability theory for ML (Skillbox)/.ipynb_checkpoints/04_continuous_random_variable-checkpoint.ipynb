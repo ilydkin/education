{
 "cells": [
  {
   "cell_type": "code",
   "execution_count": 1,
   "id": "101a6bf7-b21e-48f1-8f5f-33f6fece5bc4",
   "metadata": {},
   "outputs": [],
   "source": [
    "import pandas as pd\n",
    "import numpy as np\n",
    "import matplotlib.pyplot as plt\n",
    "\n",
    "from sympy import *\n",
    "from scipy.stats import *\n",
    "import random"
   ]
  },
  {
   "cell_type": "markdown",
   "id": "728d9dd8-735f-4a8d-87d0-eb98920b5197",
   "metadata": {
    "tags": []
   },
   "source": [
    "# Continuous random variable\n",
    "### Cumulative Distribution Function (CDF, F(x)) and Probability Density Function (PDF, f(x))\n",
    "### Normal Distribution\n",
    "### Uniform Distribution"
   ]
  },
  {
   "cell_type": "markdown",
   "id": "7f5545e9-076e-4b0d-a8ec-dec958961a24",
   "metadata": {},
   "source": [
    "## Task 10 CDF & PDF problem\n",
    "CDF of a continuous random variable: \\\n",
    "$F(x) = 0,$ if $x<= 2$ \\\n",
    "$F(x) = ((x-2)**5) / 32,$ if $2<x<=4$ \\\n",
    "$F(x) = 1,$ if $x>4$\n",
    "\n",
    "Find f(x), M(x), D(x), σ(x)"
   ]
  },
  {
   "cell_type": "code",
   "execution_count": 2,
   "id": "fe1d8985-fe13-49af-bb9a-1b3bd5567e07",
   "metadata": {},
   "outputs": [
    {
     "data": {
      "text/latex": [
       "$\\displaystyle \\begin{cases} 0 & \\text{for}\\: x \\leq 2 \\\\\\frac{\\left(x - 2\\right)^{5}}{32} & \\text{for}\\: x \\leq 4 \\\\1 & \\text{otherwise} \\end{cases}$"
      ],
      "text/plain": [
       "Piecewise((0, x <= 2), ((x - 2)**5/32, x <= 4), (1, True))"
      ]
     },
     "metadata": {},
     "output_type": "display_data"
    },
    {
     "data": {
      "image/png": "[encoded data removed]",
      "text/plain": [
       "<Figure size 432x288 with 1 Axes>"
      ]
     },
     "metadata": {
      "needs_background": "light"
     },
     "output_type": "display_data"
    },
    {
     "data": {
      "text/plain": [
       "<sympy.plotting.plot.Plot at 0x156546b1340>"
      ]
     },
     "execution_count": 2,
     "metadata": {},
     "output_type": "execute_result"
    }
   ],
   "source": [
    "x = Symbol('x')\n",
    "F = Piecewise((0, x<=2), \n",
    "              (((x-2)**5) / 32, x<=4), \n",
    "              (1, True))\n",
    "display (F)\n",
    "plot (F)"
   ]
  },
  {
   "cell_type": "code",
   "execution_count": 3,
   "id": "89a19c11-1e59-43fc-8839-f3fbf1334835",
   "metadata": {},
   "outputs": [
    {
     "name": "stdout",
     "output_type": "stream",
     "text": [
      "probability density\n"
     ]
    },
    {
     "data": {
      "text/latex": [
       "$\\displaystyle \\begin{cases} 0 & \\text{for}\\: x \\leq 2 \\\\\\frac{5 \\left(x - 2\\right)^{4}}{32} & \\text{for}\\: x \\leq 4 \\\\0 & \\text{otherwise} \\end{cases}$"
      ],
      "text/plain": [
       "Piecewise((0, x <= 2), (5*(x - 2)**4/32, x <= 4), (0, True))"
      ]
     },
     "metadata": {},
     "output_type": "display_data"
    },
    {
     "name": "stdout",
     "output_type": "stream",
     "text": [
      "mathematical expectation: 11/3\n",
      "dispersion: 5/63\n",
      "standard deviation sqrt(35)/21\n"
     ]
    }
   ],
   "source": [
    "# probability density \n",
    "f = F.diff()\n",
    "\n",
    "# mathematical expectation\n",
    "M = integrate(x * f,(x,-oo, 2)) + \\\n",
    "    integrate(x * f,(x,2,4)) + \\\n",
    "    integrate(x * f,(x,4,oo))\n",
    "\n",
    "# dispersion (variance)\n",
    "D = integrate(x**2 * f,(x,-oo, 2)) + \\\n",
    "    integrate(x**2 * f,(x, 2, 4)) + \\\n",
    "    integrate(x**2 * f,(x, 4, oo)) - \\\n",
    "    M**2\n",
    "# standard deviation\n",
    "σ = sqrt (D)\n",
    "\n",
    "print (f'probability density')\n",
    "display (f)\n",
    "print ( f'mathematical expectation: {M}\\n'\n",
    "        f'dispersion: {D}\\n'\n",
    "        f'standard deviation {σ}')"
   ]
  },
  {
   "cell_type": "markdown",
   "id": "84675e3e-dc1b-4add-b3f2-1aeb6bdd401a",
   "metadata": {},
   "source": [
    "## Task 11 CDF & PDF problem\n",
    "CDF of a continuous random variable: \\\n",
    "$F(x) = 0,$ if $x<= 0$ \\\n",
    "$F(x) = 1/196 * (2*x**3 + 4*x**2 +x),$ if $2<x<=4$ \\\n",
    "$F(x) = 1,$ if $x>4$\n",
    "\n",
    "Find f(x), M(x), D(x)\n",
    "Find probability of X being [1;3]CDF & PDF problem¶"
   ]
  },
  {
   "cell_type": "code",
   "execution_count": 4,
   "id": "5f685215-a3e1-49a5-a258-20348995bc70",
   "metadata": {},
   "outputs": [
    {
     "data": {
      "text/latex": [
       "$\\displaystyle \\begin{cases} 0 & \\text{for}\\: x \\leq 0 \\\\0.0102040816326531 x^{3} + 0.0204081632653061 x^{2} + 0.00510204081632653 x & \\text{for}\\: x \\leq 4 \\\\1 & \\text{otherwise} \\end{cases}$"
      ],
      "text/plain": [
       "Piecewise((0, x <= 0), (0.0102040816326531*x**3 + 0.0204081632653061*x**2 + 0.00510204081632653*x, x <= 4), (1, True))"
      ]
     },
     "metadata": {},
     "output_type": "display_data"
    },
    {
     "data": {
      "image/png": "[encoded data removed]",
      "text/plain": [
       "<Figure size 432x288 with 1 Axes>"
      ]
     },
     "metadata": {
      "needs_background": "light"
     },
     "output_type": "display_data"
    },
    {
     "data": {
      "text/plain": [
       "<sympy.plotting.plot.Plot at 0x15654acb7c0>"
      ]
     },
     "execution_count": 4,
     "metadata": {},
     "output_type": "execute_result"
    }
   ],
   "source": [
    "F = Piecewise((0, x<=0), \n",
    "              (1/196 * (2*x**3 + 4*x**2 +x), x<=4), \n",
    "              (1, True))\n",
    "display (F)\n",
    "plot (F)"
   ]
  },
  {
   "cell_type": "code",
   "execution_count": 5,
   "id": "1738e688-771c-4db9-814d-f34287ae45b3",
   "metadata": {},
   "outputs": [
    {
     "name": "stdout",
     "output_type": "stream",
     "text": [
      "PDF:\n"
     ]
    },
    {
     "data": {
      "text/latex": [
       "$\\displaystyle \\begin{cases} 0 & \\text{for}\\: x \\leq 0 \\\\0.0306122448979592 x^{2} + 0.0408163265306122 x + 0.00510204081632653 & \\text{for}\\: x \\leq 4 \\\\0 & \\text{otherwise} \\end{cases}$"
      ],
      "text/plain": [
       "Piecewise((0, x <= 0), (0.0306122448979592*x**2 + 0.0408163265306122*x + 0.00510204081632653, x <= 4), (0, True))"
      ]
     },
     "metadata": {},
     "output_type": "display_data"
    },
    {
     "name": "stdout",
     "output_type": "stream",
     "text": [
      "Expectation: 2.87074829931973\n",
      "Variance: 0.749280392429080\n",
      "\n"
     ]
    }
   ],
   "source": [
    "# PDF \n",
    "f = F.diff()\n",
    "\n",
    "# Expectation\n",
    "M = integrate(x * f,(x,-oo, 0)) + \\\n",
    "    integrate(x * f,(x,0,4)) + \\\n",
    "    integrate(x * f,(x,4,oo))\n",
    "\n",
    "# Variance\n",
    "D = integrate(x**2 * f,(x,-oo, 0)) + \\\n",
    "    integrate(x**2 * f,(x, 0, 4)) + \\\n",
    "    integrate(x**2 * f,(x, 4, oo)) - \\\n",
    "    M**2\n",
    "\n",
    "print (f'PDF:')\n",
    "display (f)\n",
    "print ( f'Expectation: {M}\\n'\n",
    "        f'Variance: {D}\\n')"
   ]
  },
  {
   "cell_type": "code",
   "execution_count": 6,
   "id": "de6348e9-7bcb-4c3d-90e8-03cd6ecbcb08",
   "metadata": {},
   "outputs": [
    {
     "data": {
      "text/latex": [
       "$\\displaystyle 0.438775510204082$"
      ],
      "text/plain": [
       "0.438775510204082"
      ]
     },
     "execution_count": 6,
     "metadata": {},
     "output_type": "execute_result"
    }
   ],
   "source": [
    "x1_3 = integrate(f, (x, 1 , 3))\n",
    "x1_3"
   ]
  },
  {
   "cell_type": "markdown",
   "id": "ca77c8f0-96d4-4ef0-86ae-e1ededdfbbb6",
   "metadata": {},
   "source": [
    "## Task 12 CDF & PDF problem\n",
    "PDF of a continuous random variable:\n",
    "\n",
    "$f(x) = A*(x**2 + 2*x),$ if $(x>=2)$ & $(x<=4)$ \\\n",
    "$f(x) = 0,$ otherwise\n",
    "\n",
    "Find A, M(x), D(x)"
   ]
  },
  {
   "cell_type": "code",
   "execution_count": 7,
   "id": "1a3bf4f0-dfc7-4538-acaf-be3351dbdaa7",
   "metadata": {},
   "outputs": [
    {
     "data": {
      "text/plain": [
       "[3/92]"
      ]
     },
     "execution_count": 7,
     "metadata": {},
     "output_type": "execute_result"
    }
   ],
   "source": [
    "# find A\n",
    "A = Symbol ('A')\n",
    "\n",
    "f = Piecewise((A*(x**2 + 2*x), (x>=2) & (x<=4)), \n",
    "              (0, True))\n",
    "\n",
    "# integral of PDF equals 1\n",
    "fA = A*integrate (x**2 + 2*x, (x>=2) & (x<=4)) - 1\n",
    "A = solve(fA,A)\n",
    "A"
   ]
  },
  {
   "cell_type": "code",
   "execution_count": 8,
   "id": "cc0d0120-86e7-4505-a7ef-a72158678578",
   "metadata": {},
   "outputs": [
    {
     "name": "stdout",
     "output_type": "stream",
     "text": [
      "PDF:\n"
     ]
    },
    {
     "data": {
      "text/latex": [
       "$\\displaystyle \\begin{cases} 0.0326086956521739 x^{2} + 0.0652173913043478 x & \\text{for}\\: x \\geq 2 \\wedge x \\leq 4 \\\\0 & \\text{otherwise} \\end{cases}$"
      ],
      "text/plain": [
       "Piecewise((0.0326086956521739*x**2 + 0.0652173913043478*x, (x >= 2) & (x <= 4)), (0, True))"
      ]
     },
     "metadata": {},
     "output_type": "display_data"
    },
    {
     "name": "stdout",
     "output_type": "stream",
     "text": [
      "Expectation: 3.17391304347826\n",
      "Variance: 0.308884688090737\n"
     ]
    }
   ],
   "source": [
    "# PDF\n",
    "f = Piecewise((3/92*(x**2 + 2*x), (x>=2) & (x<=4)), \n",
    "              (0, True))\n",
    "\n",
    "# Expectation\n",
    "M = integrate(x * f,(x,2, 4))\n",
    "\n",
    "# Variance\n",
    "D = integrate(x**2 * f,(x,2, 4)) - \\\n",
    "    M**2\n",
    "\n",
    "print (f'PDF:')\n",
    "display (f)\n",
    "print ( f'Expectation: {M}\\n'\n",
    "        f'Variance: {D}')"
   ]
  },
  {
   "attachments": {
    "3c3ef14b-ca7a-48e7-ae72-433584d3f554.png": {
     "image/png": "[encoded data removed]"
    }
   },
   "cell_type": "markdown",
   "id": "be57ebb4-e810-4867-b9fc-e3b928ad1254",
   "metadata": {
    "tags": []
   },
   "source": [
    "## Task 13 CDF & PDF problem\n",
    "\n",
    "CDF of a variable is:\n",
    "\n",
    "![image.png](attachment:3c3ef14b-ca7a-48e7-ae72-433584d3f554.png)\n",
    "\n",
    "Find c and d; f(x); M(x); D(x); probability of x being [1;2]."
   ]
  },
  {
   "cell_type": "code",
   "execution_count": 9,
   "id": "53cc01f9-f7d1-4866-8f45-26cc441bd28c",
   "metadata": {},
   "outputs": [
    {
     "data": {
      "text/latex": [
       "$\\displaystyle 1$"
      ],
      "text/plain": [
       "1"
      ]
     },
     "execution_count": 9,
     "metadata": {},
     "output_type": "execute_result"
    }
   ],
   "source": [
    "# 1. The function is continuous by definition, so c = 1, d = 5\n",
    "# Verification\n",
    "x = Symbol('x')\n",
    "\n",
    "# Given CDF\n",
    "F = Piecewise((0, x<=1), \n",
    "              ((x-1)/4, x<=5), \n",
    "              (1, True))\n",
    "# PDF\n",
    "f = F.diff()\n",
    "\n",
    "# integral f(x) on the segment [0,1] must equal 1\n",
    "integrate (f,(x, 1, 5))"
   ]
  },
  {
   "cell_type": "code",
   "execution_count": 10,
   "id": "2cb742f4-d47b-4821-b14e-f5403aa67158",
   "metadata": {},
   "outputs": [
    {
     "name": "stdout",
     "output_type": "stream",
     "text": [
      "Given CDF:\n"
     ]
    },
    {
     "data": {
      "text/latex": [
       "$\\displaystyle \\begin{cases} 0 & \\text{for}\\: x \\leq 1 \\\\\\frac{x}{4} - \\frac{1}{4} & \\text{for}\\: x \\leq 5 \\\\1 & \\text{otherwise} \\end{cases}$"
      ],
      "text/plain": [
       "Piecewise((0, x <= 1), (x/4 - 1/4, x <= 5), (1, True))"
      ]
     },
     "metadata": {},
     "output_type": "display_data"
    },
    {
     "name": "stdout",
     "output_type": "stream",
     "text": [
      "PDF:\n"
     ]
    },
    {
     "data": {
      "text/latex": [
       "$\\displaystyle \\begin{cases} 0 & \\text{for}\\: x \\leq 1 \\\\\\frac{1}{4} & \\text{for}\\: x \\leq 5 \\\\0 & \\text{otherwise} \\end{cases}$"
      ],
      "text/plain": [
       "Piecewise((0, x <= 1), (1/4, x <= 5), (0, True))"
      ]
     },
     "metadata": {},
     "output_type": "display_data"
    },
    {
     "name": "stdout",
     "output_type": "stream",
     "text": [
      "Expected value: 3\n",
      "Variance: 4/3\n",
      "Probability of x being [1;2]: 1/4\n"
     ]
    }
   ],
   "source": [
    "# Expectation\n",
    "M = integrate(x * f,(x,-oo, 1)) + \\\n",
    "    integrate(x * f,(x,1,5)) + \\\n",
    "    integrate(x * f,(x,5,oo))\n",
    "\n",
    "# Variance\n",
    "D = integrate(x**2 * f,(x,-oo, 1)) + \\\n",
    "    integrate(x**2 * f,(x, 1, 5)) + \\\n",
    "    integrate(x**2 * f,(x, 5, oo)) - \\\n",
    "    M**2\n",
    "\n",
    "# Probability of x being [1;2]\n",
    "P = F.subs({x:2}) - F.subs({x:1})\n",
    "\n",
    "# Answer\n",
    "print (f'Given CDF:')\n",
    "display (F)\n",
    "print (f'PDF:')\n",
    "display (f)\n",
    "print (f'Expected value: {M}\\n' \n",
    "       f'Variance: {D}\\n' \n",
    "       f'Probability of x being [1;2]: {P}')"
   ]
  },
  {
   "cell_type": "markdown",
   "id": "d4a23940-ff06-4ede-a45d-cfc18c655d8f",
   "metadata": {},
   "source": [
    "## Task 14 Uniform distribution\n",
    "It is known that all values of a uniformly distributed random variable lie in the interval [3;9]. \n",
    "Find the probability that this random variable falls into the interval (5;7)"
   ]
  },
  {
   "cell_type": "code",
   "execution_count": 11,
   "id": "d2942690-0f66-4ca3-ab3a-3217210ecf33",
   "metadata": {},
   "outputs": [
    {
     "name": "stdout",
     "output_type": "stream",
     "text": [
      "Probability of the random variable to fall into the interval (5;7) is: 1/3\n"
     ]
    }
   ],
   "source": [
    "# In a uniform distribution, the probability density is a constant. \n",
    "# So the PDF looks like F(x) = px\n",
    "# The integral under the definition space f(x) is equal to 1 and is equal to F(xn) - F(x0)\n",
    "\n",
    "F_int = x*9 - x*3 - 1\n",
    "p = solve (F_int,x)\n",
    "p57 = 7*p[0] - 5*p[0]\n",
    "print (f'Probability of the random variable to fall into the interval (5;7) is: {p57}')"
   ]
  },
  {
   "cell_type": "markdown",
   "id": "af77550f-b67f-466a-abcc-854838cd2dc6",
   "metadata": {},
   "source": [
    "## Task 15 Normal distribution\n",
    "Random variable X has a normal distribution with expectation a = 5 and variance D(x) = 9. \n",
    "Find the probability that this random variable falls into the interval (7;12)"
   ]
  },
  {
   "cell_type": "code",
   "execution_count": 12,
   "id": "60389598-916a-4790-9f5f-c4a3ec97c328",
   "metadata": {},
   "outputs": [
    {
     "name": "stdout",
     "output_type": "stream",
     "text": [
      "2.3333 0.6667\n"
     ]
    }
   ],
   "source": [
    "Φ1 = round((7 - 5)/sqrt(9), 4)\n",
    "Φ2 = round((12 - 5)/sqrt(9), 4)\n",
    "print (Φ2, Φ1)"
   ]
  },
  {
   "cell_type": "code",
   "execution_count": 13,
   "id": "7d2548ea-7bfd-40f5-ac40-f27214cf58ff",
   "metadata": {},
   "outputs": [
    {
     "name": "stdout",
     "output_type": "stream",
     "text": [
      "Probability of the random variable to fall into the interval (7;12) is: 0.24\n"
     ]
    }
   ],
   "source": [
    "# P = Φ2(2.33) - Φ1(0.66)\n",
    "P = round(0.4898 - 0.2454, 2)\n",
    "print (f'Probability of the random variable to fall into the interval (7;12) is: {P}')"
   ]
  },
  {
   "cell_type": "markdown",
   "id": "15177536-3d43-407b-831f-43b05afc4a56",
   "metadata": {},
   "source": [
    "## Task 16 Normal distribution\n",
    "Determine PDF of a normally distributed random variable X, if  M(x) = 4 and D(x) = 12. \n",
    "Find the probability of the random variable to fall into the interval (6;10)."
   ]
  },
  {
   "cell_type": "code",
   "execution_count": 14,
   "id": "884f6c21-5d54-440d-8b72-1509e83350c9",
   "metadata": {},
   "outputs": [
    {
     "data": {
      "text/latex": [
       "$\\displaystyle 0.24$"
      ],
      "text/plain": [
       "0.24"
      ]
     },
     "execution_count": 14,
     "metadata": {},
     "output_type": "execute_result"
    }
   ],
   "source": [
    "x, mu, sigma = symbols('x, mu, sigma')\n",
    "\n",
    "def pdf (x, mu, sigma): \n",
    "    return (1/(sigma*sqrt(2*pi)))*exp(-(x-mu)**2/(2*sigma**2))\n",
    "\n",
    "P6_10 = round (integrate (pdf(x, 4, 2*sqrt(3)), (x,6,10)), 2)\n",
    "P6_10"
   ]
  }
 ],
 "metadata": {
  "kernelspec": {
   "display_name": "Python 3 (ipykernel)",
   "language": "python",
   "name": "python3"
  },
  "language_info": {
   "codemirror_mode": {
    "name": "ipython",
    "version": 3
   },
   "file_extension": ".py",
   "mimetype": "text/x-python",
   "name": "python",
   "nbconvert_exporter": "python",
   "pygments_lexer": "ipython3",
   "version": "3.9.12"
  }
 },
 "nbformat": 4,
 "nbformat_minor": 5
}
