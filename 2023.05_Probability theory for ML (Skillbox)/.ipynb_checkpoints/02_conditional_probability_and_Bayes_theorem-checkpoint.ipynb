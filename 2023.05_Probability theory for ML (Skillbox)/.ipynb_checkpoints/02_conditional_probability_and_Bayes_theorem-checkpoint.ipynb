{
 "cells": [
  {
   "cell_type": "code",
   "execution_count": 1,
   "id": "fba7a470-a72b-47d8-a83c-7ea7ab079ee3",
   "metadata": {},
   "outputs": [],
   "source": [
    "import pandas as pd\n",
    "import numpy as np\n",
    "import matplotlib.pyplot as plt\n",
    "\n",
    "from sympy import *\n",
    "from scipy.stats import *\n",
    "import random"
   ]
  },
  {
   "attachments": {
    "169010a8-9970-4f1a-98b5-50dda692cc62.png": {
     "image/png": "[encoded data removed]"
    }
   },
   "cell_type": "markdown",
   "id": "9670dfe0-f70f-44f0-9e0a-30be0c10e7b4",
   "metadata": {
    "tags": []
   },
   "source": [
    "# Bayes' theorem\n",
    "![image.png](attachment:169010a8-9970-4f1a-98b5-50dda692cc62.png)"
   ]
  },
  {
   "cell_type": "markdown",
   "id": "76a9229d-9a32-4da2-97cd-06d75ca4c492",
   "metadata": {},
   "source": [
    "## Task 5 Conditional probability (Titanic)\n",
    "Download data from $titanic.csv$, limited to the folowing parameters: $'PassengerId','Survived','Pclass','Sex'$\n",
    "\n",
    "1. Write in P_fem the probability that a random passenger on the Titanic is a woman.\n",
    "2. Write in P_1class the probability that a random Titanic passenger was traveling in first class.\n",
    "3. Write in P_surv the probability that a random passenger on the Titanic survived.\n",
    "4. Write in P_fem_surv the probability that the passenger is a woman and that the passenger survived the crash at the same time.\n",
    "5. Find the conditional probability that the passenger will survive if the passenger is a woman.\n",
    "6. By analogy, find the probability that the passenger will survive if the passenger was traveling in first class.\n",
    "7. Find the probability that the passenger will survive, provided that the passenger was traveling in first class and is a woman.\n",
    "8. Find the probability that the passenger will survive, provided that the passenger was traveling in second class and is a man.\n",
    "9. Using the calculated probabilities, find the probability that a randomly selected passenger is a woman if we know that the passenger survived.\n",
    "10. Using the calculated probabilities, find the probability that a randomly selected passenger was traveling in first class if we know that the passenger survived.\n",
    "11. Compare the obtained probabilities with the unconditional probabilities of the corresponding events. Explain the difference in meanings."
   ]
  },
  {
   "cell_type": "code",
   "execution_count": 2,
   "id": "8b3b4690-f7c2-4cdd-b5f9-cd4fcf9ddf72",
   "metadata": {
    "tags": []
   },
   "outputs": [
    {
     "data": {
      "text/html": [
       "<div>\n",
       "<style scoped>\n",
       "    .dataframe tbody tr th:only-of-type {\n",
       "        vertical-align: middle;\n",
       "    }\n",
       "\n",
       "    .dataframe tbody tr th {\n",
       "        vertical-align: top;\n",
       "    }\n",
       "\n",
       "    .dataframe thead th {\n",
       "        text-align: right;\n",
       "    }\n",
       "</style>\n",
       "<table border=\"1\" class=\"dataframe\">\n",
       "  <thead>\n",
       "    <tr style=\"text-align: right;\">\n",
       "      <th></th>\n",
       "      <th>PassengerId</th>\n",
       "      <th>Survived</th>\n",
       "      <th>Pclass</th>\n",
       "      <th>Sex</th>\n",
       "    </tr>\n",
       "  </thead>\n",
       "  <tbody>\n",
       "    <tr>\n",
       "      <th>0</th>\n",
       "      <td>1</td>\n",
       "      <td>0</td>\n",
       "      <td>3</td>\n",
       "      <td>male</td>\n",
       "    </tr>\n",
       "    <tr>\n",
       "      <th>1</th>\n",
       "      <td>2</td>\n",
       "      <td>1</td>\n",
       "      <td>1</td>\n",
       "      <td>female</td>\n",
       "    </tr>\n",
       "  </tbody>\n",
       "</table>\n",
       "</div>"
      ],
      "text/plain": [
       "   PassengerId  Survived  Pclass     Sex\n",
       "0            1         0       3    male\n",
       "1            2         1       1  female"
      ]
     },
     "execution_count": 2,
     "metadata": {},
     "output_type": "execute_result"
    }
   ],
   "source": [
    "titanic = pd.read_csv(\"data/train.csv\")\n",
    "X = titanic[['PassengerId','Survived','Pclass','Sex']]\n",
    "X.head(2)"
   ]
  },
  {
   "cell_type": "code",
   "execution_count": 3,
   "id": "2cbc34e5-ec8b-4634-bb53-c179a50d601c",
   "metadata": {},
   "outputs": [
    {
     "data": {
      "text/plain": [
       "0.35241301907968575"
      ]
     },
     "execution_count": 3,
     "metadata": {},
     "output_type": "execute_result"
    }
   ],
   "source": [
    "# 1. Write in P_fem the probability that a random passenger on the Titanic is a woman.\n",
    "P_fem = len (X[X.Sex=='female']) / len (X)\n",
    "P_fem"
   ]
  },
  {
   "cell_type": "code",
   "execution_count": 4,
   "id": "da53af40-970b-47f5-b45f-d009359ad8e0",
   "metadata": {},
   "outputs": [
    {
     "data": {
      "text/plain": [
       "0.24242424242424243"
      ]
     },
     "execution_count": 4,
     "metadata": {},
     "output_type": "execute_result"
    }
   ],
   "source": [
    "# 2. Write in P_1class the probability that a random Titanic passenger was traveling in first class.\n",
    "P_1class = len (X[X.Pclass==1]) / len (X)\n",
    "P_1class"
   ]
  },
  {
   "cell_type": "code",
   "execution_count": 5,
   "id": "19ed9b2c-d2a1-41ea-b093-c48316e28b3d",
   "metadata": {},
   "outputs": [
    {
     "data": {
      "text/plain": [
       "0.3838383838383838"
      ]
     },
     "execution_count": 5,
     "metadata": {},
     "output_type": "execute_result"
    }
   ],
   "source": [
    "# 3. Write in P_surv the probability that a random passenger on the Titanic survived.\n",
    "P_surv = len (X[X.Survived==1]) / len (X)\n",
    "P_surv"
   ]
  },
  {
   "cell_type": "code",
   "execution_count": 6,
   "id": "5637c4a7-74b9-4e3b-aead-14e2092385d7",
   "metadata": {},
   "outputs": [
    {
     "data": {
      "text/plain": [
       "0.2615039281705948"
      ]
     },
     "execution_count": 6,
     "metadata": {},
     "output_type": "execute_result"
    }
   ],
   "source": [
    "# 4. Write in P_fem_surv the probability that the passenger is a woman \n",
    "# and that the passenger survived the crash at the same time.\n",
    "P_fem_surv = len (X[(X.Survived==1) & (X.Sex=='female')]) / len (X)\n",
    "P_fem_surv"
   ]
  },
  {
   "cell_type": "code",
   "execution_count": 53,
   "id": "8ac4dfb8-d1a1-4722-ba6f-93d0361e02bf",
   "metadata": {},
   "outputs": [
    {
     "data": {
      "text/plain": [
       "0.7420382165605095"
      ]
     },
     "execution_count": 53,
     "metadata": {},
     "output_type": "execute_result"
    }
   ],
   "source": [
    "# 5. Find the conditional probability that the passenger will survive if the passenger is a woman.\n",
    "P_cond_surv_fem = P_fem_surv / P_fem\n",
    "P_cond_surv_fem"
   ]
  },
  {
   "cell_type": "code",
   "execution_count": 7,
   "id": "f59e3225-2780-42d8-860e-4012853c2dad",
   "metadata": {},
   "outputs": [
    {
     "data": {
      "text/plain": [
       "0.6296296296296297"
      ]
     },
     "execution_count": 7,
     "metadata": {},
     "output_type": "execute_result"
    }
   ],
   "source": [
    "# 6. By analogy, find the probability that the passenger will survive \n",
    "# if the passenger was traveling in first class.\n",
    "P_1class_surv = len (X[(X.Survived==1) & (X.Pclass==1)]) / len (X)\n",
    "P_cond_surv_1class = P_1class_surv / P_1class\n",
    "P_cond_surv_1class"
   ]
  },
  {
   "cell_type": "code",
   "execution_count": 8,
   "id": "313ced16-f06e-4d95-be39-a42dee4ed926",
   "metadata": {},
   "outputs": [
    {
     "data": {
      "text/plain": [
       "0.9680851063829786"
      ]
     },
     "execution_count": 8,
     "metadata": {},
     "output_type": "execute_result"
    }
   ],
   "source": [
    "# 7. Find the probability that the passenger will survive, \n",
    "# provided that the passenger was traveling in first class and is a woman.\n",
    "P_surv_1class_fem = len (X[(X.Sex=='female') & (X.Pclass==1) & (X.Survived==1)]) / len (X)\n",
    "P_1class_fem = len (X[(X.Sex=='female') & (X.Pclass==1)]) / len (X)\n",
    "P_cond_surv_1class_fem = P_surv_1class_fem / P_1class_fem\n",
    "P_cond_surv_1class_fem"
   ]
  },
  {
   "cell_type": "code",
   "execution_count": 9,
   "id": "5ebbc954-4b19-4a10-a35f-01e200fc998a",
   "metadata": {},
   "outputs": [
    {
     "data": {
      "text/plain": [
       "0.1574074074074074"
      ]
     },
     "execution_count": 9,
     "metadata": {},
     "output_type": "execute_result"
    }
   ],
   "source": [
    "# 8. Find the probability that the passenger will survive, \n",
    "# provided that the passenger was traveling in second class and is a man.\n",
    "P_surv_2class_male = len (X[(X.Sex=='male') & (X.Pclass==2) & (X.Survived==1)]) / len (X)\n",
    "P_2class_male = len (X[(X.Sex=='male') & (X.Pclass==2)]) / len (X)\n",
    "P_cond_surv_2class_male = P_surv_2class_male / P_2class_male\n",
    "P_cond_surv_2class_male"
   ]
  },
  {
   "cell_type": "code",
   "execution_count": 10,
   "id": "58462230-ada6-481e-b695-5f3c88f609f1",
   "metadata": {},
   "outputs": [
    {
     "data": {
      "text/plain": [
       "0.6812865497076023"
      ]
     },
     "execution_count": 10,
     "metadata": {},
     "output_type": "execute_result"
    }
   ],
   "source": [
    "# 9. Using the calculated probabilities, find the probability that a randomly selected passenger \n",
    "# is a woman if we know that the passenger survived.\n",
    "P_cond_fem_surv = P_fem_surv / P_surv\n",
    "P_cond_fem_surv"
   ]
  },
  {
   "cell_type": "code",
   "execution_count": 11,
   "id": "bad6ba94-797b-48dc-a74a-927677a488b1",
   "metadata": {},
   "outputs": [
    {
     "data": {
      "text/plain": [
       "0.3976608187134503"
      ]
     },
     "execution_count": 11,
     "metadata": {},
     "output_type": "execute_result"
    }
   ],
   "source": [
    "# 10. Using the calculated probabilities, find the probability that a randomly selected passenger \n",
    "# was traveling in first class if we know that the passenger survived.\n",
    "P_cond_1class_1class = P_1class_surv / P_surv\n",
    "P_cond_1class_1class"
   ]
  },
  {
   "cell_type": "code",
   "execution_count": 12,
   "id": "8881e396-a654-4392-9844-83b9a492f123",
   "metadata": {},
   "outputs": [
    {
     "name": "stdout",
     "output_type": "stream",
     "text": [
      "(hypothesis) If events occur in a single space of elementary outcomes, then the a posteriori probability will be higher than the a priori one, because the event that separates them narrows the space of outcomes, while the number of successful outcomes remains the same. Thus in a single space of elementary outcomes, all conditional probabilities will be higher than the corresponding unconditional ones.\n"
     ]
    }
   ],
   "source": [
    "# 11. Compare the obtained probabilities with the unconditional probabilities of the corresponding events. \n",
    "# Explain the difference in meanings.\n",
    "print ('(hypothesis) If events occur in a single space of elementary outcomes, then the a posteriori probability will be higher than the a priori one, because the event that separates them narrows the space of outcomes, while the number of successful outcomes remains the same. Thus in a single space of elementary outcomes, all conditional probabilities will be higher than the corresponding unconditional ones.')"
   ]
  },
  {
   "cell_type": "markdown",
   "id": "fa42d14d-aee3-40a3-ae47-183727b49db9",
   "metadata": {},
   "source": [
    "## Task 6 Conditional probability (Spam)\n",
    "Download data from $letters.xlsx$ \n",
    "- The `spam` column indicates whether a message is spam or not, \n",
    "- The `spam_words` - whether it contains words  usual for spam messages.\n",
    "\n",
    "1. Determine the ratio of spam emails to the total number of emails.\n",
    "2. Determine the ratio of emails that contain words similar to spam to the total number of emails.\n",
    "3. Determine the likelihood that an email contains spam-like words, given that it is classified as spam.\n",
    "4. Determine the likelihood that an email is classified as spam given that it contains spam-like words."
   ]
  },
  {
   "cell_type": "code",
   "execution_count": 13,
   "id": "706accf2-6b6b-49c2-8343-8c7ea092df3f",
   "metadata": {},
   "outputs": [
    {
     "data": {
      "text/html": [
       "<div>\n",
       "<style scoped>\n",
       "    .dataframe tbody tr th:only-of-type {\n",
       "        vertical-align: middle;\n",
       "    }\n",
       "\n",
       "    .dataframe tbody tr th {\n",
       "        vertical-align: top;\n",
       "    }\n",
       "\n",
       "    .dataframe thead th {\n",
       "        text-align: right;\n",
       "    }\n",
       "</style>\n",
       "<table border=\"1\" class=\"dataframe\">\n",
       "  <thead>\n",
       "    <tr style=\"text-align: right;\">\n",
       "      <th></th>\n",
       "      <th>spam</th>\n",
       "      <th>spam_words</th>\n",
       "    </tr>\n",
       "    <tr>\n",
       "      <th>id_letter</th>\n",
       "      <th></th>\n",
       "      <th></th>\n",
       "    </tr>\n",
       "  </thead>\n",
       "  <tbody>\n",
       "    <tr>\n",
       "      <th>1</th>\n",
       "      <td>да</td>\n",
       "      <td>нет</td>\n",
       "    </tr>\n",
       "    <tr>\n",
       "      <th>2</th>\n",
       "      <td>да</td>\n",
       "      <td>да</td>\n",
       "    </tr>\n",
       "  </tbody>\n",
       "</table>\n",
       "</div>"
      ],
      "text/plain": [
       "          spam spam_words\n",
       "id_letter                \n",
       "1           да        нет\n",
       "2           да         да"
      ]
     },
     "execution_count": 13,
     "metadata": {},
     "output_type": "execute_result"
    }
   ],
   "source": [
    "df = pd.read_excel('data/letters.xlsx', sheet_name='Sheet1', index_col='id_letter')\n",
    "df.head(2)"
   ]
  },
  {
   "cell_type": "code",
   "execution_count": 14,
   "id": "cbd36165-83d1-4745-b996-47a16b0bc2d0",
   "metadata": {},
   "outputs": [
    {
     "data": {
      "text/plain": [
       "0.3548387096774194"
      ]
     },
     "execution_count": 14,
     "metadata": {},
     "output_type": "execute_result"
    }
   ],
   "source": [
    "# 1. Determine the ratio of spam emails to the total number of emails.\n",
    "P_spam_letters = len (df[df.spam == 'да']) / len (df)\n",
    "P_spam_letters"
   ]
  },
  {
   "cell_type": "code",
   "execution_count": 15,
   "id": "37261de7-3861-4962-864c-4751df0e0cf8",
   "metadata": {},
   "outputs": [
    {
     "data": {
      "text/plain": [
       "0.375"
      ]
     },
     "execution_count": 15,
     "metadata": {},
     "output_type": "execute_result"
    }
   ],
   "source": [
    "# 2. Determine the ratio of emails that contain words similar to spam to the total number of emails.\n",
    "P_letters_with_spam_words = len (df[df.spam_words == 'да']) / len (df)\n",
    "P_letters_with_spam_words"
   ]
  },
  {
   "cell_type": "code",
   "execution_count": 16,
   "id": "ec7daa70-bc16-4aca-9954-b4bced455b25",
   "metadata": {},
   "outputs": [
    {
     "data": {
      "text/plain": [
       "0.3636363636363636"
      ]
     },
     "execution_count": 16,
     "metadata": {},
     "output_type": "execute_result"
    }
   ],
   "source": [
    "# 3. Determine the probability that an email contains spam-like words, given that it is classified as spam.\n",
    "P_spam_letters_with_spam_words = len (df[(df.spam_words == 'да') & (df.spam == 'да')]) / len (df)\n",
    "P_cond_spam_words_in_spam_letters = P_spam_letters_with_spam_words / P_spam_letters\n",
    "P_cond_spam_words_in_spam_letters"
   ]
  },
  {
   "cell_type": "code",
   "execution_count": 17,
   "id": "0a3b528c-f35f-47b7-90c5-6a64931840e8",
   "metadata": {},
   "outputs": [
    {
     "data": {
      "text/plain": [
       "0.3440860215053763"
      ]
     },
     "execution_count": 17,
     "metadata": {},
     "output_type": "execute_result"
    }
   ],
   "source": [
    "# 4. Determine the probability that an email is classified as spam given that it contains spam-like words.\n",
    "P_cond_spam_letters_with_spam_words = P_spam_letters_with_spam_words / P_letters_with_spam_words\n",
    "P_cond_spam_letters_with_spam_words"
   ]
  }
 ],
 "metadata": {
  "kernelspec": {
   "display_name": "Python 3 (ipykernel)",
   "language": "python",
   "name": "python3"
  },
  "language_info": {
   "codemirror_mode": {
    "name": "ipython",
    "version": 3
   },
   "file_extension": ".py",
   "mimetype": "text/x-python",
   "name": "python",
   "nbconvert_exporter": "python",
   "pygments_lexer": "ipython3",
   "version": "3.9.12"
  }
 },
 "nbformat": 4,
 "nbformat_minor": 5
}
