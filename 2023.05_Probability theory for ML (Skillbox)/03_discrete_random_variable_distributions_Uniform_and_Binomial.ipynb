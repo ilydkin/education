{
 "cells": [
  {
   "cell_type": "code",
   "execution_count": 1,
   "id": "7bbb7b32-839a-4da0-8570-505153c98f8f",
   "metadata": {},
   "outputs": [],
   "source": [
    "import pandas as pd\n",
    "import numpy as np\n",
    "import matplotlib.pyplot as plt\n",
    "\n",
    "from sympy import *\n",
    "from scipy.stats import *\n",
    "import random"
   ]
  },
  {
   "cell_type": "markdown",
   "id": "540055b3-263a-4317-90e2-ec950df7088d",
   "metadata": {
    "tags": []
   },
   "source": [
    "# Distributions"
   ]
  },
  {
   "cell_type": "markdown",
   "id": "7f2105ff-2698-4c81-b9b5-22aa59c36e94",
   "metadata": {},
   "source": [
    "## Task 7 Binomial\n",
    "There is a batch of ten parts. The probability that a part is defective in this batch is `4/5=0.8`. Determine the probability that half of the parts are defective and write a function to calculate it."
   ]
  },
  {
   "cell_type": "code",
   "execution_count": 2,
   "id": "2ea8bd31-465c-442f-8848-0e4da658beb3",
   "metadata": {},
   "outputs": [
    {
     "data": {
      "text/latex": [
       "$\\displaystyle 0.0264241152$"
      ],
      "text/plain": [
       "0.0264241152000000"
      ]
     },
     "execution_count": 2,
     "metadata": {},
     "output_type": "execute_result"
    }
   ],
   "source": [
    "def binomial_distribution (n, k, p):\n",
    "    C = factorial (n) / (factorial (k) * factorial(n-k))\n",
    "    return C * p**k * (1-p)**(n-k)\n",
    "\n",
    "binomial_distribution (10, 5, 0.8)"
   ]
  },
  {
   "cell_type": "markdown",
   "id": "1d681961-3802-4961-aac9-26b4a80ea882",
   "metadata": {},
   "source": [
    "## Task 8 Binomial\n",
    "A goalkeeper saves seven consecutive strikes. The probability of this happening is 0.3 each time. Determine the probability of the goalkeeper saving at least three strikes"
   ]
  },
  {
   "cell_type": "code",
   "execution_count": 3,
   "id": "00fb9d89-1d94-4656-8069-8dc406c9f47c",
   "metadata": {},
   "outputs": [
    {
     "data": {
      "text/latex": [
       "$\\displaystyle 0.3529305$"
      ],
      "text/plain": [
       "0.352930500000000"
      ]
     },
     "execution_count": 3,
     "metadata": {},
     "output_type": "execute_result"
    }
   ],
   "source": [
    "P = binomial_distribution (7, 3, 0.3) + \\\n",
    "    binomial_distribution (7, 4, 0.3) + \\\n",
    "    binomial_distribution (7, 5, 0.3) + \\\n",
    "    binomial_distribution (7, 6, 0.3) + \\\n",
    "    binomial_distribution (7, 7, 0.3)\n",
    "P"
   ]
  },
  {
   "cell_type": "markdown",
   "id": "d3ac58e5-ec69-49f0-9642-c15d7e2bff62",
   "metadata": {
    "tags": []
   },
   "source": [
    "## Task 9 Poisson\n",
    "You rolled a pair of dice 10 times in a row. Consider the probability of getting a pair of 2 sixes 1 time. Find it:\n",
    "- using the binomial distribution;\n",
    "- using the Poisson distribution using the law of rare events."
   ]
  },
  {
   "cell_type": "code",
   "execution_count": 4,
   "id": "8b534470-621b-4bce-b956-65ef7b51ec67",
   "metadata": {},
   "outputs": [
    {
     "data": {
      "text/latex": [
       "$\\displaystyle 0.215569538256984$"
      ],
      "text/plain": [
       "0.215569538256984"
      ]
     },
     "execution_count": 4,
     "metadata": {},
     "output_type": "execute_result"
    }
   ],
   "source": [
    "binomial_distribution (10, 1, 1/36)"
   ]
  },
  {
   "cell_type": "code",
   "execution_count": 5,
   "id": "97485b80-315f-49d7-9d35-a9a87c25d0a9",
   "metadata": {},
   "outputs": [
    {
     "data": {
      "text/latex": [
       "$\\displaystyle 0.210406980110268$"
      ],
      "text/plain": [
       "0.210406980110268"
      ]
     },
     "execution_count": 5,
     "metadata": {},
     "output_type": "execute_result"
    }
   ],
   "source": [
    "def poisson_distribution (k, λ):\n",
    "    return (exp(1)**(-λ) * λ**k) / factorial (k)\n",
    "\n",
    "# If n=>∞ U p=>0:  λ=np\n",
    "poisson_distribution (1, 10/36)"
   ]
  }
 ],
 "metadata": {
  "kernelspec": {
   "display_name": "Python 3 (ipykernel)",
   "language": "python",
   "name": "python3"
  },
  "language_info": {
   "codemirror_mode": {
    "name": "ipython",
    "version": 3
   },
   "file_extension": ".py",
   "mimetype": "text/x-python",
   "name": "python",
   "nbconvert_exporter": "python",
   "pygments_lexer": "ipython3",
   "version": "3.9.12"
  }
 },
 "nbformat": 4,
 "nbformat_minor": 5
}
