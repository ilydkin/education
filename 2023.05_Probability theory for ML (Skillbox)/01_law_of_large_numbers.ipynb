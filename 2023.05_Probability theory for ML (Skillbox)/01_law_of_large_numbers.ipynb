{
 "cells": [
  {
   "cell_type": "code",
   "execution_count": 1,
   "id": "d0306ce2-e4a5-4b7b-9bb4-1c288978256e",
   "metadata": {},
   "outputs": [],
   "source": [
    "import pandas as pd\n",
    "import numpy as np\n",
    "import matplotlib.pyplot as plt\n",
    "\n",
    "from sympy import *\n",
    "from scipy.stats import *\n",
    "import random"
   ]
  },
  {
   "cell_type": "markdown",
   "id": "c8aefe02-f5f5-46e2-8a78-094a540e3215",
   "metadata": {
    "tags": []
   },
   "source": [
    "# Law of large numbers"
   ]
  },
  {
   "cell_type": "markdown",
   "id": "95206c1d-2279-4c78-a0e2-34023507ebf9",
   "metadata": {
    "tags": []
   },
   "source": [
    "## Task 1 Coin toss\n",
    "Try simulating coin tosses using the coinToss function. The function outputs the number of trials, the percentages of heads and tails, and plots a graph showing the total percentage of heads over all trials from 1 up to the specified number of trials.\n",
    "\n",
    "- What characteristics does the plotted curve possess?\n",
    "- As the number of trials increases, what value does the percentage of heads approach? How can this be rationalized?"
   ]
  },
  {
   "cell_type": "code",
   "execution_count": 2,
   "id": "d36ddc31-9356-4d07-af08-d77643bbb197",
   "metadata": {},
   "outputs": [],
   "source": [
    "def coinToss(number):\n",
    "    recordList, proportionList, orli, reshki = [], [], 0, 0\n",
    "    rangeList = range(1, number+1) #number of tosses\n",
    "    for i in rangeList: \n",
    "        flip = random.randint(0, 1) #returns 0 (tails), or 1 (head)\n",
    "        if flip == 0:\n",
    "            recordList.append(\"О\")\n",
    "            orli += 1\n",
    "        else:\n",
    "            recordList.append(\"Р\")\n",
    "            reshki += 1\n",
    "        proportionList.append(orli/i)\n",
    "    \n",
    "    print(\"number of trials: \"+ str(number))\n",
    "    print(\"share of heads: \" + str(orli/i) + \" share of tails: \" + str(reshki/i))\n",
    "    \n",
    "    # the graph\n",
    "    plt.figure(figsize=(40, 10), dpi=30)\n",
    "    plt.plot(rangeList, proportionList)\n",
    "    plt.tick_params(axis='both', which='major', labelsize=10)\n",
    "    plt.xticks(np.arange(1, number+4, step=5))\n",
    "    plt.yticks(np.arange(0, 1.1, step=0.1))"
   ]
  },
  {
   "cell_type": "code",
   "execution_count": 3,
   "id": "40beb82d-a8a2-4041-b42c-c4b24b45dba0",
   "metadata": {},
   "outputs": [
    {
     "name": "stdout",
     "output_type": "stream",
     "text": [
      "number of trials: 5\n",
      "share of heads: 0.6 share of tails: 0.4\n",
      "None\n",
      "number of trials: 5000\n",
      "share of heads: 0.507 share of tails: 0.493\n",
      "None\n"
     ]
    },
    {
     "data": {
      "image/png": "[encoded data removed]",
      "text/plain": [
       "<Figure size 1200x300 with 1 Axes>"
      ]
     },
     "metadata": {
      "needs_background": "light"
     },
     "output_type": "display_data"
    },
    {
     "data": {
      "image/png": "[encoded data removed]",
      "text/plain": [
       "<Figure size 1200x300 with 1 Axes>"
      ]
     },
     "metadata": {
      "needs_background": "light"
     },
     "output_type": "display_data"
    }
   ],
   "source": [
    "print (coinToss(5))\n",
    "print (coinToss(5000))"
   ]
  },
  {
   "cell_type": "markdown",
   "id": "8b152b8c-9a69-42ce-9e59-2d6accd5cd18",
   "metadata": {},
   "source": [
    "**Answer**\n",
    "The algorithm exhibits the phenomenon of the law of large numbers, which implies that as the sample size increases, the sample mean converges to the expected value (in this case, 1/2). This trend is also evident from the graph."
   ]
  },
  {
   "cell_type": "markdown",
   "id": "79164197-1aaf-4a5e-bae3-da9b18e440f1",
   "metadata": {
    "tags": []
   },
   "source": [
    "## Task 2 Law of large numbers\n",
    "Try diceRoll function to simulate dice rolls. The function models a series of rolls of two dice and outputs the probability that the sum on the dice will be greater than the parameter k (the proportion of outcomes where the sum is greater than k, relative to all outcomes).\n",
    "\n",
    "1. What values will the probability converge to at a fixed k and increasing number? What happens if k is set to 6 or 8? How are the obtained probabilities related to the theoretical probabilities?\n",
    "2. What will the total sum of rolls divided by their number converge to? What will the average difference between the current roll and the obtained mean value converge to?"
   ]
  },
  {
   "cell_type": "code",
   "execution_count": 4,
   "id": "11568cd8-3cfe-4e0d-837c-4ab4caf337e0",
   "metadata": {},
   "outputs": [],
   "source": [
    "def diceRoll (number, k):\n",
    "    sumList,recordList= [], [] \n",
    "    rangeList = range(1, number+1)\n",
    "\n",
    "    for i in rangeList: \n",
    "        flip1 = random.randint(1,6) #возвращает число от 1 до 6\n",
    "        flip2 = random.randint(1,6)\n",
    "        flipsum = flip1 + flip2\n",
    "        sumList.append(flipsum)\n",
    "        recordList.append([flip1, flip2])\n",
    "    \n",
    "    print('The probability that dice sum exceedes ' +str(k) +' after ' + str(number) + \n",
    "          ' trials: ' + str(sum([x > k for x in sumList])/number))"
   ]
  },
  {
   "cell_type": "code",
   "execution_count": 5,
   "id": "b216bc31-b35e-4b84-afe2-46421fbd3977",
   "metadata": {},
   "outputs": [
    {
     "name": "stdout",
     "output_type": "stream",
     "text": [
      "The probability that dice sum exceedes 4 after 10000 trials: 0.8416\n"
     ]
    }
   ],
   "source": [
    "diceRoll(10000, 4)"
   ]
  },
  {
   "cell_type": "markdown",
   "id": "85238248-583f-4662-863b-c4f5b3b2e876",
   "metadata": {},
   "source": [
    "*1. What values will the probability converge to at a fixed k and increasing number?*\n",
    " **Experimental probability will converge to the theoretical one calculated below**"
   ]
  },
  {
   "cell_type": "code",
   "execution_count": 12,
   "id": "2a080135-c644-4ef6-b195-d53e8c30d93b",
   "metadata": {},
   "outputs": [
    {
     "name": "stdin",
     "output_type": "stream",
     "text": [
      "enter a desirable 2d6 outcome: 4\n"
     ]
    },
    {
     "name": "stdout",
     "output_type": "stream",
     "text": [
      "theoretical probability of the outcome being over 4 is 83.33%\n",
      "expected values is = 7\n"
     ]
    }
   ],
   "source": [
    "def theoretical_probability (k):\n",
    "\n",
    "    # elementary outcomes' probability\n",
    "    k2 = 1/36 \n",
    "    k3 = 2/36\n",
    "    k4 = 3/36\n",
    "    k5 = 4/36\n",
    "    k6 = 5/36\n",
    "    k7 = 6/36\n",
    "    k8 = 5/36\n",
    "    k9 = 4/36\n",
    "    k10= 3/36\n",
    "    k11= 2/36\n",
    "    k12= 1/36 \n",
    "\n",
    "    # expected value\n",
    "    M = 2 * 1/(6*6) + 3* 2/(6*6) + 4* 3/(6*6) \\\n",
    "        + 5* 4/(6*6) + 6* 5/(6*6) + 7* 6/(6*6) \\\n",
    "        + 8* 5/(6*6) + 9* 4/(6*6) + 10* 3/(6*6) \\\n",
    "        + 11* 2/(6*6) + 12* 1/(6*6)\n",
    "\n",
    "    # probability that the sum overcomes k \n",
    "    Over2 = k3+k4+k5+k6+k7+k8+k9+k10+k11+k12\n",
    "    Over3 = k4+k5+k6+k7+k8+k9+k10+k11+k12\n",
    "    Over4 = k5+k6+k7+k8+k9+k10+k11+k12\n",
    "    Over5 = k6+k7+k8+k9+k10+k11+k12\n",
    "    Over6 = k7+k8+k9+k10+k11+k12\n",
    "    Over7 = k8+k9+k10+k11+k12\n",
    "    Over8 = k9+k10+k11+k12\n",
    "    Over9 = k10+k11+k12\n",
    "    Over10= k11+k12\n",
    "    Over11= k12\n",
    "    Over12= 0\n",
    "\n",
    "    # interactive part\n",
    "    dictionary = {2:Over2, 3:Over3, 4:Over4, \n",
    "                  5:Over5, 6:Over6, 7:Over7, \n",
    "                  8:Over8, 9:Over9, 10:Over10, \n",
    "                  11:Over11, 12:Over12}\n",
    "\n",
    "    print (f'theoretical probability of the outcome being over {k} is {(round(dictionary[k], 4) * 100)}%')\n",
    "    print (f'expected values is = {int(M)}')\n",
    "\n",
    "k = int(input('enter a desirable 2d6 outcome:'))\n",
    "\n",
    "theoretical_probability (k)"
   ]
  },
  {
   "cell_type": "markdown",
   "id": "4a3d0830-7ea6-447d-832e-ba2fe1837226",
   "metadata": {},
   "source": [
    "**Answer**\n",
    "Increasing k will result in a reduction in the likelihood of a positive outcome. As the number of trials increases, the experimental probability will increasingly approximate the theoretical probability. The sample mean will converge to the expected value of 7. The average difference will tend towards zero."
   ]
  },
  {
   "cell_type": "markdown",
   "id": "321ec6c7-1405-4fa6-88c0-562887b97720",
   "metadata": {
    "tags": []
   },
   "source": [
    "## Task 4 Monte Carlo\n",
    "\n",
    "The algorithm selects two values, x and y, from the range between -1 and 1, and constructs a point in the plane with coordinates (x, y). Points that fall inside a unit circle centered at zero are colored blue, while points outside the circle are colored red. The number of points generated is determined by the n parameter.\n",
    "\n",
    "- What is the blue dot proportion tending to? How is it related to the areas of geometric shapes? \n",
    "- Analyze how the proportion of blue dots changes with an increase in the number of dots and compare it to the theoretical value of the area."
   ]
  },
  {
   "cell_type": "code",
   "execution_count": 13,
   "id": "be0ee86a-d330-41e9-a7f2-620bd84ce9cc",
   "metadata": {},
   "outputs": [],
   "source": [
    "def plot_circle(n):\n",
    "  x = 2 * np.random.random(int(n)) - 1\n",
    "  y = 2 * np.random.random(int(n)) - 1\n",
    "  insideX, insideY  = x[(x*x+y*y)<=1],y[(x*x+y*y)<=1] #координаты точек внутри\n",
    "  outsideX, outsideY = x[(x*x+y*y)>1],y[(x*x+y*y)>1] #координаты точек снаружи\n",
    "  \n",
    "  print('Number of dots inside the circle:', len(insideX))\n",
    "  print('Number of dots outside the circle:', (len(outsideX)))\n",
    "  print('Share of dots inside the circle:', len(insideX)/(len(outsideX)+len(insideX)))\n",
    "  \n",
    "  # the plot\n",
    "  fig, ax = plt.subplots(1)\n",
    "  ax.scatter(insideX, insideY, c='b', alpha=0.6, edgecolor=None)\n",
    "  ax.scatter(outsideX, outsideY, c='r', alpha=0.7, edgecolor=None)\n",
    "  ax.set_aspect('equal')\n",
    "  fig.show()"
   ]
  },
  {
   "cell_type": "code",
   "execution_count": 14,
   "id": "769b6c67-df2b-42fb-9270-5fe2bd1e2f1f",
   "metadata": {},
   "outputs": [
    {
     "name": "stdout",
     "output_type": "stream",
     "text": [
      "Number of dots inside the circle: 3977\n",
      "Number of dots outside the circle: 1023\n",
      "Share of dots inside the circle: 0.7954\n"
     ]
    },
    {
     "name": "stderr",
     "output_type": "stream",
     "text": [
      "C:\\Users\\Ivan\\AppData\\Local\\Temp\\ipykernel_16152\\3906344471.py:16: UserWarning: Matplotlib is currently using module://matplotlib_inline.backend_inline, which is a non-GUI backend, so cannot show the figure.\n",
      "  fig.show()\n"
     ]
    },
    {
     "data": {
      "image/png": "[encoded data removed]",
      "text/plain": [
       "<Figure size 432x288 with 1 Axes>"
      ]
     },
     "metadata": {
      "needs_background": "light"
     },
     "output_type": "display_data"
    }
   ],
   "source": [
    "plot_circle(5000)"
   ]
  },
  {
   "cell_type": "code",
   "execution_count": 15,
   "id": "3800b362-d596-44de-be6d-0d40c7717cd0",
   "metadata": {},
   "outputs": [
    {
     "data": {
      "text/latex": [
       "$\\displaystyle \\pi r^{2}$"
      ],
      "text/plain": [
       "pi*r**2"
      ]
     },
     "metadata": {},
     "output_type": "display_data"
    },
    {
     "data": {
      "text/latex": [
       "$\\displaystyle 0.785375$"
      ],
      "text/plain": [
       "0.785375000000000"
      ]
     },
     "execution_count": 15,
     "metadata": {},
     "output_type": "execute_result"
    }
   ],
   "source": [
    "# area of the circle\n",
    "r = symbols ('r')\n",
    "S = pi*r**2\n",
    "display (S)\n",
    "S.subs ({pi:3.1415, r:0.5})"
   ]
  },
  {
   "cell_type": "markdown",
   "id": "38fd5f31-9654-4fa7-b50a-427c8698bdbe",
   "metadata": {
    "tags": []
   },
   "source": [
    "**Answer**\n",
    "With an increasing number of points, the experimental proportion of blue points in the total sample approaches the theoretical one, which is approximately 78.5%, and is equal to the ratio of the area of the circle to the area of the square in which it is inscribed."
   ]
  },
  {
   "cell_type": "markdown",
   "id": "e5eeadc0-792f-433c-b12b-8e4a36d15295",
   "metadata": {},
   "source": [
    "## Task 3 Two dice\n",
    "\n",
    "Below are the tables with sums and products of values when throwing two dice. Using these tables, calculate the probabilities of the following complex events.\n",
    "<p align=\"left\">\n",
    "  <img src=\"https://drive.google.com/uc?id=1If1NDfwPCfLC6JHqxa5IDgXLRzrbB-sI\" alt=\"drawing\" width=\"300\"/>\n",
    "</p>\n",
    "<p align=\"left\">\n",
    "  <img src=\"https://drive.google.com/uc?id=1vWNTqND6br6XzESVSwqKjK9AqeN0-k-4\" alt=\"drawing\" width=\"300\"/>\n",
    "</p>\n",
    "\n",
    "1. The probability that the resulting sum of the values on the dice is an odd number\n",
    "2. The probability that the resulting sum of values on the dice is a multiple of three.\n",
    "3. The probability that the sum will be less than five or greater than ten.\n",
    "4. The probability that the product of the values will be equal to twelve.\n",
    "5. Probability that the product of values is odd."
   ]
  },
  {
   "cell_type": "code",
   "execution_count": 16,
   "id": "699969a0-e575-4963-a1f7-caacc0f21d36",
   "metadata": {},
   "outputs": [
    {
     "data": {
      "text/plain": [
       "0.5"
      ]
     },
     "execution_count": 16,
     "metadata": {},
     "output_type": "execute_result"
    }
   ],
   "source": [
    "# 1. The probability that the resulting sum of the values on the dice is an odd number\n",
    "18/36"
   ]
  },
  {
   "cell_type": "code",
   "execution_count": 17,
   "id": "51e3063d-70a3-4916-989e-785110f6121c",
   "metadata": {},
   "outputs": [
    {
     "data": {
      "text/plain": [
       "0.3333333333333333"
      ]
     },
     "execution_count": 17,
     "metadata": {},
     "output_type": "execute_result"
    }
   ],
   "source": [
    "# 2. The probability that the resulting sum of values on the dice is a multiple of three.\n",
    "12/36"
   ]
  },
  {
   "cell_type": "code",
   "execution_count": 18,
   "id": "7397a5c7-a3bc-46ef-979e-597904c4ec64",
   "metadata": {},
   "outputs": [
    {
     "data": {
      "text/plain": [
       "0.25"
      ]
     },
     "execution_count": 18,
     "metadata": {},
     "output_type": "execute_result"
    }
   ],
   "source": [
    "# 3. The probability that the sum will be less than five or greater than ten.\n",
    "(6+3)/36"
   ]
  },
  {
   "cell_type": "code",
   "execution_count": 19,
   "id": "894838ac-5409-4857-9703-c32675ebf8d3",
   "metadata": {},
   "outputs": [
    {
     "data": {
      "text/plain": [
       "0.1111111111111111"
      ]
     },
     "execution_count": 19,
     "metadata": {},
     "output_type": "execute_result"
    }
   ],
   "source": [
    "# 4. The probability that the product of the values will be equal to twelve.\n",
    "4/36"
   ]
  },
  {
   "cell_type": "code",
   "execution_count": 20,
   "id": "24d5e0e5-ce16-4d87-bb5c-8f03b1a92c0a",
   "metadata": {},
   "outputs": [
    {
     "data": {
      "text/plain": [
       "0.25"
      ]
     },
     "execution_count": 20,
     "metadata": {},
     "output_type": "execute_result"
    }
   ],
   "source": [
    "# 5. Probability that the product of values is odd.\n",
    "9/36"
   ]
  },
  {
   "cell_type": "code",
   "execution_count": 21,
   "id": "195f9168-1c8d-429f-aa8b-3c6283676ca1",
   "metadata": {},
   "outputs": [
    {
     "data": {
      "text/plain": [
       "0.3333333333333333"
      ]
     },
     "execution_count": 21,
     "metadata": {},
     "output_type": "execute_result"
    }
   ],
   "source": [
    "# 6. The probability that the sum of the values will be greater than or equal to their product.\n",
    "12/36"
   ]
  }
 ],
 "metadata": {
  "kernelspec": {
   "display_name": "Python 3 (ipykernel)",
   "language": "python",
   "name": "python3"
  },
  "language_info": {
   "codemirror_mode": {
    "name": "ipython",
    "version": 3
   },
   "file_extension": ".py",
   "mimetype": "text/x-python",
   "name": "python",
   "nbconvert_exporter": "python",
   "pygments_lexer": "ipython3",
   "version": "3.9.12"
  }
 },
 "nbformat": 4,
 "nbformat_minor": 5
}
