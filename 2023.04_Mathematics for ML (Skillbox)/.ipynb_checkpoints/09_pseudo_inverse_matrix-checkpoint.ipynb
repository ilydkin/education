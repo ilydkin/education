{
 "cells": [
  {
   "cell_type": "code",
   "execution_count": 4,
   "id": "c6cea852-e668-40a0-a611-2ce8389b813d",
   "metadata": {},
   "outputs": [],
   "source": [
    "from sympy import *\n",
    "init_printing(use_unicode=False, wrap_line=False, no_global=True)"
   ]
  },
  {
   "cell_type": "markdown",
   "id": "4388c8bf-edf8-4b47-8eb0-1efcdfee47a1",
   "metadata": {},
   "source": [
    "# Pseudo inverse matrix as MSEmin solution"
   ]
  },
  {
   "cell_type": "code",
   "execution_count": 5,
   "id": "abdb0a91-5f6c-4fb6-8f67-e168ddc3262b",
   "metadata": {},
   "outputs": [
    {
     "data": {
      "text/latex": [
       "$\\displaystyle \\left[\\begin{matrix}0.00609803768274186\\\\-7.00570713783129\\\\-0.559143147525604\\end{matrix}\\right]$"
      ],
      "text/plain": [
       "[0.00609803768274186]\n",
       "[                   ]\n",
       "[ -7.00570713783129 ]\n",
       "[                   ]\n",
       "[-0.559143147525604 ]"
      ]
     },
     "execution_count": 5,
     "metadata": {},
     "output_type": "execute_result"
    }
   ],
   "source": [
    "# A * best_weights = c\n",
    "\n",
    "# historical data\n",
    "A = Matrix([[ 5.0,  7.0, -5.0],\n",
    "            [ 0.0, -2.0,  2.0],\n",
    "            [-4.0, -8.0, -7.0],\n",
    "            [ 1.0,  1.0,  2.0],\n",
    "            [ 2.0, -1.0,  2.0],\n",
    "            [ 4.0,  1.0,  4.0]])\n",
    "\n",
    "# answers\n",
    "c = Matrix([-47.0, 10.0, 63.0, -1.0, -4.0, -2.0])\n",
    "\n",
    "A_pseudo_inverse = (A.T * A)**(-1) * A.T\n",
    "\n",
    "best_weights = A_pseudo_inverse * c\n",
    "best_weights"
   ]
  },
  {
   "cell_type": "code",
   "execution_count": 6,
   "id": "4e59560d-6392-48fb-b894-947bad142185",
   "metadata": {},
   "outputs": [
    {
     "name": "stdout",
     "output_type": "stream",
     "text": [
      "zero weights MSE: 1049.83333333333\n",
      "MSEmin: 36.5242879107706\n"
     ]
    }
   ],
   "source": [
    "x, y, z = symbols('x, y, z')\n",
    "\n",
    "MSE = 1 / 6 * ((5 * x + 7 * y - 5 * z + 47)**2 + \\\n",
    "               (- 2 * y + 2 * z - 10)**2 + \\\n",
    "               (-4 * x - 8 * y - 7 * z - 63)**2 + \\\n",
    "               (x + y + 2 * z + 1)**2 + \\\n",
    "               (2 * x - y + 2 * z + 4)**2 + \\\n",
    "               (4 * x + y + 4 * z + 2)**2)\n",
    "\n",
    "print ('zero weights MSE:', MSE.subs({x: 0, y: 0, z: 0}))\n",
    "print ('MSEmin:' , MSE.subs({x: best_weights[0], y: best_weights[1], z: best_weights[2]}))"
   ]
  }
 ],
 "metadata": {
  "kernelspec": {
   "display_name": "Python 3 (ipykernel)",
   "language": "python",
   "name": "python3"
  },
  "language_info": {
   "codemirror_mode": {
    "name": "ipython",
    "version": 3
   },
   "file_extension": ".py",
   "mimetype": "text/x-python",
   "name": "python",
   "nbconvert_exporter": "python",
   "pygments_lexer": "ipython3",
   "version": "3.9.12"
  },
  "toc-autonumbering": true,
  "toc-showcode": false,
  "toc-showmarkdowntxt": false,
  "toc-showtags": false
 },
 "nbformat": 4,
 "nbformat_minor": 5
}
