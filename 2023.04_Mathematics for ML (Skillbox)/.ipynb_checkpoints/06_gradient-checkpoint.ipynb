{
 "cells": [
  {
   "cell_type": "code",
   "execution_count": 1,
   "id": "0123f83c-ef72-40eb-9233-a149d48c3e75",
   "metadata": {},
   "outputs": [],
   "source": [
    "from sympy import *\n",
    "from sympy.plotting import plot\n",
    "import numpy as np\n",
    "import matplotlib.pyplot as plt\n",
    "from sympy.plotting import plot3d \n",
    "\n",
    "init_printing(use_unicode=False, wrap_line=False, no_global=True)\n",
    "x,y = symbols ('x,y')"
   ]
  },
  {
   "cell_type": "markdown",
   "id": "becae6ac-17a4-4daf-ae32-8149d06ca848",
   "metadata": {},
   "source": [
    "# Gradient"
   ]
  },
  {
   "cell_type": "code",
   "execution_count": 2,
   "id": "c057fe80-3b3c-4503-93bf-a1214e651f58",
   "metadata": {},
   "outputs": [
    {
     "data": {
      "image/png": "[encoded data removed]",
      "text/latex": [
       "$\\displaystyle 8.560825$"
      ],
      "text/plain": [
       "8.56082500000000"
      ]
     },
     "execution_count": 2,
     "metadata": {},
     "output_type": "execute_result"
    }
   ],
   "source": [
    "a1, a2 = symbols('a1, a2')\n",
    "\n",
    "# MSE on histprical data\n",
    "MSE = 1 / 4 * ((1 * a1 + 2 * a2 - 5)**2 + \\\n",
    "               (5 * a1 + 3 * a2 - 6)**2 + \\\n",
    "               (2 * a1 + 4 * a2 - 10)**2 + \\\n",
    "               (3 * a1 + 7 * a2 - 8)**2)\n",
    "\n",
    "# Random values and starting point \n",
    "MSE.subs({a1: 0.57, a2: 0.91})"
   ]
  },
  {
   "cell_type": "code",
   "execution_count": 3,
   "id": "ba353d25-5014-427b-ad21-1cfb10fa643a",
   "metadata": {},
   "outputs": [
    {
     "data": {
      "image/png": "[encoded data removed]",
      "text/latex": [
       "$\\displaystyle 6.843547449375$"
      ],
      "text/plain": [
       "6.84354744937500"
      ]
     },
     "execution_count": 3,
     "metadata": {},
     "output_type": "execute_result"
    }
   ],
   "source": [
    "#numpy.array allow vector operations\n",
    "import numpy as np\n",
    "\n",
    "# partial derivatives for MSE, also coordinates on a two-dimensional plot\n",
    "MSEa1 = diff(MSE, a1)\n",
    "MSEa2 = diff(MSE, a2)\n",
    "\n",
    "# Gradient Descent Step\n",
    "step = 0.01\n",
    "\n",
    "# Create a vector from the MSE starting point (or updatable point for the next steps)\n",
    "point = np.array([0.57, 0.91])\n",
    "# point = next_point\n",
    "\n",
    "# Make a gradient in point\n",
    "grad = np.array([MSEa1.subs({a1: point[0], a2: point[1]}), \n",
    "                 MSEa2.subs({a1: point[0], a2: point[1]})])\n",
    "\n",
    "# Gradient Descent Step\n",
    "next_point = point - grad * step\n",
    "\n",
    "# Check MSE in next_point\n",
    "MSE.subs({a1: next_point[0], a2: next_point[1]})"
   ]
  }
 ],
 "metadata": {
  "kernelspec": {
   "display_name": "Python 3 (ipykernel)",
   "language": "python",
   "name": "python3"
  },
  "language_info": {
   "codemirror_mode": {
    "name": "ipython",
    "version": 3
   },
   "file_extension": ".py",
   "mimetype": "text/x-python",
   "name": "python",
   "nbconvert_exporter": "python",
   "pygments_lexer": "ipython3",
   "version": "3.9.12"
  }
 },
 "nbformat": 4,
 "nbformat_minor": 5
}
