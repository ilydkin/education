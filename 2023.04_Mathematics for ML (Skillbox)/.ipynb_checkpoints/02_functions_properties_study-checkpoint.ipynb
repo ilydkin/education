{
 "cells": [
  {
   "cell_type": "code",
   "execution_count": 3,
   "id": "096ae138-9700-45ec-9d52-92dd00ba74f3",
   "metadata": {},
   "outputs": [],
   "source": [
    "from sympy import *\n",
    "from sympy.plotting import plot\n",
    "\n",
    "init_printing(use_unicode=False, wrap_line=False, no_global=True)\n",
    "x,y = symbols ('x,y')"
   ]
  },
  {
   "cell_type": "markdown",
   "id": "c4073995-4a75-4e4e-81be-614281e44f40",
   "metadata": {},
   "source": [
    "# Properties study of a function"
   ]
  },
  {
   "cell_type": "code",
   "execution_count": 4,
   "id": "da23abcd-598a-4899-a3ac-8f6ccb5152c6",
   "metadata": {},
   "outputs": [
    {
     "data": {
      "image/png": "[encoded data removed]",
      "text/plain": [
       "<Figure size 432x288 with 1 Axes>"
      ]
     },
     "metadata": {
      "needs_background": "light"
     },
     "output_type": "display_data"
    },
    {
     "data": {
      "text/plain": [
       "<sympy.plotting.plot.Plot at 0x284b3d8fc70>"
      ]
     },
     "execution_count": 4,
     "metadata": {},
     "output_type": "execute_result"
    }
   ],
   "source": [
    "# field restrictions\n",
    "f1 = sqrt(x)\n",
    "plot (f1, (x, 0, 100))"
   ]
  },
  {
   "cell_type": "markdown",
   "id": "a152018f-0cf0-4a79-959e-b0be42c43506",
   "metadata": {},
   "source": [
    "## Function zeros and segments of signs"
   ]
  },
  {
   "cell_type": "code",
   "execution_count": 5,
   "id": "41328972-dbf7-41f9-a08e-4ae4fa2653c5",
   "metadata": {},
   "outputs": [],
   "source": [
    "from sympy import *\n",
    "from sympy.plotting import plot\n",
    "from sympy.solvers.inequalities import solve_univariate_inequality\n",
    "init_printing (use_unicode=False, wrap_line=False, no_global=True)"
   ]
  },
  {
   "cell_type": "code",
   "execution_count": 6,
   "id": "2db9c840-31d2-4989-852c-d5c881e38681",
   "metadata": {},
   "outputs": [
    {
     "data": {
      "image/png": "[encoded data removed]",
      "text/latex": [
       "$\\displaystyle \\left[ -4, \\  1\\right]$"
      ],
      "text/plain": [
       "[-4, 1]"
      ]
     },
     "execution_count": 6,
     "metadata": {},
     "output_type": "execute_result"
    }
   ],
   "source": [
    "# This finds zeros of a function. I.e. solves the equation, if y = 0\n",
    "f = x**2 + 3*x - 4\n",
    "solve(f)"
   ]
  },
  {
   "cell_type": "code",
   "execution_count": 7,
   "id": "3edb4e0e-3b61-4f04-bb9c-9f0e4d3e0808",
   "metadata": {},
   "outputs": [
    {
     "data": {
      "image/png": "[encoded data removed]",
      "text/latex": [
       "$\\displaystyle \\left(-\\infty < x \\wedge x < -4\\right) \\vee \\left(1 < x \\wedge x < \\infty\\right)$"
      ],
      "text/plain": [
       "Or(And(-oo < x, x < -4), And(1 < x, x < oo))"
      ]
     },
     "execution_count": 7,
     "metadata": {},
     "output_type": "execute_result"
    }
   ],
   "source": [
    "# This finds the gaps of the function’s signs. I.e. solves the inequality\n",
    "solve_univariate_inequality (f>0, x)\n"
   ]
  },
  {
   "cell_type": "markdown",
   "id": "4ea764bc-f9f0-4848-bc5e-0ebb887fb74f",
   "metadata": {},
   "source": [
    "## Analytical function"
   ]
  },
  {
   "cell_type": "code",
   "execution_count": 8,
   "id": "a5fba510-8ba5-4d44-a2d9-79f17efb604c",
   "metadata": {},
   "outputs": [],
   "source": [
    "import sympy as sp\n",
    "from IPython.display import display\n",
    "\n",
    "def analyze_function(F):\n",
    "    display(F)\n",
    "    \n",
    "    # Parity/Fuzziness check\n",
    "    if F == F.subs(x, -x):\n",
    "        print('the function is even')\n",
    "    elif F == -F.subs(x, -x):\n",
    "        print('the function is odd')\n",
    "    else:\n",
    "        print('the function is of the general form')\n",
    "        \n",
    "    # zeroes of the function\n",
    "    zeroes = sp.solve(F)\n",
    "    if len(zeroes):\n",
    "        print('zeroes of the function:')\n",
    "        display(zeroes)\n",
    "    else:\n",
    "        print('the function has no zeroes')\n",
    "    \n",
    "    # gaps of the function’s signs\n",
    "    pos = sp.solve_univariate_inequality(F>0, x)\n",
    "    neg = sp.solve_univariate_inequality(F<0, x)\n",
    "    \n",
    "    if pos != False:\n",
    "        print('function is positive:')\n",
    "        display(pos)\n",
    "    if neg != False:\n",
    "        print('function is positive:')\n",
    "        display(neg)\n",
    "    \n",
    "    sp.plot(F)"
   ]
  },
  {
   "cell_type": "code",
   "execution_count": 9,
   "id": "ceb182c6-c8ef-487c-b6ad-a3a83cdf1b05",
   "metadata": {},
   "outputs": [
    {
     "data": {
      "image/png": "[encoded data removed]",
      "text/latex": [
       "$\\displaystyle 5 x + 1.5$"
      ],
      "text/plain": [
       "5*x + 1.5"
      ]
     },
     "metadata": {},
     "output_type": "display_data"
    },
    {
     "name": "stdout",
     "output_type": "stream",
     "text": [
      "the function is of the general form\n",
      "zeroes of the function:\n"
     ]
    },
    {
     "data": {
      "image/png": "[encoded data removed]",
      "text/latex": [
       "$\\displaystyle \\left[ -0.3\\right]$"
      ],
      "text/plain": [
       "[-0.3]"
      ]
     },
     "metadata": {},
     "output_type": "display_data"
    },
    {
     "name": "stdout",
     "output_type": "stream",
     "text": [
      "function is positive:\n"
     ]
    },
    {
     "data": {
      "image/png": "[encoded data removed]",
      "text/latex": [
       "$\\displaystyle -0.3 < x \\wedge x < \\infty$"
      ],
      "text/plain": [
       "And(-0.3 < x, x < oo)"
      ]
     },
     "metadata": {},
     "output_type": "display_data"
    },
    {
     "name": "stdout",
     "output_type": "stream",
     "text": [
      "function is positive:\n"
     ]
    },
    {
     "data": {
      "image/png": "[encoded data removed]",
      "text/latex": [
       "$\\displaystyle -\\infty < x \\wedge x < -0.3$"
      ],
      "text/plain": [
       "And(-oo < x, x < -0.3)"
      ]
     },
     "metadata": {},
     "output_type": "display_data"
    },
    {
     "data": {
      "image/png": "[encoded data removed]",
      "text/plain": [
       "<Figure size 432x288 with 1 Axes>"
      ]
     },
     "metadata": {
      "needs_background": "light"
     },
     "output_type": "display_data"
    }
   ],
   "source": [
    "F = 5*x + 1.5 \n",
    "analyze_function(F)"
   ]
  },
  {
   "cell_type": "code",
   "execution_count": 10,
   "id": "ad8f1fae-ccb0-4b1f-8c0b-f815b1567c1c",
   "metadata": {},
   "outputs": [
    {
     "data": {
      "image/png": "[encoded data removed]",
      "text/latex": [
       "$\\displaystyle 3 \\sqrt{x} - 15$"
      ],
      "text/plain": [
       "    ___     \n",
       "3*\\/ x  - 15"
      ]
     },
     "metadata": {},
     "output_type": "display_data"
    },
    {
     "name": "stdout",
     "output_type": "stream",
     "text": [
      "the function is of the general form\n",
      "zeroes of the function:\n"
     ]
    },
    {
     "data": {
      "image/png": "[encoded data removed]",
      "text/latex": [
       "$\\displaystyle \\left[ 25\\right]$"
      ],
      "text/plain": [
       "[25]"
      ]
     },
     "metadata": {},
     "output_type": "display_data"
    },
    {
     "name": "stdout",
     "output_type": "stream",
     "text": [
      "function is positive:\n"
     ]
    },
    {
     "data": {
      "image/png": "[encoded data removed]",
      "text/latex": [
       "$\\displaystyle 25 < x \\wedge x < \\infty$"
      ],
      "text/plain": [
       "And(25 < x, x < oo)"
      ]
     },
     "metadata": {},
     "output_type": "display_data"
    },
    {
     "name": "stdout",
     "output_type": "stream",
     "text": [
      "function is positive:\n"
     ]
    },
    {
     "data": {
      "image/png": "[encoded data removed]",
      "text/latex": [
       "$\\displaystyle 0 \\leq x \\wedge x < 25$"
      ],
      "text/plain": [
       "And(0 <= x, x < 25)"
      ]
     },
     "metadata": {},
     "output_type": "display_data"
    },
    {
     "data": {
      "image/png": "[encoded data removed]",
      "text/plain": [
       "<Figure size 432x288 with 1 Axes>"
      ]
     },
     "metadata": {
      "needs_background": "light"
     },
     "output_type": "display_data"
    }
   ],
   "source": [
    "F1 = 3 * sqrt(x) - 15\n",
    "analyze_function(F1)"
   ]
  },
  {
   "cell_type": "code",
   "execution_count": 11,
   "id": "abc87868-a828-489c-aaf6-cb2c3c7ae204",
   "metadata": {},
   "outputs": [
    {
     "data": {
      "image/png": "[encoded data removed]",
      "text/latex": [
       "$\\displaystyle 2 \\log{\\left(x \\right)} + 5$"
      ],
      "text/plain": [
       "2*log(x) + 5"
      ]
     },
     "metadata": {},
     "output_type": "display_data"
    },
    {
     "name": "stdout",
     "output_type": "stream",
     "text": [
      "the function is of the general form\n",
      "zeroes of the function:\n"
     ]
    },
    {
     "data": {
      "image/png": "[encoded data removed]",
      "text/latex": [
       "$\\displaystyle \\left[ e^{- \\frac{5}{2}}\\right]$"
      ],
      "text/plain": [
       "  -5/2 \n",
       "[e    ]"
      ]
     },
     "metadata": {},
     "output_type": "display_data"
    },
    {
     "name": "stdout",
     "output_type": "stream",
     "text": [
      "function is positive:\n"
     ]
    },
    {
     "data": {
      "image/png": "[encoded data removed]",
      "text/latex": [
       "$\\displaystyle x < \\infty \\wedge e^{- \\frac{5}{2}} < x$"
      ],
      "text/plain": [
       "   /         -5/2    \\\n",
       "And\\x < oo, e     < x/"
      ]
     },
     "metadata": {},
     "output_type": "display_data"
    },
    {
     "name": "stdout",
     "output_type": "stream",
     "text": [
      "function is positive:\n"
     ]
    },
    {
     "data": {
      "image/png": "[encoded data removed]",
      "text/latex": [
       "$\\displaystyle 0 < x \\wedge x < e^{- \\frac{5}{2}}$"
      ],
      "text/plain": [
       "   /            -5/2\\\n",
       "And\\0 < x, x < e    /"
      ]
     },
     "metadata": {},
     "output_type": "display_data"
    },
    {
     "data": {
      "image/png": "[encoded data removed]",
      "text/plain": [
       "<Figure size 432x288 with 1 Axes>"
      ]
     },
     "metadata": {
      "needs_background": "light"
     },
     "output_type": "display_data"
    }
   ],
   "source": [
    "F2 = 2 * log(x) +5\n",
    "analyze_function (F2)"
   ]
  },
  {
   "cell_type": "code",
   "execution_count": 12,
   "id": "58a5fdac-0813-4523-b4c2-0438db554d11",
   "metadata": {},
   "outputs": [
    {
     "data": {
      "image/png": "[encoded data removed]",
      "text/latex": [
       "$\\displaystyle - 5 x^{2} - 10 x + 100$"
      ],
      "text/plain": [
       "     2             \n",
       "- 5*x  - 10*x + 100"
      ]
     },
     "metadata": {},
     "output_type": "display_data"
    },
    {
     "name": "stdout",
     "output_type": "stream",
     "text": [
      "the function is of the general form\n",
      "zeroes of the function:\n"
     ]
    },
    {
     "data": {
      "image/png": "[encoded data removed]",
      "text/latex": [
       "$\\displaystyle \\left[ -1 + \\sqrt{21}, \\  - \\sqrt{21} - 1\\right]$"
      ],
      "text/plain": [
       "        ____      ____     \n",
       "[-1 + \\/ 21 , - \\/ 21  - 1]"
      ]
     },
     "metadata": {},
     "output_type": "display_data"
    },
    {
     "name": "stdout",
     "output_type": "stream",
     "text": [
      "function is positive:\n"
     ]
    },
    {
     "data": {
      "image/png": "[encoded data removed]",
      "text/latex": [
       "$\\displaystyle x < -1 + \\sqrt{21} \\wedge - \\sqrt{21} - 1 < x$"
      ],
      "text/plain": [
       "   /           ____      ____        \\\n",
       "And\\x < -1 + \\/ 21 , - \\/ 21  - 1 < x/"
      ]
     },
     "metadata": {},
     "output_type": "display_data"
    },
    {
     "name": "stdout",
     "output_type": "stream",
     "text": [
      "function is positive:\n"
     ]
    },
    {
     "data": {
      "image/png": "[encoded data removed]",
      "text/latex": [
       "$\\displaystyle \\left(-\\infty < x \\wedge x < - \\sqrt{21} - 1\\right) \\vee \\left(x < \\infty \\wedge -1 + \\sqrt{21} < x\\right)$"
      ],
      "text/plain": [
       "  /   /                 ____    \\     /               ____    \\\\\n",
       "Or\\And\\-oo < x, x < - \\/ 21  - 1/, And\\x < oo, -1 + \\/ 21  < x//"
      ]
     },
     "metadata": {},
     "output_type": "display_data"
    },
    {
     "data": {
      "image/png": "[encoded data removed]",
      "text/plain": [
       "<Figure size 432x288 with 1 Axes>"
      ]
     },
     "metadata": {
      "needs_background": "light"
     },
     "output_type": "display_data"
    }
   ],
   "source": [
    "F3 = -5 * x**2 - 10*x + 100\n",
    "analyze_function(F3)"
   ]
  },
  {
   "cell_type": "markdown",
   "id": "d7e4905a-e190-426d-974a-4bb2ab446b4f",
   "metadata": {
    "tags": []
   },
   "source": [
    "## Interactive plots"
   ]
  },
  {
   "cell_type": "code",
   "execution_count": 13,
   "id": "4188ccdf-ff93-42cb-bf8d-3cfe6f463268",
   "metadata": {},
   "outputs": [],
   "source": [
    "%matplotlib inline\n",
    "from ipywidgets import interactive\n",
    "import matplotlib.pyplot as plt\n",
    "import numpy as np"
   ]
  },
  {
   "cell_type": "code",
   "execution_count": 14,
   "id": "af105338-ade6-492f-ab7f-0dca1f4f3f51",
   "metadata": {},
   "outputs": [],
   "source": [
    "def get_polyfunc_title(koefs):\n",
    "    s_koefs = ''.join([f'+{koefs[i]}x^{len(koefs)-i-1}' if koefs[i]>0 \n",
    "                       else f'{koefs[i]}x^{len(koefs)-i-1}' if koefs[i]<0 \n",
    "                       else ''\n",
    "                       for i in range(len(koefs))])\n",
    "    expr = s_koefs.replace('x^0', '') \\\n",
    "                  .replace('+', ' + ') \\\n",
    "                  .replace('-', ' - ') \\\n",
    "                  .replace('x^1', 'x') \\\n",
    "                  .replace(' 1x', ' x')\n",
    "\n",
    "    if expr[:3]==' + ':\n",
    "        expr = expr[3:]\n",
    "    if expr:\n",
    "        return '$f(x) = ' + expr + '$'"
   ]
  },
  {
   "cell_type": "code",
   "execution_count": 15,
   "id": "eca5e080-af07-40f9-8f3c-6b27cd735536",
   "metadata": {},
   "outputs": [],
   "source": [
    "def check(f, x, y):\n",
    "    check = False not in [f(x[i])==y[i] for i in range(len(x))]\n",
    "    if not check:\n",
    "        print('Still not there')\n",
    "    else:\n",
    "        print('You have nailed it!')"
   ]
  },
  {
   "cell_type": "code",
   "execution_count": 16,
   "id": "f25b9cf5-110a-4ba7-9f3f-0bbae66b9345",
   "metadata": {},
   "outputs": [],
   "source": [
    "def parabola(a, b, c):\n",
    "    plt.figure(3)\n",
    "    plt.axhline(0, color='black')\n",
    "    plt.axvline(0, color='black')\n",
    "\n",
    "    x, y = [x for x, y in points], [y for x, y in points]\n",
    "    plt.scatter(x, y, c='r')\n",
    "\n",
    "\n",
    "    \n",
    "    if a != 0:\n",
    "        f = lambda x: a * x**2 + b * x + c\n",
    "        check(f, x, y)\n",
    "        \n",
    "        x = np.linspace(-15, 15, num=1000)\n",
    "        plt.plot(x, a * x**2 + b * x + c)\n",
    "    \n",
    "    plt.ylim(-35, 35)\n",
    "    plt.xlim(-10, 10)\n",
    "        \n",
    "    plt.title(get_polyfunc_title([a,b,c]))\n",
    "    plt.show()"
   ]
  },
  {
   "cell_type": "code",
   "execution_count": 17,
   "id": "1b5c7969-3554-4b71-bc19-7249ac6f3938",
   "metadata": {},
   "outputs": [
    {
     "data": {
      "application/vnd.jupyter.widget-view+json": {
       "model_id": "96fe317e326543b28b736305482b3063",
       "version_major": 2,
       "version_minor": 0
      },
      "text/plain": [
       "interactive(children=(IntSlider(value=0, description='a', max=5, min=-5), IntSlider(value=0, description='b', …"
      ]
     },
     "metadata": {},
     "output_type": "display_data"
    }
   ],
   "source": [
    "points = [[-2.5, 15.0], \n",
    "          [-2, 10], \n",
    "          [-1.5, 7.0], \n",
    "          [-1, 6], \n",
    "          [-0.5, 7.0], \n",
    "          [0, 10], \n",
    "          [0.5, 15.0], \n",
    "          [1, 22], \n",
    "          [1.5, 31.0]]\n",
    "\n",
    "interactive_plot = interactive(parabola, a=(-5, 5, 1), b=(-100, 100, 1), c=(-20, 20, 1))\n",
    "output = interactive_plot.children[-1]\n",
    "output.layout.height = '300px'\n",
    "interactive_plot"
   ]
  },
  {
   "cell_type": "code",
   "execution_count": 18,
   "id": "5a41684f-a3b2-4399-b81b-4ef543ae8bfb",
   "metadata": {},
   "outputs": [
    {
     "data": {
      "application/vnd.jupyter.widget-view+json": {
       "model_id": "a262d311532a42d09c41ae8a799c5dfd",
       "version_major": 2,
       "version_minor": 0
      },
      "text/plain": [
       "interactive(children=(IntSlider(value=0, description='a', max=5, min=-5), IntSlider(value=0, description='b', …"
      ]
     },
     "metadata": {},
     "output_type": "display_data"
    }
   ],
   "source": [
    "points = [[-5.0, -68.0], \n",
    "          [-3.75, -42.375], \n",
    "          [-2.5, -23.0], \n",
    "          [-1.25, -9.875], \n",
    "          [0.0, -3.0], \n",
    "          [1.25, -2.375], \n",
    "          [2.5, -8.0], \n",
    "          [3.75, -19.875], \n",
    "          [5.0, -38.0]]\n",
    "\n",
    "interactive_plot = interactive(parabola, a=(-5, 5, 1), b=(-100, 100, 1), c=(-20, 20, 1))\n",
    "output = interactive_plot.children[-1]\n",
    "output.layout.height = '300px'\n",
    "interactive_plot"
   ]
  },
  {
   "cell_type": "code",
   "execution_count": 19,
   "id": "29b87aac-3b70-4368-99a2-beee300e463a",
   "metadata": {},
   "outputs": [],
   "source": [
    "def cubic_parabola(a, b, c, d):\n",
    "    plt.figure(3)\n",
    "    plt.axhline(0, color='black')\n",
    "    plt.axvline(0, color='black')\n",
    "\n",
    "    x, y = [x for x, y in points], [y for x, y in points]\n",
    "    plt.scatter(x, y, c='r')\n",
    "    \n",
    "    if a!=0:\n",
    "        f = lambda x: a * x**3 + b * x**2 + c * x + d\n",
    "        check(f, x, y)\n",
    "        \n",
    "        x = np.linspace(-15, 15, num=1000)\n",
    "        plt.plot(x, a * x**3 + b * x**2 + c * x + d)\n",
    "        \n",
    "    plt.ylim(-35, 35)\n",
    "    plt.xlim(-5, 5)\n",
    "    \n",
    "    plt.title(get_polyfunc_title([a,b,c,d]))\n",
    "    \n",
    "    plt.show()"
   ]
  },
  {
   "cell_type": "code",
   "execution_count": 20,
   "id": "80698279-f42d-4d0c-80bc-9e97ae401206",
   "metadata": {},
   "outputs": [
    {
     "data": {
      "application/vnd.jupyter.widget-view+json": {
       "model_id": "9b924e233d854faf994e2759a5a0a098",
       "version_major": 2,
       "version_minor": 0
      },
      "text/plain": [
       "interactive(children=(IntSlider(value=0, description='a', max=15, min=-15), IntSlider(value=0, description='b'…"
      ]
     },
     "metadata": {},
     "output_type": "display_data"
    }
   ],
   "source": [
    "points = [[-0.5, -15.0],\n",
    "          [-1, -31],\n",
    "          [0, -7],\n",
    "          [0.5, -4.0],\n",
    "          [1, -3],\n",
    "          [2, 5],\n",
    "          [2.5, 18.0],\n",
    "          [3, 41]]\n",
    "\n",
    "interactive_plot = interactive(cubic_parabola, a=(-15, 15, 1), b=(-10, 10, 1), c=(-10, 10, 1), d=(-10, 10, 1))\n",
    "output = interactive_plot.children[-1]\n",
    "output.layout.height = '300px'\n",
    "interactive_plot"
   ]
  }
 ],
 "metadata": {
  "kernelspec": {
   "display_name": "Python 3 (ipykernel)",
   "language": "python",
   "name": "python3"
  },
  "language_info": {
   "codemirror_mode": {
    "name": "ipython",
    "version": 3
   },
   "file_extension": ".py",
   "mimetype": "text/x-python",
   "name": "python",
   "nbconvert_exporter": "python",
   "pygments_lexer": "ipython3",
   "version": "3.9.12"
  }
 },
 "nbformat": 4,
 "nbformat_minor": 5
}
