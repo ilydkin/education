{
 "cells": [
  {
   "cell_type": "code",
   "execution_count": 1,
   "id": "ed39b709-0941-48d5-88d5-c4ca1a3449c5",
   "metadata": {},
   "outputs": [],
   "source": [
    "from sympy import *\n",
    "init_printing(use_unicode=False, wrap_line=False, no_global=True)"
   ]
  },
  {
   "cell_type": "markdown",
   "id": "d7bf307e-c888-493a-99a8-557ccf699c3c",
   "metadata": {
    "tags": []
   },
   "source": [
    "# SLAE (system of linear algebraic equations)"
   ]
  },
  {
   "cell_type": "code",
   "execution_count": 2,
   "id": "5a2b6d5e-64d7-4936-856f-4fa4c3b82c87",
   "metadata": {},
   "outputs": [
    {
     "data": {
      "image/png": "[encoded data removed]",
      "text/latex": [
       "$\\displaystyle \\left\\{\\left( -0.0270270270270302, \\  1.05405405405406\\right)\\right\\}$"
      ],
      "text/plain": [
       "{(-0.0270270270270302, 1.05405405405406)}"
      ]
     },
     "execution_count": 2,
     "metadata": {},
     "output_type": "execute_result"
    }
   ],
   "source": [
    "# nonlinsolve can solve SLAE, but matrices cannot be passed to it\n",
    "a1, a2 = symbols('a1, a2')\n",
    "\n",
    "eq1 = 4.1 * a1 + 3.9 * a2 - 4\n",
    "eq2 = 4.7 * a1 + 4.2 * a2 - 4.3\n",
    "\n",
    "nonlinsolve([eq1, eq2], [a1, a2])"
   ]
  },
  {
   "cell_type": "code",
   "execution_count": null,
   "id": "e7bf5286-0a16-4392-b4fb-87a65758578d",
   "metadata": {},
   "outputs": [],
   "source": []
  }
 ],
 "metadata": {
  "kernelspec": {
   "display_name": "Python 3 (ipykernel)",
   "language": "python",
   "name": "python3"
  },
  "language_info": {
   "codemirror_mode": {
    "name": "ipython",
    "version": 3
   },
   "file_extension": ".py",
   "mimetype": "text/x-python",
   "name": "python",
   "nbconvert_exporter": "python",
   "pygments_lexer": "ipython3",
   "version": "3.9.12"
  }
 },
 "nbformat": 4,
 "nbformat_minor": 5
}
