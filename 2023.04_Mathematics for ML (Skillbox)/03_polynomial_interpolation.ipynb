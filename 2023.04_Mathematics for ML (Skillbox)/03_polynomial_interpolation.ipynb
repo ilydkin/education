{
 "cells": [
  {
   "cell_type": "code",
   "execution_count": 3,
   "id": "83a6741c-b739-44d8-aee5-5337a357019e",
   "metadata": {},
   "outputs": [],
   "source": [
    "from sympy import *\n",
    "from sympy.plotting import plot\n",
    "\n",
    "init_printing(use_unicode=False, wrap_line=False, no_global=True)\n",
    "x,y = symbols ('x,y')"
   ]
  },
  {
   "cell_type": "markdown",
   "id": "3a585fab-2d52-42a9-85f3-baa4d60b5d6f",
   "metadata": {},
   "source": [
    "# Polynomial interpolation "
   ]
  },
  {
   "cell_type": "code",
   "execution_count": 4,
   "id": "e5d14db4-e7fc-443f-b295-bc600566f9eb",
   "metadata": {},
   "outputs": [
    {
     "data": {
      "image/png": "[encoded data removed]",
      "text/latex": [
       "$\\displaystyle a_{0} + a_{1} x + a_{2} x^{2}$"
      ],
      "text/plain": [
       "                2\n",
       "a0 + a1*x + a2*x "
      ]
     },
     "metadata": {},
     "output_type": "display_data"
    },
    {
     "data": {
      "image/png": "[encoded data removed]",
      "text/latex": [
       "$\\displaystyle \\left\\{\\left( -1, \\  4, \\  4\\right)\\right\\}$"
      ],
      "text/plain": [
       "{(-1, 4, 4)}"
      ]
     },
     "execution_count": 4,
     "metadata": {},
     "output_type": "execute_result"
    }
   ],
   "source": [
    "a2,a1,a0 = symbols('a2,a1,a0')\n",
    "\n",
    "# Assume we have three historical cases (points). \n",
    "# It means, we can meet them by a polynomial with the elder degree of 2\n",
    "# The task is to find the coefficients a2, a1, a0 \n",
    "f = a2*x**2 + a1*x + a0\n",
    "display (f)\n",
    "\n",
    "# Historical data (coordinates of the points): [-1,-1],[2,2], [-2,-8]\n",
    "eq1 = a2 - a1 + a0 + 1\n",
    "eq2 = 4*a2 + 2*a1 + a0 - 8\n",
    "eq3 = 4*a2 - 2*a1 + a0 + 8\n",
    "\n",
    "# solve the system of equations, find coefficients\n",
    "nonlinsolve ([eq1, eq2, eq3], [a2, a1, a0]) "
   ]
  },
  {
   "cell_type": "code",
   "execution_count": 5,
   "id": "eb11b7af-fc2d-4eba-ae38-1b93b617649b",
   "metadata": {},
   "outputs": [
    {
     "data": {
      "image/png": "[encoded data removed]",
      "text/latex": [
       "$\\displaystyle - x^{2} + 4 x + 4$"
      ],
      "text/plain": [
       "   2          \n",
       "- x  + 4*x + 4"
      ]
     },
     "metadata": {},
     "output_type": "display_data"
    }
   ],
   "source": [
    "# the resolving funtion\n",
    "f1 = (-1)*x**2 + 4*x + 4\n",
    "display (f1)"
   ]
  },
  {
   "cell_type": "code",
   "execution_count": 6,
   "id": "8ade6afc-8b8c-463c-84d3-f32c5fdbbf6b",
   "metadata": {},
   "outputs": [
    {
     "data": {
      "text/plain": [
       "[<matplotlib.lines.Line2D at 0x2c241e86fa0>]"
      ]
     },
     "execution_count": 6,
     "metadata": {},
     "output_type": "execute_result"
    },
    {
     "data": {
      "image/png": "[encoded data removed]",
      "text/plain": [
       "<Figure size 432x288 with 1 Axes>"
      ]
     },
     "metadata": {
      "needs_background": "light"
     },
     "output_type": "display_data"
    }
   ],
   "source": [
    "import numpy as np\n",
    "import matplotlib.pyplot as plt\n",
    "\n",
    "x_range = np.linspace (-3, 7, num=100)\n",
    "f = lambda x: -x**2 + 4*x + 4\n",
    "plt.scatter ([-1,2,-2], [-1,8,-8], c='r')\n",
    "plt.axhline (0, color = 'black')\n",
    "plt.axvline (0, color = 'black')\n",
    "plt.plot (x_range, f(x_range))"
   ]
  },
  {
   "cell_type": "markdown",
   "id": "cf90353f-0189-4419-b8d0-4767da7b1f7f",
   "metadata": {},
   "source": [
    "## Exercises\n",
    "- 1. (−2.5,15.0),(−2,10),(−1.5,7.0) \n",
    "- 2. (−0.5,−15.0),(−1,−31),(0,−7),(0.5,−4.0)"
   ]
  },
  {
   "cell_type": "code",
   "execution_count": 7,
   "id": "abd9a364-5e08-464f-b10c-4edc2c66784e",
   "metadata": {},
   "outputs": [
    {
     "name": "stdout",
     "output_type": "stream",
     "text": [
      "{(-4.0, -28.0, -30.0)}\n"
     ]
    },
    {
     "data": {
      "text/plain": [
       "[<matplotlib.lines.Line2D at 0x2c241f6c2b0>]"
      ]
     },
     "execution_count": 7,
     "metadata": {},
     "output_type": "execute_result"
    },
    {
     "data": {
      "image/png": "[encoded data removed]",
      "text/plain": [
       "<Figure size 432x288 with 1 Axes>"
      ]
     },
     "metadata": {
      "needs_background": "light"
     },
     "output_type": "display_data"
    }
   ],
   "source": [
    "# 1. (−2.5,15.0),(−2,10),(−1.5,7.0) \n",
    "\n",
    "eq1 = 6.25*a2 -2.5*a1 + a0 - 15\n",
    "eq2 = 4*a2 - 2*a1 + a0 - 10\n",
    "eq3 = 1.25*a2 - 1.5*a1 + a0 - 7\n",
    "\n",
    "print (nonlinsolve ([eq1, eq2, eq3], [a2, a1, a0])) \n",
    "\n",
    "x_range = np.linspace (-5, 5, num=10)\n",
    "f = lambda x: -4*x**2 - 28*x - 30\n",
    "plt.scatter ([-2.5, -2,-1.5], [15,10,7], c='r')\n",
    "plt.axhline (0, color = 'black')\n",
    "plt.axvline (0, color = 'black')\n",
    "plt.plot (x_range, f(x_range))"
   ]
  },
  {
   "cell_type": "code",
   "execution_count": 8,
   "id": "3fd9db3d-0c65-469c-852b-7117a6042f7c",
   "metadata": {},
   "outputs": [
    {
     "name": "stdout",
     "output_type": "stream",
     "text": [
      "{(4.0, -10.0, 10.0, -7.0)}\n"
     ]
    },
    {
     "data": {
      "text/plain": [
       "[<matplotlib.lines.Line2D at 0x2c242001280>]"
      ]
     },
     "execution_count": 8,
     "metadata": {},
     "output_type": "execute_result"
    },
    {
     "data": {
      "image/png": "[encoded data removed]",
      "text/plain": [
       "<Figure size 432x288 with 1 Axes>"
      ]
     },
     "metadata": {
      "needs_background": "light"
     },
     "output_type": "display_data"
    }
   ],
   "source": [
    "# 2. (−0.5,−15.0),(−1,−31),(0,−7),(0.5,−4.0)\n",
    "a3,a2,a1,a0 = symbols ('a3,a2,a1,a0')\n",
    "\n",
    "eq1 = -0.125*a3 + 0.25*a2 - 0.5*a1 + a0 + 15\n",
    "eq2 = -a3 + a2 - a1 + a0 + 31\n",
    "eq3 = a0 + 7\n",
    "eq4 = 0.125*a3 + 0.25*a2 + 0.5*a1 + a0 + 4\n",
    "\n",
    "print (nonlinsolve ([eq1, eq2, eq3, eq4], [a3, a2, a1, a0]))\n",
    "\n",
    "x_range = np.linspace (-3, 7, num=100)\n",
    "f = lambda x: 4*x**3 -10*x**2 + 10*x - 7\n",
    "plt.scatter ([-0.5, -1, 0, 0.5], [-15,-31,-7,-4], c='r')\n",
    "plt.axhline (0, color = 'black')\n",
    "plt.axvline (0, color = 'black')\n",
    "plt.plot (x_range, f(x_range))"
   ]
  }
 ],
 "metadata": {
  "kernelspec": {
   "display_name": "Python 3 (ipykernel)",
   "language": "python",
   "name": "python3"
  },
  "language_info": {
   "codemirror_mode": {
    "name": "ipython",
    "version": 3
   },
   "file_extension": ".py",
   "mimetype": "text/x-python",
   "name": "python",
   "nbconvert_exporter": "python",
   "pygments_lexer": "ipython3",
   "version": "3.9.12"
  }
 },
 "nbformat": 4,
 "nbformat_minor": 5
}
