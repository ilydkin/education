{
 "cells": [
  {
   "cell_type": "code",
   "execution_count": 9,
   "id": "e2d1e858-80d4-4094-9566-097af5493603",
   "metadata": {},
   "outputs": [],
   "source": [
    "from sympy import *\n",
    "import numpy as np\n",
    "\n",
    "init_printing(use_unicode=False, wrap_line=False, no_global=True)\n",
    "x,y = symbols ('x,y')\n",
    "a1, a2 = symbols('a1, a2')"
   ]
  },
  {
   "cell_type": "markdown",
   "id": "b5a6c5ad-856a-4741-8f77-47894e3a8cf4",
   "metadata": {},
   "source": [
    "# Matrices and vectors"
   ]
  },
  {
   "cell_type": "code",
   "execution_count": 10,
   "id": "1ef8cf3d-2ec6-4a93-97f8-3736a82dba81",
   "metadata": {},
   "outputs": [
    {
     "data": {
      "image/png": "[encoded data removed]",
      "text/latex": [
       "$\\displaystyle \\left\\{\\left( -0.0270270270270284, \\  1.05405405405406\\right)\\right\\}$"
      ],
      "text/plain": [
       "{(-0.0270270270270284, 1.05405405405406)}"
      ]
     },
     "execution_count": 10,
     "metadata": {},
     "output_type": "execute_result"
    }
   ],
   "source": [
    "# linsolve allows you to pass a matrix and a vector as an argument\n",
    "# X - matrix with features\n",
    "# X_augmented - augmented matrix with answers\n",
    "\n",
    "X = Matrix([[4.1, 3.9], [4.7, 4.2]])\n",
    "X_augmented = Matrix([[4.1, 3.9, 4], [4.7, 4.2, 4.3]])\n",
    "\n",
    "# When passing an argument like this to linsolve, the function itself first of all\n",
    "# does matrix-vector scalar multiplication to get a system of equations.\n",
    "linsolve(X_augmented, [a1, a2])"
   ]
  },
  {
   "cell_type": "code",
   "execution_count": 11,
   "id": "a80b412b-3e7c-42f7-8957-4de8341cf873",
   "metadata": {},
   "outputs": [
    {
     "data": {
      "text/latex": [
       "$\\displaystyle \\left[\\begin{matrix}4.1 a_{1} + 3.9 a_{2} - 4\\\\4.7 a_{1} + 4.2 a_{2} - 4.3\\end{matrix}\\right]$"
      ],
      "text/plain": [
       "[ 4.1*a1 + 3.9*a2 - 4 ]\n",
       "[                     ]\n",
       "[4.7*a1 + 4.2*a2 - 4.3]"
      ]
     },
     "execution_count": 11,
     "metadata": {},
     "output_type": "execute_result"
    }
   ],
   "source": [
    "# Operations with matrices and vectors\n",
    "X = Matrix([[4.1, 3.9], [4.7, 4.2]])\n",
    "a = Matrix([a1, a2])\n",
    "b = Matrix([4, 4.3])\n",
    "\n",
    "X * a - b"
   ]
  },
  {
   "cell_type": "code",
   "execution_count": 12,
   "id": "a5b4a1a0-a89d-411e-a0d0-a40969bdc4a1",
   "metadata": {},
   "outputs": [
    {
     "name": "stdout",
     "output_type": "stream",
     "text": [
      "{(-1, -5)}\n",
      "{(-1, 0)}\n",
      "{(-2, -6, -1)}\n"
     ]
    }
   ],
   "source": [
    "x, y, z = symbols('x, y, z')\n",
    "\n",
    "A = Matrix([[-1,7,-34], [8,8,-48]])\n",
    "B = Matrix([[4,-7,-4], [3,-4,-3]])\n",
    "C = Matrix([[5,7,-5,-47], [0,-2,2,10], [-4,-8,-7, 63]])\n",
    "\n",
    "print (linsolve(A, [x, y]))\n",
    "print (linsolve(B, [x, y]))\n",
    "print (linsolve(C, [x, y, z]))"
   ]
  },
  {
   "cell_type": "code",
   "execution_count": 13,
   "id": "33c15f26-a396-48d6-9650-fd702988e4e1",
   "metadata": {},
   "outputs": [
    {
     "name": "stdout",
     "output_type": "stream",
     "text": [
      "\n",
      " given matrix\n"
     ]
    },
    {
     "data": {
      "text/latex": [
       "$\\displaystyle \\left[\\begin{matrix}1 & 3 & -5\\\\0 & 1 & 2\\\\0 & 0 & 1\\end{matrix}\\right]$"
      ],
      "text/plain": [
       "[1  3  -5]\n",
       "[        ]\n",
       "[0  1  2 ]\n",
       "[        ]\n",
       "[0  0  1 ]"
      ]
     },
     "metadata": {},
     "output_type": "display_data"
    },
    {
     "name": "stdout",
     "output_type": "stream",
     "text": [
      "\n",
      " its cofactor matrix\n"
     ]
    },
    {
     "data": {
      "text/latex": [
       "$\\displaystyle \\left[\\begin{matrix}1 & 0 & 0\\\\-3 & 1 & 0\\\\11 & -2 & 1\\end{matrix}\\right]$"
      ],
      "text/plain": [
       "[1   0   0]\n",
       "[         ]\n",
       "[-3  1   0]\n",
       "[         ]\n",
       "[11  -2  1]"
      ]
     },
     "metadata": {},
     "output_type": "display_data"
    },
    {
     "name": "stdout",
     "output_type": "stream",
     "text": [
      "\n",
      " transposed cofactor matrix\n"
     ]
    },
    {
     "data": {
      "text/latex": [
       "$\\displaystyle \\left[\\begin{matrix}1 & -3 & 11\\\\0 & 1 & -2\\\\0 & 0 & 1\\end{matrix}\\right]$"
      ],
      "text/plain": [
       "[1  -3  11]\n",
       "[         ]\n",
       "[0  1   -2]\n",
       "[         ]\n",
       "[0  0   1 ]"
      ]
     },
     "metadata": {},
     "output_type": "display_data"
    },
    {
     "name": "stdout",
     "output_type": "stream",
     "text": [
      "\n",
      " determinant of the matrix\n"
     ]
    },
    {
     "data": {
      "image/png": "[encoded data removed]",
      "text/latex": [
       "$\\displaystyle 1$"
      ],
      "text/plain": [
       "1"
      ]
     },
     "metadata": {},
     "output_type": "display_data"
    },
    {
     "name": "stdout",
     "output_type": "stream",
     "text": [
      "\n",
      " its inverse matrix\n"
     ]
    },
    {
     "data": {
      "text/latex": [
       "$\\displaystyle \\left[\\begin{matrix}1 & -3 & 11\\\\0 & 1 & -2\\\\0 & 0 & 1\\end{matrix}\\right]$"
      ],
      "text/plain": [
       "[1  -3  11]\n",
       "[         ]\n",
       "[0  1   -2]\n",
       "[         ]\n",
       "[0  0   1 ]"
      ]
     },
     "metadata": {},
     "output_type": "display_data"
    },
    {
     "name": "stdout",
     "output_type": "stream",
     "text": [
      "\n",
      " unit matrix (inverse matrix check)\n"
     ]
    },
    {
     "data": {
      "text/latex": [
       "$\\displaystyle \\left[\\begin{matrix}1 & 0 & 0\\\\0 & 1 & 0\\\\0 & 0 & 1\\end{matrix}\\right]$"
      ],
      "text/plain": [
       "[1  0  0]\n",
       "[       ]\n",
       "[0  1  0]\n",
       "[       ]\n",
       "[0  0  1]"
      ]
     },
     "metadata": {},
     "output_type": "display_data"
    }
   ],
   "source": [
    "# Inverse matrix and operations\n",
    "M = Matrix([[1,3,-5],[0,1,2],[0,0,1]])\n",
    "print ('\\n given matrix')\n",
    "display (M)\n",
    "\n",
    "print ('\\n its cofactor matrix')\n",
    "display (M.cofactor_matrix())\n",
    "\n",
    "print ('\\n transposed cofactor matrix')\n",
    "display (M.cofactor_matrix().T)\n",
    "\n",
    "print ('\\n determinant of the matrix')\n",
    "display (M.det())\n",
    "\n",
    "print ('\\n its inverse matrix')\n",
    "M_inverse = M.cofactor_matrix().T / M.det()\n",
    "display (M_inverse)\n",
    "\n",
    "print ('\\n unit matrix (inverse matrix check)')\n",
    "display (M*M_inverse)"
   ]
  },
  {
   "cell_type": "markdown",
   "id": "84650f22-bc86-4676-91bd-17b278388901",
   "metadata": {},
   "source": [
    "# Overdetermined linear systems of equations"
   ]
  },
  {
   "cell_type": "code",
   "execution_count": 14,
   "id": "464a164c-6555-4c7b-b706-9e730e7b04a1",
   "metadata": {},
   "outputs": [
    {
     "name": "stdout",
     "output_type": "stream",
     "text": [
      "16.8750000000000\n",
      "1.58934775845000\n"
     ]
    }
   ],
   "source": [
    "# An overdetermined system of linear equations is a system that has more equations than variables.\n",
    "# In this case, the problem is also solved through approximation using MSE\n",
    "\n",
    "a1, a2 = symbols('a1, a2')\n",
    "\n",
    "MSE = 1 / 4 * ((4.1 * a1 + 3.9 * a2 - 4.0)**2 + \\\n",
    "               (4.7 * a1 + 4.2 * a2 - 4.3)**2 + \\\n",
    "               (3.1 * a1 + 2.9 * a2 - 3.0)**2 + \\\n",
    "               (4.9 * a1 + 5.0 * a2 - 4.9)**2)\n",
    "print (MSE.subs({a1: 0, a2: 0}))\n",
    "\n",
    "MSEa1 = diff(MSE, a1)\n",
    "MSEa2 = diff(MSE, a2)\n",
    "\n",
    "step = 0.01\n",
    "point = np.array([0, 0])\n",
    "grad = np.array([MSEa1.subs({a1: point[0], a2: point[1]}), \n",
    "                 MSEa2.subs({a1: point[0], a2: point[1]})])\n",
    "\n",
    "next_point = point - step * grad\n",
    "\n",
    "print (MSE.subs({a1: next_point[0], a2: next_point[1]}))"
   ]
  },
  {
   "cell_type": "code",
   "execution_count": 19,
   "id": "d74dbc44-a8d1-4304-bc54-35307cadc4ed",
   "metadata": {},
   "outputs": [
    {
     "name": "stdout",
     "output_type": "stream",
     "text": [
      "point[0] 1049.83333333333\n"
     ]
    },
    {
     "data": {
      "image/png": "[encoded data removed]",
      "text/latex": [
       "$\\displaystyle 113.429400489876$"
      ],
      "text/plain": [
       "113.429400489876"
      ]
     },
     "execution_count": 19,
     "metadata": {},
     "output_type": "execute_result"
    }
   ],
   "source": [
    "# Another gradient descent\n",
    "x,y,z = symbols ('x, y, z')\n",
    "\n",
    "MSE = 1 / 6 * ((5*x + 7*y - 5*z + 47)**2 + \\\n",
    "               (-2*x + 2*z - 10)**2 + \\\n",
    "               (-4*x - 8*y - 7*z - 63)**2 + \\\n",
    "               (x + y + 2*z + 1)**2 + \\\n",
    "               (2*x - y + 2*z + 4)**2 + \\\n",
    "               (4*x + y + 4*z + 2)**2)\n",
    "\n",
    "print (f'point[0] {MSE.subs({x: 0, y: 0, z: 0})}')\n",
    "\n",
    "MSEx = diff(MSE, x)\n",
    "MSEy = diff(MSE, y)\n",
    "MSEz = diff(MSE, z)\n",
    "\n",
    "step = 0.01\n",
    "\n",
    "# point = np.array([0, 0, 0])\n",
    "point = next_point\n",
    "grad = np.array([MSEx.subs({x: point[0], y: point[1], z: point[2]}), \n",
    "                 MSEy.subs({x: point[0], y: point[1], z: point[2]}),\n",
    "                 MSEz.subs({x: point[0], y: point[1], z: point[2]})])\n",
    "                 \n",
    "next_point = point - step * grad\n",
    "\n",
    "MSE.subs({x: next_point[0], y: next_point[1], z:next_point[2]})"
   ]
  },
  {
   "cell_type": "code",
   "execution_count": null,
   "id": "00dd3cee-1c8f-4b60-a3a0-4012fb086d13",
   "metadata": {},
   "outputs": [],
   "source": []
  }
 ],
 "metadata": {
  "kernelspec": {
   "display_name": "Python 3 (ipykernel)",
   "language": "python",
   "name": "python3"
  },
  "language_info": {
   "codemirror_mode": {
    "name": "ipython",
    "version": 3
   },
   "file_extension": ".py",
   "mimetype": "text/x-python",
   "name": "python",
   "nbconvert_exporter": "python",
   "pygments_lexer": "ipython3",
   "version": "3.9.12"
  }
 },
 "nbformat": 4,
 "nbformat_minor": 5
}
