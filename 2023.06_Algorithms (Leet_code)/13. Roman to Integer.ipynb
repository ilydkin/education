{
 "cells": [
  {
   "cell_type": "markdown",
   "id": "72adeeba-ddd9-4b4a-a043-ea170e654152",
   "metadata": {},
   "source": [
    "# 13. Roman to Integer"
   ]
  },
  {
   "cell_type": "markdown",
   "id": "da646237-5940-4b2e-8399-03997dc3c789",
   "metadata": {
    "tags": []
   },
   "source": [
    "# Task\n",
    "Roman numerals are represented by seven different symbols: `I`, `V`, `X`, `L`, `C`, `D` and `M`.\n",
    "\n",
    "Symbol       Value\n",
    "I             1\n",
    "V             5\n",
    "X             10\n",
    "L             50\n",
    "C             100\n",
    "D             500\n",
    "M             1000\n",
    "\n",
    "For example, 2 is written as II in Roman numeral, just two ones added together. 12 is written as XII, which is simply X + II. The number 27 is written as XXVII, which is XX + V + II.\n",
    "\n",
    "Roman numerals are usually written largest to smallest from left to right. However, the numeral for four is not IIII. Instead, the number four is written as IV. Because the one is before the five we subtract it making four. The same principle applies to the number nine, which is written as IX. There are six instances where subtraction is used:\n",
    "\n",
    "I can be placed before V (5) and X (10) to make 4 and 9. \n",
    "X can be placed before L (50) and C (100) to make 40 and 90. \n",
    "C can be placed before D (500) and M (1000) to make 400 and 900.\n",
    "Given a roman numeral, convert it to an integer."
   ]
  },
  {
   "cell_type": "code",
   "execution_count": 1,
   "id": "02b14f84-203d-4517-98a2-1b2852a679c8",
   "metadata": {},
   "outputs": [],
   "source": [
    "class Solution(object):\n",
    "    def romanToInt(self, s):\n",
    "        roman_numerals = {'I': 1, \n",
    "                          'V': 5, \n",
    "                          'X': 10, \n",
    "                          'L': 50, \n",
    "                          'C': 100, \n",
    "                          'D': 500, \n",
    "                          'M': 1000}\n",
    "        \n",
    "        result = 0\n",
    "        prev_value = 0\n",
    "        for char in reversed(s):\n",
    "            current_value = roman_numerals[char]\n",
    "            if current_value >= prev_value:\n",
    "                result += current_value\n",
    "            else:\n",
    "                result -= current_value\n",
    "            prev_value = current_value\n",
    "        return result"
   ]
  },
  {
   "cell_type": "code",
   "execution_count": 2,
   "id": "0d001121-46cb-4aa8-a0ab-8eb733db1a59",
   "metadata": {},
   "outputs": [],
   "source": [
    "s1 = \"III\"\n",
    "s2 = \"LVIII\"\n",
    "s3 = \"MCMXCIV\""
   ]
  },
  {
   "cell_type": "code",
   "execution_count": 3,
   "id": "28805337-e29b-45fd-b2ec-3719c34885be",
   "metadata": {},
   "outputs": [
    {
     "name": "stdout",
     "output_type": "stream",
     "text": [
      "3 58 1994\n"
     ]
    }
   ],
   "source": [
    "sol = Solution()\n",
    "print (sol.romanToInt(s1),\n",
    "       sol.romanToInt(s2),\n",
    "       sol.romanToInt(s3))"
   ]
  },
  {
   "cell_type": "code",
   "execution_count": null,
   "id": "f4863cda-71b5-409e-8183-687a908843b3",
   "metadata": {},
   "outputs": [],
   "source": []
  }
 ],
 "metadata": {
  "kernelspec": {
   "display_name": "Python 3 (ipykernel)",
   "language": "python",
   "name": "python3"
  },
  "language_info": {
   "codemirror_mode": {
    "name": "ipython",
    "version": 3
   },
   "file_extension": ".py",
   "mimetype": "text/x-python",
   "name": "python",
   "nbconvert_exporter": "python",
   "pygments_lexer": "ipython3",
   "version": "3.9.12"
  }
 },
 "nbformat": 4,
 "nbformat_minor": 5
}
