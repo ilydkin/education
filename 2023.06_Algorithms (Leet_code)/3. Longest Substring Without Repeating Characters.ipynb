{
 "cells": [
  {
   "cell_type": "markdown",
   "id": "86e623bf-9a30-42f8-bee9-e3579a47c502",
   "metadata": {},
   "source": [
    "# 3. Longest Substring Without Repeating Characters"
   ]
  },
  {
   "cell_type": "markdown",
   "id": "32e2852b-ed80-4b36-a297-c1eee20fe85e",
   "metadata": {},
   "source": [
    "# Task\n",
    "Given a string `s`, find the length of the longest \n",
    "substring without repeating characters."
   ]
  },
  {
   "cell_type": "code",
   "execution_count": 6,
   "id": "c7ae3c2a-2240-436a-ad8d-b997f2a07b5d",
   "metadata": {},
   "outputs": [],
   "source": [
    "class Solution(object):\n",
    "    def longest(self, s: str) -> int:\n",
    "        best_score = 0\n",
    "        calc = 0\n",
    "        list_ = []\n",
    "        for i in s:\n",
    "            if i in list_:\n",
    "                list_ = list_[list_.index(i) + 1:]   \n",
    "                calc = len(list_)\n",
    "            list_.append(i)\n",
    "            calc += 1\n",
    "            if calc > best_score:\n",
    "                best_score = calc\n",
    "\n",
    "        return best_score"
   ]
  },
  {
   "cell_type": "code",
   "execution_count": 7,
   "id": "27b12372-c000-4fa1-8049-9e27041f4967",
   "metadata": {},
   "outputs": [],
   "source": [
    "s1 = 'abcabcbb'\n",
    "s2 = 'bbbbb'\n",
    "s3 = 'pwwkew'\n",
    "s4 = 'dvdf'\n",
    "s5 = 'abcdaefg'"
   ]
  },
  {
   "cell_type": "code",
   "execution_count": 11,
   "id": "82d313b6-3c7e-4521-b6d5-d152583bc2ec",
   "metadata": {},
   "outputs": [
    {
     "name": "stdout",
     "output_type": "stream",
     "text": [
      "3 1 3 3 7\n"
     ]
    }
   ],
   "source": [
    "sol = Solution()\n",
    "print (sol.longest(s1), \n",
    "       sol.longest(s2), \n",
    "       sol.longest(s3), \n",
    "       sol.longest(s4), \n",
    "       sol.longest(s5))"
   ]
  },
  {
   "cell_type": "markdown",
   "id": "e0d35ba0-823b-4fe0-a761-2f7cbb8e1cde",
   "metadata": {},
   "source": [
    "# Explanation:\n",
    "`list_ = list_[list_.index(i) + 1:]` \n",
    "\n",
    "This operation slices the `list_` by removing the first occurrence of a repeating character and everything before it. For example, when the second 'd' in the string 'dvdf' is detected, it removes the first 'd' and keeps ['v', 'd'] as a sublist of unique characters to proceed with."
   ]
  },
  {
   "cell_type": "code",
   "execution_count": null,
   "id": "2a3f5e23-2550-447e-9e9d-8e8487943bc5",
   "metadata": {},
   "outputs": [],
   "source": []
  }
 ],
 "metadata": {
  "kernelspec": {
   "display_name": "Python 3 (ipykernel)",
   "language": "python",
   "name": "python3"
  },
  "language_info": {
   "codemirror_mode": {
    "name": "ipython",
    "version": 3
   },
   "file_extension": ".py",
   "mimetype": "text/x-python",
   "name": "python",
   "nbconvert_exporter": "python",
   "pygments_lexer": "ipython3",
   "version": "3.9.12"
  }
 },
 "nbformat": 4,
 "nbformat_minor": 5
}
