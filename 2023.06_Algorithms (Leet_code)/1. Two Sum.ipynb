{
 "cells": [
  {
   "cell_type": "markdown",
   "id": "53d7d52b-9fff-445b-a570-b630ec0cd143",
   "metadata": {},
   "source": [
    "# 1. Two Sum\n",
    "Given an array of integers `nums` and an integer `target`, return *indices of the two numbers such that they add up to* `target`.\n",
    "\n",
    "You may assume that each input would have **exactly one solution**, and you may not use the *same* element twice."
   ]
  },
  {
   "cell_type": "code",
   "execution_count": 1,
   "id": "293964f1-951c-48ce-9688-b1c2feffaf44",
   "metadata": {},
   "outputs": [],
   "source": [
    "# my solution\n",
    "class Solution(object):\n",
    "    def twoSum(self, nums, target):        \n",
    "        result=[]\n",
    "        for i in range(len(nums)):\n",
    "            for j in range(i + 1, len(nums)):\n",
    "                if nums[i] + nums[j] == target:\n",
    "                    result.append(i)\n",
    "                    result.append(j)\n",
    "                    break\n",
    "        return result"
   ]
  },
  {
   "cell_type": "code",
   "execution_count": null,
   "id": "3ac67f11-fe8a-43a4-9b20-015b1ec9dc23",
   "metadata": {},
   "outputs": [],
   "source": [
    "# examplary solution\n",
    "# Approach 1: Brute Force - O(n**2)\n",
    "class Solution:\n",
    "    def twoSum(self, nums: List[int], target: int) -> List[int]:\n",
    "        for i in range(len(nums)):\n",
    "            for j in range(i + 1, len(nums)):\n",
    "                if nums[j] == target - nums[i]:\n",
    "                    return [i, j]"
   ]
  },
  {
   "cell_type": "code",
   "execution_count": null,
   "id": "bee1aea5-6079-42f1-9d09-568007cc228a",
   "metadata": {},
   "outputs": [],
   "source": [
    "# Approach 2: One-pass Hash Table - O(n)\n",
    "class Solution:\n",
    "    def twoSum(self, nums: List[int], target: int) -> List[int]:\n",
    "        hashmap = {}\n",
    "        for i in range(len(nums)):\n",
    "            complement = target - nums[i]\n",
    "            if complement in hashmap:\n",
    "                return [i, hashmap[complement]]\n",
    "            hashmap[nums[i]] = i"
   ]
  }
 ],
 "metadata": {
  "kernelspec": {
   "display_name": "Python 3 (ipykernel)",
   "language": "python",
   "name": "python3"
  },
  "language_info": {
   "codemirror_mode": {
    "name": "ipython",
    "version": 3
   },
   "file_extension": ".py",
   "mimetype": "text/x-python",
   "name": "python",
   "nbconvert_exporter": "python",
   "pygments_lexer": "ipython3",
   "version": "3.9.12"
  }
 },
 "nbformat": 4,
 "nbformat_minor": 5
}
